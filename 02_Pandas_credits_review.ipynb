{
 "cells": [
  {
   "cell_type": "markdown",
   "id": "3105e03c",
   "metadata": {
    "deletable": false,
    "editable": false,
    "id": "c81daeeb"
   },
   "source": [
    "# Исследование надежности заемщиков\n"
   ]
  },
  {
   "cell_type": "markdown",
   "id": "6d92e0b4",
   "metadata": {
    "deletable": false,
    "editable": false,
    "id": "827c20bf"
   },
   "source": [
    "Во второй части проекта вы выполните шаги 3 и 4. Их вручную проверит ревьюер.\n",
    "Чтобы вам не пришлось писать код заново для шагов 1 и 2, мы добавили авторские решения в ячейки с кодом. \n",
    "\n"
   ]
  },
  {
   "cell_type": "markdown",
   "id": "68b40518",
   "metadata": {
    "deletable": false,
    "editable": false,
    "id": "744d7639"
   },
   "source": [
    "## Откройте таблицу и изучите общую информацию о данных"
   ]
  },
  {
   "cell_type": "markdown",
   "id": "7e29c346",
   "metadata": {
    "deletable": false,
    "editable": false,
    "id": "e7a14c31"
   },
   "source": [
    "**Задание 1. Импортируйте библиотеку pandas. Считайте данные из csv-файла в датафрейм и сохраните в переменную `data`. Путь к файлу:**\n",
    "\n",
    "`/datasets/data.csv`"
   ]
  },
  {
   "cell_type": "code",
   "execution_count": 1,
   "id": "c279af6a",
   "metadata": {
    "deletable": false,
    "id": "7bcf75c9"
   },
   "outputs": [],
   "source": [
    "import pandas as pd\n",
    "import seaborn as sb\n",
    "\n",
    "try:\n",
    "    data = pd.read_csv('/datasets/data.csv')\n",
    "except:\n",
    "    data = pd.read_csv('https://code.s3.yandex.net/datasets/data.csv')"
   ]
  },
  {
   "cell_type": "markdown",
   "id": "c05a6af1",
   "metadata": {
    "deletable": false,
    "editable": false,
    "id": "b8038fe3"
   },
   "source": [
    "**Задание 2. Выведите первые 20 строчек датафрейма `data` на экран.**"
   ]
  },
  {
   "cell_type": "code",
   "execution_count": 2,
   "id": "9de60173",
   "metadata": {
    "deletable": false,
    "id": "2a7cab99",
    "outputId": "1a8f3ef2-d323-4ec2-ddf7-89670b5944c4"
   },
   "outputs": [
    {
     "data": {
      "text/html": [
       "<div>\n",
       "<style scoped>\n",
       "    .dataframe tbody tr th:only-of-type {\n",
       "        vertical-align: middle;\n",
       "    }\n",
       "\n",
       "    .dataframe tbody tr th {\n",
       "        vertical-align: top;\n",
       "    }\n",
       "\n",
       "    .dataframe thead th {\n",
       "        text-align: right;\n",
       "    }\n",
       "</style>\n",
       "<table border=\"1\" class=\"dataframe\">\n",
       "  <thead>\n",
       "    <tr style=\"text-align: right;\">\n",
       "      <th></th>\n",
       "      <th>children</th>\n",
       "      <th>days_employed</th>\n",
       "      <th>dob_years</th>\n",
       "      <th>education</th>\n",
       "      <th>education_id</th>\n",
       "      <th>family_status</th>\n",
       "      <th>family_status_id</th>\n",
       "      <th>gender</th>\n",
       "      <th>income_type</th>\n",
       "      <th>debt</th>\n",
       "      <th>total_income</th>\n",
       "      <th>purpose</th>\n",
       "    </tr>\n",
       "  </thead>\n",
       "  <tbody>\n",
       "    <tr>\n",
       "      <th>0</th>\n",
       "      <td>1</td>\n",
       "      <td>-8437.673028</td>\n",
       "      <td>42</td>\n",
       "      <td>высшее</td>\n",
       "      <td>0</td>\n",
       "      <td>женат / замужем</td>\n",
       "      <td>0</td>\n",
       "      <td>F</td>\n",
       "      <td>сотрудник</td>\n",
       "      <td>0</td>\n",
       "      <td>253875.639453</td>\n",
       "      <td>покупка жилья</td>\n",
       "    </tr>\n",
       "    <tr>\n",
       "      <th>1</th>\n",
       "      <td>1</td>\n",
       "      <td>-4024.803754</td>\n",
       "      <td>36</td>\n",
       "      <td>среднее</td>\n",
       "      <td>1</td>\n",
       "      <td>женат / замужем</td>\n",
       "      <td>0</td>\n",
       "      <td>F</td>\n",
       "      <td>сотрудник</td>\n",
       "      <td>0</td>\n",
       "      <td>112080.014102</td>\n",
       "      <td>приобретение автомобиля</td>\n",
       "    </tr>\n",
       "    <tr>\n",
       "      <th>2</th>\n",
       "      <td>0</td>\n",
       "      <td>-5623.422610</td>\n",
       "      <td>33</td>\n",
       "      <td>Среднее</td>\n",
       "      <td>1</td>\n",
       "      <td>женат / замужем</td>\n",
       "      <td>0</td>\n",
       "      <td>M</td>\n",
       "      <td>сотрудник</td>\n",
       "      <td>0</td>\n",
       "      <td>145885.952297</td>\n",
       "      <td>покупка жилья</td>\n",
       "    </tr>\n",
       "    <tr>\n",
       "      <th>3</th>\n",
       "      <td>3</td>\n",
       "      <td>-4124.747207</td>\n",
       "      <td>32</td>\n",
       "      <td>среднее</td>\n",
       "      <td>1</td>\n",
       "      <td>женат / замужем</td>\n",
       "      <td>0</td>\n",
       "      <td>M</td>\n",
       "      <td>сотрудник</td>\n",
       "      <td>0</td>\n",
       "      <td>267628.550329</td>\n",
       "      <td>дополнительное образование</td>\n",
       "    </tr>\n",
       "    <tr>\n",
       "      <th>4</th>\n",
       "      <td>0</td>\n",
       "      <td>340266.072047</td>\n",
       "      <td>53</td>\n",
       "      <td>среднее</td>\n",
       "      <td>1</td>\n",
       "      <td>гражданский брак</td>\n",
       "      <td>1</td>\n",
       "      <td>F</td>\n",
       "      <td>пенсионер</td>\n",
       "      <td>0</td>\n",
       "      <td>158616.077870</td>\n",
       "      <td>сыграть свадьбу</td>\n",
       "    </tr>\n",
       "    <tr>\n",
       "      <th>5</th>\n",
       "      <td>0</td>\n",
       "      <td>-926.185831</td>\n",
       "      <td>27</td>\n",
       "      <td>высшее</td>\n",
       "      <td>0</td>\n",
       "      <td>гражданский брак</td>\n",
       "      <td>1</td>\n",
       "      <td>M</td>\n",
       "      <td>компаньон</td>\n",
       "      <td>0</td>\n",
       "      <td>255763.565419</td>\n",
       "      <td>покупка жилья</td>\n",
       "    </tr>\n",
       "    <tr>\n",
       "      <th>6</th>\n",
       "      <td>0</td>\n",
       "      <td>-2879.202052</td>\n",
       "      <td>43</td>\n",
       "      <td>высшее</td>\n",
       "      <td>0</td>\n",
       "      <td>женат / замужем</td>\n",
       "      <td>0</td>\n",
       "      <td>F</td>\n",
       "      <td>компаньон</td>\n",
       "      <td>0</td>\n",
       "      <td>240525.971920</td>\n",
       "      <td>операции с жильем</td>\n",
       "    </tr>\n",
       "    <tr>\n",
       "      <th>7</th>\n",
       "      <td>0</td>\n",
       "      <td>-152.779569</td>\n",
       "      <td>50</td>\n",
       "      <td>СРЕДНЕЕ</td>\n",
       "      <td>1</td>\n",
       "      <td>женат / замужем</td>\n",
       "      <td>0</td>\n",
       "      <td>M</td>\n",
       "      <td>сотрудник</td>\n",
       "      <td>0</td>\n",
       "      <td>135823.934197</td>\n",
       "      <td>образование</td>\n",
       "    </tr>\n",
       "    <tr>\n",
       "      <th>8</th>\n",
       "      <td>2</td>\n",
       "      <td>-6929.865299</td>\n",
       "      <td>35</td>\n",
       "      <td>ВЫСШЕЕ</td>\n",
       "      <td>0</td>\n",
       "      <td>гражданский брак</td>\n",
       "      <td>1</td>\n",
       "      <td>F</td>\n",
       "      <td>сотрудник</td>\n",
       "      <td>0</td>\n",
       "      <td>95856.832424</td>\n",
       "      <td>на проведение свадьбы</td>\n",
       "    </tr>\n",
       "    <tr>\n",
       "      <th>9</th>\n",
       "      <td>0</td>\n",
       "      <td>-2188.756445</td>\n",
       "      <td>41</td>\n",
       "      <td>среднее</td>\n",
       "      <td>1</td>\n",
       "      <td>женат / замужем</td>\n",
       "      <td>0</td>\n",
       "      <td>M</td>\n",
       "      <td>сотрудник</td>\n",
       "      <td>0</td>\n",
       "      <td>144425.938277</td>\n",
       "      <td>покупка жилья для семьи</td>\n",
       "    </tr>\n",
       "    <tr>\n",
       "      <th>10</th>\n",
       "      <td>2</td>\n",
       "      <td>-4171.483647</td>\n",
       "      <td>36</td>\n",
       "      <td>высшее</td>\n",
       "      <td>0</td>\n",
       "      <td>женат / замужем</td>\n",
       "      <td>0</td>\n",
       "      <td>M</td>\n",
       "      <td>компаньон</td>\n",
       "      <td>0</td>\n",
       "      <td>113943.491460</td>\n",
       "      <td>покупка недвижимости</td>\n",
       "    </tr>\n",
       "    <tr>\n",
       "      <th>11</th>\n",
       "      <td>0</td>\n",
       "      <td>-792.701887</td>\n",
       "      <td>40</td>\n",
       "      <td>среднее</td>\n",
       "      <td>1</td>\n",
       "      <td>женат / замужем</td>\n",
       "      <td>0</td>\n",
       "      <td>F</td>\n",
       "      <td>сотрудник</td>\n",
       "      <td>0</td>\n",
       "      <td>77069.234271</td>\n",
       "      <td>покупка коммерческой недвижимости</td>\n",
       "    </tr>\n",
       "    <tr>\n",
       "      <th>12</th>\n",
       "      <td>0</td>\n",
       "      <td>NaN</td>\n",
       "      <td>65</td>\n",
       "      <td>среднее</td>\n",
       "      <td>1</td>\n",
       "      <td>гражданский брак</td>\n",
       "      <td>1</td>\n",
       "      <td>M</td>\n",
       "      <td>пенсионер</td>\n",
       "      <td>0</td>\n",
       "      <td>NaN</td>\n",
       "      <td>сыграть свадьбу</td>\n",
       "    </tr>\n",
       "    <tr>\n",
       "      <th>13</th>\n",
       "      <td>0</td>\n",
       "      <td>-1846.641941</td>\n",
       "      <td>54</td>\n",
       "      <td>неоконченное высшее</td>\n",
       "      <td>2</td>\n",
       "      <td>женат / замужем</td>\n",
       "      <td>0</td>\n",
       "      <td>F</td>\n",
       "      <td>сотрудник</td>\n",
       "      <td>0</td>\n",
       "      <td>130458.228857</td>\n",
       "      <td>приобретение автомобиля</td>\n",
       "    </tr>\n",
       "    <tr>\n",
       "      <th>14</th>\n",
       "      <td>0</td>\n",
       "      <td>-1844.956182</td>\n",
       "      <td>56</td>\n",
       "      <td>высшее</td>\n",
       "      <td>0</td>\n",
       "      <td>гражданский брак</td>\n",
       "      <td>1</td>\n",
       "      <td>F</td>\n",
       "      <td>компаньон</td>\n",
       "      <td>1</td>\n",
       "      <td>165127.911772</td>\n",
       "      <td>покупка жилой недвижимости</td>\n",
       "    </tr>\n",
       "    <tr>\n",
       "      <th>15</th>\n",
       "      <td>1</td>\n",
       "      <td>-972.364419</td>\n",
       "      <td>26</td>\n",
       "      <td>среднее</td>\n",
       "      <td>1</td>\n",
       "      <td>женат / замужем</td>\n",
       "      <td>0</td>\n",
       "      <td>F</td>\n",
       "      <td>сотрудник</td>\n",
       "      <td>0</td>\n",
       "      <td>116820.904450</td>\n",
       "      <td>строительство собственной недвижимости</td>\n",
       "    </tr>\n",
       "    <tr>\n",
       "      <th>16</th>\n",
       "      <td>0</td>\n",
       "      <td>-1719.934226</td>\n",
       "      <td>35</td>\n",
       "      <td>среднее</td>\n",
       "      <td>1</td>\n",
       "      <td>женат / замужем</td>\n",
       "      <td>0</td>\n",
       "      <td>F</td>\n",
       "      <td>сотрудник</td>\n",
       "      <td>0</td>\n",
       "      <td>289202.704229</td>\n",
       "      <td>недвижимость</td>\n",
       "    </tr>\n",
       "    <tr>\n",
       "      <th>17</th>\n",
       "      <td>0</td>\n",
       "      <td>-2369.999720</td>\n",
       "      <td>33</td>\n",
       "      <td>высшее</td>\n",
       "      <td>0</td>\n",
       "      <td>гражданский брак</td>\n",
       "      <td>1</td>\n",
       "      <td>M</td>\n",
       "      <td>сотрудник</td>\n",
       "      <td>0</td>\n",
       "      <td>90410.586745</td>\n",
       "      <td>строительство недвижимости</td>\n",
       "    </tr>\n",
       "    <tr>\n",
       "      <th>18</th>\n",
       "      <td>0</td>\n",
       "      <td>400281.136913</td>\n",
       "      <td>53</td>\n",
       "      <td>среднее</td>\n",
       "      <td>1</td>\n",
       "      <td>вдовец / вдова</td>\n",
       "      <td>2</td>\n",
       "      <td>F</td>\n",
       "      <td>пенсионер</td>\n",
       "      <td>0</td>\n",
       "      <td>56823.777243</td>\n",
       "      <td>на покупку подержанного автомобиля</td>\n",
       "    </tr>\n",
       "    <tr>\n",
       "      <th>19</th>\n",
       "      <td>0</td>\n",
       "      <td>-10038.818549</td>\n",
       "      <td>48</td>\n",
       "      <td>СРЕДНЕЕ</td>\n",
       "      <td>1</td>\n",
       "      <td>в разводе</td>\n",
       "      <td>3</td>\n",
       "      <td>F</td>\n",
       "      <td>сотрудник</td>\n",
       "      <td>0</td>\n",
       "      <td>242831.107982</td>\n",
       "      <td>на покупку своего автомобиля</td>\n",
       "    </tr>\n",
       "  </tbody>\n",
       "</table>\n",
       "</div>"
      ],
      "text/plain": [
       "    children  days_employed  dob_years            education  education_id  \\\n",
       "0          1   -8437.673028         42               высшее             0   \n",
       "1          1   -4024.803754         36              среднее             1   \n",
       "2          0   -5623.422610         33              Среднее             1   \n",
       "3          3   -4124.747207         32              среднее             1   \n",
       "4          0  340266.072047         53              среднее             1   \n",
       "5          0    -926.185831         27               высшее             0   \n",
       "6          0   -2879.202052         43               высшее             0   \n",
       "7          0    -152.779569         50              СРЕДНЕЕ             1   \n",
       "8          2   -6929.865299         35               ВЫСШЕЕ             0   \n",
       "9          0   -2188.756445         41              среднее             1   \n",
       "10         2   -4171.483647         36               высшее             0   \n",
       "11         0    -792.701887         40              среднее             1   \n",
       "12         0            NaN         65              среднее             1   \n",
       "13         0   -1846.641941         54  неоконченное высшее             2   \n",
       "14         0   -1844.956182         56               высшее             0   \n",
       "15         1    -972.364419         26              среднее             1   \n",
       "16         0   -1719.934226         35              среднее             1   \n",
       "17         0   -2369.999720         33               высшее             0   \n",
       "18         0  400281.136913         53              среднее             1   \n",
       "19         0  -10038.818549         48              СРЕДНЕЕ             1   \n",
       "\n",
       "       family_status  family_status_id gender income_type  debt  \\\n",
       "0    женат / замужем                 0      F   сотрудник     0   \n",
       "1    женат / замужем                 0      F   сотрудник     0   \n",
       "2    женат / замужем                 0      M   сотрудник     0   \n",
       "3    женат / замужем                 0      M   сотрудник     0   \n",
       "4   гражданский брак                 1      F   пенсионер     0   \n",
       "5   гражданский брак                 1      M   компаньон     0   \n",
       "6    женат / замужем                 0      F   компаньон     0   \n",
       "7    женат / замужем                 0      M   сотрудник     0   \n",
       "8   гражданский брак                 1      F   сотрудник     0   \n",
       "9    женат / замужем                 0      M   сотрудник     0   \n",
       "10   женат / замужем                 0      M   компаньон     0   \n",
       "11   женат / замужем                 0      F   сотрудник     0   \n",
       "12  гражданский брак                 1      M   пенсионер     0   \n",
       "13   женат / замужем                 0      F   сотрудник     0   \n",
       "14  гражданский брак                 1      F   компаньон     1   \n",
       "15   женат / замужем                 0      F   сотрудник     0   \n",
       "16   женат / замужем                 0      F   сотрудник     0   \n",
       "17  гражданский брак                 1      M   сотрудник     0   \n",
       "18    вдовец / вдова                 2      F   пенсионер     0   \n",
       "19         в разводе                 3      F   сотрудник     0   \n",
       "\n",
       "     total_income                                 purpose  \n",
       "0   253875.639453                           покупка жилья  \n",
       "1   112080.014102                 приобретение автомобиля  \n",
       "2   145885.952297                           покупка жилья  \n",
       "3   267628.550329              дополнительное образование  \n",
       "4   158616.077870                         сыграть свадьбу  \n",
       "5   255763.565419                           покупка жилья  \n",
       "6   240525.971920                       операции с жильем  \n",
       "7   135823.934197                             образование  \n",
       "8    95856.832424                   на проведение свадьбы  \n",
       "9   144425.938277                 покупка жилья для семьи  \n",
       "10  113943.491460                    покупка недвижимости  \n",
       "11   77069.234271       покупка коммерческой недвижимости  \n",
       "12            NaN                         сыграть свадьбу  \n",
       "13  130458.228857                 приобретение автомобиля  \n",
       "14  165127.911772              покупка жилой недвижимости  \n",
       "15  116820.904450  строительство собственной недвижимости  \n",
       "16  289202.704229                            недвижимость  \n",
       "17   90410.586745              строительство недвижимости  \n",
       "18   56823.777243      на покупку подержанного автомобиля  \n",
       "19  242831.107982            на покупку своего автомобиля  "
      ]
     },
     "execution_count": 2,
     "metadata": {},
     "output_type": "execute_result"
    }
   ],
   "source": [
    "data.head(20)"
   ]
  },
  {
   "cell_type": "markdown",
   "id": "8516334a",
   "metadata": {
    "deletable": false,
    "editable": false,
    "id": "1c12e233"
   },
   "source": [
    "**Задание 3. Выведите основную информацию о датафрейме с помощью метода `info()`.**"
   ]
  },
  {
   "cell_type": "code",
   "execution_count": 3,
   "id": "10eea113",
   "metadata": {
    "deletable": false,
    "id": "2b757bca",
    "outputId": "15376089-8dad-46c9-b520-c05248d43158"
   },
   "outputs": [
    {
     "name": "stdout",
     "output_type": "stream",
     "text": [
      "<class 'pandas.core.frame.DataFrame'>\n",
      "RangeIndex: 21525 entries, 0 to 21524\n",
      "Data columns (total 12 columns):\n",
      " #   Column            Non-Null Count  Dtype  \n",
      "---  ------            --------------  -----  \n",
      " 0   children          21525 non-null  int64  \n",
      " 1   days_employed     19351 non-null  float64\n",
      " 2   dob_years         21525 non-null  int64  \n",
      " 3   education         21525 non-null  object \n",
      " 4   education_id      21525 non-null  int64  \n",
      " 5   family_status     21525 non-null  object \n",
      " 6   family_status_id  21525 non-null  int64  \n",
      " 7   gender            21525 non-null  object \n",
      " 8   income_type       21525 non-null  object \n",
      " 9   debt              21525 non-null  int64  \n",
      " 10  total_income      19351 non-null  float64\n",
      " 11  purpose           21525 non-null  object \n",
      "dtypes: float64(2), int64(5), object(5)\n",
      "memory usage: 2.0+ MB\n"
     ]
    }
   ],
   "source": [
    "data.info()"
   ]
  },
  {
   "cell_type": "markdown",
   "id": "bde7e859",
   "metadata": {
    "deletable": false,
    "editable": false,
    "id": "333ec665"
   },
   "source": [
    "## Предобработка данных"
   ]
  },
  {
   "cell_type": "markdown",
   "id": "8d3c6582",
   "metadata": {
    "deletable": false,
    "editable": false,
    "id": "02d92d53"
   },
   "source": [
    "### Удаление пропусков"
   ]
  },
  {
   "cell_type": "markdown",
   "id": "3f5061e7",
   "metadata": {
    "deletable": false,
    "editable": false,
    "id": "cd84967c"
   },
   "source": [
    "**Задание 4. Выведите количество пропущенных значений для каждого столбца. Используйте комбинацию двух методов.**"
   ]
  },
  {
   "cell_type": "code",
   "execution_count": 4,
   "id": "ca0e3551",
   "metadata": {
    "deletable": false,
    "id": "7f9b2309",
    "outputId": "81f4d817-781c-465c-ed15-91ce4446810d"
   },
   "outputs": [
    {
     "data": {
      "text/plain": [
       "children               0\n",
       "days_employed       2174\n",
       "dob_years              0\n",
       "education              0\n",
       "education_id           0\n",
       "family_status          0\n",
       "family_status_id       0\n",
       "gender                 0\n",
       "income_type            0\n",
       "debt                   0\n",
       "total_income        2174\n",
       "purpose                0\n",
       "dtype: int64"
      ]
     },
     "execution_count": 4,
     "metadata": {},
     "output_type": "execute_result"
    }
   ],
   "source": [
    "data.isna().sum()"
   ]
  },
  {
   "cell_type": "markdown",
   "id": "e652eb56",
   "metadata": {
    "deletable": false,
    "editable": false,
    "id": "db86e27b"
   },
   "source": [
    "**Задание 5. В двух столбцах есть пропущенные значения. Один из них — `days_employed`. Пропуски в этом столбце вы обработаете на следующем этапе. Другой столбец с пропущенными значениями — `total_income` — хранит данные о доходах. На сумму дохода сильнее всего влияет тип занятости, поэтому заполнить пропуски в этом столбце нужно медианным значением по каждому типу из столбца `income_type`. Например, у человека с типом занятости `сотрудник` пропуск в столбце `total_income` должен быть заполнен медианным доходом среди всех записей с тем же типом.**"
   ]
  },
  {
   "cell_type": "code",
   "execution_count": 5,
   "id": "7209aad2",
   "metadata": {
    "deletable": false,
    "id": "42006a93"
   },
   "outputs": [],
   "source": [
    "for t in data['income_type'].unique():\n",
    "    data.loc[(data['income_type'] == t) & (data['total_income'].isna()), 'total_income'] = \\\n",
    "    data.loc[(data['income_type'] == t), 'total_income'].median()"
   ]
  },
  {
   "cell_type": "markdown",
   "id": "9e3e4ea1",
   "metadata": {
    "deletable": false,
    "editable": false,
    "id": "89da5ece"
   },
   "source": [
    "### Обработка аномальных значений"
   ]
  },
  {
   "cell_type": "markdown",
   "id": "6b4d8af2",
   "metadata": {
    "deletable": false,
    "editable": false,
    "id": "57964554"
   },
   "source": [
    "**Задание 6. В данных могут встречаться артефакты (аномалии) — значения, которые не отражают действительность и появились по какой-то ошибке. таким артефактом будет отрицательное количество дней трудового стажа в столбце `days_employed`. Для реальных данных это нормально. Обработайте значения в этом столбце: замените все отрицательные значения положительными с помощью метода `abs()`.**"
   ]
  },
  {
   "cell_type": "code",
   "execution_count": 6,
   "id": "e178001c",
   "metadata": {
    "deletable": false,
    "id": "f6f055bf"
   },
   "outputs": [],
   "source": [
    "data['days_employed'] = data['days_employed'].abs()"
   ]
  },
  {
   "cell_type": "markdown",
   "id": "c704988c",
   "metadata": {
    "deletable": false,
    "editable": false,
    "id": "6107dd2f"
   },
   "source": [
    "**Задание 7. Для каждого типа занятости выведите медианное значение трудового стажа `days_employed` в днях.**"
   ]
  },
  {
   "cell_type": "code",
   "execution_count": 7,
   "id": "9eae78dd",
   "metadata": {
    "deletable": false,
    "id": "85a5faf6",
    "outputId": "801ef80e-522b-4668-f34e-565af7432bcf"
   },
   "outputs": [
    {
     "data": {
      "text/plain": [
       "income_type\n",
       "безработный        366413.652744\n",
       "в декрете            3296.759962\n",
       "госслужащий          2689.368353\n",
       "компаньон            1547.382223\n",
       "пенсионер          365213.306266\n",
       "предприниматель       520.848083\n",
       "сотрудник            1574.202821\n",
       "студент               578.751554\n",
       "Name: days_employed, dtype: float64"
      ]
     },
     "execution_count": 7,
     "metadata": {},
     "output_type": "execute_result"
    }
   ],
   "source": [
    "data.groupby('income_type')['days_employed'].agg('median')"
   ]
  },
  {
   "cell_type": "markdown",
   "id": "4154da74",
   "metadata": {
    "deletable": false,
    "editable": false,
    "id": "38d1a030"
   },
   "source": [
    "У двух типов (безработные и пенсионеры) получатся аномально большие значения. Исправить такие значения сложно, поэтому оставьте их как есть. Тем более этот столбец не понадобится вам для исследования."
   ]
  },
  {
   "cell_type": "markdown",
   "id": "39cdb83c",
   "metadata": {
    "deletable": false,
    "editable": false,
    "id": "d8a9f147"
   },
   "source": [
    "**Задание 8. Выведите перечень уникальных значений столбца `children`.**"
   ]
  },
  {
   "cell_type": "code",
   "execution_count": 8,
   "id": "8d4a8f38",
   "metadata": {
    "deletable": false,
    "id": "ef5056eb",
    "outputId": "6975b15c-7f95-4697-d16d-a0c79b657b03"
   },
   "outputs": [
    {
     "data": {
      "text/plain": [
       "array([ 1,  0,  3,  2, -1,  4, 20,  5])"
      ]
     },
     "execution_count": 8,
     "metadata": {},
     "output_type": "execute_result"
    }
   ],
   "source": [
    "data['children'].unique()"
   ]
  },
  {
   "cell_type": "markdown",
   "id": "63c19ef9",
   "metadata": {
    "deletable": false,
    "editable": false,
    "id": "40b9ebf2"
   },
   "source": [
    "**Задание 9. В столбце `children` есть два аномальных значения. Удалите строки, в которых встречаются такие аномальные значения из датафрейма `data`.**"
   ]
  },
  {
   "cell_type": "code",
   "execution_count": 9,
   "id": "788fb9d6",
   "metadata": {
    "deletable": false,
    "id": "3ff9801d"
   },
   "outputs": [],
   "source": [
    "data = data[(data['children'] != -1) & (data['children'] != 20)]"
   ]
  },
  {
   "cell_type": "markdown",
   "id": "4f5ffae8",
   "metadata": {
    "deletable": false,
    "editable": false,
    "id": "bbc4d0ce"
   },
   "source": [
    "**Задание 10. Ещё раз выведите перечень уникальных значений столбца `children`, чтобы убедиться, что артефакты удалены.**"
   ]
  },
  {
   "cell_type": "code",
   "execution_count": 10,
   "id": "4d6fd3f0",
   "metadata": {
    "deletable": false,
    "id": "ad4fa8b7",
    "outputId": "b2097101-d49d-44d9-901b-32a65c9463d1"
   },
   "outputs": [
    {
     "data": {
      "text/plain": [
       "array([1, 0, 3, 2, 4, 5])"
      ]
     },
     "execution_count": 10,
     "metadata": {},
     "output_type": "execute_result"
    }
   ],
   "source": [
    "data['children'].unique()"
   ]
  },
  {
   "cell_type": "markdown",
   "id": "d17ad50c",
   "metadata": {
    "deletable": false,
    "editable": false,
    "id": "75440b63"
   },
   "source": [
    "### Удаление пропусков (продолжение)"
   ]
  },
  {
   "cell_type": "markdown",
   "id": "02b7c8aa",
   "metadata": {
    "deletable": false,
    "editable": false,
    "id": "f4ea573f"
   },
   "source": [
    "**Задание 11. Заполните пропуски в столбце `days_employed` медианными значениями по каждого типа занятости `income_type`.**"
   ]
  },
  {
   "cell_type": "code",
   "execution_count": 11,
   "id": "c1ca2be1",
   "metadata": {
    "deletable": false,
    "id": "af6b1a7e"
   },
   "outputs": [],
   "source": [
    "for t in data['income_type'].unique():\n",
    "    data.loc[(data['income_type'] == t) & (data['days_employed'].isna()), 'days_employed'] = \\\n",
    "    data.loc[(data['income_type'] == t), 'days_employed'].median()"
   ]
  },
  {
   "cell_type": "markdown",
   "id": "08cfe247",
   "metadata": {
    "deletable": false,
    "editable": false,
    "id": "2753f40d"
   },
   "source": [
    "**Задание 12. Убедитесь, что все пропуски заполнены. Проверьте себя и ещё раз выведите количество пропущенных значений для каждого столбца с помощью двух методов.**"
   ]
  },
  {
   "cell_type": "code",
   "execution_count": 12,
   "id": "60d59204",
   "metadata": {
    "deletable": false,
    "id": "55f78bc2",
    "outputId": "8da1e4e1-358e-4e87-98c9-f261bce0a7b2"
   },
   "outputs": [
    {
     "data": {
      "text/plain": [
       "children            0\n",
       "days_employed       0\n",
       "dob_years           0\n",
       "education           0\n",
       "education_id        0\n",
       "family_status       0\n",
       "family_status_id    0\n",
       "gender              0\n",
       "income_type         0\n",
       "debt                0\n",
       "total_income        0\n",
       "purpose             0\n",
       "dtype: int64"
      ]
     },
     "execution_count": 12,
     "metadata": {},
     "output_type": "execute_result"
    }
   ],
   "source": [
    "data.isna().sum()"
   ]
  },
  {
   "cell_type": "markdown",
   "id": "995fb14b",
   "metadata": {
    "deletable": false,
    "editable": false,
    "id": "ddc81e43"
   },
   "source": [
    "### Изменение типов данных"
   ]
  },
  {
   "cell_type": "markdown",
   "id": "8aaf0bc2",
   "metadata": {
    "deletable": false,
    "editable": false,
    "id": "42d19d24"
   },
   "source": [
    "**Задание 13. Замените вещественный тип данных в столбце `total_income` на целочисленный с помощью метода `astype()`.**"
   ]
  },
  {
   "cell_type": "code",
   "execution_count": 13,
   "id": "a6d8c622",
   "metadata": {
    "deletable": false,
    "id": "920b65ad"
   },
   "outputs": [],
   "source": [
    "data['total_income'] = data['total_income'].astype(int)"
   ]
  },
  {
   "cell_type": "markdown",
   "id": "c1b902c3",
   "metadata": {
    "deletable": false,
    "editable": false,
    "id": "80c420ba"
   },
   "source": [
    "### Обработка дубликатов"
   ]
  },
  {
   "cell_type": "markdown",
   "id": "9c839415",
   "metadata": {
    "deletable": false,
    "editable": false
   },
   "source": [
    "**Задание 14. Обработайте неявные дубликаты в столбце `education`. В этом столбце есть одни и те же значения, но записанные по-разному: с использованием заглавных и строчных букв. Приведите их к нижнему регистру. Проверьте остальные столбцы.**"
   ]
  },
  {
   "cell_type": "code",
   "execution_count": 14,
   "id": "bd8e3927",
   "metadata": {
    "deletable": false
   },
   "outputs": [],
   "source": [
    "data['education'] = data['education'].str.lower()"
   ]
  },
  {
   "cell_type": "markdown",
   "id": "2ba57706",
   "metadata": {
    "deletable": false,
    "editable": false,
    "id": "dc587695"
   },
   "source": [
    "**Задание 15. Выведите на экран количество строк-дубликатов в данных. Если такие строки присутствуют, удалите их.**"
   ]
  },
  {
   "cell_type": "code",
   "execution_count": 15,
   "id": "bca9caf2",
   "metadata": {
    "deletable": false,
    "id": "3ee445e4",
    "outputId": "9684deba-1934-42d1-99e1-cda61740f822"
   },
   "outputs": [
    {
     "data": {
      "text/plain": [
       "71"
      ]
     },
     "execution_count": 15,
     "metadata": {},
     "output_type": "execute_result"
    }
   ],
   "source": [
    "data.duplicated().sum()"
   ]
  },
  {
   "cell_type": "code",
   "execution_count": 16,
   "id": "c62e8431",
   "metadata": {
    "deletable": false,
    "id": "8575fe05"
   },
   "outputs": [],
   "source": [
    "data = data.drop_duplicates()"
   ]
  },
  {
   "cell_type": "markdown",
   "id": "6e712fb6",
   "metadata": {
    "deletable": false,
    "editable": false,
    "id": "9904cf55"
   },
   "source": [
    "### Категоризация данных"
   ]
  },
  {
   "cell_type": "markdown",
   "id": "fd233457",
   "metadata": {
    "deletable": false,
    "editable": false,
    "id": "72fcc8a2"
   },
   "source": [
    "**Задание 16. На основании диапазонов, указанных ниже, создайте в датафрейме `data` столбец `total_income_category` с категориями:**\n",
    "\n",
    "- 0–30000 — `'E'`;\n",
    "- 30001–50000 — `'D'`;\n",
    "- 50001–200000 — `'C'`;\n",
    "- 200001–1000000 — `'B'`;\n",
    "- 1000001 и выше — `'A'`.\n",
    "\n",
    "\n",
    "**Например, кредитополучателю с доходом 25000 нужно назначить категорию `'E'`, а клиенту, получающему 235000, — `'B'`. Используйте собственную функцию с именем `categorize_income()` и метод `apply()`.**"
   ]
  },
  {
   "cell_type": "code",
   "execution_count": 17,
   "id": "99494e3a",
   "metadata": {
    "deletable": false,
    "id": "e1771346"
   },
   "outputs": [],
   "source": [
    "def categorize_income(income):\n",
    "    try:\n",
    "        if 0 <= income <= 30000:\n",
    "            return 'E'\n",
    "        elif 30001 <= income <= 50000:\n",
    "            return 'D'\n",
    "        elif 50001 <= income <= 200000:\n",
    "            return 'C'\n",
    "        elif 200001 <= income <= 1000000:\n",
    "            return 'B'\n",
    "        elif income >= 1000001:\n",
    "            return 'A'\n",
    "    except:\n",
    "        pass"
   ]
  },
  {
   "cell_type": "code",
   "execution_count": 18,
   "id": "462526a3",
   "metadata": {
    "deletable": false,
    "id": "d5f3586d"
   },
   "outputs": [],
   "source": [
    "data['total_income_category'] = data['total_income'].apply(categorize_income)"
   ]
  },
  {
   "cell_type": "markdown",
   "id": "d040cdd3",
   "metadata": {
    "deletable": false,
    "editable": false,
    "id": "dde49b5c"
   },
   "source": [
    "**Задание 17. Выведите на экран перечень уникальных целей взятия кредита из столбца `purpose`.**"
   ]
  },
  {
   "cell_type": "code",
   "execution_count": 19,
   "id": "7bed3365",
   "metadata": {
    "deletable": false,
    "id": "f67ce9b3",
    "outputId": "673c12d9-7d7e-4ae0-9812-c622c89dd244"
   },
   "outputs": [
    {
     "data": {
      "text/plain": [
       "array(['покупка жилья', 'приобретение автомобиля',\n",
       "       'дополнительное образование', 'сыграть свадьбу',\n",
       "       'операции с жильем', 'образование', 'на проведение свадьбы',\n",
       "       'покупка жилья для семьи', 'покупка недвижимости',\n",
       "       'покупка коммерческой недвижимости', 'покупка жилой недвижимости',\n",
       "       'строительство собственной недвижимости', 'недвижимость',\n",
       "       'строительство недвижимости', 'на покупку подержанного автомобиля',\n",
       "       'на покупку своего автомобиля',\n",
       "       'операции с коммерческой недвижимостью',\n",
       "       'строительство жилой недвижимости', 'жилье',\n",
       "       'операции со своей недвижимостью', 'автомобили',\n",
       "       'заняться образованием', 'сделка с подержанным автомобилем',\n",
       "       'получение образования', 'автомобиль', 'свадьба',\n",
       "       'получение дополнительного образования', 'покупка своего жилья',\n",
       "       'операции с недвижимостью', 'получение высшего образования',\n",
       "       'свой автомобиль', 'сделка с автомобилем',\n",
       "       'профильное образование', 'высшее образование',\n",
       "       'покупка жилья для сдачи', 'на покупку автомобиля', 'ремонт жилью',\n",
       "       'заняться высшим образованием'], dtype=object)"
      ]
     },
     "execution_count": 19,
     "metadata": {},
     "output_type": "execute_result"
    }
   ],
   "source": [
    "data['purpose'].unique()"
   ]
  },
  {
   "cell_type": "markdown",
   "id": "283056f5",
   "metadata": {
    "deletable": false,
    "editable": false,
    "id": "85d0aef0"
   },
   "source": [
    "**Задание 18. Создайте функцию, которая на основании данных из столбца `purpose` сформирует новый столбец `purpose_category`, в который войдут следующие категории:**\n",
    "\n",
    "- `'операции с автомобилем'`,\n",
    "- `'операции с недвижимостью'`,\n",
    "- `'проведение свадьбы'`,\n",
    "- `'получение образования'`.\n",
    "\n",
    "**Например, если в столбце `purpose` находится подстрока `'на покупку автомобиля'`, то в столбце `purpose_category` должна появиться строка `'операции с автомобилем'`.**\n",
    "\n",
    "**Используйте собственную функцию с именем `categorize_purpose()` и метод `apply()`. Изучите данные в столбце `purpose` и определите, какие подстроки помогут вам правильно определить категорию.**"
   ]
  },
  {
   "cell_type": "code",
   "execution_count": 20,
   "id": "72fd8aff",
   "metadata": {
    "deletable": false,
    "id": "e149fab4"
   },
   "outputs": [],
   "source": [
    "def categorize_purpose(row):\n",
    "    try:\n",
    "        if 'автом' in row:\n",
    "            return 'операции с автомобилем'\n",
    "        elif 'жил' in row or 'недвиж' in row:\n",
    "            return 'операции с недвижимостью'\n",
    "        elif 'свад' in row:\n",
    "            return 'проведение свадьбы'\n",
    "        elif 'образов' in row:\n",
    "            return 'получение образования'\n",
    "    except:\n",
    "        return 'нет категории'"
   ]
  },
  {
   "cell_type": "code",
   "execution_count": 21,
   "id": "82990ec7",
   "metadata": {
    "deletable": false,
    "id": "bf36e69b"
   },
   "outputs": [],
   "source": [
    "data['purpose_category'] = data['purpose'].apply(categorize_purpose)"
   ]
  },
  {
   "cell_type": "markdown",
   "id": "1070e312",
   "metadata": {
    "deletable": false,
    "editable": false,
    "id": "09b242bf"
   },
   "source": [
    "### Шаг 3. Исследуйте данные и ответьте на вопросы"
   ]
  },
  {
   "cell_type": "markdown",
   "id": "615a4191",
   "metadata": {
    "deletable": false,
    "editable": false,
    "id": "c5d66278"
   },
   "source": [
    "#### 3.1 Есть ли зависимость между количеством детей и возвратом кредита в срок?"
   ]
  },
  {
   "cell_type": "code",
   "execution_count": 22,
   "id": "e12846ba",
   "metadata": {
    "deletable": false,
    "id": "2cacfc4a"
   },
   "outputs": [
    {
     "data": {
      "text/html": [
       "<div>\n",
       "<style scoped>\n",
       "    .dataframe tbody tr th:only-of-type {\n",
       "        vertical-align: middle;\n",
       "    }\n",
       "\n",
       "    .dataframe tbody tr th {\n",
       "        vertical-align: top;\n",
       "    }\n",
       "\n",
       "    .dataframe thead th {\n",
       "        text-align: right;\n",
       "    }\n",
       "</style>\n",
       "<table border=\"1\" class=\"dataframe\">\n",
       "  <thead>\n",
       "    <tr style=\"text-align: right;\">\n",
       "      <th></th>\n",
       "      <th>children</th>\n",
       "      <th>кол-во взявших кредит</th>\n",
       "      <th>кол-во просрочивших</th>\n",
       "      <th>доля просрочивших кредит</th>\n",
       "    </tr>\n",
       "  </thead>\n",
       "  <tbody>\n",
       "    <tr>\n",
       "      <th>4</th>\n",
       "      <td>4</td>\n",
       "      <td>41</td>\n",
       "      <td>4</td>\n",
       "      <td>0.097561</td>\n",
       "    </tr>\n",
       "    <tr>\n",
       "      <th>2</th>\n",
       "      <td>2</td>\n",
       "      <td>2052</td>\n",
       "      <td>194</td>\n",
       "      <td>0.094542</td>\n",
       "    </tr>\n",
       "    <tr>\n",
       "      <th>1</th>\n",
       "      <td>1</td>\n",
       "      <td>4808</td>\n",
       "      <td>444</td>\n",
       "      <td>0.092346</td>\n",
       "    </tr>\n",
       "    <tr>\n",
       "      <th>3</th>\n",
       "      <td>3</td>\n",
       "      <td>330</td>\n",
       "      <td>27</td>\n",
       "      <td>0.081818</td>\n",
       "    </tr>\n",
       "    <tr>\n",
       "      <th>0</th>\n",
       "      <td>0</td>\n",
       "      <td>14091</td>\n",
       "      <td>1063</td>\n",
       "      <td>0.075438</td>\n",
       "    </tr>\n",
       "    <tr>\n",
       "      <th>5</th>\n",
       "      <td>5</td>\n",
       "      <td>9</td>\n",
       "      <td>0</td>\n",
       "      <td>0.000000</td>\n",
       "    </tr>\n",
       "  </tbody>\n",
       "</table>\n",
       "</div>"
      ],
      "text/plain": [
       "   children  кол-во взявших кредит  кол-во просрочивших  \\\n",
       "4         4                     41                    4   \n",
       "2         2                   2052                  194   \n",
       "1         1                   4808                  444   \n",
       "3         3                    330                   27   \n",
       "0         0                  14091                 1063   \n",
       "5         5                      9                    0   \n",
       "\n",
       "   доля просрочивших кредит  \n",
       "4                  0.097561  \n",
       "2                  0.094542  \n",
       "1                  0.092346  \n",
       "3                  0.081818  \n",
       "0                  0.075438  \n",
       "5                  0.000000  "
      ]
     },
     "metadata": {},
     "output_type": "display_data"
    }
   ],
   "source": [
    "# Ваш код будет здесь. Вы можете создавать новые ячейки.\n",
    "import matplotlib as pl\n",
    "#попробую через функцию, чтобы для следующих заданий менять столбец index\n",
    "def plotyy(data, index):\n",
    "    pv = pd.pivot_table(data, index = index, values = 'debt', aggfunc = ['count', 'sum', 'mean']).reset_index()\n",
    "    pv.columns = [index, 'кол-во взявших кредит', 'кол-во просрочивших', 'доля просрочивших кредит']\n",
    "    pv = pv.sort_values('доля просрочивших кредит', ascending = False)\n",
    "    display(pv)\n",
    "    \n",
    "plotyy(data,'children')"
   ]
  },
  {
   "cell_type": "markdown",
   "id": "6209faaf",
   "metadata": {
    "deletable": false,
    "editable": false,
    "id": "97be82ca"
   },
   "source": [
    "#### 3.2 Есть ли зависимость между семейным положением и возвратом кредита в срок?"
   ]
  },
  {
   "cell_type": "code",
   "execution_count": 23,
   "id": "b3ba2292",
   "metadata": {},
   "outputs": [
    {
     "data": {
      "text/html": [
       "<div>\n",
       "<style scoped>\n",
       "    .dataframe tbody tr th:only-of-type {\n",
       "        vertical-align: middle;\n",
       "    }\n",
       "\n",
       "    .dataframe tbody tr th {\n",
       "        vertical-align: top;\n",
       "    }\n",
       "\n",
       "    .dataframe thead th {\n",
       "        text-align: right;\n",
       "    }\n",
       "</style>\n",
       "<table border=\"1\" class=\"dataframe\">\n",
       "  <thead>\n",
       "    <tr style=\"text-align: right;\">\n",
       "      <th></th>\n",
       "      <th>count</th>\n",
       "      <th>sum</th>\n",
       "      <th>mean</th>\n",
       "    </tr>\n",
       "    <tr>\n",
       "      <th>children</th>\n",
       "      <th></th>\n",
       "      <th></th>\n",
       "      <th></th>\n",
       "    </tr>\n",
       "  </thead>\n",
       "  <tbody>\n",
       "    <tr>\n",
       "      <th>0</th>\n",
       "      <td>14091</td>\n",
       "      <td>1063</td>\n",
       "      <td>0.075438</td>\n",
       "    </tr>\n",
       "    <tr>\n",
       "      <th>1</th>\n",
       "      <td>4808</td>\n",
       "      <td>444</td>\n",
       "      <td>0.092346</td>\n",
       "    </tr>\n",
       "    <tr>\n",
       "      <th>2</th>\n",
       "      <td>2052</td>\n",
       "      <td>194</td>\n",
       "      <td>0.094542</td>\n",
       "    </tr>\n",
       "    <tr>\n",
       "      <th>3</th>\n",
       "      <td>330</td>\n",
       "      <td>27</td>\n",
       "      <td>0.081818</td>\n",
       "    </tr>\n",
       "    <tr>\n",
       "      <th>4</th>\n",
       "      <td>41</td>\n",
       "      <td>4</td>\n",
       "      <td>0.097561</td>\n",
       "    </tr>\n",
       "    <tr>\n",
       "      <th>5</th>\n",
       "      <td>9</td>\n",
       "      <td>0</td>\n",
       "      <td>0.000000</td>\n",
       "    </tr>\n",
       "  </tbody>\n",
       "</table>\n",
       "</div>"
      ],
      "text/plain": [
       "          count   sum      mean\n",
       "children                       \n",
       "0         14091  1063  0.075438\n",
       "1          4808   444  0.092346\n",
       "2          2052   194  0.094542\n",
       "3           330    27  0.081818\n",
       "4            41     4  0.097561\n",
       "5             9     0  0.000000"
      ]
     },
     "metadata": {},
     "output_type": "display_data"
    },
    {
     "data": {
      "text/html": [
       "<div>\n",
       "<style scoped>\n",
       "    .dataframe tbody tr th:only-of-type {\n",
       "        vertical-align: middle;\n",
       "    }\n",
       "\n",
       "    .dataframe tbody tr th {\n",
       "        vertical-align: top;\n",
       "    }\n",
       "\n",
       "    .dataframe thead tr th {\n",
       "        text-align: left;\n",
       "    }\n",
       "\n",
       "    .dataframe thead tr:last-of-type th {\n",
       "        text-align: right;\n",
       "    }\n",
       "</style>\n",
       "<table border=\"1\" class=\"dataframe\">\n",
       "  <thead>\n",
       "    <tr>\n",
       "      <th></th>\n",
       "      <th>count</th>\n",
       "      <th>sum</th>\n",
       "      <th>mean</th>\n",
       "    </tr>\n",
       "    <tr>\n",
       "      <th></th>\n",
       "      <th>debt</th>\n",
       "      <th>debt</th>\n",
       "      <th>debt</th>\n",
       "    </tr>\n",
       "    <tr>\n",
       "      <th>children</th>\n",
       "      <th></th>\n",
       "      <th></th>\n",
       "      <th></th>\n",
       "    </tr>\n",
       "  </thead>\n",
       "  <tbody>\n",
       "    <tr>\n",
       "      <th>0</th>\n",
       "      <td>14091</td>\n",
       "      <td>1063</td>\n",
       "      <td>0.075438</td>\n",
       "    </tr>\n",
       "    <tr>\n",
       "      <th>1</th>\n",
       "      <td>4808</td>\n",
       "      <td>444</td>\n",
       "      <td>0.092346</td>\n",
       "    </tr>\n",
       "    <tr>\n",
       "      <th>2</th>\n",
       "      <td>2052</td>\n",
       "      <td>194</td>\n",
       "      <td>0.094542</td>\n",
       "    </tr>\n",
       "    <tr>\n",
       "      <th>3</th>\n",
       "      <td>330</td>\n",
       "      <td>27</td>\n",
       "      <td>0.081818</td>\n",
       "    </tr>\n",
       "    <tr>\n",
       "      <th>4</th>\n",
       "      <td>41</td>\n",
       "      <td>4</td>\n",
       "      <td>0.097561</td>\n",
       "    </tr>\n",
       "    <tr>\n",
       "      <th>5</th>\n",
       "      <td>9</td>\n",
       "      <td>0</td>\n",
       "      <td>0.000000</td>\n",
       "    </tr>\n",
       "  </tbody>\n",
       "</table>\n",
       "</div>"
      ],
      "text/plain": [
       "          count   sum      mean\n",
       "           debt  debt      debt\n",
       "children                       \n",
       "0         14091  1063  0.075438\n",
       "1          4808   444  0.092346\n",
       "2          2052   194  0.094542\n",
       "3           330    27  0.081818\n",
       "4            41     4  0.097561\n",
       "5             9     0  0.000000"
      ]
     },
     "metadata": {},
     "output_type": "display_data"
    }
   ],
   "source": [
    "# Код ревьюера\n",
    "\n",
    "# Пример с groupby, тут мы группируем и для каждой группы считаем кол-во, сумму и среднее значение\n",
    "display(data.groupby('children')['debt'].agg(['count', 'sum', 'mean']))\n",
    "\n",
    "# Аналогичное построение с pivot_table\n",
    "display(data.pivot_table(index='children', values='debt', aggfunc=['count', 'sum', 'mean']))"
   ]
  },
  {
   "cell_type": "code",
   "execution_count": 24,
   "id": "cb147e75",
   "metadata": {
    "deletable": false,
    "id": "dc3f7ee8"
   },
   "outputs": [
    {
     "data": {
      "text/html": [
       "<div>\n",
       "<style scoped>\n",
       "    .dataframe tbody tr th:only-of-type {\n",
       "        vertical-align: middle;\n",
       "    }\n",
       "\n",
       "    .dataframe tbody tr th {\n",
       "        vertical-align: top;\n",
       "    }\n",
       "\n",
       "    .dataframe thead th {\n",
       "        text-align: right;\n",
       "    }\n",
       "</style>\n",
       "<table border=\"1\" class=\"dataframe\">\n",
       "  <thead>\n",
       "    <tr style=\"text-align: right;\">\n",
       "      <th></th>\n",
       "      <th>family_status</th>\n",
       "      <th>кол-во взявших кредит</th>\n",
       "      <th>кол-во просрочивших</th>\n",
       "      <th>доля просрочивших кредит</th>\n",
       "    </tr>\n",
       "  </thead>\n",
       "  <tbody>\n",
       "    <tr>\n",
       "      <th>0</th>\n",
       "      <td>Не женат / не замужем</td>\n",
       "      <td>2796</td>\n",
       "      <td>273</td>\n",
       "      <td>0.097639</td>\n",
       "    </tr>\n",
       "    <tr>\n",
       "      <th>3</th>\n",
       "      <td>гражданский брак</td>\n",
       "      <td>4134</td>\n",
       "      <td>385</td>\n",
       "      <td>0.093130</td>\n",
       "    </tr>\n",
       "    <tr>\n",
       "      <th>4</th>\n",
       "      <td>женат / замужем</td>\n",
       "      <td>12261</td>\n",
       "      <td>927</td>\n",
       "      <td>0.075606</td>\n",
       "    </tr>\n",
       "    <tr>\n",
       "      <th>1</th>\n",
       "      <td>в разводе</td>\n",
       "      <td>1189</td>\n",
       "      <td>84</td>\n",
       "      <td>0.070648</td>\n",
       "    </tr>\n",
       "    <tr>\n",
       "      <th>2</th>\n",
       "      <td>вдовец / вдова</td>\n",
       "      <td>951</td>\n",
       "      <td>63</td>\n",
       "      <td>0.066246</td>\n",
       "    </tr>\n",
       "  </tbody>\n",
       "</table>\n",
       "</div>"
      ],
      "text/plain": [
       "           family_status  кол-во взявших кредит  кол-во просрочивших  \\\n",
       "0  Не женат / не замужем                   2796                  273   \n",
       "3       гражданский брак                   4134                  385   \n",
       "4        женат / замужем                  12261                  927   \n",
       "1              в разводе                   1189                   84   \n",
       "2         вдовец / вдова                    951                   63   \n",
       "\n",
       "   доля просрочивших кредит  \n",
       "0                  0.097639  \n",
       "3                  0.093130  \n",
       "4                  0.075606  \n",
       "1                  0.070648  \n",
       "2                  0.066246  "
      ]
     },
     "metadata": {},
     "output_type": "display_data"
    }
   ],
   "source": [
    "# Ваш код будет здесь. Вы можете создавать новые ячейки.\n",
    "\n",
    "#подсчет должников\n",
    "#is_debt = data.loc[data['debt'] == 1].count()\n",
    "#подсчет людей, отдавших долг в срок\n",
    "#is_not_debt = data.loc[data['debt'] == 0].count()\n",
    "#соотношение количества должников к общему количеству людей\n",
    "#debt_division = is_debt / is_not_debt\n",
    "#debt_division = round(debt_division, 2)\n",
    "#вывод\n",
    "#print('количество должников составляет ', end = '')\n",
    "#print(int(debt_division[0] * 100), '% от общего количества людей.',end = '')\n",
    "#print(data['children'].unique())\n",
    "\n",
    "#__________________________________Исправленный код ниже все, что ниже__________________________________\n",
    "\n",
    "#выбираем всех людей с n-ым кол-вом детей и делим их по категориям\n",
    "#child_0_total = data.loc[data['children'] == 0]\n",
    "#child_1_total = data.loc[data['children'] == 1]\n",
    "#child_2_total = data.loc[data['children'] == 2]\n",
    "#child_3_total = data.loc[data['children'] == 3]\n",
    "#child_4_total = data.loc[data['children'] == 4]\n",
    "#child_5_total = data.loc[data['children'] == 5]\n",
    "\n",
    "#выбираем людей с n-ым кол-вом детей и долгом \n",
    "#child_0_debt = child_0_total.loc[child_0_total['debt'] == 1].count()\n",
    "#child_1_debt = child_1_total.loc[child_1_total['debt'] == 1].count()\n",
    "#child_2_debt = child_2_total.loc[child_2_total['debt'] == 1].count()\n",
    "#child_3_debt = child_3_total.loc[child_3_total['debt'] == 1].count()\n",
    "#child_4_debt = child_4_total.loc[child_4_total['debt'] == 1].count()\n",
    "#child_5_debt = child_5_total.loc[child_5_total['debt'] == 1].count()\n",
    "\n",
    "#расчитываем процент (кол-во людей с N детьми и долгом) / (общее кол-во людей с N детей) и выводим\n",
    "#child_0_debt_percent = child_0_debt / child_0_total.count()\n",
    "#child_1_debt_percent = child_1_debt / child_1_total.count()\n",
    "#child_2_debt_percent = child_2_debt / child_2_total.count()\n",
    "#child_3_debt_percent = child_3_debt / child_3_total.count()\n",
    "#child_4_debt_percent = child_4_debt / child_4_total.count()\n",
    "#child_5_debt_percent = child_5_debt / child_5_total.count()\n",
    "\n",
    "#переводим всё в нормальные проценты и в тип int, а то там страшные длинные цифры\n",
    "#c_0 = int(round(child_0_debt_percent['children'],2) * 100)\n",
    "#c_1 = int(round(child_1_debt_percent['children'],2) * 100)\n",
    "#c_2 = int(round(child_2_debt_percent['children'],2) * 100)\n",
    "#c_3 = int(round(child_3_debt_percent['children'],2) * 100)\n",
    "#c_4 = int(round(child_4_debt_percent['children'],2) * 100)\n",
    "#c_5 = int(round(child_5_debt_percent['children'],2) * 100)\n",
    "\n",
    "#выводим % на экран\n",
    "#print('Процент долга людей без детей от общего кол-ва людей =', c_0, '%')\n",
    "#print('Процент долга людей с 1-м ребенком от общего кол-ва людей =', c_1, '%')\n",
    "#print('Процент долга людей с 2-мя детьми от общего кол-ва людей =', c_2, '%')\n",
    "#print('Процент долга людей с 3-мя детьми от общего кол-ва людей =', c_3, '%')\n",
    "#print('Процент долга людей с 4-мя детьми от общего кол-ва людей =', c_4, '%')\n",
    "#print('Процент долга людей с 5-ю детьми от общего кол-ва людей =', c_5, '%')\n",
    "\n",
    "#display(data.pivot_table(index='children', values='debt', aggfunc=['count', 'sum', 'mean']))\n",
    "\n",
    "#Вывод\n",
    "#print('Исходя из полученных данных можно сделать вывод, что в среднем, чем больше у людей детей, тем меньше шанс, что долг они отдадут ')\n",
    "\n",
    "plotyy(data, 'family_status')"
   ]
  },
  {
   "cell_type": "markdown",
   "id": "7f1b198b",
   "metadata": {
    "deletable": false,
    "id": "1cef7837"
   },
   "source": [
    "**Вывод:** \n",
    "\n",
    "Исходя из полученных данных можно сделать вывод, что в среднем, чем больше у людей детей, тем меньше шанс, что долг они отдадут"
   ]
  },
  {
   "cell_type": "markdown",
   "id": "6ef88c18",
   "metadata": {
    "deletable": false,
    "editable": false,
    "id": "1e8b2fca"
   },
   "source": [
    "#### 3.3 Есть ли зависимость между уровнем дохода и возвратом кредита в срок?"
   ]
  },
  {
   "cell_type": "code",
   "execution_count": 25,
   "id": "3085d2ba",
   "metadata": {
    "deletable": false,
    "id": "cd7e3720"
   },
   "outputs": [
    {
     "data": {
      "text/html": [
       "<div>\n",
       "<style scoped>\n",
       "    .dataframe tbody tr th:only-of-type {\n",
       "        vertical-align: middle;\n",
       "    }\n",
       "\n",
       "    .dataframe tbody tr th {\n",
       "        vertical-align: top;\n",
       "    }\n",
       "\n",
       "    .dataframe thead th {\n",
       "        text-align: right;\n",
       "    }\n",
       "</style>\n",
       "<table border=\"1\" class=\"dataframe\">\n",
       "  <thead>\n",
       "    <tr style=\"text-align: right;\">\n",
       "      <th></th>\n",
       "      <th>total_income_category</th>\n",
       "      <th>кол-во взявших кредит</th>\n",
       "      <th>кол-во просрочивших</th>\n",
       "      <th>доля просрочивших кредит</th>\n",
       "    </tr>\n",
       "  </thead>\n",
       "  <tbody>\n",
       "    <tr>\n",
       "      <th>4</th>\n",
       "      <td>E</td>\n",
       "      <td>22</td>\n",
       "      <td>2</td>\n",
       "      <td>0.090909</td>\n",
       "    </tr>\n",
       "    <tr>\n",
       "      <th>2</th>\n",
       "      <td>C</td>\n",
       "      <td>15921</td>\n",
       "      <td>1353</td>\n",
       "      <td>0.084982</td>\n",
       "    </tr>\n",
       "    <tr>\n",
       "      <th>0</th>\n",
       "      <td>A</td>\n",
       "      <td>25</td>\n",
       "      <td>2</td>\n",
       "      <td>0.080000</td>\n",
       "    </tr>\n",
       "    <tr>\n",
       "      <th>1</th>\n",
       "      <td>B</td>\n",
       "      <td>5014</td>\n",
       "      <td>354</td>\n",
       "      <td>0.070602</td>\n",
       "    </tr>\n",
       "    <tr>\n",
       "      <th>3</th>\n",
       "      <td>D</td>\n",
       "      <td>349</td>\n",
       "      <td>21</td>\n",
       "      <td>0.060172</td>\n",
       "    </tr>\n",
       "  </tbody>\n",
       "</table>\n",
       "</div>"
      ],
      "text/plain": [
       "  total_income_category  кол-во взявших кредит  кол-во просрочивших  \\\n",
       "4                     E                     22                    2   \n",
       "2                     C                  15921                 1353   \n",
       "0                     A                     25                    2   \n",
       "1                     B                   5014                  354   \n",
       "3                     D                    349                   21   \n",
       "\n",
       "   доля просрочивших кредит  \n",
       "4                  0.090909  \n",
       "2                  0.084982  \n",
       "0                  0.080000  \n",
       "1                  0.070602  \n",
       "3                  0.060172  "
      ]
     },
     "metadata": {},
     "output_type": "display_data"
    }
   ],
   "source": [
    "# Ваш код будет здесь. Вы можете создавать новые ячейки.\n",
    "#data_new_rich = data.sort_values(by = 'total_income')\n",
    "#data_new_poor = data.sort_values(by = 'total_income', ascending = False)\n",
    "\n",
    "# посчитаем среднее значение для total_income\n",
    "#income = data['total_income'].mean()\n",
    "\n",
    "#разделим датасет на 2 части (первая половина - богатые, вторая половина - бедные)\n",
    "#и посчитаем для этих групп, кто же сдал долг/кредит в срок\n",
    "#data_rich = data.loc[data['total_income'] >= income, 'debt']\n",
    "#data_poor = data.loc[data['total_income'] < income,'debt']\n",
    "\n",
    "#print(data_rich)\n",
    "#print('Кол-во должников среди населения с низкой зарплатой:',data_rich.sum())\n",
    "#print('Кол-во должников среди населения с высокой зарплатой:',data_poor.sum())\n",
    "\n",
    "#среди \"бедных\" людей намного больше должников (619 против 1113), поэтому сделаем вывод, \n",
    "#что люди с маленькой зарплатой намного реже (в 2 раза) возвращают долг/кредит\n",
    "\n",
    "plotyy(data, 'total_income_category')"
   ]
  },
  {
   "cell_type": "markdown",
   "id": "ee0efc63",
   "metadata": {
    "deletable": false,
    "editable": false,
    "id": "99ecbd1f"
   },
   "source": [
    "#### 3.4 Как разные цели кредита влияют на его возврат в срок?"
   ]
  },
  {
   "cell_type": "code",
   "execution_count": 26,
   "id": "e20838cc",
   "metadata": {
    "deletable": false,
    "id": "2b687290"
   },
   "outputs": [
    {
     "data": {
      "text/html": [
       "<div>\n",
       "<style scoped>\n",
       "    .dataframe tbody tr th:only-of-type {\n",
       "        vertical-align: middle;\n",
       "    }\n",
       "\n",
       "    .dataframe tbody tr th {\n",
       "        vertical-align: top;\n",
       "    }\n",
       "\n",
       "    .dataframe thead th {\n",
       "        text-align: right;\n",
       "    }\n",
       "</style>\n",
       "<table border=\"1\" class=\"dataframe\">\n",
       "  <thead>\n",
       "    <tr style=\"text-align: right;\">\n",
       "      <th></th>\n",
       "      <th>purpose_category</th>\n",
       "      <th>кол-во взявших кредит</th>\n",
       "      <th>кол-во просрочивших</th>\n",
       "      <th>доля просрочивших кредит</th>\n",
       "    </tr>\n",
       "  </thead>\n",
       "  <tbody>\n",
       "    <tr>\n",
       "      <th>0</th>\n",
       "      <td>операции с автомобилем</td>\n",
       "      <td>4279</td>\n",
       "      <td>400</td>\n",
       "      <td>0.093480</td>\n",
       "    </tr>\n",
       "    <tr>\n",
       "      <th>2</th>\n",
       "      <td>получение образования</td>\n",
       "      <td>3988</td>\n",
       "      <td>369</td>\n",
       "      <td>0.092528</td>\n",
       "    </tr>\n",
       "    <tr>\n",
       "      <th>3</th>\n",
       "      <td>проведение свадьбы</td>\n",
       "      <td>2313</td>\n",
       "      <td>183</td>\n",
       "      <td>0.079118</td>\n",
       "    </tr>\n",
       "    <tr>\n",
       "      <th>1</th>\n",
       "      <td>операции с недвижимостью</td>\n",
       "      <td>10751</td>\n",
       "      <td>780</td>\n",
       "      <td>0.072551</td>\n",
       "    </tr>\n",
       "  </tbody>\n",
       "</table>\n",
       "</div>"
      ],
      "text/plain": [
       "           purpose_category  кол-во взявших кредит  кол-во просрочивших  \\\n",
       "0    операции с автомобилем                   4279                  400   \n",
       "2     получение образования                   3988                  369   \n",
       "3        проведение свадьбы                   2313                  183   \n",
       "1  операции с недвижимостью                  10751                  780   \n",
       "\n",
       "   доля просрочивших кредит  \n",
       "0                  0.093480  \n",
       "2                  0.092528  \n",
       "3                  0.079118  \n",
       "1                  0.072551  "
      ]
     },
     "metadata": {},
     "output_type": "display_data"
    }
   ],
   "source": [
    "# Ваш код будет здесь. Вы можете создавать новые ячейки.\n",
    "\n",
    "#выведем таблицу с целями кредита по категориям (частные случаи)\n",
    "#нам не нужны, так как мы должны рассматривать именно категории, а иначе бы\n",
    "#не сможем определить эту самую \"категорию\"\n",
    "#print(data['purpose_category'])\n",
    "\n",
    "#посчитаем количество \"встреч\" каждой категории в данной таблице\n",
    "#print(data['purpose_category'].value_counts())\n",
    "#здесь мы получили всего 4 категории, теперь посчитаем для каждой категории \"бедных\" и \n",
    "# и \"богатых\" и сравним процентное соотношение людей погасивыших кредит к непогасившим.\n",
    "\n",
    "#подсчет % соотношения по каждой категории\n",
    "#data.loc[data['total_income'] < income,'debt']\n",
    "#data_house = data.loc[data['purpose_category'] == 'операции с недвижимостью']\n",
    "#data_auto = data.loc[data['purpose_category'] == 'операции с автомобилем']\n",
    "#data_study = data.loc[data['purpose_category'] == 'получение образования']\n",
    "#data_wedding =data.loc[data['purpose_category'] == 'проведение свадьбы']\n",
    "\n",
    "#print(data_house,data_auto,data_study,data_wedding)\n",
    "\n",
    "#подсчет самого процентного соотношения\n",
    "#data_house_count = data_house.loc[data_house['debt'] == 1].shape[0] / data_house.shape[0]\n",
    "#data_auto_count = data_auto.loc[data_auto['debt'] == 1].shape[0] / data_auto.shape[0]\n",
    "#data_study_count = data_study.loc[data_study['debt'] == 1].shape[0] / data_study.shape[0]\n",
    "#data_wedding_count = data_wedding.loc[data_wedding['debt'] == 1].shape[0] / data_wedding.shape[0]\n",
    "\n",
    "\n",
    "#print('Операции с недвижимостью, процентное соотношение = ',round(data_house_count,2), 'из 1')\n",
    "#print('Операции с автомобилем, процентное соотношение = ', round(data_auto_count,2), 'из 1')\n",
    "#print('Операции с образованием, процентное соотношение = ', round(data_study_count,2), 'из 1')\n",
    "#print('Операции со свадьбой, процентное соотношение = ', round(data_wedding_count,2), 'из 1')\n",
    "\n",
    "# Из этих данных можно понять, что самые маленькие по сумме кредиты (обучение, которое в среднем \n",
    "# от 100 до 400 тыс.руб. Автомобиль, - все это люди выплачивают с большей долей вероятности, нежели)\n",
    "# кредит, связанный с жильем.\n",
    "\n",
    "\n",
    "plotyy(data,'purpose_category')"
   ]
  },
  {
   "cell_type": "markdown",
   "id": "acb8236c",
   "metadata": {
    "deletable": false,
    "editable": false,
    "id": "09c3ac4c"
   },
   "source": [
    "#### 3.5 Приведите возможные причины появления пропусков в исходных данных."
   ]
  },
  {
   "cell_type": "markdown",
   "id": "79ede4c6",
   "metadata": {
    "deletable": false,
    "id": "9da2ceda"
   },
   "source": [
    "*Ответ:* \n",
    "Пропуски скорее всего возможны в следующих случаях:\n",
    "а) Например, если человек проходит опрос, либо же регистрируется на каком-то сайте/сервисе, то там часто необходимо ввести данные о себе, некоторые из которых являются необязательными, поэтому многие их пропускают. Таким образом могут появиться пропуски, и если они относятся к категориальным переменным, то заполнять \"медианным\" значением их не рекомендуется, а если \"количественные\", то можно брать среднее/медианное значение переменных.\n",
    "б) Пропуски могут появиться в следствие ошибки разработчика, программиста. Например, если у нас изначально неправильный формат данных, пример: в ячейке возраста значения не int, а object. Тогда у нас будут значения None в таких ячейках\n",
    "в)Пропуски могут появиться также из-за некорректного переноса данных из одного датасета в другой.\n",
    "\n",
    "-Существует еще очень много-много разных других причин, из-за которых могут возникать ошибки/пропуски в данных, которые зависят от многих факторов.\n"
   ]
  },
  {
   "cell_type": "markdown",
   "id": "2aa5df48",
   "metadata": {
    "deletable": false,
    "editable": false,
    "id": "7b0487d6"
   },
   "source": [
    "#### 3.6 Объясните, почему заполнить пропуски медианным значением — лучшее решение для количественных переменных."
   ]
  },
  {
   "cell_type": "markdown",
   "id": "965d3075",
   "metadata": {
    "deletable": false,
    "id": "7ecf2b8e"
   },
   "source": [
    "*Ответ:* \n",
    "\n",
    "Заполнить пропущенные значения заполнить медианным значением для количественных переменных являются лучшим решение, так как количественные переменные обычно не так сильно страдают от влияния \"выбросов\" или \"шумов\", поэтому если данных очень много, то заполнение данных mean() никак не помешает анализу данных, так как будет браться среднее значение от всех данных."
   ]
  },
  {
   "cell_type": "markdown",
   "id": "8109d9ad",
   "metadata": {
    "deletable": false,
    "editable": false,
    "id": "6db5255a"
   },
   "source": [
    "### Шаг 4: общий вывод."
   ]
  },
  {
   "cell_type": "markdown",
   "id": "51658c23",
   "metadata": {
    "deletable": false,
    "id": "bad65432"
   },
   "source": [
    "Напишите ваш общий вывод.\n",
    "\n",
    "В ходе данной работы мы столкнулись с DF, в котором нужно было убирать пропуски, добавлять столбцы, исправлять ошибки в данных, заменять тип данных с неправильного на правильный и.т.д.. Также, были исправлены очень \"странные\" значения, такие как почти \"бесконечные\" зарплаты у людей, или когда человеку 20 лет, а наработал он уже целых 50.\n",
    "\n",
    "Также, были получены ответы на вопросы и построены следующие зависимости:\n",
    "\n",
    "-Количество детей в семье влияет на погашение кредита в срок, то есть чем больше детей, тем меньше шанс, что кредит отдадут.\n",
    "\n",
    "-Семейное положение не сильно влияет на общую картину. Но можно сказать, что полноценные семьи (женатые) с немного, но большей долей вероятности отдадут кредит.\n",
    "\n",
    "-Уровень дохода конечно влияет на кредит, так, люди с большой зарплатой либо не берут кредиты, так как им хватает заработка (категория A), а люди с маленькой даже их не берут (может из-за заработка банк не может одобрить). Самая большая доля кредитов приходится на средний класс, где процент должников составляет 8-9% от общего кол-ва людей.\n",
    "\n",
    "-Цели кредита имеют большое значение на возрат кредита. Так, например, если кредит берется на покупку авто или обучение, то он с меньшим шансом будет отдан, нежели чем ипотека, которую обычно берут люди с высокой заработной платой.\n"
   ]
  }
 ],
 "metadata": {
  "ExecuteTimeLog": [
   {
    "duration": 47,
    "start_time": "2023-05-25T03:19:27.494Z"
   },
   {
    "duration": 464,
    "start_time": "2023-05-25T03:19:34.600Z"
   },
   {
    "duration": 20,
    "start_time": "2023-05-25T03:19:36.684Z"
   },
   {
    "duration": 13,
    "start_time": "2023-05-25T03:19:37.942Z"
   },
   {
    "duration": 12,
    "start_time": "2023-05-25T03:19:38.692Z"
   },
   {
    "duration": 33,
    "start_time": "2023-05-25T03:19:39.051Z"
   },
   {
    "duration": 3,
    "start_time": "2023-05-25T03:19:39.611Z"
   },
   {
    "duration": 7,
    "start_time": "2023-05-25T03:19:39.951Z"
   },
   {
    "duration": 4,
    "start_time": "2023-05-25T03:19:40.464Z"
   },
   {
    "duration": 6,
    "start_time": "2023-05-25T03:19:41.007Z"
   },
   {
    "duration": 4,
    "start_time": "2023-05-25T03:19:41.394Z"
   },
   {
    "duration": 31,
    "start_time": "2023-05-25T03:19:42.020Z"
   },
   {
    "duration": 10,
    "start_time": "2023-05-25T03:19:42.679Z"
   },
   {
    "duration": 4,
    "start_time": "2023-05-25T03:19:43.274Z"
   },
   {
    "duration": 11,
    "start_time": "2023-05-25T03:19:43.840Z"
   },
   {
    "duration": 19,
    "start_time": "2023-05-25T03:19:44.239Z"
   },
   {
    "duration": 16,
    "start_time": "2023-05-25T03:19:44.434Z"
   },
   {
    "duration": 4,
    "start_time": "2023-05-25T03:19:45.073Z"
   },
   {
    "duration": 10,
    "start_time": "2023-05-25T03:19:45.284Z"
   },
   {
    "duration": 5,
    "start_time": "2023-05-25T03:19:45.728Z"
   },
   {
    "duration": 3,
    "start_time": "2023-05-25T03:19:46.900Z"
   },
   {
    "duration": 11,
    "start_time": "2023-05-25T03:19:47.311Z"
   },
   {
    "duration": 19,
    "start_time": "2023-05-25T03:19:48.634Z"
   },
   {
    "duration": 736,
    "start_time": "2023-05-25T03:20:40.894Z"
   },
   {
    "duration": 16,
    "start_time": "2023-05-25T03:20:46.806Z"
   },
   {
    "duration": 17,
    "start_time": "2023-05-25T03:20:56.097Z"
   },
   {
    "duration": 16,
    "start_time": "2023-05-25T03:21:06.921Z"
   },
   {
    "duration": 575,
    "start_time": "2023-05-25T03:22:08.544Z"
   },
   {
    "duration": 1041,
    "start_time": "2023-05-25T03:22:21.049Z"
   },
   {
    "duration": 22,
    "start_time": "2023-05-25T03:22:48.782Z"
   },
   {
    "duration": 20,
    "start_time": "2023-05-25T03:22:51.436Z"
   },
   {
    "duration": 15,
    "start_time": "2023-05-25T03:23:12.273Z"
   },
   {
    "duration": 16,
    "start_time": "2023-05-25T03:23:18.081Z"
   },
   {
    "duration": 1322,
    "start_time": "2023-05-25T03:24:10.675Z"
   },
   {
    "duration": 1001,
    "start_time": "2023-05-25T03:24:45.791Z"
   },
   {
    "duration": 43,
    "start_time": "2023-05-25T03:25:51.761Z"
   },
   {
    "duration": 528,
    "start_time": "2023-05-25T03:25:58.584Z"
   },
   {
    "duration": 17,
    "start_time": "2023-05-25T03:26:39.585Z"
   },
   {
    "duration": 46,
    "start_time": "2023-05-25T12:29:09.385Z"
   },
   {
    "duration": 5,
    "start_time": "2023-05-25T12:29:16.072Z"
   },
   {
    "duration": 1436,
    "start_time": "2023-05-25T12:29:24.395Z"
   },
   {
    "duration": 21,
    "start_time": "2023-05-25T12:29:25.833Z"
   },
   {
    "duration": 17,
    "start_time": "2023-05-25T12:29:25.856Z"
   },
   {
    "duration": 15,
    "start_time": "2023-05-25T12:29:25.874Z"
   },
   {
    "duration": 37,
    "start_time": "2023-05-25T12:29:26.215Z"
   },
   {
    "duration": 4,
    "start_time": "2023-05-25T12:29:26.774Z"
   },
   {
    "duration": 11,
    "start_time": "2023-05-25T12:29:27.118Z"
   },
   {
    "duration": 6,
    "start_time": "2023-05-25T12:29:27.682Z"
   },
   {
    "duration": 8,
    "start_time": "2023-05-25T12:29:28.016Z"
   },
   {
    "duration": 5,
    "start_time": "2023-05-25T12:29:28.346Z"
   },
   {
    "duration": 30,
    "start_time": "2023-05-25T12:29:28.844Z"
   },
   {
    "duration": 9,
    "start_time": "2023-05-25T12:29:29.071Z"
   },
   {
    "duration": 4,
    "start_time": "2023-05-25T12:29:29.347Z"
   },
   {
    "duration": 10,
    "start_time": "2023-05-25T12:29:29.634Z"
   },
   {
    "duration": 18,
    "start_time": "2023-05-25T12:29:29.825Z"
   },
   {
    "duration": 17,
    "start_time": "2023-05-25T12:29:29.924Z"
   },
   {
    "duration": 3,
    "start_time": "2023-05-25T12:29:30.236Z"
   },
   {
    "duration": 10,
    "start_time": "2023-05-25T12:29:30.521Z"
   },
   {
    "duration": 5,
    "start_time": "2023-05-25T12:29:30.739Z"
   },
   {
    "duration": 3,
    "start_time": "2023-05-25T12:29:32.182Z"
   },
   {
    "duration": 9,
    "start_time": "2023-05-25T12:29:32.795Z"
   },
   {
    "duration": 497,
    "start_time": "2023-05-25T12:29:35.012Z"
   },
   {
    "duration": 68,
    "start_time": "2023-05-25T12:51:17.392Z"
   },
   {
    "duration": 6,
    "start_time": "2023-05-25T12:52:03.638Z"
   },
   {
    "duration": 4,
    "start_time": "2023-05-25T12:52:17.771Z"
   },
   {
    "duration": 390,
    "start_time": "2023-05-25T12:54:58.649Z"
   },
   {
    "duration": 404,
    "start_time": "2023-05-25T12:55:19.915Z"
   },
   {
    "duration": 5,
    "start_time": "2023-05-25T12:58:26.599Z"
   },
   {
    "duration": 370,
    "start_time": "2023-05-25T12:58:46.605Z"
   },
   {
    "duration": 71,
    "start_time": "2023-05-25T12:59:46.397Z"
   },
   {
    "duration": 19,
    "start_time": "2023-05-25T12:59:47.526Z"
   },
   {
    "duration": 16,
    "start_time": "2023-05-25T12:59:48.454Z"
   },
   {
    "duration": 10,
    "start_time": "2023-05-25T12:59:49.286Z"
   },
   {
    "duration": 34,
    "start_time": "2023-05-25T12:59:49.673Z"
   },
   {
    "duration": 3,
    "start_time": "2023-05-25T12:59:50.288Z"
   },
   {
    "duration": 17,
    "start_time": "2023-05-25T12:59:50.674Z"
   },
   {
    "duration": 6,
    "start_time": "2023-05-25T12:59:51.292Z"
   },
   {
    "duration": 7,
    "start_time": "2023-05-25T12:59:52.022Z"
   },
   {
    "duration": 5,
    "start_time": "2023-05-25T12:59:52.841Z"
   },
   {
    "duration": 30,
    "start_time": "2023-05-25T12:59:53.610Z"
   },
   {
    "duration": 11,
    "start_time": "2023-05-25T12:59:54.005Z"
   },
   {
    "duration": 4,
    "start_time": "2023-05-25T12:59:54.625Z"
   },
   {
    "duration": 12,
    "start_time": "2023-05-25T12:59:55.286Z"
   },
   {
    "duration": 19,
    "start_time": "2023-05-25T12:59:55.675Z"
   },
   {
    "duration": 18,
    "start_time": "2023-05-25T12:59:55.871Z"
   },
   {
    "duration": 5,
    "start_time": "2023-05-25T12:59:56.480Z"
   },
   {
    "duration": 11,
    "start_time": "2023-05-25T12:59:56.716Z"
   },
   {
    "duration": 6,
    "start_time": "2023-05-25T12:59:57.271Z"
   },
   {
    "duration": 3,
    "start_time": "2023-05-25T12:59:58.656Z"
   },
   {
    "duration": 8,
    "start_time": "2023-05-25T12:59:59.295Z"
   },
   {
    "duration": 1469,
    "start_time": "2023-06-25T23:33:14.905Z"
   },
   {
    "duration": 21,
    "start_time": "2023-06-25T23:33:16.377Z"
   },
   {
    "duration": 17,
    "start_time": "2023-06-25T23:33:16.400Z"
   },
   {
    "duration": 9,
    "start_time": "2023-06-25T23:33:16.419Z"
   },
   {
    "duration": 50,
    "start_time": "2023-06-25T23:33:16.430Z"
   },
   {
    "duration": 3,
    "start_time": "2023-06-25T23:33:16.482Z"
   },
   {
    "duration": 14,
    "start_time": "2023-06-25T23:33:16.487Z"
   },
   {
    "duration": 4,
    "start_time": "2023-06-25T23:33:16.503Z"
   },
   {
    "duration": 7,
    "start_time": "2023-06-25T23:33:16.508Z"
   },
   {
    "duration": 4,
    "start_time": "2023-06-25T23:33:16.516Z"
   },
   {
    "duration": 64,
    "start_time": "2023-06-25T23:33:16.521Z"
   },
   {
    "duration": 9,
    "start_time": "2023-06-25T23:33:16.587Z"
   },
   {
    "duration": 4,
    "start_time": "2023-06-25T23:33:16.598Z"
   },
   {
    "duration": 10,
    "start_time": "2023-06-25T23:33:16.606Z"
   },
   {
    "duration": 49,
    "start_time": "2023-06-25T23:33:16.617Z"
   },
   {
    "duration": 17,
    "start_time": "2023-06-25T23:33:16.667Z"
   },
   {
    "duration": 4,
    "start_time": "2023-06-25T23:33:16.685Z"
   },
   {
    "duration": 13,
    "start_time": "2023-06-25T23:33:16.690Z"
   },
   {
    "duration": 12,
    "start_time": "2023-06-25T23:33:16.705Z"
   },
   {
    "duration": 5,
    "start_time": "2023-06-25T23:33:16.719Z"
   },
   {
    "duration": 34,
    "start_time": "2023-06-25T23:33:16.726Z"
   },
   {
    "duration": 428,
    "start_time": "2023-06-25T23:33:16.762Z"
   },
   {
    "duration": 107,
    "start_time": "2023-06-25T23:33:17.192Z"
   },
   {
    "duration": 0,
    "start_time": "2023-06-25T23:33:17.301Z"
   },
   {
    "duration": 0,
    "start_time": "2023-06-25T23:33:17.302Z"
   },
   {
    "duration": 1157,
    "start_time": "2023-06-25T23:35:07.901Z"
   },
   {
    "duration": 18,
    "start_time": "2023-06-25T23:35:09.061Z"
   },
   {
    "duration": 27,
    "start_time": "2023-06-25T23:35:09.081Z"
   },
   {
    "duration": 11,
    "start_time": "2023-06-25T23:35:09.110Z"
   },
   {
    "duration": 42,
    "start_time": "2023-06-25T23:35:09.123Z"
   },
   {
    "duration": 3,
    "start_time": "2023-06-25T23:35:09.167Z"
   },
   {
    "duration": 15,
    "start_time": "2023-06-25T23:35:09.172Z"
   },
   {
    "duration": 5,
    "start_time": "2023-06-25T23:35:09.189Z"
   },
   {
    "duration": 13,
    "start_time": "2023-06-25T23:35:09.196Z"
   },
   {
    "duration": 23,
    "start_time": "2023-06-25T23:35:09.211Z"
   },
   {
    "duration": 45,
    "start_time": "2023-06-25T23:35:09.236Z"
   },
   {
    "duration": 13,
    "start_time": "2023-06-25T23:35:09.283Z"
   },
   {
    "duration": 5,
    "start_time": "2023-06-25T23:35:09.298Z"
   },
   {
    "duration": 17,
    "start_time": "2023-06-25T23:35:09.306Z"
   },
   {
    "duration": 45,
    "start_time": "2023-06-25T23:35:09.324Z"
   },
   {
    "duration": 18,
    "start_time": "2023-06-25T23:35:09.371Z"
   },
   {
    "duration": 4,
    "start_time": "2023-06-25T23:35:09.390Z"
   },
   {
    "duration": 13,
    "start_time": "2023-06-25T23:35:09.396Z"
   },
   {
    "duration": 14,
    "start_time": "2023-06-25T23:35:09.410Z"
   },
   {
    "duration": 4,
    "start_time": "2023-06-25T23:35:09.425Z"
   },
   {
    "duration": 37,
    "start_time": "2023-06-25T23:35:09.431Z"
   },
   {
    "duration": 407,
    "start_time": "2023-06-25T23:35:09.470Z"
   },
   {
    "duration": 107,
    "start_time": "2023-06-25T23:35:09.878Z"
   },
   {
    "duration": 0,
    "start_time": "2023-06-25T23:35:09.987Z"
   },
   {
    "duration": 0,
    "start_time": "2023-06-25T23:35:09.988Z"
   },
   {
    "duration": 1737,
    "start_time": "2023-09-04T08:10:26.546Z"
   },
   {
    "duration": 20,
    "start_time": "2023-09-04T08:10:28.286Z"
   },
   {
    "duration": 17,
    "start_time": "2023-09-04T08:10:28.307Z"
   },
   {
    "duration": 10,
    "start_time": "2023-09-04T08:10:28.326Z"
   },
   {
    "duration": 37,
    "start_time": "2023-09-04T08:10:28.337Z"
   },
   {
    "duration": 3,
    "start_time": "2023-09-04T08:10:28.376Z"
   },
   {
    "duration": 10,
    "start_time": "2023-09-04T08:10:28.381Z"
   },
   {
    "duration": 4,
    "start_time": "2023-09-04T08:10:28.392Z"
   },
   {
    "duration": 9,
    "start_time": "2023-09-04T08:10:28.398Z"
   },
   {
    "duration": 4,
    "start_time": "2023-09-04T08:10:28.409Z"
   },
   {
    "duration": 64,
    "start_time": "2023-09-04T08:10:28.415Z"
   },
   {
    "duration": 11,
    "start_time": "2023-09-04T08:10:28.480Z"
   },
   {
    "duration": 4,
    "start_time": "2023-09-04T08:10:28.492Z"
   },
   {
    "duration": 17,
    "start_time": "2023-09-04T08:10:28.498Z"
   },
   {
    "duration": 48,
    "start_time": "2023-09-04T08:10:28.516Z"
   },
   {
    "duration": 18,
    "start_time": "2023-09-04T08:10:28.565Z"
   },
   {
    "duration": 3,
    "start_time": "2023-09-04T08:10:28.585Z"
   },
   {
    "duration": 15,
    "start_time": "2023-09-04T08:10:28.590Z"
   },
   {
    "duration": 15,
    "start_time": "2023-09-04T08:10:28.607Z"
   },
   {
    "duration": 12,
    "start_time": "2023-09-04T08:10:28.623Z"
   },
   {
    "duration": 21,
    "start_time": "2023-09-04T08:10:28.646Z"
   },
   {
    "duration": 535,
    "start_time": "2023-09-04T08:10:28.669Z"
   },
   {
    "duration": 114,
    "start_time": "2023-09-04T08:10:29.205Z"
   },
   {
    "duration": 0,
    "start_time": "2023-09-04T08:10:29.321Z"
   },
   {
    "duration": 0,
    "start_time": "2023-09-04T08:10:29.322Z"
   },
   {
    "duration": 11,
    "start_time": "2023-09-04T08:13:28.614Z"
   },
   {
    "duration": 17,
    "start_time": "2023-09-04T08:13:37.915Z"
   },
   {
    "duration": 11,
    "start_time": "2023-09-04T08:14:18.383Z"
   },
   {
    "duration": 17,
    "start_time": "2023-09-04T08:14:31.514Z"
   },
   {
    "duration": 25,
    "start_time": "2023-09-04T08:14:49.763Z"
   },
   {
    "duration": 2207,
    "start_time": "2023-09-04T08:15:56.844Z"
   },
   {
    "duration": 33,
    "start_time": "2023-09-04T08:16:15.850Z"
   },
   {
    "duration": 10,
    "start_time": "2023-09-04T08:16:32.422Z"
   },
   {
    "duration": 19,
    "start_time": "2023-09-04T08:16:47.722Z"
   },
   {
    "duration": 19,
    "start_time": "2023-09-04T08:17:06.061Z"
   },
   {
    "duration": 8,
    "start_time": "2023-09-04T08:17:13.811Z"
   },
   {
    "duration": 31,
    "start_time": "2023-09-04T08:17:40.615Z"
   },
   {
    "duration": 42,
    "start_time": "2023-09-04T08:20:45.203Z"
   },
   {
    "duration": 27,
    "start_time": "2023-09-04T08:22:37.693Z"
   },
   {
    "duration": 21,
    "start_time": "2023-09-04T08:22:44.944Z"
   },
   {
    "duration": 20,
    "start_time": "2023-09-04T08:22:59.204Z"
   },
   {
    "duration": 19,
    "start_time": "2023-09-04T08:23:07.664Z"
   },
   {
    "duration": 105,
    "start_time": "2023-09-04T08:25:08.881Z"
   },
   {
    "duration": 19,
    "start_time": "2023-09-04T08:25:19.320Z"
   },
   {
    "duration": 20,
    "start_time": "2023-09-04T08:25:24.393Z"
   },
   {
    "duration": 20,
    "start_time": "2023-09-04T08:25:43.563Z"
   },
   {
    "duration": 19,
    "start_time": "2023-09-04T08:25:51.663Z"
   },
   {
    "duration": 20,
    "start_time": "2023-09-04T08:26:03.173Z"
   },
   {
    "duration": 19,
    "start_time": "2023-09-04T08:26:12.934Z"
   },
   {
    "duration": 23,
    "start_time": "2023-09-04T08:26:30.363Z"
   },
   {
    "duration": 19,
    "start_time": "2023-09-04T08:28:44.394Z"
   },
   {
    "duration": 21,
    "start_time": "2023-09-04T08:28:54.143Z"
   },
   {
    "duration": 20,
    "start_time": "2023-09-04T08:28:59.402Z"
   },
   {
    "duration": 1376,
    "start_time": "2023-09-04T08:34:53.114Z"
   },
   {
    "duration": 20,
    "start_time": "2023-09-04T08:34:54.492Z"
   },
   {
    "duration": 29,
    "start_time": "2023-09-04T08:34:54.514Z"
   },
   {
    "duration": 33,
    "start_time": "2023-09-04T08:34:54.547Z"
   },
   {
    "duration": 57,
    "start_time": "2023-09-04T08:34:54.583Z"
   },
   {
    "duration": 4,
    "start_time": "2023-09-04T08:34:54.642Z"
   },
   {
    "duration": 36,
    "start_time": "2023-09-04T08:34:54.647Z"
   },
   {
    "duration": 18,
    "start_time": "2023-09-04T08:34:54.685Z"
   },
   {
    "duration": 20,
    "start_time": "2023-09-04T08:34:54.704Z"
   },
   {
    "duration": 10,
    "start_time": "2023-09-04T08:34:54.726Z"
   },
   {
    "duration": 50,
    "start_time": "2023-09-04T08:34:54.738Z"
   },
   {
    "duration": 15,
    "start_time": "2023-09-04T08:34:54.789Z"
   },
   {
    "duration": 7,
    "start_time": "2023-09-04T08:34:54.806Z"
   },
   {
    "duration": 26,
    "start_time": "2023-09-04T08:34:54.815Z"
   },
   {
    "duration": 30,
    "start_time": "2023-09-04T08:34:54.843Z"
   },
   {
    "duration": 30,
    "start_time": "2023-09-04T08:34:54.875Z"
   },
   {
    "duration": 20,
    "start_time": "2023-09-04T08:34:54.907Z"
   },
   {
    "duration": 26,
    "start_time": "2023-09-04T08:34:54.929Z"
   },
   {
    "duration": 17,
    "start_time": "2023-09-04T08:34:54.957Z"
   },
   {
    "duration": 8,
    "start_time": "2023-09-04T08:34:54.976Z"
   },
   {
    "duration": 52,
    "start_time": "2023-09-04T08:34:54.985Z"
   },
   {
    "duration": 526,
    "start_time": "2023-09-04T08:34:55.039Z"
   },
   {
    "duration": 21,
    "start_time": "2023-09-04T08:34:55.566Z"
   },
   {
    "duration": 10,
    "start_time": "2023-09-04T08:34:55.589Z"
   },
   {
    "duration": 20,
    "start_time": "2023-09-04T08:34:55.600Z"
   },
   {
    "duration": 2113,
    "start_time": "2023-09-04T08:38:35.809Z"
   },
   {
    "duration": 8,
    "start_time": "2023-09-04T08:38:48.057Z"
   },
   {
    "duration": 4,
    "start_time": "2023-09-04T08:39:03.168Z"
   },
   {
    "duration": 4,
    "start_time": "2023-09-04T08:39:15.025Z"
   },
   {
    "duration": 4,
    "start_time": "2023-09-04T08:39:22.358Z"
   },
   {
    "duration": 23,
    "start_time": "2023-09-04T08:41:43.806Z"
   },
   {
    "duration": 18,
    "start_time": "2023-09-04T08:41:51.416Z"
   },
   {
    "duration": 2419,
    "start_time": "2023-09-04T08:42:25.547Z"
   },
   {
    "duration": 1485,
    "start_time": "2023-09-04T08:42:29.356Z"
   },
   {
    "duration": 17,
    "start_time": "2023-09-04T08:42:49.866Z"
   },
   {
    "duration": 1504,
    "start_time": "2023-09-04T08:47:45.766Z"
   },
   {
    "duration": 1401,
    "start_time": "2023-09-04T08:47:57.424Z"
   },
   {
    "duration": 1112,
    "start_time": "2023-09-04T08:48:20.633Z"
   },
   {
    "duration": 1636,
    "start_time": "2023-09-04T08:48:56.356Z"
   },
   {
    "duration": 18,
    "start_time": "2023-09-04T08:51:54.417Z"
   },
   {
    "duration": 1331,
    "start_time": "2023-09-04T08:52:03.855Z"
   },
   {
    "duration": 18,
    "start_time": "2023-09-04T08:52:27.187Z"
   },
   {
    "duration": 12,
    "start_time": "2023-09-04T08:58:58.245Z"
   },
   {
    "duration": 4,
    "start_time": "2023-09-04T09:02:12.436Z"
   },
   {
    "duration": 14,
    "start_time": "2023-09-04T09:02:58.997Z"
   },
   {
    "duration": 10,
    "start_time": "2023-09-04T09:03:07.820Z"
   },
   {
    "duration": 6,
    "start_time": "2023-09-04T09:03:27.446Z"
   },
   {
    "duration": 64,
    "start_time": "2023-09-05T10:22:30.334Z"
   },
   {
    "duration": 9,
    "start_time": "2023-09-05T10:26:00.807Z"
   },
   {
    "duration": 1593,
    "start_time": "2023-09-05T10:26:17.239Z"
   },
   {
    "duration": 24,
    "start_time": "2023-09-05T10:26:18.835Z"
   },
   {
    "duration": 28,
    "start_time": "2023-09-05T10:26:18.861Z"
   },
   {
    "duration": 30,
    "start_time": "2023-09-05T10:26:18.891Z"
   },
   {
    "duration": 38,
    "start_time": "2023-09-05T10:26:18.923Z"
   },
   {
    "duration": 4,
    "start_time": "2023-09-05T10:26:18.963Z"
   },
   {
    "duration": 18,
    "start_time": "2023-09-05T10:26:18.968Z"
   },
   {
    "duration": 13,
    "start_time": "2023-09-05T10:26:18.987Z"
   },
   {
    "duration": 49,
    "start_time": "2023-09-05T10:26:19.002Z"
   },
   {
    "duration": 21,
    "start_time": "2023-09-05T10:26:19.053Z"
   },
   {
    "duration": 42,
    "start_time": "2023-09-05T10:26:19.076Z"
   },
   {
    "duration": 11,
    "start_time": "2023-09-05T10:26:19.120Z"
   },
   {
    "duration": 6,
    "start_time": "2023-09-05T10:26:19.133Z"
   },
   {
    "duration": 33,
    "start_time": "2023-09-05T10:26:19.141Z"
   },
   {
    "duration": 23,
    "start_time": "2023-09-05T10:26:19.176Z"
   },
   {
    "duration": 23,
    "start_time": "2023-09-05T10:26:19.201Z"
   },
   {
    "duration": 4,
    "start_time": "2023-09-05T10:26:19.227Z"
   },
   {
    "duration": 34,
    "start_time": "2023-09-05T10:26:19.233Z"
   },
   {
    "duration": 10,
    "start_time": "2023-09-05T10:26:19.269Z"
   },
   {
    "duration": 11,
    "start_time": "2023-09-05T10:26:19.281Z"
   },
   {
    "duration": 49,
    "start_time": "2023-09-05T10:26:19.294Z"
   },
   {
    "duration": 461,
    "start_time": "2023-09-05T10:26:19.345Z"
   },
   {
    "duration": 23,
    "start_time": "2023-09-05T10:26:19.809Z"
   },
   {
    "duration": 40,
    "start_time": "2023-09-05T10:26:19.835Z"
   },
   {
    "duration": 164,
    "start_time": "2023-09-05T10:26:19.876Z"
   },
   {
    "duration": 56,
    "start_time": "2023-09-05T10:27:02.537Z"
   },
   {
    "duration": 56,
    "start_time": "2023-09-05T10:27:35.159Z"
   },
   {
    "duration": 25,
    "start_time": "2023-09-05T10:28:11.126Z"
   },
   {
    "duration": 24,
    "start_time": "2023-09-05T10:28:42.568Z"
   },
   {
    "duration": 32,
    "start_time": "2023-09-05T10:29:25.839Z"
   },
   {
    "duration": 25,
    "start_time": "2023-09-05T10:29:40.453Z"
   },
   {
    "duration": 33,
    "start_time": "2023-09-05T10:30:02.275Z"
   },
   {
    "duration": 56,
    "start_time": "2023-09-05T10:32:13.655Z"
   },
   {
    "duration": 23,
    "start_time": "2023-09-05T10:32:28.434Z"
   },
   {
    "duration": 27,
    "start_time": "2023-09-05T10:33:05.987Z"
   },
   {
    "duration": 33,
    "start_time": "2023-09-05T10:33:12.394Z"
   },
   {
    "duration": 26,
    "start_time": "2023-09-05T10:34:31.236Z"
   },
   {
    "duration": 23,
    "start_time": "2023-09-05T10:34:51.632Z"
   },
   {
    "duration": 33,
    "start_time": "2023-09-05T10:35:00.265Z"
   },
   {
    "duration": 34,
    "start_time": "2023-09-05T10:35:11.985Z"
   },
   {
    "duration": 32,
    "start_time": "2023-09-05T10:35:59.846Z"
   },
   {
    "duration": 24,
    "start_time": "2023-09-05T10:36:06.986Z"
   },
   {
    "duration": 27,
    "start_time": "2023-09-05T10:36:22.552Z"
   },
   {
    "duration": 1429,
    "start_time": "2023-09-05T16:27:36.308Z"
   },
   {
    "duration": 22,
    "start_time": "2023-09-05T16:27:37.739Z"
   },
   {
    "duration": 29,
    "start_time": "2023-09-05T16:27:37.763Z"
   },
   {
    "duration": 13,
    "start_time": "2023-09-05T16:27:37.793Z"
   },
   {
    "duration": 43,
    "start_time": "2023-09-05T16:27:37.808Z"
   },
   {
    "duration": 14,
    "start_time": "2023-09-05T16:27:37.853Z"
   },
   {
    "duration": 20,
    "start_time": "2023-09-05T16:27:37.869Z"
   },
   {
    "duration": 5,
    "start_time": "2023-09-05T16:27:37.891Z"
   },
   {
    "duration": 25,
    "start_time": "2023-09-05T16:27:37.897Z"
   },
   {
    "duration": 7,
    "start_time": "2023-09-05T16:27:37.924Z"
   },
   {
    "duration": 54,
    "start_time": "2023-09-05T16:27:37.932Z"
   },
   {
    "duration": 11,
    "start_time": "2023-09-05T16:27:37.988Z"
   },
   {
    "duration": 13,
    "start_time": "2023-09-05T16:27:38.001Z"
   },
   {
    "duration": 28,
    "start_time": "2023-09-05T16:27:38.016Z"
   },
   {
    "duration": 31,
    "start_time": "2023-09-05T16:27:38.046Z"
   },
   {
    "duration": 18,
    "start_time": "2023-09-05T16:27:38.079Z"
   },
   {
    "duration": 4,
    "start_time": "2023-09-05T16:27:38.099Z"
   },
   {
    "duration": 15,
    "start_time": "2023-09-05T16:27:38.104Z"
   },
   {
    "duration": 10,
    "start_time": "2023-09-05T16:27:38.121Z"
   },
   {
    "duration": 11,
    "start_time": "2023-09-05T16:27:38.133Z"
   },
   {
    "duration": 27,
    "start_time": "2023-09-05T16:27:38.146Z"
   },
   {
    "duration": 424,
    "start_time": "2023-09-05T16:27:38.176Z"
   },
   {
    "duration": 25,
    "start_time": "2023-09-05T16:27:38.602Z"
   },
   {
    "duration": 40,
    "start_time": "2023-09-05T16:27:38.629Z"
   },
   {
    "duration": 23,
    "start_time": "2023-09-05T16:27:38.672Z"
   },
   {
    "duration": 1327,
    "start_time": "2023-09-05T16:28:27.094Z"
   },
   {
    "duration": 21,
    "start_time": "2023-09-05T16:28:28.423Z"
   },
   {
    "duration": 34,
    "start_time": "2023-09-05T16:28:28.445Z"
   },
   {
    "duration": 11,
    "start_time": "2023-09-05T16:28:28.481Z"
   },
   {
    "duration": 37,
    "start_time": "2023-09-05T16:28:28.494Z"
   },
   {
    "duration": 4,
    "start_time": "2023-09-05T16:28:28.533Z"
   },
   {
    "duration": 51,
    "start_time": "2023-09-05T16:28:28.538Z"
   },
   {
    "duration": 18,
    "start_time": "2023-09-05T16:28:28.590Z"
   },
   {
    "duration": 27,
    "start_time": "2023-09-05T16:28:28.609Z"
   },
   {
    "duration": 26,
    "start_time": "2023-09-05T16:28:28.637Z"
   },
   {
    "duration": 67,
    "start_time": "2023-09-05T16:28:28.665Z"
   },
   {
    "duration": 11,
    "start_time": "2023-09-05T16:28:28.734Z"
   },
   {
    "duration": 5,
    "start_time": "2023-09-05T16:28:28.746Z"
   },
   {
    "duration": 12,
    "start_time": "2023-09-05T16:28:28.754Z"
   },
   {
    "duration": 29,
    "start_time": "2023-09-05T16:28:28.769Z"
   },
   {
    "duration": 31,
    "start_time": "2023-09-05T16:28:28.800Z"
   },
   {
    "duration": 5,
    "start_time": "2023-09-05T16:28:28.833Z"
   },
   {
    "duration": 22,
    "start_time": "2023-09-05T16:28:28.839Z"
   },
   {
    "duration": 19,
    "start_time": "2023-09-05T16:28:28.862Z"
   },
   {
    "duration": 4,
    "start_time": "2023-09-05T16:28:28.883Z"
   },
   {
    "duration": 21,
    "start_time": "2023-09-05T16:28:28.889Z"
   },
   {
    "duration": 478,
    "start_time": "2023-09-05T16:28:28.912Z"
   },
   {
    "duration": 22,
    "start_time": "2023-09-05T16:28:29.392Z"
   },
   {
    "duration": 25,
    "start_time": "2023-09-05T16:28:29.416Z"
   },
   {
    "duration": 47,
    "start_time": "2023-09-05T16:28:29.442Z"
   },
   {
    "duration": 2177,
    "start_time": "2023-09-07T08:48:25.078Z"
   },
   {
    "duration": 22,
    "start_time": "2023-09-07T08:48:27.257Z"
   },
   {
    "duration": 22,
    "start_time": "2023-09-07T08:48:27.280Z"
   },
   {
    "duration": 12,
    "start_time": "2023-09-07T08:48:27.304Z"
   },
   {
    "duration": 69,
    "start_time": "2023-09-07T08:48:27.319Z"
   },
   {
    "duration": 19,
    "start_time": "2023-09-07T08:48:27.390Z"
   },
   {
    "duration": 15,
    "start_time": "2023-09-07T08:48:27.411Z"
   },
   {
    "duration": 16,
    "start_time": "2023-09-07T08:48:27.428Z"
   },
   {
    "duration": 9,
    "start_time": "2023-09-07T08:48:27.446Z"
   },
   {
    "duration": 15,
    "start_time": "2023-09-07T08:48:27.458Z"
   },
   {
    "duration": 56,
    "start_time": "2023-09-07T08:48:27.475Z"
   },
   {
    "duration": 13,
    "start_time": "2023-09-07T08:48:27.533Z"
   },
   {
    "duration": 14,
    "start_time": "2023-09-07T08:48:27.548Z"
   },
   {
    "duration": 18,
    "start_time": "2023-09-07T08:48:27.563Z"
   },
   {
    "duration": 47,
    "start_time": "2023-09-07T08:48:27.583Z"
   },
   {
    "duration": 18,
    "start_time": "2023-09-07T08:48:27.632Z"
   },
   {
    "duration": 14,
    "start_time": "2023-09-07T08:48:27.652Z"
   },
   {
    "duration": 24,
    "start_time": "2023-09-07T08:48:27.668Z"
   },
   {
    "duration": 14,
    "start_time": "2023-09-07T08:48:27.694Z"
   },
   {
    "duration": 10,
    "start_time": "2023-09-07T08:48:27.710Z"
   },
   {
    "duration": 40,
    "start_time": "2023-09-07T08:48:27.722Z"
   },
   {
    "duration": 588,
    "start_time": "2023-09-07T08:48:27.764Z"
   },
   {
    "duration": 85,
    "start_time": "2023-09-07T08:48:28.354Z"
   },
   {
    "duration": 74,
    "start_time": "2023-09-07T08:48:28.441Z"
   },
   {
    "duration": 28,
    "start_time": "2023-09-07T08:48:28.517Z"
   },
   {
    "duration": 23,
    "start_time": "2023-09-07T08:48:57.483Z"
   },
   {
    "duration": 186,
    "start_time": "2023-09-07T08:49:21.526Z"
   },
   {
    "duration": 136,
    "start_time": "2023-09-07T09:06:27.052Z"
   },
   {
    "duration": 45,
    "start_time": "2023-09-07T09:07:16.972Z"
   },
   {
    "duration": 82,
    "start_time": "2023-09-07T09:07:36.481Z"
   },
   {
    "duration": 3093,
    "start_time": "2023-09-07T09:09:17.294Z"
   },
   {
    "duration": 4774,
    "start_time": "2023-09-07T09:10:00.444Z"
   },
   {
    "duration": 2652,
    "start_time": "2023-09-07T09:10:33.667Z"
   },
   {
    "duration": 1513,
    "start_time": "2023-09-07T09:11:09.266Z"
   },
   {
    "duration": 21,
    "start_time": "2023-09-07T09:11:10.781Z"
   },
   {
    "duration": 31,
    "start_time": "2023-09-07T09:11:10.803Z"
   },
   {
    "duration": 16,
    "start_time": "2023-09-07T09:11:10.835Z"
   },
   {
    "duration": 39,
    "start_time": "2023-09-07T09:11:10.853Z"
   },
   {
    "duration": 3,
    "start_time": "2023-09-07T09:11:10.894Z"
   },
   {
    "duration": 40,
    "start_time": "2023-09-07T09:11:10.898Z"
   },
   {
    "duration": 18,
    "start_time": "2023-09-07T09:11:10.940Z"
   },
   {
    "duration": 26,
    "start_time": "2023-09-07T09:11:10.960Z"
   },
   {
    "duration": 5,
    "start_time": "2023-09-07T09:11:10.988Z"
   },
   {
    "duration": 59,
    "start_time": "2023-09-07T09:11:10.994Z"
   },
   {
    "duration": 16,
    "start_time": "2023-09-07T09:11:11.057Z"
   },
   {
    "duration": 10,
    "start_time": "2023-09-07T09:11:11.075Z"
   },
   {
    "duration": 31,
    "start_time": "2023-09-07T09:11:11.088Z"
   },
   {
    "duration": 29,
    "start_time": "2023-09-07T09:11:11.121Z"
   },
   {
    "duration": 23,
    "start_time": "2023-09-07T09:11:11.152Z"
   },
   {
    "duration": 21,
    "start_time": "2023-09-07T09:11:11.177Z"
   },
   {
    "duration": 33,
    "start_time": "2023-09-07T09:11:11.200Z"
   },
   {
    "duration": 24,
    "start_time": "2023-09-07T09:11:11.235Z"
   },
   {
    "duration": 21,
    "start_time": "2023-09-07T09:11:11.262Z"
   },
   {
    "duration": 42,
    "start_time": "2023-09-07T09:11:11.285Z"
   },
   {
    "duration": 437,
    "start_time": "2023-09-07T09:11:11.328Z"
   },
   {
    "duration": 2547,
    "start_time": "2023-09-07T09:11:11.767Z"
   },
   {
    "duration": 0,
    "start_time": "2023-09-07T09:11:14.316Z"
   },
   {
    "duration": 0,
    "start_time": "2023-09-07T09:11:14.318Z"
   },
   {
    "duration": 75,
    "start_time": "2023-09-07T09:13:15.473Z"
   },
   {
    "duration": 66,
    "start_time": "2023-09-07T09:14:13.612Z"
   },
   {
    "duration": 73,
    "start_time": "2023-09-07T09:14:21.594Z"
   },
   {
    "duration": 71,
    "start_time": "2023-09-07T09:14:30.950Z"
   },
   {
    "duration": 61,
    "start_time": "2023-09-07T09:15:10.057Z"
   },
   {
    "duration": 69,
    "start_time": "2023-09-07T09:15:19.988Z"
   },
   {
    "duration": 62,
    "start_time": "2023-09-07T09:15:35.907Z"
   },
   {
    "duration": 64,
    "start_time": "2023-09-07T09:20:42.267Z"
   },
   {
    "duration": 75,
    "start_time": "2023-09-07T09:21:00.189Z"
   },
   {
    "duration": 22,
    "start_time": "2023-09-07T09:33:53.395Z"
   },
   {
    "duration": 61,
    "start_time": "2023-09-07T20:16:40.550Z"
   },
   {
    "duration": 1595,
    "start_time": "2023-09-07T20:16:46.629Z"
   },
   {
    "duration": 20,
    "start_time": "2023-09-07T20:16:48.226Z"
   },
   {
    "duration": 23,
    "start_time": "2023-09-07T20:16:48.247Z"
   },
   {
    "duration": 21,
    "start_time": "2023-09-07T20:16:48.272Z"
   },
   {
    "duration": 93,
    "start_time": "2023-09-07T20:16:48.295Z"
   },
   {
    "duration": 4,
    "start_time": "2023-09-07T20:16:48.389Z"
   },
   {
    "duration": 18,
    "start_time": "2023-09-07T20:16:48.394Z"
   },
   {
    "duration": 21,
    "start_time": "2023-09-07T20:16:48.414Z"
   },
   {
    "duration": 25,
    "start_time": "2023-09-07T20:16:48.437Z"
   },
   {
    "duration": 9,
    "start_time": "2023-09-07T20:16:48.464Z"
   },
   {
    "duration": 81,
    "start_time": "2023-09-07T20:16:48.475Z"
   },
   {
    "duration": 48,
    "start_time": "2023-09-07T20:16:48.558Z"
   },
   {
    "duration": 21,
    "start_time": "2023-09-07T20:16:48.607Z"
   },
   {
    "duration": 78,
    "start_time": "2023-09-07T20:16:48.633Z"
   },
   {
    "duration": 35,
    "start_time": "2023-09-07T20:16:48.714Z"
   },
   {
    "duration": 82,
    "start_time": "2023-09-07T20:16:48.752Z"
   },
   {
    "duration": 5,
    "start_time": "2023-09-07T20:16:48.836Z"
   },
   {
    "duration": 62,
    "start_time": "2023-09-07T20:16:48.843Z"
   },
   {
    "duration": 8,
    "start_time": "2023-09-07T20:16:48.917Z"
   },
   {
    "duration": 9,
    "start_time": "2023-09-07T20:16:48.927Z"
   },
   {
    "duration": 20,
    "start_time": "2023-09-07T20:16:48.937Z"
   },
   {
    "duration": 885,
    "start_time": "2023-09-07T20:16:48.959Z"
   },
   {
    "duration": 97,
    "start_time": "2023-09-07T20:16:49.846Z"
   },
   {
    "duration": 182,
    "start_time": "2023-09-07T20:16:49.945Z"
   },
   {
    "duration": 24,
    "start_time": "2023-09-07T20:16:50.129Z"
   },
   {
    "duration": 33,
    "start_time": "2023-09-07T20:16:50.208Z"
   },
   {
    "duration": 57,
    "start_time": "2023-09-08T22:05:17.181Z"
   },
   {
    "duration": 1750,
    "start_time": "2023-09-08T22:05:25.653Z"
   },
   {
    "duration": 21,
    "start_time": "2023-09-08T22:05:27.406Z"
   },
   {
    "duration": 40,
    "start_time": "2023-09-08T22:05:27.429Z"
   },
   {
    "duration": 11,
    "start_time": "2023-09-08T22:05:27.471Z"
   },
   {
    "duration": 55,
    "start_time": "2023-09-08T22:05:27.483Z"
   },
   {
    "duration": 5,
    "start_time": "2023-09-08T22:05:27.540Z"
   },
   {
    "duration": 14,
    "start_time": "2023-09-08T22:05:27.546Z"
   },
   {
    "duration": 6,
    "start_time": "2023-09-08T22:05:27.562Z"
   },
   {
    "duration": 21,
    "start_time": "2023-09-08T22:05:27.569Z"
   },
   {
    "duration": 5,
    "start_time": "2023-09-08T22:05:27.593Z"
   },
   {
    "duration": 40,
    "start_time": "2023-09-08T22:05:27.610Z"
   },
   {
    "duration": 11,
    "start_time": "2023-09-08T22:05:27.653Z"
   },
   {
    "duration": 11,
    "start_time": "2023-09-08T22:05:27.666Z"
   },
   {
    "duration": 32,
    "start_time": "2023-09-08T22:05:27.679Z"
   },
   {
    "duration": 22,
    "start_time": "2023-09-08T22:05:27.713Z"
   },
   {
    "duration": 21,
    "start_time": "2023-09-08T22:05:27.737Z"
   },
   {
    "duration": 4,
    "start_time": "2023-09-08T22:05:27.760Z"
   },
   {
    "duration": 17,
    "start_time": "2023-09-08T22:05:27.766Z"
   },
   {
    "duration": 32,
    "start_time": "2023-09-08T22:05:27.785Z"
   },
   {
    "duration": 3,
    "start_time": "2023-09-08T22:05:27.819Z"
   },
   {
    "duration": 11,
    "start_time": "2023-09-08T22:05:27.824Z"
   },
   {
    "duration": 507,
    "start_time": "2023-09-08T22:05:27.837Z"
   },
   {
    "duration": 35,
    "start_time": "2023-09-08T22:05:28.346Z"
   },
   {
    "duration": 103,
    "start_time": "2023-09-08T22:05:28.383Z"
   },
   {
    "duration": 35,
    "start_time": "2023-09-08T22:05:28.487Z"
   },
   {
    "duration": 23,
    "start_time": "2023-09-08T22:05:28.524Z"
   },
   {
    "duration": 21,
    "start_time": "2023-09-08T22:22:26.642Z"
   },
   {
    "duration": 1645,
    "start_time": "2023-09-08T22:52:59.980Z"
   },
   {
    "duration": 21,
    "start_time": "2023-09-08T22:53:01.630Z"
   },
   {
    "duration": 88,
    "start_time": "2023-09-08T22:53:01.653Z"
   },
   {
    "duration": 50,
    "start_time": "2023-09-08T22:53:01.744Z"
   },
   {
    "duration": 74,
    "start_time": "2023-09-08T22:53:01.796Z"
   },
   {
    "duration": 23,
    "start_time": "2023-09-08T22:53:01.872Z"
   },
   {
    "duration": 79,
    "start_time": "2023-09-08T22:53:01.897Z"
   },
   {
    "duration": 52,
    "start_time": "2023-09-08T22:53:01.978Z"
   },
   {
    "duration": 70,
    "start_time": "2023-09-08T22:53:02.032Z"
   },
   {
    "duration": 21,
    "start_time": "2023-09-08T22:53:02.113Z"
   },
   {
    "duration": 109,
    "start_time": "2023-09-08T22:53:02.135Z"
   },
   {
    "duration": 11,
    "start_time": "2023-09-08T22:53:02.245Z"
   },
   {
    "duration": 16,
    "start_time": "2023-09-08T22:53:02.258Z"
   },
   {
    "duration": 66,
    "start_time": "2023-09-08T22:53:02.276Z"
   },
   {
    "duration": 85,
    "start_time": "2023-09-08T22:53:02.344Z"
   },
   {
    "duration": 35,
    "start_time": "2023-09-08T22:53:02.430Z"
   },
   {
    "duration": 9,
    "start_time": "2023-09-08T22:53:02.467Z"
   },
   {
    "duration": 70,
    "start_time": "2023-09-08T22:53:02.478Z"
   },
   {
    "duration": 25,
    "start_time": "2023-09-08T22:53:02.549Z"
   },
   {
    "duration": 7,
    "start_time": "2023-09-08T22:53:02.576Z"
   },
   {
    "duration": 45,
    "start_time": "2023-09-08T22:53:02.585Z"
   },
   {
    "duration": 427,
    "start_time": "2023-09-08T22:53:02.631Z"
   },
   {
    "duration": 63,
    "start_time": "2023-09-08T22:53:03.060Z"
   },
   {
    "duration": 91,
    "start_time": "2023-09-08T22:53:03.129Z"
   },
   {
    "duration": 19,
    "start_time": "2023-09-08T22:53:03.226Z"
   },
   {
    "duration": 34,
    "start_time": "2023-09-08T22:53:03.247Z"
   },
   {
    "duration": 1724,
    "start_time": "2023-09-09T01:16:01.660Z"
   },
   {
    "duration": 26,
    "start_time": "2023-09-09T01:16:03.387Z"
   },
   {
    "duration": 243,
    "start_time": "2023-09-09T01:16:03.414Z"
   },
   {
    "duration": 32,
    "start_time": "2023-09-09T01:16:03.659Z"
   },
   {
    "duration": 78,
    "start_time": "2023-09-09T01:16:03.693Z"
   },
   {
    "duration": 3,
    "start_time": "2023-09-09T01:16:03.773Z"
   },
   {
    "duration": 43,
    "start_time": "2023-09-09T01:16:03.777Z"
   },
   {
    "duration": 11,
    "start_time": "2023-09-09T01:16:03.821Z"
   },
   {
    "duration": 26,
    "start_time": "2023-09-09T01:16:03.833Z"
   },
   {
    "duration": 6,
    "start_time": "2023-09-09T01:16:03.861Z"
   },
   {
    "duration": 66,
    "start_time": "2023-09-09T01:16:03.869Z"
   },
   {
    "duration": 11,
    "start_time": "2023-09-09T01:16:03.936Z"
   },
   {
    "duration": 117,
    "start_time": "2023-09-09T01:16:03.948Z"
   },
   {
    "duration": 82,
    "start_time": "2023-09-09T01:16:04.067Z"
   },
   {
    "duration": 62,
    "start_time": "2023-09-09T01:16:04.150Z"
   },
   {
    "duration": 32,
    "start_time": "2023-09-09T01:16:04.214Z"
   },
   {
    "duration": 17,
    "start_time": "2023-09-09T01:16:04.248Z"
   },
   {
    "duration": 64,
    "start_time": "2023-09-09T01:16:04.267Z"
   },
   {
    "duration": 23,
    "start_time": "2023-09-09T01:16:04.333Z"
   },
   {
    "duration": 11,
    "start_time": "2023-09-09T01:16:04.357Z"
   },
   {
    "duration": 43,
    "start_time": "2023-09-09T01:16:04.370Z"
   },
   {
    "duration": 512,
    "start_time": "2023-09-09T01:16:04.415Z"
   },
   {
    "duration": 33,
    "start_time": "2023-09-09T01:16:04.928Z"
   },
   {
    "duration": 124,
    "start_time": "2023-09-09T01:16:04.962Z"
   },
   {
    "duration": 0,
    "start_time": "2023-09-09T01:16:05.088Z"
   },
   {
    "duration": 0,
    "start_time": "2023-09-09T01:16:05.089Z"
   },
   {
    "duration": 12,
    "start_time": "2023-09-09T01:16:21.680Z"
   },
   {
    "duration": 26,
    "start_time": "2023-09-09T01:16:57.665Z"
   },
   {
    "duration": 12,
    "start_time": "2023-09-09T01:17:27.888Z"
   },
   {
    "duration": 27,
    "start_time": "2023-09-09T01:17:48.962Z"
   },
   {
    "duration": 41,
    "start_time": "2023-09-09T01:24:44.172Z"
   },
   {
    "duration": 29,
    "start_time": "2023-09-09T01:25:57.533Z"
   },
   {
    "duration": 29,
    "start_time": "2023-09-09T01:26:09.070Z"
   },
   {
    "duration": 30,
    "start_time": "2023-09-09T01:37:38.885Z"
   },
   {
    "duration": 36,
    "start_time": "2023-09-09T01:39:17.614Z"
   },
   {
    "duration": 29,
    "start_time": "2023-09-09T01:56:17.449Z"
   },
   {
    "duration": 37,
    "start_time": "2023-09-09T02:09:15.697Z"
   },
   {
    "duration": 1606,
    "start_time": "2023-09-09T09:22:02.683Z"
   },
   {
    "duration": 20,
    "start_time": "2023-09-09T09:22:04.292Z"
   },
   {
    "duration": 16,
    "start_time": "2023-09-09T09:22:04.314Z"
   },
   {
    "duration": 19,
    "start_time": "2023-09-09T09:22:04.332Z"
   },
   {
    "duration": 38,
    "start_time": "2023-09-09T09:22:04.353Z"
   },
   {
    "duration": 3,
    "start_time": "2023-09-09T09:22:04.393Z"
   },
   {
    "duration": 15,
    "start_time": "2023-09-09T09:22:04.397Z"
   },
   {
    "duration": 9,
    "start_time": "2023-09-09T09:22:04.413Z"
   },
   {
    "duration": 10,
    "start_time": "2023-09-09T09:22:04.423Z"
   },
   {
    "duration": 24,
    "start_time": "2023-09-09T09:22:04.435Z"
   },
   {
    "duration": 39,
    "start_time": "2023-09-09T09:22:04.461Z"
   },
   {
    "duration": 10,
    "start_time": "2023-09-09T09:22:04.502Z"
   },
   {
    "duration": 5,
    "start_time": "2023-09-09T09:22:04.514Z"
   },
   {
    "duration": 14,
    "start_time": "2023-09-09T09:22:04.520Z"
   },
   {
    "duration": 36,
    "start_time": "2023-09-09T09:22:04.535Z"
   },
   {
    "duration": 14,
    "start_time": "2023-09-09T09:22:04.573Z"
   },
   {
    "duration": 3,
    "start_time": "2023-09-09T09:22:04.589Z"
   },
   {
    "duration": 27,
    "start_time": "2023-09-09T09:22:04.593Z"
   },
   {
    "duration": 15,
    "start_time": "2023-09-09T09:22:04.622Z"
   },
   {
    "duration": 6,
    "start_time": "2023-09-09T09:22:04.639Z"
   },
   {
    "duration": 23,
    "start_time": "2023-09-09T09:22:04.646Z"
   },
   {
    "duration": 43,
    "start_time": "2023-09-09T09:22:04.671Z"
   },
   {
    "duration": 29,
    "start_time": "2023-09-09T09:22:04.716Z"
   },
   {
    "duration": 35,
    "start_time": "2023-09-09T09:22:04.746Z"
   },
   {
    "duration": 24,
    "start_time": "2023-09-09T09:22:04.783Z"
   },
   {
    "duration": 53,
    "start_time": "2023-09-09T09:22:04.808Z"
   }
  ],
  "colab": {
   "name": "dpp_template_part2.ipynb",
   "provenance": []
  },
  "kernelspec": {
   "display_name": "Python 3 (ipykernel)",
   "language": "python",
   "name": "python3"
  },
  "language_info": {
   "codemirror_mode": {
    "name": "ipython",
    "version": 3
   },
   "file_extension": ".py",
   "mimetype": "text/x-python",
   "name": "python",
   "nbconvert_exporter": "python",
   "pygments_lexer": "ipython3",
   "version": "3.9.5"
  },
  "toc": {
   "base_numbering": 1,
   "nav_menu": {},
   "number_sections": true,
   "sideBar": true,
   "skip_h1_title": true,
   "title_cell": "Table of Contents",
   "title_sidebar": "Contents",
   "toc_cell": false,
   "toc_position": {
    "height": "calc(100% - 180px)",
    "left": "10px",
    "top": "150px",
    "width": "453.767px"
   },
   "toc_section_display": true,
   "toc_window_display": true
  }
 },
 "nbformat": 4,
 "nbformat_minor": 5
}
