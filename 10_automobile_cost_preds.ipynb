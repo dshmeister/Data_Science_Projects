{
 "cells": [
  {
   "cell_type": "markdown",
   "metadata": {},
   "source": [
    "# Определение стоимости автомобилей"
   ]
  },
  {
   "cell_type": "markdown",
   "metadata": {},
   "source": [
    "Сервис по продаже автомобилей с пробегом «Не бит, не крашен» разрабатывает приложение для привлечения новых клиентов. В нём можно быстро узнать рыночную стоимость своего автомобиля. В вашем распоряжении исторические данные: технические характеристики, комплектации и цены автомобилей. Вам нужно построить модель для определения стоимости. \n",
    "\n",
    "**Заказчику важны:**\n",
    "\n",
    "- качество предсказания;\n",
    "- скорость предсказания;\n",
    "- время обучения."
   ]
  },
  {
   "cell_type": "markdown",
   "metadata": {},
   "source": [
    "Нам предстоит провести исследование данных, проверить на наличие аномалий и избавиться от них. Далее, нам необходимо протестировать несколько моделей, одной из которой будет LightGBM, и как минимум одна- не бустинг. Надо будет сравнить результаты, время обучения и скорость предсказания и выбрать оптимальную.\n",
    "\n",
    "**Наш работа пройдет в 7 этапов:**\n",
    "- Загрузка данных\n",
    "- Изучение данных\n",
    "- Подготовка выборок\n",
    "- Обучение разных моделей\n",
    "- Анализ времени обучения, времени предсказания и качества моделей.\n",
    "- Выбор лучшей модели\n",
    "- Подведение итогов\n",
    "\n",
    "Приступим к работе"
   ]
  },
  {
   "cell_type": "markdown",
   "metadata": {},
   "source": [
    " ## Произведем необходимые импорты"
   ]
  },
  {
   "cell_type": "code",
   "execution_count": 1,
   "metadata": {},
   "outputs": [
    {
     "name": "stdout",
     "output_type": "stream",
     "text": [
      "Requirement already satisfied: lightgbm in /opt/conda/lib/python3.9/site-packages (3.3.1)\n",
      "Requirement already satisfied: wheel in /opt/conda/lib/python3.9/site-packages (from lightgbm) (0.36.2)\n",
      "Requirement already satisfied: numpy in /opt/conda/lib/python3.9/site-packages (from lightgbm) (1.21.1)\n",
      "Requirement already satisfied: scikit-learn!=0.22.0 in /opt/conda/lib/python3.9/site-packages (from lightgbm) (0.24.1)\n",
      "Requirement already satisfied: scipy in /opt/conda/lib/python3.9/site-packages (from lightgbm) (1.9.1)\n",
      "Requirement already satisfied: joblib>=0.11 in /opt/conda/lib/python3.9/site-packages (from scikit-learn!=0.22.0->lightgbm) (1.1.0)\n",
      "Requirement already satisfied: threadpoolctl>=2.0.0 in /opt/conda/lib/python3.9/site-packages (from scikit-learn!=0.22.0->lightgbm) (3.1.0)\n",
      "Note: you may need to restart the kernel to use updated packages.\n"
     ]
    }
   ],
   "source": [
    "pip install lightgbm"
   ]
  },
  {
   "cell_type": "code",
   "execution_count": 2,
   "metadata": {},
   "outputs": [
    {
     "name": "stdout",
     "output_type": "stream",
     "text": [
      "Requirement already satisfied: catboost in /opt/conda/lib/python3.9/site-packages (1.0.3)\n",
      "Requirement already satisfied: numpy>=1.16.0 in /opt/conda/lib/python3.9/site-packages (from catboost) (1.21.1)\n",
      "Requirement already satisfied: graphviz in /opt/conda/lib/python3.9/site-packages (from catboost) (0.20.1)\n",
      "Requirement already satisfied: plotly in /opt/conda/lib/python3.9/site-packages (from catboost) (5.4.0)\n",
      "Requirement already satisfied: scipy in /opt/conda/lib/python3.9/site-packages (from catboost) (1.9.1)\n",
      "Requirement already satisfied: pandas>=0.24.0 in /opt/conda/lib/python3.9/site-packages (from catboost) (1.2.4)\n",
      "Requirement already satisfied: six in /opt/conda/lib/python3.9/site-packages (from catboost) (1.16.0)\n",
      "Requirement already satisfied: matplotlib in /opt/conda/lib/python3.9/site-packages (from catboost) (3.3.4)\n",
      "Requirement already satisfied: python-dateutil>=2.7.3 in /opt/conda/lib/python3.9/site-packages (from pandas>=0.24.0->catboost) (2.8.1)\n",
      "Requirement already satisfied: pytz>=2017.3 in /opt/conda/lib/python3.9/site-packages (from pandas>=0.24.0->catboost) (2021.1)\n",
      "Requirement already satisfied: pillow>=6.2.0 in /opt/conda/lib/python3.9/site-packages (from matplotlib->catboost) (8.4.0)\n",
      "Requirement already satisfied: pyparsing!=2.0.4,!=2.1.2,!=2.1.6,>=2.0.3 in /opt/conda/lib/python3.9/site-packages (from matplotlib->catboost) (2.4.7)\n",
      "Requirement already satisfied: kiwisolver>=1.0.1 in /opt/conda/lib/python3.9/site-packages (from matplotlib->catboost) (1.4.4)\n",
      "Requirement already satisfied: cycler>=0.10 in /opt/conda/lib/python3.9/site-packages (from matplotlib->catboost) (0.11.0)\n",
      "Requirement already satisfied: tenacity>=6.2.0 in /opt/conda/lib/python3.9/site-packages (from plotly->catboost) (8.0.1)\n",
      "Note: you may need to restart the kernel to use updated packages.\n"
     ]
    }
   ],
   "source": [
    "pip install catboost"
   ]
  },
  {
   "cell_type": "code",
   "execution_count": 3,
   "metadata": {},
   "outputs": [
    {
     "name": "stdout",
     "output_type": "stream",
     "text": [
      "Collecting category_encoders\n",
      "  Downloading category_encoders-2.6.3-py2.py3-none-any.whl (81 kB)\n",
      "\u001b[K     |████████████████████████████████| 81 kB 2.1 MB/s eta 0:00:01\n",
      "\u001b[?25hRequirement already satisfied: scipy>=1.0.0 in /opt/conda/lib/python3.9/site-packages (from category_encoders) (1.9.1)\n",
      "Requirement already satisfied: scikit-learn>=0.20.0 in /opt/conda/lib/python3.9/site-packages (from category_encoders) (0.24.1)\n",
      "Requirement already satisfied: patsy>=0.5.1 in /opt/conda/lib/python3.9/site-packages (from category_encoders) (0.5.2)\n",
      "Requirement already satisfied: statsmodels>=0.9.0 in /opt/conda/lib/python3.9/site-packages (from category_encoders) (0.13.2)\n",
      "Requirement already satisfied: numpy>=1.14.0 in /opt/conda/lib/python3.9/site-packages (from category_encoders) (1.21.1)\n",
      "Requirement already satisfied: pandas>=1.0.5 in /opt/conda/lib/python3.9/site-packages (from category_encoders) (1.2.4)\n",
      "Requirement already satisfied: python-dateutil>=2.7.3 in /opt/conda/lib/python3.9/site-packages (from pandas>=1.0.5->category_encoders) (2.8.1)\n",
      "Requirement already satisfied: pytz>=2017.3 in /opt/conda/lib/python3.9/site-packages (from pandas>=1.0.5->category_encoders) (2021.1)\n",
      "Requirement already satisfied: six in /opt/conda/lib/python3.9/site-packages (from patsy>=0.5.1->category_encoders) (1.16.0)\n",
      "Requirement already satisfied: joblib>=0.11 in /opt/conda/lib/python3.9/site-packages (from scikit-learn>=0.20.0->category_encoders) (1.1.0)\n",
      "Requirement already satisfied: threadpoolctl>=2.0.0 in /opt/conda/lib/python3.9/site-packages (from scikit-learn>=0.20.0->category_encoders) (3.1.0)\n",
      "Requirement already satisfied: packaging>=21.3 in /opt/conda/lib/python3.9/site-packages (from statsmodels>=0.9.0->category_encoders) (21.3)\n",
      "Requirement already satisfied: pyparsing!=3.0.5,>=2.0.2 in /opt/conda/lib/python3.9/site-packages (from packaging>=21.3->statsmodels>=0.9.0->category_encoders) (2.4.7)\n",
      "Installing collected packages: category-encoders\n",
      "Successfully installed category-encoders-2.6.3\n",
      "Note: you may need to restart the kernel to use updated packages.\n"
     ]
    }
   ],
   "source": [
    "pip install category_encoders"
   ]
  },
  {
   "cell_type": "code",
   "execution_count": 4,
   "metadata": {},
   "outputs": [],
   "source": [
    "import pandas as pd\n",
    "import matplotlib.pyplot as plt\n",
    "import seaborn as sns\n",
    "\n",
    "import numpy as np\n",
    "\n",
    "from sklearn.model_selection import train_test_split, cross_val_predict\n",
    "from sklearn.preprocessing import StandardScaler, OneHotEncoder\n",
    "\n",
    "from sklearn.linear_model import LinearRegression\n",
    "\n",
    "from sklearn.metrics import mean_squared_error\n",
    "from sklearn.ensemble import RandomForestRegressor\n",
    "\n",
    "from tqdm import tqdm\n",
    "\n",
    "import lightgbm as lgb\n",
    "\n",
    "from catboost import CatBoostRegressor, cv, Pool\n",
    "\n",
    "\n",
    "import category_encoders as ce\n"
   ]
  },
  {
   "cell_type": "code",
   "execution_count": 5,
   "metadata": {},
   "outputs": [
    {
     "data": {
      "text/html": [
       "<style>.container { width:80% !important; }</style>"
      ],
      "text/plain": [
       "<IPython.core.display.HTML object>"
      ]
     },
     "metadata": {},
     "output_type": "display_data"
    }
   ],
   "source": [
    "from IPython.core.display import display, HTML\n",
    "display(HTML(\"<style>.container { width:80% !important; }</style>\"))"
   ]
  },
  {
   "cell_type": "markdown",
   "metadata": {},
   "source": [
    "## Подготовка данных"
   ]
  },
  {
   "cell_type": "markdown",
   "metadata": {},
   "source": [
    "### Загрузим данные"
   ]
  },
  {
   "cell_type": "code",
   "execution_count": 6,
   "metadata": {},
   "outputs": [
    {
     "data": {
      "text/html": [
       "<div>\n",
       "<style scoped>\n",
       "    .dataframe tbody tr th:only-of-type {\n",
       "        vertical-align: middle;\n",
       "    }\n",
       "\n",
       "    .dataframe tbody tr th {\n",
       "        vertical-align: top;\n",
       "    }\n",
       "\n",
       "    .dataframe thead th {\n",
       "        text-align: right;\n",
       "    }\n",
       "</style>\n",
       "<table border=\"1\" class=\"dataframe\">\n",
       "  <thead>\n",
       "    <tr style=\"text-align: right;\">\n",
       "      <th></th>\n",
       "      <th>DateCrawled</th>\n",
       "      <th>Price</th>\n",
       "      <th>VehicleType</th>\n",
       "      <th>RegistrationYear</th>\n",
       "      <th>Gearbox</th>\n",
       "      <th>Power</th>\n",
       "      <th>Model</th>\n",
       "      <th>Kilometer</th>\n",
       "      <th>RegistrationMonth</th>\n",
       "      <th>FuelType</th>\n",
       "      <th>Brand</th>\n",
       "      <th>Repaired</th>\n",
       "      <th>DateCreated</th>\n",
       "      <th>NumberOfPictures</th>\n",
       "      <th>PostalCode</th>\n",
       "      <th>LastSeen</th>\n",
       "    </tr>\n",
       "  </thead>\n",
       "  <tbody>\n",
       "    <tr>\n",
       "      <th>0</th>\n",
       "      <td>2016-03-24 11:52:17</td>\n",
       "      <td>480</td>\n",
       "      <td>NaN</td>\n",
       "      <td>1993</td>\n",
       "      <td>manual</td>\n",
       "      <td>0</td>\n",
       "      <td>golf</td>\n",
       "      <td>150000</td>\n",
       "      <td>0</td>\n",
       "      <td>petrol</td>\n",
       "      <td>volkswagen</td>\n",
       "      <td>NaN</td>\n",
       "      <td>2016-03-24 00:00:00</td>\n",
       "      <td>0</td>\n",
       "      <td>70435</td>\n",
       "      <td>2016-04-07 03:16:57</td>\n",
       "    </tr>\n",
       "    <tr>\n",
       "      <th>1</th>\n",
       "      <td>2016-03-24 10:58:45</td>\n",
       "      <td>18300</td>\n",
       "      <td>coupe</td>\n",
       "      <td>2011</td>\n",
       "      <td>manual</td>\n",
       "      <td>190</td>\n",
       "      <td>NaN</td>\n",
       "      <td>125000</td>\n",
       "      <td>5</td>\n",
       "      <td>gasoline</td>\n",
       "      <td>audi</td>\n",
       "      <td>yes</td>\n",
       "      <td>2016-03-24 00:00:00</td>\n",
       "      <td>0</td>\n",
       "      <td>66954</td>\n",
       "      <td>2016-04-07 01:46:50</td>\n",
       "    </tr>\n",
       "    <tr>\n",
       "      <th>2</th>\n",
       "      <td>2016-03-14 12:52:21</td>\n",
       "      <td>9800</td>\n",
       "      <td>suv</td>\n",
       "      <td>2004</td>\n",
       "      <td>auto</td>\n",
       "      <td>163</td>\n",
       "      <td>grand</td>\n",
       "      <td>125000</td>\n",
       "      <td>8</td>\n",
       "      <td>gasoline</td>\n",
       "      <td>jeep</td>\n",
       "      <td>NaN</td>\n",
       "      <td>2016-03-14 00:00:00</td>\n",
       "      <td>0</td>\n",
       "      <td>90480</td>\n",
       "      <td>2016-04-05 12:47:46</td>\n",
       "    </tr>\n",
       "    <tr>\n",
       "      <th>3</th>\n",
       "      <td>2016-03-17 16:54:04</td>\n",
       "      <td>1500</td>\n",
       "      <td>small</td>\n",
       "      <td>2001</td>\n",
       "      <td>manual</td>\n",
       "      <td>75</td>\n",
       "      <td>golf</td>\n",
       "      <td>150000</td>\n",
       "      <td>6</td>\n",
       "      <td>petrol</td>\n",
       "      <td>volkswagen</td>\n",
       "      <td>no</td>\n",
       "      <td>2016-03-17 00:00:00</td>\n",
       "      <td>0</td>\n",
       "      <td>91074</td>\n",
       "      <td>2016-03-17 17:40:17</td>\n",
       "    </tr>\n",
       "    <tr>\n",
       "      <th>4</th>\n",
       "      <td>2016-03-31 17:25:20</td>\n",
       "      <td>3600</td>\n",
       "      <td>small</td>\n",
       "      <td>2008</td>\n",
       "      <td>manual</td>\n",
       "      <td>69</td>\n",
       "      <td>fabia</td>\n",
       "      <td>90000</td>\n",
       "      <td>7</td>\n",
       "      <td>gasoline</td>\n",
       "      <td>skoda</td>\n",
       "      <td>no</td>\n",
       "      <td>2016-03-31 00:00:00</td>\n",
       "      <td>0</td>\n",
       "      <td>60437</td>\n",
       "      <td>2016-04-06 10:17:21</td>\n",
       "    </tr>\n",
       "  </tbody>\n",
       "</table>\n",
       "</div>"
      ],
      "text/plain": [
       "           DateCrawled  Price VehicleType  RegistrationYear Gearbox  Power  \\\n",
       "0  2016-03-24 11:52:17    480         NaN              1993  manual      0   \n",
       "1  2016-03-24 10:58:45  18300       coupe              2011  manual    190   \n",
       "2  2016-03-14 12:52:21   9800         suv              2004    auto    163   \n",
       "3  2016-03-17 16:54:04   1500       small              2001  manual     75   \n",
       "4  2016-03-31 17:25:20   3600       small              2008  manual     69   \n",
       "\n",
       "   Model  Kilometer  RegistrationMonth  FuelType       Brand Repaired  \\\n",
       "0   golf     150000                  0    petrol  volkswagen      NaN   \n",
       "1    NaN     125000                  5  gasoline        audi      yes   \n",
       "2  grand     125000                  8  gasoline        jeep      NaN   \n",
       "3   golf     150000                  6    petrol  volkswagen       no   \n",
       "4  fabia      90000                  7  gasoline       skoda       no   \n",
       "\n",
       "           DateCreated  NumberOfPictures  PostalCode             LastSeen  \n",
       "0  2016-03-24 00:00:00                 0       70435  2016-04-07 03:16:57  \n",
       "1  2016-03-24 00:00:00                 0       66954  2016-04-07 01:46:50  \n",
       "2  2016-03-14 00:00:00                 0       90480  2016-04-05 12:47:46  \n",
       "3  2016-03-17 00:00:00                 0       91074  2016-03-17 17:40:17  \n",
       "4  2016-03-31 00:00:00                 0       60437  2016-04-06 10:17:21  "
      ]
     },
     "execution_count": 6,
     "metadata": {},
     "output_type": "execute_result"
    }
   ],
   "source": [
    "df = pd.read_csv('/datasets/autos.csv')\n",
    "df.head()"
   ]
  },
  {
   "cell_type": "markdown",
   "metadata": {},
   "source": [
    "Документация датасета"
   ]
  },
  {
   "cell_type": "markdown",
   "metadata": {},
   "source": [
    "**Признаки**\n",
    "\n",
    "- `DateCrawled` — дата скачивания анкеты из базы\n",
    "- `VehicleType`— тип автомобильного кузова\n",
    "- `RegistrationYear` — год регистрации автомобиля\n",
    "- `Gearbox` — тип коробки передач\n",
    "- `Power` — мощность (л. с.)\n",
    "- `Model` — модель автомобиля\n",
    "- `Kilometer` — пробег (км)\n",
    "- `RegistrationMonth` — месяц регистрации автомобиля\n",
    "- `FuelType` — тип топлива\n",
    "- `Brand` — марка автомобиля\n",
    "- `Repaired` — была машина в ремонте или нет\n",
    "- `DateCreated` — дата создания анкеты\n",
    "- `NumberOfPictures` — количество фотографий автомобиля\n",
    "- `PostalCode` — почтовый индекс владельца анкеты (пользователя)\n",
    "- `LastSeen` — дата последней активности пользователя\n",
    "\n",
    "**Целевой признак**\n",
    "\n",
    "Price — цена (евро)"
   ]
  },
  {
   "cell_type": "markdown",
   "metadata": {},
   "source": [
    "**Не информативными являются признаки:**\n",
    "- `LastSeen` - дата последней активности пользователя\n",
    "- `DateCreated` — дата создания анкеты\n",
    "- `DateCrawled` — дата скачивания анкеты из базы\n",
    "\n",
    "\n",
    "**Остается под вопросом:**\n",
    "- `PostalCode` - почтовый индекс владельца анкеты (пользователя), так как возможно можно будет отследить изменение цены по регионам.\n",
    "- `NumberOfPictures` - количество фотографий автомобиля, инетересно понаблюдать как это вообще влияет. Возмодно владельцы, которым  нечего скрывать, выкладывают больше фотографий."
   ]
  },
  {
   "cell_type": "markdown",
   "metadata": {},
   "source": [
    "### Изучим данные"
   ]
  },
  {
   "cell_type": "markdown",
   "metadata": {},
   "source": [
    "Выведем общую  информацию о датасете"
   ]
  },
  {
   "cell_type": "code",
   "execution_count": 7,
   "metadata": {},
   "outputs": [
    {
     "name": "stdout",
     "output_type": "stream",
     "text": [
      "<class 'pandas.core.frame.DataFrame'>\n",
      "RangeIndex: 354369 entries, 0 to 354368\n",
      "Data columns (total 16 columns):\n",
      " #   Column             Non-Null Count   Dtype \n",
      "---  ------             --------------   ----- \n",
      " 0   DateCrawled        354369 non-null  object\n",
      " 1   Price              354369 non-null  int64 \n",
      " 2   VehicleType        316879 non-null  object\n",
      " 3   RegistrationYear   354369 non-null  int64 \n",
      " 4   Gearbox            334536 non-null  object\n",
      " 5   Power              354369 non-null  int64 \n",
      " 6   Model              334664 non-null  object\n",
      " 7   Kilometer          354369 non-null  int64 \n",
      " 8   RegistrationMonth  354369 non-null  int64 \n",
      " 9   FuelType           321474 non-null  object\n",
      " 10  Brand              354369 non-null  object\n",
      " 11  Repaired           283215 non-null  object\n",
      " 12  DateCreated        354369 non-null  object\n",
      " 13  NumberOfPictures   354369 non-null  int64 \n",
      " 14  PostalCode         354369 non-null  int64 \n",
      " 15  LastSeen           354369 non-null  object\n",
      "dtypes: int64(7), object(9)\n",
      "memory usage: 43.3+ MB\n"
     ]
    }
   ],
   "source": [
    "df.info()"
   ]
  },
  {
   "cell_type": "code",
   "execution_count": 8,
   "metadata": {},
   "outputs": [
    {
     "data": {
      "text/html": [
       "<div>\n",
       "<style scoped>\n",
       "    .dataframe tbody tr th:only-of-type {\n",
       "        vertical-align: middle;\n",
       "    }\n",
       "\n",
       "    .dataframe tbody tr th {\n",
       "        vertical-align: top;\n",
       "    }\n",
       "\n",
       "    .dataframe thead th {\n",
       "        text-align: right;\n",
       "    }\n",
       "</style>\n",
       "<table border=\"1\" class=\"dataframe\">\n",
       "  <thead>\n",
       "    <tr style=\"text-align: right;\">\n",
       "      <th></th>\n",
       "      <th>Price</th>\n",
       "      <th>RegistrationYear</th>\n",
       "      <th>Power</th>\n",
       "      <th>Kilometer</th>\n",
       "      <th>RegistrationMonth</th>\n",
       "      <th>NumberOfPictures</th>\n",
       "      <th>PostalCode</th>\n",
       "    </tr>\n",
       "  </thead>\n",
       "  <tbody>\n",
       "    <tr>\n",
       "      <th>count</th>\n",
       "      <td>354369.000000</td>\n",
       "      <td>354369.000000</td>\n",
       "      <td>354369.000000</td>\n",
       "      <td>354369.000000</td>\n",
       "      <td>354369.000000</td>\n",
       "      <td>354369.0</td>\n",
       "      <td>354369.000000</td>\n",
       "    </tr>\n",
       "    <tr>\n",
       "      <th>mean</th>\n",
       "      <td>4416.656776</td>\n",
       "      <td>2004.234448</td>\n",
       "      <td>110.094337</td>\n",
       "      <td>128211.172535</td>\n",
       "      <td>5.714645</td>\n",
       "      <td>0.0</td>\n",
       "      <td>50508.689087</td>\n",
       "    </tr>\n",
       "    <tr>\n",
       "      <th>std</th>\n",
       "      <td>4514.158514</td>\n",
       "      <td>90.227958</td>\n",
       "      <td>189.850405</td>\n",
       "      <td>37905.341530</td>\n",
       "      <td>3.726421</td>\n",
       "      <td>0.0</td>\n",
       "      <td>25783.096248</td>\n",
       "    </tr>\n",
       "    <tr>\n",
       "      <th>min</th>\n",
       "      <td>0.000000</td>\n",
       "      <td>1000.000000</td>\n",
       "      <td>0.000000</td>\n",
       "      <td>5000.000000</td>\n",
       "      <td>0.000000</td>\n",
       "      <td>0.0</td>\n",
       "      <td>1067.000000</td>\n",
       "    </tr>\n",
       "    <tr>\n",
       "      <th>25%</th>\n",
       "      <td>1050.000000</td>\n",
       "      <td>1999.000000</td>\n",
       "      <td>69.000000</td>\n",
       "      <td>125000.000000</td>\n",
       "      <td>3.000000</td>\n",
       "      <td>0.0</td>\n",
       "      <td>30165.000000</td>\n",
       "    </tr>\n",
       "    <tr>\n",
       "      <th>50%</th>\n",
       "      <td>2700.000000</td>\n",
       "      <td>2003.000000</td>\n",
       "      <td>105.000000</td>\n",
       "      <td>150000.000000</td>\n",
       "      <td>6.000000</td>\n",
       "      <td>0.0</td>\n",
       "      <td>49413.000000</td>\n",
       "    </tr>\n",
       "    <tr>\n",
       "      <th>75%</th>\n",
       "      <td>6400.000000</td>\n",
       "      <td>2008.000000</td>\n",
       "      <td>143.000000</td>\n",
       "      <td>150000.000000</td>\n",
       "      <td>9.000000</td>\n",
       "      <td>0.0</td>\n",
       "      <td>71083.000000</td>\n",
       "    </tr>\n",
       "    <tr>\n",
       "      <th>max</th>\n",
       "      <td>20000.000000</td>\n",
       "      <td>9999.000000</td>\n",
       "      <td>20000.000000</td>\n",
       "      <td>150000.000000</td>\n",
       "      <td>12.000000</td>\n",
       "      <td>0.0</td>\n",
       "      <td>99998.000000</td>\n",
       "    </tr>\n",
       "  </tbody>\n",
       "</table>\n",
       "</div>"
      ],
      "text/plain": [
       "               Price  RegistrationYear          Power      Kilometer  \\\n",
       "count  354369.000000     354369.000000  354369.000000  354369.000000   \n",
       "mean     4416.656776       2004.234448     110.094337  128211.172535   \n",
       "std      4514.158514         90.227958     189.850405   37905.341530   \n",
       "min         0.000000       1000.000000       0.000000    5000.000000   \n",
       "25%      1050.000000       1999.000000      69.000000  125000.000000   \n",
       "50%      2700.000000       2003.000000     105.000000  150000.000000   \n",
       "75%      6400.000000       2008.000000     143.000000  150000.000000   \n",
       "max     20000.000000       9999.000000   20000.000000  150000.000000   \n",
       "\n",
       "       RegistrationMonth  NumberOfPictures     PostalCode  \n",
       "count      354369.000000          354369.0  354369.000000  \n",
       "mean            5.714645               0.0   50508.689087  \n",
       "std             3.726421               0.0   25783.096248  \n",
       "min             0.000000               0.0    1067.000000  \n",
       "25%             3.000000               0.0   30165.000000  \n",
       "50%             6.000000               0.0   49413.000000  \n",
       "75%             9.000000               0.0   71083.000000  \n",
       "max            12.000000               0.0   99998.000000  "
      ]
     },
     "execution_count": 8,
     "metadata": {},
     "output_type": "execute_result"
    }
   ],
   "source": [
    "df.describe()"
   ]
  },
  {
   "cell_type": "markdown",
   "metadata": {},
   "source": [
    "**признак NumberOfPictures не имеет каких-либо значений отличных от 0, значит, он не несет никакого практического смысла для нас, можем его удалить**"
   ]
  },
  {
   "cell_type": "markdown",
   "metadata": {},
   "source": [
    "В данных присутствую пропуски, в признаках отвечающих за дату нужно изменить тип данных на дату. Посмотрим на типы данных повнимательнее"
   ]
  },
  {
   "cell_type": "code",
   "execution_count": 9,
   "metadata": {},
   "outputs": [
    {
     "data": {
      "text/plain": [
       "DateCrawled          object\n",
       "Price                 int64\n",
       "VehicleType          object\n",
       "RegistrationYear      int64\n",
       "Gearbox              object\n",
       "Power                 int64\n",
       "Model                object\n",
       "Kilometer             int64\n",
       "RegistrationMonth     int64\n",
       "FuelType             object\n",
       "Brand                object\n",
       "Repaired             object\n",
       "DateCreated          object\n",
       "NumberOfPictures      int64\n",
       "PostalCode            int64\n",
       "LastSeen             object\n",
       "dtype: object"
      ]
     },
     "execution_count": 9,
     "metadata": {},
     "output_type": "execute_result"
    }
   ],
   "source": [
    "df.dtypes"
   ]
  },
  {
   "cell_type": "markdown",
   "metadata": {},
   "source": [
    "Скопируем изначальный датасет в запасную переменную"
   ]
  },
  {
   "cell_type": "code",
   "execution_count": 10,
   "metadata": {},
   "outputs": [],
   "source": [
    "df_init = df.copy()"
   ]
  },
  {
   "cell_type": "code",
   "execution_count": 11,
   "metadata": {},
   "outputs": [
    {
     "name": "stdout",
     "output_type": "stream",
     "text": [
      "CPU times: user 18.4 ms, sys: 20 ms, total: 38.4 ms\n",
      "Wall time: 37.4 ms\n"
     ]
    }
   ],
   "source": [
    "%%time\n",
    "\n",
    "del df['LastSeen']\n"
   ]
  },
  {
   "cell_type": "markdown",
   "metadata": {},
   "source": [
    "будем использовать конструкцию drop, так как она привычнее и можно удалить сразу несколько столбцов"
   ]
  },
  {
   "cell_type": "code",
   "execution_count": 12,
   "metadata": {},
   "outputs": [
    {
     "data": {
      "text/plain": [
       "Index(['DateCrawled', 'Price', 'VehicleType', 'RegistrationYear', 'Gearbox',\n",
       "       'Power', 'Model', 'Kilometer', 'RegistrationMonth', 'FuelType', 'Brand',\n",
       "       'Repaired', 'DateCreated', 'NumberOfPictures', 'PostalCode'],\n",
       "      dtype='object')"
      ]
     },
     "execution_count": 12,
     "metadata": {},
     "output_type": "execute_result"
    }
   ],
   "source": [
    "df.columns"
   ]
  },
  {
   "cell_type": "code",
   "execution_count": 13,
   "metadata": {},
   "outputs": [],
   "source": [
    "df = df.drop(['DateCrawled', 'DateCreated','NumberOfPictures'],axis=1)"
   ]
  },
  {
   "cell_type": "code",
   "execution_count": 14,
   "metadata": {},
   "outputs": [
    {
     "data": {
      "text/plain": [
       "Index(['Price', 'VehicleType', 'RegistrationYear', 'Gearbox', 'Power', 'Model',\n",
       "       'Kilometer', 'RegistrationMonth', 'FuelType', 'Brand', 'Repaired',\n",
       "       'PostalCode'],\n",
       "      dtype='object')"
      ]
     },
     "execution_count": 14,
     "metadata": {},
     "output_type": "execute_result"
    }
   ],
   "source": [
    "df.columns"
   ]
  },
  {
   "cell_type": "markdown",
   "metadata": {},
   "source": [
    "Выделим int и object признаки"
   ]
  },
  {
   "cell_type": "code",
   "execution_count": 15,
   "metadata": {},
   "outputs": [
    {
     "data": {
      "text/plain": [
       "Price                 int64\n",
       "VehicleType          object\n",
       "RegistrationYear      int64\n",
       "Gearbox              object\n",
       "Power                 int64\n",
       "Model                object\n",
       "Kilometer             int64\n",
       "RegistrationMonth     int64\n",
       "FuelType             object\n",
       "Brand                object\n",
       "Repaired             object\n",
       "PostalCode            int64\n",
       "dtype: object"
      ]
     },
     "execution_count": 15,
     "metadata": {},
     "output_type": "execute_result"
    }
   ],
   "source": [
    "df.dtypes"
   ]
  },
  {
   "cell_type": "code",
   "execution_count": 16,
   "metadata": {},
   "outputs": [],
   "source": [
    "numeric_feats = ['Price', 'RegistrationYear','Power','Kilometer','RegistrationMonth','PostalCode']\n",
    "obj_feats = ['VehicleType','Gearbox','Model','FuelType','Brand','Repaired']"
   ]
  },
  {
   "cell_type": "markdown",
   "metadata": {},
   "source": [
    "#### Разберемся с пропусками"
   ]
  },
  {
   "cell_type": "code",
   "execution_count": 17,
   "metadata": {},
   "outputs": [
    {
     "data": {
      "text/plain": [
       "Price                    0\n",
       "VehicleType          37490\n",
       "RegistrationYear         0\n",
       "Gearbox              19833\n",
       "Power                    0\n",
       "Model                19705\n",
       "Kilometer                0\n",
       "RegistrationMonth        0\n",
       "FuelType             32895\n",
       "Brand                    0\n",
       "Repaired             71154\n",
       "PostalCode               0\n",
       "dtype: int64"
      ]
     },
     "execution_count": 17,
     "metadata": {},
     "output_type": "execute_result"
    }
   ],
   "source": [
    "df.isna().sum()"
   ]
  },
  {
   "cell_type": "code",
   "execution_count": 18,
   "metadata": {},
   "outputs": [
    {
     "data": {
      "text/plain": [
       "array([nan, 'coupe', 'suv', 'small', 'sedan', 'convertible', 'bus',\n",
       "       'wagon', 'other'], dtype=object)"
      ]
     },
     "metadata": {},
     "output_type": "display_data"
    },
    {
     "data": {
      "text/plain": [
       "sedan          91457\n",
       "small          79831\n",
       "wagon          65166\n",
       "bus            28775\n",
       "convertible    20203\n",
       "coupe          16163\n",
       "suv            11996\n",
       "other           3288\n",
       "Name: VehicleType, dtype: int64"
      ]
     },
     "execution_count": 18,
     "metadata": {},
     "output_type": "execute_result"
    }
   ],
   "source": [
    "display(df['VehicleType'].unique())\n",
    "df['VehicleType'].value_counts()"
   ]
  },
  {
   "cell_type": "code",
   "execution_count": 19,
   "metadata": {},
   "outputs": [
    {
     "data": {
      "text/html": [
       "<div>\n",
       "<style scoped>\n",
       "    .dataframe tbody tr th:only-of-type {\n",
       "        vertical-align: middle;\n",
       "    }\n",
       "\n",
       "    .dataframe tbody tr th {\n",
       "        vertical-align: top;\n",
       "    }\n",
       "\n",
       "    .dataframe thead th {\n",
       "        text-align: right;\n",
       "    }\n",
       "</style>\n",
       "<table border=\"1\" class=\"dataframe\">\n",
       "  <thead>\n",
       "    <tr style=\"text-align: right;\">\n",
       "      <th></th>\n",
       "      <th></th>\n",
       "      <th>Price</th>\n",
       "      <th>RegistrationYear</th>\n",
       "      <th>Power</th>\n",
       "      <th>Kilometer</th>\n",
       "      <th>RegistrationMonth</th>\n",
       "    </tr>\n",
       "    <tr>\n",
       "      <th>Brand</th>\n",
       "      <th>PostalCode</th>\n",
       "      <th></th>\n",
       "      <th></th>\n",
       "      <th></th>\n",
       "      <th></th>\n",
       "      <th></th>\n",
       "    </tr>\n",
       "  </thead>\n",
       "  <tbody>\n",
       "    <tr>\n",
       "      <th rowspan=\"5\" valign=\"top\">alfa_romeo</th>\n",
       "      <th>1067</th>\n",
       "      <td>4800.0</td>\n",
       "      <td>2008.0</td>\n",
       "      <td>120.0</td>\n",
       "      <td>80000.0</td>\n",
       "      <td>12.0</td>\n",
       "    </tr>\n",
       "    <tr>\n",
       "      <th>1109</th>\n",
       "      <td>1500.0</td>\n",
       "      <td>2002.0</td>\n",
       "      <td>120.0</td>\n",
       "      <td>150000.0</td>\n",
       "      <td>9.0</td>\n",
       "    </tr>\n",
       "    <tr>\n",
       "      <th>1239</th>\n",
       "      <td>1000.0</td>\n",
       "      <td>2001.0</td>\n",
       "      <td>120.0</td>\n",
       "      <td>150000.0</td>\n",
       "      <td>2.0</td>\n",
       "    </tr>\n",
       "    <tr>\n",
       "      <th>1309</th>\n",
       "      <td>5400.0</td>\n",
       "      <td>2009.0</td>\n",
       "      <td>155.0</td>\n",
       "      <td>125000.0</td>\n",
       "      <td>3.0</td>\n",
       "    </tr>\n",
       "    <tr>\n",
       "      <th>1558</th>\n",
       "      <td>799.0</td>\n",
       "      <td>2005.0</td>\n",
       "      <td>146.0</td>\n",
       "      <td>150000.0</td>\n",
       "      <td>2.0</td>\n",
       "    </tr>\n",
       "    <tr>\n",
       "      <th>...</th>\n",
       "      <th>...</th>\n",
       "      <td>...</td>\n",
       "      <td>...</td>\n",
       "      <td>...</td>\n",
       "      <td>...</td>\n",
       "      <td>...</td>\n",
       "    </tr>\n",
       "    <tr>\n",
       "      <th rowspan=\"5\" valign=\"top\">volvo</th>\n",
       "      <th>99846</th>\n",
       "      <td>400.0</td>\n",
       "      <td>1998.0</td>\n",
       "      <td>115.0</td>\n",
       "      <td>150000.0</td>\n",
       "      <td>5.0</td>\n",
       "    </tr>\n",
       "    <tr>\n",
       "      <th>99848</th>\n",
       "      <td>800.0</td>\n",
       "      <td>1995.0</td>\n",
       "      <td>90.0</td>\n",
       "      <td>100000.0</td>\n",
       "      <td>9.0</td>\n",
       "    </tr>\n",
       "    <tr>\n",
       "      <th>99867</th>\n",
       "      <td>8900.0</td>\n",
       "      <td>2007.0</td>\n",
       "      <td>179.0</td>\n",
       "      <td>125000.0</td>\n",
       "      <td>6.0</td>\n",
       "    </tr>\n",
       "    <tr>\n",
       "      <th>99947</th>\n",
       "      <td>1860.0</td>\n",
       "      <td>1999.0</td>\n",
       "      <td>105.0</td>\n",
       "      <td>150000.0</td>\n",
       "      <td>9.0</td>\n",
       "    </tr>\n",
       "    <tr>\n",
       "      <th>99974</th>\n",
       "      <td>2500.0</td>\n",
       "      <td>1999.0</td>\n",
       "      <td>140.0</td>\n",
       "      <td>150000.0</td>\n",
       "      <td>12.0</td>\n",
       "    </tr>\n",
       "  </tbody>\n",
       "</table>\n",
       "<p>92613 rows × 5 columns</p>\n",
       "</div>"
      ],
      "text/plain": [
       "                        Price  RegistrationYear  Power  Kilometer  \\\n",
       "Brand      PostalCode                                               \n",
       "alfa_romeo 1067        4800.0            2008.0  120.0    80000.0   \n",
       "           1109        1500.0            2002.0  120.0   150000.0   \n",
       "           1239        1000.0            2001.0  120.0   150000.0   \n",
       "           1309        5400.0            2009.0  155.0   125000.0   \n",
       "           1558         799.0            2005.0  146.0   150000.0   \n",
       "...                       ...               ...    ...        ...   \n",
       "volvo      99846        400.0            1998.0  115.0   150000.0   \n",
       "           99848        800.0            1995.0   90.0   100000.0   \n",
       "           99867       8900.0            2007.0  179.0   125000.0   \n",
       "           99947       1860.0            1999.0  105.0   150000.0   \n",
       "           99974       2500.0            1999.0  140.0   150000.0   \n",
       "\n",
       "                       RegistrationMonth  \n",
       "Brand      PostalCode                     \n",
       "alfa_romeo 1067                     12.0  \n",
       "           1109                      9.0  \n",
       "           1239                      2.0  \n",
       "           1309                      3.0  \n",
       "           1558                      2.0  \n",
       "...                                  ...  \n",
       "volvo      99846                     5.0  \n",
       "           99848                     9.0  \n",
       "           99867                     6.0  \n",
       "           99947                     9.0  \n",
       "           99974                    12.0  \n",
       "\n",
       "[92613 rows x 5 columns]"
      ]
     },
     "execution_count": 19,
     "metadata": {},
     "output_type": "execute_result"
    }
   ],
   "source": [
    "df.groupby(by=['Brand','PostalCode']).mean()"
   ]
  },
  {
   "cell_type": "markdown",
   "metadata": {},
   "source": [
    "**избавимся от пропусков**\n"
   ]
  },
  {
   "cell_type": "code",
   "execution_count": 20,
   "metadata": {},
   "outputs": [],
   "source": [
    "df_test = df.copy()"
   ]
  },
  {
   "cell_type": "markdown",
   "metadata": {},
   "source": [
    "Посмотрим какой у нас баланс в каждом признаке"
   ]
  },
  {
   "cell_type": "code",
   "execution_count": 21,
   "metadata": {},
   "outputs": [],
   "source": [
    "filled_objects = ['VehicleType','Gearbox','Model','FuelType','Repaired'] # объекты которые подлежат заполнению"
   ]
  },
  {
   "cell_type": "code",
   "execution_count": 22,
   "metadata": {
    "scrolled": true
   },
   "outputs": [
    {
     "data": {
      "image/png": "[encoded data removed]",
      "text/plain": [
       "<Figure size 720x720 with 1 Axes>"
      ]
     },
     "metadata": {
      "needs_background": "light"
     },
     "output_type": "display_data"
    },
    {
     "data": {
      "image/png": "[encoded data removed]",
      "text/plain": [
       "<Figure size 720x720 with 1 Axes>"
      ]
     },
     "metadata": {
      "needs_background": "light"
     },
     "output_type": "display_data"
    },
    {
     "data": {
      "image/png": "[encoded data removed]",
      "text/plain": [
       "<Figure size 720x720 with 1 Axes>"
      ]
     },
     "metadata": {
      "needs_background": "light"
     },
     "output_type": "display_data"
    },
    {
     "data": {
      "image/png": "[encoded data removed]",
      "text/plain": [
       "<Figure size 720x720 with 1 Axes>"
      ]
     },
     "metadata": {
      "needs_background": "light"
     },
     "output_type": "display_data"
    },
    {
     "data": {
      "image/png": "[encoded data removed]",
      "text/plain": [
       "<Figure size 720x720 with 1 Axes>"
      ]
     },
     "metadata": {
      "needs_background": "light"
     },
     "output_type": "display_data"
    }
   ],
   "source": [
    "for feat in filled_objects:\n",
    "    df[feat].value_counts().plot(kind='bar',figsize=(10,10), title=feat);\n",
    "    plt.show()\n",
    "# df_test[['VehicleType','Gearbox','Model','FuelType','Repaired']].value_counts().plot(kind='bar',figsize=(10,10));"
   ]
  },
  {
   "cell_type": "markdown",
   "metadata": {},
   "source": []
  },
  {
   "cell_type": "code",
   "execution_count": 23,
   "metadata": {},
   "outputs": [],
   "source": [
    "df[['VehicleType','Gearbox','Model','FuelType','Repaired']] = (df\n",
    "         .groupby(['Brand'])[['VehicleType','Gearbox','Model','FuelType','Repaired']]  # группируем авто по маркам\n",
    "         .apply(lambda x: x.sort_values(by='VehicleType').fillna(method=\"bfill\").fillna(method=\"ffill\"))  # производим замены внутри групп марок\n",
    "         .droplevel(0)   # избавляемся от мультииндекса\n",
    "         .sort_index(ascending=True))[['VehicleType','Gearbox','Model','FuelType','Repaired']] # сортируем строки по индексу"
   ]
  },
  {
   "cell_type": "code",
   "execution_count": 24,
   "metadata": {},
   "outputs": [
    {
     "data": {
      "text/plain": [
       "Price                   0\n",
       "VehicleType             0\n",
       "RegistrationYear        0\n",
       "Gearbox                 0\n",
       "Power                   0\n",
       "Model                3374\n",
       "Kilometer               0\n",
       "RegistrationMonth       0\n",
       "FuelType                0\n",
       "Brand                   0\n",
       "Repaired                0\n",
       "PostalCode              0\n",
       "dtype: int64"
      ]
     },
     "execution_count": 24,
     "metadata": {},
     "output_type": "execute_result"
    }
   ],
   "source": [
    "df.isna().sum()"
   ]
  },
  {
   "cell_type": "code",
   "execution_count": 25,
   "metadata": {},
   "outputs": [
    {
     "data": {
      "text/plain": [
       "Price                0\n",
       "VehicleType          0\n",
       "RegistrationYear     0\n",
       "Gearbox              0\n",
       "Power                0\n",
       "Model                0\n",
       "Kilometer            0\n",
       "RegistrationMonth    0\n",
       "FuelType             0\n",
       "Brand                0\n",
       "Repaired             0\n",
       "PostalCode           0\n",
       "dtype: int64"
      ]
     },
     "execution_count": 25,
     "metadata": {},
     "output_type": "execute_result"
    }
   ],
   "source": [
    "df = df.dropna(subset=['Model'])\n",
    "df.isna().sum()"
   ]
  },
  {
   "cell_type": "code",
   "execution_count": 26,
   "metadata": {
    "scrolled": true
   },
   "outputs": [
    {
     "data": {
      "text/plain": [
       "<Figure size 720x720 with 0 Axes>"
      ]
     },
     "metadata": {},
     "output_type": "display_data"
    },
    {
     "data": {
      "image/png": "[encoded data removed]",
      "text/plain": [
       "<Figure size 432x288 with 1 Axes>"
      ]
     },
     "metadata": {
      "needs_background": "light"
     },
     "output_type": "display_data"
    },
    {
     "data": {
      "image/png": "[encoded data removed]",
      "text/plain": [
       "<Figure size 432x288 with 1 Axes>"
      ]
     },
     "metadata": {
      "needs_background": "light"
     },
     "output_type": "display_data"
    },
    {
     "data": {
      "image/png": "[encoded data removed]",
      "text/plain": [
       "<Figure size 432x288 with 1 Axes>"
      ]
     },
     "metadata": {
      "needs_background": "light"
     },
     "output_type": "display_data"
    },
    {
     "data": {
      "image/png": "[encoded data removed]",
      "text/plain": [
       "<Figure size 432x288 with 1 Axes>"
      ]
     },
     "metadata": {
      "needs_background": "light"
     },
     "output_type": "display_data"
    },
    {
     "name": "stdout",
     "output_type": "stream",
     "text": [
      "CPU times: user 794 ms, sys: 22.8 ms, total: 817 ms\n",
      "Wall time: 832 ms\n"
     ]
    }
   ],
   "source": [
    "%%time\n",
    "filled_objects = ['VehicleType','Gearbox','FuelType','Repaired'] # объекты которые подлежат заполнению\n",
    "\n",
    "plt.figure(figsize=(10,10))\n",
    "for feat in filled_objects:\n",
    "    df_dinamic = pd.concat([df_test[feat].value_counts(),df[feat].value_counts()],names=['1','2'],axis=1)\n",
    "    df_dinamic.columns=[str(feat)+' before change', str(feat)+' after change']\n",
    "    df_dinamic.plot(kind='bar', );\n",
    "    plt.show();"
   ]
  },
  {
   "cell_type": "markdown",
   "metadata": {},
   "source": [
    "отлично, заменили пропуски, примерно сохранив баланс классов."
   ]
  },
  {
   "cell_type": "markdown",
   "metadata": {},
   "source": [
    "#### Проверим датасет на аномалии"
   ]
  },
  {
   "cell_type": "code",
   "execution_count": 27,
   "metadata": {},
   "outputs": [
    {
     "data": {
      "image/png": "[encoded data removed]",
      "text/plain": [
       "<Figure size 432x288 with 1 Axes>"
      ]
     },
     "metadata": {
      "needs_background": "light"
     },
     "output_type": "display_data"
    },
    {
     "data": {
      "image/png": "[encoded data removed]",
      "text/plain": [
       "<Figure size 432x288 with 1 Axes>"
      ]
     },
     "metadata": {
      "needs_background": "light"
     },
     "output_type": "display_data"
    },
    {
     "data": {
      "image/png": "[encoded data removed]",
      "text/plain": [
       "<Figure size 432x288 with 1 Axes>"
      ]
     },
     "metadata": {
      "needs_background": "light"
     },
     "output_type": "display_data"
    },
    {
     "data": {
      "image/png": "[encoded data removed]",
      "text/plain": [
       "<Figure size 432x288 with 1 Axes>"
      ]
     },
     "metadata": {
      "needs_background": "light"
     },
     "output_type": "display_data"
    },
    {
     "data": {
      "image/png": "[encoded data removed]",
      "text/plain": [
       "<Figure size 432x288 with 1 Axes>"
      ]
     },
     "metadata": {
      "needs_background": "light"
     },
     "output_type": "display_data"
    },
    {
     "data": {
      "image/png": "[encoded data removed]",
      "text/plain": [
       "<Figure size 432x288 with 1 Axes>"
      ]
     },
     "metadata": {
      "needs_background": "light"
     },
     "output_type": "display_data"
    }
   ],
   "source": [
    "for feat in numeric_feats: \n",
    "    df[feat].plot(kind='box',grid=True, title='box plot for '+str(feat))\n",
    "    plt.show()"
   ]
  },
  {
   "cell_type": "code",
   "execution_count": 28,
   "metadata": {},
   "outputs": [
    {
     "data": {
      "image/png": "[encoded data removed]",
      "text/plain": [
       "<Figure size 432x288 with 1 Axes>"
      ]
     },
     "metadata": {
      "needs_background": "light"
     },
     "output_type": "display_data"
    },
    {
     "data": {
      "image/png": "[encoded data removed]",
      "text/plain": [
       "<Figure size 432x288 with 1 Axes>"
      ]
     },
     "metadata": {
      "needs_background": "light"
     },
     "output_type": "display_data"
    },
    {
     "data": {
      "image/png": "[encoded data removed]",
      "text/plain": [
       "<Figure size 432x288 with 1 Axes>"
      ]
     },
     "metadata": {
      "needs_background": "light"
     },
     "output_type": "display_data"
    },
    {
     "data": {
      "image/png": "[encoded data removed]",
      "text/plain": [
       "<Figure size 432x288 with 1 Axes>"
      ]
     },
     "metadata": {
      "needs_background": "light"
     },
     "output_type": "display_data"
    },
    {
     "data": {
      "image/png": "[encoded data removed]",
      "text/plain": [
       "<Figure size 432x288 with 1 Axes>"
      ]
     },
     "metadata": {
      "needs_background": "light"
     },
     "output_type": "display_data"
    },
    {
     "data": {
      "image/png": "[encoded data removed]",
      "text/plain": [
       "<Figure size 432x288 with 1 Axes>"
      ]
     },
     "metadata": {
      "needs_background": "light"
     },
     "output_type": "display_data"
    }
   ],
   "source": [
    "xl = [(0,20100), (1900,2100),(0,300),(0, 160000), (0,12),(0,100001)]\n",
    "i = 0\n",
    "for feat in numeric_feats: \n",
    "    df[feat].plot(kind='hist',grid=True, title='hist plot for '+str(feat), bins=100,xlim=xl[i])\n",
    "    plt.show()\n",
    "    i+=1\n",
    "    "
   ]
  },
  {
   "cell_type": "markdown",
   "metadata": {},
   "source": [
    "#### Исправляем аномалии"
   ]
  },
  {
   "cell_type": "markdown",
   "metadata": {},
   "source": [
    "**Цена**"
   ]
  },
  {
   "cell_type": "markdown",
   "metadata": {},
   "source": [
    "Цены оставим почти без изменений, но нужно только избавиться от совсем маленьких стоимостей.\n"
   ]
  },
  {
   "cell_type": "code",
   "execution_count": 29,
   "metadata": {},
   "outputs": [
    {
     "data": {
      "text/plain": [
       "(12640, 12)"
      ]
     },
     "execution_count": 29,
     "metadata": {},
     "output_type": "execute_result"
    }
   ],
   "source": [
    "df.loc[(df['Price']<100)&(df['Price']>=0)].shape"
   ]
  },
  {
   "cell_type": "markdown",
   "metadata": {},
   "source": [
    "Избавимся от этих данных, потому что их не так много ,чтобы это как-то серьезно сказалось на обучении."
   ]
  },
  {
   "cell_type": "code",
   "execution_count": 30,
   "metadata": {},
   "outputs": [
    {
     "data": {
      "text/plain": [
       "(337341, 12)"
      ]
     },
     "execution_count": 30,
     "metadata": {},
     "output_type": "execute_result"
    }
   ],
   "source": [
    "df = df.loc[df['Price']>100]\n",
    "df.shape"
   ]
  },
  {
   "cell_type": "markdown",
   "metadata": {},
   "source": [
    "**Год регистрации**"
   ]
  },
  {
   "cell_type": "markdown",
   "metadata": {},
   "source": [
    "Проанализировав сайт auto.ru стало заметно, что до 1960 года, можно найти только очень редкие автомобили, и их всего 120 штук, поэтому посмотрим сколько всего позиций выходит за пределы наших рамок"
   ]
  },
  {
   "cell_type": "code",
   "execution_count": 31,
   "metadata": {},
   "outputs": [
    {
     "data": {
      "text/plain": [
       "array([9999, 9000, 8500, 8200, 7800, 7100, 7000, 6000, 5911, 5900, 5600,\n",
       "       5555, 5000, 4500, 4000, 3700, 3000, 2900, 2800, 2500, 2290, 2200,\n",
       "       2066, 2019, 2018, 2017, 2016, 2015, 2014, 2013, 2012, 2011, 2010,\n",
       "       2009, 2008, 2007, 2006, 2005, 2004, 2003, 2002, 2001, 2000, 1999,\n",
       "       1998, 1997, 1996, 1995, 1994, 1993, 1992, 1991, 1990, 1989, 1988,\n",
       "       1987, 1986, 1985, 1984, 1983, 1982, 1981, 1980, 1979, 1978, 1977,\n",
       "       1976, 1975, 1974, 1973, 1972, 1971, 1970, 1969, 1968, 1967, 1966,\n",
       "       1965, 1964, 1963, 1962, 1961, 1960, 1959, 1958, 1957, 1956, 1955,\n",
       "       1954, 1953, 1952, 1951, 1950, 1949, 1947, 1945, 1943, 1942, 1941,\n",
       "       1940, 1938, 1937, 1936, 1935, 1934, 1933, 1932, 1931, 1930, 1929,\n",
       "       1928, 1927, 1923, 1910, 1800, 1602, 1600, 1500, 1400, 1300, 1234,\n",
       "       1111, 1039, 1001, 1000])"
      ]
     },
     "execution_count": 31,
     "metadata": {},
     "output_type": "execute_result"
    }
   ],
   "source": [
    "df['RegistrationYear'].sort_values(ascending = False).unique()"
   ]
  },
  {
   "cell_type": "markdown",
   "metadata": {},
   "source": [
    "В данных с годом регистрации есть выбросы, видимо, что в машины продают в далекой-далекой галактике в Мос Эйсли. Если строчек с \"неправильным\" годом совсем мало, то удалим их, если относительно мнгого, то заменим на среднее значение по году регистрации"
   ]
  },
  {
   "cell_type": "code",
   "execution_count": 32,
   "metadata": {},
   "outputs": [
    {
     "data": {
      "image/png": "[encoded data removed]",
      "text/plain": [
       "<Figure size 432x288 with 1 Axes>"
      ]
     },
     "metadata": {
      "needs_background": "light"
     },
     "output_type": "display_data"
    }
   ],
   "source": [
    "df['RegistrationYear'].value_counts().plot(kind = 'hist', bins = 100, xlim = (2020, 10000), title = 'Распределение выбросов с годом регистрации', ylim = (0, 3));\n",
    "plt.show()"
   ]
  },
  {
   "cell_type": "code",
   "execution_count": 33,
   "metadata": {},
   "outputs": [
    {
     "data": {
      "text/plain": [
       "2290     1\n",
       "2800     1\n",
       "5900     1\n",
       "7800     1\n",
       "2066     1\n",
       "2900     1\n",
       "8200     1\n",
       "2200     1\n",
       "9000     1\n",
       "3700     1\n",
       "5600     1\n",
       "7100     1\n",
       "8500     1\n",
       "2500     2\n",
       "5911     2\n",
       "5555     2\n",
       "4500     2\n",
       "4000     3\n",
       "6000     3\n",
       "3000     3\n",
       "7000     3\n",
       "9999    11\n",
       "5000    12\n",
       "Name: RegistrationYear, dtype: int64"
      ]
     },
     "execution_count": 33,
     "metadata": {},
     "output_type": "execute_result"
    }
   ],
   "source": [
    "df.loc[df['RegistrationYear'] > 2019, 'RegistrationYear'].value_counts().sort_values()"
   ]
  },
  {
   "cell_type": "markdown",
   "metadata": {},
   "source": [
    "Да, таких значений совсем мало, поэтому можно удалить эти строчки"
   ]
  },
  {
   "cell_type": "code",
   "execution_count": 34,
   "metadata": {},
   "outputs": [
    {
     "data": {
      "text/html": [
       "<div>\n",
       "<style scoped>\n",
       "    .dataframe tbody tr th:only-of-type {\n",
       "        vertical-align: middle;\n",
       "    }\n",
       "\n",
       "    .dataframe tbody tr th {\n",
       "        vertical-align: top;\n",
       "    }\n",
       "\n",
       "    .dataframe thead th {\n",
       "        text-align: right;\n",
       "    }\n",
       "</style>\n",
       "<table border=\"1\" class=\"dataframe\">\n",
       "  <thead>\n",
       "    <tr style=\"text-align: right;\">\n",
       "      <th></th>\n",
       "      <th>Price</th>\n",
       "      <th>VehicleType</th>\n",
       "      <th>RegistrationYear</th>\n",
       "      <th>Gearbox</th>\n",
       "      <th>Power</th>\n",
       "      <th>Model</th>\n",
       "      <th>Kilometer</th>\n",
       "      <th>RegistrationMonth</th>\n",
       "      <th>FuelType</th>\n",
       "      <th>Brand</th>\n",
       "      <th>Repaired</th>\n",
       "      <th>PostalCode</th>\n",
       "    </tr>\n",
       "  </thead>\n",
       "  <tbody>\n",
       "    <tr>\n",
       "      <th>0</th>\n",
       "      <td>480</td>\n",
       "      <td>wagon</td>\n",
       "      <td>1993</td>\n",
       "      <td>manual</td>\n",
       "      <td>0</td>\n",
       "      <td>golf</td>\n",
       "      <td>150000</td>\n",
       "      <td>0</td>\n",
       "      <td>petrol</td>\n",
       "      <td>volkswagen</td>\n",
       "      <td>no</td>\n",
       "      <td>70435</td>\n",
       "    </tr>\n",
       "    <tr>\n",
       "      <th>1</th>\n",
       "      <td>18300</td>\n",
       "      <td>coupe</td>\n",
       "      <td>2011</td>\n",
       "      <td>manual</td>\n",
       "      <td>190</td>\n",
       "      <td>80</td>\n",
       "      <td>125000</td>\n",
       "      <td>5</td>\n",
       "      <td>gasoline</td>\n",
       "      <td>audi</td>\n",
       "      <td>yes</td>\n",
       "      <td>66954</td>\n",
       "    </tr>\n",
       "    <tr>\n",
       "      <th>2</th>\n",
       "      <td>9800</td>\n",
       "      <td>suv</td>\n",
       "      <td>2004</td>\n",
       "      <td>auto</td>\n",
       "      <td>163</td>\n",
       "      <td>grand</td>\n",
       "      <td>125000</td>\n",
       "      <td>8</td>\n",
       "      <td>gasoline</td>\n",
       "      <td>jeep</td>\n",
       "      <td>no</td>\n",
       "      <td>90480</td>\n",
       "    </tr>\n",
       "    <tr>\n",
       "      <th>3</th>\n",
       "      <td>1500</td>\n",
       "      <td>small</td>\n",
       "      <td>2001</td>\n",
       "      <td>manual</td>\n",
       "      <td>75</td>\n",
       "      <td>golf</td>\n",
       "      <td>150000</td>\n",
       "      <td>6</td>\n",
       "      <td>petrol</td>\n",
       "      <td>volkswagen</td>\n",
       "      <td>no</td>\n",
       "      <td>91074</td>\n",
       "    </tr>\n",
       "    <tr>\n",
       "      <th>4</th>\n",
       "      <td>3600</td>\n",
       "      <td>small</td>\n",
       "      <td>2008</td>\n",
       "      <td>manual</td>\n",
       "      <td>69</td>\n",
       "      <td>fabia</td>\n",
       "      <td>90000</td>\n",
       "      <td>7</td>\n",
       "      <td>gasoline</td>\n",
       "      <td>skoda</td>\n",
       "      <td>no</td>\n",
       "      <td>60437</td>\n",
       "    </tr>\n",
       "  </tbody>\n",
       "</table>\n",
       "</div>"
      ],
      "text/plain": [
       "   Price VehicleType  RegistrationYear Gearbox  Power  Model  Kilometer  \\\n",
       "0    480       wagon              1993  manual      0   golf     150000   \n",
       "1  18300       coupe              2011  manual    190     80     125000   \n",
       "2   9800         suv              2004    auto    163  grand     125000   \n",
       "3   1500       small              2001  manual     75   golf     150000   \n",
       "4   3600       small              2008  manual     69  fabia      90000   \n",
       "\n",
       "   RegistrationMonth  FuelType       Brand Repaired  PostalCode  \n",
       "0                  0    petrol  volkswagen       no       70435  \n",
       "1                  5  gasoline        audi      yes       66954  \n",
       "2                  8  gasoline        jeep       no       90480  \n",
       "3                  6    petrol  volkswagen       no       91074  \n",
       "4                  7  gasoline       skoda       no       60437  "
      ]
     },
     "execution_count": 34,
     "metadata": {},
     "output_type": "execute_result"
    }
   ],
   "source": [
    "df = df.loc[df['RegistrationYear'] < 2020]\n",
    "df.head()"
   ]
  },
  {
   "cell_type": "code",
   "execution_count": 35,
   "metadata": {},
   "outputs": [
    {
     "data": {
      "text/plain": [
       "(303, 12)"
      ]
     },
     "execution_count": 35,
     "metadata": {},
     "output_type": "execute_result"
    }
   ],
   "source": [
    "df.loc[(df['RegistrationYear']<=1960)|(df['RegistrationYear']>=2019)].shape"
   ]
  },
  {
   "cell_type": "code",
   "execution_count": 36,
   "metadata": {},
   "outputs": [
    {
     "data": {
      "text/plain": [
       "(337285, 12)"
      ]
     },
     "execution_count": 36,
     "metadata": {},
     "output_type": "execute_result"
    }
   ],
   "source": [
    "df.shape"
   ]
  },
  {
   "cell_type": "markdown",
   "metadata": {},
   "source": [
    "Уверен, что мы смело можем отбросим эти немногочисленные аномалии"
   ]
  },
  {
   "cell_type": "code",
   "execution_count": 37,
   "metadata": {},
   "outputs": [
    {
     "data": {
      "text/plain": [
       "(336995, 12)"
      ]
     },
     "execution_count": 37,
     "metadata": {},
     "output_type": "execute_result"
    }
   ],
   "source": [
    "df = df.loc[(df['RegistrationYear']>1960)&(df['RegistrationYear']<=2019)]\n",
    "df.shape"
   ]
  },
  {
   "cell_type": "code",
   "execution_count": 38,
   "metadata": {},
   "outputs": [
    {
     "data": {
      "text/plain": [
       "Index(['DateCrawled', 'Price', 'VehicleType', 'RegistrationYear', 'Gearbox',\n",
       "       'Power', 'Model', 'Kilometer', 'RegistrationMonth', 'FuelType', 'Brand',\n",
       "       'Repaired', 'DateCreated', 'NumberOfPictures', 'PostalCode',\n",
       "       'LastSeen'],\n",
       "      dtype='object')"
      ]
     },
     "execution_count": 38,
     "metadata": {},
     "output_type": "execute_result"
    }
   ],
   "source": [
    "df_init.columns"
   ]
  },
  {
   "cell_type": "code",
   "execution_count": 39,
   "metadata": {},
   "outputs": [
    {
     "data": {
      "text/html": [
       "<div>\n",
       "<style scoped>\n",
       "    .dataframe tbody tr th:only-of-type {\n",
       "        vertical-align: middle;\n",
       "    }\n",
       "\n",
       "    .dataframe tbody tr th {\n",
       "        vertical-align: top;\n",
       "    }\n",
       "\n",
       "    .dataframe thead th {\n",
       "        text-align: right;\n",
       "    }\n",
       "</style>\n",
       "<table border=\"1\" class=\"dataframe\">\n",
       "  <thead>\n",
       "    <tr style=\"text-align: right;\">\n",
       "      <th></th>\n",
       "      <th>DateCrawled</th>\n",
       "      <th>RegistrationYear</th>\n",
       "    </tr>\n",
       "  </thead>\n",
       "  <tbody>\n",
       "    <tr>\n",
       "      <th>15</th>\n",
       "      <td>2016-03-11 21:39:15</td>\n",
       "      <td>1910</td>\n",
       "    </tr>\n",
       "    <tr>\n",
       "      <th>622</th>\n",
       "      <td>2016-03-16 16:55:09</td>\n",
       "      <td>1111</td>\n",
       "    </tr>\n",
       "    <tr>\n",
       "      <th>1928</th>\n",
       "      <td>2016-03-25 15:58:21</td>\n",
       "      <td>1945</td>\n",
       "    </tr>\n",
       "    <tr>\n",
       "      <th>2273</th>\n",
       "      <td>2016-03-15 21:44:32</td>\n",
       "      <td>1925</td>\n",
       "    </tr>\n",
       "    <tr>\n",
       "      <th>3333</th>\n",
       "      <td>2016-03-15 21:36:20</td>\n",
       "      <td>1955</td>\n",
       "    </tr>\n",
       "    <tr>\n",
       "      <th>6629</th>\n",
       "      <td>2016-04-02 13:47:16</td>\n",
       "      <td>1910</td>\n",
       "    </tr>\n",
       "    <tr>\n",
       "      <th>6977</th>\n",
       "      <td>2016-03-24 08:37:22</td>\n",
       "      <td>1910</td>\n",
       "    </tr>\n",
       "    <tr>\n",
       "      <th>10183</th>\n",
       "      <td>2016-03-27 13:59:08</td>\n",
       "      <td>1910</td>\n",
       "    </tr>\n",
       "    <tr>\n",
       "      <th>12946</th>\n",
       "      <td>2016-03-29 18:39:40</td>\n",
       "      <td>5000</td>\n",
       "    </tr>\n",
       "    <tr>\n",
       "      <th>12992</th>\n",
       "      <td>2016-04-03 19:38:21</td>\n",
       "      <td>1954</td>\n",
       "    </tr>\n",
       "    <tr>\n",
       "      <th>12993</th>\n",
       "      <td>2016-03-07 14:38:00</td>\n",
       "      <td>1955</td>\n",
       "    </tr>\n",
       "    <tr>\n",
       "      <th>13177</th>\n",
       "      <td>2016-03-19 13:45:25</td>\n",
       "      <td>1958</td>\n",
       "    </tr>\n",
       "    <tr>\n",
       "      <th>14971</th>\n",
       "      <td>2016-03-30 11:57:50</td>\n",
       "      <td>1959</td>\n",
       "    </tr>\n",
       "    <tr>\n",
       "      <th>15147</th>\n",
       "      <td>2016-03-14 00:52:02</td>\n",
       "      <td>9999</td>\n",
       "    </tr>\n",
       "    <tr>\n",
       "      <th>15414</th>\n",
       "      <td>2016-03-30 23:38:13</td>\n",
       "      <td>1956</td>\n",
       "    </tr>\n",
       "    <tr>\n",
       "      <th>15870</th>\n",
       "      <td>2016-04-02 11:55:48</td>\n",
       "      <td>3200</td>\n",
       "    </tr>\n",
       "    <tr>\n",
       "      <th>16062</th>\n",
       "      <td>2016-03-29 23:42:16</td>\n",
       "      <td>1000</td>\n",
       "    </tr>\n",
       "    <tr>\n",
       "      <th>16635</th>\n",
       "      <td>2016-03-09 10:54:11</td>\n",
       "      <td>1941</td>\n",
       "    </tr>\n",
       "    <tr>\n",
       "      <th>17271</th>\n",
       "      <td>2016-03-23 16:43:29</td>\n",
       "      <td>9999</td>\n",
       "    </tr>\n",
       "    <tr>\n",
       "      <th>17346</th>\n",
       "      <td>2016-03-06 16:06:20</td>\n",
       "      <td>8888</td>\n",
       "    </tr>\n",
       "  </tbody>\n",
       "</table>\n",
       "</div>"
      ],
      "text/plain": [
       "               DateCrawled  RegistrationYear\n",
       "15     2016-03-11 21:39:15              1910\n",
       "622    2016-03-16 16:55:09              1111\n",
       "1928   2016-03-25 15:58:21              1945\n",
       "2273   2016-03-15 21:44:32              1925\n",
       "3333   2016-03-15 21:36:20              1955\n",
       "6629   2016-04-02 13:47:16              1910\n",
       "6977   2016-03-24 08:37:22              1910\n",
       "10183  2016-03-27 13:59:08              1910\n",
       "12946  2016-03-29 18:39:40              5000\n",
       "12992  2016-04-03 19:38:21              1954\n",
       "12993  2016-03-07 14:38:00              1955\n",
       "13177  2016-03-19 13:45:25              1958\n",
       "14971  2016-03-30 11:57:50              1959\n",
       "15147  2016-03-14 00:52:02              9999\n",
       "15414  2016-03-30 23:38:13              1956\n",
       "15870  2016-04-02 11:55:48              3200\n",
       "16062  2016-03-29 23:42:16              1000\n",
       "16635  2016-03-09 10:54:11              1941\n",
       "17271  2016-03-23 16:43:29              9999\n",
       "17346  2016-03-06 16:06:20              8888"
      ]
     },
     "execution_count": 39,
     "metadata": {},
     "output_type": "execute_result"
    }
   ],
   "source": [
    "df_init.loc[(df_init['RegistrationYear']<1960)|(df_init['RegistrationYear']>2020),['DateCrawled','RegistrationYear']].head(20)"
   ]
  },
  {
   "cell_type": "markdown",
   "metadata": {},
   "source": [
    "**Количество сил**"
   ]
  },
  {
   "cell_type": "markdown",
   "metadata": {},
   "source": [
    "Проанализировав сайт auto.ru, могу сказать, что зачастую автомобили имеют количество сил менее 350, но бывают исключения, бы на них постараемся закрыть глаза, потом учто это уже очень редко попадающиеся автомобили.\n",
    "\n",
    "Проверим сколько таких автомобилей есть в наших данных."
   ]
  },
  {
   "cell_type": "code",
   "execution_count": 40,
   "metadata": {},
   "outputs": [
    {
     "data": {
      "text/plain": [
       "(1086, 12)"
      ]
     },
     "execution_count": 40,
     "metadata": {},
     "output_type": "execute_result"
    }
   ],
   "source": [
    "df.loc[df['Power']>350].shape"
   ]
  },
  {
   "cell_type": "markdown",
   "metadata": {},
   "source": [
    "Очень маленькое количество вылезает за эти пределы, поэтому безболезненно отбросим эти строки"
   ]
  },
  {
   "cell_type": "code",
   "execution_count": 41,
   "metadata": {},
   "outputs": [
    {
     "data": {
      "text/plain": [
       "<AxesSubplot:>"
      ]
     },
     "execution_count": 41,
     "metadata": {},
     "output_type": "execute_result"
    },
    {
     "data": {
      "image/png": "[encoded data removed]",
      "text/plain": [
       "<Figure size 432x288 with 1 Axes>"
      ]
     },
     "metadata": {
      "needs_background": "light"
     },
     "output_type": "display_data"
    }
   ],
   "source": [
    "df['Power'].plot(kind='box', ylim=(0,100))"
   ]
  },
  {
   "cell_type": "code",
   "execution_count": 42,
   "metadata": {},
   "outputs": [
    {
     "data": {
      "text/plain": [
       "(33680, 12)"
      ]
     },
     "execution_count": 42,
     "metadata": {},
     "output_type": "execute_result"
    }
   ],
   "source": [
    "df.loc[df['Power']<1].shape"
   ]
  },
  {
   "cell_type": "code",
   "execution_count": 43,
   "metadata": {},
   "outputs": [
    {
     "data": {
      "text/plain": [
       "(38843, 12)"
      ]
     },
     "execution_count": 43,
     "metadata": {},
     "output_type": "execute_result"
    }
   ],
   "source": [
    "df.loc[df['Power']<50].shape"
   ]
  },
  {
   "cell_type": "markdown",
   "metadata": {},
   "source": [
    "Реалистичная мощность автомобилей находится в пределах 50-350 л.с."
   ]
  },
  {
   "cell_type": "code",
   "execution_count": 44,
   "metadata": {},
   "outputs": [
    {
     "data": {
      "text/plain": [
       "(297066, 12)"
      ]
     },
     "execution_count": 44,
     "metadata": {},
     "output_type": "execute_result"
    }
   ],
   "source": [
    "df = df.loc[(df['Power']<=350)&(df['Power']>=50)]\n",
    "df.shape"
   ]
  },
  {
   "cell_type": "markdown",
   "metadata": {},
   "source": [
    "**Пробег**"
   ]
  },
  {
   "cell_type": "markdown",
   "metadata": {},
   "source": [
    "Пробег трогать не будет, потому что значения лежат в пределах нормы, поэтому оставим все как есть"
   ]
  },
  {
   "cell_type": "markdown",
   "metadata": {},
   "source": [
    "**Месяц регистрации**"
   ]
  },
  {
   "cell_type": "markdown",
   "metadata": {},
   "source": [
    "Месяц регистрации, на столбчатом графике видим, что значения месяца регистрации имеют значения от 0 до 12, очевидно, что нет 0го месяца. Поэтому заменим его на рандомное значение в пределах от 1 до 12 включительно. Потому что не совсем понятно как именно влияет месяц регистрации на стоимость. Но я слышал убеждение, что есть действительно такая закономерность, постараемся ее тоже проверить."
   ]
  },
  {
   "cell_type": "code",
   "execution_count": 45,
   "metadata": {},
   "outputs": [],
   "source": [
    "state = np.random.RandomState(12345)"
   ]
  },
  {
   "cell_type": "code",
   "execution_count": 46,
   "metadata": {},
   "outputs": [],
   "source": [
    "df.loc[df['RegistrationMonth']==0, 'RegistrationMonth'] = np.random.randint(1,12)\n"
   ]
  },
  {
   "cell_type": "code",
   "execution_count": 47,
   "metadata": {},
   "outputs": [
    {
     "data": {
      "image/png": "[encoded data removed]",
      "text/plain": [
       "<Figure size 432x288 with 1 Axes>"
      ]
     },
     "metadata": {
      "needs_background": "light"
     },
     "output_type": "display_data"
    }
   ],
   "source": [
    "df['RegistrationMonth'].plot(kind='hist',grid=True, title='hist plot for RegistrationMonth', bins=100)\n",
    "plt.show()"
   ]
  },
  {
   "cell_type": "markdown",
   "metadata": {},
   "source": [
    "**Почтовый индекс**"
   ]
  },
  {
   "cell_type": "markdown",
   "metadata": {},
   "source": [
    "С почтовым индексом все впорядке"
   ]
  },
  {
   "cell_type": "markdown",
   "metadata": {},
   "source": [
    "### Проверим на явные дубликаты"
   ]
  },
  {
   "cell_type": "code",
   "execution_count": 48,
   "metadata": {},
   "outputs": [
    {
     "data": {
      "text/plain": [
       "21073"
      ]
     },
     "execution_count": 48,
     "metadata": {},
     "output_type": "execute_result"
    }
   ],
   "source": [
    "df.duplicated().sum()"
   ]
  },
  {
   "cell_type": "code",
   "execution_count": 49,
   "metadata": {},
   "outputs": [],
   "source": [
    "df = df.drop_duplicates()"
   ]
  },
  {
   "cell_type": "code",
   "execution_count": 50,
   "metadata": {},
   "outputs": [
    {
     "data": {
      "text/plain": [
       "0"
      ]
     },
     "execution_count": 50,
     "metadata": {},
     "output_type": "execute_result"
    }
   ],
   "source": [
    "df.duplicated().sum()"
   ]
  },
  {
   "cell_type": "code",
   "execution_count": 51,
   "metadata": {},
   "outputs": [
    {
     "data": {
      "text/plain": [
       "(275993, 12)"
      ]
     },
     "execution_count": 51,
     "metadata": {},
     "output_type": "execute_result"
    }
   ],
   "source": [
    "df.shape"
   ]
  },
  {
   "cell_type": "markdown",
   "metadata": {},
   "source": [
    "### Попробуем найти неявные дубликаты"
   ]
  },
  {
   "cell_type": "code",
   "execution_count": 52,
   "metadata": {},
   "outputs": [
    {
     "data": {
      "text/plain": [
       "Index(['Price', 'VehicleType', 'RegistrationYear', 'Gearbox', 'Power', 'Model',\n",
       "       'Kilometer', 'RegistrationMonth', 'FuelType', 'Brand', 'Repaired',\n",
       "       'PostalCode'],\n",
       "      dtype='object')"
      ]
     },
     "execution_count": 52,
     "metadata": {},
     "output_type": "execute_result"
    }
   ],
   "source": [
    "df.columns"
   ]
  },
  {
   "cell_type": "code",
   "execution_count": 53,
   "metadata": {},
   "outputs": [
    {
     "data": {
      "text/plain": [
       "array(['coupe', 'suv', 'small', 'sedan', 'convertible', 'bus', 'wagon',\n",
       "       'other'], dtype=object)"
      ]
     },
     "execution_count": 53,
     "metadata": {},
     "output_type": "execute_result"
    }
   ],
   "source": [
    "df['VehicleType'].unique()"
   ]
  },
  {
   "cell_type": "code",
   "execution_count": 54,
   "metadata": {},
   "outputs": [
    {
     "data": {
      "text/plain": [
       "array(['manual', 'auto'], dtype=object)"
      ]
     },
     "execution_count": 54,
     "metadata": {},
     "output_type": "execute_result"
    }
   ],
   "source": [
    "df['Gearbox'].unique()"
   ]
  },
  {
   "cell_type": "code",
   "execution_count": 55,
   "metadata": {
    "scrolled": true
   },
   "outputs": [
    {
     "data": {
      "text/plain": [
       "array(['100', '145', '147', '156', '159', '1_reihe', '1er', '200',\n",
       "       '2_reihe', '300c', '3_reihe', '3er', '4_reihe', '500', '5_reihe',\n",
       "       '5er', '601', '6_reihe', '6er', '7er', '80', '850', '90', '900',\n",
       "       '9000', '911', 'a1', 'a2', 'a3', 'a4', 'a5', 'a6', 'a8',\n",
       "       'a_klasse', 'accord', 'agila', 'alhambra', 'almera', 'altea',\n",
       "       'amarok', 'antara', 'arosa', 'astra', 'auris', 'avensis', 'aveo',\n",
       "       'aygo', 'b_klasse', 'b_max', 'beetle', 'berlingo', 'bora',\n",
       "       'boxster', 'bravo', 'c1', 'c2', 'c3', 'c4', 'c5', 'c_klasse',\n",
       "       'c_max', 'c_reihe', 'caddy', 'calibra', 'captiva', 'carisma',\n",
       "       'carnival', 'cayenne', 'cc', 'ceed', 'charade', 'cherokee',\n",
       "       'citigo', 'civic', 'cl', 'clio', 'clk', 'clubman', 'colt', 'combo',\n",
       "       'cooper', 'cordoba', 'corolla', 'corsa', 'cr_reihe', 'croma',\n",
       "       'crossfire', 'cuore', 'cx_reihe', 'defender', 'delta', 'discovery',\n",
       "       'doblo', 'ducato', 'duster', 'e_klasse', 'elefantino', 'eos',\n",
       "       'escort', 'espace', 'exeo', 'fabia', 'fiesta', 'focus', 'forester',\n",
       "       'forfour', 'fortwo', 'fox', 'freelander', 'fusion', 'g_klasse',\n",
       "       'galant', 'galaxy', 'getz', 'gl', 'glk', 'golf', 'grand', 'i3',\n",
       "       'i_reihe', 'ibiza', 'impreza', 'insignia', 'jazz', 'jetta',\n",
       "       'jimny', 'juke', 'justy', 'ka', 'kadett', 'kaefer', 'kalina',\n",
       "       'kalos', 'kangoo', 'kappa', 'kuga', 'laguna', 'lancer', 'lanos',\n",
       "       'legacy', 'leon', 'lodgy', 'logan', 'lupo', 'lybra', 'm_klasse',\n",
       "       'm_reihe', 'materia', 'matiz', 'megane', 'meriva', 'micra', 'mii',\n",
       "       'modus', 'mondeo', 'move', 'musa', 'mustang', 'mx_reihe', 'navara',\n",
       "       'niva', 'note', 'nubira', 'octavia', 'omega', 'one', 'other',\n",
       "       'outlander', 'pajero', 'panda', 'passat', 'phaeton', 'picanto',\n",
       "       'polo', 'primera', 'ptcruiser', 'punto', 'q3', 'q5', 'q7',\n",
       "       'qashqai', 'r19', 'range_rover', 'range_rover_evoque',\n",
       "       'range_rover_sport', 'rangerover', 'rav', 'rio', 'roadster',\n",
       "       'roomster', 'rx_reihe', 's60', 's_klasse', 's_max', 's_type',\n",
       "       'samara', 'sandero', 'santa', 'scenic', 'scirocco', 'seicento',\n",
       "       'serie_1', 'serie_2', 'serie_3', 'sharan', 'signum', 'sirion',\n",
       "       'sl', 'slk', 'sorento', 'spark', 'spider', 'sportage', 'sprinter',\n",
       "       'stilo', 'superb', 'swift', 'terios', 'tigra', 'tiguan', 'toledo',\n",
       "       'touareg', 'touran', 'transit', 'transporter', 'tt', 'tucson',\n",
       "       'twingo', 'up', 'v40', 'v50', 'v60', 'v70', 'v_klasse', 'vectra',\n",
       "       'verso', 'viano', 'vito', 'vivaro', 'voyager', 'wrangler',\n",
       "       'x_reihe', 'x_trail', 'x_type', 'xc_reihe', 'yaris', 'yeti',\n",
       "       'ypsilon', 'z_reihe', 'zafira'], dtype=object)"
      ]
     },
     "execution_count": 55,
     "metadata": {},
     "output_type": "execute_result"
    }
   ],
   "source": [
    "df['Model'].sort_values().unique()"
   ]
  },
  {
   "cell_type": "code",
   "execution_count": 56,
   "metadata": {},
   "outputs": [
    {
     "data": {
      "text/plain": [
       "array(['alfa_romeo', 'audi', 'bmw', 'chevrolet', 'chrysler', 'citroen',\n",
       "       'dacia', 'daewoo', 'daihatsu', 'fiat', 'ford', 'honda', 'hyundai',\n",
       "       'jaguar', 'jeep', 'kia', 'lada', 'lancia', 'land_rover', 'mazda',\n",
       "       'mercedes_benz', 'mini', 'mitsubishi', 'nissan', 'opel', 'peugeot',\n",
       "       'porsche', 'renault', 'rover', 'saab', 'seat', 'skoda', 'smart',\n",
       "       'subaru', 'suzuki', 'toyota', 'trabant', 'volkswagen', 'volvo'],\n",
       "      dtype=object)"
      ]
     },
     "execution_count": 56,
     "metadata": {},
     "output_type": "execute_result"
    }
   ],
   "source": [
    "df['Brand'].sort_values().unique()"
   ]
  },
  {
   "cell_type": "markdown",
   "metadata": {},
   "source": [
    "Неявных дубликатов обнаружено не было!"
   ]
  },
  {
   "cell_type": "markdown",
   "metadata": {},
   "source": [
    "### Итоги подготовки данных"
   ]
  },
  {
   "cell_type": "markdown",
   "metadata": {},
   "source": [
    "Провели все необходимые проверки данных.\n",
    "\n",
    "Посмотрели на количество пропусков. Устранили пропуски за счет замены их на значения, которые получили при разделение на группы по брендам, так как в брендах нет пропусков, не появилось никаких аномалий.\n",
    "\n",
    "Проверили данные на аномалии, избавились от выбросов, удалив данные, так как их количество было мало.\n",
    "\n",
    "Проверили на явные и неявные дубликаты, удалили явные дубликаты, неявных дубликатов в данных нет."
   ]
  },
  {
   "cell_type": "markdown",
   "metadata": {},
   "source": [
    "## Обучение моделей"
   ]
  },
  {
   "cell_type": "markdown",
   "metadata": {},
   "source": [
    "Наша задача заключается в тестировании нескольких моделей.Этими моделями будут:\n",
    "- [x] LinearRegression\n",
    "- [x] RandomForestRegressor\n",
    "- [x] LightGBM\n",
    "- [x] CatBoost\n",
    "\n",
    "\n"
   ]
  },
  {
   "cell_type": "markdown",
   "metadata": {},
   "source": [
    "### Разделим данные на выборки"
   ]
  },
  {
   "cell_type": "markdown",
   "metadata": {},
   "source": [
    "Приходится делить выборки в отношении 6:4, потому что иначе при большей обучающей выборке умирает ядро):"
   ]
  },
  {
   "cell_type": "code",
   "execution_count": 57,
   "metadata": {},
   "outputs": [
    {
     "name": "stdout",
     "output_type": "stream",
     "text": [
      "Соотношение выборок: обучающая 165595 : валидационная 55199 : тестовая 55199\n"
     ]
    }
   ],
   "source": [
    "features = df.drop('Price', axis=1)\n",
    "target = df['Price']\n",
    "\n",
    "features_train, features_valid_test, target_train, target_valid_test = train_test_split(features, target, test_size=0.4, random_state=12345)\n",
    "features_valid, features_test, target_valid, target_test = train_test_split(features_valid_test, target_valid_test, test_size=0.5, random_state=12345)\n",
    "\n",
    "\n",
    "\n",
    "print('Соотношение выборок: обучающая', features_train.shape[0],': валидационная',features_valid.shape[0],': тестовая',features_test.shape[0])"
   ]
  },
  {
   "cell_type": "markdown",
   "metadata": {},
   "source": [
    "Проведем прямое кодирование, бинарное кодирование для категориальных признаков."
   ]
  },
  {
   "cell_type": "code",
   "execution_count": 58,
   "metadata": {},
   "outputs": [
    {
     "data": {
      "text/plain": [
       "VehicleType          object\n",
       "RegistrationYear      int64\n",
       "Gearbox              object\n",
       "Power                 int64\n",
       "Model                object\n",
       "Kilometer             int64\n",
       "RegistrationMonth     int64\n",
       "FuelType             object\n",
       "Brand                object\n",
       "Repaired             object\n",
       "PostalCode            int64\n",
       "dtype: object"
      ]
     },
     "execution_count": 58,
     "metadata": {},
     "output_type": "execute_result"
    }
   ],
   "source": [
    "features_train.dtypes"
   ]
  },
  {
   "cell_type": "code",
   "execution_count": 59,
   "metadata": {},
   "outputs": [],
   "source": [
    "import warnings\n",
    "\n",
    "warnings.filterwarnings('ignore')"
   ]
  },
  {
   "cell_type": "code",
   "execution_count": 60,
   "metadata": {
    "scrolled": true
   },
   "outputs": [
    {
     "data": {
      "text/plain": [
       "OneHotEncoder(handle_unknown='ignore', sparse=False)"
      ]
     },
     "execution_count": 60,
     "metadata": {},
     "output_type": "execute_result"
    }
   ],
   "source": [
    "encoder_ohe = OneHotEncoder(handle_unknown='ignore', sparse=False)\n",
    "\n",
    "obj_feats = features_train.select_dtypes(include='object').columns.to_list()\n",
    "\n",
    "encoder_ohe.fit(features_train[obj_feats])"
   ]
  },
  {
   "cell_type": "code",
   "execution_count": 61,
   "metadata": {},
   "outputs": [
    {
     "name": "stdout",
     "output_type": "stream",
     "text": [
      "CPU times: user 36.3 s, sys: 1.94 s, total: 38.2 s\n",
      "Wall time: 38.2 s\n"
     ]
    }
   ],
   "source": [
    "%%time\n",
    "\n",
    "features_train_ohed = features_train.copy()\n",
    "features_train_ohed[encoder_ohe.get_feature_names()] = encoder_ohe.transform(features_train_ohed[obj_feats])\n",
    "\n",
    "features_train_ohed = features_train_ohed.drop(obj_feats, axis=1)"
   ]
  },
  {
   "cell_type": "code",
   "execution_count": 62,
   "metadata": {},
   "outputs": [
    {
     "name": "stdout",
     "output_type": "stream",
     "text": [
      "CPU times: user 9.91 s, sys: 612 ms, total: 10.5 s\n",
      "Wall time: 10.8 s\n"
     ]
    }
   ],
   "source": [
    "%%time\n",
    "features_test_ohed = features_test.copy()\n",
    "features_test_ohed[encoder_ohe.get_feature_names()] = encoder_ohe.transform(features_test_ohed[obj_feats])\n",
    "\n",
    "features_test_ohed = features_test_ohed.drop(obj_feats, axis=1)"
   ]
  },
  {
   "cell_type": "code",
   "execution_count": 63,
   "metadata": {},
   "outputs": [
    {
     "name": "stdout",
     "output_type": "stream",
     "text": [
      "CPU times: user 9.15 s, sys: 616 ms, total: 9.77 s\n",
      "Wall time: 9.77 s\n"
     ]
    }
   ],
   "source": [
    "%%time\n",
    "features_valid_ohed = features_valid.copy()\n",
    "features_valid_ohed[encoder_ohe.get_feature_names()] = encoder_ohe.transform(features_valid_ohed[obj_feats])\n",
    "\n",
    "features_valid_ohed = features_valid_ohed.drop(obj_feats, axis=1)"
   ]
  },
  {
   "cell_type": "markdown",
   "metadata": {},
   "source": [
    "Провели прямое кодирование(One Hot Encoding) теперь приступим к обучению"
   ]
  },
  {
   "cell_type": "code",
   "execution_count": 64,
   "metadata": {},
   "outputs": [
    {
     "data": {
      "text/html": [
       "<div>\n",
       "<style scoped>\n",
       "    .dataframe tbody tr th:only-of-type {\n",
       "        vertical-align: middle;\n",
       "    }\n",
       "\n",
       "    .dataframe tbody tr th {\n",
       "        vertical-align: top;\n",
       "    }\n",
       "\n",
       "    .dataframe thead th {\n",
       "        text-align: right;\n",
       "    }\n",
       "</style>\n",
       "<table border=\"1\" class=\"dataframe\">\n",
       "  <thead>\n",
       "    <tr style=\"text-align: right;\">\n",
       "      <th></th>\n",
       "      <th>VehicleType_0</th>\n",
       "      <th>VehicleType_1</th>\n",
       "      <th>VehicleType_2</th>\n",
       "      <th>VehicleType_3</th>\n",
       "      <th>RegistrationYear</th>\n",
       "      <th>Gearbox_0</th>\n",
       "      <th>Gearbox_1</th>\n",
       "      <th>Power</th>\n",
       "      <th>Model_0</th>\n",
       "      <th>Model_1</th>\n",
       "      <th>...</th>\n",
       "      <th>FuelType_2</th>\n",
       "      <th>Brand_0</th>\n",
       "      <th>Brand_1</th>\n",
       "      <th>Brand_2</th>\n",
       "      <th>Brand_3</th>\n",
       "      <th>Brand_4</th>\n",
       "      <th>Brand_5</th>\n",
       "      <th>Repaired_0</th>\n",
       "      <th>Repaired_1</th>\n",
       "      <th>PostalCode</th>\n",
       "    </tr>\n",
       "  </thead>\n",
       "  <tbody>\n",
       "    <tr>\n",
       "      <th>309627</th>\n",
       "      <td>0</td>\n",
       "      <td>0</td>\n",
       "      <td>0</td>\n",
       "      <td>1</td>\n",
       "      <td>1998</td>\n",
       "      <td>0</td>\n",
       "      <td>1</td>\n",
       "      <td>116</td>\n",
       "      <td>0</td>\n",
       "      <td>0</td>\n",
       "      <td>...</td>\n",
       "      <td>1</td>\n",
       "      <td>0</td>\n",
       "      <td>0</td>\n",
       "      <td>0</td>\n",
       "      <td>0</td>\n",
       "      <td>0</td>\n",
       "      <td>1</td>\n",
       "      <td>0</td>\n",
       "      <td>1</td>\n",
       "      <td>2785</td>\n",
       "    </tr>\n",
       "    <tr>\n",
       "      <th>82360</th>\n",
       "      <td>0</td>\n",
       "      <td>0</td>\n",
       "      <td>1</td>\n",
       "      <td>0</td>\n",
       "      <td>2012</td>\n",
       "      <td>1</td>\n",
       "      <td>0</td>\n",
       "      <td>184</td>\n",
       "      <td>0</td>\n",
       "      <td>0</td>\n",
       "      <td>...</td>\n",
       "      <td>0</td>\n",
       "      <td>0</td>\n",
       "      <td>0</td>\n",
       "      <td>0</td>\n",
       "      <td>0</td>\n",
       "      <td>1</td>\n",
       "      <td>0</td>\n",
       "      <td>1</td>\n",
       "      <td>0</td>\n",
       "      <td>61476</td>\n",
       "    </tr>\n",
       "    <tr>\n",
       "      <th>223800</th>\n",
       "      <td>0</td>\n",
       "      <td>0</td>\n",
       "      <td>1</td>\n",
       "      <td>1</td>\n",
       "      <td>2009</td>\n",
       "      <td>1</td>\n",
       "      <td>0</td>\n",
       "      <td>71</td>\n",
       "      <td>0</td>\n",
       "      <td>0</td>\n",
       "      <td>...</td>\n",
       "      <td>1</td>\n",
       "      <td>0</td>\n",
       "      <td>0</td>\n",
       "      <td>0</td>\n",
       "      <td>0</td>\n",
       "      <td>1</td>\n",
       "      <td>1</td>\n",
       "      <td>1</td>\n",
       "      <td>0</td>\n",
       "      <td>21465</td>\n",
       "    </tr>\n",
       "    <tr>\n",
       "      <th>45399</th>\n",
       "      <td>0</td>\n",
       "      <td>0</td>\n",
       "      <td>1</td>\n",
       "      <td>1</td>\n",
       "      <td>2012</td>\n",
       "      <td>0</td>\n",
       "      <td>1</td>\n",
       "      <td>105</td>\n",
       "      <td>0</td>\n",
       "      <td>0</td>\n",
       "      <td>...</td>\n",
       "      <td>0</td>\n",
       "      <td>0</td>\n",
       "      <td>0</td>\n",
       "      <td>0</td>\n",
       "      <td>1</td>\n",
       "      <td>0</td>\n",
       "      <td>0</td>\n",
       "      <td>1</td>\n",
       "      <td>0</td>\n",
       "      <td>7745</td>\n",
       "    </tr>\n",
       "    <tr>\n",
       "      <th>196062</th>\n",
       "      <td>0</td>\n",
       "      <td>1</td>\n",
       "      <td>0</td>\n",
       "      <td>0</td>\n",
       "      <td>2003</td>\n",
       "      <td>0</td>\n",
       "      <td>1</td>\n",
       "      <td>116</td>\n",
       "      <td>0</td>\n",
       "      <td>0</td>\n",
       "      <td>...</td>\n",
       "      <td>1</td>\n",
       "      <td>0</td>\n",
       "      <td>0</td>\n",
       "      <td>0</td>\n",
       "      <td>1</td>\n",
       "      <td>0</td>\n",
       "      <td>1</td>\n",
       "      <td>1</td>\n",
       "      <td>0</td>\n",
       "      <td>84079</td>\n",
       "    </tr>\n",
       "  </tbody>\n",
       "</table>\n",
       "<p>5 rows × 30 columns</p>\n",
       "</div>"
      ],
      "text/plain": [
       "        VehicleType_0  VehicleType_1  VehicleType_2  VehicleType_3  \\\n",
       "309627              0              0              0              1   \n",
       "82360               0              0              1              0   \n",
       "223800              0              0              1              1   \n",
       "45399               0              0              1              1   \n",
       "196062              0              1              0              0   \n",
       "\n",
       "        RegistrationYear  Gearbox_0  Gearbox_1  Power  Model_0  Model_1  ...  \\\n",
       "309627              1998          0          1    116        0        0  ...   \n",
       "82360               2012          1          0    184        0        0  ...   \n",
       "223800              2009          1          0     71        0        0  ...   \n",
       "45399               2012          0          1    105        0        0  ...   \n",
       "196062              2003          0          1    116        0        0  ...   \n",
       "\n",
       "        FuelType_2  Brand_0  Brand_1  Brand_2  Brand_3  Brand_4  Brand_5  \\\n",
       "309627           1        0        0        0        0        0        1   \n",
       "82360            0        0        0        0        0        1        0   \n",
       "223800           1        0        0        0        0        1        1   \n",
       "45399            0        0        0        0        1        0        0   \n",
       "196062           1        0        0        0        1        0        1   \n",
       "\n",
       "        Repaired_0  Repaired_1  PostalCode  \n",
       "309627           0           1        2785  \n",
       "82360            1           0       61476  \n",
       "223800           1           0       21465  \n",
       "45399            1           0        7745  \n",
       "196062           1           0       84079  \n",
       "\n",
       "[5 rows x 30 columns]"
      ]
     },
     "execution_count": 64,
     "metadata": {},
     "output_type": "execute_result"
    }
   ],
   "source": [
    "ce_encoder = ce.BinaryEncoder()\n",
    "features_train_encoded = ce_encoder.fit_transform(features_train)\n",
    "features_valid_encoded = ce_encoder.transform(features_valid)\n",
    "features_train_encoded.head()"
   ]
  },
  {
   "cell_type": "code",
   "execution_count": 65,
   "metadata": {},
   "outputs": [],
   "source": [
    "features_test_encoded = ce_encoder.transform(features_test)"
   ]
  },
  {
   "cell_type": "markdown",
   "metadata": {},
   "source": [
    "### Линейная регрессия"
   ]
  },
  {
   "cell_type": "code",
   "execution_count": 66,
   "metadata": {},
   "outputs": [
    {
     "data": {
      "text/plain": [
       "['RegistrationYear', 'Power', 'Kilometer', 'RegistrationMonth', 'PostalCode']"
      ]
     },
     "execution_count": 66,
     "metadata": {},
     "output_type": "execute_result"
    }
   ],
   "source": [
    "numeric = numeric_feats[1:]\n",
    "numeric"
   ]
  },
  {
   "cell_type": "markdown",
   "metadata": {},
   "source": [
    "#### Масштабируем данные для линейной регрессии"
   ]
  },
  {
   "cell_type": "code",
   "execution_count": 67,
   "metadata": {
    "scrolled": true
   },
   "outputs": [],
   "source": [
    "scaler = StandardScaler()\n",
    "\n",
    "scaler.fit(features_train[numeric])\n",
    "\n",
    "features_train_scaled_ohed = features_train_ohed.copy()\n",
    "features_test_scaled_ohed = features_test_ohed.copy()\n",
    "\n",
    "# Создадим Scaled и  Ohed для Train выборки\n",
    "features_train_scaled_ohed[numeric] = scaler.transform(features_train[numeric])\n",
    "\n",
    "features_test_scaled_ohed[numeric]  = scaler.transform(features_test[numeric])"
   ]
  },
  {
   "cell_type": "code",
   "execution_count": 68,
   "metadata": {},
   "outputs": [],
   "source": [
    "# Создадим Scaled и Ohed выборку для Valid и для Test\n",
    "features_valid_scaled_ohed = features_valid_ohed.copy()\n",
    "features_valid_scaled_ohed[numeric] = scaler.transform(features_valid[numeric])\n",
    "\n",
    "# Test\n",
    "features_test_scaled_ohed = features_test_ohed.copy()\n",
    "features_test_scaled_ohed[numeric] = scaler.transform(features_test[numeric])"
   ]
  },
  {
   "cell_type": "code",
   "execution_count": 69,
   "metadata": {
    "scrolled": true
   },
   "outputs": [
    {
     "data": {
      "text/plain": [
       "Index(['RegistrationYear', 'Power', 'Kilometer', 'RegistrationMonth',\n",
       "       'PostalCode', 'x0_bus', 'x0_convertible', 'x0_coupe', 'x0_other',\n",
       "       'x0_sedan',\n",
       "       ...\n",
       "       'x4_skoda', 'x4_smart', 'x4_subaru', 'x4_suzuki', 'x4_toyota',\n",
       "       'x4_trabant', 'x4_volkswagen', 'x4_volvo', 'x5_no', 'x5_yes'],\n",
       "      dtype='object', length=310)"
      ]
     },
     "execution_count": 69,
     "metadata": {},
     "output_type": "execute_result"
    }
   ],
   "source": [
    "features_train_scaled_ohed.columns"
   ]
  },
  {
   "cell_type": "markdown",
   "metadata": {},
   "source": [
    "####  Приступим к обучению регрессии"
   ]
  },
  {
   "cell_type": "code",
   "execution_count": 70,
   "metadata": {},
   "outputs": [
    {
     "name": "stdout",
     "output_type": "stream",
     "text": [
      "CPU times: user 10.9 s, sys: 3.1 s, total: 14 s\n",
      "Wall time: 14 s\n"
     ]
    }
   ],
   "source": [
    "%%time\n",
    "model_l = LinearRegression()\n",
    "\n",
    "predictions_cv_lin = model_l.fit(features_train_scaled_ohed, target_train)"
   ]
  },
  {
   "cell_type": "code",
   "execution_count": 71,
   "metadata": {},
   "outputs": [
    {
     "name": "stdout",
     "output_type": "stream",
     "text": [
      "CPU times: user 111 ms, sys: 100 ms, total: 211 ms\n",
      "Wall time: 198 ms\n"
     ]
    }
   ],
   "source": [
    "%%time\n",
    "predictions_lin_valid = model_l.predict(features_valid_scaled_ohed)"
   ]
  },
  {
   "cell_type": "code",
   "execution_count": 72,
   "metadata": {},
   "outputs": [
    {
     "name": "stdout",
     "output_type": "stream",
     "text": [
      "RMSE Линейной регрессии равно: 107118733741.69032\n"
     ]
    }
   ],
   "source": [
    "rmse_cv_lin = mean_squared_error(target_valid, predictions_lin_valid) ** 0.5\n",
    "print('RMSE Линейной регрессии равно:', rmse_cv_lin)"
   ]
  },
  {
   "cell_type": "markdown",
   "metadata": {},
   "source": [
    "Очень плохой результат показала линейная регрессия, перейдем к случайному лесу"
   ]
  },
  {
   "cell_type": "code",
   "execution_count": 73,
   "metadata": {},
   "outputs": [],
   "source": [
    "time_fit_lin = 4.18 # секунд\n",
    "time_pred_lin = 0.445\n",
    "rmse_valid_lin = 2615.2"
   ]
  },
  {
   "cell_type": "markdown",
   "metadata": {},
   "source": [
    "### Случайный лес"
   ]
  },
  {
   "cell_type": "code",
   "execution_count": 74,
   "metadata": {},
   "outputs": [
    {
     "name": "stderr",
     "output_type": "stream",
     "text": [
      "100%|██████████| 6/6 [10:15<00:00, 102.53s/it]"
     ]
    },
    {
     "name": "stdout",
     "output_type": "stream",
     "text": [
      "CPU times: user 10min 11s, sys: 1.88 s, total: 10min 13s\n",
      "Wall time: 10min 15s\n"
     ]
    },
    {
     "name": "stderr",
     "output_type": "stream",
     "text": [
      "\n"
     ]
    }
   ],
   "source": [
    "%%time\n",
    "best_depth = 0\n",
    "\n",
    "\n",
    "best_est = 0\n",
    "\n",
    "rmse_f_best = 1e300\n",
    "\n",
    "depthes = [None]+[i for i in range(2,7)]\n",
    "for depth in tqdm(depthes):\n",
    "    for est in range(10,121, 25):\n",
    "        \n",
    "        model_f = RandomForestRegressor(n_estimators=est, max_depth=depth, random_state=12345)\n",
    "        \n",
    "        #predictions_cv_forest = cross_val_predict(model_f, features_train_encoded, target_train)\n",
    "        #predictions_forest = model_f.fit(features_train_scaled_ohed, target_train)\n",
    "        #predictions_f = model_f.predict(features_valid_scaled_ohed)\n",
    "        model_f.fit(features_train_encoded, target_train)\n",
    "        \n",
    "        predictions_f = model_f.predict(features_valid_encoded)\n",
    "        rmse = mean_squared_error(target_valid, predictions_f)\n",
    "        rmse = mean_squared_error(target_valid, predictions_f)\n",
    "        if rmse < rmse_f_best:\n",
    "            best_depth = depth\n",
    "            best_est = est \n",
    "            rmse_f_best = rmse\n",
    "        "
   ]
  },
  {
   "cell_type": "markdown",
   "metadata": {},
   "source": [
    "При обучении модели случайно забыл выделить квадрат, поэтому сделаю ниже)"
   ]
  },
  {
   "cell_type": "code",
   "execution_count": 75,
   "metadata": {},
   "outputs": [],
   "source": [
    "rmse_f_best = rmse_f_best ** 0.5"
   ]
  },
  {
   "cell_type": "code",
   "execution_count": 76,
   "metadata": {},
   "outputs": [
    {
     "name": "stdout",
     "output_type": "stream",
     "text": [
      "Лучший rmse случайного леса равен: 1635.9565572840772\n",
      "Лучшая глубина леса None лучшее количество деревьев 110\n"
     ]
    }
   ],
   "source": [
    "print('Лучший rmse случайного леса равен:', rmse_f_best)\n",
    "print('Лучшая глубина леса', best_depth, 'лучшее количество деревьев', best_est)"
   ]
  },
  {
   "cell_type": "markdown",
   "metadata": {},
   "source": [
    "Лес показал себя намного лучше, чем линейная регрессия!"
   ]
  },
  {
   "cell_type": "markdown",
   "metadata": {},
   "source": [
    "**Теперь обучим модель на обучающей выборке и протестируем на валидационной**"
   ]
  },
  {
   "cell_type": "code",
   "execution_count": 77,
   "metadata": {},
   "outputs": [],
   "source": [
    "model_f = RandomForestRegressor(n_estimators=110, max_depth=None, random_state=12345)"
   ]
  },
  {
   "cell_type": "code",
   "execution_count": 78,
   "metadata": {},
   "outputs": [
    {
     "name": "stdout",
     "output_type": "stream",
     "text": [
      "CPU times: user 1min 45s, sys: 826 ms, total: 1min 45s\n",
      "Wall time: 1min 46s\n"
     ]
    },
    {
     "data": {
      "text/plain": [
       "RandomForestRegressor(n_estimators=110, random_state=12345)"
      ]
     },
     "execution_count": 78,
     "metadata": {},
     "output_type": "execute_result"
    }
   ],
   "source": [
    "%%time\n",
    "model_f.fit(features_train_encoded, target_train)"
   ]
  },
  {
   "cell_type": "code",
   "execution_count": 79,
   "metadata": {},
   "outputs": [
    {
     "name": "stdout",
     "output_type": "stream",
     "text": [
      "CPU times: user 3.1 s, sys: 0 ns, total: 3.1 s\n",
      "Wall time: 3.1 s\n"
     ]
    }
   ],
   "source": [
    "%%time\n",
    "predictions_f = model_f.predict(features_valid_encoded)"
   ]
  },
  {
   "cell_type": "markdown",
   "metadata": {},
   "source": [
    "Посмотрим на результаты"
   ]
  },
  {
   "cell_type": "code",
   "execution_count": 80,
   "metadata": {},
   "outputs": [
    {
     "name": "stdout",
     "output_type": "stream",
     "text": [
      "RMSE случайного леса равно: 1635.9565572840772\n"
     ]
    }
   ],
   "source": [
    "rmse_forest = mean_squared_error(predictions_f,target_valid)**0.5\n",
    "print('RMSE случайного леса равно:',rmse_forest)"
   ]
  },
  {
   "cell_type": "code",
   "execution_count": 81,
   "metadata": {},
   "outputs": [],
   "source": [
    "time_fit_f = 1.44\n",
    "time_pred_f = 2.8\n",
    "rmse_forest = 1631"
   ]
  },
  {
   "cell_type": "markdown",
   "metadata": {},
   "source": [
    "\n",
    "\n",
    "\n",
    "\n",
    "\n",
    "\n",
    "\n",
    "\n",
    "\n",
    "\n",
    "\n",
    "\n",
    "\n",
    "\n",
    "\n",
    "\n",
    "\n",
    "\n",
    "\n",
    "\n",
    "\n",
    "\n",
    "\n",
    "\n",
    "\n",
    "\n",
    "\n",
    "\n",
    "\n",
    "\n",
    "\n",
    "\n",
    "\n",
    "\n",
    "\n",
    "\n",
    "\n",
    "\n",
    "\n",
    "\n",
    "\n",
    "\n",
    "\n",
    "\n",
    "\n",
    "\n",
    "\n",
    "\n",
    "\n",
    "\n",
    "\n",
    "\n",
    "\n",
    "\n",
    "\n",
    "\n",
    "\n",
    "\n",
    "\n",
    "\n",
    "\n",
    "\n",
    "\n",
    "\n",
    "\n",
    "\n",
    "\n",
    "\n",
    "\n",
    "\n",
    "\n",
    "\n",
    "\n",
    "\n",
    "\n",
    "\n",
    "\n",
    "\n",
    "\n",
    "\n",
    "\n",
    "\n",
    "\n",
    "\n",
    "\n",
    "\n",
    "\n",
    "\n",
    "\n",
    "\n",
    "\n",
    "\n",
    "\n",
    "\n",
    "\n",
    "\n",
    "\n",
    "\n",
    "\n",
    "\n",
    "\n",
    "\n",
    "\n",
    "\n",
    "\n",
    "\n",
    "\n",
    "\n",
    "\n",
    "\n",
    "\n",
    "\n",
    "\n",
    "\n",
    "\n",
    "\n",
    "\n",
    "\n",
    "\n",
    "\n",
    "\n",
    "\n",
    "\n",
    "\n",
    "\n",
    "\n",
    "\n",
    "\n",
    "\n",
    "\n",
    "\n",
    "\n",
    "\n",
    "\n",
    "\n",
    "\n",
    "\n",
    "\n",
    "\n",
    "\n",
    "\n",
    "\n",
    "\n",
    "\n",
    "\n",
    "\n",
    "\n",
    "\n",
    "\n",
    "\n",
    "\n",
    "\n",
    "\n",
    "\n",
    "\n",
    "\n",
    "\n",
    "\n",
    "\n",
    "\n",
    "\n",
    "\n",
    "\n",
    "\n",
    "\n",
    "\n",
    "\n",
    "\n",
    "\n",
    "\n",
    "\n",
    "\n",
    "\n",
    "\n",
    "\n",
    "\n",
    "\n",
    "\n",
    "\n",
    "\n",
    "\n",
    "\n",
    "\n",
    "\n",
    "\n",
    "\n",
    "\n",
    "\n",
    "\n",
    "\n",
    "\n",
    "\n",
    "\n",
    "\n",
    "\n",
    "\n",
    "\n",
    "\n",
    "\n",
    "\n",
    "\n",
    "\n",
    "\n",
    "\n",
    "\n",
    "\n",
    "\n",
    "\n",
    "\n",
    "\n",
    "\n",
    "\n",
    "\n",
    "\n",
    "\n",
    "\n",
    "\n",
    "\n",
    "\n",
    "\n",
    "\n",
    "\n",
    "\n",
    "\n",
    "\n",
    "\n",
    "\n",
    "\n",
    "\n",
    "\n",
    "\n",
    "\n",
    "\n",
    "\n",
    "\n",
    "\n",
    "\n",
    "\n",
    "\n",
    "\n",
    "\n",
    "\n",
    "\n",
    "\n",
    "\n",
    "\n",
    "\n",
    "\n",
    "\n",
    "\n",
    "\n",
    "\n",
    "\n",
    "\n",
    "\n",
    "\n",
    "\n",
    "\n",
    "\n",
    "\n",
    "\n",
    "\n",
    "\n",
    "\n",
    "\n",
    "\n",
    "\n",
    "\n",
    "\n",
    "\n",
    "\n",
    "\n",
    "\n",
    "\n",
    "\n",
    "\n",
    "\n",
    "\n",
    "\n",
    "\n",
    "\n",
    "\n",
    "\n",
    "\n",
    "\n",
    "\n",
    "\n",
    "\n",
    "\n",
    "\n",
    "\n",
    "\n",
    "\n",
    "\n",
    "\n",
    "\n",
    "\n",
    "\n",
    "\n",
    "\n",
    "\n",
    "\n",
    "\n",
    "\n",
    "\n",
    "\n",
    "\n",
    "\n",
    "\n",
    "\n",
    "\n",
    "\n",
    "\n",
    "\n",
    "\n",
    "\n",
    "\n",
    "\n",
    "\n",
    "\n",
    "\n",
    "\n",
    "\n",
    "\n",
    "\n",
    "\n",
    "\n",
    "\n",
    "\n",
    "\n",
    "\n",
    "\n",
    "\n",
    "\n",
    "\n",
    "\n",
    "\n",
    "\n",
    "\n",
    "\n",
    "\n",
    "\n",
    "\n",
    "\n",
    "\n",
    "\n",
    "\n",
    "\n",
    "\n",
    "\n",
    "\n",
    "\n",
    "\n",
    "\n",
    "\n",
    "\n",
    "\n",
    "\n",
    "\n",
    "\n",
    "\n",
    "\n",
    "\n",
    "\n",
    "\n",
    "\n",
    "\n",
    "\n",
    "\n",
    "\n",
    "\n",
    "\n",
    "\n",
    "\n",
    "\n",
    "\n",
    "\n",
    "\n",
    "\n",
    "\n",
    "\n",
    "\n",
    "\n",
    "\n",
    "\n",
    "\n",
    "\n",
    "\n",
    "\n",
    "\n",
    "\n",
    "\n",
    "\n",
    "\n",
    "\n",
    "\n",
    "\n",
    "\n",
    "\n",
    "\n",
    "\n",
    "\n",
    "\n",
    "\n",
    "\n",
    "\n",
    "\n",
    "\n",
    "\n",
    "\n",
    "\n",
    "\n",
    "\n",
    "\n",
    "\n",
    "\n",
    "\n",
    "\n",
    "\n",
    "\n",
    "\n",
    "\n",
    "\n",
    "\n",
    "\n",
    "\n",
    "\n",
    "\n",
    "\n",
    "\n",
    "\n",
    "\n",
    "\n",
    "\n",
    "\n",
    "\n",
    "\n",
    "\n",
    "\n",
    "\n",
    "\n",
    "\n",
    "\n",
    "\n",
    "\n",
    "\n",
    "\n",
    "\n",
    "\n",
    "\n",
    "\n",
    "\n",
    "\n",
    "\n",
    "\n",
    "\n",
    "\n",
    "\n",
    "\n",
    "\n",
    "\n",
    "\n",
    "\n",
    "\n",
    "\n",
    "\n",
    "\n",
    "\n",
    "\n",
    "\n",
    "\n",
    "\n",
    "\n",
    "\n",
    "\n",
    "\n",
    "\n",
    "\n",
    "\n",
    "\n",
    "\n",
    "\n",
    "\n",
    "\n",
    "\n",
    "\n",
    "\n",
    "\n",
    "\n",
    "\n",
    "\n",
    "\n",
    "\n",
    "\n",
    "\n",
    "\n",
    "\n",
    "\n",
    "\n",
    "\n",
    "\n",
    "\n",
    "\n",
    "\n",
    "\n",
    "\n",
    "\n",
    "\n",
    "\n",
    "\n",
    "\n",
    "\n",
    "\n",
    "\n",
    "\n",
    "\n",
    "\n",
    "\n",
    "\n",
    "\n",
    "\n",
    "\n",
    "\n",
    "\n",
    "\n",
    "\n",
    "\n",
    "\n",
    "\n",
    "\n",
    "\n",
    "\n",
    "\n",
    "\n",
    "\n",
    "\n",
    "\n",
    "\n",
    "\n",
    "\n",
    "\n",
    "\n",
    "\n",
    "\n",
    "\n",
    "\n",
    "\n",
    "\n",
    "\n",
    "\n",
    "\n",
    "\n",
    "\n",
    "\n",
    "\n",
    "\n",
    "\n",
    "\n",
    "\n",
    "\n",
    "\n",
    "\n",
    "\n",
    "\n",
    "\n",
    "\n",
    "\n",
    "\n",
    "\n",
    "\n",
    "\n",
    "\n",
    "\n",
    "\n",
    "\n",
    "\n",
    "\n",
    "\n",
    "\n",
    "\n",
    "\n",
    "\n",
    "\n",
    "\n",
    "\n",
    "\n",
    "\n",
    "\n",
    "\n",
    "\n",
    "\n",
    "\n",
    "\n",
    "\n",
    "\n",
    "\n",
    "\n",
    "\n",
    "\n",
    "\n",
    "\n",
    "\n",
    "\n",
    "\n",
    "\n",
    "\n",
    "\n",
    "\n",
    "\n",
    "\n",
    "\n",
    "\n",
    "\n",
    "\n",
    "\n",
    "\n",
    "\n",
    "\n",
    "\n",
    "\n",
    "\n",
    "\n",
    "\n",
    "\n",
    "\n",
    "\n",
    "\n",
    "\n",
    "\n",
    "\n",
    "\n",
    "\n",
    "\n",
    "\n",
    "\n",
    "\n",
    "\n",
    "\n",
    "\n",
    "\n",
    "\n",
    "\n",
    "\n",
    "\n",
    "\n",
    "\n",
    "\n",
    "\n",
    "\n",
    "\n",
    "\n",
    "\n",
    "\n",
    "\n",
    "\n",
    "\n",
    "\n",
    "\n",
    "\n",
    "\n",
    "\n",
    "\n",
    "\n",
    "\n",
    "\n",
    "\n",
    "\n",
    "\n",
    "\n",
    "\n",
    "\n",
    "\n",
    "\n",
    "\n",
    "\n",
    "\n",
    "\n",
    "\n",
    "\n",
    "\n",
    "\n",
    "\n",
    "\n",
    "\n",
    "\n",
    "\n",
    "\n",
    "\n",
    "\n",
    "\n",
    "\n",
    "\n",
    "\n",
    "\n",
    "\n",
    "\n",
    "\n",
    "\n",
    "\n",
    "\n",
    "\n",
    "\n",
    "\n",
    "\n",
    "\n",
    "\n",
    "\n",
    "\n",
    "\n",
    "\n",
    "\n",
    "\n",
    "\n",
    "\n",
    "\n",
    "\n",
    "\n",
    "\n",
    "\n",
    "\n",
    "\n",
    "\n",
    "\n",
    "\n",
    "\n",
    "\n",
    "\n",
    "\n",
    "\n",
    "\n",
    "\n",
    "\n",
    "\n",
    "\n",
    "\n",
    "\n",
    "\n",
    "\n",
    "\n",
    "\n",
    "\n",
    "\n",
    "\n",
    "\n",
    "\n",
    "\n",
    "\n",
    "\n",
    "\n",
    "\n",
    "\n",
    "\n",
    "\n",
    "\n",
    "\n",
    "\n",
    "\n",
    "\n",
    "\n",
    "\n",
    "\n",
    "\n",
    "\n",
    "\n",
    "\n",
    "\n",
    "\n",
    "\n",
    "\n",
    "\n",
    "\n",
    "\n",
    "\n",
    "\n",
    "\n",
    "\n",
    "\n",
    "\n",
    "\n",
    "\n",
    "\n",
    "\n",
    "\n",
    "\n",
    "\n",
    "\n",
    "\n",
    "\n",
    "\n",
    "\n",
    "\n",
    "\n",
    "\n",
    "\n",
    "\n",
    "\n",
    "\n",
    "\n",
    "\n",
    "\n",
    "\n",
    "\n",
    "\n",
    "\n",
    "\n",
    "\n",
    "\n",
    "\n",
    "\n",
    "\n",
    "\n",
    "\n",
    "\n",
    "\n",
    "\n",
    "\n",
    "\n",
    "\n",
    "\n",
    "\n",
    "\n",
    "\n",
    "\n",
    "\n",
    "\n",
    "\n",
    "\n",
    "\n",
    "\n",
    "\n",
    "\n",
    "\n",
    "\n",
    "\n",
    "\n",
    "\n",
    "\n",
    "\n",
    "\n",
    "\n",
    "\n",
    "\n",
    "\n",
    "\n",
    "\n",
    "\n",
    "\n",
    "\n",
    "\n",
    "\n",
    "\n",
    "\n",
    "\n",
    "\n",
    "\n",
    "\n",
    "\n",
    "\n",
    "\n",
    "\n",
    "\n",
    "\n",
    "\n",
    "\n",
    "\n",
    "\n",
    "\n",
    "\n",
    "\n",
    "\n",
    "\n",
    "\n",
    "\n",
    "\n",
    "\n",
    "\n",
    "\n",
    "\n",
    "\n",
    "\n",
    "\n",
    "\n",
    "\n",
    "\n",
    "\n",
    "\n",
    "\n",
    "\n",
    "\n",
    "\n",
    "\n",
    "\n",
    "\n",
    "\n",
    "\n",
    "\n",
    "\n",
    "\n",
    "\n",
    "\n",
    "\n",
    "\n",
    "\n",
    "\n",
    "\n",
    "\n",
    "\n",
    "\n",
    "\n",
    "\n",
    "\n",
    "\n",
    "\n",
    "\n",
    "\n",
    "\n",
    "\n",
    "\n",
    "\n",
    "\n",
    "\n",
    "\n",
    "\n",
    "\n",
    "\n",
    "\n",
    "\n",
    "\n",
    "\n",
    "\n",
    "\n",
    "\n",
    "\n",
    "\n",
    "\n",
    "\n",
    "\n",
    "\n",
    "\n",
    "\n",
    "\n",
    "\n",
    "\n",
    "\n",
    "\n",
    "\n",
    "\n",
    "\n",
    "\n",
    "\n",
    "\n",
    "\n",
    "\n",
    "\n",
    "\n",
    "\n",
    "\n",
    "\n",
    "\n",
    "\n",
    "\n",
    "\n",
    "\n",
    "\n",
    "\n",
    "\n",
    "\n",
    "\n",
    "\n",
    "\n",
    "\n",
    "\n",
    "\n",
    "\n",
    "\n",
    "\n",
    "\n",
    "\n",
    "\n",
    "\n",
    "\n",
    "\n",
    "\n",
    "\n",
    "\n",
    "\n",
    "\n",
    "\n",
    "\n",
    "\n",
    "\n",
    "\n",
    "\n",
    "\n",
    "\n",
    "\n",
    "\n",
    "\n",
    "\n",
    "\n",
    "\n",
    "\n",
    "\n",
    "\n",
    "\n",
    "\n",
    "\n",
    "\n",
    "\n",
    "\n",
    "\n",
    "\n",
    "\n",
    "\n",
    "\n",
    "\n",
    "\n",
    "\n",
    "\n",
    "\n",
    "\n",
    "\n",
    "\n",
    "\n",
    "\n",
    "\n",
    "\n",
    "\n",
    "\n",
    "\n",
    "\n",
    "\n",
    "\n",
    "\n",
    "\n",
    "\n",
    "\n",
    "\n",
    "\n",
    "\n",
    "\n",
    "\n",
    "\n",
    "\n",
    "\n",
    "\n",
    "\n",
    "\n",
    "\n",
    "\n",
    "\n",
    "\n",
    "\n",
    "\n",
    "\n",
    "\n",
    "\n",
    "\n",
    "\n",
    "\n",
    "\n",
    "\n",
    "\n",
    "\n",
    "\n",
    "\n",
    "\n",
    "\n",
    "Результат уже гораздо лучше, чем у линейной регрессии, но все равно результат нас такой не устраивает."
   ]
  },
  {
   "cell_type": "markdown",
   "metadata": {},
   "source": [
    "### LightGBM"
   ]
  },
  {
   "cell_type": "markdown",
   "metadata": {},
   "source": [
    "#### Этап с кросвалидацией можем пропустить, так как для задания он не нужен"
   ]
  },
  {
   "cell_type": "code",
   "execution_count": 82,
   "metadata": {},
   "outputs": [],
   "source": [
    "#features_train.head()"
   ]
  },
  {
   "cell_type": "code",
   "execution_count": 83,
   "metadata": {},
   "outputs": [],
   "source": [
    "#train_dataset = lgb.Dataset(features_train_ohed, target_train, feature_name=features_train_ohed.columns.to_list())\n",
    "#test_dataset = lgb.Dataset(features_test_ohed, target_test, feature_name=features_test_ohed.columns.to_list())"
   ]
  },
  {
   "cell_type": "code",
   "execution_count": 84,
   "metadata": {
    "scrolled": true
   },
   "outputs": [],
   "source": [
    "#%%time\n",
    "# booster = lgb.train({\"objective\": \"regression\"},\n",
    "#                     train_set=train_dataset, valid_sets=(test_dataset,),\n",
    "#                     num_boost_round=10)\n",
    "\n",
    "#  #folds=sp,\n",
    "#cv_res = lgb.cv({\"objective\": \"regression\"}, train_dataset, 400, shuffle=False, seed = None,\n",
    "#            callbacks=[lgb.early_stopping(stopping_rounds=25, first_metric_only=True)],\n",
    "#            return_cvbooster=True)\n"
   ]
  },
  {
   "cell_type": "code",
   "execution_count": 85,
   "metadata": {},
   "outputs": [],
   "source": [
    " #predictions_lgb = booster.predict(features_test_ohed)\n",
    " #cv_res"
   ]
  },
  {
   "cell_type": "code",
   "execution_count": 86,
   "metadata": {},
   "outputs": [],
   "source": [
    "#%%time\n",
    "#predictions_cv_lgb = cv_res['cvbooster'].predict(features_train_ohed)\n"
   ]
  },
  {
   "cell_type": "code",
   "execution_count": 87,
   "metadata": {},
   "outputs": [],
   "source": [
    "#len(predictions_cv_lgb[0])"
   ]
  },
  {
   "cell_type": "code",
   "execution_count": 88,
   "metadata": {},
   "outputs": [],
   "source": [
    "#target_train"
   ]
  },
  {
   "cell_type": "markdown",
   "metadata": {},
   "source": [
    "#### LightGBM обучение и предсказание"
   ]
  },
  {
   "cell_type": "code",
   "execution_count": 89,
   "metadata": {},
   "outputs": [],
   "source": [
    "train_dataset = lgb.Dataset(features_train_encoded, target_train, feature_name=features_train_encoded.columns.to_list())\n",
    "valid_dataset = lgb.Dataset(features_valid_encoded, target_valid, feature_name=features_valid_encoded.columns.to_list())\n",
    "test_dataset = lgb.Dataset(features_test_encoded, target_test, feature_name=features_test_encoded.columns.to_list())"
   ]
  },
  {
   "cell_type": "code",
   "execution_count": 90,
   "metadata": {
    "scrolled": true
   },
   "outputs": [
    {
     "name": "stdout",
     "output_type": "stream",
     "text": [
      "[LightGBM] [Warning] Auto-choosing row-wise multi-threading, the overhead of testing was 0.606885 seconds.\n",
      "You can set `force_row_wise=true` to remove the overhead.\n",
      "And if memory is not enough, you can set `force_col_wise=true`.\n",
      "[LightGBM] [Info] Total Bins 581\n",
      "[LightGBM] [Info] Number of data points in the train set: 165595, number of used features: 30\n",
      "[LightGBM] [Info] Start training from score 4814.338229\n",
      "[1]\tvalid_0's l2: 1.78518e+07\n",
      "[2]\tvalid_0's l2: 1.55152e+07\n",
      "[3]\tvalid_0's l2: 1.35917e+07\n",
      "[4]\tvalid_0's l2: 1.20158e+07\n",
      "[5]\tvalid_0's l2: 1.0692e+07\n",
      "[6]\tvalid_0's l2: 9.61241e+06\n",
      "[7]\tvalid_0's l2: 8.69916e+06\n",
      "[8]\tvalid_0's l2: 7.96204e+06\n",
      "[9]\tvalid_0's l2: 7.28806e+06\n",
      "[10]\tvalid_0's l2: 6.73411e+06\n",
      "[11]\tvalid_0's l2: 6.28181e+06\n",
      "[12]\tvalid_0's l2: 5.90661e+06\n",
      "[13]\tvalid_0's l2: 5.5765e+06\n",
      "[14]\tvalid_0's l2: 5.29756e+06\n",
      "[15]\tvalid_0's l2: 5.07066e+06\n",
      "[16]\tvalid_0's l2: 4.85311e+06\n",
      "[17]\tvalid_0's l2: 4.6734e+06\n",
      "[18]\tvalid_0's l2: 4.50864e+06\n",
      "[19]\tvalid_0's l2: 4.36334e+06\n",
      "[20]\tvalid_0's l2: 4.23703e+06\n",
      "[21]\tvalid_0's l2: 4.133e+06\n",
      "[22]\tvalid_0's l2: 4.03459e+06\n",
      "[23]\tvalid_0's l2: 3.95507e+06\n",
      "[24]\tvalid_0's l2: 3.87782e+06\n",
      "[25]\tvalid_0's l2: 3.80976e+06\n",
      "[26]\tvalid_0's l2: 3.75081e+06\n",
      "[27]\tvalid_0's l2: 3.69928e+06\n",
      "[28]\tvalid_0's l2: 3.65401e+06\n",
      "[29]\tvalid_0's l2: 3.61143e+06\n",
      "[30]\tvalid_0's l2: 3.56849e+06\n",
      "[31]\tvalid_0's l2: 3.53448e+06\n",
      "[32]\tvalid_0's l2: 3.50229e+06\n",
      "[33]\tvalid_0's l2: 3.47098e+06\n",
      "[34]\tvalid_0's l2: 3.43654e+06\n",
      "[35]\tvalid_0's l2: 3.40776e+06\n",
      "[36]\tvalid_0's l2: 3.37714e+06\n",
      "[37]\tvalid_0's l2: 3.35456e+06\n",
      "[38]\tvalid_0's l2: 3.33208e+06\n",
      "[39]\tvalid_0's l2: 3.313e+06\n",
      "[40]\tvalid_0's l2: 3.2951e+06\n",
      "[41]\tvalid_0's l2: 3.27925e+06\n",
      "[42]\tvalid_0's l2: 3.2601e+06\n",
      "[43]\tvalid_0's l2: 3.24228e+06\n",
      "[44]\tvalid_0's l2: 3.22382e+06\n",
      "[45]\tvalid_0's l2: 3.21281e+06\n",
      "[46]\tvalid_0's l2: 3.19999e+06\n",
      "[47]\tvalid_0's l2: 3.18713e+06\n",
      "[48]\tvalid_0's l2: 3.17664e+06\n",
      "[49]\tvalid_0's l2: 3.1643e+06\n",
      "[50]\tvalid_0's l2: 3.15496e+06\n",
      "[51]\tvalid_0's l2: 3.14704e+06\n",
      "[52]\tvalid_0's l2: 3.13945e+06\n",
      "[53]\tvalid_0's l2: 3.13168e+06\n",
      "[54]\tvalid_0's l2: 3.12618e+06\n",
      "[55]\tvalid_0's l2: 3.11628e+06\n",
      "[56]\tvalid_0's l2: 3.1081e+06\n",
      "[57]\tvalid_0's l2: 3.10275e+06\n",
      "[58]\tvalid_0's l2: 3.0933e+06\n",
      "[59]\tvalid_0's l2: 3.08938e+06\n",
      "[60]\tvalid_0's l2: 3.0837e+06\n",
      "[61]\tvalid_0's l2: 3.07779e+06\n",
      "[62]\tvalid_0's l2: 3.07409e+06\n",
      "[63]\tvalid_0's l2: 3.06768e+06\n",
      "[64]\tvalid_0's l2: 3.05905e+06\n",
      "[65]\tvalid_0's l2: 3.05249e+06\n",
      "[66]\tvalid_0's l2: 3.04909e+06\n",
      "[67]\tvalid_0's l2: 3.0453e+06\n",
      "[68]\tvalid_0's l2: 3.03812e+06\n",
      "[69]\tvalid_0's l2: 3.03141e+06\n",
      "[70]\tvalid_0's l2: 3.02555e+06\n",
      "[71]\tvalid_0's l2: 3.02282e+06\n",
      "[72]\tvalid_0's l2: 3.01474e+06\n",
      "[73]\tvalid_0's l2: 3.00942e+06\n",
      "[74]\tvalid_0's l2: 3.0044e+06\n",
      "[75]\tvalid_0's l2: 3.00237e+06\n",
      "[76]\tvalid_0's l2: 2.9966e+06\n",
      "[77]\tvalid_0's l2: 2.99102e+06\n",
      "[78]\tvalid_0's l2: 2.98408e+06\n",
      "[79]\tvalid_0's l2: 2.97818e+06\n",
      "[80]\tvalid_0's l2: 2.97167e+06\n",
      "[81]\tvalid_0's l2: 2.96948e+06\n",
      "[82]\tvalid_0's l2: 2.96737e+06\n",
      "[83]\tvalid_0's l2: 2.96003e+06\n",
      "[84]\tvalid_0's l2: 2.95642e+06\n",
      "[85]\tvalid_0's l2: 2.9518e+06\n",
      "[86]\tvalid_0's l2: 2.94658e+06\n",
      "[87]\tvalid_0's l2: 2.94212e+06\n",
      "[88]\tvalid_0's l2: 2.93795e+06\n",
      "[89]\tvalid_0's l2: 2.93442e+06\n",
      "[90]\tvalid_0's l2: 2.93084e+06\n",
      "[91]\tvalid_0's l2: 2.92973e+06\n",
      "[92]\tvalid_0's l2: 2.92376e+06\n",
      "[93]\tvalid_0's l2: 2.92033e+06\n",
      "[94]\tvalid_0's l2: 2.91703e+06\n",
      "[95]\tvalid_0's l2: 2.91388e+06\n",
      "[96]\tvalid_0's l2: 2.90803e+06\n",
      "[97]\tvalid_0's l2: 2.90638e+06\n",
      "[98]\tvalid_0's l2: 2.90394e+06\n",
      "[99]\tvalid_0's l2: 2.90248e+06\n",
      "[100]\tvalid_0's l2: 2.89737e+06\n",
      "[101]\tvalid_0's l2: 2.89403e+06\n",
      "[102]\tvalid_0's l2: 2.89319e+06\n",
      "[103]\tvalid_0's l2: 2.89215e+06\n",
      "[104]\tvalid_0's l2: 2.88791e+06\n",
      "[105]\tvalid_0's l2: 2.88729e+06\n",
      "[106]\tvalid_0's l2: 2.88492e+06\n",
      "[107]\tvalid_0's l2: 2.88364e+06\n",
      "[108]\tvalid_0's l2: 2.88302e+06\n",
      "[109]\tvalid_0's l2: 2.88155e+06\n",
      "[110]\tvalid_0's l2: 2.88104e+06\n",
      "[111]\tvalid_0's l2: 2.87796e+06\n",
      "[112]\tvalid_0's l2: 2.87397e+06\n",
      "[113]\tvalid_0's l2: 2.87272e+06\n",
      "[114]\tvalid_0's l2: 2.87109e+06\n",
      "[115]\tvalid_0's l2: 2.86766e+06\n",
      "[116]\tvalid_0's l2: 2.86684e+06\n",
      "[117]\tvalid_0's l2: 2.86609e+06\n",
      "[118]\tvalid_0's l2: 2.86264e+06\n",
      "[119]\tvalid_0's l2: 2.85969e+06\n",
      "[120]\tvalid_0's l2: 2.85548e+06\n",
      "[121]\tvalid_0's l2: 2.8528e+06\n",
      "[122]\tvalid_0's l2: 2.85297e+06\n",
      "[123]\tvalid_0's l2: 2.85073e+06\n",
      "[124]\tvalid_0's l2: 2.84956e+06\n",
      "[125]\tvalid_0's l2: 2.84902e+06\n",
      "[126]\tvalid_0's l2: 2.84481e+06\n",
      "[127]\tvalid_0's l2: 2.84253e+06\n",
      "[128]\tvalid_0's l2: 2.84103e+06\n",
      "[129]\tvalid_0's l2: 2.83892e+06\n",
      "[130]\tvalid_0's l2: 2.83696e+06\n",
      "[131]\tvalid_0's l2: 2.83621e+06\n",
      "[132]\tvalid_0's l2: 2.83322e+06\n",
      "[133]\tvalid_0's l2: 2.83147e+06\n",
      "[134]\tvalid_0's l2: 2.8312e+06\n",
      "[135]\tvalid_0's l2: 2.8299e+06\n",
      "[136]\tvalid_0's l2: 2.82581e+06\n",
      "[137]\tvalid_0's l2: 2.82601e+06\n",
      "[138]\tvalid_0's l2: 2.82542e+06\n",
      "[139]\tvalid_0's l2: 2.82392e+06\n",
      "[140]\tvalid_0's l2: 2.82327e+06\n",
      "[141]\tvalid_0's l2: 2.82241e+06\n",
      "[142]\tvalid_0's l2: 2.8216e+06\n",
      "[143]\tvalid_0's l2: 2.81977e+06\n",
      "[144]\tvalid_0's l2: 2.81889e+06\n",
      "[145]\tvalid_0's l2: 2.81656e+06\n",
      "[146]\tvalid_0's l2: 2.81519e+06\n",
      "[147]\tvalid_0's l2: 2.81376e+06\n",
      "[148]\tvalid_0's l2: 2.81362e+06\n",
      "[149]\tvalid_0's l2: 2.81334e+06\n",
      "[150]\tvalid_0's l2: 2.81327e+06\n",
      "[151]\tvalid_0's l2: 2.8105e+06\n",
      "[152]\tvalid_0's l2: 2.80735e+06\n",
      "[153]\tvalid_0's l2: 2.80335e+06\n",
      "[154]\tvalid_0's l2: 2.80078e+06\n",
      "[155]\tvalid_0's l2: 2.79783e+06\n",
      "[156]\tvalid_0's l2: 2.79407e+06\n",
      "[157]\tvalid_0's l2: 2.79207e+06\n",
      "[158]\tvalid_0's l2: 2.79209e+06\n",
      "[159]\tvalid_0's l2: 2.7906e+06\n",
      "[160]\tvalid_0's l2: 2.79046e+06\n",
      "[161]\tvalid_0's l2: 2.79022e+06\n",
      "[162]\tvalid_0's l2: 2.79027e+06\n",
      "[163]\tvalid_0's l2: 2.78945e+06\n",
      "[164]\tvalid_0's l2: 2.78944e+06\n",
      "[165]\tvalid_0's l2: 2.78939e+06\n",
      "[166]\tvalid_0's l2: 2.78961e+06\n",
      "[167]\tvalid_0's l2: 2.7883e+06\n",
      "[168]\tvalid_0's l2: 2.78695e+06\n",
      "[169]\tvalid_0's l2: 2.78573e+06\n",
      "[170]\tvalid_0's l2: 2.78396e+06\n",
      "[171]\tvalid_0's l2: 2.78211e+06\n",
      "[172]\tvalid_0's l2: 2.7795e+06\n",
      "[173]\tvalid_0's l2: 2.77896e+06\n",
      "[174]\tvalid_0's l2: 2.77684e+06\n",
      "[175]\tvalid_0's l2: 2.77557e+06\n",
      "[176]\tvalid_0's l2: 2.77326e+06\n",
      "[177]\tvalid_0's l2: 2.77308e+06\n",
      "[178]\tvalid_0's l2: 2.77269e+06\n",
      "[179]\tvalid_0's l2: 2.77159e+06\n",
      "[180]\tvalid_0's l2: 2.77006e+06\n",
      "[181]\tvalid_0's l2: 2.76821e+06\n",
      "[182]\tvalid_0's l2: 2.76578e+06\n",
      "[183]\tvalid_0's l2: 2.76511e+06\n",
      "[184]\tvalid_0's l2: 2.76381e+06\n",
      "[185]\tvalid_0's l2: 2.76201e+06\n",
      "[186]\tvalid_0's l2: 2.76006e+06\n",
      "[187]\tvalid_0's l2: 2.75863e+06\n",
      "[188]\tvalid_0's l2: 2.75545e+06\n",
      "[189]\tvalid_0's l2: 2.75423e+06\n",
      "[190]\tvalid_0's l2: 2.75395e+06\n",
      "[191]\tvalid_0's l2: 2.75252e+06\n",
      "[192]\tvalid_0's l2: 2.75262e+06\n",
      "[193]\tvalid_0's l2: 2.75229e+06\n",
      "[194]\tvalid_0's l2: 2.75086e+06\n",
      "[195]\tvalid_0's l2: 2.74775e+06\n",
      "[196]\tvalid_0's l2: 2.74737e+06\n",
      "[197]\tvalid_0's l2: 2.7472e+06\n",
      "[198]\tvalid_0's l2: 2.74622e+06\n",
      "[199]\tvalid_0's l2: 2.74609e+06\n",
      "[200]\tvalid_0's l2: 2.74423e+06\n",
      "[201]\tvalid_0's l2: 2.74199e+06\n",
      "[202]\tvalid_0's l2: 2.74133e+06\n",
      "[203]\tvalid_0's l2: 2.73945e+06\n",
      "[204]\tvalid_0's l2: 2.73814e+06\n",
      "[205]\tvalid_0's l2: 2.73847e+06\n",
      "[206]\tvalid_0's l2: 2.73703e+06\n",
      "[207]\tvalid_0's l2: 2.73486e+06\n",
      "[208]\tvalid_0's l2: 2.73448e+06\n",
      "[209]\tvalid_0's l2: 2.73445e+06\n",
      "[210]\tvalid_0's l2: 2.73339e+06\n",
      "[211]\tvalid_0's l2: 2.73267e+06\n",
      "[212]\tvalid_0's l2: 2.73229e+06\n",
      "[213]\tvalid_0's l2: 2.73182e+06\n",
      "[214]\tvalid_0's l2: 2.72986e+06\n",
      "[215]\tvalid_0's l2: 2.72774e+06\n",
      "[216]\tvalid_0's l2: 2.72729e+06\n",
      "[217]\tvalid_0's l2: 2.72728e+06\n",
      "[218]\tvalid_0's l2: 2.72592e+06\n",
      "[219]\tvalid_0's l2: 2.72376e+06\n",
      "[220]\tvalid_0's l2: 2.72229e+06\n",
      "[221]\tvalid_0's l2: 2.72112e+06\n",
      "[222]\tvalid_0's l2: 2.7208e+06\n",
      "[223]\tvalid_0's l2: 2.71954e+06\n",
      "[224]\tvalid_0's l2: 2.71941e+06\n",
      "[225]\tvalid_0's l2: 2.71723e+06\n",
      "[226]\tvalid_0's l2: 2.71568e+06\n",
      "[227]\tvalid_0's l2: 2.71434e+06\n",
      "[228]\tvalid_0's l2: 2.71388e+06\n",
      "[229]\tvalid_0's l2: 2.71268e+06\n",
      "[230]\tvalid_0's l2: 2.71054e+06\n",
      "[231]\tvalid_0's l2: 2.70871e+06\n",
      "[232]\tvalid_0's l2: 2.70861e+06\n",
      "[233]\tvalid_0's l2: 2.7069e+06\n",
      "[234]\tvalid_0's l2: 2.70426e+06\n",
      "[235]\tvalid_0's l2: 2.70333e+06\n",
      "[236]\tvalid_0's l2: 2.70181e+06\n",
      "[237]\tvalid_0's l2: 2.70122e+06\n",
      "[238]\tvalid_0's l2: 2.70056e+06\n",
      "[239]\tvalid_0's l2: 2.69959e+06\n",
      "[240]\tvalid_0's l2: 2.69931e+06\n",
      "[241]\tvalid_0's l2: 2.69729e+06\n",
      "[242]\tvalid_0's l2: 2.69625e+06\n",
      "[243]\tvalid_0's l2: 2.69441e+06\n",
      "[244]\tvalid_0's l2: 2.69389e+06\n",
      "[245]\tvalid_0's l2: 2.69177e+06\n",
      "[246]\tvalid_0's l2: 2.69108e+06\n",
      "[247]\tvalid_0's l2: 2.69087e+06\n",
      "[248]\tvalid_0's l2: 2.69022e+06\n",
      "[249]\tvalid_0's l2: 2.69032e+06\n",
      "[250]\tvalid_0's l2: 2.69059e+06\n",
      "[251]\tvalid_0's l2: 2.68963e+06\n",
      "[252]\tvalid_0's l2: 2.68934e+06\n",
      "[253]\tvalid_0's l2: 2.6876e+06\n",
      "[254]\tvalid_0's l2: 2.68687e+06\n",
      "[255]\tvalid_0's l2: 2.68694e+06\n",
      "[256]\tvalid_0's l2: 2.68659e+06\n",
      "[257]\tvalid_0's l2: 2.68642e+06\n",
      "[258]\tvalid_0's l2: 2.68591e+06\n",
      "[259]\tvalid_0's l2: 2.68588e+06\n",
      "[260]\tvalid_0's l2: 2.6856e+06\n",
      "[261]\tvalid_0's l2: 2.68391e+06\n",
      "[262]\tvalid_0's l2: 2.68379e+06\n",
      "[263]\tvalid_0's l2: 2.6824e+06\n",
      "[264]\tvalid_0's l2: 2.6814e+06\n",
      "[265]\tvalid_0's l2: 2.68101e+06\n",
      "[266]\tvalid_0's l2: 2.68042e+06\n",
      "[267]\tvalid_0's l2: 2.6794e+06\n",
      "[268]\tvalid_0's l2: 2.67942e+06\n",
      "[269]\tvalid_0's l2: 2.67863e+06\n",
      "[270]\tvalid_0's l2: 2.67825e+06\n",
      "[271]\tvalid_0's l2: 2.67737e+06\n",
      "[272]\tvalid_0's l2: 2.67639e+06\n",
      "[273]\tvalid_0's l2: 2.67596e+06\n",
      "[274]\tvalid_0's l2: 2.67534e+06\n",
      "[275]\tvalid_0's l2: 2.67553e+06\n",
      "[276]\tvalid_0's l2: 2.67486e+06\n",
      "[277]\tvalid_0's l2: 2.67367e+06\n",
      "[278]\tvalid_0's l2: 2.67295e+06\n",
      "[279]\tvalid_0's l2: 2.67195e+06\n",
      "[280]\tvalid_0's l2: 2.67072e+06\n",
      "[281]\tvalid_0's l2: 2.66891e+06\n",
      "[282]\tvalid_0's l2: 2.66801e+06\n",
      "[283]\tvalid_0's l2: 2.66693e+06\n",
      "[284]\tvalid_0's l2: 2.66627e+06\n",
      "[285]\tvalid_0's l2: 2.66549e+06\n",
      "[286]\tvalid_0's l2: 2.66534e+06\n",
      "[287]\tvalid_0's l2: 2.66482e+06\n",
      "[288]\tvalid_0's l2: 2.66425e+06\n",
      "[289]\tvalid_0's l2: 2.66347e+06\n",
      "[290]\tvalid_0's l2: 2.66231e+06\n",
      "[291]\tvalid_0's l2: 2.66156e+06\n",
      "[292]\tvalid_0's l2: 2.66102e+06\n",
      "[293]\tvalid_0's l2: 2.66099e+06\n",
      "[294]\tvalid_0's l2: 2.6599e+06\n",
      "[295]\tvalid_0's l2: 2.65985e+06\n",
      "[296]\tvalid_0's l2: 2.65883e+06\n",
      "[297]\tvalid_0's l2: 2.65819e+06\n",
      "[298]\tvalid_0's l2: 2.65717e+06\n",
      "[299]\tvalid_0's l2: 2.65642e+06\n",
      "[300]\tvalid_0's l2: 2.6556e+06\n",
      "[301]\tvalid_0's l2: 2.65459e+06\n",
      "[302]\tvalid_0's l2: 2.65455e+06\n",
      "[303]\tvalid_0's l2: 2.65396e+06\n",
      "[304]\tvalid_0's l2: 2.65442e+06\n",
      "[305]\tvalid_0's l2: 2.65435e+06\n",
      "[306]\tvalid_0's l2: 2.65386e+06\n",
      "[307]\tvalid_0's l2: 2.65321e+06\n",
      "[308]\tvalid_0's l2: 2.65249e+06\n",
      "[309]\tvalid_0's l2: 2.65293e+06\n",
      "[310]\tvalid_0's l2: 2.65302e+06\n",
      "[311]\tvalid_0's l2: 2.65151e+06\n",
      "[312]\tvalid_0's l2: 2.65048e+06\n",
      "[313]\tvalid_0's l2: 2.64991e+06\n",
      "[314]\tvalid_0's l2: 2.64887e+06\n",
      "[315]\tvalid_0's l2: 2.6489e+06\n",
      "[316]\tvalid_0's l2: 2.64895e+06\n",
      "[317]\tvalid_0's l2: 2.64892e+06\n",
      "[318]\tvalid_0's l2: 2.64905e+06\n",
      "[319]\tvalid_0's l2: 2.64909e+06\n",
      "[320]\tvalid_0's l2: 2.64861e+06\n",
      "[321]\tvalid_0's l2: 2.64869e+06\n",
      "[322]\tvalid_0's l2: 2.64819e+06\n",
      "[323]\tvalid_0's l2: 2.64718e+06\n",
      "[324]\tvalid_0's l2: 2.64707e+06\n",
      "[325]\tvalid_0's l2: 2.64513e+06\n",
      "[326]\tvalid_0's l2: 2.643e+06\n",
      "[327]\tvalid_0's l2: 2.64297e+06\n",
      "[328]\tvalid_0's l2: 2.64244e+06\n",
      "[329]\tvalid_0's l2: 2.64132e+06\n",
      "[330]\tvalid_0's l2: 2.64126e+06\n",
      "[331]\tvalid_0's l2: 2.64042e+06\n",
      "[332]\tvalid_0's l2: 2.64065e+06\n",
      "[333]\tvalid_0's l2: 2.64057e+06\n",
      "[334]\tvalid_0's l2: 2.64069e+06\n",
      "[335]\tvalid_0's l2: 2.63973e+06\n",
      "[336]\tvalid_0's l2: 2.63961e+06\n",
      "[337]\tvalid_0's l2: 2.63929e+06\n",
      "[338]\tvalid_0's l2: 2.63835e+06\n",
      "[339]\tvalid_0's l2: 2.6368e+06\n",
      "[340]\tvalid_0's l2: 2.63676e+06\n",
      "[341]\tvalid_0's l2: 2.63683e+06\n",
      "[342]\tvalid_0's l2: 2.63637e+06\n",
      "[343]\tvalid_0's l2: 2.63617e+06\n",
      "[344]\tvalid_0's l2: 2.63444e+06\n",
      "[345]\tvalid_0's l2: 2.63293e+06\n",
      "[346]\tvalid_0's l2: 2.63314e+06\n",
      "[347]\tvalid_0's l2: 2.63286e+06\n",
      "[348]\tvalid_0's l2: 2.63211e+06\n",
      "[349]\tvalid_0's l2: 2.63149e+06\n",
      "[350]\tvalid_0's l2: 2.63149e+06\n",
      "[351]\tvalid_0's l2: 2.63129e+06\n",
      "[352]\tvalid_0's l2: 2.63074e+06\n",
      "[353]\tvalid_0's l2: 2.63013e+06\n",
      "[354]\tvalid_0's l2: 2.62853e+06\n",
      "[355]\tvalid_0's l2: 2.62845e+06\n",
      "[356]\tvalid_0's l2: 2.62842e+06\n",
      "[357]\tvalid_0's l2: 2.62798e+06\n",
      "[358]\tvalid_0's l2: 2.62786e+06\n",
      "[359]\tvalid_0's l2: 2.62736e+06\n",
      "[360]\tvalid_0's l2: 2.62731e+06\n",
      "[361]\tvalid_0's l2: 2.62682e+06\n",
      "[362]\tvalid_0's l2: 2.62681e+06\n",
      "[363]\tvalid_0's l2: 2.6259e+06\n",
      "[364]\tvalid_0's l2: 2.62527e+06\n",
      "[365]\tvalid_0's l2: 2.62528e+06\n",
      "[366]\tvalid_0's l2: 2.62516e+06\n",
      "[367]\tvalid_0's l2: 2.62481e+06\n",
      "[368]\tvalid_0's l2: 2.62462e+06\n",
      "[369]\tvalid_0's l2: 2.62423e+06\n",
      "[370]\tvalid_0's l2: 2.62419e+06\n",
      "[371]\tvalid_0's l2: 2.62314e+06\n",
      "[372]\tvalid_0's l2: 2.62249e+06\n",
      "[373]\tvalid_0's l2: 2.62254e+06\n",
      "[374]\tvalid_0's l2: 2.62159e+06\n",
      "[375]\tvalid_0's l2: 2.62034e+06\n",
      "[376]\tvalid_0's l2: 2.62043e+06\n",
      "[377]\tvalid_0's l2: 2.62057e+06\n",
      "[378]\tvalid_0's l2: 2.62034e+06\n",
      "[379]\tvalid_0's l2: 2.61941e+06\n",
      "[380]\tvalid_0's l2: 2.61827e+06\n",
      "[381]\tvalid_0's l2: 2.6169e+06\n",
      "[382]\tvalid_0's l2: 2.61595e+06\n",
      "[383]\tvalid_0's l2: 2.61523e+06\n",
      "[384]\tvalid_0's l2: 2.61507e+06\n",
      "[385]\tvalid_0's l2: 2.6153e+06\n",
      "[386]\tvalid_0's l2: 2.61505e+06\n",
      "[387]\tvalid_0's l2: 2.61469e+06\n",
      "[388]\tvalid_0's l2: 2.61414e+06\n",
      "[389]\tvalid_0's l2: 2.61387e+06\n",
      "[390]\tvalid_0's l2: 2.61345e+06\n",
      "[391]\tvalid_0's l2: 2.61334e+06\n",
      "[392]\tvalid_0's l2: 2.61332e+06\n",
      "[393]\tvalid_0's l2: 2.61259e+06\n",
      "[394]\tvalid_0's l2: 2.61225e+06\n",
      "[395]\tvalid_0's l2: 2.61122e+06\n",
      "[396]\tvalid_0's l2: 2.61104e+06\n",
      "[397]\tvalid_0's l2: 2.61087e+06\n",
      "[398]\tvalid_0's l2: 2.61081e+06\n",
      "[399]\tvalid_0's l2: 2.61003e+06\n",
      "[400]\tvalid_0's l2: 2.60984e+06\n",
      "CPU times: user 37 s, sys: 275 ms, total: 37.3 s\n",
      "Wall time: 37.8 s\n"
     ]
    }
   ],
   "source": [
    "%%time\n",
    "model_lgb = lgb.train({\"objective\": \"regression\"},\n",
    "                    train_set=train_dataset, valid_sets=(valid_dataset,),\n",
    "                    num_boost_round=400)"
   ]
  },
  {
   "cell_type": "code",
   "execution_count": 91,
   "metadata": {},
   "outputs": [
    {
     "name": "stdout",
     "output_type": "stream",
     "text": [
      "CPU times: user 1.29 s, sys: 0 ns, total: 1.29 s\n",
      "Wall time: 1.3 s\n"
     ]
    }
   ],
   "source": [
    "%%time\n",
    "predictions_valid_lgb = model_lgb.predict(features_valid_encoded)"
   ]
  },
  {
   "cell_type": "code",
   "execution_count": 92,
   "metadata": {},
   "outputs": [
    {
     "name": "stdout",
     "output_type": "stream",
     "text": [
      "rmse  1615.4997661247376\n"
     ]
    }
   ],
   "source": [
    "rmse_lgb = mean_squared_error(target_valid, predictions_valid_lgb)**0.5\n",
    "\n",
    "print('rmse ', rmse_lgb)"
   ]
  },
  {
   "cell_type": "code",
   "execution_count": 93,
   "metadata": {},
   "outputs": [],
   "source": [
    "time_fit_lgb = 12\n",
    "time_pred_lgb = 1.1\n",
    "rmse_lgb = 1618"
   ]
  },
  {
   "cell_type": "markdown",
   "metadata": {},
   "source": [
    "Отличный результат показал lightgbm, rmse равно 1624"
   ]
  },
  {
   "cell_type": "markdown",
   "metadata": {},
   "source": [
    "### Catboost"
   ]
  },
  {
   "cell_type": "markdown",
   "metadata": {},
   "source": [
    "#### Кросс-валидация\n",
    "Будем считать, что кроссвалидация была проделана для ознакомления с библиоткеой"
   ]
  },
  {
   "cell_type": "markdown",
   "metadata": {},
   "source": [
    "Используем катбуст регрессор, установим количество итераций 100, просто для тестирования."
   ]
  },
  {
   "cell_type": "code",
   "execution_count": 94,
   "metadata": {},
   "outputs": [],
   "source": [
    "model_cat = CatBoostRegressor(iterations=100)"
   ]
  },
  {
   "cell_type": "code",
   "execution_count": 95,
   "metadata": {},
   "outputs": [],
   "source": [
    "cat_features = features_train.columns.to_list()"
   ]
  },
  {
   "cell_type": "code",
   "execution_count": 96,
   "metadata": {},
   "outputs": [],
   "source": [
    " #model_cat.cv(features_train, features)"
   ]
  },
  {
   "cell_type": "code",
   "execution_count": 97,
   "metadata": {},
   "outputs": [
    {
     "data": {
      "application/vnd.jupyter.widget-view+json": {
       "model_id": "a8d9bd5c410d4a80adc52aae6a1baa08",
       "version_major": 2,
       "version_minor": 0
      },
      "text/plain": [
       "MetricVisualizer(layout=Layout(align_self='stretch', height='500px'))"
      ]
     },
     "metadata": {},
     "output_type": "display_data"
    },
    {
     "name": "stdout",
     "output_type": "stream",
     "text": [
      "Training on fold [0/5]\n"
     ]
    },
    {
     "name": "stderr",
     "output_type": "stream",
     "text": [
      " Warning: The least populated class in y has only 1 members, which is too few. The minimum number of members in any class cannot be less than parts count=5\n"
     ]
    },
    {
     "name": "stdout",
     "output_type": "stream",
     "text": [
      "\n",
      "bestTest = 1717.383931\n",
      "bestIteration = 297\n",
      "\n",
      "Training on fold [1/5]\n"
     ]
    },
    {
     "name": "stderr",
     "output_type": "stream",
     "text": [
      " Warning: The least populated class in y has only 1 members, which is too few. The minimum number of members in any class cannot be less than parts count=5\n"
     ]
    },
    {
     "name": "stdout",
     "output_type": "stream",
     "text": [
      "\n",
      "bestTest = 1659.830583\n",
      "bestIteration = 286\n",
      "\n",
      "Training on fold [2/5]\n"
     ]
    },
    {
     "name": "stderr",
     "output_type": "stream",
     "text": [
      " Warning: The least populated class in y has only 1 members, which is too few. The minimum number of members in any class cannot be less than parts count=5\n"
     ]
    },
    {
     "name": "stdout",
     "output_type": "stream",
     "text": [
      "\n",
      "bestTest = 1644.495151\n",
      "bestIteration = 293\n",
      "\n",
      "Training on fold [3/5]\n"
     ]
    },
    {
     "name": "stderr",
     "output_type": "stream",
     "text": [
      " Warning: The least populated class in y has only 1 members, which is too few. The minimum number of members in any class cannot be less than parts count=5\n"
     ]
    },
    {
     "name": "stdout",
     "output_type": "stream",
     "text": [
      "\n",
      "bestTest = 1618.395532\n",
      "bestIteration = 298\n",
      "\n",
      "Training on fold [4/5]\n"
     ]
    },
    {
     "name": "stderr",
     "output_type": "stream",
     "text": [
      " Warning: The least populated class in y has only 1 members, which is too few. The minimum number of members in any class cannot be less than parts count=5\n"
     ]
    },
    {
     "name": "stdout",
     "output_type": "stream",
     "text": [
      "\n",
      "bestTest = 1616.898536\n",
      "bestIteration = 299\n",
      "\n",
      "CPU times: user 5min 29s, sys: 5.42 s, total: 5min 35s\n",
      "Wall time: 5min 44s\n"
     ]
    }
   ],
   "source": [
    "%%time\n",
    "params = {\n",
    "    'loss_function': 'RMSE',\n",
    "    'iterations': 300,\n",
    "    'random_seed': 12345,\n",
    "    'learning_rate': 0.5\n",
    "}\n",
    "\n",
    "cv_data = cv(\n",
    "    params=params,\n",
    "    pool=Pool(features_train, label=target_train, cat_features=cat_features),\n",
    "    fold_count=5, \n",
    "    shuffle=True, \n",
    "    partition_random_seed=12345,\n",
    "    plot=True, \n",
    "    stratified=True, \n",
    "    verbose=False\n",
    ")"
   ]
  },
  {
   "cell_type": "markdown",
   "metadata": {},
   "source": [
    "#### CatBoost без кросс-валидации"
   ]
  },
  {
   "cell_type": "code",
   "execution_count": 98,
   "metadata": {},
   "outputs": [
    {
     "data": {
      "text/plain": [
       "VehicleType          object\n",
       "RegistrationYear      int64\n",
       "Gearbox              object\n",
       "Power                 int64\n",
       "Model                object\n",
       "Kilometer             int64\n",
       "RegistrationMonth     int64\n",
       "FuelType             object\n",
       "Brand                object\n",
       "Repaired             object\n",
       "PostalCode            int64\n",
       "dtype: object"
      ]
     },
     "execution_count": 98,
     "metadata": {},
     "output_type": "execute_result"
    }
   ],
   "source": [
    "features_train.dtypes"
   ]
  },
  {
   "cell_type": "code",
   "execution_count": 99,
   "metadata": {},
   "outputs": [
    {
     "data": {
      "application/vnd.jupyter.widget-view+json": {
       "model_id": "044153c7722e4319a453ffaeea72dc86",
       "version_major": 2,
       "version_minor": 0
      },
      "text/plain": [
       "MetricVisualizer(layout=Layout(align_self='stretch', height='500px'))"
      ]
     },
     "metadata": {},
     "output_type": "display_data"
    },
    {
     "name": "stdout",
     "output_type": "stream",
     "text": [
      "0:\tlearn: 4021.1341741\ttotal: 147ms\tremaining: 58.8s\n",
      "40:\tlearn: 1796.2031147\ttotal: 4.18s\tremaining: 36.6s\n",
      "80:\tlearn: 1716.3327421\ttotal: 8.22s\tremaining: 32.4s\n",
      "120:\tlearn: 1671.6230553\ttotal: 12.1s\tremaining: 27.9s\n",
      "160:\tlearn: 1646.3561550\ttotal: 15.9s\tremaining: 23.5s\n",
      "200:\tlearn: 1629.3005439\ttotal: 19.7s\tremaining: 19.5s\n",
      "240:\tlearn: 1614.4942800\ttotal: 23.6s\tremaining: 15.6s\n",
      "280:\tlearn: 1602.7527189\ttotal: 27.3s\tremaining: 11.6s\n",
      "320:\tlearn: 1592.1134927\ttotal: 31s\tremaining: 7.62s\n",
      "360:\tlearn: 1582.9237762\ttotal: 34.8s\tremaining: 3.76s\n",
      "399:\tlearn: 1574.3740923\ttotal: 38.7s\tremaining: 0us\n",
      "CPU times: user 39.2 s, sys: 146 ms, total: 39.3 s\n",
      "Wall time: 40.5 s\n"
     ]
    },
    {
     "data": {
      "text/plain": [
       "<catboost.core.CatBoostRegressor at 0x7f936f2e0220>"
      ]
     },
     "execution_count": 99,
     "metadata": {},
     "output_type": "execute_result"
    }
   ],
   "source": [
    "%%time\n",
    "model_cat = CatBoostRegressor(iterations=400 , depth=5, learning_rate= 0.2)\n",
    "\n",
    "\n",
    "cat_features = ['VehicleType','Gearbox','Model','FuelType','Brand','Repaired']\n",
    "model_cat.fit(features_train, target_train, cat_features=cat_features, verbose=40, plot=True)"
   ]
  },
  {
   "cell_type": "code",
   "execution_count": 100,
   "metadata": {},
   "outputs": [
    {
     "name": "stdout",
     "output_type": "stream",
     "text": [
      "CPU times: user 165 ms, sys: 4.02 ms, total: 169 ms\n",
      "Wall time: 166 ms\n"
     ]
    }
   ],
   "source": [
    "%%time\n",
    "predictions_cat = model_cat.predict(features_valid)"
   ]
  },
  {
   "cell_type": "code",
   "execution_count": 101,
   "metadata": {},
   "outputs": [
    {
     "name": "stdout",
     "output_type": "stream",
     "text": [
      "Значение RMSE для модели catboost равно 1637.032777696201\n"
     ]
    }
   ],
   "source": [
    "rmse_cat = mean_squared_error(target_valid, predictions_cat)**0.5\n",
    "print('Значение RMSE для модели catboost равно', rmse_cat)"
   ]
  },
  {
   "cell_type": "markdown",
   "metadata": {},
   "source": [
    "Отлично, мы получили метрику rmse равную 1631."
   ]
  },
  {
   "cell_type": "code",
   "execution_count": 102,
   "metadata": {},
   "outputs": [],
   "source": [
    "\n",
    "time_fit_cat = 27\n",
    "time_pred_cat = 0.281\n",
    "rmse_cat = 1631"
   ]
  },
  {
   "cell_type": "markdown",
   "metadata": {},
   "source": [
    "### Итоги обучения"
   ]
  },
  {
   "cell_type": "markdown",
   "metadata": {},
   "source": [
    "Провели обучение 4 моделей обучения, два бустинга : lightgbm и catboost и два не бустинга: линейная регрессия и случайный лес. В следующем пункте сравним модели по времени обучения, времени предсказания и качеству предсказания"
   ]
  },
  {
   "cell_type": "markdown",
   "metadata": {},
   "source": [
    "## Анализ моделей"
   ]
  },
  {
   "cell_type": "markdown",
   "metadata": {},
   "source": [
    "Перейдем к анализу моделей, мы в нашем исследовании использовали 4 модели, LightGBM, CatBoost, LinearRegression, RandomForestRegressor. Перейдем к сравнению по времени обучения, по времени предсказания, по качетсву предсказания."
   ]
  },
  {
   "cell_type": "code",
   "execution_count": 103,
   "metadata": {
    "scrolled": true
   },
   "outputs": [
    {
     "name": "stdout",
     "output_type": "stream",
     "text": [
      "Линейная регрессия\n",
      "Время обучения 4.18 секунд. Время предсказания 0.445 секунд. Качество модели 2615.2\n",
      "\n",
      "Случайный лес\n",
      "Время обучения 1.44 секунды. Время предсказания 2.8 секунд. Качество модели 1631\n",
      "\n",
      "LightGBM\n",
      "Время обучения 12 секунд. Время предсказания 1.1 секунд. Качество модели 1618\n",
      "\n",
      "CatBoost\n",
      "Время обучения 27 секунд. Время предсказания 0.281 секунд. Качество модели 1631\n"
     ]
    }
   ],
   "source": [
    "print('Линейная регрессия')\n",
    "print('Время обучения',time_fit_lin,'секунд. Время предсказания',time_pred_lin,'секунд. Качество модели', rmse_valid_lin)\n",
    "print()\n",
    "print('Случайный лес')\n",
    "print('Время обучения',time_fit_f ,'секунды. Время предсказания',time_pred_f,'секунд. Качество модели', rmse_forest)\n",
    "print()\n",
    "print('LightGBM')\n",
    "print('Время обучения',time_fit_lgb ,'секунд. Время предсказания',time_pred_lgb,'секунд. Качество модели', rmse_lgb)\n",
    "print()\n",
    "print('CatBoost')\n",
    "print('Время обучения',time_fit_cat ,'секунд. Время предсказания',time_pred_cat,'секунд. Качество модели', rmse_cat)"
   ]
  },
  {
   "cell_type": "markdown",
   "metadata": {},
   "source": [
    "**Итоги сравнения**\n",
    "\n",
    "CatBoost и LightGBM показали себя на достойном уровне, у них хорошее качетсво и достаточно быстрое обучение. Но у CatBoost есть одно огромное преимущество, для нескольких десятков тысяч строк признаков модель делает предсказания менее чем за 0.3 секунды. Я считаю, что в данном случае при остальных равных показателях, этот является самым важным."
   ]
  },
  {
   "cell_type": "markdown",
   "metadata": {},
   "source": [
    "### Итоговое обучение CatBoost и проверка на тестовой выборке"
   ]
  },
  {
   "cell_type": "code",
   "execution_count": 104,
   "metadata": {},
   "outputs": [],
   "source": [
    "model = CatBoostRegressor(iterations=300, random_seed=12345)"
   ]
  },
  {
   "cell_type": "code",
   "execution_count": 106,
   "metadata": {},
   "outputs": [
    {
     "data": {
      "application/vnd.jupyter.widget-view+json": {
       "model_id": "80a6e83380d24ed4a87b553ef52c8c75",
       "version_major": 2,
       "version_minor": 0
      },
      "text/plain": [
       "MetricVisualizer(layout=Layout(align_self='stretch', height='500px'))"
      ]
     },
     "metadata": {},
     "output_type": "display_data"
    },
    {
     "name": "stdout",
     "output_type": "stream",
     "text": [
      "Learning rate set to 0.244281\n",
      "0:\tlearn: 3817.6631149\ttotal: 284ms\tremaining: 1m 25s\n",
      "40:\tlearn: 1824.6874101\ttotal: 9.28s\tremaining: 58.6s\n",
      "80:\tlearn: 1742.7647495\ttotal: 18.8s\tremaining: 50.8s\n",
      "120:\tlearn: 1704.1506027\ttotal: 28.3s\tremaining: 41.8s\n",
      "160:\tlearn: 1674.7529716\ttotal: 38.4s\tremaining: 33.1s\n",
      "200:\tlearn: 1651.2026378\ttotal: 48s\tremaining: 23.6s\n",
      "240:\tlearn: 1633.2102302\ttotal: 57.7s\tremaining: 14.1s\n",
      "280:\tlearn: 1618.8058096\ttotal: 1m 8s\tremaining: 4.62s\n",
      "299:\tlearn: 1612.3424832\ttotal: 1m 12s\tremaining: 0us\n",
      "CPU times: user 1min 13s, sys: 301 ms, total: 1min 13s\n",
      "Wall time: 1min 14s\n"
     ]
    },
    {
     "data": {
      "text/plain": [
       "<catboost.core.CatBoostRegressor at 0x7f936f0dd3a0>"
      ]
     },
     "execution_count": 106,
     "metadata": {},
     "output_type": "execute_result"
    }
   ],
   "source": [
    "%%time\n",
    "model.fit(features_train, target_train, cat_features=features_train.columns.to_list(), plot=True,verbose=40)"
   ]
  },
  {
   "cell_type": "code",
   "execution_count": 107,
   "metadata": {},
   "outputs": [
    {
     "name": "stdout",
     "output_type": "stream",
     "text": [
      "CPU times: user 343 ms, sys: 16 µs, total: 343 ms\n",
      "Wall time: 342 ms\n"
     ]
    }
   ],
   "source": [
    "%%time\n",
    "predictions_final = model.predict(features_test)"
   ]
  },
  {
   "cell_type": "code",
   "execution_count": 108,
   "metadata": {},
   "outputs": [
    {
     "name": "stdout",
     "output_type": "stream",
     "text": [
      "rmse финальной модели катбуст на тестовой выборке: 1678.5873234569735\n"
     ]
    }
   ],
   "source": [
    "rmse_final = mean_squared_error(target_test, predictions_final)**0.5\n",
    "print('rmse финальной модели катбуст на тестовой выборке:', rmse_final)"
   ]
  },
  {
   "cell_type": "markdown",
   "metadata": {},
   "source": [
    "Время обучения равно 68 секунд, а время предсказания примерно равно 0.38 секунды\n",
    "А финальное качество равно 1652"
   ]
  },
  {
   "cell_type": "markdown",
   "metadata": {},
   "source": [
    "### Узнаем важность каждого фактора"
   ]
  },
  {
   "cell_type": "code",
   "execution_count": 109,
   "metadata": {},
   "outputs": [
    {
     "data": {
      "text/html": [
       "<div>\n",
       "<style scoped>\n",
       "    .dataframe tbody tr th:only-of-type {\n",
       "        vertical-align: middle;\n",
       "    }\n",
       "\n",
       "    .dataframe tbody tr th {\n",
       "        vertical-align: top;\n",
       "    }\n",
       "\n",
       "    .dataframe thead th {\n",
       "        text-align: right;\n",
       "    }\n",
       "</style>\n",
       "<table border=\"1\" class=\"dataframe\">\n",
       "  <thead>\n",
       "    <tr style=\"text-align: right;\">\n",
       "      <th></th>\n",
       "      <th>importance</th>\n",
       "      <th>feature</th>\n",
       "    </tr>\n",
       "  </thead>\n",
       "  <tbody>\n",
       "    <tr>\n",
       "      <th>10</th>\n",
       "      <td>0.488723</td>\n",
       "      <td>PostalCode</td>\n",
       "    </tr>\n",
       "    <tr>\n",
       "      <th>6</th>\n",
       "      <td>0.562463</td>\n",
       "      <td>RegistrationMonth</td>\n",
       "    </tr>\n",
       "    <tr>\n",
       "      <th>2</th>\n",
       "      <td>1.780191</td>\n",
       "      <td>Gearbox</td>\n",
       "    </tr>\n",
       "    <tr>\n",
       "      <th>9</th>\n",
       "      <td>3.078764</td>\n",
       "      <td>Repaired</td>\n",
       "    </tr>\n",
       "    <tr>\n",
       "      <th>7</th>\n",
       "      <td>3.189966</td>\n",
       "      <td>FuelType</td>\n",
       "    </tr>\n",
       "    <tr>\n",
       "      <th>5</th>\n",
       "      <td>7.546016</td>\n",
       "      <td>Kilometer</td>\n",
       "    </tr>\n",
       "    <tr>\n",
       "      <th>4</th>\n",
       "      <td>9.244893</td>\n",
       "      <td>Model</td>\n",
       "    </tr>\n",
       "    <tr>\n",
       "      <th>0</th>\n",
       "      <td>11.049436</td>\n",
       "      <td>VehicleType</td>\n",
       "    </tr>\n",
       "    <tr>\n",
       "      <th>8</th>\n",
       "      <td>12.315488</td>\n",
       "      <td>Brand</td>\n",
       "    </tr>\n",
       "    <tr>\n",
       "      <th>3</th>\n",
       "      <td>20.739471</td>\n",
       "      <td>Power</td>\n",
       "    </tr>\n",
       "    <tr>\n",
       "      <th>1</th>\n",
       "      <td>30.00459</td>\n",
       "      <td>RegistrationYear</td>\n",
       "    </tr>\n",
       "  </tbody>\n",
       "</table>\n",
       "</div>"
      ],
      "text/plain": [
       "   importance            feature\n",
       "10   0.488723         PostalCode\n",
       "6    0.562463  RegistrationMonth\n",
       "2    1.780191            Gearbox\n",
       "9    3.078764           Repaired\n",
       "7    3.189966           FuelType\n",
       "5    7.546016          Kilometer\n",
       "4    9.244893              Model\n",
       "0   11.049436        VehicleType\n",
       "8   12.315488              Brand\n",
       "3   20.739471              Power\n",
       "1    30.00459   RegistrationYear"
      ]
     },
     "execution_count": 109,
     "metadata": {},
     "output_type": "execute_result"
    }
   ],
   "source": [
    "importance = pd.DataFrame(np.array([model.get_feature_importance(),features_train.columns]).T, columns = ['importance', 'feature'])\n",
    "importance = importance.sort_values(by='importance')\n",
    "importance"
   ]
  },
  {
   "cell_type": "code",
   "execution_count": 110,
   "metadata": {},
   "outputs": [
    {
     "data": {
      "text/plain": [
       "<AxesSubplot:title={'center':'Важность признаков в условных единицах'}, ylabel='feature'>"
      ]
     },
     "execution_count": 110,
     "metadata": {},
     "output_type": "execute_result"
    },
    {
     "data": {
      "image/png": "[encoded data removed]",
      "text/plain": [
       "<Figure size 432x288 with 1 Axes>"
      ]
     },
     "metadata": {
      "needs_background": "light"
     },
     "output_type": "display_data"
    }
   ],
   "source": [
    "importance.plot(kind='barh', x='feature', title='Важность признаков в условных единицах')"
   ]
  },
  {
   "cell_type": "markdown",
   "metadata": {},
   "source": [
    "Наша гипотеза о том, что почтовый индекс может влиять на цену не подтвердилась. Она не оказывает практически никакого влияния, точно также как и месяц регистрации. Самым важным признаком является год реистрации, это правда важно, потому что от этого признака зависит, наскоько машина старая."
   ]
  },
  {
   "cell_type": "markdown",
   "metadata": {},
   "source": [
    "## Подведение итогов"
   ]
  },
  {
   "cell_type": "markdown",
   "metadata": {},
   "source": [
    "Мы провели исследование данных, проверили на наличие аномалий и избавились от них. Далее, протестировали несколько моделей, а именно LinearRegression, RandomForestRegressor, lightGBM, CatBoostRegressor. Сравнили результаты, время обучения и скорость предсказания и выбрали оптимальную.\n",
    "\n",
    "Во время работы было выолнено 7 следующих пунктов:\n",
    "\n",
    "- Загрузка данных\n",
    "- Изучение данных\n",
    "- Подготовка выборок\n",
    "- Обучение разных моделей\n",
    "- Анализ времени обучения, времени предсказания и качества моделей.\n",
    "- Выбор лучшей модели\n",
    "- Подведение итогов\n",
    "\n",
    "По итогам работы выбрали модель CatBoostRegressor, время обучения составило 90 секунд, предсказание заняло примерно 1 секунду для 125000 значений в тестовой выборке. Значение метрики rmse равно 1683, что означает, что задача успешно выполнена!\n"
   ]
  }
 ],
 "metadata": {
  "ExecuteTimeLog": [
   {
    "duration": 470,
    "start_time": "2023-08-28T09:37:50.690Z"
   },
   {
    "duration": 1438,
    "start_time": "2023-08-28T09:38:07.348Z"
   },
   {
    "duration": 978,
    "start_time": "2023-08-28T09:38:13.535Z"
   },
   {
    "duration": 158,
    "start_time": "2023-08-28T09:40:03.091Z"
   },
   {
    "duration": 7,
    "start_time": "2023-08-28T09:46:32.647Z"
   },
   {
    "duration": 84,
    "start_time": "2023-08-28T09:47:00.322Z"
   },
   {
    "duration": 7,
    "start_time": "2023-08-28T09:47:02.246Z"
   },
   {
    "duration": 47,
    "start_time": "2023-08-28T10:07:35.028Z"
   },
   {
    "duration": 68,
    "start_time": "2023-08-28T10:07:44.300Z"
   },
   {
    "duration": 30,
    "start_time": "2023-08-28T10:07:46.586Z"
   },
   {
    "duration": 129,
    "start_time": "2023-08-28T10:08:01.895Z"
   },
   {
    "duration": 4,
    "start_time": "2023-08-28T10:15:01.582Z"
   },
   {
    "duration": 3,
    "start_time": "2023-08-28T10:15:06.228Z"
   },
   {
    "duration": 53,
    "start_time": "2023-08-28T10:15:39.608Z"
   },
   {
    "duration": 37,
    "start_time": "2023-08-28T10:15:51.568Z"
   },
   {
    "duration": 167,
    "start_time": "2023-08-28T10:16:20.309Z"
   },
   {
    "duration": 43,
    "start_time": "2023-08-28T10:16:26.723Z"
   },
   {
    "duration": 5,
    "start_time": "2023-08-28T10:17:05.773Z"
   },
   {
    "duration": 1513,
    "start_time": "2023-08-28T10:17:13.243Z"
   },
   {
    "duration": 3,
    "start_time": "2023-08-28T10:17:20.436Z"
   },
   {
    "duration": 990,
    "start_time": "2023-08-28T10:17:20.443Z"
   },
   {
    "duration": 188,
    "start_time": "2023-08-28T10:17:21.435Z"
   },
   {
    "duration": 16,
    "start_time": "2023-08-28T10:17:21.625Z"
   },
   {
    "duration": 56,
    "start_time": "2023-08-28T10:17:21.644Z"
   },
   {
    "duration": 48,
    "start_time": "2023-08-28T10:17:21.703Z"
   },
   {
    "duration": 58,
    "start_time": "2023-08-28T10:17:21.753Z"
   },
   {
    "duration": 5,
    "start_time": "2023-08-28T10:17:28.678Z"
   },
   {
    "duration": 3,
    "start_time": "2023-08-28T10:18:35.225Z"
   },
   {
    "duration": 957,
    "start_time": "2023-08-28T10:18:35.230Z"
   },
   {
    "duration": 144,
    "start_time": "2023-08-28T10:18:36.189Z"
   },
   {
    "duration": 13,
    "start_time": "2023-08-28T10:18:36.335Z"
   },
   {
    "duration": 48,
    "start_time": "2023-08-28T10:18:36.350Z"
   },
   {
    "duration": 27,
    "start_time": "2023-08-28T10:18:36.400Z"
   },
   {
    "duration": 60,
    "start_time": "2023-08-28T10:18:36.429Z"
   },
   {
    "duration": 16,
    "start_time": "2023-08-28T10:18:40.270Z"
   },
   {
    "duration": 5,
    "start_time": "2023-08-28T10:20:40.191Z"
   },
   {
    "duration": 4,
    "start_time": "2023-08-28T10:22:57.329Z"
   },
   {
    "duration": 42,
    "start_time": "2023-08-28T10:22:57.488Z"
   },
   {
    "duration": 6,
    "start_time": "2023-08-28T10:22:57.677Z"
   },
   {
    "duration": 19,
    "start_time": "2023-08-28T10:23:06.015Z"
   },
   {
    "duration": 6,
    "start_time": "2023-08-28T10:23:07.600Z"
   },
   {
    "duration": 1126,
    "start_time": "2023-08-28T10:55:18.061Z"
   },
   {
    "duration": 9,
    "start_time": "2023-08-28T10:57:56.305Z"
   },
   {
    "duration": 4,
    "start_time": "2023-08-28T11:00:06.570Z"
   },
   {
    "duration": 3,
    "start_time": "2023-08-28T11:01:05.835Z"
   },
   {
    "duration": 71,
    "start_time": "2023-08-28T11:02:24.964Z"
   },
   {
    "duration": 32,
    "start_time": "2023-08-28T11:02:43.484Z"
   },
   {
    "duration": 37,
    "start_time": "2023-08-28T11:02:51.507Z"
   },
   {
    "duration": 34,
    "start_time": "2023-08-28T11:02:53.565Z"
   },
   {
    "duration": 30,
    "start_time": "2023-08-28T11:02:56.838Z"
   },
   {
    "duration": 32,
    "start_time": "2023-08-28T11:02:59.920Z"
   },
   {
    "duration": 33,
    "start_time": "2023-08-28T11:03:02.666Z"
   },
   {
    "duration": 36,
    "start_time": "2023-08-28T11:03:10.226Z"
   },
   {
    "duration": 36,
    "start_time": "2023-08-28T11:03:17.279Z"
   },
   {
    "duration": 28,
    "start_time": "2023-08-28T11:03:27.145Z"
   },
   {
    "duration": 33,
    "start_time": "2023-08-28T11:03:35.384Z"
   },
   {
    "duration": 44,
    "start_time": "2023-08-28T11:03:43.266Z"
   },
   {
    "duration": 59,
    "start_time": "2023-08-28T11:03:46.731Z"
   },
   {
    "duration": 34,
    "start_time": "2023-08-28T11:03:50.424Z"
   },
   {
    "duration": 41,
    "start_time": "2023-08-28T11:03:58.729Z"
   },
   {
    "duration": 36,
    "start_time": "2023-08-28T11:04:44.421Z"
   },
   {
    "duration": 27,
    "start_time": "2023-08-28T11:07:22.663Z"
   },
   {
    "duration": 209,
    "start_time": "2023-08-28T11:07:30.824Z"
   },
   {
    "duration": 916,
    "start_time": "2023-08-28T11:11:47.418Z"
   },
   {
    "duration": 94,
    "start_time": "2023-08-28T11:13:43.699Z"
   },
   {
    "duration": 4,
    "start_time": "2023-08-28T11:16:24.760Z"
   },
   {
    "duration": 44,
    "start_time": "2023-08-28T11:16:24.766Z"
   },
   {
    "duration": 846,
    "start_time": "2023-08-28T11:16:24.812Z"
   },
   {
    "duration": 151,
    "start_time": "2023-08-28T11:16:25.660Z"
   },
   {
    "duration": 113,
    "start_time": "2023-08-28T11:16:25.814Z"
   },
   {
    "duration": 92,
    "start_time": "2023-08-28T11:16:25.930Z"
   },
   {
    "duration": 203,
    "start_time": "2023-08-28T11:16:26.024Z"
   },
   {
    "duration": 30,
    "start_time": "2023-08-28T11:16:26.229Z"
   },
   {
    "duration": 79,
    "start_time": "2023-08-28T11:16:26.261Z"
   },
   {
    "duration": 24,
    "start_time": "2023-08-28T11:16:26.342Z"
   },
   {
    "duration": 4,
    "start_time": "2023-08-28T11:16:26.368Z"
   },
   {
    "duration": 45,
    "start_time": "2023-08-28T11:16:26.374Z"
   },
   {
    "duration": 9,
    "start_time": "2023-08-28T11:16:26.421Z"
   },
   {
    "duration": 28,
    "start_time": "2023-08-28T11:16:26.432Z"
   },
   {
    "duration": 38,
    "start_time": "2023-08-28T11:16:26.462Z"
   },
   {
    "duration": 3,
    "start_time": "2023-08-28T11:16:41.989Z"
   },
   {
    "duration": 968,
    "start_time": "2023-08-28T11:16:43.935Z"
   },
   {
    "duration": 1784,
    "start_time": "2023-08-28T11:36:41.146Z"
   },
   {
    "duration": 220,
    "start_time": "2023-08-28T11:36:52.014Z"
   },
   {
    "duration": 199,
    "start_time": "2023-08-28T11:37:10.337Z"
   },
   {
    "duration": 254,
    "start_time": "2023-08-28T11:37:25.066Z"
   },
   {
    "duration": 178,
    "start_time": "2023-08-28T11:38:12.394Z"
   },
   {
    "duration": 262,
    "start_time": "2023-08-28T11:38:15.498Z"
   },
   {
    "duration": 246,
    "start_time": "2023-08-28T11:38:24.948Z"
   },
   {
    "duration": 244,
    "start_time": "2023-08-28T11:38:32.860Z"
   },
   {
    "duration": 241,
    "start_time": "2023-08-28T11:38:35.176Z"
   },
   {
    "duration": 10,
    "start_time": "2023-08-28T11:38:53.560Z"
   },
   {
    "duration": 237,
    "start_time": "2023-08-28T11:40:16.527Z"
   },
   {
    "duration": 76,
    "start_time": "2023-08-28T11:40:53.861Z"
   },
   {
    "duration": 592,
    "start_time": "2023-08-28T11:40:55.879Z"
   },
   {
    "duration": 389,
    "start_time": "2023-08-28T11:42:25.037Z"
   },
   {
    "duration": 375,
    "start_time": "2023-08-28T11:42:33.776Z"
   },
   {
    "duration": 246,
    "start_time": "2023-08-28T11:42:51.173Z"
   },
   {
    "duration": 279,
    "start_time": "2023-08-28T11:42:57.698Z"
   },
   {
    "duration": 445,
    "start_time": "2023-08-28T11:43:02.241Z"
   },
   {
    "duration": 393,
    "start_time": "2023-08-28T11:43:07.408Z"
   },
   {
    "duration": 252,
    "start_time": "2023-08-28T11:43:11.631Z"
   },
   {
    "duration": 251,
    "start_time": "2023-08-28T11:43:15.469Z"
   },
   {
    "duration": 389,
    "start_time": "2023-08-28T11:44:43.961Z"
   },
   {
    "duration": 374,
    "start_time": "2023-08-28T11:44:46.642Z"
   },
   {
    "duration": 402,
    "start_time": "2023-08-28T11:45:55.133Z"
   },
   {
    "duration": 306,
    "start_time": "2023-08-28T11:45:58.692Z"
   },
   {
    "duration": 288,
    "start_time": "2023-08-28T11:46:06.621Z"
   },
   {
    "duration": 274,
    "start_time": "2023-08-28T11:46:50.163Z"
   },
   {
    "duration": 190,
    "start_time": "2023-08-28T11:47:00.281Z"
   },
   {
    "duration": 243,
    "start_time": "2023-08-28T11:47:11.964Z"
   },
   {
    "duration": 661,
    "start_time": "2023-08-28T11:47:16.379Z"
   },
   {
    "duration": 876,
    "start_time": "2023-08-28T11:47:24.998Z"
   },
   {
    "duration": 1555,
    "start_time": "2023-08-28T11:47:31.680Z"
   },
   {
    "duration": 9,
    "start_time": "2023-08-28T11:56:47.566Z"
   },
   {
    "duration": 59,
    "start_time": "2023-08-28T11:56:55.276Z"
   },
   {
    "duration": 25,
    "start_time": "2023-08-28T11:56:57.547Z"
   },
   {
    "duration": 10,
    "start_time": "2023-08-28T11:57:07.068Z"
   },
   {
    "duration": 37,
    "start_time": "2023-08-28T11:57:10.206Z"
   },
   {
    "duration": 77,
    "start_time": "2023-08-28T11:57:29.862Z"
   },
   {
    "duration": 5,
    "start_time": "2023-08-28T12:03:28.471Z"
   },
   {
    "duration": 64,
    "start_time": "2023-08-28T12:03:33.207Z"
   },
   {
    "duration": 71,
    "start_time": "2023-08-28T12:04:33.463Z"
   },
   {
    "duration": 86,
    "start_time": "2023-08-28T12:04:52.916Z"
   },
   {
    "duration": 105,
    "start_time": "2023-08-28T12:05:27.127Z"
   },
   {
    "duration": 164,
    "start_time": "2023-08-28T12:05:57.737Z"
   },
   {
    "duration": 566,
    "start_time": "2023-08-28T12:06:20.462Z"
   },
   {
    "duration": 74,
    "start_time": "2023-08-28T12:41:06.991Z"
   },
   {
    "duration": 124,
    "start_time": "2023-08-28T12:41:32.349Z"
   },
   {
    "duration": 10,
    "start_time": "2023-08-28T12:48:12.886Z"
   },
   {
    "duration": 18,
    "start_time": "2023-08-28T12:48:14.494Z"
   },
   {
    "duration": 15,
    "start_time": "2023-08-28T12:48:14.826Z"
   },
   {
    "duration": 0,
    "start_time": "2023-08-28T12:49:28.559Z"
   },
   {
    "duration": 0,
    "start_time": "2023-08-28T12:49:28.560Z"
   },
   {
    "duration": 0,
    "start_time": "2023-08-28T12:49:28.561Z"
   },
   {
    "duration": 0,
    "start_time": "2023-08-28T12:49:28.563Z"
   },
   {
    "duration": 35,
    "start_time": "2023-08-28T12:49:57.837Z"
   },
   {
    "duration": 22,
    "start_time": "2023-08-28T12:49:58.447Z"
   },
   {
    "duration": 26,
    "start_time": "2023-08-28T12:50:05.589Z"
   },
   {
    "duration": 18,
    "start_time": "2023-08-28T12:50:27.200Z"
   },
   {
    "duration": 9,
    "start_time": "2023-08-28T12:50:33.041Z"
   },
   {
    "duration": 29,
    "start_time": "2023-08-28T12:50:35.086Z"
   },
   {
    "duration": 39,
    "start_time": "2023-08-28T12:50:41.680Z"
   },
   {
    "duration": 40,
    "start_time": "2023-08-28T12:50:55.359Z"
   },
   {
    "duration": 384,
    "start_time": "2023-08-28T12:51:03.618Z"
   },
   {
    "duration": 377,
    "start_time": "2023-08-28T12:51:05.919Z"
   },
   {
    "duration": 41,
    "start_time": "2023-08-28T12:51:13.101Z"
   },
   {
    "duration": 72,
    "start_time": "2023-08-28T12:51:20.596Z"
   },
   {
    "duration": 164,
    "start_time": "2023-08-28T12:51:23.135Z"
   },
   {
    "duration": 582,
    "start_time": "2023-08-28T12:51:40.404Z"
   },
   {
    "duration": 700,
    "start_time": "2023-08-28T12:52:43.874Z"
   },
   {
    "duration": 46,
    "start_time": "2023-08-28T12:52:44.577Z"
   },
   {
    "duration": 1027,
    "start_time": "2023-08-28T12:52:44.625Z"
   },
   {
    "duration": 161,
    "start_time": "2023-08-28T12:52:45.655Z"
   },
   {
    "duration": 113,
    "start_time": "2023-08-28T12:52:45.818Z"
   },
   {
    "duration": 5,
    "start_time": "2023-08-28T12:52:45.933Z"
   },
   {
    "duration": 74,
    "start_time": "2023-08-28T12:52:45.940Z"
   },
   {
    "duration": 55,
    "start_time": "2023-08-28T12:52:46.016Z"
   },
   {
    "duration": 64,
    "start_time": "2023-08-28T12:52:46.073Z"
   },
   {
    "duration": 92,
    "start_time": "2023-08-28T12:52:46.140Z"
   },
   {
    "duration": 16,
    "start_time": "2023-08-28T12:52:46.234Z"
   },
   {
    "duration": 45,
    "start_time": "2023-08-28T12:52:46.252Z"
   },
   {
    "duration": 26,
    "start_time": "2023-08-28T12:52:46.299Z"
   },
   {
    "duration": 22,
    "start_time": "2023-08-28T12:52:46.327Z"
   },
   {
    "duration": 13,
    "start_time": "2023-08-28T12:52:46.350Z"
   },
   {
    "duration": 105,
    "start_time": "2023-08-28T12:52:46.365Z"
   },
   {
    "duration": 82,
    "start_time": "2023-08-28T12:52:46.471Z"
   },
   {
    "duration": 165,
    "start_time": "2023-08-28T12:52:46.554Z"
   },
   {
    "duration": 13,
    "start_time": "2023-08-28T12:52:46.720Z"
   },
   {
    "duration": 216,
    "start_time": "2023-08-28T12:52:46.734Z"
   },
   {
    "duration": 901,
    "start_time": "2023-08-28T12:52:50.697Z"
   },
   {
    "duration": 130,
    "start_time": "2023-08-28T12:53:04.048Z"
   },
   {
    "duration": 110,
    "start_time": "2023-08-28T12:53:12.880Z"
   },
   {
    "duration": 736,
    "start_time": "2023-08-28T12:54:48.294Z"
   },
   {
    "duration": 30,
    "start_time": "2023-08-28T12:54:49.032Z"
   },
   {
    "duration": 1003,
    "start_time": "2023-08-28T12:54:49.064Z"
   },
   {
    "duration": 165,
    "start_time": "2023-08-28T12:54:50.069Z"
   },
   {
    "duration": 124,
    "start_time": "2023-08-28T12:54:50.237Z"
   },
   {
    "duration": 5,
    "start_time": "2023-08-28T12:54:50.363Z"
   },
   {
    "duration": 77,
    "start_time": "2023-08-28T12:54:50.370Z"
   },
   {
    "duration": 68,
    "start_time": "2023-08-28T12:54:50.449Z"
   },
   {
    "duration": 51,
    "start_time": "2023-08-28T12:54:50.519Z"
   },
   {
    "duration": 90,
    "start_time": "2023-08-28T12:54:50.572Z"
   },
   {
    "duration": 35,
    "start_time": "2023-08-28T12:54:50.663Z"
   },
   {
    "duration": 52,
    "start_time": "2023-08-28T12:54:50.700Z"
   },
   {
    "duration": 10,
    "start_time": "2023-08-28T12:54:50.754Z"
   },
   {
    "duration": 50,
    "start_time": "2023-08-28T12:54:50.768Z"
   },
   {
    "duration": 33,
    "start_time": "2023-08-28T12:54:50.819Z"
   },
   {
    "duration": 133,
    "start_time": "2023-08-28T12:54:50.854Z"
   },
   {
    "duration": 78,
    "start_time": "2023-08-28T12:54:50.989Z"
   },
   {
    "duration": 168,
    "start_time": "2023-08-28T12:54:51.069Z"
   },
   {
    "duration": 13,
    "start_time": "2023-08-28T12:54:51.238Z"
   },
   {
    "duration": 235,
    "start_time": "2023-08-28T12:54:51.253Z"
   },
   {
    "duration": 402,
    "start_time": "2023-08-28T12:54:55.640Z"
   },
   {
    "duration": 92,
    "start_time": "2023-08-28T12:54:59.802Z"
   },
   {
    "duration": 206,
    "start_time": "2023-08-28T12:55:10.214Z"
   },
   {
    "duration": 1275,
    "start_time": "2023-08-28T12:55:26.733Z"
   },
   {
    "duration": 431,
    "start_time": "2023-08-28T12:55:36.447Z"
   },
   {
    "duration": 440,
    "start_time": "2023-08-28T13:02:30.411Z"
   },
   {
    "duration": 434,
    "start_time": "2023-08-28T13:02:34.873Z"
   },
   {
    "duration": 1812,
    "start_time": "2023-08-28T13:02:43.478Z"
   },
   {
    "duration": 418,
    "start_time": "2023-08-28T13:02:51.119Z"
   },
   {
    "duration": 2266,
    "start_time": "2023-08-28T13:02:56.384Z"
   },
   {
    "duration": 400,
    "start_time": "2023-08-28T13:02:59.050Z"
   },
   {
    "duration": 1336,
    "start_time": "2023-08-28T13:03:54.255Z"
   },
   {
    "duration": 410,
    "start_time": "2023-08-28T13:03:57.764Z"
   },
   {
    "duration": 80,
    "start_time": "2023-08-28T13:08:45.062Z"
   },
   {
    "duration": 165,
    "start_time": "2023-08-28T13:08:53.580Z"
   },
   {
    "duration": 218,
    "start_time": "2023-08-28T13:09:03.375Z"
   },
   {
    "duration": 57,
    "start_time": "2023-08-28T13:10:20.422Z"
   },
   {
    "duration": 78,
    "start_time": "2023-08-28T13:10:22.588Z"
   },
   {
    "duration": 428,
    "start_time": "2023-08-28T13:10:27.189Z"
   },
   {
    "duration": 495,
    "start_time": "2023-08-28T13:10:33.399Z"
   },
   {
    "duration": 475,
    "start_time": "2023-08-28T13:13:22.963Z"
   },
   {
    "duration": 499,
    "start_time": "2023-08-28T13:13:27.767Z"
   },
   {
    "duration": 507,
    "start_time": "2023-08-28T13:14:47.484Z"
   },
   {
    "duration": 483,
    "start_time": "2023-08-28T13:14:51.782Z"
   },
   {
    "duration": 515,
    "start_time": "2023-08-28T13:15:05.283Z"
   },
   {
    "duration": 508,
    "start_time": "2023-08-28T13:15:14.237Z"
   },
   {
    "duration": 451,
    "start_time": "2023-08-28T13:17:18.968Z"
   },
   {
    "duration": 113,
    "start_time": "2023-08-28T13:17:49.031Z"
   },
   {
    "duration": 68,
    "start_time": "2023-08-28T13:17:56.628Z"
   },
   {
    "duration": 73,
    "start_time": "2023-08-28T13:18:08.246Z"
   },
   {
    "duration": 173,
    "start_time": "2023-08-28T13:18:14.883Z"
   },
   {
    "duration": 642,
    "start_time": "2023-08-28T13:18:33.627Z"
   },
   {
    "duration": 4,
    "start_time": "2023-08-28T13:20:53.047Z"
   },
   {
    "duration": 1078,
    "start_time": "2023-08-28T13:22:21.311Z"
   },
   {
    "duration": 996,
    "start_time": "2023-08-28T13:22:26.527Z"
   },
   {
    "duration": 4,
    "start_time": "2023-08-28T13:22:34.223Z"
   },
   {
    "duration": 1147,
    "start_time": "2023-08-28T13:22:34.571Z"
   },
   {
    "duration": 5025,
    "start_time": "2023-08-28T13:22:38.758Z"
   },
   {
    "duration": 715,
    "start_time": "2023-08-28T13:23:55.729Z"
   },
   {
    "duration": 82,
    "start_time": "2023-08-28T13:24:07.632Z"
   },
   {
    "duration": 680,
    "start_time": "2023-08-28T13:24:15.417Z"
   },
   {
    "duration": 220,
    "start_time": "2023-08-28T13:24:18.252Z"
   },
   {
    "duration": 60,
    "start_time": "2023-08-28T13:24:29.683Z"
   },
   {
    "duration": 4,
    "start_time": "2023-08-28T13:24:32.691Z"
   },
   {
    "duration": 147,
    "start_time": "2023-08-28T13:24:34.385Z"
   },
   {
    "duration": 23,
    "start_time": "2023-08-28T13:24:47.558Z"
   },
   {
    "duration": 4,
    "start_time": "2023-08-28T13:24:52.718Z"
   },
   {
    "duration": 50,
    "start_time": "2023-08-28T13:24:52.725Z"
   },
   {
    "duration": 906,
    "start_time": "2023-08-28T13:24:52.777Z"
   },
   {
    "duration": 160,
    "start_time": "2023-08-28T13:24:53.685Z"
   },
   {
    "duration": 116,
    "start_time": "2023-08-28T13:24:53.846Z"
   },
   {
    "duration": 6,
    "start_time": "2023-08-28T13:24:53.965Z"
   },
   {
    "duration": 103,
    "start_time": "2023-08-28T13:24:53.973Z"
   },
   {
    "duration": 60,
    "start_time": "2023-08-28T13:24:54.077Z"
   },
   {
    "duration": 40,
    "start_time": "2023-08-28T13:24:54.140Z"
   },
   {
    "duration": 33,
    "start_time": "2023-08-28T13:24:54.183Z"
   },
   {
    "duration": 7,
    "start_time": "2023-08-28T13:24:54.219Z"
   },
   {
    "duration": 55,
    "start_time": "2023-08-28T13:24:54.228Z"
   },
   {
    "duration": 4,
    "start_time": "2023-08-28T13:24:54.286Z"
   },
   {
    "duration": 138,
    "start_time": "2023-08-28T13:24:54.292Z"
   },
   {
    "duration": 55,
    "start_time": "2023-08-28T13:24:54.432Z"
   },
   {
    "duration": 157,
    "start_time": "2023-08-28T13:24:54.490Z"
   },
   {
    "duration": 149,
    "start_time": "2023-08-28T13:24:54.650Z"
   },
   {
    "duration": 153,
    "start_time": "2023-08-28T13:24:54.803Z"
   },
   {
    "duration": 13,
    "start_time": "2023-08-28T13:24:54.958Z"
   },
   {
    "duration": 15,
    "start_time": "2023-08-28T13:24:54.973Z"
   },
   {
    "duration": 4528,
    "start_time": "2023-08-28T13:24:54.990Z"
   },
   {
    "duration": 2581,
    "start_time": "2023-08-28T13:25:02.836Z"
   },
   {
    "duration": 678,
    "start_time": "2023-08-28T13:25:40.570Z"
   },
   {
    "duration": 668,
    "start_time": "2023-08-28T13:26:15.974Z"
   },
   {
    "duration": 117,
    "start_time": "2023-08-28T13:26:18.218Z"
   },
   {
    "duration": 781,
    "start_time": "2023-08-28T13:26:26.177Z"
   },
   {
    "duration": 103,
    "start_time": "2023-08-28T13:26:29.565Z"
   },
   {
    "duration": 710,
    "start_time": "2023-08-28T13:26:32.949Z"
   },
   {
    "duration": 102,
    "start_time": "2023-08-28T13:26:33.661Z"
   },
   {
    "duration": 801,
    "start_time": "2023-08-28T13:27:24.757Z"
   },
   {
    "duration": 99,
    "start_time": "2023-08-28T13:27:26.624Z"
   },
   {
    "duration": 5,
    "start_time": "2023-08-28T13:27:32.614Z"
   },
   {
    "duration": 95,
    "start_time": "2023-08-28T13:27:32.622Z"
   },
   {
    "duration": 932,
    "start_time": "2023-08-28T13:27:32.719Z"
   },
   {
    "duration": 162,
    "start_time": "2023-08-28T13:27:33.654Z"
   },
   {
    "duration": 109,
    "start_time": "2023-08-28T13:27:33.819Z"
   },
   {
    "duration": 6,
    "start_time": "2023-08-28T13:27:33.930Z"
   },
   {
    "duration": 85,
    "start_time": "2023-08-28T13:27:33.938Z"
   },
   {
    "duration": 30,
    "start_time": "2023-08-28T13:27:34.025Z"
   },
   {
    "duration": 60,
    "start_time": "2023-08-28T13:27:34.057Z"
   },
   {
    "duration": 16,
    "start_time": "2023-08-28T13:27:34.121Z"
   },
   {
    "duration": 32,
    "start_time": "2023-08-28T13:27:34.140Z"
   },
   {
    "duration": 67,
    "start_time": "2023-08-28T13:27:34.174Z"
   },
   {
    "duration": 17,
    "start_time": "2023-08-28T13:27:34.243Z"
   },
   {
    "duration": 18,
    "start_time": "2023-08-28T13:27:34.262Z"
   },
   {
    "duration": 50,
    "start_time": "2023-08-28T13:27:34.283Z"
   },
   {
    "duration": 128,
    "start_time": "2023-08-28T13:27:34.335Z"
   },
   {
    "duration": 84,
    "start_time": "2023-08-28T13:27:34.466Z"
   },
   {
    "duration": 165,
    "start_time": "2023-08-28T13:27:34.552Z"
   },
   {
    "duration": 17,
    "start_time": "2023-08-28T13:27:34.720Z"
   },
   {
    "duration": 4,
    "start_time": "2023-08-28T13:27:34.739Z"
   },
   {
    "duration": 7468,
    "start_time": "2023-08-28T13:27:34.744Z"
   },
   {
    "duration": 698,
    "start_time": "2023-08-28T13:27:42.214Z"
   },
   {
    "duration": 110,
    "start_time": "2023-08-28T13:27:42.917Z"
   },
   {
    "duration": 3,
    "start_time": "2023-08-28T13:28:09.546Z"
   },
   {
    "duration": 54,
    "start_time": "2023-08-28T13:28:09.551Z"
   },
   {
    "duration": 916,
    "start_time": "2023-08-28T13:28:09.607Z"
   },
   {
    "duration": 163,
    "start_time": "2023-08-28T13:28:10.525Z"
   },
   {
    "duration": 116,
    "start_time": "2023-08-28T13:28:10.690Z"
   },
   {
    "duration": 12,
    "start_time": "2023-08-28T13:28:10.807Z"
   },
   {
    "duration": 87,
    "start_time": "2023-08-28T13:28:10.821Z"
   },
   {
    "duration": 28,
    "start_time": "2023-08-28T13:28:10.911Z"
   },
   {
    "duration": 46,
    "start_time": "2023-08-28T13:28:10.941Z"
   },
   {
    "duration": 23,
    "start_time": "2023-08-28T13:28:10.989Z"
   },
   {
    "duration": 5,
    "start_time": "2023-08-28T13:28:11.018Z"
   },
   {
    "duration": 77,
    "start_time": "2023-08-28T13:28:11.025Z"
   },
   {
    "duration": 11,
    "start_time": "2023-08-28T13:28:11.110Z"
   },
   {
    "duration": 24,
    "start_time": "2023-08-28T13:28:11.123Z"
   },
   {
    "duration": 12,
    "start_time": "2023-08-28T13:28:11.149Z"
   },
   {
    "duration": 351,
    "start_time": "2023-08-28T13:28:11.164Z"
   },
   {
    "duration": 124,
    "start_time": "2023-08-28T13:28:11.517Z"
   },
   {
    "duration": 303,
    "start_time": "2023-08-28T13:28:11.643Z"
   },
   {
    "duration": 71,
    "start_time": "2023-08-28T13:28:11.948Z"
   },
   {
    "duration": 8,
    "start_time": "2023-08-28T13:28:12.021Z"
   },
   {
    "duration": 5247,
    "start_time": "2023-08-28T13:28:12.030Z"
   },
   {
    "duration": 1328,
    "start_time": "2023-08-28T13:28:17.278Z"
   },
   {
    "duration": 120,
    "start_time": "2023-08-28T13:28:18.608Z"
   },
   {
    "duration": 102,
    "start_time": "2023-08-28T13:28:22.449Z"
   },
   {
    "duration": 811,
    "start_time": "2023-08-28T13:29:09.867Z"
   },
   {
    "duration": 98,
    "start_time": "2023-08-28T13:29:13.758Z"
   },
   {
    "duration": 788,
    "start_time": "2023-08-28T13:29:22.602Z"
   },
   {
    "duration": 4,
    "start_time": "2023-08-28T13:29:31.456Z"
   },
   {
    "duration": 107,
    "start_time": "2023-08-28T13:29:31.462Z"
   },
   {
    "duration": 923,
    "start_time": "2023-08-28T13:29:31.572Z"
   },
   {
    "duration": 176,
    "start_time": "2023-08-28T13:29:32.497Z"
   },
   {
    "duration": 104,
    "start_time": "2023-08-28T13:29:32.675Z"
   },
   {
    "duration": 6,
    "start_time": "2023-08-28T13:29:32.782Z"
   },
   {
    "duration": 37,
    "start_time": "2023-08-28T13:29:32.800Z"
   },
   {
    "duration": 28,
    "start_time": "2023-08-28T13:29:32.838Z"
   },
   {
    "duration": 60,
    "start_time": "2023-08-28T13:29:32.868Z"
   },
   {
    "duration": 16,
    "start_time": "2023-08-28T13:29:32.930Z"
   },
   {
    "duration": 4,
    "start_time": "2023-08-28T13:29:32.948Z"
   },
   {
    "duration": 53,
    "start_time": "2023-08-28T13:29:32.954Z"
   },
   {
    "duration": 8,
    "start_time": "2023-08-28T13:29:33.008Z"
   },
   {
    "duration": 7,
    "start_time": "2023-08-28T13:29:33.023Z"
   },
   {
    "duration": 5,
    "start_time": "2023-08-28T13:29:33.032Z"
   },
   {
    "duration": 111,
    "start_time": "2023-08-28T13:29:33.039Z"
   },
   {
    "duration": 75,
    "start_time": "2023-08-28T13:29:33.152Z"
   },
   {
    "duration": 140,
    "start_time": "2023-08-28T13:29:33.228Z"
   },
   {
    "duration": 13,
    "start_time": "2023-08-28T13:29:33.369Z"
   },
   {
    "duration": 5,
    "start_time": "2023-08-28T13:29:33.384Z"
   },
   {
    "duration": 6071,
    "start_time": "2023-08-28T13:29:33.405Z"
   },
   {
    "duration": 895,
    "start_time": "2023-08-28T13:29:39.478Z"
   },
   {
    "duration": 805,
    "start_time": "2023-08-28T13:29:52.854Z"
   },
   {
    "duration": 99,
    "start_time": "2023-08-28T13:29:57.243Z"
   },
   {
    "duration": 828,
    "start_time": "2023-08-28T13:30:10.740Z"
   },
   {
    "duration": 105,
    "start_time": "2023-08-28T13:30:11.570Z"
   },
   {
    "duration": 220,
    "start_time": "2023-08-28T13:30:26.403Z"
   },
   {
    "duration": 18,
    "start_time": "2023-08-28T13:30:37.224Z"
   },
   {
    "duration": 102,
    "start_time": "2023-08-28T13:30:45.031Z"
   },
   {
    "duration": 193,
    "start_time": "2023-08-28T13:30:55.259Z"
   },
   {
    "duration": 100,
    "start_time": "2023-08-28T13:31:04.786Z"
   },
   {
    "duration": 12,
    "start_time": "2023-08-28T13:31:26.341Z"
   },
   {
    "duration": 9,
    "start_time": "2023-08-28T13:31:52.182Z"
   },
   {
    "duration": 98,
    "start_time": "2023-08-28T13:32:05.920Z"
   },
   {
    "duration": 54,
    "start_time": "2023-08-28T13:32:18.991Z"
   },
   {
    "duration": 12,
    "start_time": "2023-08-28T13:33:51.986Z"
   },
   {
    "duration": 77,
    "start_time": "2023-08-28T13:34:02.462Z"
   },
   {
    "duration": 50,
    "start_time": "2023-08-28T13:34:09.245Z"
   },
   {
    "duration": 155,
    "start_time": "2023-08-28T13:34:15.459Z"
   },
   {
    "duration": 146,
    "start_time": "2023-08-28T13:34:52.230Z"
   },
   {
    "duration": 16,
    "start_time": "2023-08-28T13:38:25.263Z"
   },
   {
    "duration": 3,
    "start_time": "2023-08-28T13:38:26.284Z"
   },
   {
    "duration": 4447,
    "start_time": "2023-08-28T13:38:26.600Z"
   },
   {
    "duration": 805,
    "start_time": "2023-08-28T13:38:31.049Z"
   },
   {
    "duration": 105,
    "start_time": "2023-08-28T13:38:31.856Z"
   },
   {
    "duration": 807,
    "start_time": "2023-08-28T13:38:42.542Z"
   },
   {
    "duration": 93,
    "start_time": "2023-08-28T13:38:44.424Z"
   },
   {
    "duration": 136,
    "start_time": "2023-08-28T13:38:46.357Z"
   },
   {
    "duration": 19,
    "start_time": "2023-08-28T13:38:49.140Z"
   },
   {
    "duration": 2105,
    "start_time": "2023-08-28T13:39:04.334Z"
   },
   {
    "duration": 8457,
    "start_time": "2023-08-28T13:39:14.336Z"
   },
   {
    "duration": 241,
    "start_time": "2023-08-28T13:39:30.186Z"
   },
   {
    "duration": 5291,
    "start_time": "2023-08-28T13:40:17.748Z"
   },
   {
    "duration": 6034,
    "start_time": "2023-08-28T13:41:05.891Z"
   },
   {
    "duration": 143,
    "start_time": "2023-08-28T13:41:35.839Z"
   },
   {
    "duration": 3,
    "start_time": "2023-08-28T13:41:49.175Z"
   },
   {
    "duration": 63,
    "start_time": "2023-08-28T13:41:49.180Z"
   },
   {
    "duration": 864,
    "start_time": "2023-08-28T13:41:49.245Z"
   },
   {
    "duration": 165,
    "start_time": "2023-08-28T13:41:50.118Z"
   },
   {
    "duration": 148,
    "start_time": "2023-08-28T13:41:50.286Z"
   },
   {
    "duration": 5,
    "start_time": "2023-08-28T13:41:50.436Z"
   },
   {
    "duration": 44,
    "start_time": "2023-08-28T13:41:50.443Z"
   },
   {
    "duration": 38,
    "start_time": "2023-08-28T13:41:50.488Z"
   },
   {
    "duration": 36,
    "start_time": "2023-08-28T13:41:50.528Z"
   },
   {
    "duration": 39,
    "start_time": "2023-08-28T13:41:50.566Z"
   },
   {
    "duration": 8,
    "start_time": "2023-08-28T13:41:50.607Z"
   },
   {
    "duration": 35,
    "start_time": "2023-08-28T13:41:50.617Z"
   },
   {
    "duration": 8,
    "start_time": "2023-08-28T13:41:50.654Z"
   },
   {
    "duration": 53,
    "start_time": "2023-08-28T13:41:50.665Z"
   },
   {
    "duration": 16,
    "start_time": "2023-08-28T13:41:50.723Z"
   },
   {
    "duration": 106,
    "start_time": "2023-08-28T13:41:50.741Z"
   },
   {
    "duration": 95,
    "start_time": "2023-08-28T13:41:50.849Z"
   },
   {
    "duration": 288,
    "start_time": "2023-08-28T13:41:50.946Z"
   },
   {
    "duration": 71,
    "start_time": "2023-08-28T13:41:51.236Z"
   },
   {
    "duration": 6,
    "start_time": "2023-08-28T13:41:51.310Z"
   },
   {
    "duration": 5790,
    "start_time": "2023-08-28T13:41:51.318Z"
   },
   {
    "duration": 855,
    "start_time": "2023-08-28T13:41:57.109Z"
   },
   {
    "duration": 113,
    "start_time": "2023-08-28T13:41:57.966Z"
   },
   {
    "duration": 188,
    "start_time": "2023-08-28T13:41:58.081Z"
   },
   {
    "duration": 5976,
    "start_time": "2023-08-28T13:42:05.033Z"
   },
   {
    "duration": 12,
    "start_time": "2023-08-28T13:42:18.454Z"
   },
   {
    "duration": 5284,
    "start_time": "2023-08-28T13:42:47.625Z"
   },
   {
    "duration": 9218,
    "start_time": "2023-08-28T13:43:11.048Z"
   },
   {
    "duration": 8392,
    "start_time": "2023-08-28T13:43:44.190Z"
   },
   {
    "duration": 9536,
    "start_time": "2023-08-28T13:44:23.354Z"
   },
   {
    "duration": 5437,
    "start_time": "2023-08-28T13:45:04.035Z"
   },
   {
    "duration": 5283,
    "start_time": "2023-08-28T13:45:18.772Z"
   },
   {
    "duration": 9136,
    "start_time": "2023-08-28T13:45:34.489Z"
   },
   {
    "duration": 8454,
    "start_time": "2023-08-28T13:48:58.070Z"
   },
   {
    "duration": 9033,
    "start_time": "2023-08-28T13:49:15.360Z"
   },
   {
    "duration": 9179,
    "start_time": "2023-08-28T13:49:34.903Z"
   },
   {
    "duration": 8520,
    "start_time": "2023-08-28T13:50:08.115Z"
   },
   {
    "duration": 9540,
    "start_time": "2023-08-28T13:50:30.690Z"
   },
   {
    "duration": 8942,
    "start_time": "2023-08-28T13:50:50.216Z"
   },
   {
    "duration": 8651,
    "start_time": "2023-08-28T13:51:55.339Z"
   },
   {
    "duration": 9507,
    "start_time": "2023-08-28T13:52:12.933Z"
   },
   {
    "duration": 21,
    "start_time": "2023-08-28T14:01:45.798Z"
   },
   {
    "duration": 487,
    "start_time": "2023-08-28T14:01:57.731Z"
   },
   {
    "duration": 353,
    "start_time": "2023-08-28T14:02:03.580Z"
   },
   {
    "duration": 211,
    "start_time": "2023-08-28T14:02:15.450Z"
   },
   {
    "duration": 704,
    "start_time": "2023-08-28T14:03:16.817Z"
   },
   {
    "duration": 406,
    "start_time": "2023-08-28T14:06:32.842Z"
   },
   {
    "duration": 13,
    "start_time": "2023-08-28T14:06:56.806Z"
   },
   {
    "duration": 40,
    "start_time": "2023-08-28T14:07:25.771Z"
   },
   {
    "duration": 177,
    "start_time": "2023-08-28T14:07:45.046Z"
   },
   {
    "duration": 10,
    "start_time": "2023-08-28T14:58:03.128Z"
   },
   {
    "duration": 156,
    "start_time": "2023-08-28T14:58:08.018Z"
   },
   {
    "duration": 46,
    "start_time": "2023-08-28T14:58:17.228Z"
   },
   {
    "duration": 59,
    "start_time": "2023-08-28T14:58:44.512Z"
   },
   {
    "duration": 73,
    "start_time": "2023-08-28T14:58:56.359Z"
   },
   {
    "duration": 47,
    "start_time": "2023-08-28T14:58:59.829Z"
   },
   {
    "duration": 186,
    "start_time": "2023-08-28T14:59:03.354Z"
   },
   {
    "duration": 37,
    "start_time": "2023-08-28T14:59:22.816Z"
   },
   {
    "duration": 263,
    "start_time": "2023-08-28T15:00:33.369Z"
   },
   {
    "duration": 9917,
    "start_time": "2023-08-28T15:06:38.837Z"
   },
   {
    "duration": 8899,
    "start_time": "2023-08-28T15:07:05.948Z"
   },
   {
    "duration": 9512,
    "start_time": "2023-08-28T15:08:53.672Z"
   },
   {
    "duration": 5893,
    "start_time": "2023-08-28T15:09:41.339Z"
   },
   {
    "duration": 5920,
    "start_time": "2023-08-28T16:53:32.150Z"
   },
   {
    "duration": 5311,
    "start_time": "2023-08-28T17:01:03.045Z"
   },
   {
    "duration": 6628,
    "start_time": "2023-08-28T17:01:08.668Z"
   },
   {
    "duration": 172,
    "start_time": "2023-08-28T17:01:26.645Z"
   },
   {
    "duration": 9179,
    "start_time": "2023-08-28T17:01:31.563Z"
   },
   {
    "duration": 1175,
    "start_time": "2023-08-28T17:02:08.643Z"
   },
   {
    "duration": 53,
    "start_time": "2023-08-28T17:11:15.025Z"
   },
   {
    "duration": 54,
    "start_time": "2023-08-28T17:11:33.135Z"
   },
   {
    "duration": 175,
    "start_time": "2023-08-28T17:11:49.501Z"
   },
   {
    "duration": 121,
    "start_time": "2023-08-28T17:12:06.738Z"
   },
   {
    "duration": 145,
    "start_time": "2023-08-28T17:12:17.742Z"
   },
   {
    "duration": 110,
    "start_time": "2023-08-28T17:12:40.030Z"
   },
   {
    "duration": 107,
    "start_time": "2023-08-28T17:12:43.479Z"
   },
   {
    "duration": 133,
    "start_time": "2023-08-28T17:12:54.944Z"
   },
   {
    "duration": 145,
    "start_time": "2023-08-28T17:13:25.566Z"
   },
   {
    "duration": 168,
    "start_time": "2023-08-28T17:13:28.065Z"
   },
   {
    "duration": 91,
    "start_time": "2023-08-28T17:13:37.245Z"
   },
   {
    "duration": 89,
    "start_time": "2023-08-28T17:13:44.468Z"
   },
   {
    "duration": 57,
    "start_time": "2023-08-28T17:13:55.243Z"
   },
   {
    "duration": 112,
    "start_time": "2023-08-28T17:13:57.727Z"
   },
   {
    "duration": 119,
    "start_time": "2023-08-28T17:14:01.118Z"
   },
   {
    "duration": 137,
    "start_time": "2023-08-28T17:14:37.083Z"
   },
   {
    "duration": 61,
    "start_time": "2023-08-28T17:14:45.497Z"
   },
   {
    "duration": 135,
    "start_time": "2023-08-28T17:14:50.021Z"
   },
   {
    "duration": 139,
    "start_time": "2023-08-28T17:14:54.791Z"
   },
   {
    "duration": 36,
    "start_time": "2023-08-28T17:24:53.301Z"
   },
   {
    "duration": 71,
    "start_time": "2023-08-28T17:26:13.176Z"
   },
   {
    "duration": 72,
    "start_time": "2023-08-28T17:26:59.638Z"
   },
   {
    "duration": 73,
    "start_time": "2023-08-28T17:27:09.708Z"
   },
   {
    "duration": 187,
    "start_time": "2023-08-28T17:28:00.066Z"
   },
   {
    "duration": 189,
    "start_time": "2023-08-28T17:28:03.404Z"
   },
   {
    "duration": 229,
    "start_time": "2023-08-28T17:28:48.078Z"
   },
   {
    "duration": 240,
    "start_time": "2023-08-28T17:29:06.361Z"
   },
   {
    "duration": 280,
    "start_time": "2023-08-28T17:29:29.388Z"
   },
   {
    "duration": 264,
    "start_time": "2023-08-28T17:29:58.054Z"
   },
   {
    "duration": 291,
    "start_time": "2023-08-28T17:30:26.158Z"
   },
   {
    "duration": 8,
    "start_time": "2023-08-28T17:30:59.772Z"
   },
   {
    "duration": 194,
    "start_time": "2023-08-28T17:31:32.992Z"
   },
   {
    "duration": 13,
    "start_time": "2023-08-28T17:31:39.981Z"
   },
   {
    "duration": 279,
    "start_time": "2023-08-28T17:32:11.243Z"
   },
   {
    "duration": 8,
    "start_time": "2023-08-28T17:32:13.236Z"
   },
   {
    "duration": 290,
    "start_time": "2023-08-28T17:32:32.385Z"
   },
   {
    "duration": 300,
    "start_time": "2023-08-28T17:32:44.331Z"
   },
   {
    "duration": 305,
    "start_time": "2023-08-28T17:32:51.407Z"
   },
   {
    "duration": 1100,
    "start_time": "2023-08-28T17:35:00.141Z"
   },
   {
    "duration": 68,
    "start_time": "2023-08-28T17:35:51.210Z"
   },
   {
    "duration": 239,
    "start_time": "2023-08-28T17:36:30.504Z"
   },
   {
    "duration": 253,
    "start_time": "2023-08-28T17:36:34.145Z"
   },
   {
    "duration": 77,
    "start_time": "2023-08-28T17:37:27.045Z"
   },
   {
    "duration": 143,
    "start_time": "2023-08-28T17:37:35.370Z"
   },
   {
    "duration": 317,
    "start_time": "2023-08-28T17:38:02.349Z"
   },
   {
    "duration": 56,
    "start_time": "2023-08-28T17:39:22.416Z"
   },
   {
    "duration": 811,
    "start_time": "2023-08-28T17:40:10.297Z"
   },
   {
    "duration": 872,
    "start_time": "2023-08-28T17:42:32.284Z"
   },
   {
    "duration": 835,
    "start_time": "2023-08-28T17:44:16.640Z"
   },
   {
    "duration": 827,
    "start_time": "2023-08-28T17:44:52.270Z"
   },
   {
    "duration": 810,
    "start_time": "2023-08-28T17:45:36.698Z"
   },
   {
    "duration": 783,
    "start_time": "2023-08-28T17:46:52.605Z"
   },
   {
    "duration": 795,
    "start_time": "2023-08-28T17:49:45.315Z"
   },
   {
    "duration": 1106,
    "start_time": "2023-08-28T18:10:42.964Z"
   },
   {
    "duration": 1778,
    "start_time": "2023-08-28T18:11:09.482Z"
   },
   {
    "duration": 1790,
    "start_time": "2023-08-28T18:33:06.011Z"
   },
   {
    "duration": 2820,
    "start_time": "2023-08-28T18:33:41.321Z"
   },
   {
    "duration": 1750,
    "start_time": "2023-08-28T18:33:52.256Z"
   },
   {
    "duration": 1713,
    "start_time": "2023-08-28T18:34:02.683Z"
   },
   {
    "duration": 1739,
    "start_time": "2023-08-28T18:34:11.190Z"
   },
   {
    "duration": 4733,
    "start_time": "2023-08-28T18:51:56.390Z"
   },
   {
    "duration": 2619,
    "start_time": "2023-08-28T18:54:18.384Z"
   },
   {
    "duration": 1691,
    "start_time": "2023-08-28T18:54:28.449Z"
   },
   {
    "duration": 3,
    "start_time": "2023-08-28T18:54:50.997Z"
   },
   {
    "duration": 34,
    "start_time": "2023-08-28T18:54:51.642Z"
   },
   {
    "duration": 2483,
    "start_time": "2023-08-28T18:54:51.944Z"
   },
   {
    "duration": 1649,
    "start_time": "2023-08-28T18:54:54.429Z"
   },
   {
    "duration": 1245,
    "start_time": "2023-08-28T18:55:34.580Z"
   },
   {
    "duration": 48,
    "start_time": "2023-08-28T18:55:37.559Z"
   },
   {
    "duration": 2546,
    "start_time": "2023-08-28T18:55:37.796Z"
   },
   {
    "duration": 1576,
    "start_time": "2023-08-28T18:55:40.345Z"
   },
   {
    "duration": 3,
    "start_time": "2023-08-28T19:17:22.095Z"
   },
   {
    "duration": 63,
    "start_time": "2023-08-28T19:17:22.100Z"
   },
   {
    "duration": 2497,
    "start_time": "2023-08-28T19:17:22.165Z"
   },
   {
    "duration": 1558,
    "start_time": "2023-08-28T19:17:24.665Z"
   },
   {
    "duration": 1297,
    "start_time": "2023-08-28T19:17:26.225Z"
   },
   {
    "duration": 317,
    "start_time": "2023-08-28T19:17:27.524Z"
   },
   {
    "duration": 298,
    "start_time": "2023-08-28T19:17:27.843Z"
   },
   {
    "duration": 5,
    "start_time": "2023-08-28T19:17:28.143Z"
   },
   {
    "duration": 48,
    "start_time": "2023-08-28T19:17:28.201Z"
   },
   {
    "duration": 105,
    "start_time": "2023-08-28T19:17:28.302Z"
   },
   {
    "duration": 99,
    "start_time": "2023-08-28T19:17:28.410Z"
   },
   {
    "duration": 94,
    "start_time": "2023-08-28T19:17:28.511Z"
   },
   {
    "duration": 15,
    "start_time": "2023-08-28T19:17:28.606Z"
   },
   {
    "duration": 91,
    "start_time": "2023-08-28T19:17:28.622Z"
   },
   {
    "duration": 5,
    "start_time": "2023-08-28T19:17:28.716Z"
   },
   {
    "duration": 8,
    "start_time": "2023-08-28T19:17:28.723Z"
   },
   {
    "duration": 15,
    "start_time": "2023-08-28T19:17:28.733Z"
   },
   {
    "duration": 93,
    "start_time": "2023-08-28T19:17:28.750Z"
   },
   {
    "duration": 65,
    "start_time": "2023-08-28T19:17:28.845Z"
   },
   {
    "duration": 150,
    "start_time": "2023-08-28T19:17:28.912Z"
   },
   {
    "duration": 12,
    "start_time": "2023-08-28T19:17:29.064Z"
   },
   {
    "duration": 13,
    "start_time": "2023-08-28T19:17:29.078Z"
   },
   {
    "duration": 4204,
    "start_time": "2023-08-28T19:17:29.093Z"
   },
   {
    "duration": 763,
    "start_time": "2023-08-28T19:17:33.300Z"
   },
   {
    "duration": 87,
    "start_time": "2023-08-28T19:17:34.065Z"
   },
   {
    "duration": 157,
    "start_time": "2023-08-28T19:17:34.154Z"
   },
   {
    "duration": 885,
    "start_time": "2023-08-28T19:17:34.313Z"
   },
   {
    "duration": 899,
    "start_time": "2023-08-28T19:17:35.199Z"
   },
   {
    "duration": 1815,
    "start_time": "2023-08-28T19:17:36.100Z"
   },
   {
    "duration": 13,
    "start_time": "2023-08-28T19:18:15.150Z"
   },
   {
    "duration": 28,
    "start_time": "2023-08-28T19:18:23.206Z"
   },
   {
    "duration": 7,
    "start_time": "2023-08-28T19:19:27.590Z"
   },
   {
    "duration": 4,
    "start_time": "2023-08-28T19:19:41.260Z"
   },
   {
    "duration": 32,
    "start_time": "2023-08-28T19:22:19.775Z"
   },
   {
    "duration": 22,
    "start_time": "2023-08-28T19:25:19.214Z"
   },
   {
    "duration": 21,
    "start_time": "2023-08-28T19:25:44.383Z"
   },
   {
    "duration": 22,
    "start_time": "2023-08-28T19:25:50.198Z"
   },
   {
    "duration": 12,
    "start_time": "2023-08-28T19:26:02.977Z"
   },
   {
    "duration": 27,
    "start_time": "2023-08-28T19:27:41.730Z"
   },
   {
    "duration": 27,
    "start_time": "2023-08-28T19:27:46.320Z"
   },
   {
    "duration": 7,
    "start_time": "2023-08-28T19:27:52.263Z"
   },
   {
    "duration": 4,
    "start_time": "2023-08-28T19:27:54.928Z"
   },
   {
    "duration": 3,
    "start_time": "2023-08-28T19:28:05.672Z"
   },
   {
    "duration": 48,
    "start_time": "2023-08-28T19:28:05.677Z"
   },
   {
    "duration": 2503,
    "start_time": "2023-08-28T19:28:05.727Z"
   },
   {
    "duration": 1668,
    "start_time": "2023-08-28T19:28:08.234Z"
   },
   {
    "duration": 888,
    "start_time": "2023-08-28T19:28:09.905Z"
   },
   {
    "duration": 143,
    "start_time": "2023-08-28T19:28:10.795Z"
   },
   {
    "duration": 112,
    "start_time": "2023-08-28T19:28:10.940Z"
   },
   {
    "duration": 7,
    "start_time": "2023-08-28T19:28:11.054Z"
   },
   {
    "duration": 61,
    "start_time": "2023-08-28T19:28:11.063Z"
   },
   {
    "duration": 31,
    "start_time": "2023-08-28T19:28:11.128Z"
   },
   {
    "duration": 64,
    "start_time": "2023-08-28T19:28:11.161Z"
   },
   {
    "duration": 32,
    "start_time": "2023-08-28T19:28:11.228Z"
   },
   {
    "duration": 6,
    "start_time": "2023-08-28T19:28:11.262Z"
   },
   {
    "duration": 62,
    "start_time": "2023-08-28T19:28:11.270Z"
   },
   {
    "duration": 22,
    "start_time": "2023-08-28T19:28:11.334Z"
   },
   {
    "duration": 8,
    "start_time": "2023-08-28T19:28:11.358Z"
   },
   {
    "duration": 22,
    "start_time": "2023-08-28T19:28:11.368Z"
   },
   {
    "duration": 109,
    "start_time": "2023-08-28T19:28:11.391Z"
   },
   {
    "duration": 72,
    "start_time": "2023-08-28T19:28:11.502Z"
   },
   {
    "duration": 136,
    "start_time": "2023-08-28T19:28:11.576Z"
   },
   {
    "duration": 19,
    "start_time": "2023-08-28T19:28:11.713Z"
   },
   {
    "duration": 2,
    "start_time": "2023-08-28T19:28:11.734Z"
   },
   {
    "duration": 4331,
    "start_time": "2023-08-28T19:28:11.738Z"
   },
   {
    "duration": 797,
    "start_time": "2023-08-28T19:28:16.071Z"
   },
   {
    "duration": 90,
    "start_time": "2023-08-28T19:28:16.870Z"
   },
   {
    "duration": 139,
    "start_time": "2023-08-28T19:28:16.962Z"
   },
   {
    "duration": 807,
    "start_time": "2023-08-28T19:28:17.103Z"
   },
   {
    "duration": 937,
    "start_time": "2023-08-28T19:28:17.914Z"
   },
   {
    "duration": 1894,
    "start_time": "2023-08-28T19:28:18.853Z"
   },
   {
    "duration": 12,
    "start_time": "2023-08-28T19:28:20.749Z"
   },
   {
    "duration": 43,
    "start_time": "2023-08-28T19:28:20.763Z"
   },
   {
    "duration": 7,
    "start_time": "2023-08-28T19:28:20.808Z"
   },
   {
    "duration": 17,
    "start_time": "2023-08-28T19:28:20.816Z"
   },
   {
    "duration": 7,
    "start_time": "2023-08-28T19:42:21.740Z"
   },
   {
    "duration": 8,
    "start_time": "2023-08-28T19:42:49.259Z"
   },
   {
    "duration": 10,
    "start_time": "2023-08-28T19:42:53.871Z"
   },
   {
    "duration": 21,
    "start_time": "2023-08-28T19:42:57.796Z"
   },
   {
    "duration": 14,
    "start_time": "2023-08-28T19:43:01.589Z"
   },
   {
    "duration": 11,
    "start_time": "2023-08-28T19:43:04.526Z"
   },
   {
    "duration": 8,
    "start_time": "2023-08-28T19:43:07.674Z"
   },
   {
    "duration": 9,
    "start_time": "2023-08-28T19:43:10.631Z"
   },
   {
    "duration": 8,
    "start_time": "2023-08-28T19:43:16.012Z"
   },
   {
    "duration": 6,
    "start_time": "2023-08-28T19:43:19.238Z"
   },
   {
    "duration": 6,
    "start_time": "2023-08-28T19:43:21.351Z"
   },
   {
    "duration": 6,
    "start_time": "2023-08-28T19:43:23.336Z"
   },
   {
    "duration": 7,
    "start_time": "2023-08-28T19:43:30.726Z"
   },
   {
    "duration": 8,
    "start_time": "2023-08-28T19:43:34.293Z"
   },
   {
    "duration": 26,
    "start_time": "2023-08-28T19:44:40.723Z"
   },
   {
    "duration": 6,
    "start_time": "2023-08-28T19:45:07.745Z"
   },
   {
    "duration": 7,
    "start_time": "2023-08-28T19:45:10.892Z"
   },
   {
    "duration": 4,
    "start_time": "2023-08-28T19:45:20.891Z"
   },
   {
    "duration": 55,
    "start_time": "2023-08-28T19:45:20.897Z"
   },
   {
    "duration": 2533,
    "start_time": "2023-08-28T19:45:20.954Z"
   },
   {
    "duration": 2514,
    "start_time": "2023-08-28T19:45:23.490Z"
   },
   {
    "duration": 1934,
    "start_time": "2023-08-28T19:45:26.008Z"
   },
   {
    "duration": 369,
    "start_time": "2023-08-28T19:45:27.943Z"
   },
   {
    "duration": 215,
    "start_time": "2023-08-28T19:45:28.320Z"
   },
   {
    "duration": 6,
    "start_time": "2023-08-28T19:45:28.537Z"
   },
   {
    "duration": 100,
    "start_time": "2023-08-28T19:45:28.545Z"
   },
   {
    "duration": 84,
    "start_time": "2023-08-28T19:45:28.648Z"
   },
   {
    "duration": 100,
    "start_time": "2023-08-28T19:45:28.735Z"
   },
   {
    "duration": 17,
    "start_time": "2023-08-28T19:45:28.836Z"
   },
   {
    "duration": 5,
    "start_time": "2023-08-28T19:45:28.854Z"
   },
   {
    "duration": 69,
    "start_time": "2023-08-28T19:45:28.860Z"
   },
   {
    "duration": 4,
    "start_time": "2023-08-28T19:45:28.931Z"
   },
   {
    "duration": 8,
    "start_time": "2023-08-28T19:45:28.936Z"
   },
   {
    "duration": 4,
    "start_time": "2023-08-28T19:45:28.946Z"
   },
   {
    "duration": 113,
    "start_time": "2023-08-28T19:45:28.951Z"
   },
   {
    "duration": 65,
    "start_time": "2023-08-28T19:45:29.066Z"
   },
   {
    "duration": 141,
    "start_time": "2023-08-28T19:45:29.133Z"
   },
   {
    "duration": 35,
    "start_time": "2023-08-28T19:45:29.276Z"
   },
   {
    "duration": 5,
    "start_time": "2023-08-28T19:45:29.315Z"
   },
   {
    "duration": 4427,
    "start_time": "2023-08-28T19:45:29.323Z"
   },
   {
    "duration": 806,
    "start_time": "2023-08-28T19:45:33.751Z"
   },
   {
    "duration": 107,
    "start_time": "2023-08-28T19:45:34.559Z"
   },
   {
    "duration": 207,
    "start_time": "2023-08-28T19:45:34.668Z"
   },
   {
    "duration": 895,
    "start_time": "2023-08-28T19:45:34.878Z"
   },
   {
    "duration": 973,
    "start_time": "2023-08-28T19:45:35.778Z"
   },
   {
    "duration": 2081,
    "start_time": "2023-08-28T19:45:36.753Z"
   },
   {
    "duration": 10,
    "start_time": "2023-08-28T19:45:38.836Z"
   },
   {
    "duration": 29,
    "start_time": "2023-08-28T19:45:38.848Z"
   },
   {
    "duration": 11,
    "start_time": "2023-08-28T19:45:38.905Z"
   },
   {
    "duration": 30,
    "start_time": "2023-08-28T19:45:38.918Z"
   },
   {
    "duration": 40,
    "start_time": "2023-08-28T19:45:38.950Z"
   },
   {
    "duration": 7,
    "start_time": "2023-08-28T19:45:38.992Z"
   },
   {
    "duration": 34,
    "start_time": "2023-08-28T19:45:42.891Z"
   },
   {
    "duration": 3,
    "start_time": "2023-08-28T19:55:24.087Z"
   },
   {
    "duration": 112,
    "start_time": "2023-08-28T20:23:16.119Z"
   },
   {
    "duration": 7,
    "start_time": "2023-08-28T20:23:20.609Z"
   },
   {
    "duration": 12,
    "start_time": "2023-08-28T20:23:25.311Z"
   },
   {
    "duration": 4,
    "start_time": "2023-08-28T20:23:29.347Z"
   },
   {
    "duration": 4,
    "start_time": "2023-08-28T20:23:31.562Z"
   },
   {
    "duration": 13,
    "start_time": "2023-08-28T21:01:47.506Z"
   },
   {
    "duration": 10,
    "start_time": "2023-08-28T21:01:52.588Z"
   },
   {
    "duration": 307,
    "start_time": "2023-08-28T21:02:04.357Z"
   },
   {
    "duration": 7,
    "start_time": "2023-08-28T21:02:11.792Z"
   },
   {
    "duration": 304,
    "start_time": "2023-08-28T21:02:12.343Z"
   },
   {
    "duration": 10,
    "start_time": "2023-08-28T21:06:22.423Z"
   },
   {
    "duration": 45,
    "start_time": "2023-08-29T11:28:16.742Z"
   },
   {
    "duration": 1482,
    "start_time": "2023-08-29T11:28:21.910Z"
   },
   {
    "duration": 70,
    "start_time": "2023-08-29T11:28:23.395Z"
   },
   {
    "duration": 4982,
    "start_time": "2023-08-29T11:28:23.467Z"
   },
   {
    "duration": 1448,
    "start_time": "2023-08-29T11:28:28.451Z"
   },
   {
    "duration": 1283,
    "start_time": "2023-08-29T11:28:29.902Z"
   },
   {
    "duration": 141,
    "start_time": "2023-08-29T11:28:31.187Z"
   },
   {
    "duration": 123,
    "start_time": "2023-08-29T11:28:31.337Z"
   },
   {
    "duration": 5,
    "start_time": "2023-08-29T11:28:31.462Z"
   },
   {
    "duration": 86,
    "start_time": "2023-08-29T11:28:31.469Z"
   },
   {
    "duration": 52,
    "start_time": "2023-08-29T11:28:31.559Z"
   },
   {
    "duration": 57,
    "start_time": "2023-08-29T11:28:31.624Z"
   },
   {
    "duration": 55,
    "start_time": "2023-08-29T11:28:31.682Z"
   },
   {
    "duration": 27,
    "start_time": "2023-08-29T11:28:31.740Z"
   },
   {
    "duration": 88,
    "start_time": "2023-08-29T11:28:31.769Z"
   },
   {
    "duration": 16,
    "start_time": "2023-08-29T11:28:31.858Z"
   },
   {
    "duration": 24,
    "start_time": "2023-08-29T11:28:31.876Z"
   },
   {
    "duration": 37,
    "start_time": "2023-08-29T11:28:31.902Z"
   },
   {
    "duration": 103,
    "start_time": "2023-08-29T11:28:31.945Z"
   },
   {
    "duration": 51,
    "start_time": "2023-08-29T11:28:32.050Z"
   },
   {
    "duration": 259,
    "start_time": "2023-08-29T11:28:32.103Z"
   },
   {
    "duration": 118,
    "start_time": "2023-08-29T11:28:32.365Z"
   },
   {
    "duration": 136,
    "start_time": "2023-08-29T11:28:32.485Z"
   },
   {
    "duration": 4296,
    "start_time": "2023-08-29T11:28:32.623Z"
   },
   {
    "duration": 796,
    "start_time": "2023-08-29T11:28:36.923Z"
   },
   {
    "duration": 92,
    "start_time": "2023-08-29T11:28:37.720Z"
   },
   {
    "duration": 155,
    "start_time": "2023-08-29T11:28:37.813Z"
   },
   {
    "duration": 981,
    "start_time": "2023-08-29T11:28:37.969Z"
   },
   {
    "duration": 826,
    "start_time": "2023-08-29T11:28:38.954Z"
   },
   {
    "duration": 1951,
    "start_time": "2023-08-29T11:28:39.782Z"
   },
   {
    "duration": 18,
    "start_time": "2023-08-29T11:28:41.734Z"
   },
   {
    "duration": 24,
    "start_time": "2023-08-29T11:28:41.753Z"
   },
   {
    "duration": 25,
    "start_time": "2023-08-29T11:28:41.779Z"
   },
   {
    "duration": 37,
    "start_time": "2023-08-29T11:28:41.805Z"
   },
   {
    "duration": 85,
    "start_time": "2023-08-29T11:28:41.844Z"
   },
   {
    "duration": 12,
    "start_time": "2023-08-29T11:28:41.932Z"
   },
   {
    "duration": 43,
    "start_time": "2023-08-29T11:28:41.946Z"
   },
   {
    "duration": 3,
    "start_time": "2023-08-29T11:28:41.991Z"
   },
   {
    "duration": 15,
    "start_time": "2023-08-29T11:28:41.996Z"
   },
   {
    "duration": 339,
    "start_time": "2023-08-29T11:28:42.013Z"
   },
   {
    "duration": 238,
    "start_time": "2023-08-29T11:28:45.816Z"
   },
   {
    "duration": 174,
    "start_time": "2023-08-29T11:28:53.195Z"
   },
   {
    "duration": 222,
    "start_time": "2023-08-29T11:29:30.420Z"
   },
   {
    "duration": 217,
    "start_time": "2023-08-29T11:29:39.535Z"
   },
   {
    "duration": 190,
    "start_time": "2023-08-29T11:29:39.820Z"
   },
   {
    "duration": 194,
    "start_time": "2023-08-29T11:29:40.457Z"
   },
   {
    "duration": 174,
    "start_time": "2023-08-29T11:29:45.169Z"
   },
   {
    "duration": 4,
    "start_time": "2023-08-29T11:29:47.866Z"
   },
   {
    "duration": 4,
    "start_time": "2023-08-29T16:57:42.312Z"
   },
   {
    "duration": 17,
    "start_time": "2023-08-29T16:57:54.382Z"
   },
   {
    "duration": 9,
    "start_time": "2023-08-29T16:58:25.537Z"
   },
   {
    "duration": 22,
    "start_time": "2023-08-29T16:58:32.155Z"
   },
   {
    "duration": 18,
    "start_time": "2023-08-29T16:58:37.563Z"
   },
   {
    "duration": 18,
    "start_time": "2023-08-29T16:58:39.912Z"
   },
   {
    "duration": 22,
    "start_time": "2023-08-29T16:58:46.303Z"
   },
   {
    "duration": 20,
    "start_time": "2023-08-29T16:58:57.979Z"
   },
   {
    "duration": 76,
    "start_time": "2023-08-29T16:59:07.408Z"
   },
   {
    "duration": 247,
    "start_time": "2023-08-29T16:59:16.318Z"
   },
   {
    "duration": 1768,
    "start_time": "2023-08-29T17:00:43.686Z"
   },
   {
    "duration": 21,
    "start_time": "2023-08-29T17:00:50.526Z"
   },
   {
    "duration": 26,
    "start_time": "2023-08-29T17:00:56.139Z"
   },
   {
    "duration": 270,
    "start_time": "2023-08-29T17:01:03.601Z"
   },
   {
    "duration": 249,
    "start_time": "2023-08-29T17:01:17.458Z"
   },
   {
    "duration": 1618,
    "start_time": "2023-08-30T15:41:48.961Z"
   },
   {
    "duration": 3,
    "start_time": "2023-08-30T15:41:57.277Z"
   },
   {
    "duration": 57,
    "start_time": "2023-08-30T15:41:57.286Z"
   },
   {
    "duration": 4557,
    "start_time": "2023-08-30T15:41:57.345Z"
   },
   {
    "duration": 1605,
    "start_time": "2023-08-30T15:42:01.905Z"
   },
   {
    "duration": 1245,
    "start_time": "2023-08-30T15:42:03.512Z"
   },
   {
    "duration": 151,
    "start_time": "2023-08-30T15:42:04.760Z"
   },
   {
    "duration": 110,
    "start_time": "2023-08-30T15:42:04.913Z"
   },
   {
    "duration": 5,
    "start_time": "2023-08-30T15:42:05.025Z"
   },
   {
    "duration": 70,
    "start_time": "2023-08-30T15:42:05.032Z"
   },
   {
    "duration": 59,
    "start_time": "2023-08-30T15:42:05.104Z"
   },
   {
    "duration": 68,
    "start_time": "2023-08-30T15:42:05.165Z"
   },
   {
    "duration": 54,
    "start_time": "2023-08-30T15:42:05.235Z"
   },
   {
    "duration": 20,
    "start_time": "2023-08-30T15:42:05.292Z"
   },
   {
    "duration": 48,
    "start_time": "2023-08-30T15:42:05.314Z"
   },
   {
    "duration": 42,
    "start_time": "2023-08-30T15:42:05.367Z"
   },
   {
    "duration": 14,
    "start_time": "2023-08-30T15:42:05.411Z"
   },
   {
    "duration": 14,
    "start_time": "2023-08-30T15:42:05.427Z"
   },
   {
    "duration": 89,
    "start_time": "2023-08-30T15:42:05.443Z"
   },
   {
    "duration": 61,
    "start_time": "2023-08-30T15:42:05.534Z"
   },
   {
    "duration": 172,
    "start_time": "2023-08-30T15:42:05.597Z"
   },
   {
    "duration": 14,
    "start_time": "2023-08-30T15:42:05.771Z"
   },
   {
    "duration": 6,
    "start_time": "2023-08-30T15:42:05.786Z"
   },
   {
    "duration": 4300,
    "start_time": "2023-08-30T15:42:05.793Z"
   },
   {
    "duration": 806,
    "start_time": "2023-08-30T15:42:10.095Z"
   },
   {
    "duration": 94,
    "start_time": "2023-08-30T15:42:10.903Z"
   },
   {
    "duration": 138,
    "start_time": "2023-08-30T15:42:10.998Z"
   },
   {
    "duration": 824,
    "start_time": "2023-08-30T15:42:11.138Z"
   },
   {
    "duration": 919,
    "start_time": "2023-08-30T15:42:11.964Z"
   },
   {
    "duration": 1849,
    "start_time": "2023-08-30T15:42:12.884Z"
   },
   {
    "duration": 12,
    "start_time": "2023-08-30T15:42:14.734Z"
   },
   {
    "duration": 35,
    "start_time": "2023-08-30T15:42:14.748Z"
   },
   {
    "duration": 7,
    "start_time": "2023-08-30T15:42:14.785Z"
   },
   {
    "duration": 12,
    "start_time": "2023-08-30T15:42:14.793Z"
   },
   {
    "duration": 49,
    "start_time": "2023-08-30T15:42:14.806Z"
   },
   {
    "duration": 7,
    "start_time": "2023-08-30T15:42:14.857Z"
   },
   {
    "duration": 37,
    "start_time": "2023-08-30T15:42:14.865Z"
   },
   {
    "duration": 167,
    "start_time": "2023-08-30T15:42:14.904Z"
   },
   {
    "duration": 34,
    "start_time": "2023-08-30T15:42:15.073Z"
   },
   {
    "duration": 299,
    "start_time": "2023-08-30T15:42:15.109Z"
   },
   {
    "duration": 203,
    "start_time": "2023-08-30T15:42:15.410Z"
   },
   {
    "duration": 205,
    "start_time": "2023-08-30T15:42:15.615Z"
   },
   {
    "duration": 208,
    "start_time": "2023-08-30T15:42:15.825Z"
   },
   {
    "duration": 4,
    "start_time": "2023-08-30T15:42:16.036Z"
   },
   {
    "duration": 22,
    "start_time": "2023-08-30T15:42:16.042Z"
   },
   {
    "duration": 25,
    "start_time": "2023-08-30T15:42:16.065Z"
   },
   {
    "duration": 22,
    "start_time": "2023-08-30T15:42:16.093Z"
   },
   {
    "duration": 335,
    "start_time": "2023-08-30T15:42:16.117Z"
   },
   {
    "duration": 330,
    "start_time": "2023-08-30T15:42:16.453Z"
   },
   {
    "duration": 81,
    "start_time": "2023-08-30T15:47:01.597Z"
   },
   {
    "duration": 127,
    "start_time": "2023-08-30T15:47:51.954Z"
   },
   {
    "duration": 114,
    "start_time": "2023-08-30T15:54:58.695Z"
   },
   {
    "duration": 116,
    "start_time": "2023-08-30T15:56:01.328Z"
   },
   {
    "duration": 116,
    "start_time": "2023-08-30T15:56:51.115Z"
   },
   {
    "duration": 3,
    "start_time": "2023-08-30T15:57:00.013Z"
   },
   {
    "duration": 63,
    "start_time": "2023-08-30T16:03:10.297Z"
   },
   {
    "duration": 4,
    "start_time": "2023-08-30T16:07:40.330Z"
   },
   {
    "duration": 104,
    "start_time": "2023-08-30T16:11:13.492Z"
   },
   {
    "duration": 69,
    "start_time": "2023-08-30T16:11:23.602Z"
   },
   {
    "duration": 88,
    "start_time": "2023-08-30T16:11:32.288Z"
   },
   {
    "duration": 15,
    "start_time": "2023-08-30T16:12:02.004Z"
   },
   {
    "duration": 3,
    "start_time": "2023-08-30T16:12:29.946Z"
   },
   {
    "duration": 5,
    "start_time": "2023-08-30T16:12:36.906Z"
   },
   {
    "duration": 38,
    "start_time": "2023-08-30T16:12:49.780Z"
   },
   {
    "duration": 38,
    "start_time": "2023-08-30T16:13:44.621Z"
   },
   {
    "duration": 38,
    "start_time": "2023-08-30T16:14:41.990Z"
   },
   {
    "duration": 4,
    "start_time": "2023-08-30T16:14:47.419Z"
   },
   {
    "duration": 38,
    "start_time": "2023-08-30T16:14:47.650Z"
   },
   {
    "duration": 3,
    "start_time": "2023-08-30T16:15:06.859Z"
   },
   {
    "duration": 38,
    "start_time": "2023-08-30T16:15:10.259Z"
   },
   {
    "duration": 255,
    "start_time": "2023-08-30T16:17:05.516Z"
   },
   {
    "duration": 10,
    "start_time": "2023-08-30T16:24:44.381Z"
   },
   {
    "duration": 30,
    "start_time": "2023-08-30T16:25:06.635Z"
   },
   {
    "duration": 80,
    "start_time": "2023-08-30T16:25:12.023Z"
   },
   {
    "duration": 5,
    "start_time": "2023-08-30T16:43:41.767Z"
   },
   {
    "duration": 12,
    "start_time": "2023-08-30T16:43:41.774Z"
   },
   {
    "duration": 5,
    "start_time": "2023-08-30T16:43:49.998Z"
   },
   {
    "duration": 9,
    "start_time": "2023-08-30T16:54:25.714Z"
   },
   {
    "duration": 3,
    "start_time": "2023-08-30T16:54:33.518Z"
   },
   {
    "duration": 3,
    "start_time": "2023-08-30T17:11:56.643Z"
   },
   {
    "duration": 4,
    "start_time": "2023-08-30T17:12:27.010Z"
   },
   {
    "duration": 42,
    "start_time": "2023-08-30T17:12:27.015Z"
   },
   {
    "duration": 2576,
    "start_time": "2023-08-30T17:12:27.058Z"
   },
   {
    "duration": 1686,
    "start_time": "2023-08-30T17:12:29.637Z"
   },
   {
    "duration": 844,
    "start_time": "2023-08-30T17:12:31.325Z"
   },
   {
    "duration": 163,
    "start_time": "2023-08-30T17:12:32.170Z"
   },
   {
    "duration": 106,
    "start_time": "2023-08-30T17:12:32.335Z"
   },
   {
    "duration": 5,
    "start_time": "2023-08-30T17:12:32.443Z"
   },
   {
    "duration": 91,
    "start_time": "2023-08-30T17:12:32.450Z"
   },
   {
    "duration": 60,
    "start_time": "2023-08-30T17:12:32.543Z"
   },
   {
    "duration": 51,
    "start_time": "2023-08-30T17:12:32.605Z"
   },
   {
    "duration": 48,
    "start_time": "2023-08-30T17:12:32.658Z"
   },
   {
    "duration": 12,
    "start_time": "2023-08-30T17:12:32.708Z"
   },
   {
    "duration": 41,
    "start_time": "2023-08-30T17:12:32.721Z"
   },
   {
    "duration": 24,
    "start_time": "2023-08-30T17:12:32.763Z"
   },
   {
    "duration": 13,
    "start_time": "2023-08-30T17:12:32.789Z"
   },
   {
    "duration": 35,
    "start_time": "2023-08-30T17:12:32.804Z"
   },
   {
    "duration": 97,
    "start_time": "2023-08-30T17:12:32.840Z"
   },
   {
    "duration": 70,
    "start_time": "2023-08-30T17:12:32.939Z"
   },
   {
    "duration": 143,
    "start_time": "2023-08-30T17:12:33.010Z"
   },
   {
    "duration": 14,
    "start_time": "2023-08-30T17:12:33.154Z"
   },
   {
    "duration": 5,
    "start_time": "2023-08-30T17:12:33.169Z"
   },
   {
    "duration": 4435,
    "start_time": "2023-08-30T17:12:33.182Z"
   },
   {
    "duration": 759,
    "start_time": "2023-08-30T17:12:37.621Z"
   },
   {
    "duration": 83,
    "start_time": "2023-08-30T17:12:38.382Z"
   },
   {
    "duration": 140,
    "start_time": "2023-08-30T17:12:38.467Z"
   },
   {
    "duration": 825,
    "start_time": "2023-08-30T17:12:38.608Z"
   },
   {
    "duration": 825,
    "start_time": "2023-08-30T17:12:39.435Z"
   },
   {
    "duration": 2021,
    "start_time": "2023-08-30T17:12:40.262Z"
   },
   {
    "duration": 11,
    "start_time": "2023-08-30T17:12:42.285Z"
   },
   {
    "duration": 39,
    "start_time": "2023-08-30T17:12:42.298Z"
   },
   {
    "duration": 7,
    "start_time": "2023-08-30T17:12:42.338Z"
   },
   {
    "duration": 14,
    "start_time": "2023-08-30T17:12:42.347Z"
   },
   {
    "duration": 38,
    "start_time": "2023-08-30T17:12:42.363Z"
   },
   {
    "duration": 6,
    "start_time": "2023-08-30T17:12:42.403Z"
   },
   {
    "duration": 31,
    "start_time": "2023-08-30T17:12:42.411Z"
   },
   {
    "duration": 4,
    "start_time": "2023-08-30T17:12:42.443Z"
   },
   {
    "duration": 32,
    "start_time": "2023-08-30T17:12:42.449Z"
   },
   {
    "duration": 276,
    "start_time": "2023-08-30T17:12:42.483Z"
   },
   {
    "duration": 188,
    "start_time": "2023-08-30T17:12:42.761Z"
   },
   {
    "duration": 218,
    "start_time": "2023-08-30T17:12:42.951Z"
   },
   {
    "duration": 178,
    "start_time": "2023-08-30T17:12:43.170Z"
   },
   {
    "duration": 4,
    "start_time": "2023-08-30T17:12:43.349Z"
   },
   {
    "duration": 17,
    "start_time": "2023-08-30T17:12:43.355Z"
   },
   {
    "duration": 27,
    "start_time": "2023-08-30T17:12:43.373Z"
   },
   {
    "duration": 20,
    "start_time": "2023-08-30T17:12:43.401Z"
   },
   {
    "duration": 294,
    "start_time": "2023-08-30T17:12:43.423Z"
   },
   {
    "duration": 277,
    "start_time": "2023-08-30T17:12:43.720Z"
   },
   {
    "duration": 120,
    "start_time": "2023-08-30T17:12:43.999Z"
   },
   {
    "duration": 3,
    "start_time": "2023-08-30T17:12:44.121Z"
   },
   {
    "duration": 31,
    "start_time": "2023-08-30T17:12:44.126Z"
   },
   {
    "duration": 27,
    "start_time": "2023-08-30T17:12:44.159Z"
   },
   {
    "duration": 18,
    "start_time": "2023-08-30T17:16:23.300Z"
   },
   {
    "duration": 23,
    "start_time": "2023-08-30T17:25:37.609Z"
   },
   {
    "duration": 179,
    "start_time": "2023-08-30T17:30:53.962Z"
   },
   {
    "duration": 185,
    "start_time": "2023-08-30T17:31:18.605Z"
   },
   {
    "duration": 972,
    "start_time": "2023-08-30T17:31:43.266Z"
   },
   {
    "duration": 905,
    "start_time": "2023-08-30T17:36:01.339Z"
   },
   {
    "duration": 3354,
    "start_time": "2023-08-30T17:36:06.195Z"
   },
   {
    "duration": 50,
    "start_time": "2023-08-30T17:41:57.625Z"
   },
   {
    "duration": 1563,
    "start_time": "2023-08-30T17:42:06.337Z"
   },
   {
    "duration": 31,
    "start_time": "2023-08-30T17:42:07.902Z"
   },
   {
    "duration": 2696,
    "start_time": "2023-08-30T17:42:07.935Z"
   },
   {
    "duration": 1780,
    "start_time": "2023-08-30T17:42:10.634Z"
   },
   {
    "duration": 1300,
    "start_time": "2023-08-30T17:42:12.417Z"
   },
   {
    "duration": 152,
    "start_time": "2023-08-30T17:42:13.718Z"
   },
   {
    "duration": 121,
    "start_time": "2023-08-30T17:42:13.872Z"
   },
   {
    "duration": 5,
    "start_time": "2023-08-30T17:42:13.996Z"
   },
   {
    "duration": 87,
    "start_time": "2023-08-30T17:42:14.003Z"
   },
   {
    "duration": 59,
    "start_time": "2023-08-30T17:42:14.095Z"
   },
   {
    "duration": 68,
    "start_time": "2023-08-30T17:42:14.156Z"
   },
   {
    "duration": 64,
    "start_time": "2023-08-30T17:42:14.226Z"
   },
   {
    "duration": 6,
    "start_time": "2023-08-30T17:42:14.293Z"
   },
   {
    "duration": 32,
    "start_time": "2023-08-30T17:42:14.301Z"
   },
   {
    "duration": 5,
    "start_time": "2023-08-30T17:42:14.335Z"
   },
   {
    "duration": 13,
    "start_time": "2023-08-30T17:42:14.342Z"
   },
   {
    "duration": 24,
    "start_time": "2023-08-30T17:42:14.357Z"
   },
   {
    "duration": 106,
    "start_time": "2023-08-30T17:42:14.384Z"
   },
   {
    "duration": 59,
    "start_time": "2023-08-30T17:42:14.493Z"
   },
   {
    "duration": 179,
    "start_time": "2023-08-30T17:42:14.554Z"
   },
   {
    "duration": 14,
    "start_time": "2023-08-30T17:42:14.735Z"
   },
   {
    "duration": 2,
    "start_time": "2023-08-30T17:42:14.751Z"
   },
   {
    "duration": 4578,
    "start_time": "2023-08-30T17:42:14.755Z"
   },
   {
    "duration": 873,
    "start_time": "2023-08-30T17:42:19.335Z"
   },
   {
    "duration": 97,
    "start_time": "2023-08-30T17:42:20.209Z"
   },
   {
    "duration": 161,
    "start_time": "2023-08-30T17:42:20.308Z"
   },
   {
    "duration": 900,
    "start_time": "2023-08-30T17:42:20.471Z"
   },
   {
    "duration": 985,
    "start_time": "2023-08-30T17:42:21.385Z"
   },
   {
    "duration": 1985,
    "start_time": "2023-08-30T17:42:22.372Z"
   },
   {
    "duration": 24,
    "start_time": "2023-08-30T17:42:24.359Z"
   },
   {
    "duration": 29,
    "start_time": "2023-08-30T17:42:24.391Z"
   },
   {
    "duration": 8,
    "start_time": "2023-08-30T17:42:24.422Z"
   },
   {
    "duration": 8,
    "start_time": "2023-08-30T17:42:24.431Z"
   },
   {
    "duration": 61,
    "start_time": "2023-08-30T17:42:24.440Z"
   },
   {
    "duration": 7,
    "start_time": "2023-08-30T17:42:24.503Z"
   },
   {
    "duration": 28,
    "start_time": "2023-08-30T17:42:24.511Z"
   },
   {
    "duration": 3,
    "start_time": "2023-08-30T17:42:24.540Z"
   },
   {
    "duration": 15,
    "start_time": "2023-08-30T17:42:24.545Z"
   },
   {
    "duration": 320,
    "start_time": "2023-08-30T17:42:24.562Z"
   },
   {
    "duration": 221,
    "start_time": "2023-08-30T17:42:24.885Z"
   },
   {
    "duration": 229,
    "start_time": "2023-08-30T17:42:25.108Z"
   },
   {
    "duration": 199,
    "start_time": "2023-08-30T17:42:25.339Z"
   },
   {
    "duration": 4,
    "start_time": "2023-08-30T17:42:25.539Z"
   },
   {
    "duration": 14,
    "start_time": "2023-08-30T17:42:25.545Z"
   },
   {
    "duration": 36,
    "start_time": "2023-08-30T17:42:25.561Z"
   },
   {
    "duration": 19,
    "start_time": "2023-08-30T17:42:25.599Z"
   },
   {
    "duration": 326,
    "start_time": "2023-08-30T17:42:25.620Z"
   },
   {
    "duration": 287,
    "start_time": "2023-08-30T17:42:25.948Z"
   },
   {
    "duration": 155,
    "start_time": "2023-08-30T17:42:26.236Z"
   },
   {
    "duration": 4,
    "start_time": "2023-08-30T17:42:26.395Z"
   },
   {
    "duration": 13,
    "start_time": "2023-08-30T17:42:26.401Z"
   },
   {
    "duration": 152,
    "start_time": "2023-08-30T17:42:29.095Z"
   },
   {
    "duration": 1194,
    "start_time": "2023-08-30T17:43:37.881Z"
   },
   {
    "duration": 25,
    "start_time": "2023-08-30T17:53:26.190Z"
   },
   {
    "duration": 1201,
    "start_time": "2023-08-30T17:53:31.995Z"
   },
   {
    "duration": 1061,
    "start_time": "2023-08-30T17:53:45.778Z"
   },
   {
    "duration": 1456,
    "start_time": "2023-08-30T17:54:29.735Z"
   },
   {
    "duration": 44,
    "start_time": "2023-08-30T17:54:31.193Z"
   },
   {
    "duration": 2542,
    "start_time": "2023-08-30T17:54:31.239Z"
   },
   {
    "duration": 1658,
    "start_time": "2023-08-30T17:54:33.784Z"
   },
   {
    "duration": 1221,
    "start_time": "2023-08-30T17:54:35.445Z"
   },
   {
    "duration": 185,
    "start_time": "2023-08-30T17:54:36.669Z"
   },
   {
    "duration": 103,
    "start_time": "2023-08-30T17:54:36.857Z"
   },
   {
    "duration": 5,
    "start_time": "2023-08-30T17:54:36.962Z"
   },
   {
    "duration": 57,
    "start_time": "2023-08-30T17:54:36.981Z"
   },
   {
    "duration": 66,
    "start_time": "2023-08-30T17:54:37.041Z"
   },
   {
    "duration": 53,
    "start_time": "2023-08-30T17:54:37.109Z"
   },
   {
    "duration": 62,
    "start_time": "2023-08-30T17:54:37.163Z"
   },
   {
    "duration": 5,
    "start_time": "2023-08-30T17:54:37.228Z"
   },
   {
    "duration": 51,
    "start_time": "2023-08-30T17:54:37.236Z"
   },
   {
    "duration": 5,
    "start_time": "2023-08-30T17:54:37.289Z"
   },
   {
    "duration": 6,
    "start_time": "2023-08-30T17:54:37.295Z"
   },
   {
    "duration": 5,
    "start_time": "2023-08-30T17:54:37.303Z"
   },
   {
    "duration": 106,
    "start_time": "2023-08-30T17:54:37.309Z"
   },
   {
    "duration": 66,
    "start_time": "2023-08-30T17:54:37.416Z"
   },
   {
    "duration": 158,
    "start_time": "2023-08-30T17:54:37.483Z"
   },
   {
    "duration": 14,
    "start_time": "2023-08-30T17:54:37.642Z"
   },
   {
    "duration": 3,
    "start_time": "2023-08-30T17:54:37.657Z"
   },
   {
    "duration": 4107,
    "start_time": "2023-08-30T17:54:37.661Z"
   },
   {
    "duration": 796,
    "start_time": "2023-08-30T17:54:41.769Z"
   },
   {
    "duration": 99,
    "start_time": "2023-08-30T17:54:42.567Z"
   },
   {
    "duration": 144,
    "start_time": "2023-08-30T17:54:42.668Z"
   },
   {
    "duration": 830,
    "start_time": "2023-08-30T17:54:42.814Z"
   },
   {
    "duration": 907,
    "start_time": "2023-08-30T17:54:43.647Z"
   },
   {
    "duration": 1867,
    "start_time": "2023-08-30T17:54:44.556Z"
   },
   {
    "duration": 12,
    "start_time": "2023-08-30T17:54:46.425Z"
   },
   {
    "duration": 25,
    "start_time": "2023-08-30T17:54:46.438Z"
   },
   {
    "duration": 20,
    "start_time": "2023-08-30T17:54:46.465Z"
   },
   {
    "duration": 13,
    "start_time": "2023-08-30T17:54:46.486Z"
   },
   {
    "duration": 36,
    "start_time": "2023-08-30T17:54:46.501Z"
   },
   {
    "duration": 6,
    "start_time": "2023-08-30T17:54:46.538Z"
   },
   {
    "duration": 46,
    "start_time": "2023-08-30T17:54:46.546Z"
   },
   {
    "duration": 3,
    "start_time": "2023-08-30T17:54:46.594Z"
   },
   {
    "duration": 9,
    "start_time": "2023-08-30T17:54:46.598Z"
   },
   {
    "duration": 280,
    "start_time": "2023-08-30T17:54:46.609Z"
   },
   {
    "duration": 195,
    "start_time": "2023-08-30T17:54:46.891Z"
   },
   {
    "duration": 252,
    "start_time": "2023-08-30T17:54:47.088Z"
   },
   {
    "duration": 198,
    "start_time": "2023-08-30T17:54:47.342Z"
   },
   {
    "duration": 4,
    "start_time": "2023-08-30T17:54:47.542Z"
   },
   {
    "duration": 11,
    "start_time": "2023-08-30T17:54:47.547Z"
   },
   {
    "duration": 28,
    "start_time": "2023-08-30T17:54:47.560Z"
   },
   {
    "duration": 19,
    "start_time": "2023-08-30T17:54:47.590Z"
   },
   {
    "duration": 280,
    "start_time": "2023-08-30T17:54:47.611Z"
   },
   {
    "duration": 269,
    "start_time": "2023-08-30T17:54:47.893Z"
   },
   {
    "duration": 119,
    "start_time": "2023-08-30T17:54:48.163Z"
   },
   {
    "duration": 4,
    "start_time": "2023-08-30T17:54:48.284Z"
   },
   {
    "duration": 26,
    "start_time": "2023-08-30T17:54:48.290Z"
   },
   {
    "duration": 61,
    "start_time": "2023-08-30T17:54:48.320Z"
   },
   {
    "duration": 168,
    "start_time": "2023-08-30T17:55:20.477Z"
   },
   {
    "duration": 887,
    "start_time": "2023-08-30T17:56:27.694Z"
   },
   {
    "duration": 75,
    "start_time": "2023-08-30T17:56:49.321Z"
   },
   {
    "duration": 1553,
    "start_time": "2023-08-30T17:57:22.508Z"
   },
   {
    "duration": 43,
    "start_time": "2023-08-30T17:57:24.064Z"
   },
   {
    "duration": 2609,
    "start_time": "2023-08-30T17:57:24.110Z"
   },
   {
    "duration": 1785,
    "start_time": "2023-08-30T17:57:26.722Z"
   },
   {
    "duration": 1217,
    "start_time": "2023-08-30T17:57:28.509Z"
   },
   {
    "duration": 144,
    "start_time": "2023-08-30T17:57:29.728Z"
   },
   {
    "duration": 117,
    "start_time": "2023-08-30T17:57:29.874Z"
   },
   {
    "duration": 5,
    "start_time": "2023-08-30T17:57:29.993Z"
   },
   {
    "duration": 60,
    "start_time": "2023-08-30T17:57:30.000Z"
   },
   {
    "duration": 75,
    "start_time": "2023-08-30T17:57:30.064Z"
   },
   {
    "duration": 62,
    "start_time": "2023-08-30T17:57:30.141Z"
   },
   {
    "duration": 73,
    "start_time": "2023-08-30T17:57:30.205Z"
   },
   {
    "duration": 33,
    "start_time": "2023-08-30T17:57:30.281Z"
   },
   {
    "duration": 75,
    "start_time": "2023-08-30T17:57:30.316Z"
   },
   {
    "duration": 24,
    "start_time": "2023-08-30T17:57:30.393Z"
   },
   {
    "duration": 58,
    "start_time": "2023-08-30T17:57:30.418Z"
   },
   {
    "duration": 40,
    "start_time": "2023-08-30T17:57:30.478Z"
   },
   {
    "duration": 127,
    "start_time": "2023-08-30T17:57:30.519Z"
   },
   {
    "duration": 84,
    "start_time": "2023-08-30T17:57:30.647Z"
   },
   {
    "duration": 183,
    "start_time": "2023-08-30T17:57:30.733Z"
   },
   {
    "duration": 13,
    "start_time": "2023-08-30T17:57:30.918Z"
   },
   {
    "duration": 19,
    "start_time": "2023-08-30T17:57:30.933Z"
   },
   {
    "duration": 4244,
    "start_time": "2023-08-30T17:57:30.954Z"
   },
   {
    "duration": 782,
    "start_time": "2023-08-30T17:57:35.200Z"
   },
   {
    "duration": 84,
    "start_time": "2023-08-30T17:57:35.984Z"
   },
   {
    "duration": 136,
    "start_time": "2023-08-30T17:57:36.070Z"
   },
   {
    "duration": 905,
    "start_time": "2023-08-30T17:57:36.207Z"
   },
   {
    "duration": 899,
    "start_time": "2023-08-30T17:57:37.116Z"
   },
   {
    "duration": 1786,
    "start_time": "2023-08-30T17:57:38.016Z"
   },
   {
    "duration": 11,
    "start_time": "2023-08-30T17:57:39.804Z"
   },
   {
    "duration": 26,
    "start_time": "2023-08-30T17:57:39.817Z"
   },
   {
    "duration": 7,
    "start_time": "2023-08-30T17:57:39.845Z"
   },
   {
    "duration": 29,
    "start_time": "2023-08-30T17:57:39.854Z"
   },
   {
    "duration": 45,
    "start_time": "2023-08-30T17:57:39.885Z"
   },
   {
    "duration": 7,
    "start_time": "2023-08-30T17:57:39.931Z"
   },
   {
    "duration": 42,
    "start_time": "2023-08-30T17:57:39.940Z"
   },
   {
    "duration": 3,
    "start_time": "2023-08-30T17:57:39.984Z"
   },
   {
    "duration": 13,
    "start_time": "2023-08-30T17:57:39.988Z"
   },
   {
    "duration": 278,
    "start_time": "2023-08-30T17:57:40.003Z"
   },
   {
    "duration": 204,
    "start_time": "2023-08-30T17:57:40.282Z"
   },
   {
    "duration": 211,
    "start_time": "2023-08-30T17:57:40.487Z"
   },
   {
    "duration": 177,
    "start_time": "2023-08-30T17:57:40.700Z"
   },
   {
    "duration": 5,
    "start_time": "2023-08-30T17:57:40.880Z"
   },
   {
    "duration": 15,
    "start_time": "2023-08-30T17:57:40.886Z"
   },
   {
    "duration": 23,
    "start_time": "2023-08-30T17:57:40.903Z"
   },
   {
    "duration": 31,
    "start_time": "2023-08-30T17:57:40.927Z"
   },
   {
    "duration": 277,
    "start_time": "2023-08-30T17:57:40.960Z"
   },
   {
    "duration": 244,
    "start_time": "2023-08-30T17:57:41.239Z"
   },
   {
    "duration": 116,
    "start_time": "2023-08-30T17:57:41.485Z"
   },
   {
    "duration": 4,
    "start_time": "2023-08-30T17:57:41.603Z"
   },
   {
    "duration": 25,
    "start_time": "2023-08-30T17:57:41.608Z"
   },
   {
    "duration": 56621,
    "start_time": "2023-08-30T17:57:41.634Z"
   },
   {
    "duration": 25,
    "start_time": "2023-08-30T17:59:11.068Z"
   },
   {
    "duration": 398,
    "start_time": "2023-08-30T18:06:55.142Z"
   },
   {
    "duration": 16535,
    "start_time": "2023-08-30T18:07:06.136Z"
   },
   {
    "duration": 16160,
    "start_time": "2023-08-30T18:08:18.382Z"
   },
   {
    "duration": 1569,
    "start_time": "2023-08-30T18:14:28.652Z"
   },
   {
    "duration": 40,
    "start_time": "2023-08-30T18:14:30.223Z"
   },
   {
    "duration": 2531,
    "start_time": "2023-08-30T18:14:30.265Z"
   },
   {
    "duration": 1595,
    "start_time": "2023-08-30T18:14:32.799Z"
   },
   {
    "duration": 952,
    "start_time": "2023-08-30T18:14:34.396Z"
   },
   {
    "duration": 156,
    "start_time": "2023-08-30T18:14:35.350Z"
   },
   {
    "duration": 112,
    "start_time": "2023-08-30T18:14:35.508Z"
   },
   {
    "duration": 5,
    "start_time": "2023-08-30T18:14:35.622Z"
   },
   {
    "duration": 75,
    "start_time": "2023-08-30T18:14:35.629Z"
   },
   {
    "duration": 58,
    "start_time": "2023-08-30T18:14:35.707Z"
   },
   {
    "duration": 61,
    "start_time": "2023-08-30T18:14:35.767Z"
   },
   {
    "duration": 53,
    "start_time": "2023-08-30T18:14:35.829Z"
   },
   {
    "duration": 21,
    "start_time": "2023-08-30T18:14:35.884Z"
   },
   {
    "duration": 53,
    "start_time": "2023-08-30T18:14:35.907Z"
   },
   {
    "duration": 17,
    "start_time": "2023-08-30T18:14:35.962Z"
   },
   {
    "duration": 22,
    "start_time": "2023-08-30T18:14:35.980Z"
   },
   {
    "duration": 15,
    "start_time": "2023-08-30T18:14:36.004Z"
   },
   {
    "duration": 106,
    "start_time": "2023-08-30T18:14:36.021Z"
   },
   {
    "duration": 63,
    "start_time": "2023-08-30T18:14:36.129Z"
   },
   {
    "duration": 184,
    "start_time": "2023-08-30T18:14:36.194Z"
   },
   {
    "duration": 14,
    "start_time": "2023-08-30T18:14:36.380Z"
   },
   {
    "duration": 30,
    "start_time": "2023-08-30T18:14:36.396Z"
   },
   {
    "duration": 4217,
    "start_time": "2023-08-30T18:14:36.428Z"
   },
   {
    "duration": 792,
    "start_time": "2023-08-30T18:14:40.647Z"
   },
   {
    "duration": 83,
    "start_time": "2023-08-30T18:14:41.440Z"
   },
   {
    "duration": 135,
    "start_time": "2023-08-30T18:14:41.525Z"
   },
   {
    "duration": 832,
    "start_time": "2023-08-30T18:14:41.662Z"
   },
   {
    "duration": 907,
    "start_time": "2023-08-30T18:14:42.498Z"
   },
   {
    "duration": 1811,
    "start_time": "2023-08-30T18:14:43.407Z"
   },
   {
    "duration": 13,
    "start_time": "2023-08-30T18:14:45.220Z"
   },
   {
    "duration": 27,
    "start_time": "2023-08-30T18:14:45.234Z"
   },
   {
    "duration": 20,
    "start_time": "2023-08-30T18:14:45.262Z"
   },
   {
    "duration": 6,
    "start_time": "2023-08-30T18:14:45.284Z"
   },
   {
    "duration": 33,
    "start_time": "2023-08-30T18:14:45.291Z"
   },
   {
    "duration": 6,
    "start_time": "2023-08-30T18:14:45.326Z"
   },
   {
    "duration": 50,
    "start_time": "2023-08-30T18:14:45.334Z"
   },
   {
    "duration": 3,
    "start_time": "2023-08-30T18:14:45.386Z"
   },
   {
    "duration": 14,
    "start_time": "2023-08-30T18:14:45.390Z"
   },
   {
    "duration": 276,
    "start_time": "2023-08-30T18:14:45.405Z"
   },
   {
    "duration": 192,
    "start_time": "2023-08-30T18:14:45.682Z"
   },
   {
    "duration": 203,
    "start_time": "2023-08-30T18:14:45.876Z"
   },
   {
    "duration": 175,
    "start_time": "2023-08-30T18:14:46.081Z"
   },
   {
    "duration": 5,
    "start_time": "2023-08-30T18:14:46.258Z"
   },
   {
    "duration": 25,
    "start_time": "2023-08-30T18:14:46.264Z"
   },
   {
    "duration": 28,
    "start_time": "2023-08-30T18:14:46.290Z"
   },
   {
    "duration": 24,
    "start_time": "2023-08-30T18:14:46.320Z"
   },
   {
    "duration": 268,
    "start_time": "2023-08-30T18:14:46.346Z"
   },
   {
    "duration": 311,
    "start_time": "2023-08-30T18:14:46.616Z"
   },
   {
    "duration": 120,
    "start_time": "2023-08-30T18:14:46.929Z"
   },
   {
    "duration": 6,
    "start_time": "2023-08-30T18:14:47.051Z"
   },
   {
    "duration": 56002,
    "start_time": "2023-08-30T18:14:47.059Z"
   },
   {
    "duration": 19105,
    "start_time": "2023-08-30T18:15:43.063Z"
   },
   {
    "duration": 20795,
    "start_time": "2023-08-30T18:16:02.170Z"
   },
   {
    "duration": 4,
    "start_time": "2023-08-30T18:16:22.967Z"
   },
   {
    "duration": 173,
    "start_time": "2023-08-30T18:16:22.982Z"
   },
   {
    "duration": 0,
    "start_time": "2023-08-30T18:16:23.157Z"
   },
   {
    "duration": 0,
    "start_time": "2023-08-30T18:16:23.158Z"
   },
   {
    "duration": 0,
    "start_time": "2023-08-30T18:16:23.160Z"
   },
   {
    "duration": 284,
    "start_time": "2023-08-30T18:22:07.594Z"
   },
   {
    "duration": 81,
    "start_time": "2023-08-30T18:33:25.907Z"
   },
   {
    "duration": 85,
    "start_time": "2023-08-30T18:33:49.009Z"
   },
   {
    "duration": 5,
    "start_time": "2023-08-30T18:34:02.202Z"
   },
   {
    "duration": 1429,
    "start_time": "2023-08-30T18:34:19.934Z"
   },
   {
    "duration": 33,
    "start_time": "2023-08-30T18:34:21.365Z"
   },
   {
    "duration": 2582,
    "start_time": "2023-08-30T18:34:21.400Z"
   },
   {
    "duration": 1585,
    "start_time": "2023-08-30T18:34:23.984Z"
   },
   {
    "duration": 915,
    "start_time": "2023-08-30T18:34:25.571Z"
   },
   {
    "duration": 153,
    "start_time": "2023-08-30T18:34:26.489Z"
   },
   {
    "duration": 128,
    "start_time": "2023-08-30T18:34:26.644Z"
   },
   {
    "duration": 12,
    "start_time": "2023-08-30T18:34:26.774Z"
   },
   {
    "duration": 68,
    "start_time": "2023-08-30T18:34:26.788Z"
   },
   {
    "duration": 79,
    "start_time": "2023-08-30T18:34:26.859Z"
   },
   {
    "duration": 58,
    "start_time": "2023-08-30T18:34:26.940Z"
   },
   {
    "duration": 47,
    "start_time": "2023-08-30T18:34:27.000Z"
   },
   {
    "duration": 8,
    "start_time": "2023-08-30T18:34:27.049Z"
   },
   {
    "duration": 47,
    "start_time": "2023-08-30T18:34:27.059Z"
   },
   {
    "duration": 10,
    "start_time": "2023-08-30T18:34:27.108Z"
   },
   {
    "duration": 6,
    "start_time": "2023-08-30T18:34:27.120Z"
   },
   {
    "duration": 5,
    "start_time": "2023-08-30T18:34:27.127Z"
   },
   {
    "duration": 113,
    "start_time": "2023-08-30T18:34:27.133Z"
   },
   {
    "duration": 65,
    "start_time": "2023-08-30T18:34:27.248Z"
   },
   {
    "duration": 167,
    "start_time": "2023-08-30T18:34:27.314Z"
   },
   {
    "duration": 14,
    "start_time": "2023-08-30T18:34:27.483Z"
   },
   {
    "duration": 3,
    "start_time": "2023-08-30T18:34:27.498Z"
   },
   {
    "duration": 4254,
    "start_time": "2023-08-30T18:34:27.503Z"
   },
   {
    "duration": 829,
    "start_time": "2023-08-30T18:34:31.759Z"
   },
   {
    "duration": 92,
    "start_time": "2023-08-30T18:34:32.589Z"
   },
   {
    "duration": 143,
    "start_time": "2023-08-30T18:34:32.683Z"
   },
   {
    "duration": 839,
    "start_time": "2023-08-30T18:34:32.827Z"
   },
   {
    "duration": 927,
    "start_time": "2023-08-30T18:34:33.670Z"
   },
   {
    "duration": 1868,
    "start_time": "2023-08-30T18:34:34.598Z"
   },
   {
    "duration": 22,
    "start_time": "2023-08-30T18:34:36.468Z"
   },
   {
    "duration": 27,
    "start_time": "2023-08-30T18:34:36.491Z"
   },
   {
    "duration": 7,
    "start_time": "2023-08-30T18:34:36.519Z"
   },
   {
    "duration": 4,
    "start_time": "2023-08-30T18:34:36.527Z"
   },
   {
    "duration": 55,
    "start_time": "2023-08-30T18:34:36.533Z"
   },
   {
    "duration": 6,
    "start_time": "2023-08-30T18:34:36.590Z"
   },
   {
    "duration": 25,
    "start_time": "2023-08-30T18:34:36.598Z"
   },
   {
    "duration": 3,
    "start_time": "2023-08-30T18:34:36.625Z"
   },
   {
    "duration": 11,
    "start_time": "2023-08-30T18:34:36.629Z"
   },
   {
    "duration": 356,
    "start_time": "2023-08-30T18:34:36.641Z"
   },
   {
    "duration": 196,
    "start_time": "2023-08-30T18:34:36.999Z"
   },
   {
    "duration": 221,
    "start_time": "2023-08-30T18:34:37.197Z"
   },
   {
    "duration": 177,
    "start_time": "2023-08-30T18:34:37.419Z"
   },
   {
    "duration": 3,
    "start_time": "2023-08-30T18:34:37.598Z"
   },
   {
    "duration": 9,
    "start_time": "2023-08-30T18:34:37.603Z"
   },
   {
    "duration": 23,
    "start_time": "2023-08-30T18:34:37.614Z"
   },
   {
    "duration": 20,
    "start_time": "2023-08-30T18:34:37.639Z"
   },
   {
    "duration": 287,
    "start_time": "2023-08-30T18:34:37.660Z"
   },
   {
    "duration": 258,
    "start_time": "2023-08-30T18:34:37.949Z"
   },
   {
    "duration": 120,
    "start_time": "2023-08-30T18:34:38.209Z"
   },
   {
    "duration": 5,
    "start_time": "2023-08-30T18:34:38.331Z"
   },
   {
    "duration": 54011,
    "start_time": "2023-08-30T18:34:38.338Z"
   },
   {
    "duration": 0,
    "start_time": "2023-08-30T18:35:32.351Z"
   },
   {
    "duration": 0,
    "start_time": "2023-08-30T18:35:32.354Z"
   },
   {
    "duration": 0,
    "start_time": "2023-08-30T18:35:32.355Z"
   },
   {
    "duration": 0,
    "start_time": "2023-08-30T18:35:32.357Z"
   },
   {
    "duration": 0,
    "start_time": "2023-08-30T18:35:32.358Z"
   },
   {
    "duration": 0,
    "start_time": "2023-08-30T18:35:32.360Z"
   },
   {
    "duration": 0,
    "start_time": "2023-08-30T18:35:32.361Z"
   },
   {
    "duration": 1418,
    "start_time": "2023-08-30T18:36:16.827Z"
   },
   {
    "duration": 31,
    "start_time": "2023-08-30T18:36:18.247Z"
   },
   {
    "duration": 2497,
    "start_time": "2023-08-30T18:36:18.282Z"
   },
   {
    "duration": 1619,
    "start_time": "2023-08-30T18:36:20.781Z"
   },
   {
    "duration": 1042,
    "start_time": "2023-08-30T18:36:22.403Z"
   },
   {
    "duration": 148,
    "start_time": "2023-08-30T18:36:23.447Z"
   },
   {
    "duration": 112,
    "start_time": "2023-08-30T18:36:23.597Z"
   },
   {
    "duration": 6,
    "start_time": "2023-08-30T18:36:23.710Z"
   },
   {
    "duration": 68,
    "start_time": "2023-08-30T18:36:23.719Z"
   },
   {
    "duration": 58,
    "start_time": "2023-08-30T18:36:23.789Z"
   },
   {
    "duration": 65,
    "start_time": "2023-08-30T18:36:23.849Z"
   },
   {
    "duration": 44,
    "start_time": "2023-08-30T18:36:23.916Z"
   },
   {
    "duration": 20,
    "start_time": "2023-08-30T18:36:23.962Z"
   },
   {
    "duration": 31,
    "start_time": "2023-08-30T18:36:23.984Z"
   },
   {
    "duration": 6,
    "start_time": "2023-08-30T18:36:24.016Z"
   },
   {
    "duration": 9,
    "start_time": "2023-08-30T18:36:24.023Z"
   },
   {
    "duration": 3,
    "start_time": "2023-08-30T18:36:24.034Z"
   },
   {
    "duration": 107,
    "start_time": "2023-08-30T18:36:24.039Z"
   },
   {
    "duration": 62,
    "start_time": "2023-08-30T18:36:24.148Z"
   },
   {
    "duration": 165,
    "start_time": "2023-08-30T18:36:24.211Z"
   },
   {
    "duration": 14,
    "start_time": "2023-08-30T18:36:24.380Z"
   },
   {
    "duration": 3,
    "start_time": "2023-08-30T18:36:24.395Z"
   },
   {
    "duration": 4246,
    "start_time": "2023-08-30T18:36:24.400Z"
   },
   {
    "duration": 792,
    "start_time": "2023-08-30T18:36:28.648Z"
   },
   {
    "duration": 92,
    "start_time": "2023-08-30T18:36:29.442Z"
   },
   {
    "duration": 146,
    "start_time": "2023-08-30T18:36:29.536Z"
   },
   {
    "duration": 851,
    "start_time": "2023-08-30T18:36:29.687Z"
   },
   {
    "duration": 935,
    "start_time": "2023-08-30T18:36:30.540Z"
   },
   {
    "duration": 1891,
    "start_time": "2023-08-30T18:36:31.477Z"
   },
   {
    "duration": 16,
    "start_time": "2023-08-30T18:36:33.370Z"
   },
   {
    "duration": 25,
    "start_time": "2023-08-30T18:36:33.388Z"
   },
   {
    "duration": 6,
    "start_time": "2023-08-30T18:36:33.415Z"
   },
   {
    "duration": 5,
    "start_time": "2023-08-30T18:36:33.423Z"
   },
   {
    "duration": 56,
    "start_time": "2023-08-30T18:36:33.430Z"
   },
   {
    "duration": 7,
    "start_time": "2023-08-30T18:36:33.488Z"
   },
   {
    "duration": 32,
    "start_time": "2023-08-30T18:36:33.496Z"
   },
   {
    "duration": 3,
    "start_time": "2023-08-30T18:36:33.529Z"
   },
   {
    "duration": 9,
    "start_time": "2023-08-30T18:36:33.533Z"
   },
   {
    "duration": 307,
    "start_time": "2023-08-30T18:36:33.544Z"
   },
   {
    "duration": 200,
    "start_time": "2023-08-30T18:36:33.853Z"
   },
   {
    "duration": 198,
    "start_time": "2023-08-30T18:36:34.055Z"
   },
   {
    "duration": 179,
    "start_time": "2023-08-30T18:36:34.254Z"
   },
   {
    "duration": 5,
    "start_time": "2023-08-30T18:36:34.435Z"
   },
   {
    "duration": 13,
    "start_time": "2023-08-30T18:36:34.442Z"
   },
   {
    "duration": 34,
    "start_time": "2023-08-30T18:36:34.457Z"
   },
   {
    "duration": 26,
    "start_time": "2023-08-30T18:36:34.493Z"
   },
   {
    "duration": 278,
    "start_time": "2023-08-30T18:36:34.521Z"
   },
   {
    "duration": 267,
    "start_time": "2023-08-30T18:36:34.801Z"
   },
   {
    "duration": 126,
    "start_time": "2023-08-30T18:36:35.070Z"
   },
   {
    "duration": 6,
    "start_time": "2023-08-30T18:36:35.198Z"
   },
   {
    "duration": 55746,
    "start_time": "2023-08-30T18:36:35.205Z"
   },
   {
    "duration": 18768,
    "start_time": "2023-08-30T18:37:30.953Z"
   },
   {
    "duration": 19226,
    "start_time": "2023-08-30T18:37:49.722Z"
   },
   {
    "duration": 5,
    "start_time": "2023-08-30T18:38:08.950Z"
   },
   {
    "duration": 638,
    "start_time": "2023-08-30T18:38:08.957Z"
   },
   {
    "duration": 4,
    "start_time": "2023-08-30T18:38:09.597Z"
   },
   {
    "duration": 19077,
    "start_time": "2023-08-30T18:38:09.604Z"
   },
   {
    "duration": 167,
    "start_time": "2023-08-30T18:38:28.683Z"
   },
   {
    "duration": 87,
    "start_time": "2023-08-30T18:58:38.482Z"
   },
   {
    "duration": 4,
    "start_time": "2023-08-30T19:00:25.831Z"
   },
   {
    "duration": 20,
    "start_time": "2023-08-30T19:01:15.442Z"
   },
   {
    "duration": 78,
    "start_time": "2023-08-30T19:01:48.264Z"
   },
   {
    "duration": 5,
    "start_time": "2023-08-30T19:01:48.963Z"
   },
   {
    "duration": 51,
    "start_time": "2023-08-30T19:01:53.058Z"
   },
   {
    "duration": 1512,
    "start_time": "2023-08-30T19:02:02.578Z"
   },
   {
    "duration": 38,
    "start_time": "2023-08-30T19:02:04.091Z"
   },
   {
    "duration": 2690,
    "start_time": "2023-08-30T19:02:04.131Z"
   },
   {
    "duration": 1707,
    "start_time": "2023-08-30T19:02:06.825Z"
   },
   {
    "duration": 1221,
    "start_time": "2023-08-30T19:02:08.534Z"
   },
   {
    "duration": 139,
    "start_time": "2023-08-30T19:02:09.757Z"
   },
   {
    "duration": 109,
    "start_time": "2023-08-30T19:02:09.898Z"
   },
   {
    "duration": 6,
    "start_time": "2023-08-30T19:02:10.008Z"
   },
   {
    "duration": 68,
    "start_time": "2023-08-30T19:02:10.015Z"
   },
   {
    "duration": 58,
    "start_time": "2023-08-30T19:02:10.086Z"
   },
   {
    "duration": 66,
    "start_time": "2023-08-30T19:02:10.146Z"
   },
   {
    "duration": 53,
    "start_time": "2023-08-30T19:02:10.214Z"
   },
   {
    "duration": 5,
    "start_time": "2023-08-30T19:02:10.268Z"
   },
   {
    "duration": 30,
    "start_time": "2023-08-30T19:02:10.282Z"
   },
   {
    "duration": 7,
    "start_time": "2023-08-30T19:02:10.314Z"
   },
   {
    "duration": 17,
    "start_time": "2023-08-30T19:02:10.323Z"
   },
   {
    "duration": 9,
    "start_time": "2023-08-30T19:02:10.342Z"
   },
   {
    "duration": 101,
    "start_time": "2023-08-30T19:02:10.353Z"
   },
   {
    "duration": 64,
    "start_time": "2023-08-30T19:02:10.455Z"
   },
   {
    "duration": 154,
    "start_time": "2023-08-30T19:02:10.521Z"
   },
   {
    "duration": 16,
    "start_time": "2023-08-30T19:02:10.676Z"
   },
   {
    "duration": 2,
    "start_time": "2023-08-30T19:02:10.694Z"
   },
   {
    "duration": 4258,
    "start_time": "2023-08-30T19:02:10.698Z"
   },
   {
    "duration": 810,
    "start_time": "2023-08-30T19:02:14.958Z"
   },
   {
    "duration": 91,
    "start_time": "2023-08-30T19:02:15.769Z"
   },
   {
    "duration": 137,
    "start_time": "2023-08-30T19:02:15.862Z"
   },
   {
    "duration": 854,
    "start_time": "2023-08-30T19:02:16.002Z"
   },
   {
    "duration": 989,
    "start_time": "2023-08-30T19:02:16.860Z"
   },
   {
    "duration": 1842,
    "start_time": "2023-08-30T19:02:17.851Z"
   },
   {
    "duration": 12,
    "start_time": "2023-08-30T19:02:19.695Z"
   },
   {
    "duration": 26,
    "start_time": "2023-08-30T19:02:19.709Z"
   },
   {
    "duration": 12,
    "start_time": "2023-08-30T19:02:19.737Z"
   },
   {
    "duration": 22,
    "start_time": "2023-08-30T19:02:19.752Z"
   },
   {
    "duration": 34,
    "start_time": "2023-08-30T19:02:19.781Z"
   },
   {
    "duration": 6,
    "start_time": "2023-08-30T19:02:19.817Z"
   },
   {
    "duration": 41,
    "start_time": "2023-08-30T19:02:19.825Z"
   },
   {
    "duration": 3,
    "start_time": "2023-08-30T19:02:19.868Z"
   },
   {
    "duration": 11,
    "start_time": "2023-08-30T19:02:19.872Z"
   },
   {
    "duration": 303,
    "start_time": "2023-08-30T19:02:19.885Z"
   },
   {
    "duration": 203,
    "start_time": "2023-08-30T19:02:20.190Z"
   },
   {
    "duration": 202,
    "start_time": "2023-08-30T19:02:20.394Z"
   },
   {
    "duration": 175,
    "start_time": "2023-08-30T19:02:20.598Z"
   },
   {
    "duration": 10,
    "start_time": "2023-08-30T19:02:20.775Z"
   },
   {
    "duration": 65,
    "start_time": "2023-08-30T19:02:20.786Z"
   },
   {
    "duration": 52,
    "start_time": "2023-08-30T19:02:20.852Z"
   },
   {
    "duration": 31,
    "start_time": "2023-08-30T19:02:20.905Z"
   },
   {
    "duration": 278,
    "start_time": "2023-08-30T19:02:20.937Z"
   },
   {
    "duration": 258,
    "start_time": "2023-08-30T19:02:21.216Z"
   },
   {
    "duration": 85,
    "start_time": "2023-08-30T19:02:21.480Z"
   },
   {
    "duration": 16,
    "start_time": "2023-08-30T19:02:21.566Z"
   },
   {
    "duration": 53,
    "start_time": "2023-08-30T19:02:51.058Z"
   },
   {
    "duration": 1695,
    "start_time": "2023-08-30T19:02:54.866Z"
   },
   {
    "duration": 43,
    "start_time": "2023-08-30T19:02:56.564Z"
   },
   {
    "duration": 3478,
    "start_time": "2023-08-30T19:02:56.609Z"
   },
   {
    "duration": 2583,
    "start_time": "2023-08-30T19:03:00.089Z"
   },
   {
    "duration": 1219,
    "start_time": "2023-08-30T19:03:02.675Z"
   },
   {
    "duration": 141,
    "start_time": "2023-08-30T19:03:03.896Z"
   },
   {
    "duration": 158,
    "start_time": "2023-08-30T19:03:04.039Z"
   },
   {
    "duration": 6,
    "start_time": "2023-08-30T19:03:04.199Z"
   },
   {
    "duration": 74,
    "start_time": "2023-08-30T19:03:04.207Z"
   },
   {
    "duration": 59,
    "start_time": "2023-08-30T19:03:04.283Z"
   },
   {
    "duration": 61,
    "start_time": "2023-08-30T19:03:04.344Z"
   },
   {
    "duration": 49,
    "start_time": "2023-08-30T19:03:04.407Z"
   },
   {
    "duration": 25,
    "start_time": "2023-08-30T19:03:04.458Z"
   },
   {
    "duration": 40,
    "start_time": "2023-08-30T19:03:04.486Z"
   },
   {
    "duration": 5,
    "start_time": "2023-08-30T19:03:04.528Z"
   },
   {
    "duration": 12,
    "start_time": "2023-08-30T19:03:04.534Z"
   },
   {
    "duration": 5,
    "start_time": "2023-08-30T19:03:04.548Z"
   },
   {
    "duration": 120,
    "start_time": "2023-08-30T19:03:04.554Z"
   },
   {
    "duration": 57,
    "start_time": "2023-08-30T19:03:04.676Z"
   },
   {
    "duration": 175,
    "start_time": "2023-08-30T19:03:04.735Z"
   },
   {
    "duration": 13,
    "start_time": "2023-08-30T19:03:04.912Z"
   },
   {
    "duration": 3,
    "start_time": "2023-08-30T19:03:04.927Z"
   },
   {
    "duration": 4460,
    "start_time": "2023-08-30T19:03:04.932Z"
   },
   {
    "duration": 846,
    "start_time": "2023-08-30T19:03:09.394Z"
   },
   {
    "duration": 94,
    "start_time": "2023-08-30T19:03:10.242Z"
   },
   {
    "duration": 144,
    "start_time": "2023-08-30T19:03:10.337Z"
   },
   {
    "duration": 836,
    "start_time": "2023-08-30T19:03:10.484Z"
   },
   {
    "duration": 970,
    "start_time": "2023-08-30T19:03:11.322Z"
   },
   {
    "duration": 1879,
    "start_time": "2023-08-30T19:03:12.294Z"
   },
   {
    "duration": 14,
    "start_time": "2023-08-30T19:03:14.175Z"
   },
   {
    "duration": 36,
    "start_time": "2023-08-30T19:03:14.191Z"
   },
   {
    "duration": 7,
    "start_time": "2023-08-30T19:03:14.229Z"
   },
   {
    "duration": 41,
    "start_time": "2023-08-30T19:03:14.237Z"
   },
   {
    "duration": 45,
    "start_time": "2023-08-30T19:03:14.280Z"
   },
   {
    "duration": 21,
    "start_time": "2023-08-30T19:03:14.326Z"
   },
   {
    "duration": 54,
    "start_time": "2023-08-30T19:03:14.349Z"
   },
   {
    "duration": 5,
    "start_time": "2023-08-30T19:03:14.405Z"
   },
   {
    "duration": 35,
    "start_time": "2023-08-30T19:03:14.413Z"
   },
   {
    "duration": 276,
    "start_time": "2023-08-30T19:03:14.450Z"
   },
   {
    "duration": 202,
    "start_time": "2023-08-30T19:03:14.728Z"
   },
   {
    "duration": 221,
    "start_time": "2023-08-30T19:03:14.934Z"
   },
   {
    "duration": 185,
    "start_time": "2023-08-30T19:03:15.157Z"
   },
   {
    "duration": 4,
    "start_time": "2023-08-30T19:03:15.344Z"
   },
   {
    "duration": 5,
    "start_time": "2023-08-30T19:03:15.350Z"
   },
   {
    "duration": 38,
    "start_time": "2023-08-30T19:03:15.357Z"
   },
   {
    "duration": 21,
    "start_time": "2023-08-30T19:03:15.397Z"
   },
   {
    "duration": 305,
    "start_time": "2023-08-30T19:03:15.420Z"
   },
   {
    "duration": 270,
    "start_time": "2023-08-30T19:03:15.727Z"
   },
   {
    "duration": 92,
    "start_time": "2023-08-30T19:03:15.998Z"
   },
   {
    "duration": 5,
    "start_time": "2023-08-30T19:03:16.092Z"
   },
   {
    "duration": 50,
    "start_time": "2023-08-30T19:03:48.750Z"
   },
   {
    "duration": 1459,
    "start_time": "2023-08-30T19:04:01.906Z"
   },
   {
    "duration": 26,
    "start_time": "2023-08-30T19:04:03.367Z"
   },
   {
    "duration": 2929,
    "start_time": "2023-08-30T19:04:03.395Z"
   },
   {
    "duration": 2161,
    "start_time": "2023-08-30T19:04:06.326Z"
   },
   {
    "duration": 1201,
    "start_time": "2023-08-30T19:04:08.491Z"
   },
   {
    "duration": 154,
    "start_time": "2023-08-30T19:04:09.693Z"
   },
   {
    "duration": 108,
    "start_time": "2023-08-30T19:04:09.849Z"
   },
   {
    "duration": 6,
    "start_time": "2023-08-30T19:04:09.959Z"
   },
   {
    "duration": 70,
    "start_time": "2023-08-30T19:04:09.967Z"
   },
   {
    "duration": 67,
    "start_time": "2023-08-30T19:04:10.039Z"
   },
   {
    "duration": 52,
    "start_time": "2023-08-30T19:04:10.108Z"
   },
   {
    "duration": 59,
    "start_time": "2023-08-30T19:04:10.161Z"
   },
   {
    "duration": 6,
    "start_time": "2023-08-30T19:04:10.221Z"
   },
   {
    "duration": 31,
    "start_time": "2023-08-30T19:04:10.230Z"
   },
   {
    "duration": 19,
    "start_time": "2023-08-30T19:04:10.263Z"
   },
   {
    "duration": 6,
    "start_time": "2023-08-30T19:04:10.283Z"
   },
   {
    "duration": 5,
    "start_time": "2023-08-30T19:04:10.291Z"
   },
   {
    "duration": 107,
    "start_time": "2023-08-30T19:04:10.298Z"
   },
   {
    "duration": 53,
    "start_time": "2023-08-30T19:04:10.406Z"
   },
   {
    "duration": 164,
    "start_time": "2023-08-30T19:04:10.461Z"
   },
   {
    "duration": 13,
    "start_time": "2023-08-30T19:04:10.626Z"
   },
   {
    "duration": 3,
    "start_time": "2023-08-30T19:04:10.641Z"
   },
   {
    "duration": 4175,
    "start_time": "2023-08-30T19:04:10.646Z"
   },
   {
    "duration": 832,
    "start_time": "2023-08-30T19:04:14.823Z"
   },
   {
    "duration": 94,
    "start_time": "2023-08-30T19:04:15.657Z"
   },
   {
    "duration": 138,
    "start_time": "2023-08-30T19:04:15.752Z"
   },
   {
    "duration": 911,
    "start_time": "2023-08-30T19:04:15.892Z"
   },
   {
    "duration": 948,
    "start_time": "2023-08-30T19:04:16.805Z"
   },
   {
    "duration": 1809,
    "start_time": "2023-08-30T19:04:17.755Z"
   },
   {
    "duration": 20,
    "start_time": "2023-08-30T19:04:19.566Z"
   },
   {
    "duration": 31,
    "start_time": "2023-08-30T19:04:19.588Z"
   },
   {
    "duration": 7,
    "start_time": "2023-08-30T19:04:19.621Z"
   },
   {
    "duration": 19,
    "start_time": "2023-08-30T19:04:19.630Z"
   },
   {
    "duration": 43,
    "start_time": "2023-08-30T19:04:19.650Z"
   },
   {
    "duration": 12,
    "start_time": "2023-08-30T19:04:19.695Z"
   },
   {
    "duration": 58,
    "start_time": "2023-08-30T19:04:19.708Z"
   },
   {
    "duration": 4,
    "start_time": "2023-08-30T19:04:19.767Z"
   },
   {
    "duration": 29,
    "start_time": "2023-08-30T19:04:19.772Z"
   },
   {
    "duration": 280,
    "start_time": "2023-08-30T19:04:19.802Z"
   },
   {
    "duration": 197,
    "start_time": "2023-08-30T19:04:20.084Z"
   },
   {
    "duration": 212,
    "start_time": "2023-08-30T19:04:20.286Z"
   },
   {
    "duration": 182,
    "start_time": "2023-08-30T19:04:20.500Z"
   },
   {
    "duration": 5,
    "start_time": "2023-08-30T19:04:20.684Z"
   },
   {
    "duration": 20,
    "start_time": "2023-08-30T19:04:20.691Z"
   },
   {
    "duration": 38,
    "start_time": "2023-08-30T19:04:20.713Z"
   },
   {
    "duration": 31,
    "start_time": "2023-08-30T19:04:20.753Z"
   },
   {
    "duration": 313,
    "start_time": "2023-08-30T19:04:20.786Z"
   },
   {
    "duration": 267,
    "start_time": "2023-08-30T19:04:21.101Z"
   },
   {
    "duration": 87,
    "start_time": "2023-08-30T19:04:21.370Z"
   },
   {
    "duration": 6,
    "start_time": "2023-08-30T19:04:21.459Z"
   },
   {
    "duration": 143,
    "start_time": "2023-08-30T19:04:21.467Z"
   },
   {
    "duration": 0,
    "start_time": "2023-08-30T19:04:21.612Z"
   },
   {
    "duration": 0,
    "start_time": "2023-08-30T19:04:21.614Z"
   },
   {
    "duration": 0,
    "start_time": "2023-08-30T19:04:21.615Z"
   },
   {
    "duration": 0,
    "start_time": "2023-08-30T19:04:21.616Z"
   },
   {
    "duration": 0,
    "start_time": "2023-08-30T19:04:21.618Z"
   },
   {
    "duration": 0,
    "start_time": "2023-08-30T19:04:21.620Z"
   },
   {
    "duration": 0,
    "start_time": "2023-08-30T19:04:21.621Z"
   },
   {
    "duration": 0,
    "start_time": "2023-08-30T19:04:21.623Z"
   },
   {
    "duration": 78,
    "start_time": "2023-08-30T19:04:26.901Z"
   },
   {
    "duration": 52,
    "start_time": "2023-08-30T19:05:05.535Z"
   },
   {
    "duration": 1428,
    "start_time": "2023-08-30T19:05:11.234Z"
   },
   {
    "duration": 32,
    "start_time": "2023-08-30T19:05:12.664Z"
   },
   {
    "duration": 4539,
    "start_time": "2023-08-30T19:05:12.697Z"
   },
   {
    "duration": 1620,
    "start_time": "2023-08-30T19:05:17.238Z"
   },
   {
    "duration": 1200,
    "start_time": "2023-08-30T19:05:18.862Z"
   },
   {
    "duration": 144,
    "start_time": "2023-08-30T19:05:20.064Z"
   },
   {
    "duration": 113,
    "start_time": "2023-08-30T19:05:20.210Z"
   },
   {
    "duration": 5,
    "start_time": "2023-08-30T19:05:20.325Z"
   },
   {
    "duration": 92,
    "start_time": "2023-08-30T19:05:20.331Z"
   },
   {
    "duration": 62,
    "start_time": "2023-08-30T19:05:20.425Z"
   },
   {
    "duration": 53,
    "start_time": "2023-08-30T19:05:20.488Z"
   },
   {
    "duration": 57,
    "start_time": "2023-08-30T19:05:20.543Z"
   },
   {
    "duration": 21,
    "start_time": "2023-08-30T19:05:20.602Z"
   },
   {
    "duration": 44,
    "start_time": "2023-08-30T19:05:20.626Z"
   },
   {
    "duration": 14,
    "start_time": "2023-08-30T19:05:20.672Z"
   },
   {
    "duration": 25,
    "start_time": "2023-08-30T19:05:20.688Z"
   },
   {
    "duration": 8,
    "start_time": "2023-08-30T19:05:20.715Z"
   },
   {
    "duration": 95,
    "start_time": "2023-08-30T19:05:20.724Z"
   },
   {
    "duration": 62,
    "start_time": "2023-08-30T19:05:20.821Z"
   },
   {
    "duration": 159,
    "start_time": "2023-08-30T19:05:20.885Z"
   },
   {
    "duration": 14,
    "start_time": "2023-08-30T19:05:21.046Z"
   },
   {
    "duration": 21,
    "start_time": "2023-08-30T19:05:21.062Z"
   },
   {
    "duration": 4207,
    "start_time": "2023-08-30T19:05:21.084Z"
   },
   {
    "duration": 780,
    "start_time": "2023-08-30T19:05:25.293Z"
   },
   {
    "duration": 83,
    "start_time": "2023-08-30T19:05:26.075Z"
   },
   {
    "duration": 152,
    "start_time": "2023-08-30T19:05:26.160Z"
   },
   {
    "duration": 888,
    "start_time": "2023-08-30T19:05:26.315Z"
   },
   {
    "duration": 922,
    "start_time": "2023-08-30T19:05:27.205Z"
   },
   {
    "duration": 1857,
    "start_time": "2023-08-30T19:05:28.129Z"
   },
   {
    "duration": 12,
    "start_time": "2023-08-30T19:05:29.988Z"
   },
   {
    "duration": 48,
    "start_time": "2023-08-30T19:05:30.002Z"
   },
   {
    "duration": 21,
    "start_time": "2023-08-30T19:05:30.052Z"
   },
   {
    "duration": 43,
    "start_time": "2023-08-30T19:05:30.074Z"
   },
   {
    "duration": 48,
    "start_time": "2023-08-30T19:05:30.119Z"
   },
   {
    "duration": 7,
    "start_time": "2023-08-30T19:05:30.169Z"
   },
   {
    "duration": 47,
    "start_time": "2023-08-30T19:05:30.178Z"
   },
   {
    "duration": 3,
    "start_time": "2023-08-30T19:05:30.227Z"
   },
   {
    "duration": 32,
    "start_time": "2023-08-30T19:05:30.232Z"
   },
   {
    "duration": 290,
    "start_time": "2023-08-30T19:05:30.266Z"
   },
   {
    "duration": 197,
    "start_time": "2023-08-30T19:05:30.558Z"
   },
   {
    "duration": 214,
    "start_time": "2023-08-30T19:05:30.759Z"
   },
   {
    "duration": 180,
    "start_time": "2023-08-30T19:05:30.974Z"
   },
   {
    "duration": 4,
    "start_time": "2023-08-30T19:05:31.155Z"
   },
   {
    "duration": 27,
    "start_time": "2023-08-30T19:05:31.160Z"
   },
   {
    "duration": 51,
    "start_time": "2023-08-30T19:05:31.189Z"
   },
   {
    "duration": 60,
    "start_time": "2023-08-30T19:05:31.242Z"
   },
   {
    "duration": 313,
    "start_time": "2023-08-30T19:05:31.304Z"
   },
   {
    "duration": 265,
    "start_time": "2023-08-30T19:05:31.619Z"
   },
   {
    "duration": 85,
    "start_time": "2023-08-30T19:05:31.886Z"
   },
   {
    "duration": 6,
    "start_time": "2023-08-30T19:05:47.698Z"
   },
   {
    "duration": 69,
    "start_time": "2023-08-30T19:05:50.164Z"
   },
   {
    "duration": 99,
    "start_time": "2023-08-30T19:05:53.909Z"
   },
   {
    "duration": 6,
    "start_time": "2023-08-30T19:05:54.882Z"
   },
   {
    "duration": 64,
    "start_time": "2023-08-30T19:05:55.133Z"
   },
   {
    "duration": 29072,
    "start_time": "2023-08-30T19:06:07.176Z"
   },
   {
    "duration": 1509,
    "start_time": "2023-08-30T19:06:59.511Z"
   },
   {
    "duration": 37,
    "start_time": "2023-08-30T19:07:01.022Z"
   },
   {
    "duration": 2565,
    "start_time": "2023-08-30T19:07:01.061Z"
   },
   {
    "duration": 1633,
    "start_time": "2023-08-30T19:07:03.629Z"
   },
   {
    "duration": 1266,
    "start_time": "2023-08-30T19:07:05.264Z"
   },
   {
    "duration": 137,
    "start_time": "2023-08-30T19:07:06.532Z"
   },
   {
    "duration": 151,
    "start_time": "2023-08-30T19:07:06.671Z"
   },
   {
    "duration": 4,
    "start_time": "2023-08-30T19:07:06.824Z"
   },
   {
    "duration": 91,
    "start_time": "2023-08-30T19:07:06.830Z"
   },
   {
    "duration": 64,
    "start_time": "2023-08-30T19:07:06.924Z"
   },
   {
    "duration": 61,
    "start_time": "2023-08-30T19:07:06.990Z"
   },
   {
    "duration": 87,
    "start_time": "2023-08-30T19:07:07.053Z"
   },
   {
    "duration": 55,
    "start_time": "2023-08-30T19:07:07.142Z"
   },
   {
    "duration": 64,
    "start_time": "2023-08-30T19:07:07.200Z"
   },
   {
    "duration": 41,
    "start_time": "2023-08-30T19:07:07.266Z"
   },
   {
    "duration": 48,
    "start_time": "2023-08-30T19:07:07.309Z"
   },
   {
    "duration": 34,
    "start_time": "2023-08-30T19:07:07.359Z"
   },
   {
    "duration": 150,
    "start_time": "2023-08-30T19:07:07.394Z"
   },
   {
    "duration": 76,
    "start_time": "2023-08-30T19:07:07.547Z"
   },
   {
    "duration": 156,
    "start_time": "2023-08-30T19:07:07.625Z"
   },
   {
    "duration": 13,
    "start_time": "2023-08-30T19:07:07.784Z"
   },
   {
    "duration": 103,
    "start_time": "2023-08-30T19:07:07.799Z"
   },
   {
    "duration": 4280,
    "start_time": "2023-08-30T19:07:07.903Z"
   },
   {
    "duration": 819,
    "start_time": "2023-08-30T19:07:12.185Z"
   },
   {
    "duration": 90,
    "start_time": "2023-08-30T19:07:13.006Z"
   },
   {
    "duration": 288,
    "start_time": "2023-08-30T19:07:13.098Z"
   },
   {
    "duration": 946,
    "start_time": "2023-08-30T19:07:13.388Z"
   },
   {
    "duration": 1000,
    "start_time": "2023-08-30T19:07:14.339Z"
   },
   {
    "duration": 2101,
    "start_time": "2023-08-30T19:07:15.341Z"
   },
   {
    "duration": 12,
    "start_time": "2023-08-30T19:07:17.444Z"
   },
   {
    "duration": 42,
    "start_time": "2023-08-30T19:07:17.458Z"
   },
   {
    "duration": 8,
    "start_time": "2023-08-30T19:07:17.502Z"
   },
   {
    "duration": 8,
    "start_time": "2023-08-30T19:07:17.512Z"
   },
   {
    "duration": 36,
    "start_time": "2023-08-30T19:07:17.521Z"
   },
   {
    "duration": 24,
    "start_time": "2023-08-30T19:07:17.560Z"
   },
   {
    "duration": 26,
    "start_time": "2023-08-30T19:07:17.586Z"
   },
   {
    "duration": 3,
    "start_time": "2023-08-30T19:07:17.614Z"
   },
   {
    "duration": 47,
    "start_time": "2023-08-30T19:07:17.618Z"
   },
   {
    "duration": 268,
    "start_time": "2023-08-30T19:07:17.666Z"
   },
   {
    "duration": 200,
    "start_time": "2023-08-30T19:07:17.937Z"
   },
   {
    "duration": 213,
    "start_time": "2023-08-30T19:07:18.139Z"
   },
   {
    "duration": 189,
    "start_time": "2023-08-30T19:07:18.354Z"
   },
   {
    "duration": 5,
    "start_time": "2023-08-30T19:07:18.545Z"
   },
   {
    "duration": 24,
    "start_time": "2023-08-30T19:07:18.552Z"
   },
   {
    "duration": 48,
    "start_time": "2023-08-30T19:07:18.578Z"
   },
   {
    "duration": 39,
    "start_time": "2023-08-30T19:07:18.628Z"
   },
   {
    "duration": 306,
    "start_time": "2023-08-30T19:07:18.669Z"
   },
   {
    "duration": 301,
    "start_time": "2023-08-30T19:07:18.981Z"
   },
   {
    "duration": 85,
    "start_time": "2023-08-30T19:07:19.283Z"
   },
   {
    "duration": 5,
    "start_time": "2023-08-30T19:07:19.381Z"
   },
   {
    "duration": 89,
    "start_time": "2023-08-30T19:07:19.388Z"
   },
   {
    "duration": 55079,
    "start_time": "2023-08-30T19:07:19.478Z"
   },
   {
    "duration": 38430,
    "start_time": "2023-08-30T19:08:14.559Z"
   },
   {
    "duration": 123,
    "start_time": "2023-08-30T19:08:52.992Z"
   },
   {
    "duration": 0,
    "start_time": "2023-08-30T19:08:53.117Z"
   },
   {
    "duration": 0,
    "start_time": "2023-08-30T19:08:53.120Z"
   },
   {
    "duration": 0,
    "start_time": "2023-08-30T19:08:53.121Z"
   },
   {
    "duration": 0,
    "start_time": "2023-08-30T19:08:53.122Z"
   },
   {
    "duration": 0,
    "start_time": "2023-08-30T19:08:53.123Z"
   },
   {
    "duration": 0,
    "start_time": "2023-08-30T19:08:53.125Z"
   },
   {
    "duration": 5,
    "start_time": "2023-08-30T19:09:28.613Z"
   },
   {
    "duration": 609,
    "start_time": "2023-08-30T19:09:29.747Z"
   },
   {
    "duration": 5,
    "start_time": "2023-08-30T19:09:31.104Z"
   },
   {
    "duration": 2391,
    "start_time": "2023-08-30T19:11:00.192Z"
   },
   {
    "duration": 37,
    "start_time": "2023-08-30T19:11:02.586Z"
   },
   {
    "duration": 3746,
    "start_time": "2023-08-30T19:11:02.624Z"
   },
   {
    "duration": 1643,
    "start_time": "2023-08-30T19:11:06.372Z"
   },
   {
    "duration": 997,
    "start_time": "2023-08-30T19:11:08.017Z"
   },
   {
    "duration": 379,
    "start_time": "2023-08-30T19:11:09.016Z"
   },
   {
    "duration": 208,
    "start_time": "2023-08-30T19:11:09.397Z"
   },
   {
    "duration": 5,
    "start_time": "2023-08-30T19:11:09.607Z"
   },
   {
    "duration": 168,
    "start_time": "2023-08-30T19:11:09.613Z"
   },
   {
    "duration": 114,
    "start_time": "2023-08-30T19:11:09.785Z"
   },
   {
    "duration": 106,
    "start_time": "2023-08-30T19:11:09.901Z"
   },
   {
    "duration": 97,
    "start_time": "2023-08-30T19:11:10.009Z"
   },
   {
    "duration": 9,
    "start_time": "2023-08-30T19:11:10.108Z"
   },
   {
    "duration": 81,
    "start_time": "2023-08-30T19:11:10.119Z"
   },
   {
    "duration": 9,
    "start_time": "2023-08-30T19:11:10.202Z"
   },
   {
    "duration": 14,
    "start_time": "2023-08-30T19:11:10.213Z"
   },
   {
    "duration": 54,
    "start_time": "2023-08-30T19:11:10.229Z"
   },
   {
    "duration": 216,
    "start_time": "2023-08-30T19:11:10.285Z"
   },
   {
    "duration": 112,
    "start_time": "2023-08-30T19:11:10.503Z"
   },
   {
    "duration": 372,
    "start_time": "2023-08-30T19:11:10.617Z"
   },
   {
    "duration": 13,
    "start_time": "2023-08-30T19:11:10.991Z"
   },
   {
    "duration": 52,
    "start_time": "2023-08-30T19:11:11.006Z"
   },
   {
    "duration": 4352,
    "start_time": "2023-08-30T19:11:11.060Z"
   },
   {
    "duration": 813,
    "start_time": "2023-08-30T19:11:15.414Z"
   },
   {
    "duration": 94,
    "start_time": "2023-08-30T19:11:16.229Z"
   },
   {
    "duration": 144,
    "start_time": "2023-08-30T19:11:16.327Z"
   },
   {
    "duration": 871,
    "start_time": "2023-08-30T19:11:16.473Z"
   },
   {
    "duration": 971,
    "start_time": "2023-08-30T19:11:17.348Z"
   },
   {
    "duration": 1918,
    "start_time": "2023-08-30T19:11:18.320Z"
   },
   {
    "duration": 11,
    "start_time": "2023-08-30T19:11:20.239Z"
   },
   {
    "duration": 40,
    "start_time": "2023-08-30T19:11:20.252Z"
   },
   {
    "duration": 15,
    "start_time": "2023-08-30T19:11:20.294Z"
   },
   {
    "duration": 25,
    "start_time": "2023-08-30T19:11:20.310Z"
   },
   {
    "duration": 48,
    "start_time": "2023-08-30T19:11:20.337Z"
   },
   {
    "duration": 6,
    "start_time": "2023-08-30T19:11:20.387Z"
   },
   {
    "duration": 42,
    "start_time": "2023-08-30T19:11:20.395Z"
   },
   {
    "duration": 3,
    "start_time": "2023-08-30T19:11:20.440Z"
   },
   {
    "duration": 25,
    "start_time": "2023-08-30T19:11:20.445Z"
   },
   {
    "duration": 310,
    "start_time": "2023-08-30T19:11:20.472Z"
   },
   {
    "duration": 213,
    "start_time": "2023-08-30T19:11:20.785Z"
   },
   {
    "duration": 225,
    "start_time": "2023-08-30T19:11:21.000Z"
   },
   {
    "duration": 206,
    "start_time": "2023-08-30T19:11:21.227Z"
   },
   {
    "duration": 4,
    "start_time": "2023-08-30T19:11:21.434Z"
   },
   {
    "duration": 6,
    "start_time": "2023-08-30T19:11:21.439Z"
   },
   {
    "duration": 35,
    "start_time": "2023-08-30T19:11:21.447Z"
   },
   {
    "duration": 21,
    "start_time": "2023-08-30T19:11:21.484Z"
   },
   {
    "duration": 315,
    "start_time": "2023-08-30T19:11:21.506Z"
   },
   {
    "duration": 287,
    "start_time": "2023-08-30T19:11:21.823Z"
   },
   {
    "duration": 96,
    "start_time": "2023-08-30T19:11:22.112Z"
   },
   {
    "duration": 6,
    "start_time": "2023-08-30T19:11:22.210Z"
   },
   {
    "duration": 81,
    "start_time": "2023-08-30T19:11:22.218Z"
   },
   {
    "duration": 55590,
    "start_time": "2023-08-30T19:11:22.301Z"
   },
   {
    "duration": 36709,
    "start_time": "2023-08-30T19:12:17.892Z"
   },
   {
    "duration": 4,
    "start_time": "2023-08-30T19:12:54.603Z"
   },
   {
    "duration": 8,
    "start_time": "2023-08-30T19:12:54.608Z"
   },
   {
    "duration": 646,
    "start_time": "2023-08-30T19:12:54.618Z"
   },
   {
    "duration": 6,
    "start_time": "2023-08-30T19:12:55.266Z"
   },
   {
    "duration": 35907,
    "start_time": "2023-08-30T19:12:55.281Z"
   },
   {
    "duration": 4,
    "start_time": "2023-08-30T19:13:38.484Z"
   },
   {
    "duration": 5,
    "start_time": "2023-08-30T19:14:08.240Z"
   },
   {
    "duration": 5,
    "start_time": "2023-08-30T19:14:36.019Z"
   },
   {
    "duration": 6,
    "start_time": "2023-08-30T19:14:58.380Z"
   },
   {
    "duration": 32,
    "start_time": "2023-08-30T19:16:59.128Z"
   },
   {
    "duration": 123,
    "start_time": "2023-08-30T19:21:42.785Z"
   },
   {
    "duration": 7,
    "start_time": "2023-08-30T19:21:51.441Z"
   },
   {
    "duration": 12,
    "start_time": "2023-08-30T19:21:55.830Z"
   },
   {
    "duration": 4,
    "start_time": "2023-08-30T19:22:28.571Z"
   },
   {
    "duration": 1220458,
    "start_time": "2023-08-30T19:22:32.027Z"
   },
   {
    "duration": 54,
    "start_time": "2023-08-30T19:43:03.371Z"
   },
   {
    "duration": 1514,
    "start_time": "2023-08-30T19:43:42.391Z"
   },
   {
    "duration": 36,
    "start_time": "2023-08-30T19:43:43.907Z"
   },
   {
    "duration": 2474,
    "start_time": "2023-08-30T19:43:43.944Z"
   },
   {
    "duration": 1546,
    "start_time": "2023-08-30T19:43:46.421Z"
   },
   {
    "duration": 870,
    "start_time": "2023-08-30T19:43:47.970Z"
   },
   {
    "duration": 151,
    "start_time": "2023-08-30T19:43:48.842Z"
   },
   {
    "duration": 111,
    "start_time": "2023-08-30T19:43:48.995Z"
   },
   {
    "duration": 5,
    "start_time": "2023-08-30T19:43:49.108Z"
   },
   {
    "duration": 76,
    "start_time": "2023-08-30T19:43:49.115Z"
   },
   {
    "duration": 61,
    "start_time": "2023-08-30T19:43:49.195Z"
   },
   {
    "duration": 63,
    "start_time": "2023-08-30T19:43:49.258Z"
   },
   {
    "duration": 66,
    "start_time": "2023-08-30T19:43:49.323Z"
   },
   {
    "duration": 6,
    "start_time": "2023-08-30T19:43:49.391Z"
   },
   {
    "duration": 40,
    "start_time": "2023-08-30T19:43:49.398Z"
   },
   {
    "duration": 13,
    "start_time": "2023-08-30T19:43:49.440Z"
   },
   {
    "duration": 18,
    "start_time": "2023-08-30T19:43:49.455Z"
   },
   {
    "duration": 12,
    "start_time": "2023-08-30T19:43:49.474Z"
   },
   {
    "duration": 88,
    "start_time": "2023-08-30T19:43:49.488Z"
   },
   {
    "duration": 53,
    "start_time": "2023-08-30T19:43:49.578Z"
   },
   {
    "duration": 162,
    "start_time": "2023-08-30T19:43:49.633Z"
   },
   {
    "duration": 13,
    "start_time": "2023-08-30T19:43:49.797Z"
   },
   {
    "duration": 9,
    "start_time": "2023-08-30T19:43:49.812Z"
   },
   {
    "duration": 4127,
    "start_time": "2023-08-30T19:43:49.823Z"
   },
   {
    "duration": 767,
    "start_time": "2023-08-30T19:43:53.952Z"
   },
   {
    "duration": 87,
    "start_time": "2023-08-30T19:43:54.721Z"
   },
   {
    "duration": 139,
    "start_time": "2023-08-30T19:43:54.810Z"
   },
   {
    "duration": 923,
    "start_time": "2023-08-30T19:43:54.951Z"
   },
   {
    "duration": 793,
    "start_time": "2023-08-30T19:43:55.880Z"
   },
   {
    "duration": 1960,
    "start_time": "2023-08-30T19:43:56.674Z"
   },
   {
    "duration": 11,
    "start_time": "2023-08-30T19:43:58.635Z"
   },
   {
    "duration": 62,
    "start_time": "2023-08-30T19:43:58.648Z"
   },
   {
    "duration": 8,
    "start_time": "2023-08-30T19:43:58.712Z"
   },
   {
    "duration": 40,
    "start_time": "2023-08-30T19:43:58.722Z"
   },
   {
    "duration": 67,
    "start_time": "2023-08-30T19:43:58.764Z"
   },
   {
    "duration": 10,
    "start_time": "2023-08-30T19:43:58.833Z"
   },
   {
    "duration": 40,
    "start_time": "2023-08-30T19:43:58.844Z"
   },
   {
    "duration": 17,
    "start_time": "2023-08-30T19:43:58.886Z"
   },
   {
    "duration": 47,
    "start_time": "2023-08-30T19:43:58.905Z"
   },
   {
    "duration": 335,
    "start_time": "2023-08-30T19:43:58.954Z"
   },
   {
    "duration": 212,
    "start_time": "2023-08-30T19:43:59.291Z"
   },
   {
    "duration": 202,
    "start_time": "2023-08-30T19:43:59.505Z"
   },
   {
    "duration": 182,
    "start_time": "2023-08-30T19:43:59.709Z"
   },
   {
    "duration": 4,
    "start_time": "2023-08-30T19:43:59.893Z"
   },
   {
    "duration": 28,
    "start_time": "2023-08-30T19:43:59.899Z"
   },
   {
    "duration": 21,
    "start_time": "2023-08-30T19:43:59.929Z"
   },
   {
    "duration": 20,
    "start_time": "2023-08-30T19:43:59.951Z"
   },
   {
    "duration": 306,
    "start_time": "2023-08-30T19:43:59.980Z"
   },
   {
    "duration": 286,
    "start_time": "2023-08-30T19:44:00.288Z"
   },
   {
    "duration": 93,
    "start_time": "2023-08-30T19:44:00.576Z"
   },
   {
    "duration": 15,
    "start_time": "2023-08-30T19:44:00.671Z"
   },
   {
    "duration": 108,
    "start_time": "2023-08-30T19:44:00.688Z"
   },
   {
    "duration": 53763,
    "start_time": "2023-08-30T19:44:00.797Z"
   },
   {
    "duration": 36269,
    "start_time": "2023-08-30T19:44:54.561Z"
   },
   {
    "duration": 3,
    "start_time": "2023-08-30T19:45:30.833Z"
   },
   {
    "duration": 19,
    "start_time": "2023-08-30T19:45:30.839Z"
   },
   {
    "duration": 625,
    "start_time": "2023-08-30T19:45:30.860Z"
   },
   {
    "duration": 4,
    "start_time": "2023-08-30T19:45:31.487Z"
   },
   {
    "duration": 37588,
    "start_time": "2023-08-30T19:45:31.493Z"
   },
   {
    "duration": 7,
    "start_time": "2023-08-30T19:46:09.083Z"
   },
   {
    "duration": 11693527,
    "start_time": "2023-08-30T19:46:09.092Z"
   },
   {
    "duration": 4,
    "start_time": "2023-08-30T23:01:02.621Z"
   },
   {
    "duration": 1581,
    "start_time": "2023-08-31T07:47:25.941Z"
   },
   {
    "duration": 6,
    "start_time": "2023-08-31T07:48:15.724Z"
   },
   {
    "duration": 39,
    "start_time": "2023-08-31T07:48:15.732Z"
   },
   {
    "duration": 4143,
    "start_time": "2023-08-31T07:48:15.773Z"
   },
   {
    "duration": 1544,
    "start_time": "2023-08-31T07:48:19.918Z"
   },
   {
    "duration": 1244,
    "start_time": "2023-08-31T07:48:21.464Z"
   },
   {
    "duration": 152,
    "start_time": "2023-08-31T07:48:22.709Z"
   },
   {
    "duration": 120,
    "start_time": "2023-08-31T07:48:22.863Z"
   },
   {
    "duration": 5,
    "start_time": "2023-08-31T07:48:22.986Z"
   },
   {
    "duration": 76,
    "start_time": "2023-08-31T07:48:22.994Z"
   },
   {
    "duration": 62,
    "start_time": "2023-08-31T07:48:23.071Z"
   },
   {
    "duration": 55,
    "start_time": "2023-08-31T07:48:23.136Z"
   },
   {
    "duration": 58,
    "start_time": "2023-08-31T07:48:23.193Z"
   },
   {
    "duration": 4,
    "start_time": "2023-08-31T07:48:23.253Z"
   },
   {
    "duration": 28,
    "start_time": "2023-08-31T07:48:23.260Z"
   },
   {
    "duration": 5,
    "start_time": "2023-08-31T07:48:23.289Z"
   },
   {
    "duration": 29,
    "start_time": "2023-08-31T07:48:23.295Z"
   },
   {
    "duration": 4,
    "start_time": "2023-08-31T07:48:23.327Z"
   },
   {
    "duration": 98,
    "start_time": "2023-08-31T07:48:23.333Z"
   },
   {
    "duration": 54,
    "start_time": "2023-08-31T07:48:23.434Z"
   },
   {
    "duration": 166,
    "start_time": "2023-08-31T07:48:23.490Z"
   },
   {
    "duration": 12,
    "start_time": "2023-08-31T07:48:23.658Z"
   },
   {
    "duration": 3,
    "start_time": "2023-08-31T07:48:23.671Z"
   },
   {
    "duration": 4051,
    "start_time": "2023-08-31T07:48:23.676Z"
   },
   {
    "duration": 759,
    "start_time": "2023-08-31T07:48:27.729Z"
   },
   {
    "duration": 87,
    "start_time": "2023-08-31T07:48:28.490Z"
   },
   {
    "duration": 134,
    "start_time": "2023-08-31T07:48:28.578Z"
   },
   {
    "duration": 902,
    "start_time": "2023-08-31T07:48:28.713Z"
   },
   {
    "duration": 788,
    "start_time": "2023-08-31T07:48:29.616Z"
   },
   {
    "duration": 1760,
    "start_time": "2023-08-31T07:48:30.407Z"
   },
   {
    "duration": 10,
    "start_time": "2023-08-31T07:48:32.169Z"
   },
   {
    "duration": 61,
    "start_time": "2023-08-31T07:48:32.180Z"
   },
   {
    "duration": 8,
    "start_time": "2023-08-31T07:48:32.243Z"
   },
   {
    "duration": 43,
    "start_time": "2023-08-31T07:48:32.252Z"
   },
   {
    "duration": 67,
    "start_time": "2023-08-31T07:48:32.297Z"
   },
   {
    "duration": 6,
    "start_time": "2023-08-31T07:48:32.366Z"
   },
   {
    "duration": 63,
    "start_time": "2023-08-31T07:48:32.373Z"
   },
   {
    "duration": 17,
    "start_time": "2023-08-31T07:48:32.438Z"
   },
   {
    "duration": 55,
    "start_time": "2023-08-31T07:48:32.457Z"
   },
   {
    "duration": 341,
    "start_time": "2023-08-31T07:48:32.514Z"
   },
   {
    "duration": 198,
    "start_time": "2023-08-31T07:48:32.856Z"
   },
   {
    "duration": 190,
    "start_time": "2023-08-31T07:48:33.057Z"
   },
   {
    "duration": 165,
    "start_time": "2023-08-31T07:48:33.249Z"
   },
   {
    "duration": 3,
    "start_time": "2023-08-31T07:48:33.415Z"
   },
   {
    "duration": 24,
    "start_time": "2023-08-31T07:48:33.423Z"
   },
   {
    "duration": 54,
    "start_time": "2023-08-31T07:48:33.448Z"
   },
   {
    "duration": 45,
    "start_time": "2023-08-31T07:48:33.504Z"
   },
   {
    "duration": 282,
    "start_time": "2023-08-31T07:48:33.551Z"
   },
   {
    "duration": 257,
    "start_time": "2023-08-31T07:48:33.835Z"
   },
   {
    "duration": 86,
    "start_time": "2023-08-31T07:48:34.093Z"
   },
   {
    "duration": 5,
    "start_time": "2023-08-31T07:48:34.180Z"
   },
   {
    "duration": 83,
    "start_time": "2023-08-31T07:48:34.186Z"
   },
   {
    "duration": 53025,
    "start_time": "2023-08-31T07:48:34.271Z"
   },
   {
    "duration": 35173,
    "start_time": "2023-08-31T07:49:27.298Z"
   },
   {
    "duration": 2,
    "start_time": "2023-08-31T07:50:02.473Z"
   },
   {
    "duration": 25,
    "start_time": "2023-08-31T07:50:02.477Z"
   },
   {
    "duration": 643,
    "start_time": "2023-08-31T07:50:02.504Z"
   },
   {
    "duration": 4,
    "start_time": "2023-08-31T07:50:03.148Z"
   },
   {
    "duration": 42773,
    "start_time": "2023-08-31T07:50:03.153Z"
   },
   {
    "duration": 8,
    "start_time": "2023-08-31T07:50:45.929Z"
   },
   {
    "duration": 208,
    "start_time": "2023-08-31T08:05:00.367Z"
   },
   {
    "duration": 11,
    "start_time": "2023-08-31T08:06:08.272Z"
   },
   {
    "duration": 4,
    "start_time": "2023-08-31T08:09:09.841Z"
   },
   {
    "duration": 160,
    "start_time": "2023-08-31T08:20:15.858Z"
   },
   {
    "duration": 3,
    "start_time": "2023-08-31T08:20:23.243Z"
   },
   {
    "duration": 18,
    "start_time": "2023-08-31T08:20:23.758Z"
   },
   {
    "duration": 4,
    "start_time": "2023-08-31T08:21:50.383Z"
   },
   {
    "duration": 2021,
    "start_time": "2023-08-31T08:21:51.024Z"
   },
   {
    "duration": 3,
    "start_time": "2023-08-31T08:22:11.107Z"
   },
   {
    "duration": 61268,
    "start_time": "2023-08-31T08:22:11.765Z"
   },
   {
    "duration": 9,
    "start_time": "2023-08-31T08:25:33.865Z"
   },
   {
    "duration": 16,
    "start_time": "2023-08-31T08:25:43.176Z"
   },
   {
    "duration": 11,
    "start_time": "2023-08-31T08:25:50.299Z"
   },
   {
    "duration": 795,
    "start_time": "2023-08-31T08:25:58.677Z"
   },
   {
    "duration": 4,
    "start_time": "2023-08-31T08:32:21.869Z"
   },
   {
    "duration": 5,
    "start_time": "2023-08-31T08:32:33.588Z"
   },
   {
    "duration": 382,
    "start_time": "2023-08-31T08:36:37.366Z"
   },
   {
    "duration": 108,
    "start_time": "2023-08-31T08:37:01.954Z"
   },
   {
    "duration": 843601,
    "start_time": "2023-08-31T08:37:31.771Z"
   },
   {
    "duration": 25,
    "start_time": "2023-08-31T08:51:35.375Z"
   },
   {
    "duration": 0,
    "start_time": "2023-08-31T08:51:35.402Z"
   },
   {
    "duration": 9,
    "start_time": "2023-08-31T08:51:47.212Z"
   },
   {
    "duration": 27598,
    "start_time": "2023-08-31T08:51:59.829Z"
   },
   {
    "duration": 4,
    "start_time": "2023-08-31T08:53:10.692Z"
   },
   {
    "duration": 13,
    "start_time": "2023-08-31T08:53:16.553Z"
   },
   {
    "duration": 11,
    "start_time": "2023-08-31T08:54:35.764Z"
   },
   {
    "duration": 8,
    "start_time": "2023-08-31T08:54:45.145Z"
   },
   {
    "duration": 27,
    "start_time": "2023-08-31T08:55:01.842Z"
   },
   {
    "duration": 4874,
    "start_time": "2023-08-31T08:55:14.567Z"
   },
   {
    "duration": 4876,
    "start_time": "2023-08-31T08:55:30.068Z"
   },
   {
    "duration": 4817,
    "start_time": "2023-08-31T08:56:02.351Z"
   },
   {
    "duration": 5041,
    "start_time": "2023-08-31T09:00:02.292Z"
   },
   {
    "duration": 9,
    "start_time": "2023-08-31T09:00:10.449Z"
   },
   {
    "duration": 8,
    "start_time": "2023-08-31T09:00:14.151Z"
   },
   {
    "duration": 4,
    "start_time": "2023-08-31T09:00:18.892Z"
   },
   {
    "duration": 6,
    "start_time": "2023-08-31T09:04:29.014Z"
   },
   {
    "duration": 6,
    "start_time": "2023-08-31T09:06:21.934Z"
   },
   {
    "duration": 5,
    "start_time": "2023-08-31T10:02:52.466Z"
   },
   {
    "duration": 5,
    "start_time": "2023-08-31T10:09:56.326Z"
   },
   {
    "duration": 85826,
    "start_time": "2023-08-31T10:11:13.514Z"
   },
   {
    "duration": 4,
    "start_time": "2023-08-31T10:12:39.341Z"
   },
   {
    "duration": 0,
    "start_time": "2023-08-31T10:21:42.133Z"
   },
   {
    "duration": 0,
    "start_time": "2023-08-31T10:21:42.135Z"
   },
   {
    "duration": 0,
    "start_time": "2023-08-31T10:21:42.136Z"
   },
   {
    "duration": 0,
    "start_time": "2023-08-31T10:21:42.138Z"
   },
   {
    "duration": 0,
    "start_time": "2023-08-31T10:21:42.139Z"
   },
   {
    "duration": 0,
    "start_time": "2023-08-31T10:21:42.140Z"
   },
   {
    "duration": 26092,
    "start_time": "2023-08-31T10:21:49.636Z"
   },
   {
    "duration": 2054362,
    "start_time": "2023-08-31T10:22:31.781Z"
   },
   {
    "duration": 8,
    "start_time": "2023-08-31T11:09:18.109Z"
   },
   {
    "duration": 12005,
    "start_time": "2023-08-31T11:09:29.051Z"
   },
   {
    "duration": 11996,
    "start_time": "2023-08-31T11:09:45.050Z"
   },
   {
    "duration": 4,
    "start_time": "2023-08-31T11:09:57.048Z"
   },
   {
    "duration": 120,
    "start_time": "2023-08-31T11:09:57.053Z"
   },
   {
    "duration": 60092,
    "start_time": "2023-08-31T11:11:19.540Z"
   },
   {
    "duration": 11,
    "start_time": "2023-08-31T11:36:03.060Z"
   },
   {
    "duration": 25559,
    "start_time": "2023-08-31T11:36:11.970Z"
   },
   {
    "duration": 4,
    "start_time": "2023-08-31T11:36:37.531Z"
   },
   {
    "duration": 6,
    "start_time": "2023-08-31T11:36:37.537Z"
   },
   {
    "duration": 8,
    "start_time": "2023-08-31T11:36:37.544Z"
   },
   {
    "duration": 110,
    "start_time": "2023-08-31T11:37:10.962Z"
   },
   {
    "duration": 5,
    "start_time": "2023-08-31T11:37:14.361Z"
   },
   {
    "duration": 5,
    "start_time": "2023-08-31T11:37:16.671Z"
   },
   {
    "duration": 4,
    "start_time": "2023-08-31T11:50:24.868Z"
   },
   {
    "duration": 3,
    "start_time": "2023-08-31T12:00:18.033Z"
   },
   {
    "duration": 4,
    "start_time": "2023-08-31T12:05:56.680Z"
   },
   {
    "duration": 13,
    "start_time": "2023-08-31T12:08:01.553Z"
   },
   {
    "duration": 4,
    "start_time": "2023-08-31T12:08:07.309Z"
   },
   {
    "duration": 10,
    "start_time": "2023-08-31T12:16:01.183Z"
   },
   {
    "duration": 5,
    "start_time": "2023-08-31T12:16:10.376Z"
   },
   {
    "duration": 12,
    "start_time": "2023-08-31T12:22:37.276Z"
   },
   {
    "duration": 4,
    "start_time": "2023-08-31T12:24:06.756Z"
   },
   {
    "duration": 12,
    "start_time": "2023-08-31T12:24:12.934Z"
   },
   {
    "duration": 5,
    "start_time": "2023-08-31T12:24:56.339Z"
   },
   {
    "duration": 5,
    "start_time": "2023-08-31T12:24:59.755Z"
   },
   {
    "duration": 10,
    "start_time": "2023-08-31T12:25:04.273Z"
   },
   {
    "duration": 3,
    "start_time": "2023-08-31T12:25:08.827Z"
   },
   {
    "duration": 2,
    "start_time": "2023-08-31T12:25:14.008Z"
   },
   {
    "duration": 3008,
    "start_time": "2023-08-31T12:25:14.894Z"
   },
   {
    "duration": 403775,
    "start_time": "2023-08-31T12:26:43.274Z"
   },
   {
    "duration": 1875,
    "start_time": "2023-08-31T14:34:27.589Z"
   },
   {
    "duration": 12,
    "start_time": "2023-08-31T14:34:40.760Z"
   },
   {
    "duration": 37,
    "start_time": "2023-08-31T14:34:40.776Z"
   },
   {
    "duration": 1383,
    "start_time": "2023-08-31T14:34:40.815Z"
   },
   {
    "duration": 208,
    "start_time": "2023-08-31T14:34:42.201Z"
   },
   {
    "duration": 129,
    "start_time": "2023-08-31T14:34:42.412Z"
   },
   {
    "duration": 16,
    "start_time": "2023-08-31T14:34:42.546Z"
   },
   {
    "duration": 70,
    "start_time": "2023-08-31T14:34:42.565Z"
   },
   {
    "duration": 66,
    "start_time": "2023-08-31T14:34:42.646Z"
   },
   {
    "duration": 79,
    "start_time": "2023-08-31T14:34:42.714Z"
   },
   {
    "duration": 70,
    "start_time": "2023-08-31T14:34:42.795Z"
   },
   {
    "duration": 13,
    "start_time": "2023-08-31T14:34:42.868Z"
   },
   {
    "duration": 44,
    "start_time": "2023-08-31T14:34:42.883Z"
   },
   {
    "duration": 16,
    "start_time": "2023-08-31T14:34:42.930Z"
   },
   {
    "duration": 8,
    "start_time": "2023-08-31T14:34:42.951Z"
   },
   {
    "duration": 4,
    "start_time": "2023-08-31T14:34:42.961Z"
   },
   {
    "duration": 129,
    "start_time": "2023-08-31T14:34:42.968Z"
   },
   {
    "duration": 84,
    "start_time": "2023-08-31T14:34:43.099Z"
   },
   {
    "duration": 176,
    "start_time": "2023-08-31T14:34:43.185Z"
   },
   {
    "duration": 14,
    "start_time": "2023-08-31T14:34:43.363Z"
   },
   {
    "duration": 3,
    "start_time": "2023-08-31T14:34:43.379Z"
   },
   {
    "duration": 5092,
    "start_time": "2023-08-31T14:34:43.383Z"
   },
   {
    "duration": 981,
    "start_time": "2023-08-31T14:34:48.477Z"
   },
   {
    "duration": 110,
    "start_time": "2023-08-31T14:34:49.460Z"
   },
   {
    "duration": 152,
    "start_time": "2023-08-31T14:34:49.572Z"
   },
   {
    "duration": 1175,
    "start_time": "2023-08-31T14:34:49.726Z"
   },
   {
    "duration": 999,
    "start_time": "2023-08-31T14:34:50.904Z"
   },
   {
    "duration": 2489,
    "start_time": "2023-08-31T14:34:51.905Z"
   },
   {
    "duration": 13,
    "start_time": "2023-08-31T14:34:54.396Z"
   },
   {
    "duration": 48,
    "start_time": "2023-08-31T14:34:54.411Z"
   },
   {
    "duration": 12,
    "start_time": "2023-08-31T14:34:54.462Z"
   },
   {
    "duration": 20,
    "start_time": "2023-08-31T14:34:54.476Z"
   },
   {
    "duration": 40,
    "start_time": "2023-08-31T14:34:54.498Z"
   },
   {
    "duration": 14,
    "start_time": "2023-08-31T14:34:54.540Z"
   },
   {
    "duration": 64,
    "start_time": "2023-08-31T14:34:54.556Z"
   },
   {
    "duration": 4,
    "start_time": "2023-08-31T14:34:54.622Z"
   },
   {
    "duration": 25,
    "start_time": "2023-08-31T14:34:54.627Z"
   },
   {
    "duration": 335,
    "start_time": "2023-08-31T14:34:54.654Z"
   },
   {
    "duration": 256,
    "start_time": "2023-08-31T14:34:54.991Z"
   },
   {
    "duration": 273,
    "start_time": "2023-08-31T14:34:55.249Z"
   },
   {
    "duration": 229,
    "start_time": "2023-08-31T14:34:55.524Z"
   },
   {
    "duration": 14,
    "start_time": "2023-08-31T14:34:55.759Z"
   },
   {
    "duration": 14,
    "start_time": "2023-08-31T14:34:55.775Z"
   },
   {
    "duration": 40,
    "start_time": "2023-08-31T14:34:55.791Z"
   },
   {
    "duration": 45,
    "start_time": "2023-08-31T14:34:55.833Z"
   },
   {
    "duration": 359,
    "start_time": "2023-08-31T14:34:55.880Z"
   },
   {
    "duration": 293,
    "start_time": "2023-08-31T14:34:56.247Z"
   },
   {
    "duration": 106,
    "start_time": "2023-08-31T14:34:56.548Z"
   },
   {
    "duration": 16,
    "start_time": "2023-08-31T14:34:56.657Z"
   },
   {
    "duration": 76,
    "start_time": "2023-08-31T14:34:56.677Z"
   },
   {
    "duration": 71015,
    "start_time": "2023-08-31T14:34:56.757Z"
   },
   {
    "duration": 50986,
    "start_time": "2023-08-31T14:36:07.774Z"
   },
   {
    "duration": 5,
    "start_time": "2023-08-31T14:36:58.768Z"
   },
   {
    "duration": 11,
    "start_time": "2023-08-31T14:36:58.777Z"
   },
   {
    "duration": 653,
    "start_time": "2023-08-31T14:36:58.790Z"
   },
   {
    "duration": 17,
    "start_time": "2023-08-31T14:36:59.445Z"
   },
   {
    "duration": 165899,
    "start_time": "2023-08-31T14:36:59.464Z"
   },
   {
    "duration": 84,
    "start_time": "2023-08-31T14:39:45.366Z"
   },
   {
    "duration": 264,
    "start_time": "2023-08-31T14:45:07.642Z"
   },
   {
    "duration": 3,
    "start_time": "2023-08-31T14:45:10.881Z"
   },
   {
    "duration": 2,
    "start_time": "2023-08-31T14:45:11.093Z"
   },
   {
    "duration": 3,
    "start_time": "2023-08-31T14:45:11.282Z"
   },
   {
    "duration": 487847,
    "start_time": "2023-08-31T14:45:11.632Z"
   },
   {
    "duration": 35969,
    "start_time": "2023-08-31T14:53:19.488Z"
   },
   {
    "duration": 5,
    "start_time": "2023-08-31T14:53:55.547Z"
   },
   {
    "duration": 3,
    "start_time": "2023-08-31T14:57:28.762Z"
   },
   {
    "duration": 3,
    "start_time": "2023-08-31T14:57:38.200Z"
   },
   {
    "duration": 5,
    "start_time": "2023-08-31T14:57:43.176Z"
   },
   {
    "duration": 2,
    "start_time": "2023-08-31T14:58:09.699Z"
   },
   {
    "duration": 7,
    "start_time": "2023-08-31T15:01:44.544Z"
   },
   {
    "duration": 87,
    "start_time": "2023-08-31T15:02:58.528Z"
   },
   {
    "duration": 3,
    "start_time": "2023-08-31T15:03:04.491Z"
   },
   {
    "duration": 569041,
    "start_time": "2023-08-31T15:03:06.415Z"
   },
   {
    "duration": 2,
    "start_time": "2023-08-31T15:19:58.792Z"
   },
   {
    "duration": 41311,
    "start_time": "2023-08-31T15:20:02.959Z"
   },
   {
    "duration": 4,
    "start_time": "2023-08-31T15:20:44.273Z"
   },
   {
    "duration": 8,
    "start_time": "2023-08-31T15:20:44.279Z"
   },
   {
    "duration": 5,
    "start_time": "2023-08-31T15:21:06.293Z"
   },
   {
    "duration": 4,
    "start_time": "2023-08-31T15:21:07.258Z"
   },
   {
    "duration": 3,
    "start_time": "2023-08-31T15:21:26.336Z"
   },
   {
    "duration": 8,
    "start_time": "2023-08-31T15:21:43.689Z"
   },
   {
    "duration": 7,
    "start_time": "2023-08-31T15:43:20.165Z"
   },
   {
    "duration": 7,
    "start_time": "2023-08-31T15:43:34.206Z"
   },
   {
    "duration": 3,
    "start_time": "2023-08-31T15:50:34.602Z"
   },
   {
    "duration": 0,
    "start_time": "2023-08-31T15:52:51.201Z"
   },
   {
    "duration": 0,
    "start_time": "2023-08-31T15:52:51.234Z"
   },
   {
    "duration": 20317,
    "start_time": "2023-08-31T15:52:52.302Z"
   },
   {
    "duration": 92383,
    "start_time": "2023-08-31T15:53:14.329Z"
   },
   {
    "duration": 864,
    "start_time": "2023-08-31T15:55:20.499Z"
   },
   {
    "duration": 907,
    "start_time": "2023-08-31T15:55:47.085Z"
   },
   {
    "duration": 5,
    "start_time": "2023-08-31T15:56:39.019Z"
   },
   {
    "duration": 9,
    "start_time": "2023-08-31T15:57:35.063Z"
   },
   {
    "duration": 5,
    "start_time": "2023-08-31T15:57:50.037Z"
   },
   {
    "duration": 1647,
    "start_time": "2023-08-31T19:52:34.067Z"
   },
   {
    "duration": 1611,
    "start_time": "2023-09-01T19:16:58.482Z"
   },
   {
    "duration": 44,
    "start_time": "2023-09-01T19:17:00.096Z"
   },
   {
    "duration": 2897,
    "start_time": "2023-09-01T19:17:00.142Z"
   },
   {
    "duration": 146,
    "start_time": "2023-09-01T19:17:03.040Z"
   },
   {
    "duration": 149,
    "start_time": "2023-09-01T19:17:03.188Z"
   },
   {
    "duration": 6,
    "start_time": "2023-09-01T19:17:03.339Z"
   },
   {
    "duration": 78,
    "start_time": "2023-09-01T19:17:03.346Z"
   },
   {
    "duration": 52,
    "start_time": "2023-09-01T19:17:03.426Z"
   },
   {
    "duration": 46,
    "start_time": "2023-09-01T19:17:03.480Z"
   },
   {
    "duration": 56,
    "start_time": "2023-09-01T19:17:03.528Z"
   },
   {
    "duration": 18,
    "start_time": "2023-09-01T19:17:03.585Z"
   },
   {
    "duration": 119,
    "start_time": "2023-09-01T19:17:03.605Z"
   },
   {
    "duration": 46,
    "start_time": "2023-09-01T19:17:03.726Z"
   },
   {
    "duration": 18,
    "start_time": "2023-09-01T19:17:03.776Z"
   },
   {
    "duration": 42,
    "start_time": "2023-09-01T19:17:03.795Z"
   },
   {
    "duration": 93,
    "start_time": "2023-09-01T19:17:03.839Z"
   },
   {
    "duration": 56,
    "start_time": "2023-09-01T19:17:03.934Z"
   },
   {
    "duration": 194,
    "start_time": "2023-09-01T19:17:03.992Z"
   },
   {
    "duration": 14,
    "start_time": "2023-09-01T19:17:04.188Z"
   },
   {
    "duration": 31,
    "start_time": "2023-09-01T19:17:04.205Z"
   },
   {
    "duration": 4101,
    "start_time": "2023-09-01T19:17:04.238Z"
   },
   {
    "duration": 713,
    "start_time": "2023-09-01T19:17:08.344Z"
   },
   {
    "duration": 86,
    "start_time": "2023-09-01T19:17:09.059Z"
   },
   {
    "duration": 136,
    "start_time": "2023-09-01T19:17:09.147Z"
   },
   {
    "duration": 860,
    "start_time": "2023-09-01T19:17:09.285Z"
   },
   {
    "duration": 775,
    "start_time": "2023-09-01T19:17:10.147Z"
   },
   {
    "duration": 1764,
    "start_time": "2023-09-01T19:17:10.924Z"
   },
   {
    "duration": 12,
    "start_time": "2023-09-01T19:17:12.689Z"
   },
   {
    "duration": 42,
    "start_time": "2023-09-01T19:17:12.702Z"
   },
   {
    "duration": 8,
    "start_time": "2023-09-01T19:17:12.746Z"
   },
   {
    "duration": 4,
    "start_time": "2023-09-01T19:17:12.756Z"
   },
   {
    "duration": 26,
    "start_time": "2023-09-01T19:17:12.761Z"
   },
   {
    "duration": 4,
    "start_time": "2023-09-01T19:17:32.867Z"
   },
   {
    "duration": 4,
    "start_time": "2023-09-01T19:19:24.931Z"
   },
   {
    "duration": 9,
    "start_time": "2023-09-01T19:21:46.696Z"
   },
   {
    "duration": 23,
    "start_time": "2023-09-01T19:21:55.594Z"
   },
   {
    "duration": 12,
    "start_time": "2023-09-01T19:26:13.371Z"
   },
   {
    "duration": 11,
    "start_time": "2023-09-01T19:26:20.561Z"
   },
   {
    "duration": 14,
    "start_time": "2023-09-01T19:26:24.284Z"
   },
   {
    "duration": 120,
    "start_time": "2023-09-01T21:27:44.990Z"
   },
   {
    "duration": 105,
    "start_time": "2023-09-01T21:28:05.065Z"
   },
   {
    "duration": 100,
    "start_time": "2023-09-01T21:28:16.106Z"
   },
   {
    "duration": 11,
    "start_time": "2023-09-01T21:28:39.760Z"
   },
   {
    "duration": 10,
    "start_time": "2023-09-01T21:28:43.258Z"
   },
   {
    "duration": 10,
    "start_time": "2023-09-01T21:28:45.492Z"
   },
   {
    "duration": 10,
    "start_time": "2023-09-01T21:28:47.448Z"
   },
   {
    "duration": 11,
    "start_time": "2023-09-01T21:28:52.686Z"
   },
   {
    "duration": 13,
    "start_time": "2023-09-01T21:29:04.093Z"
   },
   {
    "duration": 20,
    "start_time": "2023-09-01T21:31:49.202Z"
   },
   {
    "duration": 164,
    "start_time": "2023-09-01T21:35:58.046Z"
   },
   {
    "duration": 15023,
    "start_time": "2023-09-01T21:36:33.357Z"
   },
   {
    "duration": 20426,
    "start_time": "2023-09-01T21:36:48.382Z"
   },
   {
    "duration": 1985,
    "start_time": "2023-09-02T07:02:47.376Z"
   },
   {
    "duration": 44,
    "start_time": "2023-09-02T07:02:49.363Z"
   },
   {
    "duration": 1411,
    "start_time": "2023-09-02T07:02:49.409Z"
   },
   {
    "duration": 165,
    "start_time": "2023-09-02T07:02:50.825Z"
   },
   {
    "duration": 173,
    "start_time": "2023-09-02T07:02:50.992Z"
   },
   {
    "duration": 5,
    "start_time": "2023-09-02T07:02:51.167Z"
   },
   {
    "duration": 109,
    "start_time": "2023-09-02T07:02:51.173Z"
   },
   {
    "duration": 57,
    "start_time": "2023-09-02T07:02:51.283Z"
   },
   {
    "duration": 47,
    "start_time": "2023-09-02T07:02:51.342Z"
   },
   {
    "duration": 54,
    "start_time": "2023-09-02T07:02:51.411Z"
   },
   {
    "duration": 26,
    "start_time": "2023-09-02T07:02:51.467Z"
   },
   {
    "duration": 61,
    "start_time": "2023-09-02T07:02:51.495Z"
   },
   {
    "duration": 28,
    "start_time": "2023-09-02T07:02:51.559Z"
   },
   {
    "duration": 34,
    "start_time": "2023-09-02T07:02:51.589Z"
   },
   {
    "duration": 4,
    "start_time": "2023-09-02T07:02:51.633Z"
   },
   {
    "duration": 125,
    "start_time": "2023-09-02T07:02:51.638Z"
   },
   {
    "duration": 86,
    "start_time": "2023-09-02T07:02:51.766Z"
   },
   {
    "duration": 187,
    "start_time": "2023-09-02T07:02:51.854Z"
   },
   {
    "duration": 12,
    "start_time": "2023-09-02T07:02:52.043Z"
   },
   {
    "duration": 3,
    "start_time": "2023-09-02T07:02:52.056Z"
   },
   {
    "duration": 6377,
    "start_time": "2023-09-02T07:02:52.060Z"
   },
   {
    "duration": 920,
    "start_time": "2023-09-02T07:02:58.439Z"
   },
   {
    "duration": 123,
    "start_time": "2023-09-02T07:02:59.362Z"
   },
   {
    "duration": 170,
    "start_time": "2023-09-02T07:02:59.486Z"
   },
   {
    "duration": 1049,
    "start_time": "2023-09-02T07:02:59.658Z"
   },
   {
    "duration": 919,
    "start_time": "2023-09-02T07:03:00.713Z"
   },
   {
    "duration": 2031,
    "start_time": "2023-09-02T07:03:01.634Z"
   },
   {
    "duration": 12,
    "start_time": "2023-09-02T07:03:03.668Z"
   },
   {
    "duration": 42,
    "start_time": "2023-09-02T07:03:03.682Z"
   },
   {
    "duration": 8,
    "start_time": "2023-09-02T07:03:03.726Z"
   },
   {
    "duration": 6,
    "start_time": "2023-09-02T07:03:03.736Z"
   },
   {
    "duration": 35,
    "start_time": "2023-09-02T07:03:03.744Z"
   },
   {
    "duration": 20,
    "start_time": "2023-09-02T07:03:03.783Z"
   },
   {
    "duration": 25,
    "start_time": "2023-09-02T07:03:03.805Z"
   },
   {
    "duration": 7,
    "start_time": "2023-09-02T07:03:03.832Z"
   },
   {
    "duration": 130,
    "start_time": "2023-09-02T07:03:03.840Z"
   },
   {
    "duration": 12,
    "start_time": "2023-09-02T07:03:03.972Z"
   },
   {
    "duration": 33,
    "start_time": "2023-09-02T07:03:03.986Z"
   },
   {
    "duration": 33,
    "start_time": "2023-09-02T07:03:04.021Z"
   },
   {
    "duration": 4,
    "start_time": "2023-09-02T07:03:04.056Z"
   },
   {
    "duration": 27,
    "start_time": "2023-09-02T07:03:04.062Z"
   },
   {
    "duration": 441,
    "start_time": "2023-09-02T07:03:04.092Z"
   },
   {
    "duration": 293,
    "start_time": "2023-09-02T07:03:04.536Z"
   },
   {
    "duration": 194,
    "start_time": "2023-09-02T07:03:04.831Z"
   },
   {
    "duration": 167,
    "start_time": "2023-09-02T07:03:05.027Z"
   },
   {
    "duration": 14,
    "start_time": "2023-09-02T07:03:05.196Z"
   },
   {
    "duration": 10,
    "start_time": "2023-09-02T07:03:05.211Z"
   },
   {
    "duration": 24,
    "start_time": "2023-09-02T07:03:05.223Z"
   },
   {
    "duration": 35,
    "start_time": "2023-09-02T07:03:05.249Z"
   },
   {
    "duration": 299,
    "start_time": "2023-09-02T07:03:05.286Z"
   },
   {
    "duration": 272,
    "start_time": "2023-09-02T07:03:05.587Z"
   },
   {
    "duration": 17569,
    "start_time": "2023-09-02T07:03:05.861Z"
   },
   {
    "duration": 24740,
    "start_time": "2023-09-02T07:03:23.432Z"
   },
   {
    "duration": 193,
    "start_time": "2023-09-02T08:10:29.575Z"
   },
   {
    "duration": 3327,
    "start_time": "2023-09-02T08:10:49.591Z"
   },
   {
    "duration": 92,
    "start_time": "2023-09-02T08:11:06.198Z"
   },
   {
    "duration": 93,
    "start_time": "2023-09-02T08:13:10.525Z"
   },
   {
    "duration": 134,
    "start_time": "2023-09-02T08:14:31.394Z"
   },
   {
    "duration": 9,
    "start_time": "2023-09-02T08:14:33.326Z"
   },
   {
    "duration": 1663,
    "start_time": "2023-09-02T08:14:45.286Z"
   },
   {
    "duration": 1909,
    "start_time": "2023-09-02T08:15:33.797Z"
   },
   {
    "duration": 23,
    "start_time": "2023-09-02T08:15:44.273Z"
   },
   {
    "duration": 979,
    "start_time": "2023-09-02T08:17:20.436Z"
   },
   {
    "duration": 1310,
    "start_time": "2023-09-02T08:17:29.060Z"
   },
   {
    "duration": 14,
    "start_time": "2023-09-02T08:17:33.744Z"
   },
   {
    "duration": 1593,
    "start_time": "2023-09-02T08:19:42.615Z"
   },
   {
    "duration": 1356,
    "start_time": "2023-09-02T08:19:44.215Z"
   },
   {
    "duration": 14,
    "start_time": "2023-09-02T08:19:45.573Z"
   },
   {
    "duration": 3,
    "start_time": "2023-09-02T08:20:10.021Z"
   },
   {
    "duration": 3,
    "start_time": "2023-09-02T08:20:10.419Z"
   },
   {
    "duration": 66,
    "start_time": "2023-09-02T08:21:38.175Z"
   },
   {
    "duration": 0,
    "start_time": "2023-09-02T08:23:19.879Z"
   },
   {
    "duration": 1,
    "start_time": "2023-09-02T08:23:19.879Z"
   },
   {
    "duration": 0,
    "start_time": "2023-09-02T08:23:19.880Z"
   },
   {
    "duration": 0,
    "start_time": "2023-09-02T08:23:19.881Z"
   },
   {
    "duration": 0,
    "start_time": "2023-09-02T08:23:19.882Z"
   },
   {
    "duration": 0,
    "start_time": "2023-09-02T08:23:19.884Z"
   },
   {
    "duration": 0,
    "start_time": "2023-09-02T08:23:19.902Z"
   },
   {
    "duration": 0,
    "start_time": "2023-09-02T08:23:19.903Z"
   },
   {
    "duration": 0,
    "start_time": "2023-09-02T08:23:19.904Z"
   },
   {
    "duration": 0,
    "start_time": "2023-09-02T08:23:19.904Z"
   },
   {
    "duration": 0,
    "start_time": "2023-09-02T08:23:19.905Z"
   },
   {
    "duration": 0,
    "start_time": "2023-09-02T08:23:19.906Z"
   },
   {
    "duration": 0,
    "start_time": "2023-09-02T08:23:19.907Z"
   },
   {
    "duration": 0,
    "start_time": "2023-09-02T08:23:19.908Z"
   },
   {
    "duration": 0,
    "start_time": "2023-09-02T08:23:19.909Z"
   },
   {
    "duration": 0,
    "start_time": "2023-09-02T08:23:19.909Z"
   },
   {
    "duration": 0,
    "start_time": "2023-09-02T08:23:19.911Z"
   },
   {
    "duration": 0,
    "start_time": "2023-09-02T08:23:19.913Z"
   },
   {
    "duration": 0,
    "start_time": "2023-09-02T08:23:19.914Z"
   },
   {
    "duration": 0,
    "start_time": "2023-09-02T08:23:19.915Z"
   },
   {
    "duration": 0,
    "start_time": "2023-09-02T08:23:19.917Z"
   },
   {
    "duration": 0,
    "start_time": "2023-09-02T08:23:19.918Z"
   },
   {
    "duration": 0,
    "start_time": "2023-09-02T08:23:19.919Z"
   },
   {
    "duration": 0,
    "start_time": "2023-09-02T08:23:19.920Z"
   },
   {
    "duration": 0,
    "start_time": "2023-09-02T08:23:19.921Z"
   },
   {
    "duration": 0,
    "start_time": "2023-09-02T08:23:19.923Z"
   },
   {
    "duration": 0,
    "start_time": "2023-09-02T08:23:19.924Z"
   },
   {
    "duration": 0,
    "start_time": "2023-09-02T08:23:19.925Z"
   },
   {
    "duration": 0,
    "start_time": "2023-09-02T08:23:19.926Z"
   },
   {
    "duration": 0,
    "start_time": "2023-09-02T08:23:19.927Z"
   },
   {
    "duration": 0,
    "start_time": "2023-09-02T08:23:19.928Z"
   },
   {
    "duration": 0,
    "start_time": "2023-09-02T08:23:19.929Z"
   },
   {
    "duration": 0,
    "start_time": "2023-09-02T08:23:19.931Z"
   },
   {
    "duration": 0,
    "start_time": "2023-09-02T08:23:19.934Z"
   },
   {
    "duration": 0,
    "start_time": "2023-09-02T08:23:19.936Z"
   },
   {
    "duration": 0,
    "start_time": "2023-09-02T08:23:19.936Z"
   },
   {
    "duration": 0,
    "start_time": "2023-09-02T08:23:19.937Z"
   },
   {
    "duration": 0,
    "start_time": "2023-09-02T08:23:19.938Z"
   },
   {
    "duration": 0,
    "start_time": "2023-09-02T08:23:19.939Z"
   },
   {
    "duration": 0,
    "start_time": "2023-09-02T08:23:19.941Z"
   },
   {
    "duration": 0,
    "start_time": "2023-09-02T08:23:19.941Z"
   },
   {
    "duration": 0,
    "start_time": "2023-09-02T08:23:19.943Z"
   },
   {
    "duration": 0,
    "start_time": "2023-09-02T08:23:19.944Z"
   },
   {
    "duration": 0,
    "start_time": "2023-09-02T08:23:20.003Z"
   },
   {
    "duration": 0,
    "start_time": "2023-09-02T08:23:20.009Z"
   },
   {
    "duration": 0,
    "start_time": "2023-09-02T08:23:20.011Z"
   },
   {
    "duration": 0,
    "start_time": "2023-09-02T08:23:20.016Z"
   },
   {
    "duration": 0,
    "start_time": "2023-09-02T08:23:20.020Z"
   },
   {
    "duration": 0,
    "start_time": "2023-09-02T08:23:20.022Z"
   },
   {
    "duration": 0,
    "start_time": "2023-09-02T08:23:20.023Z"
   },
   {
    "duration": 0,
    "start_time": "2023-09-02T08:23:20.025Z"
   },
   {
    "duration": 0,
    "start_time": "2023-09-02T08:23:20.027Z"
   },
   {
    "duration": 0,
    "start_time": "2023-09-02T08:23:20.028Z"
   },
   {
    "duration": 0,
    "start_time": "2023-09-02T08:23:20.030Z"
   },
   {
    "duration": 0,
    "start_time": "2023-09-02T08:23:20.032Z"
   },
   {
    "duration": 0,
    "start_time": "2023-09-02T08:23:20.033Z"
   },
   {
    "duration": 0,
    "start_time": "2023-09-02T08:23:20.035Z"
   },
   {
    "duration": 0,
    "start_time": "2023-09-02T08:23:20.036Z"
   },
   {
    "duration": 0,
    "start_time": "2023-09-02T08:23:20.038Z"
   },
   {
    "duration": 0,
    "start_time": "2023-09-02T08:23:20.039Z"
   },
   {
    "duration": 0,
    "start_time": "2023-09-02T08:23:20.041Z"
   },
   {
    "duration": 0,
    "start_time": "2023-09-02T08:23:20.042Z"
   },
   {
    "duration": 0,
    "start_time": "2023-09-02T08:23:20.043Z"
   },
   {
    "duration": 0,
    "start_time": "2023-09-02T08:23:20.045Z"
   },
   {
    "duration": 0,
    "start_time": "2023-09-02T08:23:20.046Z"
   },
   {
    "duration": 0,
    "start_time": "2023-09-02T08:23:20.048Z"
   },
   {
    "duration": 0,
    "start_time": "2023-09-02T08:23:20.049Z"
   },
   {
    "duration": 1,
    "start_time": "2023-09-02T08:23:20.103Z"
   },
   {
    "duration": 0,
    "start_time": "2023-09-02T08:23:20.104Z"
   },
   {
    "duration": 0,
    "start_time": "2023-09-02T08:23:20.105Z"
   },
   {
    "duration": 0,
    "start_time": "2023-09-02T08:23:20.106Z"
   },
   {
    "duration": 2818,
    "start_time": "2023-09-02T08:23:22.309Z"
   },
   {
    "duration": 2733,
    "start_time": "2023-09-02T08:23:45.320Z"
   },
   {
    "duration": 5,
    "start_time": "2023-09-02T08:23:48.056Z"
   },
   {
    "duration": 49,
    "start_time": "2023-09-02T08:23:48.063Z"
   },
   {
    "duration": 1631,
    "start_time": "2023-09-02T08:23:48.115Z"
   },
   {
    "duration": 564,
    "start_time": "2023-09-02T08:23:49.749Z"
   },
   {
    "duration": 222,
    "start_time": "2023-09-02T08:23:50.318Z"
   },
   {
    "duration": 75,
    "start_time": "2023-09-02T08:23:50.542Z"
   },
   {
    "duration": 104,
    "start_time": "2023-09-02T08:23:50.618Z"
   },
   {
    "duration": 102,
    "start_time": "2023-09-02T08:23:50.724Z"
   },
   {
    "duration": 104,
    "start_time": "2023-09-02T08:23:50.828Z"
   },
   {
    "duration": 75,
    "start_time": "2023-09-02T08:23:50.934Z"
   },
   {
    "duration": 6,
    "start_time": "2023-09-02T08:23:51.016Z"
   },
   {
    "duration": 35,
    "start_time": "2023-09-02T08:23:51.024Z"
   },
   {
    "duration": 8,
    "start_time": "2023-09-02T08:23:51.110Z"
   },
   {
    "duration": 25,
    "start_time": "2023-09-02T08:23:51.121Z"
   },
   {
    "duration": 16,
    "start_time": "2023-09-02T08:23:51.148Z"
   },
   {
    "duration": 138,
    "start_time": "2023-09-02T08:23:51.166Z"
   },
   {
    "duration": 61,
    "start_time": "2023-09-02T08:23:51.311Z"
   },
   {
    "duration": 169,
    "start_time": "2023-09-02T08:23:51.374Z"
   },
   {
    "duration": 13,
    "start_time": "2023-09-02T08:23:51.545Z"
   },
   {
    "duration": 14,
    "start_time": "2023-09-02T08:23:51.560Z"
   },
   {
    "duration": 4485,
    "start_time": "2023-09-02T08:23:51.576Z"
   },
   {
    "duration": 873,
    "start_time": "2023-09-02T08:23:56.063Z"
   },
   {
    "duration": 101,
    "start_time": "2023-09-02T08:23:56.938Z"
   },
   {
    "duration": 154,
    "start_time": "2023-09-02T08:23:57.040Z"
   },
   {
    "duration": 901,
    "start_time": "2023-09-02T08:23:57.196Z"
   },
   {
    "duration": 1188,
    "start_time": "2023-09-02T08:23:58.103Z"
   },
   {
    "duration": 1933,
    "start_time": "2023-09-02T08:23:59.292Z"
   },
   {
    "duration": 12,
    "start_time": "2023-09-02T08:24:01.227Z"
   },
   {
    "duration": 42,
    "start_time": "2023-09-02T08:24:01.241Z"
   },
   {
    "duration": 30,
    "start_time": "2023-09-02T08:24:01.285Z"
   },
   {
    "duration": 30,
    "start_time": "2023-09-02T08:24:01.318Z"
   },
   {
    "duration": 106,
    "start_time": "2023-09-02T08:24:01.350Z"
   },
   {
    "duration": 35,
    "start_time": "2023-09-02T08:24:01.457Z"
   },
   {
    "duration": 52,
    "start_time": "2023-09-02T08:24:01.493Z"
   },
   {
    "duration": 52,
    "start_time": "2023-09-02T08:24:01.547Z"
   },
   {
    "duration": 238,
    "start_time": "2023-09-02T08:24:01.601Z"
   },
   {
    "duration": 13,
    "start_time": "2023-09-02T08:24:01.841Z"
   },
   {
    "duration": 213,
    "start_time": "2023-09-02T08:24:01.856Z"
   },
   {
    "duration": 88,
    "start_time": "2023-09-02T08:24:02.072Z"
   },
   {
    "duration": 29,
    "start_time": "2023-09-02T08:24:02.166Z"
   },
   {
    "duration": 138,
    "start_time": "2023-09-02T08:24:02.197Z"
   },
   {
    "duration": 494,
    "start_time": "2023-09-02T08:24:02.336Z"
   },
   {
    "duration": 195,
    "start_time": "2023-09-02T08:24:02.832Z"
   },
   {
    "duration": 190,
    "start_time": "2023-09-02T08:24:03.029Z"
   },
   {
    "duration": 169,
    "start_time": "2023-09-02T08:24:03.221Z"
   },
   {
    "duration": 19,
    "start_time": "2023-09-02T08:24:03.392Z"
   },
   {
    "duration": 14,
    "start_time": "2023-09-02T08:24:03.413Z"
   },
   {
    "duration": 28,
    "start_time": "2023-09-02T08:24:03.429Z"
   },
   {
    "duration": 21,
    "start_time": "2023-09-02T08:24:03.459Z"
   },
   {
    "duration": 275,
    "start_time": "2023-09-02T08:24:03.482Z"
   },
   {
    "duration": 264,
    "start_time": "2023-09-02T08:24:03.759Z"
   },
   {
    "duration": 3263,
    "start_time": "2023-09-02T08:24:04.025Z"
   },
   {
    "duration": 23483,
    "start_time": "2023-09-02T08:24:07.291Z"
   },
   {
    "duration": 172,
    "start_time": "2023-09-02T08:24:30.776Z"
   },
   {
    "duration": 6,
    "start_time": "2023-09-02T08:24:30.950Z"
   },
   {
    "duration": 98,
    "start_time": "2023-09-02T08:24:30.957Z"
   },
   {
    "duration": 2640,
    "start_time": "2023-09-02T08:25:07.994Z"
   },
   {
    "duration": 1708,
    "start_time": "2023-09-02T08:25:10.636Z"
   },
   {
    "duration": 32,
    "start_time": "2023-09-02T08:25:12.347Z"
   },
   {
    "duration": 1410,
    "start_time": "2023-09-02T08:25:12.381Z"
   },
   {
    "duration": 165,
    "start_time": "2023-09-02T08:25:13.794Z"
   },
   {
    "duration": 124,
    "start_time": "2023-09-02T08:25:13.961Z"
   },
   {
    "duration": 6,
    "start_time": "2023-09-02T08:25:14.086Z"
   },
   {
    "duration": 67,
    "start_time": "2023-09-02T08:25:14.104Z"
   },
   {
    "duration": 72,
    "start_time": "2023-09-02T08:25:14.173Z"
   },
   {
    "duration": 204,
    "start_time": "2023-09-02T08:25:14.248Z"
   },
   {
    "duration": 47,
    "start_time": "2023-09-02T08:25:14.454Z"
   },
   {
    "duration": 39,
    "start_time": "2023-09-02T08:25:14.503Z"
   },
   {
    "duration": 27,
    "start_time": "2023-09-02T08:25:14.544Z"
   },
   {
    "duration": 5,
    "start_time": "2023-09-02T08:25:14.576Z"
   },
   {
    "duration": 42,
    "start_time": "2023-09-02T08:25:14.583Z"
   },
   {
    "duration": 14,
    "start_time": "2023-09-02T08:25:14.627Z"
   },
   {
    "duration": 142,
    "start_time": "2023-09-02T08:25:14.643Z"
   },
   {
    "duration": 84,
    "start_time": "2023-09-02T08:25:14.787Z"
   },
   {
    "duration": 192,
    "start_time": "2023-09-02T08:25:14.873Z"
   },
   {
    "duration": 50,
    "start_time": "2023-09-02T08:25:15.067Z"
   },
   {
    "duration": 3,
    "start_time": "2023-09-02T08:25:15.119Z"
   },
   {
    "duration": 4434,
    "start_time": "2023-09-02T08:25:15.124Z"
   },
   {
    "duration": 903,
    "start_time": "2023-09-02T08:25:19.561Z"
   },
   {
    "duration": 107,
    "start_time": "2023-09-02T08:25:20.466Z"
   },
   {
    "duration": 172,
    "start_time": "2023-09-02T08:25:20.575Z"
   },
   {
    "duration": 998,
    "start_time": "2023-09-02T08:25:20.748Z"
   },
   {
    "duration": 892,
    "start_time": "2023-09-02T08:25:21.748Z"
   },
   {
    "duration": 2015,
    "start_time": "2023-09-02T08:25:22.642Z"
   },
   {
    "duration": 14,
    "start_time": "2023-09-02T08:25:24.658Z"
   },
   {
    "duration": 49,
    "start_time": "2023-09-02T08:25:24.675Z"
   },
   {
    "duration": 11,
    "start_time": "2023-09-02T08:25:24.727Z"
   },
   {
    "duration": 7,
    "start_time": "2023-09-02T08:25:24.740Z"
   },
   {
    "duration": 63,
    "start_time": "2023-09-02T08:25:24.749Z"
   },
   {
    "duration": 10,
    "start_time": "2023-09-02T08:25:24.814Z"
   },
   {
    "duration": 18,
    "start_time": "2023-09-02T08:25:24.827Z"
   },
   {
    "duration": 8,
    "start_time": "2023-09-02T08:25:24.848Z"
   },
   {
    "duration": 158,
    "start_time": "2023-09-02T08:25:24.858Z"
   },
   {
    "duration": 12,
    "start_time": "2023-09-02T08:25:25.019Z"
   },
   {
    "duration": 15,
    "start_time": "2023-09-02T08:25:25.034Z"
   },
   {
    "duration": 66,
    "start_time": "2023-09-02T08:25:25.052Z"
   },
   {
    "duration": 3,
    "start_time": "2023-09-02T08:25:25.124Z"
   },
   {
    "duration": 19,
    "start_time": "2023-09-02T08:25:25.128Z"
   },
   {
    "duration": 410,
    "start_time": "2023-09-02T08:25:25.149Z"
   },
   {
    "duration": 178,
    "start_time": "2023-09-02T08:25:25.561Z"
   },
   {
    "duration": 202,
    "start_time": "2023-09-02T08:25:25.741Z"
   },
   {
    "duration": 173,
    "start_time": "2023-09-02T08:25:25.945Z"
   },
   {
    "duration": 5,
    "start_time": "2023-09-02T08:25:26.119Z"
   },
   {
    "duration": 35,
    "start_time": "2023-09-02T08:25:26.125Z"
   },
   {
    "duration": 60,
    "start_time": "2023-09-02T08:25:26.162Z"
   },
   {
    "duration": 27,
    "start_time": "2023-09-02T08:25:26.223Z"
   },
   {
    "duration": 250,
    "start_time": "2023-09-02T08:25:26.252Z"
   },
   {
    "duration": 264,
    "start_time": "2023-09-02T08:25:26.503Z"
   },
   {
    "duration": 3105,
    "start_time": "2023-09-02T08:25:26.769Z"
   },
   {
    "duration": 26603,
    "start_time": "2023-09-02T08:25:29.876Z"
   },
   {
    "duration": 154,
    "start_time": "2023-09-02T08:25:56.481Z"
   },
   {
    "duration": 6,
    "start_time": "2023-09-02T08:25:56.637Z"
   },
   {
    "duration": 103,
    "start_time": "2023-09-02T08:25:56.645Z"
   },
   {
    "duration": 59867,
    "start_time": "2023-09-02T08:25:56.750Z"
   },
   {
    "duration": 40478,
    "start_time": "2023-09-02T08:26:56.620Z"
   },
   {
    "duration": 11,
    "start_time": "2023-09-02T08:27:37.099Z"
   },
   {
    "duration": 1772,
    "start_time": "2023-09-02T08:27:37.114Z"
   },
   {
    "duration": 1343,
    "start_time": "2023-09-02T08:27:38.888Z"
   },
   {
    "duration": 14,
    "start_time": "2023-09-02T08:27:40.233Z"
   },
   {
    "duration": 47,
    "start_time": "2023-09-02T08:27:40.249Z"
   },
   {
    "duration": 583,
    "start_time": "2023-09-02T08:27:40.298Z"
   },
   {
    "duration": 5,
    "start_time": "2023-09-02T08:27:40.883Z"
   },
   {
    "duration": 50714,
    "start_time": "2023-09-02T08:27:40.890Z"
   },
   {
    "duration": 8,
    "start_time": "2023-09-02T08:28:31.606Z"
   },
   {
    "duration": 68,
    "start_time": "2023-09-02T08:28:31.616Z"
   },
   {
    "duration": 2722840,
    "start_time": "2023-09-02T08:28:31.686Z"
   },
   {
    "duration": 4,
    "start_time": "2023-09-02T09:13:54.528Z"
   },
   {
    "duration": 257,
    "start_time": "2023-09-02T09:13:54.534Z"
   },
   {
    "duration": 0,
    "start_time": "2023-09-02T09:13:54.792Z"
   },
   {
    "duration": 0,
    "start_time": "2023-09-02T09:13:54.802Z"
   },
   {
    "duration": 0,
    "start_time": "2023-09-02T09:13:54.804Z"
   },
   {
    "duration": 0,
    "start_time": "2023-09-02T09:13:54.805Z"
   },
   {
    "duration": 0,
    "start_time": "2023-09-02T09:13:54.806Z"
   },
   {
    "duration": 0,
    "start_time": "2023-09-02T09:13:54.807Z"
   },
   {
    "duration": 1,
    "start_time": "2023-09-02T09:13:54.808Z"
   },
   {
    "duration": 1,
    "start_time": "2023-09-02T09:13:54.809Z"
   },
   {
    "duration": 0,
    "start_time": "2023-09-02T09:13:54.810Z"
   },
   {
    "duration": 0,
    "start_time": "2023-09-02T09:13:54.811Z"
   },
   {
    "duration": 0,
    "start_time": "2023-09-02T09:13:54.813Z"
   },
   {
    "duration": 0,
    "start_time": "2023-09-02T09:13:54.814Z"
   },
   {
    "duration": 0,
    "start_time": "2023-09-02T09:13:54.815Z"
   },
   {
    "duration": 0,
    "start_time": "2023-09-02T09:13:54.816Z"
   },
   {
    "duration": 0,
    "start_time": "2023-09-02T09:13:54.818Z"
   },
   {
    "duration": 0,
    "start_time": "2023-09-02T09:13:54.820Z"
   },
   {
    "duration": 0,
    "start_time": "2023-09-02T09:13:54.821Z"
   },
   {
    "duration": 0,
    "start_time": "2023-09-02T09:13:54.823Z"
   },
   {
    "duration": 0,
    "start_time": "2023-09-02T09:13:54.825Z"
   },
   {
    "duration": 0,
    "start_time": "2023-09-02T09:13:54.826Z"
   },
   {
    "duration": 0,
    "start_time": "2023-09-02T09:13:54.827Z"
   },
   {
    "duration": 4,
    "start_time": "2023-09-02T20:59:40.693Z"
   },
   {
    "duration": 3,
    "start_time": "2023-09-02T20:59:57.792Z"
   },
   {
    "duration": 85,
    "start_time": "2023-09-02T21:27:02.539Z"
   },
   {
    "duration": 97,
    "start_time": "2023-09-02T21:27:11.323Z"
   },
   {
    "duration": 14,
    "start_time": "2023-09-02T21:43:58.766Z"
   },
   {
    "duration": 2,
    "start_time": "2023-09-02T21:44:18.894Z"
   },
   {
    "duration": 175,
    "start_time": "2023-09-02T21:48:54.379Z"
   },
   {
    "duration": 6095,
    "start_time": "2023-09-02T21:49:13.966Z"
   },
   {
    "duration": 115053,
    "start_time": "2023-09-02T21:49:27.751Z"
   },
   {
    "duration": 15,
    "start_time": "2023-09-02T21:52:41.767Z"
   },
   {
    "duration": 85,
    "start_time": "2023-09-02T21:52:44.164Z"
   },
   {
    "duration": 12,
    "start_time": "2023-09-02T21:52:45.097Z"
   },
   {
    "duration": 2968,
    "start_time": "2023-09-02T21:52:49.734Z"
   },
   {
    "duration": 28,
    "start_time": "2023-09-02T21:53:05.325Z"
   },
   {
    "duration": 5,
    "start_time": "2023-09-02T21:54:29.873Z"
   },
   {
    "duration": 2,
    "start_time": "2023-09-02T21:55:34.705Z"
   },
   {
    "duration": 2844,
    "start_time": "2023-09-03T08:27:31.339Z"
   },
   {
    "duration": 1787,
    "start_time": "2023-09-03T08:27:34.187Z"
   },
   {
    "duration": 44,
    "start_time": "2023-09-03T08:27:35.976Z"
   },
   {
    "duration": 3070,
    "start_time": "2023-09-03T08:27:36.022Z"
   },
   {
    "duration": 130,
    "start_time": "2023-09-03T08:27:39.094Z"
   },
   {
    "duration": 93,
    "start_time": "2023-09-03T08:27:39.226Z"
   },
   {
    "duration": 5,
    "start_time": "2023-09-03T08:27:39.321Z"
   },
   {
    "duration": 63,
    "start_time": "2023-09-03T08:27:39.327Z"
   },
   {
    "duration": 58,
    "start_time": "2023-09-03T08:27:39.392Z"
   },
   {
    "duration": 45,
    "start_time": "2023-09-03T08:27:39.452Z"
   },
   {
    "duration": 51,
    "start_time": "2023-09-03T08:27:39.498Z"
   },
   {
    "duration": 6,
    "start_time": "2023-09-03T08:27:39.551Z"
   },
   {
    "duration": 31,
    "start_time": "2023-09-03T08:27:39.558Z"
   },
   {
    "duration": 4,
    "start_time": "2023-09-03T08:27:39.590Z"
   },
   {
    "duration": 6,
    "start_time": "2023-09-03T08:27:39.596Z"
   },
   {
    "duration": 10,
    "start_time": "2023-09-03T08:27:39.603Z"
   },
   {
    "duration": 93,
    "start_time": "2023-09-03T08:27:39.615Z"
   },
   {
    "duration": 54,
    "start_time": "2023-09-03T08:27:39.710Z"
   },
   {
    "duration": 129,
    "start_time": "2023-09-03T08:27:39.765Z"
   },
   {
    "duration": 12,
    "start_time": "2023-09-03T08:27:39.895Z"
   },
   {
    "duration": 2,
    "start_time": "2023-09-03T08:27:39.909Z"
   },
   {
    "duration": 3822,
    "start_time": "2023-09-03T08:27:39.913Z"
   },
   {
    "duration": 786,
    "start_time": "2023-09-03T08:27:43.736Z"
   },
   {
    "duration": 81,
    "start_time": "2023-09-03T08:27:44.523Z"
   },
   {
    "duration": 126,
    "start_time": "2023-09-03T08:27:44.606Z"
   },
   {
    "duration": 748,
    "start_time": "2023-09-03T08:27:44.734Z"
   },
   {
    "duration": 728,
    "start_time": "2023-09-03T08:27:45.484Z"
   },
   {
    "duration": 1695,
    "start_time": "2023-09-03T08:27:46.215Z"
   },
   {
    "duration": 11,
    "start_time": "2023-09-03T08:27:47.912Z"
   },
   {
    "duration": 36,
    "start_time": "2023-09-03T08:27:47.925Z"
   },
   {
    "duration": 9,
    "start_time": "2023-09-03T08:27:47.963Z"
   },
   {
    "duration": 6,
    "start_time": "2023-09-03T08:27:47.974Z"
   },
   {
    "duration": 64,
    "start_time": "2023-09-03T08:27:47.982Z"
   },
   {
    "duration": 5,
    "start_time": "2023-09-03T08:27:48.048Z"
   },
   {
    "duration": 19,
    "start_time": "2023-09-03T08:27:48.055Z"
   },
   {
    "duration": 6,
    "start_time": "2023-09-03T08:27:48.077Z"
   },
   {
    "duration": 131,
    "start_time": "2023-09-03T08:27:48.086Z"
   },
   {
    "duration": 10,
    "start_time": "2023-09-03T08:27:48.219Z"
   },
   {
    "duration": 22,
    "start_time": "2023-09-03T08:27:48.231Z"
   },
   {
    "duration": 34,
    "start_time": "2023-09-03T08:27:48.254Z"
   },
   {
    "duration": 3,
    "start_time": "2023-09-03T08:27:48.290Z"
   },
   {
    "duration": 19,
    "start_time": "2023-09-03T08:27:48.295Z"
   },
   {
    "duration": 386,
    "start_time": "2023-09-03T08:27:48.316Z"
   },
   {
    "duration": 154,
    "start_time": "2023-09-03T08:27:48.703Z"
   },
   {
    "duration": 160,
    "start_time": "2023-09-03T08:27:48.859Z"
   },
   {
    "duration": 142,
    "start_time": "2023-09-03T08:27:49.022Z"
   },
   {
    "duration": 4,
    "start_time": "2023-09-03T08:27:49.166Z"
   },
   {
    "duration": 25,
    "start_time": "2023-09-03T08:27:49.171Z"
   },
   {
    "duration": 19,
    "start_time": "2023-09-03T08:27:49.197Z"
   },
   {
    "duration": 16,
    "start_time": "2023-09-03T08:27:49.217Z"
   },
   {
    "duration": 212,
    "start_time": "2023-09-03T08:27:49.234Z"
   },
   {
    "duration": 207,
    "start_time": "2023-09-03T08:27:49.447Z"
   },
   {
    "duration": 14571,
    "start_time": "2023-09-03T08:27:49.656Z"
   },
   {
    "duration": 21190,
    "start_time": "2023-09-03T08:28:04.230Z"
   },
   {
    "duration": 182,
    "start_time": "2023-09-03T08:28:25.423Z"
   },
   {
    "duration": 6,
    "start_time": "2023-09-03T08:28:25.606Z"
   },
   {
    "duration": 49,
    "start_time": "2023-09-03T08:28:25.646Z"
   },
   {
    "duration": 53592,
    "start_time": "2023-09-03T08:28:25.697Z"
   },
   {
    "duration": 16072,
    "start_time": "2023-09-03T08:29:19.292Z"
   },
   {
    "duration": 2,
    "start_time": "2023-09-03T08:29:35.366Z"
   },
   {
    "duration": 1453,
    "start_time": "2023-09-03T08:29:35.370Z"
   },
   {
    "duration": 1050,
    "start_time": "2023-09-03T08:29:36.825Z"
   },
   {
    "duration": 148,
    "start_time": "2023-09-03T08:29:37.877Z"
   },
   {
    "duration": 21,
    "start_time": "2023-09-03T08:29:38.027Z"
   },
   {
    "duration": 7,
    "start_time": "2023-09-03T08:29:38.049Z"
   },
   {
    "duration": 796,
    "start_time": "2023-09-03T08:29:38.057Z"
   },
   {
    "duration": 4,
    "start_time": "2023-09-03T08:29:38.855Z"
   },
   {
    "duration": 22671,
    "start_time": "2023-09-03T08:31:39.091Z"
   },
   {
    "duration": 9196,
    "start_time": "2023-09-03T08:32:47.920Z"
   },
   {
    "duration": 93,
    "start_time": "2023-09-03T08:35:23.256Z"
   },
   {
    "duration": 83,
    "start_time": "2023-09-03T08:35:35.508Z"
   },
   {
    "duration": 5,
    "start_time": "2023-09-03T08:35:46.347Z"
   },
   {
    "duration": 82,
    "start_time": "2023-09-03T08:37:01.084Z"
   },
   {
    "duration": 4,
    "start_time": "2023-09-03T08:37:01.422Z"
   },
   {
    "duration": 3,
    "start_time": "2023-09-03T08:38:52.300Z"
   },
   {
    "duration": 2,
    "start_time": "2023-09-03T08:39:00.064Z"
   },
   {
    "duration": 3,
    "start_time": "2023-09-03T08:39:11.389Z"
   },
   {
    "duration": 103910,
    "start_time": "2023-09-03T08:39:11.687Z"
   },
   {
    "duration": 2910,
    "start_time": "2023-09-03T08:40:55.599Z"
   },
   {
    "duration": 5,
    "start_time": "2023-09-03T08:40:58.510Z"
   },
   {
    "duration": 5,
    "start_time": "2023-09-03T08:41:27.908Z"
   },
   {
    "duration": 3,
    "start_time": "2023-09-03T08:41:49.399Z"
   },
   {
    "duration": 3,
    "start_time": "2023-09-03T08:41:58.547Z"
   },
   {
    "duration": 4,
    "start_time": "2023-09-03T08:50:46.010Z"
   },
   {
    "duration": 4,
    "start_time": "2023-09-03T08:52:55.274Z"
   },
   {
    "duration": 21235,
    "start_time": "2023-09-03T08:55:01.518Z"
   },
   {
    "duration": 1268,
    "start_time": "2023-09-03T08:55:32.281Z"
   },
   {
    "duration": 176,
    "start_time": "2023-09-03T08:56:00.373Z"
   },
   {
    "duration": 1268,
    "start_time": "2023-09-03T08:56:04.479Z"
   },
   {
    "duration": 5,
    "start_time": "2023-09-03T08:56:06.857Z"
   },
   {
    "duration": 2,
    "start_time": "2023-09-03T08:57:21.907Z"
   },
   {
    "duration": 13,
    "start_time": "2023-09-03T09:09:48.543Z"
   },
   {
    "duration": 186,
    "start_time": "2023-09-03T09:10:00.413Z"
   },
   {
    "duration": 4,
    "start_time": "2023-09-03T09:10:52.424Z"
   },
   {
    "duration": 5,
    "start_time": "2023-09-03T09:11:08.400Z"
   },
   {
    "duration": 0,
    "start_time": "2023-09-03T09:12:08.509Z"
   },
   {
    "duration": 38503,
    "start_time": "2023-09-03T09:12:10.375Z"
   },
   {
    "duration": 188,
    "start_time": "2023-09-03T09:14:04.088Z"
   },
   {
    "duration": 5,
    "start_time": "2023-09-03T09:14:59.846Z"
   },
   {
    "duration": 5,
    "start_time": "2023-09-03T09:15:03.589Z"
   },
   {
    "duration": 3,
    "start_time": "2023-09-03T09:16:27.426Z"
   },
   {
    "duration": 17,
    "start_time": "2023-09-03T09:18:25.392Z"
   },
   {
    "duration": 6,
    "start_time": "2023-09-03T09:19:19.815Z"
   },
   {
    "duration": 45563,
    "start_time": "2023-09-03T09:19:50.540Z"
   },
   {
    "duration": 187,
    "start_time": "2023-09-03T09:20:50.858Z"
   },
   {
    "duration": 5,
    "start_time": "2023-09-03T09:20:52.406Z"
   },
   {
    "duration": 3,
    "start_time": "2023-09-03T09:21:07.876Z"
   },
   {
    "duration": 7,
    "start_time": "2023-09-03T09:21:13.439Z"
   },
   {
    "duration": 3,
    "start_time": "2023-09-03T09:27:53.475Z"
   },
   {
    "duration": 180,
    "start_time": "2023-09-03T09:28:16.172Z"
   },
   {
    "duration": 2368,
    "start_time": "2023-09-03T09:28:49.707Z"
   },
   {
    "duration": 2278,
    "start_time": "2023-09-03T09:28:52.078Z"
   },
   {
    "duration": 42,
    "start_time": "2023-09-03T09:28:54.358Z"
   },
   {
    "duration": 2955,
    "start_time": "2023-09-03T09:28:54.402Z"
   },
   {
    "duration": 132,
    "start_time": "2023-09-03T09:28:57.362Z"
   },
   {
    "duration": 88,
    "start_time": "2023-09-03T09:28:57.496Z"
   },
   {
    "duration": 5,
    "start_time": "2023-09-03T09:28:57.585Z"
   },
   {
    "duration": 68,
    "start_time": "2023-09-03T09:28:57.592Z"
   },
   {
    "duration": 54,
    "start_time": "2023-09-03T09:28:57.662Z"
   },
   {
    "duration": 61,
    "start_time": "2023-09-03T09:28:57.718Z"
   },
   {
    "duration": 43,
    "start_time": "2023-09-03T09:28:57.781Z"
   },
   {
    "duration": 4,
    "start_time": "2023-09-03T09:28:57.826Z"
   },
   {
    "duration": 29,
    "start_time": "2023-09-03T09:28:57.844Z"
   },
   {
    "duration": 8,
    "start_time": "2023-09-03T09:28:57.875Z"
   },
   {
    "duration": 6,
    "start_time": "2023-09-03T09:28:57.884Z"
   },
   {
    "duration": 4,
    "start_time": "2023-09-03T09:28:57.891Z"
   },
   {
    "duration": 102,
    "start_time": "2023-09-03T09:28:57.896Z"
   },
   {
    "duration": 71,
    "start_time": "2023-09-03T09:28:58.000Z"
   },
   {
    "duration": 129,
    "start_time": "2023-09-03T09:28:58.073Z"
   },
   {
    "duration": 12,
    "start_time": "2023-09-03T09:28:58.203Z"
   },
   {
    "duration": 2,
    "start_time": "2023-09-03T09:28:58.217Z"
   },
   {
    "duration": 4865,
    "start_time": "2023-09-03T09:28:58.220Z"
   },
   {
    "duration": 1257,
    "start_time": "2023-09-03T09:29:03.087Z"
   },
   {
    "duration": 104,
    "start_time": "2023-09-03T09:29:04.356Z"
   },
   {
    "duration": 138,
    "start_time": "2023-09-03T09:29:04.464Z"
   },
   {
    "duration": 931,
    "start_time": "2023-09-03T09:29:04.604Z"
   },
   {
    "duration": 767,
    "start_time": "2023-09-03T09:29:05.537Z"
   },
   {
    "duration": 1761,
    "start_time": "2023-09-03T09:29:06.308Z"
   },
   {
    "duration": 11,
    "start_time": "2023-09-03T09:29:08.070Z"
   },
   {
    "duration": 25,
    "start_time": "2023-09-03T09:29:08.083Z"
   },
   {
    "duration": 6,
    "start_time": "2023-09-03T09:29:08.110Z"
   },
   {
    "duration": 43,
    "start_time": "2023-09-03T09:29:08.117Z"
   },
   {
    "duration": 33,
    "start_time": "2023-09-03T09:29:08.162Z"
   },
   {
    "duration": 4,
    "start_time": "2023-09-03T09:29:08.197Z"
   },
   {
    "duration": 21,
    "start_time": "2023-09-03T09:29:08.203Z"
   },
   {
    "duration": 6,
    "start_time": "2023-09-03T09:29:08.226Z"
   },
   {
    "duration": 132,
    "start_time": "2023-09-03T09:29:08.234Z"
   },
   {
    "duration": 11,
    "start_time": "2023-09-03T09:29:08.368Z"
   },
   {
    "duration": 15,
    "start_time": "2023-09-03T09:29:08.380Z"
   },
   {
    "duration": 55,
    "start_time": "2023-09-03T09:29:08.396Z"
   },
   {
    "duration": 7,
    "start_time": "2023-09-03T09:29:08.455Z"
   },
   {
    "duration": 9,
    "start_time": "2023-09-03T09:29:08.463Z"
   },
   {
    "duration": 391,
    "start_time": "2023-09-03T09:29:08.474Z"
   },
   {
    "duration": 201,
    "start_time": "2023-09-03T09:29:08.867Z"
   },
   {
    "duration": 169,
    "start_time": "2023-09-03T09:29:09.072Z"
   },
   {
    "duration": 168,
    "start_time": "2023-09-03T09:29:09.243Z"
   },
   {
    "duration": 5,
    "start_time": "2023-09-03T09:29:09.413Z"
   },
   {
    "duration": 11,
    "start_time": "2023-09-03T09:29:09.419Z"
   },
   {
    "duration": 46,
    "start_time": "2023-09-03T09:29:09.432Z"
   },
   {
    "duration": 26,
    "start_time": "2023-09-03T09:29:09.481Z"
   },
   {
    "duration": 255,
    "start_time": "2023-09-03T09:29:09.509Z"
   },
   {
    "duration": 226,
    "start_time": "2023-09-03T09:29:09.766Z"
   },
   {
    "duration": 2879,
    "start_time": "2023-09-03T09:29:09.994Z"
   },
   {
    "duration": 24527,
    "start_time": "2023-09-03T09:29:12.876Z"
   },
   {
    "duration": 208,
    "start_time": "2023-09-03T09:29:37.406Z"
   },
   {
    "duration": 5,
    "start_time": "2023-09-03T09:29:37.616Z"
   },
   {
    "duration": 83,
    "start_time": "2023-09-03T09:29:37.622Z"
   },
   {
    "duration": 49229,
    "start_time": "2023-09-03T09:29:37.707Z"
   },
   {
    "duration": 12900,
    "start_time": "2023-09-03T09:30:26.938Z"
   },
   {
    "duration": 13569,
    "start_time": "2023-09-03T09:30:39.840Z"
   },
   {
    "duration": 1484,
    "start_time": "2023-09-03T09:30:53.411Z"
   },
   {
    "duration": 1033,
    "start_time": "2023-09-03T09:30:54.897Z"
   },
   {
    "duration": 162,
    "start_time": "2023-09-03T09:30:55.932Z"
   },
   {
    "duration": 13,
    "start_time": "2023-09-03T09:30:56.096Z"
   },
   {
    "duration": 62,
    "start_time": "2023-09-03T09:30:56.112Z"
   },
   {
    "duration": 6,
    "start_time": "2023-09-03T09:31:12.151Z"
   },
   {
    "duration": 5,
    "start_time": "2023-09-03T09:31:12.356Z"
   },
   {
    "duration": 4,
    "start_time": "2023-09-03T09:31:12.569Z"
   },
   {
    "duration": 4,
    "start_time": "2023-09-03T09:31:13.219Z"
   },
   {
    "duration": 4,
    "start_time": "2023-09-03T09:31:13.403Z"
   },
   {
    "duration": 4,
    "start_time": "2023-09-03T09:31:13.616Z"
   },
   {
    "duration": 5,
    "start_time": "2023-09-03T09:31:13.808Z"
   },
   {
    "duration": 5,
    "start_time": "2023-09-03T09:31:14.062Z"
   },
   {
    "duration": 5,
    "start_time": "2023-09-03T09:31:14.269Z"
   },
   {
    "duration": 5,
    "start_time": "2023-09-03T09:31:14.495Z"
   },
   {
    "duration": 4,
    "start_time": "2023-09-03T09:31:14.732Z"
   },
   {
    "duration": 3,
    "start_time": "2023-09-03T09:31:14.967Z"
   },
   {
    "duration": 3,
    "start_time": "2023-09-03T09:31:15.202Z"
   },
   {
    "duration": 4,
    "start_time": "2023-09-03T09:31:15.486Z"
   },
   {
    "duration": 4,
    "start_time": "2023-09-03T09:31:15.766Z"
   },
   {
    "duration": 5,
    "start_time": "2023-09-03T09:31:16.001Z"
   },
   {
    "duration": 5,
    "start_time": "2023-09-03T09:31:16.203Z"
   },
   {
    "duration": 3,
    "start_time": "2023-09-03T09:31:16.387Z"
   },
   {
    "duration": 3,
    "start_time": "2023-09-03T09:31:16.563Z"
   },
   {
    "duration": 4,
    "start_time": "2023-09-03T09:31:16.823Z"
   },
   {
    "duration": 4,
    "start_time": "2023-09-03T09:31:17.081Z"
   },
   {
    "duration": 3,
    "start_time": "2023-09-03T09:31:17.363Z"
   },
   {
    "duration": 3,
    "start_time": "2023-09-03T09:31:17.725Z"
   },
   {
    "duration": 3,
    "start_time": "2023-09-03T09:31:18.003Z"
   },
   {
    "duration": 4,
    "start_time": "2023-09-03T09:31:18.257Z"
   },
   {
    "duration": 4,
    "start_time": "2023-09-03T09:31:18.498Z"
   },
   {
    "duration": 3,
    "start_time": "2023-09-03T09:31:18.736Z"
   },
   {
    "duration": 3,
    "start_time": "2023-09-03T09:31:18.971Z"
   },
   {
    "duration": 4,
    "start_time": "2023-09-03T09:31:19.218Z"
   },
   {
    "duration": 4,
    "start_time": "2023-09-03T09:31:19.479Z"
   },
   {
    "duration": 3,
    "start_time": "2023-09-03T09:31:19.796Z"
   },
   {
    "duration": 3,
    "start_time": "2023-09-03T09:31:20.097Z"
   },
   {
    "duration": 3,
    "start_time": "2023-09-03T09:31:20.377Z"
   },
   {
    "duration": 3,
    "start_time": "2023-09-03T09:31:20.636Z"
   },
   {
    "duration": 3,
    "start_time": "2023-09-03T09:31:20.926Z"
   },
   {
    "duration": 4,
    "start_time": "2023-09-03T09:31:21.199Z"
   },
   {
    "duration": 3,
    "start_time": "2023-09-03T09:31:21.460Z"
   },
   {
    "duration": 4,
    "start_time": "2023-09-03T09:31:21.787Z"
   },
   {
    "duration": 4,
    "start_time": "2023-09-03T09:31:22.088Z"
   },
   {
    "duration": 4,
    "start_time": "2023-09-03T09:31:22.572Z"
   },
   {
    "duration": 4,
    "start_time": "2023-09-03T09:31:22.831Z"
   },
   {
    "duration": 4,
    "start_time": "2023-09-03T09:31:23.179Z"
   },
   {
    "duration": 4,
    "start_time": "2023-09-03T09:31:23.820Z"
   },
   {
    "duration": 10,
    "start_time": "2023-09-03T09:31:28.761Z"
   },
   {
    "duration": 105145,
    "start_time": "2023-09-03T09:31:30.032Z"
   },
   {
    "duration": 407,
    "start_time": "2023-09-03T09:33:48.242Z"
   },
   {
    "duration": 4,
    "start_time": "2023-09-03T09:33:49.624Z"
   },
   {
    "duration": 153,
    "start_time": "2023-09-03T09:36:54.409Z"
   },
   {
    "duration": 12,
    "start_time": "2023-09-03T09:37:03.795Z"
   },
   {
    "duration": 14,
    "start_time": "2023-09-03T09:37:10.735Z"
   },
   {
    "duration": 5,
    "start_time": "2023-09-03T09:37:15.692Z"
   },
   {
    "duration": 7,
    "start_time": "2023-09-03T09:37:25.206Z"
   },
   {
    "duration": 5,
    "start_time": "2023-09-03T09:37:29.363Z"
   },
   {
    "duration": 6,
    "start_time": "2023-09-03T09:37:31.421Z"
   },
   {
    "duration": 13,
    "start_time": "2023-09-03T09:38:00.764Z"
   },
   {
    "duration": 18,
    "start_time": "2023-09-03T09:38:04.172Z"
   },
   {
    "duration": 187,
    "start_time": "2023-09-03T09:38:47.660Z"
   },
   {
    "duration": 15,
    "start_time": "2023-09-03T09:39:09.057Z"
   },
   {
    "duration": 14,
    "start_time": "2023-09-03T09:39:48.325Z"
   },
   {
    "duration": 17,
    "start_time": "2023-09-03T09:40:02.875Z"
   },
   {
    "duration": 9,
    "start_time": "2023-09-03T09:40:11.685Z"
   },
   {
    "duration": 15,
    "start_time": "2023-09-03T09:40:38.363Z"
   },
   {
    "duration": 214,
    "start_time": "2023-09-03T09:40:48.257Z"
   },
   {
    "duration": 25,
    "start_time": "2023-09-03T09:41:33.537Z"
   },
   {
    "duration": 17,
    "start_time": "2023-09-03T09:41:42.291Z"
   },
   {
    "duration": 17,
    "start_time": "2023-09-03T09:42:12.202Z"
   },
   {
    "duration": 142,
    "start_time": "2023-09-03T09:42:17.270Z"
   },
   {
    "duration": 29,
    "start_time": "2023-09-03T09:42:24.533Z"
   },
   {
    "duration": 183,
    "start_time": "2023-09-03T09:42:28.908Z"
   },
   {
    "duration": 25,
    "start_time": "2023-09-03T09:42:48.137Z"
   },
   {
    "duration": 7,
    "start_time": "2023-09-03T09:42:56.827Z"
   },
   {
    "duration": 11,
    "start_time": "2023-09-03T09:43:05.202Z"
   },
   {
    "duration": 195,
    "start_time": "2023-09-03T09:43:14.626Z"
   },
   {
    "duration": 440,
    "start_time": "2023-09-03T09:44:00.065Z"
   },
   {
    "duration": 185,
    "start_time": "2023-09-03T09:44:08.475Z"
   },
   {
    "duration": 2608,
    "start_time": "2024-02-26T12:47:05.119Z"
   },
   {
    "duration": 2364,
    "start_time": "2024-02-26T12:47:07.729Z"
   },
   {
    "duration": 2920,
    "start_time": "2024-02-26T12:47:10.095Z"
   },
   {
    "duration": 1875,
    "start_time": "2024-02-26T12:47:16.488Z"
   },
   {
    "duration": 52,
    "start_time": "2024-02-26T12:47:18.701Z"
   },
   {
    "duration": 165,
    "start_time": "2024-02-26T12:47:29.645Z"
   },
   {
    "duration": 2798,
    "start_time": "2024-02-26T12:47:43.128Z"
   },
   {
    "duration": 149,
    "start_time": "2024-02-26T12:48:01.021Z"
   },
   {
    "duration": 95,
    "start_time": "2024-02-26T12:48:02.334Z"
   },
   {
    "duration": 5,
    "start_time": "2024-02-26T12:48:03.550Z"
   },
   {
    "duration": 52,
    "start_time": "2024-02-26T12:48:04.749Z"
   },
   {
    "duration": 39,
    "start_time": "2024-02-26T12:49:35.471Z"
   },
   {
    "duration": 4,
    "start_time": "2024-02-26T12:49:36.170Z"
   },
   {
    "duration": 33,
    "start_time": "2024-02-26T12:49:37.181Z"
   },
   {
    "duration": 4,
    "start_time": "2024-02-26T12:49:37.647Z"
   },
   {
    "duration": 5,
    "start_time": "2024-02-26T12:49:38.695Z"
   },
   {
    "duration": 3,
    "start_time": "2024-02-26T12:49:46.836Z"
   },
   {
    "duration": 99,
    "start_time": "2024-02-26T12:49:47.352Z"
   },
   {
    "duration": 58,
    "start_time": "2024-02-26T12:49:47.506Z"
   },
   {
    "duration": 145,
    "start_time": "2024-02-26T12:49:53.581Z"
   },
   {
    "duration": 12,
    "start_time": "2024-02-26T12:49:57.409Z"
   },
   {
    "duration": 3,
    "start_time": "2024-02-26T12:49:58.548Z"
   },
   {
    "duration": 3750,
    "start_time": "2024-02-26T12:50:00.080Z"
   },
   {
    "duration": 757,
    "start_time": "2024-02-26T12:50:13.998Z"
   },
   {
    "duration": 87,
    "start_time": "2024-02-26T12:50:15.644Z"
   },
   {
    "duration": 125,
    "start_time": "2024-02-26T12:50:15.844Z"
   },
   {
    "duration": 897,
    "start_time": "2024-02-26T12:50:18.717Z"
   },
   {
    "duration": 729,
    "start_time": "2024-02-26T12:50:22.467Z"
   },
   {
    "duration": 1686,
    "start_time": "2024-02-26T12:50:24.402Z"
   },
   {
    "duration": 9,
    "start_time": "2024-02-26T12:50:31.072Z"
   },
   {
    "duration": 22,
    "start_time": "2024-02-26T12:50:31.639Z"
   },
   {
    "duration": 14,
    "start_time": "2024-02-26T12:52:25.219Z"
   },
   {
    "duration": 789,
    "start_time": "2024-02-26T12:52:42.772Z"
   },
   {
    "duration": 12,
    "start_time": "2024-02-26T12:53:45.825Z"
   },
   {
    "duration": 11,
    "start_time": "2024-02-26T12:54:35.627Z"
   },
   {
    "duration": 1595,
    "start_time": "2024-02-26T12:54:50.857Z"
   },
   {
    "duration": 2498,
    "start_time": "2024-02-26T12:57:51.360Z"
   },
   {
    "duration": 2459,
    "start_time": "2024-02-26T12:59:21.821Z"
   },
   {
    "duration": 1597,
    "start_time": "2024-02-26T12:59:25.583Z"
   },
   {
    "duration": 54,
    "start_time": "2024-02-26T12:59:27.182Z"
   },
   {
    "duration": 889,
    "start_time": "2024-02-26T12:59:27.238Z"
   },
   {
    "duration": 156,
    "start_time": "2024-02-26T12:59:28.129Z"
   },
   {
    "duration": 109,
    "start_time": "2024-02-26T12:59:28.286Z"
   },
   {
    "duration": 8,
    "start_time": "2024-02-26T12:59:28.397Z"
   },
   {
    "duration": 86,
    "start_time": "2024-02-26T12:59:28.408Z"
   },
   {
    "duration": 46,
    "start_time": "2024-02-26T12:59:28.692Z"
   },
   {
    "duration": 4,
    "start_time": "2024-02-26T12:59:29.018Z"
   },
   {
    "duration": 33,
    "start_time": "2024-02-26T12:59:29.761Z"
   },
   {
    "duration": 4,
    "start_time": "2024-02-26T12:59:30.074Z"
   },
   {
    "duration": 5,
    "start_time": "2024-02-26T12:59:30.396Z"
   },
   {
    "duration": 3,
    "start_time": "2024-02-26T12:59:30.645Z"
   },
   {
    "duration": 95,
    "start_time": "2024-02-26T12:59:30.931Z"
   },
   {
    "duration": 57,
    "start_time": "2024-02-26T12:59:31.027Z"
   },
   {
    "duration": 166,
    "start_time": "2024-02-26T12:59:31.268Z"
   },
   {
    "duration": 12,
    "start_time": "2024-02-26T12:59:31.538Z"
   },
   {
    "duration": 3,
    "start_time": "2024-02-26T12:59:33.300Z"
   },
   {
    "duration": 4103,
    "start_time": "2024-02-26T12:59:33.459Z"
   },
   {
    "duration": 761,
    "start_time": "2024-02-26T12:59:37.564Z"
   },
   {
    "duration": 89,
    "start_time": "2024-02-26T12:59:38.327Z"
   },
   {
    "duration": 160,
    "start_time": "2024-02-26T12:59:38.418Z"
   },
   {
    "duration": 890,
    "start_time": "2024-02-26T12:59:38.579Z"
   },
   {
    "duration": 781,
    "start_time": "2024-02-26T12:59:39.471Z"
   },
   {
    "duration": 1715,
    "start_time": "2024-02-26T12:59:40.254Z"
   },
   {
    "duration": 9,
    "start_time": "2024-02-26T12:59:41.972Z"
   },
   {
    "duration": 32,
    "start_time": "2024-02-26T12:59:41.982Z"
   },
   {
    "duration": 125,
    "start_time": "2024-02-26T12:59:42.016Z"
   },
   {
    "duration": 26,
    "start_time": "2024-02-26T12:59:55.223Z"
   },
   {
    "duration": 32,
    "start_time": "2024-02-26T13:00:02.089Z"
   },
   {
    "duration": 27,
    "start_time": "2024-02-26T13:00:06.231Z"
   },
   {
    "duration": 27,
    "start_time": "2024-02-26T13:00:14.165Z"
   },
   {
    "duration": 26,
    "start_time": "2024-02-26T13:00:21.482Z"
   },
   {
    "duration": 253,
    "start_time": "2024-02-26T13:03:21.926Z"
   },
   {
    "duration": 318,
    "start_time": "2024-02-26T13:03:36.056Z"
   },
   {
    "duration": 232,
    "start_time": "2024-02-26T13:03:45.724Z"
   },
   {
    "duration": 231,
    "start_time": "2024-02-26T13:03:55.990Z"
   },
   {
    "duration": 12,
    "start_time": "2024-02-26T13:04:51.620Z"
   },
   {
    "duration": 6,
    "start_time": "2024-02-26T13:05:07.953Z"
   },
   {
    "duration": 6,
    "start_time": "2024-02-26T13:05:18.782Z"
   },
   {
    "duration": 22,
    "start_time": "2024-02-26T13:06:08.628Z"
   },
   {
    "duration": 29,
    "start_time": "2024-02-26T13:06:15.626Z"
   },
   {
    "duration": 7,
    "start_time": "2024-02-26T13:06:30.122Z"
   },
   {
    "duration": 3,
    "start_time": "2024-02-26T13:06:31.939Z"
   },
   {
    "duration": 23,
    "start_time": "2024-02-26T13:06:43.452Z"
   },
   {
    "duration": 4,
    "start_time": "2024-02-26T13:08:21.310Z"
   },
   {
    "duration": 12,
    "start_time": "2024-02-26T13:08:22.219Z"
   },
   {
    "duration": 11,
    "start_time": "2024-02-26T13:08:30.311Z"
   },
   {
    "duration": 6,
    "start_time": "2024-02-26T13:08:36.326Z"
   },
   {
    "duration": 95,
    "start_time": "2024-02-26T13:08:37.735Z"
   },
   {
    "duration": 11,
    "start_time": "2024-02-26T13:08:37.914Z"
   },
   {
    "duration": 11,
    "start_time": "2024-02-26T13:08:38.066Z"
   },
   {
    "duration": 30,
    "start_time": "2024-02-26T13:08:39.356Z"
   },
   {
    "duration": 2,
    "start_time": "2024-02-26T13:08:43.055Z"
   },
   {
    "duration": 5,
    "start_time": "2024-02-26T13:08:43.605Z"
   },
   {
    "duration": 273,
    "start_time": "2024-02-26T13:08:44.779Z"
   },
   {
    "duration": 155,
    "start_time": "2024-02-26T13:08:49.429Z"
   },
   {
    "duration": 164,
    "start_time": "2024-02-26T13:08:49.586Z"
   },
   {
    "duration": 145,
    "start_time": "2024-02-26T13:08:49.765Z"
   },
   {
    "duration": 3,
    "start_time": "2024-02-26T13:08:50.528Z"
   },
   {
    "duration": 4,
    "start_time": "2024-02-26T13:08:51.469Z"
   },
   {
    "duration": 17,
    "start_time": "2024-02-26T13:08:51.611Z"
   },
   {
    "duration": 16,
    "start_time": "2024-02-26T13:08:51.868Z"
   },
   {
    "duration": 230,
    "start_time": "2024-02-26T13:08:52.923Z"
   },
   {
    "duration": 242,
    "start_time": "2024-02-26T13:08:55.893Z"
   },
   {
    "duration": 3,
    "start_time": "2024-02-26T13:10:58.296Z"
   },
   {
    "duration": 10,
    "start_time": "2024-02-26T13:11:01.598Z"
   },
   {
    "duration": 95,
    "start_time": "2024-02-26T13:11:07.683Z"
   },
   {
    "duration": 5,
    "start_time": "2024-02-26T13:11:10.025Z"
   },
   {
    "duration": 2,
    "start_time": "2024-02-26T13:11:10.738Z"
   },
   {
    "duration": 48,
    "start_time": "2024-02-26T13:11:11.743Z"
   },
   {
    "duration": 45,
    "start_time": "2024-02-26T13:11:17.197Z"
   },
   {
    "duration": 45,
    "start_time": "2024-02-26T13:11:24.411Z"
   },
   {
    "duration": 747,
    "start_time": "2024-02-26T13:11:27.425Z"
   },
   {
    "duration": 716,
    "start_time": "2024-02-26T13:11:40.349Z"
   },
   {
    "duration": 712,
    "start_time": "2024-02-26T13:11:46.341Z"
   },
   {
    "duration": 704,
    "start_time": "2024-02-26T13:20:25.219Z"
   },
   {
    "duration": 1434,
    "start_time": "2024-02-26T13:21:03.571Z"
   },
   {
    "duration": 2473,
    "start_time": "2024-02-26T13:22:26.439Z"
   },
   {
    "duration": 2375,
    "start_time": "2024-02-26T13:22:28.914Z"
   },
   {
    "duration": 2373,
    "start_time": "2024-02-26T13:22:31.290Z"
   },
   {
    "duration": 1514,
    "start_time": "2024-02-26T13:22:33.666Z"
   },
   {
    "duration": 51,
    "start_time": "2024-02-26T13:22:35.181Z"
   },
   {
    "duration": 852,
    "start_time": "2024-02-26T13:22:35.233Z"
   },
   {
    "duration": 157,
    "start_time": "2024-02-26T13:22:36.087Z"
   },
   {
    "duration": 96,
    "start_time": "2024-02-26T13:22:36.246Z"
   },
   {
    "duration": 5,
    "start_time": "2024-02-26T13:22:36.344Z"
   },
   {
    "duration": 67,
    "start_time": "2024-02-26T13:22:36.351Z"
   },
   {
    "duration": 39,
    "start_time": "2024-02-26T13:22:36.420Z"
   },
   {
    "duration": 46,
    "start_time": "2024-02-26T13:22:36.461Z"
   },
   {
    "duration": 53,
    "start_time": "2024-02-26T13:22:36.509Z"
   },
   {
    "duration": 39,
    "start_time": "2024-02-26T13:22:36.563Z"
   },
   {
    "duration": 58,
    "start_time": "2024-02-26T13:22:36.603Z"
   },
   {
    "duration": 53,
    "start_time": "2024-02-26T13:22:36.663Z"
   },
   {
    "duration": 164,
    "start_time": "2024-02-26T13:22:36.717Z"
   },
   {
    "duration": 54,
    "start_time": "2024-02-26T13:22:36.883Z"
   },
   {
    "duration": 235,
    "start_time": "2024-02-26T13:22:36.939Z"
   },
   {
    "duration": 18,
    "start_time": "2024-02-26T13:22:37.176Z"
   },
   {
    "duration": 3,
    "start_time": "2024-02-26T13:22:37.195Z"
   },
   {
    "duration": 3929,
    "start_time": "2024-02-26T13:22:37.200Z"
   },
   {
    "duration": 781,
    "start_time": "2024-02-26T13:22:41.131Z"
   },
   {
    "duration": 90,
    "start_time": "2024-02-26T13:22:41.914Z"
   },
   {
    "duration": 138,
    "start_time": "2024-02-26T13:22:42.005Z"
   },
   {
    "duration": 883,
    "start_time": "2024-02-26T13:22:42.145Z"
   },
   {
    "duration": 759,
    "start_time": "2024-02-26T13:22:43.030Z"
   },
   {
    "duration": 1739,
    "start_time": "2024-02-26T13:22:43.793Z"
   },
   {
    "duration": 10,
    "start_time": "2024-02-26T13:22:45.533Z"
   },
   {
    "duration": 101,
    "start_time": "2024-02-26T13:22:45.544Z"
   },
   {
    "duration": 35,
    "start_time": "2024-02-26T13:22:45.647Z"
   },
   {
    "duration": 230,
    "start_time": "2024-02-26T13:22:45.684Z"
   },
   {
    "duration": 6,
    "start_time": "2024-02-26T13:22:45.916Z"
   },
   {
    "duration": 70,
    "start_time": "2024-02-26T13:22:45.923Z"
   },
   {
    "duration": 6,
    "start_time": "2024-02-26T13:22:45.995Z"
   },
   {
    "duration": 21,
    "start_time": "2024-02-26T13:22:46.003Z"
   },
   {
    "duration": 67,
    "start_time": "2024-02-26T13:22:46.026Z"
   },
   {
    "duration": 8,
    "start_time": "2024-02-26T13:22:46.095Z"
   },
   {
    "duration": 17,
    "start_time": "2024-02-26T13:22:46.105Z"
   },
   {
    "duration": 6,
    "start_time": "2024-02-26T13:22:46.124Z"
   },
   {
    "duration": 215,
    "start_time": "2024-02-26T13:22:46.131Z"
   },
   {
    "duration": 10,
    "start_time": "2024-02-26T13:22:46.347Z"
   },
   {
    "duration": 34,
    "start_time": "2024-02-26T13:22:46.359Z"
   },
   {
    "duration": 48,
    "start_time": "2024-02-26T13:22:46.394Z"
   },
   {
    "duration": 25,
    "start_time": "2024-02-26T13:22:46.444Z"
   },
   {
    "duration": 98,
    "start_time": "2024-02-26T13:22:46.471Z"
   },
   {
    "duration": 307,
    "start_time": "2024-02-26T13:22:46.571Z"
   },
   {
    "duration": 159,
    "start_time": "2024-02-26T13:22:46.879Z"
   },
   {
    "duration": 171,
    "start_time": "2024-02-26T13:22:47.040Z"
   },
   {
    "duration": 151,
    "start_time": "2024-02-26T13:22:47.213Z"
   },
   {
    "duration": 4,
    "start_time": "2024-02-26T13:22:47.365Z"
   },
   {
    "duration": 26,
    "start_time": "2024-02-26T13:22:47.371Z"
   },
   {
    "duration": 54,
    "start_time": "2024-02-26T13:22:47.399Z"
   },
   {
    "duration": 44,
    "start_time": "2024-02-26T13:22:47.454Z"
   },
   {
    "duration": 260,
    "start_time": "2024-02-26T13:22:47.500Z"
   },
   {
    "duration": 233,
    "start_time": "2024-02-26T13:22:47.762Z"
   },
   {
    "duration": 100,
    "start_time": "2024-02-26T13:22:47.996Z"
   },
   {
    "duration": 5,
    "start_time": "2024-02-26T13:22:48.098Z"
   },
   {
    "duration": 26,
    "start_time": "2024-02-26T13:22:48.105Z"
   },
   {
    "duration": 87,
    "start_time": "2024-02-26T13:22:48.133Z"
   },
   {
    "duration": 37347,
    "start_time": "2024-02-26T13:22:48.222Z"
   },
   {
    "duration": 9140,
    "start_time": "2024-02-26T13:24:18.098Z"
   },
   {
    "duration": 9749,
    "start_time": "2024-02-26T13:24:55.239Z"
   },
   {
    "duration": 6,
    "start_time": "2024-02-26T13:25:16.764Z"
   },
   {
    "duration": 112,
    "start_time": "2024-02-26T13:27:12.220Z"
   },
   {
    "duration": 9,
    "start_time": "2024-02-26T13:27:12.401Z"
   },
   {
    "duration": 1125,
    "start_time": "2024-02-26T13:27:18.590Z"
   },
   {
    "duration": 746,
    "start_time": "2024-02-26T13:27:19.716Z"
   },
   {
    "duration": 137,
    "start_time": "2024-02-26T13:27:21.515Z"
   },
   {
    "duration": 14,
    "start_time": "2024-02-26T13:27:21.666Z"
   },
   {
    "duration": 9,
    "start_time": "2024-02-26T13:29:59.030Z"
   },
   {
    "duration": 3,
    "start_time": "2024-02-26T13:30:09.372Z"
   },
   {
    "duration": 26,
    "start_time": "2024-02-26T13:30:10.901Z"
   },
   {
    "duration": 389,
    "start_time": "2024-02-26T13:30:39.027Z"
   },
   {
    "duration": 4,
    "start_time": "2024-02-26T13:30:40.893Z"
   },
   {
    "duration": 4,
    "start_time": "2024-02-26T13:30:51.918Z"
   },
   {
    "duration": 15217,
    "start_time": "2024-02-26T13:30:52.377Z"
   },
   {
    "duration": 411,
    "start_time": "2024-02-26T13:35:30.454Z"
   },
   {
    "duration": 225,
    "start_time": "2024-02-26T13:35:34.100Z"
   },
   {
    "duration": 5,
    "start_time": "2024-02-26T13:35:37.422Z"
   },
   {
    "duration": 18523,
    "start_time": "2024-02-26T13:36:00.777Z"
   },
   {
    "duration": 144,
    "start_time": "2024-02-26T13:36:25.175Z"
   },
   {
    "duration": 5,
    "start_time": "2024-02-26T13:36:32.713Z"
   },
   {
    "duration": 5,
    "start_time": "2024-02-26T13:36:52.303Z"
   },
   {
    "duration": 4,
    "start_time": "2024-02-26T13:37:01.236Z"
   },
   {
    "duration": 411,
    "start_time": "2024-02-26T13:37:56.000Z"
   },
   {
    "duration": 199,
    "start_time": "2024-02-26T13:37:56.413Z"
   },
   {
    "duration": 4,
    "start_time": "2024-02-26T13:37:56.614Z"
   },
   {
    "duration": 18985,
    "start_time": "2024-02-26T13:37:56.814Z"
   },
   {
    "duration": 300,
    "start_time": "2024-02-26T13:38:15.802Z"
   },
   {
    "duration": 88,
    "start_time": "2024-02-26T13:38:16.107Z"
   },
   {
    "duration": 111,
    "start_time": "2024-02-26T13:45:32.740Z"
   },
   {
    "duration": 2549,
    "start_time": "2024-02-26T13:46:29.404Z"
   },
   {
    "duration": 2425,
    "start_time": "2024-02-26T13:46:31.955Z"
   },
   {
    "duration": 2449,
    "start_time": "2024-02-26T13:46:34.383Z"
   },
   {
    "duration": 1537,
    "start_time": "2024-02-26T13:46:36.834Z"
   },
   {
    "duration": 60,
    "start_time": "2024-02-26T13:46:38.372Z"
   },
   {
    "duration": 889,
    "start_time": "2024-02-26T13:46:38.433Z"
   },
   {
    "duration": 154,
    "start_time": "2024-02-26T13:46:39.323Z"
   },
   {
    "duration": 97,
    "start_time": "2024-02-26T13:46:39.479Z"
   },
   {
    "duration": 4,
    "start_time": "2024-02-26T13:46:39.577Z"
   },
   {
    "duration": 53,
    "start_time": "2024-02-26T13:46:39.593Z"
   },
   {
    "duration": 48,
    "start_time": "2024-02-26T13:46:39.647Z"
   },
   {
    "duration": 4,
    "start_time": "2024-02-26T13:46:39.696Z"
   },
   {
    "duration": 36,
    "start_time": "2024-02-26T13:46:39.701Z"
   },
   {
    "duration": 4,
    "start_time": "2024-02-26T13:46:39.738Z"
   },
   {
    "duration": 13,
    "start_time": "2024-02-26T13:46:39.743Z"
   },
   {
    "duration": 4,
    "start_time": "2024-02-26T13:46:39.757Z"
   },
   {
    "duration": 114,
    "start_time": "2024-02-26T13:46:39.763Z"
   },
   {
    "duration": 70,
    "start_time": "2024-02-26T13:46:39.878Z"
   },
   {
    "duration": 167,
    "start_time": "2024-02-26T13:46:39.949Z"
   },
   {
    "duration": 32,
    "start_time": "2024-02-26T13:46:40.118Z"
   },
   {
    "duration": 2,
    "start_time": "2024-02-26T13:46:40.152Z"
   },
   {
    "duration": 3926,
    "start_time": "2024-02-26T13:46:40.156Z"
   },
   {
    "duration": 773,
    "start_time": "2024-02-26T13:46:44.084Z"
   },
   {
    "duration": 100,
    "start_time": "2024-02-26T13:46:44.858Z"
   },
   {
    "duration": 169,
    "start_time": "2024-02-26T13:46:44.959Z"
   },
   {
    "duration": 878,
    "start_time": "2024-02-26T13:46:45.129Z"
   },
   {
    "duration": 768,
    "start_time": "2024-02-26T13:46:46.009Z"
   },
   {
    "duration": 1710,
    "start_time": "2024-02-26T13:46:46.780Z"
   },
   {
    "duration": 11,
    "start_time": "2024-02-26T13:46:48.491Z"
   },
   {
    "duration": 51,
    "start_time": "2024-02-26T13:46:48.504Z"
   },
   {
    "duration": 44,
    "start_time": "2024-02-26T13:46:48.557Z"
   },
   {
    "duration": 248,
    "start_time": "2024-02-26T13:46:48.603Z"
   },
   {
    "duration": 6,
    "start_time": "2024-02-26T13:46:48.853Z"
   },
   {
    "duration": 80,
    "start_time": "2024-02-26T13:46:48.861Z"
   },
   {
    "duration": 20,
    "start_time": "2024-02-26T13:46:48.943Z"
   },
   {
    "duration": 39,
    "start_time": "2024-02-26T13:46:48.965Z"
   },
   {
    "duration": 57,
    "start_time": "2024-02-26T13:46:49.006Z"
   },
   {
    "duration": 16,
    "start_time": "2024-02-26T13:46:49.065Z"
   },
   {
    "duration": 32,
    "start_time": "2024-02-26T13:46:49.083Z"
   },
   {
    "duration": 34,
    "start_time": "2024-02-26T13:46:49.117Z"
   },
   {
    "duration": 232,
    "start_time": "2024-02-26T13:46:49.153Z"
   },
   {
    "duration": 16,
    "start_time": "2024-02-26T13:46:49.387Z"
   },
   {
    "duration": 24,
    "start_time": "2024-02-26T13:46:49.405Z"
   },
   {
    "duration": 38,
    "start_time": "2024-02-26T13:46:49.430Z"
   },
   {
    "duration": 3,
    "start_time": "2024-02-26T13:46:49.470Z"
   },
   {
    "duration": 21,
    "start_time": "2024-02-26T13:46:49.474Z"
   },
   {
    "duration": 275,
    "start_time": "2024-02-26T13:46:49.497Z"
   },
   {
    "duration": 176,
    "start_time": "2024-02-26T13:46:49.774Z"
   },
   {
    "duration": 166,
    "start_time": "2024-02-26T13:46:49.951Z"
   },
   {
    "duration": 145,
    "start_time": "2024-02-26T13:46:50.119Z"
   },
   {
    "duration": 4,
    "start_time": "2024-02-26T13:46:50.265Z"
   },
   {
    "duration": 33,
    "start_time": "2024-02-26T13:46:50.271Z"
   },
   {
    "duration": 36,
    "start_time": "2024-02-26T13:46:50.306Z"
   },
   {
    "duration": 37,
    "start_time": "2024-02-26T13:46:50.344Z"
   },
   {
    "duration": 241,
    "start_time": "2024-02-26T13:46:50.383Z"
   },
   {
    "duration": 244,
    "start_time": "2024-02-26T13:46:50.625Z"
   },
   {
    "duration": 103,
    "start_time": "2024-02-26T13:46:50.871Z"
   },
   {
    "duration": 5,
    "start_time": "2024-02-26T13:46:50.975Z"
   },
   {
    "duration": 14,
    "start_time": "2024-02-26T13:46:50.981Z"
   },
   {
    "duration": 61,
    "start_time": "2024-02-26T13:46:50.996Z"
   },
   {
    "duration": 37559,
    "start_time": "2024-02-26T13:46:51.059Z"
   },
   {
    "duration": 10392,
    "start_time": "2024-02-26T13:47:28.620Z"
   },
   {
    "duration": 10033,
    "start_time": "2024-02-26T13:47:39.013Z"
   },
   {
    "duration": 1107,
    "start_time": "2024-02-26T13:47:49.048Z"
   },
   {
    "duration": 761,
    "start_time": "2024-02-26T13:47:50.156Z"
   },
   {
    "duration": 125,
    "start_time": "2024-02-26T13:47:50.919Z"
   },
   {
    "duration": 12,
    "start_time": "2024-02-26T13:47:51.046Z"
   },
   {
    "duration": 31,
    "start_time": "2024-02-26T13:47:51.060Z"
   },
   {
    "duration": 422,
    "start_time": "2024-02-26T13:47:51.093Z"
   },
   {
    "duration": 206,
    "start_time": "2024-02-26T13:47:51.517Z"
   },
   {
    "duration": 4,
    "start_time": "2024-02-26T13:47:51.725Z"
   },
   {
    "duration": 19375,
    "start_time": "2024-02-26T13:47:51.731Z"
   },
   {
    "duration": 204,
    "start_time": "2024-02-26T13:48:11.194Z"
   },
   {
    "duration": 97,
    "start_time": "2024-02-26T13:48:11.400Z"
   },
   {
    "duration": 92,
    "start_time": "2024-02-26T13:48:11.502Z"
   },
   {
    "duration": 25906,
    "start_time": "2024-02-26T13:48:45.849Z"
   },
   {
    "duration": 3,
    "start_time": "2024-02-26T13:49:42.025Z"
   },
   {
    "duration": 2443,
    "start_time": "2024-02-26T13:53:05.284Z"
   },
   {
    "duration": 3169,
    "start_time": "2024-02-26T13:53:07.729Z"
   },
   {
    "duration": 2425,
    "start_time": "2024-02-26T13:53:10.900Z"
   },
   {
    "duration": 1527,
    "start_time": "2024-02-26T13:53:13.328Z"
   },
   {
    "duration": 59,
    "start_time": "2024-02-26T13:53:14.856Z"
   },
   {
    "duration": 897,
    "start_time": "2024-02-26T13:53:14.918Z"
   },
   {
    "duration": 143,
    "start_time": "2024-02-26T13:53:15.816Z"
   },
   {
    "duration": 92,
    "start_time": "2024-02-26T13:53:15.961Z"
   },
   {
    "duration": 5,
    "start_time": "2024-02-26T13:53:16.055Z"
   },
   {
    "duration": 83,
    "start_time": "2024-02-26T13:53:16.063Z"
   },
   {
    "duration": 41,
    "start_time": "2024-02-26T13:53:16.147Z"
   },
   {
    "duration": 50,
    "start_time": "2024-02-26T13:53:16.193Z"
   },
   {
    "duration": 97,
    "start_time": "2024-02-26T13:53:16.245Z"
   },
   {
    "duration": 57,
    "start_time": "2024-02-26T13:53:16.344Z"
   },
   {
    "duration": 46,
    "start_time": "2024-02-26T13:53:16.403Z"
   },
   {
    "duration": 20,
    "start_time": "2024-02-26T13:53:16.451Z"
   },
   {
    "duration": 149,
    "start_time": "2024-02-26T13:53:16.473Z"
   },
   {
    "duration": 72,
    "start_time": "2024-02-26T13:53:16.624Z"
   },
   {
    "duration": 143,
    "start_time": "2024-02-26T13:53:16.698Z"
   },
   {
    "duration": 33,
    "start_time": "2024-02-26T13:53:16.842Z"
   },
   {
    "duration": 3,
    "start_time": "2024-02-26T13:53:16.877Z"
   },
   {
    "duration": 4211,
    "start_time": "2024-02-26T13:53:16.895Z"
   },
   {
    "duration": 800,
    "start_time": "2024-02-26T13:53:21.108Z"
   },
   {
    "duration": 92,
    "start_time": "2024-02-26T13:53:21.910Z"
   },
   {
    "duration": 142,
    "start_time": "2024-02-26T13:53:22.004Z"
   },
   {
    "duration": 913,
    "start_time": "2024-02-26T13:53:22.147Z"
   },
   {
    "duration": 760,
    "start_time": "2024-02-26T13:53:23.062Z"
   },
   {
    "duration": 1821,
    "start_time": "2024-02-26T13:53:23.826Z"
   },
   {
    "duration": 10,
    "start_time": "2024-02-26T13:53:25.649Z"
   },
   {
    "duration": 44,
    "start_time": "2024-02-26T13:53:25.661Z"
   },
   {
    "duration": 28,
    "start_time": "2024-02-26T13:53:25.706Z"
   },
   {
    "duration": 261,
    "start_time": "2024-02-26T13:53:25.736Z"
   },
   {
    "duration": 7,
    "start_time": "2024-02-26T13:53:25.998Z"
   },
   {
    "duration": 58,
    "start_time": "2024-02-26T13:53:26.006Z"
   },
   {
    "duration": 54,
    "start_time": "2024-02-26T13:53:26.066Z"
   },
   {
    "duration": 35,
    "start_time": "2024-02-26T13:53:26.122Z"
   },
   {
    "duration": 35,
    "start_time": "2024-02-26T13:53:26.159Z"
   },
   {
    "duration": 4,
    "start_time": "2024-02-26T13:53:26.196Z"
   },
   {
    "duration": 22,
    "start_time": "2024-02-26T13:53:26.201Z"
   },
   {
    "duration": 6,
    "start_time": "2024-02-26T13:53:26.224Z"
   },
   {
    "duration": 263,
    "start_time": "2024-02-26T13:53:26.231Z"
   },
   {
    "duration": 11,
    "start_time": "2024-02-26T13:53:26.496Z"
   },
   {
    "duration": 27,
    "start_time": "2024-02-26T13:53:26.509Z"
   },
   {
    "duration": 38,
    "start_time": "2024-02-26T13:53:26.538Z"
   },
   {
    "duration": 19,
    "start_time": "2024-02-26T13:53:26.577Z"
   },
   {
    "duration": 33,
    "start_time": "2024-02-26T13:53:26.597Z"
   },
   {
    "duration": 301,
    "start_time": "2024-02-26T13:53:26.631Z"
   },
   {
    "duration": 167,
    "start_time": "2024-02-26T13:53:26.933Z"
   },
   {
    "duration": 168,
    "start_time": "2024-02-26T13:53:27.102Z"
   },
   {
    "duration": 147,
    "start_time": "2024-02-26T13:53:27.271Z"
   },
   {
    "duration": 4,
    "start_time": "2024-02-26T13:53:27.420Z"
   },
   {
    "duration": 8,
    "start_time": "2024-02-26T13:53:27.426Z"
   },
   {
    "duration": 24,
    "start_time": "2024-02-26T13:53:27.436Z"
   },
   {
    "duration": 36,
    "start_time": "2024-02-26T13:53:27.462Z"
   },
   {
    "duration": 264,
    "start_time": "2024-02-26T13:53:27.500Z"
   },
   {
    "duration": 243,
    "start_time": "2024-02-26T13:53:27.766Z"
   },
   {
    "duration": 112,
    "start_time": "2024-02-26T13:53:28.011Z"
   },
   {
    "duration": 5,
    "start_time": "2024-02-26T13:53:28.125Z"
   },
   {
    "duration": 31,
    "start_time": "2024-02-26T13:53:28.131Z"
   },
   {
    "duration": 63,
    "start_time": "2024-02-26T13:53:28.164Z"
   },
   {
    "duration": 36597,
    "start_time": "2024-02-26T13:53:28.228Z"
   },
   {
    "duration": 10664,
    "start_time": "2024-02-26T13:54:04.827Z"
   },
   {
    "duration": 9762,
    "start_time": "2024-02-26T13:54:15.493Z"
   },
   {
    "duration": 1146,
    "start_time": "2024-02-26T13:54:25.257Z"
   },
   {
    "duration": 777,
    "start_time": "2024-02-26T13:54:26.405Z"
   },
   {
    "duration": 126,
    "start_time": "2024-02-26T13:54:27.184Z"
   },
   {
    "duration": 13,
    "start_time": "2024-02-26T13:54:27.312Z"
   },
   {
    "duration": 31,
    "start_time": "2024-02-26T13:54:27.326Z"
   },
   {
    "duration": 431,
    "start_time": "2024-02-26T13:54:27.359Z"
   },
   {
    "duration": 200,
    "start_time": "2024-02-26T13:54:27.791Z"
   },
   {
    "duration": 4,
    "start_time": "2024-02-26T13:54:27.993Z"
   },
   {
    "duration": 21501,
    "start_time": "2024-02-26T13:54:27.998Z"
   },
   {
    "duration": 405,
    "start_time": "2024-02-26T13:54:49.501Z"
   },
   {
    "duration": 89,
    "start_time": "2024-02-26T13:54:49.908Z"
   },
   {
    "duration": 95,
    "start_time": "2024-02-26T13:54:49.999Z"
   },
   {
    "duration": 2569,
    "start_time": "2024-02-26T13:57:43.890Z"
   },
   {
    "duration": 3298,
    "start_time": "2024-02-26T13:57:46.461Z"
   },
   {
    "duration": 2481,
    "start_time": "2024-02-26T13:57:49.761Z"
   },
   {
    "duration": 1513,
    "start_time": "2024-02-26T13:57:52.245Z"
   },
   {
    "duration": 54,
    "start_time": "2024-02-26T13:57:53.759Z"
   },
   {
    "duration": 906,
    "start_time": "2024-02-26T13:57:53.814Z"
   },
   {
    "duration": 145,
    "start_time": "2024-02-26T13:57:54.721Z"
   },
   {
    "duration": 148,
    "start_time": "2024-02-26T13:57:54.867Z"
   },
   {
    "duration": 6,
    "start_time": "2024-02-26T13:57:55.016Z"
   },
   {
    "duration": 72,
    "start_time": "2024-02-26T13:57:55.025Z"
   },
   {
    "duration": 40,
    "start_time": "2024-02-26T13:57:55.099Z"
   },
   {
    "duration": 27,
    "start_time": "2024-02-26T13:57:55.141Z"
   },
   {
    "duration": 40,
    "start_time": "2024-02-26T13:57:55.170Z"
   },
   {
    "duration": 5,
    "start_time": "2024-02-26T13:57:55.212Z"
   },
   {
    "duration": 34,
    "start_time": "2024-02-26T13:57:55.219Z"
   },
   {
    "duration": 15,
    "start_time": "2024-02-26T13:57:55.255Z"
   },
   {
    "duration": 109,
    "start_time": "2024-02-26T13:57:55.272Z"
   },
   {
    "duration": 92,
    "start_time": "2024-02-26T13:57:55.383Z"
   },
   {
    "duration": 149,
    "start_time": "2024-02-26T13:57:55.477Z"
   },
   {
    "duration": 12,
    "start_time": "2024-02-26T13:57:55.628Z"
   },
   {
    "duration": 6,
    "start_time": "2024-02-26T13:57:55.641Z"
   },
   {
    "duration": 4030,
    "start_time": "2024-02-26T13:57:55.649Z"
   },
   {
    "duration": 811,
    "start_time": "2024-02-26T13:57:59.681Z"
   },
   {
    "duration": 103,
    "start_time": "2024-02-26T13:58:00.494Z"
   },
   {
    "duration": 204,
    "start_time": "2024-02-26T13:58:00.598Z"
   },
   {
    "duration": 946,
    "start_time": "2024-02-26T13:58:00.803Z"
   },
   {
    "duration": 788,
    "start_time": "2024-02-26T13:58:01.751Z"
   },
   {
    "duration": 1811,
    "start_time": "2024-02-26T13:58:02.543Z"
   },
   {
    "duration": 10,
    "start_time": "2024-02-26T13:58:04.356Z"
   },
   {
    "duration": 61,
    "start_time": "2024-02-26T13:58:04.368Z"
   },
   {
    "duration": 40,
    "start_time": "2024-02-26T13:58:04.431Z"
   },
   {
    "duration": 250,
    "start_time": "2024-02-26T13:58:04.473Z"
   },
   {
    "duration": 6,
    "start_time": "2024-02-26T13:58:04.725Z"
   },
   {
    "duration": 44,
    "start_time": "2024-02-26T13:58:04.732Z"
   },
   {
    "duration": 6,
    "start_time": "2024-02-26T13:58:04.778Z"
   },
   {
    "duration": 29,
    "start_time": "2024-02-26T13:58:04.794Z"
   },
   {
    "duration": 49,
    "start_time": "2024-02-26T13:58:04.825Z"
   },
   {
    "duration": 13,
    "start_time": "2024-02-26T13:58:04.876Z"
   },
   {
    "duration": 40,
    "start_time": "2024-02-26T13:58:04.891Z"
   },
   {
    "duration": 14,
    "start_time": "2024-02-26T13:58:04.933Z"
   },
   {
    "duration": 213,
    "start_time": "2024-02-26T13:58:04.948Z"
   },
   {
    "duration": 10,
    "start_time": "2024-02-26T13:58:05.162Z"
   },
   {
    "duration": 25,
    "start_time": "2024-02-26T13:58:05.174Z"
   },
   {
    "duration": 25,
    "start_time": "2024-02-26T13:58:05.200Z"
   },
   {
    "duration": 3,
    "start_time": "2024-02-26T13:58:05.226Z"
   },
   {
    "duration": 29,
    "start_time": "2024-02-26T13:58:05.230Z"
   },
   {
    "duration": 297,
    "start_time": "2024-02-26T13:58:05.261Z"
   },
   {
    "duration": 165,
    "start_time": "2024-02-26T13:58:05.559Z"
   },
   {
    "duration": 169,
    "start_time": "2024-02-26T13:58:05.725Z"
   },
   {
    "duration": 160,
    "start_time": "2024-02-26T13:58:05.896Z"
   },
   {
    "duration": 3,
    "start_time": "2024-02-26T13:58:06.058Z"
   },
   {
    "duration": 16,
    "start_time": "2024-02-26T13:58:06.063Z"
   },
   {
    "duration": 31,
    "start_time": "2024-02-26T13:58:06.081Z"
   },
   {
    "duration": 34,
    "start_time": "2024-02-26T13:58:06.113Z"
   },
   {
    "duration": 273,
    "start_time": "2024-02-26T13:58:06.148Z"
   },
   {
    "duration": 267,
    "start_time": "2024-02-26T13:58:06.422Z"
   },
   {
    "duration": 93,
    "start_time": "2024-02-26T13:58:06.690Z"
   },
   {
    "duration": 5,
    "start_time": "2024-02-26T13:58:06.793Z"
   },
   {
    "duration": 15,
    "start_time": "2024-02-26T13:58:06.800Z"
   },
   {
    "duration": 61,
    "start_time": "2024-02-26T13:58:06.816Z"
   },
   {
    "duration": 37461,
    "start_time": "2024-02-26T13:58:06.878Z"
   },
   {
    "duration": 11373,
    "start_time": "2024-02-26T13:58:44.341Z"
   },
   {
    "duration": 10715,
    "start_time": "2024-02-26T13:58:55.715Z"
   },
   {
    "duration": 1141,
    "start_time": "2024-02-26T13:59:06.431Z"
   },
   {
    "duration": 809,
    "start_time": "2024-02-26T13:59:07.574Z"
   },
   {
    "duration": 127,
    "start_time": "2024-02-26T13:59:08.385Z"
   },
   {
    "duration": 13,
    "start_time": "2024-02-26T13:59:08.513Z"
   },
   {
    "duration": 42,
    "start_time": "2024-02-26T13:59:08.527Z"
   },
   {
    "duration": 469,
    "start_time": "2024-02-26T13:59:08.571Z"
   },
   {
    "duration": 219,
    "start_time": "2024-02-26T13:59:09.042Z"
   },
   {
    "duration": 5,
    "start_time": "2024-02-26T13:59:09.263Z"
   },
   {
    "duration": 22439,
    "start_time": "2024-02-26T13:59:09.269Z"
   },
   {
    "duration": 205,
    "start_time": "2024-02-26T13:59:31.795Z"
   },
   {
    "duration": 101,
    "start_time": "2024-02-26T13:59:32.002Z"
   },
   {
    "duration": 102,
    "start_time": "2024-02-26T13:59:32.105Z"
   },
   {
    "duration": 2449,
    "start_time": "2024-02-26T14:05:59.094Z"
   },
   {
    "duration": 3079,
    "start_time": "2024-02-26T14:06:01.546Z"
   },
   {
    "duration": 2440,
    "start_time": "2024-02-26T14:06:04.627Z"
   },
   {
    "duration": 1578,
    "start_time": "2024-02-26T14:06:07.070Z"
   },
   {
    "duration": 55,
    "start_time": "2024-02-26T14:06:08.650Z"
   },
   {
    "duration": 914,
    "start_time": "2024-02-26T14:06:08.706Z"
   },
   {
    "duration": 154,
    "start_time": "2024-02-26T14:06:09.621Z"
   },
   {
    "duration": 97,
    "start_time": "2024-02-26T14:06:09.776Z"
   },
   {
    "duration": 5,
    "start_time": "2024-02-26T14:06:09.875Z"
   },
   {
    "duration": 53,
    "start_time": "2024-02-26T14:06:09.893Z"
   },
   {
    "duration": 48,
    "start_time": "2024-02-26T14:06:09.947Z"
   },
   {
    "duration": 27,
    "start_time": "2024-02-26T14:06:09.997Z"
   },
   {
    "duration": 57,
    "start_time": "2024-02-26T14:06:10.025Z"
   },
   {
    "duration": 141,
    "start_time": "2024-02-26T14:06:10.084Z"
   },
   {
    "duration": 32,
    "start_time": "2024-02-26T14:06:10.227Z"
   },
   {
    "duration": 39,
    "start_time": "2024-02-26T14:06:10.260Z"
   },
   {
    "duration": 119,
    "start_time": "2024-02-26T14:06:10.301Z"
   },
   {
    "duration": 55,
    "start_time": "2024-02-26T14:06:10.421Z"
   },
   {
    "duration": 182,
    "start_time": "2024-02-26T14:06:10.478Z"
   },
   {
    "duration": 12,
    "start_time": "2024-02-26T14:06:10.661Z"
   },
   {
    "duration": 61,
    "start_time": "2024-02-26T14:06:10.675Z"
   },
   {
    "duration": 4039,
    "start_time": "2024-02-26T14:06:10.737Z"
   },
   {
    "duration": 787,
    "start_time": "2024-02-26T14:06:14.777Z"
   },
   {
    "duration": 101,
    "start_time": "2024-02-26T14:06:15.565Z"
   },
   {
    "duration": 180,
    "start_time": "2024-02-26T14:06:15.668Z"
   },
   {
    "duration": 879,
    "start_time": "2024-02-26T14:06:15.850Z"
   },
   {
    "duration": 750,
    "start_time": "2024-02-26T14:06:16.731Z"
   },
   {
    "duration": 1730,
    "start_time": "2024-02-26T14:06:17.485Z"
   },
   {
    "duration": 13,
    "start_time": "2024-02-26T14:06:19.216Z"
   },
   {
    "duration": 37,
    "start_time": "2024-02-26T14:06:19.231Z"
   },
   {
    "duration": 53,
    "start_time": "2024-02-26T14:06:19.271Z"
   },
   {
    "duration": 258,
    "start_time": "2024-02-26T14:06:19.326Z"
   },
   {
    "duration": 11,
    "start_time": "2024-02-26T14:06:19.585Z"
   },
   {
    "duration": 40,
    "start_time": "2024-02-26T14:06:19.598Z"
   },
   {
    "duration": 5,
    "start_time": "2024-02-26T14:06:19.640Z"
   },
   {
    "duration": 3,
    "start_time": "2024-02-26T14:06:19.647Z"
   },
   {
    "duration": 49,
    "start_time": "2024-02-26T14:06:19.652Z"
   },
   {
    "duration": 4,
    "start_time": "2024-02-26T14:06:19.702Z"
   },
   {
    "duration": 36,
    "start_time": "2024-02-26T14:06:19.708Z"
   },
   {
    "duration": 6,
    "start_time": "2024-02-26T14:06:19.746Z"
   },
   {
    "duration": 235,
    "start_time": "2024-02-26T14:06:19.754Z"
   },
   {
    "duration": 10,
    "start_time": "2024-02-26T14:06:19.994Z"
   },
   {
    "duration": 52,
    "start_time": "2024-02-26T14:06:20.006Z"
   },
   {
    "duration": 35,
    "start_time": "2024-02-26T14:06:20.060Z"
   },
   {
    "duration": 3,
    "start_time": "2024-02-26T14:06:20.097Z"
   },
   {
    "duration": 10,
    "start_time": "2024-02-26T14:06:20.102Z"
   },
   {
    "duration": 274,
    "start_time": "2024-02-26T14:06:20.114Z"
   },
   {
    "duration": 183,
    "start_time": "2024-02-26T14:06:20.394Z"
   },
   {
    "duration": 172,
    "start_time": "2024-02-26T14:06:20.578Z"
   },
   {
    "duration": 146,
    "start_time": "2024-02-26T14:06:20.752Z"
   },
   {
    "duration": 4,
    "start_time": "2024-02-26T14:06:20.899Z"
   },
   {
    "duration": 9,
    "start_time": "2024-02-26T14:06:20.905Z"
   },
   {
    "duration": 29,
    "start_time": "2024-02-26T14:06:20.915Z"
   },
   {
    "duration": 19,
    "start_time": "2024-02-26T14:06:20.946Z"
   },
   {
    "duration": 263,
    "start_time": "2024-02-26T14:06:20.966Z"
   },
   {
    "duration": 234,
    "start_time": "2024-02-26T14:06:21.230Z"
   },
   {
    "duration": 123,
    "start_time": "2024-02-26T14:06:21.466Z"
   },
   {
    "duration": 6,
    "start_time": "2024-02-26T14:06:21.595Z"
   },
   {
    "duration": 33,
    "start_time": "2024-02-26T14:06:21.603Z"
   },
   {
    "duration": 79,
    "start_time": "2024-02-26T14:06:21.638Z"
   },
   {
    "duration": 38664,
    "start_time": "2024-02-26T14:06:21.718Z"
   },
   {
    "duration": 11311,
    "start_time": "2024-02-26T14:07:00.384Z"
   },
   {
    "duration": 10773,
    "start_time": "2024-02-26T14:07:11.696Z"
   },
   {
    "duration": 1119,
    "start_time": "2024-02-26T14:07:22.471Z"
   },
   {
    "duration": 762,
    "start_time": "2024-02-26T14:07:23.591Z"
   },
   {
    "duration": 127,
    "start_time": "2024-02-26T14:07:24.354Z"
   },
   {
    "duration": 17,
    "start_time": "2024-02-26T14:07:24.482Z"
   },
   {
    "duration": 22,
    "start_time": "2024-02-26T14:07:24.500Z"
   },
   {
    "duration": 488,
    "start_time": "2024-02-26T14:07:24.524Z"
   },
   {
    "duration": 204,
    "start_time": "2024-02-26T14:07:25.014Z"
   },
   {
    "duration": 4,
    "start_time": "2024-02-26T14:07:25.219Z"
   },
   {
    "duration": 19576,
    "start_time": "2024-02-26T14:07:25.225Z"
   },
   {
    "duration": 392,
    "start_time": "2024-02-26T14:07:44.803Z"
   },
   {
    "duration": 5,
    "start_time": "2024-02-26T14:07:45.196Z"
   },
   {
    "duration": 50,
    "start_time": "2024-02-26T14:07:45.202Z"
   },
   {
    "duration": 2396,
    "start_time": "2024-02-26T14:12:49.790Z"
   },
   {
    "duration": 2991,
    "start_time": "2024-02-26T14:12:52.188Z"
   },
   {
    "duration": 2323,
    "start_time": "2024-02-26T14:12:55.181Z"
   },
   {
    "duration": 1433,
    "start_time": "2024-02-26T14:12:57.506Z"
   },
   {
    "duration": 57,
    "start_time": "2024-02-26T14:12:58.941Z"
   },
   {
    "duration": 855,
    "start_time": "2024-02-26T14:12:59.000Z"
   },
   {
    "duration": 142,
    "start_time": "2024-02-26T14:12:59.857Z"
   },
   {
    "duration": 93,
    "start_time": "2024-02-26T14:13:00.000Z"
   },
   {
    "duration": 5,
    "start_time": "2024-02-26T14:13:00.094Z"
   },
   {
    "duration": 104,
    "start_time": "2024-02-26T14:13:00.100Z"
   },
   {
    "duration": 62,
    "start_time": "2024-02-26T14:13:00.205Z"
   },
   {
    "duration": 90,
    "start_time": "2024-02-26T14:13:00.269Z"
   },
   {
    "duration": 112,
    "start_time": "2024-02-26T14:13:00.361Z"
   },
   {
    "duration": 86,
    "start_time": "2024-02-26T14:13:00.477Z"
   },
   {
    "duration": 113,
    "start_time": "2024-02-26T14:13:00.564Z"
   },
   {
    "duration": 134,
    "start_time": "2024-02-26T14:13:00.679Z"
   },
   {
    "duration": 178,
    "start_time": "2024-02-26T14:13:00.815Z"
   },
   {
    "duration": 86,
    "start_time": "2024-02-26T14:13:00.995Z"
   },
   {
    "duration": 174,
    "start_time": "2024-02-26T14:13:01.083Z"
   },
   {
    "duration": 35,
    "start_time": "2024-02-26T14:13:01.259Z"
   },
   {
    "duration": 19,
    "start_time": "2024-02-26T14:13:01.296Z"
   },
   {
    "duration": 3964,
    "start_time": "2024-02-26T14:13:01.316Z"
   },
   {
    "duration": 783,
    "start_time": "2024-02-26T14:13:05.282Z"
   },
   {
    "duration": 88,
    "start_time": "2024-02-26T14:13:06.067Z"
   },
   {
    "duration": 132,
    "start_time": "2024-02-26T14:13:06.157Z"
   },
   {
    "duration": 906,
    "start_time": "2024-02-26T14:13:06.290Z"
   },
   {
    "duration": 740,
    "start_time": "2024-02-26T14:13:07.198Z"
   },
   {
    "duration": 1711,
    "start_time": "2024-02-26T14:13:07.940Z"
   },
   {
    "duration": 9,
    "start_time": "2024-02-26T14:13:09.653Z"
   },
   {
    "duration": 61,
    "start_time": "2024-02-26T14:13:09.663Z"
   },
   {
    "duration": 54,
    "start_time": "2024-02-26T14:13:09.725Z"
   },
   {
    "duration": 234,
    "start_time": "2024-02-26T14:13:09.780Z"
   },
   {
    "duration": 6,
    "start_time": "2024-02-26T14:13:10.015Z"
   },
   {
    "duration": 178,
    "start_time": "2024-02-26T14:13:10.023Z"
   },
   {
    "duration": 16,
    "start_time": "2024-02-26T14:13:10.202Z"
   },
   {
    "duration": 14,
    "start_time": "2024-02-26T14:13:10.219Z"
   },
   {
    "duration": 39,
    "start_time": "2024-02-26T14:13:10.234Z"
   },
   {
    "duration": 6,
    "start_time": "2024-02-26T14:13:10.274Z"
   },
   {
    "duration": 17,
    "start_time": "2024-02-26T14:13:10.281Z"
   },
   {
    "duration": 10,
    "start_time": "2024-02-26T14:13:10.300Z"
   },
   {
    "duration": 218,
    "start_time": "2024-02-26T14:13:10.314Z"
   },
   {
    "duration": 10,
    "start_time": "2024-02-26T14:13:10.534Z"
   },
   {
    "duration": 30,
    "start_time": "2024-02-26T14:13:10.545Z"
   },
   {
    "duration": 37,
    "start_time": "2024-02-26T14:13:10.576Z"
   },
   {
    "duration": 19,
    "start_time": "2024-02-26T14:13:10.614Z"
   },
   {
    "duration": 31,
    "start_time": "2024-02-26T14:13:10.635Z"
   },
   {
    "duration": 288,
    "start_time": "2024-02-26T14:13:10.667Z"
   },
   {
    "duration": 158,
    "start_time": "2024-02-26T14:13:10.957Z"
   },
   {
    "duration": 162,
    "start_time": "2024-02-26T14:13:11.117Z"
   },
   {
    "duration": 162,
    "start_time": "2024-02-26T14:13:11.281Z"
   },
   {
    "duration": 4,
    "start_time": "2024-02-26T14:13:11.445Z"
   },
   {
    "duration": 86,
    "start_time": "2024-02-26T14:13:11.450Z"
   },
   {
    "duration": 28,
    "start_time": "2024-02-26T14:13:11.538Z"
   },
   {
    "duration": 38,
    "start_time": "2024-02-26T14:13:11.567Z"
   },
   {
    "duration": 279,
    "start_time": "2024-02-26T14:13:11.608Z"
   },
   {
    "duration": 264,
    "start_time": "2024-02-26T14:13:11.889Z"
   },
   {
    "duration": 100,
    "start_time": "2024-02-26T14:13:12.155Z"
   },
   {
    "duration": 5,
    "start_time": "2024-02-26T14:13:12.257Z"
   },
   {
    "duration": 28,
    "start_time": "2024-02-26T14:13:12.264Z"
   },
   {
    "duration": 75,
    "start_time": "2024-02-26T14:13:12.294Z"
   },
   {
    "duration": 38152,
    "start_time": "2024-02-26T14:13:12.371Z"
   },
   {
    "duration": 10404,
    "start_time": "2024-02-26T14:13:50.525Z"
   },
   {
    "duration": 10965,
    "start_time": "2024-02-26T14:14:00.931Z"
   },
   {
    "duration": 1238,
    "start_time": "2024-02-26T14:14:11.898Z"
   },
   {
    "duration": 0,
    "start_time": "2024-02-26T14:14:13.138Z"
   },
   {
    "duration": 0,
    "start_time": "2024-02-26T14:14:13.139Z"
   },
   {
    "duration": 0,
    "start_time": "2024-02-26T14:14:13.140Z"
   },
   {
    "duration": 0,
    "start_time": "2024-02-26T14:14:13.141Z"
   },
   {
    "duration": 0,
    "start_time": "2024-02-26T14:14:13.142Z"
   },
   {
    "duration": 0,
    "start_time": "2024-02-26T14:14:13.143Z"
   },
   {
    "duration": 0,
    "start_time": "2024-02-26T14:14:13.144Z"
   },
   {
    "duration": 0,
    "start_time": "2024-02-26T14:14:13.145Z"
   },
   {
    "duration": 0,
    "start_time": "2024-02-26T14:14:13.146Z"
   },
   {
    "duration": 0,
    "start_time": "2024-02-26T14:14:13.147Z"
   },
   {
    "duration": 0,
    "start_time": "2024-02-26T14:14:13.148Z"
   },
   {
    "duration": 0,
    "start_time": "2024-02-26T14:14:13.149Z"
   },
   {
    "duration": 2387,
    "start_time": "2024-02-26T14:15:19.513Z"
   },
   {
    "duration": 3994,
    "start_time": "2024-02-26T14:15:21.902Z"
   },
   {
    "duration": 2465,
    "start_time": "2024-02-26T14:15:25.898Z"
   },
   {
    "duration": 5,
    "start_time": "2024-02-26T14:15:28.365Z"
   },
   {
    "duration": 83,
    "start_time": "2024-02-26T14:15:28.373Z"
   },
   {
    "duration": 858,
    "start_time": "2024-02-26T14:15:28.458Z"
   },
   {
    "duration": 164,
    "start_time": "2024-02-26T14:15:29.318Z"
   },
   {
    "duration": 88,
    "start_time": "2024-02-26T14:15:29.484Z"
   },
   {
    "duration": 6,
    "start_time": "2024-02-26T14:15:29.574Z"
   },
   {
    "duration": 100,
    "start_time": "2024-02-26T14:15:29.581Z"
   },
   {
    "duration": 19,
    "start_time": "2024-02-26T14:15:29.682Z"
   },
   {
    "duration": 24,
    "start_time": "2024-02-26T14:15:29.703Z"
   },
   {
    "duration": 71,
    "start_time": "2024-02-26T14:15:29.729Z"
   },
   {
    "duration": 26,
    "start_time": "2024-02-26T14:15:29.804Z"
   },
   {
    "duration": 17,
    "start_time": "2024-02-26T14:15:29.832Z"
   },
   {
    "duration": 26,
    "start_time": "2024-02-26T14:15:29.850Z"
   },
   {
    "duration": 115,
    "start_time": "2024-02-26T14:15:29.877Z"
   },
   {
    "duration": 55,
    "start_time": "2024-02-26T14:15:29.993Z"
   },
   {
    "duration": 142,
    "start_time": "2024-02-26T14:15:30.050Z"
   },
   {
    "duration": 15,
    "start_time": "2024-02-26T14:15:30.193Z"
   },
   {
    "duration": 83,
    "start_time": "2024-02-26T14:15:30.209Z"
   },
   {
    "duration": 4082,
    "start_time": "2024-02-26T14:15:30.293Z"
   },
   {
    "duration": 732,
    "start_time": "2024-02-26T14:15:34.376Z"
   },
   {
    "duration": 92,
    "start_time": "2024-02-26T14:15:35.110Z"
   },
   {
    "duration": 173,
    "start_time": "2024-02-26T14:15:35.203Z"
   },
   {
    "duration": 784,
    "start_time": "2024-02-26T14:15:35.377Z"
   },
   {
    "duration": 745,
    "start_time": "2024-02-26T14:15:36.163Z"
   },
   {
    "duration": 1761,
    "start_time": "2024-02-26T14:15:36.910Z"
   },
   {
    "duration": 10,
    "start_time": "2024-02-26T14:15:38.672Z"
   },
   {
    "duration": 56,
    "start_time": "2024-02-26T14:15:38.683Z"
   },
   {
    "duration": 43,
    "start_time": "2024-02-26T14:15:38.740Z"
   },
   {
    "duration": 367,
    "start_time": "2024-02-26T14:15:38.784Z"
   },
   {
    "duration": 7,
    "start_time": "2024-02-26T14:15:39.153Z"
   },
   {
    "duration": 41,
    "start_time": "2024-02-26T14:15:39.161Z"
   },
   {
    "duration": 6,
    "start_time": "2024-02-26T14:15:39.204Z"
   },
   {
    "duration": 14,
    "start_time": "2024-02-26T14:15:39.212Z"
   },
   {
    "duration": 45,
    "start_time": "2024-02-26T14:15:39.227Z"
   },
   {
    "duration": 4,
    "start_time": "2024-02-26T14:15:39.274Z"
   },
   {
    "duration": 36,
    "start_time": "2024-02-26T14:15:39.279Z"
   },
   {
    "duration": 30,
    "start_time": "2024-02-26T14:15:39.317Z"
   },
   {
    "duration": 139,
    "start_time": "2024-02-26T14:15:39.352Z"
   },
   {
    "duration": 10,
    "start_time": "2024-02-26T14:15:39.493Z"
   },
   {
    "duration": 36,
    "start_time": "2024-02-26T14:15:39.505Z"
   },
   {
    "duration": 45,
    "start_time": "2024-02-26T14:15:39.542Z"
   },
   {
    "duration": 7,
    "start_time": "2024-02-26T14:15:39.589Z"
   },
   {
    "duration": 25,
    "start_time": "2024-02-26T14:15:39.598Z"
   },
   {
    "duration": 315,
    "start_time": "2024-02-26T14:15:39.625Z"
   },
   {
    "duration": 153,
    "start_time": "2024-02-26T14:15:39.941Z"
   },
   {
    "duration": 166,
    "start_time": "2024-02-26T14:15:40.095Z"
   },
   {
    "duration": 143,
    "start_time": "2024-02-26T14:15:40.263Z"
   },
   {
    "duration": 4,
    "start_time": "2024-02-26T14:15:40.408Z"
   },
   {
    "duration": 34,
    "start_time": "2024-02-26T14:15:40.414Z"
   },
   {
    "duration": 46,
    "start_time": "2024-02-26T14:15:40.450Z"
   },
   {
    "duration": 32,
    "start_time": "2024-02-26T14:15:40.497Z"
   },
   {
    "duration": 290,
    "start_time": "2024-02-26T14:15:40.530Z"
   },
   {
    "duration": 251,
    "start_time": "2024-02-26T14:15:40.822Z"
   },
   {
    "duration": 100,
    "start_time": "2024-02-26T14:15:41.075Z"
   },
   {
    "duration": 5,
    "start_time": "2024-02-26T14:15:41.177Z"
   },
   {
    "duration": 103,
    "start_time": "2024-02-26T14:15:41.184Z"
   },
   {
    "duration": 82,
    "start_time": "2024-02-26T14:15:41.288Z"
   },
   {
    "duration": 37852,
    "start_time": "2024-02-26T14:15:41.372Z"
   },
   {
    "duration": 10387,
    "start_time": "2024-02-26T14:16:19.225Z"
   },
   {
    "duration": 10589,
    "start_time": "2024-02-26T14:16:29.614Z"
   },
   {
    "duration": 1089,
    "start_time": "2024-02-26T14:16:40.205Z"
   },
   {
    "duration": 0,
    "start_time": "2024-02-26T14:16:41.295Z"
   },
   {
    "duration": 0,
    "start_time": "2024-02-26T14:16:41.296Z"
   },
   {
    "duration": 0,
    "start_time": "2024-02-26T14:16:41.298Z"
   },
   {
    "duration": 0,
    "start_time": "2024-02-26T14:16:41.299Z"
   },
   {
    "duration": 0,
    "start_time": "2024-02-26T14:16:41.300Z"
   },
   {
    "duration": 0,
    "start_time": "2024-02-26T14:16:41.301Z"
   },
   {
    "duration": 0,
    "start_time": "2024-02-26T14:16:41.302Z"
   },
   {
    "duration": 0,
    "start_time": "2024-02-26T14:16:41.303Z"
   },
   {
    "duration": 0,
    "start_time": "2024-02-26T14:16:41.304Z"
   },
   {
    "duration": 0,
    "start_time": "2024-02-26T14:16:41.305Z"
   },
   {
    "duration": 0,
    "start_time": "2024-02-26T14:16:41.306Z"
   },
   {
    "duration": 0,
    "start_time": "2024-02-26T14:16:41.307Z"
   },
   {
    "duration": 1171,
    "start_time": "2024-02-26T14:37:37.241Z"
   },
   {
    "duration": 124,
    "start_time": "2024-02-26T14:38:00.776Z"
   },
   {
    "duration": 4,
    "start_time": "2024-02-26T14:38:16.457Z"
   },
   {
    "duration": 406,
    "start_time": "2024-02-26T14:38:17.974Z"
   },
   {
    "duration": 216,
    "start_time": "2024-02-26T14:38:18.902Z"
   },
   {
    "duration": 5,
    "start_time": "2024-02-26T14:38:20.357Z"
   },
   {
    "duration": 14673,
    "start_time": "2024-02-26T14:38:21.624Z"
   },
   {
    "duration": 297,
    "start_time": "2024-02-26T14:38:36.300Z"
   },
   {
    "duration": 97,
    "start_time": "2024-02-26T14:38:36.600Z"
   },
   {
    "duration": 19,
    "start_time": "2024-02-26T14:38:36.700Z"
   },
   {
    "duration": 586835,
    "start_time": "2024-02-26T14:38:36.720Z"
   },
   {
    "duration": 3,
    "start_time": "2024-02-26T15:42:41.178Z"
   },
   {
    "duration": 4,
    "start_time": "2024-02-26T15:42:41.333Z"
   },
   {
    "duration": 3,
    "start_time": "2024-02-26T15:45:07.773Z"
   },
   {
    "duration": 104131,
    "start_time": "2024-02-26T15:45:09.935Z"
   },
   {
    "duration": 2771,
    "start_time": "2024-02-26T15:46:54.068Z"
   },
   {
    "duration": 5,
    "start_time": "2024-02-26T15:46:56.840Z"
   },
   {
    "duration": 2,
    "start_time": "2024-02-26T15:47:15.766Z"
   },
   {
    "duration": 2,
    "start_time": "2024-02-26T15:49:52.419Z"
   },
   {
    "duration": 3,
    "start_time": "2024-02-26T15:49:55.831Z"
   },
   {
    "duration": 3,
    "start_time": "2024-02-26T15:50:09.042Z"
   },
   {
    "duration": 3,
    "start_time": "2024-02-26T15:50:23.206Z"
   },
   {
    "duration": 2,
    "start_time": "2024-02-26T15:50:29.746Z"
   },
   {
    "duration": 2,
    "start_time": "2024-02-26T15:50:35.879Z"
   },
   {
    "duration": 2,
    "start_time": "2024-02-26T15:50:39.554Z"
   },
   {
    "duration": 2,
    "start_time": "2024-02-26T15:50:42.115Z"
   },
   {
    "duration": 3,
    "start_time": "2024-02-26T15:51:47.718Z"
   },
   {
    "duration": 22559,
    "start_time": "2024-02-26T15:51:48.553Z"
   },
   {
    "duration": 1298,
    "start_time": "2024-02-26T15:52:11.113Z"
   },
   {
    "duration": 4,
    "start_time": "2024-02-26T15:52:12.412Z"
   },
   {
    "duration": 4,
    "start_time": "2024-02-26T15:52:12.418Z"
   },
   {
    "duration": 71,
    "start_time": "2024-02-26T15:52:12.423Z"
   },
   {
    "duration": 3,
    "start_time": "2024-02-26T15:52:12.495Z"
   },
   {
    "duration": 5,
    "start_time": "2024-02-26T15:52:12.499Z"
   },
   {
    "duration": 352111,
    "start_time": "2024-02-26T15:52:12.506Z"
   },
   {
    "duration": 4,
    "start_time": "2024-02-26T15:58:04.619Z"
   },
   {
    "duration": 41461,
    "start_time": "2024-02-26T15:58:04.625Z"
   },
   {
    "duration": 190,
    "start_time": "2024-02-26T15:58:46.087Z"
   },
   {
    "duration": 4,
    "start_time": "2024-02-26T15:58:46.279Z"
   },
   {
    "duration": 10,
    "start_time": "2024-02-26T15:58:46.284Z"
   },
   {
    "duration": 25,
    "start_time": "2024-02-26T15:58:46.296Z"
   },
   {
    "duration": 44,
    "start_time": "2024-02-26T15:58:46.322Z"
   },
   {
    "duration": 146,
    "start_time": "2024-02-26T15:59:17.321Z"
   },
   {
    "duration": 2657,
    "start_time": "2024-02-27T11:41:54.127Z"
   },
   {
    "duration": 2342,
    "start_time": "2024-02-27T11:41:56.786Z"
   },
   {
    "duration": 3260,
    "start_time": "2024-02-27T11:41:59.130Z"
   },
   {
    "duration": 1813,
    "start_time": "2024-02-27T11:42:02.392Z"
   },
   {
    "duration": 91,
    "start_time": "2024-02-27T11:42:04.207Z"
   },
   {
    "duration": 1095,
    "start_time": "2024-02-27T11:42:04.300Z"
   },
   {
    "duration": 140,
    "start_time": "2024-02-27T11:42:05.396Z"
   },
   {
    "duration": 100,
    "start_time": "2024-02-27T11:42:05.537Z"
   },
   {
    "duration": 5,
    "start_time": "2024-02-27T11:42:05.639Z"
   },
   {
    "duration": 77,
    "start_time": "2024-02-27T11:42:05.646Z"
   },
   {
    "duration": 42,
    "start_time": "2024-02-27T11:42:05.725Z"
   },
   {
    "duration": 16,
    "start_time": "2024-02-27T11:42:05.768Z"
   },
   {
    "duration": 60,
    "start_time": "2024-02-27T11:42:05.786Z"
   },
   {
    "duration": 16,
    "start_time": "2024-02-27T11:42:05.847Z"
   },
   {
    "duration": 28,
    "start_time": "2024-02-27T11:42:05.864Z"
   },
   {
    "duration": 23,
    "start_time": "2024-02-27T11:42:05.894Z"
   },
   {
    "duration": 110,
    "start_time": "2024-02-27T11:42:05.919Z"
   },
   {
    "duration": 58,
    "start_time": "2024-02-27T11:42:06.030Z"
   },
   {
    "duration": 161,
    "start_time": "2024-02-27T11:42:06.090Z"
   },
   {
    "duration": 31,
    "start_time": "2024-02-27T11:42:06.253Z"
   },
   {
    "duration": 3,
    "start_time": "2024-02-27T11:42:06.285Z"
   },
   {
    "duration": 3883,
    "start_time": "2024-02-27T11:42:06.289Z"
   },
   {
    "duration": 809,
    "start_time": "2024-02-27T11:42:10.173Z"
   },
   {
    "duration": 94,
    "start_time": "2024-02-27T11:42:10.983Z"
   },
   {
    "duration": 146,
    "start_time": "2024-02-27T11:42:11.079Z"
   },
   {
    "duration": 940,
    "start_time": "2024-02-27T11:42:11.227Z"
   },
   {
    "duration": 768,
    "start_time": "2024-02-27T11:42:12.168Z"
   },
   {
    "duration": 1699,
    "start_time": "2024-02-27T11:42:12.940Z"
   },
   {
    "duration": 9,
    "start_time": "2024-02-27T11:42:14.641Z"
   },
   {
    "duration": 23,
    "start_time": "2024-02-27T11:42:14.652Z"
   },
   {
    "duration": 47,
    "start_time": "2024-02-27T11:42:14.676Z"
   },
   {
    "duration": 240,
    "start_time": "2024-02-27T11:42:14.724Z"
   },
   {
    "duration": 6,
    "start_time": "2024-02-27T11:42:14.966Z"
   },
   {
    "duration": 50,
    "start_time": "2024-02-27T11:42:14.974Z"
   },
   {
    "duration": 7,
    "start_time": "2024-02-27T11:42:15.026Z"
   },
   {
    "duration": 29,
    "start_time": "2024-02-27T11:42:15.035Z"
   },
   {
    "duration": 46,
    "start_time": "2024-02-27T11:42:15.065Z"
   },
   {
    "duration": 4,
    "start_time": "2024-02-27T11:42:15.112Z"
   },
   {
    "duration": 27,
    "start_time": "2024-02-27T11:42:15.118Z"
   },
   {
    "duration": 7,
    "start_time": "2024-02-27T11:42:15.147Z"
   },
   {
    "duration": 226,
    "start_time": "2024-02-27T11:42:15.156Z"
   },
   {
    "duration": 12,
    "start_time": "2024-02-27T11:42:15.384Z"
   },
   {
    "duration": 26,
    "start_time": "2024-02-27T11:42:15.397Z"
   },
   {
    "duration": 31,
    "start_time": "2024-02-27T11:42:15.425Z"
   },
   {
    "duration": 4,
    "start_time": "2024-02-27T11:42:15.457Z"
   },
   {
    "duration": 33,
    "start_time": "2024-02-27T11:42:15.463Z"
   },
   {
    "duration": 286,
    "start_time": "2024-02-27T11:42:15.498Z"
   },
   {
    "duration": 168,
    "start_time": "2024-02-27T11:42:15.785Z"
   },
   {
    "duration": 172,
    "start_time": "2024-02-27T11:42:15.955Z"
   },
   {
    "duration": 152,
    "start_time": "2024-02-27T11:42:16.129Z"
   },
   {
    "duration": 3,
    "start_time": "2024-02-27T11:42:16.283Z"
   },
   {
    "duration": 6,
    "start_time": "2024-02-27T11:42:16.288Z"
   },
   {
    "duration": 31,
    "start_time": "2024-02-27T11:42:16.295Z"
   },
   {
    "duration": 26,
    "start_time": "2024-02-27T11:42:16.327Z"
   },
   {
    "duration": 237,
    "start_time": "2024-02-27T11:42:16.355Z"
   },
   {
    "duration": 245,
    "start_time": "2024-02-27T11:42:16.594Z"
   },
   {
    "duration": 98,
    "start_time": "2024-02-27T11:42:16.842Z"
   },
   {
    "duration": 5,
    "start_time": "2024-02-27T11:42:16.942Z"
   },
   {
    "duration": 29,
    "start_time": "2024-02-27T11:42:16.949Z"
   },
   {
    "duration": 69,
    "start_time": "2024-02-27T11:42:16.980Z"
   },
   {
    "duration": 38663,
    "start_time": "2024-02-27T11:42:17.051Z"
   },
   {
    "duration": 10778,
    "start_time": "2024-02-27T11:42:55.718Z"
   },
   {
    "duration": 11716,
    "start_time": "2024-02-27T11:43:06.498Z"
   },
   {
    "duration": 1218,
    "start_time": "2024-02-27T11:43:18.217Z"
   },
   {
    "duration": 132,
    "start_time": "2024-02-27T11:43:19.437Z"
   },
   {
    "duration": 4,
    "start_time": "2024-02-27T11:43:19.571Z"
   },
   {
    "duration": 432,
    "start_time": "2024-02-27T11:43:19.576Z"
   },
   {
    "duration": 200,
    "start_time": "2024-02-27T11:43:20.009Z"
   },
   {
    "duration": 9,
    "start_time": "2024-02-27T11:43:20.210Z"
   },
   {
    "duration": 21005,
    "start_time": "2024-02-27T11:43:20.220Z"
   },
   {
    "duration": 295,
    "start_time": "2024-02-27T11:43:41.227Z"
   },
   {
    "duration": 93,
    "start_time": "2024-02-27T11:43:41.525Z"
   },
   {
    "duration": 3,
    "start_time": "2024-02-27T11:43:41.621Z"
   },
   {
    "duration": 626457,
    "start_time": "2024-02-27T11:43:41.626Z"
   },
   {
    "duration": 2,
    "start_time": "2024-02-27T11:54:08.085Z"
   },
   {
    "duration": 20,
    "start_time": "2024-02-27T11:54:08.088Z"
   },
   {
    "duration": 23,
    "start_time": "2024-02-27T11:54:08.109Z"
   },
   {
    "duration": 112037,
    "start_time": "2024-02-27T11:54:08.134Z"
   },
   {
    "duration": 3057,
    "start_time": "2024-02-27T11:56:00.173Z"
   },
   {
    "duration": 4,
    "start_time": "2024-02-27T11:56:03.232Z"
   },
   {
    "duration": 10,
    "start_time": "2024-02-27T11:56:03.238Z"
   },
   {
    "duration": 3,
    "start_time": "2024-02-27T11:56:03.253Z"
   },
   {
    "duration": 4,
    "start_time": "2024-02-27T11:56:03.257Z"
   },
   {
    "duration": 6,
    "start_time": "2024-02-27T11:56:03.262Z"
   },
   {
    "duration": 6,
    "start_time": "2024-02-27T11:56:03.269Z"
   },
   {
    "duration": 9,
    "start_time": "2024-02-27T11:56:03.277Z"
   },
   {
    "duration": 8,
    "start_time": "2024-02-27T11:56:03.288Z"
   },
   {
    "duration": 28,
    "start_time": "2024-02-27T11:56:03.298Z"
   },
   {
    "duration": 11,
    "start_time": "2024-02-27T11:56:03.327Z"
   },
   {
    "duration": 624783,
    "start_time": "2024-02-27T11:56:03.339Z"
   },
   {
    "duration": 1294,
    "start_time": "2024-02-27T12:06:28.125Z"
   },
   {
    "duration": 8,
    "start_time": "2024-02-27T12:06:29.421Z"
   },
   {
    "duration": 4,
    "start_time": "2024-02-27T12:06:29.432Z"
   },
   {
    "duration": 11,
    "start_time": "2024-02-27T12:06:29.438Z"
   },
   {
    "duration": 36,
    "start_time": "2024-02-27T12:06:29.451Z"
   },
   {
    "duration": 21,
    "start_time": "2024-02-27T12:06:29.489Z"
   },
   {
    "duration": 367843,
    "start_time": "2024-02-27T12:06:29.511Z"
   },
   {
    "duration": 4,
    "start_time": "2024-02-27T12:12:37.356Z"
   },
   {
    "duration": 42380,
    "start_time": "2024-02-27T12:12:37.362Z"
   },
   {
    "duration": 203,
    "start_time": "2024-02-27T12:13:19.744Z"
   },
   {
    "duration": 5,
    "start_time": "2024-02-27T12:13:19.948Z"
   },
   {
    "duration": 25,
    "start_time": "2024-02-27T12:13:19.954Z"
   },
   {
    "duration": 40,
    "start_time": "2024-02-27T12:13:19.981Z"
   },
   {
    "duration": 13,
    "start_time": "2024-02-27T12:13:20.025Z"
   },
   {
    "duration": 291,
    "start_time": "2024-02-27T12:13:20.040Z"
   },
   {
    "duration": 12,
    "start_time": "2024-02-27T12:13:20.332Z"
   },
   {
    "duration": 0,
    "start_time": "2024-02-27T12:13:20.346Z"
   },
   {
    "duration": 0,
    "start_time": "2024-02-27T12:13:20.349Z"
   },
   {
    "duration": 1843,
    "start_time": "2024-02-27T14:33:34.090Z"
   },
   {
    "duration": 0,
    "start_time": "2024-02-27T14:33:35.935Z"
   },
   {
    "duration": 2762,
    "start_time": "2024-02-27T14:33:45.095Z"
   },
   {
    "duration": 2512,
    "start_time": "2024-02-27T14:33:47.859Z"
   },
   {
    "duration": 3164,
    "start_time": "2024-02-27T14:33:50.373Z"
   },
   {
    "duration": 70,
    "start_time": "2024-02-27T14:33:53.539Z"
   },
   {
    "duration": 52,
    "start_time": "2024-02-27T14:33:53.611Z"
   },
   {
    "duration": 2940,
    "start_time": "2024-02-27T14:33:57.120Z"
   },
   {
    "duration": 150,
    "start_time": "2024-02-27T14:34:23.048Z"
   },
   {
    "duration": 131,
    "start_time": "2024-02-27T14:34:24.089Z"
   },
   {
    "duration": 5,
    "start_time": "2024-02-27T14:34:27.208Z"
   },
   {
    "duration": 48,
    "start_time": "2024-02-27T14:34:27.888Z"
   },
   {
    "duration": 40,
    "start_time": "2024-02-27T14:34:28.992Z"
   },
   {
    "duration": 4,
    "start_time": "2024-02-27T14:34:29.351Z"
   },
   {
    "duration": 35,
    "start_time": "2024-02-27T14:34:29.488Z"
   },
   {
    "duration": 4,
    "start_time": "2024-02-27T14:34:29.775Z"
   },
   {
    "duration": 5,
    "start_time": "2024-02-27T14:34:30.112Z"
   },
   {
    "duration": 3,
    "start_time": "2024-02-27T14:34:30.275Z"
   },
   {
    "duration": 105,
    "start_time": "2024-02-27T14:34:30.696Z"
   },
   {
    "duration": 58,
    "start_time": "2024-02-27T14:34:30.920Z"
   },
   {
    "duration": 149,
    "start_time": "2024-02-27T14:34:31.264Z"
   },
   {
    "duration": 12,
    "start_time": "2024-02-27T14:34:31.959Z"
   },
   {
    "duration": 2,
    "start_time": "2024-02-27T14:34:32.504Z"
   },
   {
    "duration": 4060,
    "start_time": "2024-02-27T14:34:32.678Z"
   },
   {
    "duration": 803,
    "start_time": "2024-02-27T14:34:36.740Z"
   },
   {
    "duration": 103,
    "start_time": "2024-02-27T14:34:37.545Z"
   },
   {
    "duration": 149,
    "start_time": "2024-02-27T14:34:37.650Z"
   },
   {
    "duration": 905,
    "start_time": "2024-02-27T14:34:37.801Z"
   },
   {
    "duration": 778,
    "start_time": "2024-02-27T14:34:38.708Z"
   },
   {
    "duration": 1809,
    "start_time": "2024-02-27T14:34:39.487Z"
   },
   {
    "duration": 10,
    "start_time": "2024-02-27T14:34:41.298Z"
   },
   {
    "duration": 31,
    "start_time": "2024-02-27T14:34:44.079Z"
   },
   {
    "duration": 28,
    "start_time": "2024-02-27T14:34:44.759Z"
   },
   {
    "duration": 247,
    "start_time": "2024-02-27T14:34:47.454Z"
   },
   {
    "duration": 6,
    "start_time": "2024-02-27T14:34:47.831Z"
   },
   {
    "duration": 38,
    "start_time": "2024-02-27T14:34:50.334Z"
   },
   {
    "duration": 6,
    "start_time": "2024-02-27T14:34:50.816Z"
   },
   {
    "duration": 3,
    "start_time": "2024-02-27T14:34:51.496Z"
   },
   {
    "duration": 22,
    "start_time": "2024-02-27T14:34:51.927Z"
   },
   {
    "duration": 4,
    "start_time": "2024-02-27T14:34:52.759Z"
   },
   {
    "duration": 12,
    "start_time": "2024-02-27T14:34:52.904Z"
   },
   {
    "duration": 6,
    "start_time": "2024-02-27T14:34:53.343Z"
   },
   {
    "duration": 199,
    "start_time": "2024-02-27T14:34:53.672Z"
   },
   {
    "duration": 9,
    "start_time": "2024-02-27T14:34:53.873Z"
   },
   {
    "duration": 10,
    "start_time": "2024-02-27T14:34:53.992Z"
   },
   {
    "duration": 26,
    "start_time": "2024-02-27T14:34:54.887Z"
   },
   {
    "duration": 3,
    "start_time": "2024-02-27T14:35:01.704Z"
   },
   {
    "duration": 6,
    "start_time": "2024-02-27T14:35:01.870Z"
   },
   {
    "duration": 260,
    "start_time": "2024-02-27T14:35:02.040Z"
   },
   {
    "duration": 161,
    "start_time": "2024-02-27T14:35:03.142Z"
   },
   {
    "duration": 173,
    "start_time": "2024-02-27T14:35:03.305Z"
   },
   {
    "duration": 157,
    "start_time": "2024-02-27T14:35:03.479Z"
   },
   {
    "duration": 4,
    "start_time": "2024-02-27T14:35:03.647Z"
   },
   {
    "duration": 4,
    "start_time": "2024-02-27T14:35:11.327Z"
   },
   {
    "duration": 18,
    "start_time": "2024-02-27T14:35:11.520Z"
   },
   {
    "duration": 18,
    "start_time": "2024-02-27T14:35:11.686Z"
   },
   {
    "duration": 246,
    "start_time": "2024-02-27T14:35:11.863Z"
   },
   {
    "duration": 256,
    "start_time": "2024-02-27T14:35:12.111Z"
   },
   {
    "duration": 91,
    "start_time": "2024-02-27T14:35:18.840Z"
   },
   {
    "duration": 2,
    "start_time": "2024-02-27T14:36:47.198Z"
   },
   {
    "duration": 54,
    "start_time": "2024-02-27T14:36:47.566Z"
   },
   {
    "duration": 35963,
    "start_time": "2024-02-27T14:36:52.806Z"
   },
   {
    "duration": 10492,
    "start_time": "2024-02-27T14:37:28.771Z"
   },
   {
    "duration": 10557,
    "start_time": "2024-02-27T14:37:39.264Z"
   },
   {
    "duration": 1295,
    "start_time": "2024-02-27T14:37:49.823Z"
   },
   {
    "duration": 130,
    "start_time": "2024-02-27T14:37:51.119Z"
   },
   {
    "duration": 2,
    "start_time": "2024-02-27T14:38:07.650Z"
   },
   {
    "duration": 143,
    "start_time": "2024-02-27T14:38:07.657Z"
   },
   {
    "duration": 9,
    "start_time": "2024-02-27T14:38:07.801Z"
   },
   {
    "duration": 0,
    "start_time": "2024-02-27T14:38:07.811Z"
   },
   {
    "duration": 0,
    "start_time": "2024-02-27T14:38:07.813Z"
   },
   {
    "duration": 48,
    "start_time": "2024-02-27T15:03:01.640Z"
   },
   {
    "duration": 2828,
    "start_time": "2024-02-27T15:03:20.187Z"
   },
   {
    "duration": 2442,
    "start_time": "2024-02-27T15:03:23.018Z"
   },
   {
    "duration": 2878,
    "start_time": "2024-02-27T15:03:25.461Z"
   },
   {
    "duration": 1740,
    "start_time": "2024-02-27T15:03:28.342Z"
   },
   {
    "duration": 59,
    "start_time": "2024-02-27T15:03:30.084Z"
   },
   {
    "duration": 3013,
    "start_time": "2024-02-27T15:03:30.144Z"
   },
   {
    "duration": 151,
    "start_time": "2024-02-27T15:03:33.159Z"
   },
   {
    "duration": 138,
    "start_time": "2024-02-27T15:03:33.311Z"
   },
   {
    "duration": 5,
    "start_time": "2024-02-27T15:03:33.450Z"
   },
   {
    "duration": 77,
    "start_time": "2024-02-27T15:03:33.457Z"
   },
   {
    "duration": 41,
    "start_time": "2024-02-27T15:03:33.535Z"
   },
   {
    "duration": 10,
    "start_time": "2024-02-27T15:03:33.578Z"
   },
   {
    "duration": 35,
    "start_time": "2024-02-27T15:03:33.589Z"
   },
   {
    "duration": 4,
    "start_time": "2024-02-27T15:03:33.625Z"
   },
   {
    "duration": 10,
    "start_time": "2024-02-27T15:03:33.630Z"
   },
   {
    "duration": 7,
    "start_time": "2024-02-27T15:03:33.642Z"
   },
   {
    "duration": 114,
    "start_time": "2024-02-27T15:03:33.651Z"
   },
   {
    "duration": 58,
    "start_time": "2024-02-27T15:03:33.767Z"
   },
   {
    "duration": 157,
    "start_time": "2024-02-27T15:03:33.827Z"
   },
   {
    "duration": 11,
    "start_time": "2024-02-27T15:03:33.986Z"
   },
   {
    "duration": 2,
    "start_time": "2024-02-27T15:03:33.999Z"
   },
   {
    "duration": 4018,
    "start_time": "2024-02-27T15:03:34.002Z"
   },
   {
    "duration": 852,
    "start_time": "2024-02-27T15:03:38.021Z"
   },
   {
    "duration": 106,
    "start_time": "2024-02-27T15:03:38.875Z"
   },
   {
    "duration": 143,
    "start_time": "2024-02-27T15:03:38.988Z"
   },
   {
    "duration": 836,
    "start_time": "2024-02-27T15:03:39.132Z"
   },
   {
    "duration": 731,
    "start_time": "2024-02-27T15:03:39.970Z"
   },
   {
    "duration": 1733,
    "start_time": "2024-02-27T15:03:40.704Z"
   },
   {
    "duration": 9,
    "start_time": "2024-02-27T15:03:42.439Z"
   },
   {
    "duration": 44,
    "start_time": "2024-02-27T15:03:42.450Z"
   },
   {
    "duration": 26,
    "start_time": "2024-02-27T15:03:42.496Z"
   },
   {
    "duration": 331,
    "start_time": "2024-02-27T15:03:42.523Z"
   },
   {
    "duration": 6,
    "start_time": "2024-02-27T15:03:42.855Z"
   },
   {
    "duration": 42,
    "start_time": "2024-02-27T15:03:42.863Z"
   },
   {
    "duration": 5,
    "start_time": "2024-02-27T15:03:42.907Z"
   },
   {
    "duration": 5,
    "start_time": "2024-02-27T15:03:42.914Z"
   },
   {
    "duration": 26,
    "start_time": "2024-02-27T15:03:42.920Z"
   },
   {
    "duration": 4,
    "start_time": "2024-02-27T15:03:42.947Z"
   },
   {
    "duration": 36,
    "start_time": "2024-02-27T15:03:42.952Z"
   },
   {
    "duration": 6,
    "start_time": "2024-02-27T15:03:42.990Z"
   },
   {
    "duration": 116,
    "start_time": "2024-02-27T15:03:42.997Z"
   },
   {
    "duration": 17,
    "start_time": "2024-02-27T15:03:43.114Z"
   },
   {
    "duration": 11,
    "start_time": "2024-02-27T15:03:43.133Z"
   },
   {
    "duration": 45,
    "start_time": "2024-02-27T15:03:43.145Z"
   },
   {
    "duration": 3,
    "start_time": "2024-02-27T15:03:43.191Z"
   },
   {
    "duration": 15,
    "start_time": "2024-02-27T15:03:43.195Z"
   },
   {
    "duration": 260,
    "start_time": "2024-02-27T15:03:43.211Z"
   },
   {
    "duration": 166,
    "start_time": "2024-02-27T15:03:43.472Z"
   },
   {
    "duration": 160,
    "start_time": "2024-02-27T15:03:43.639Z"
   },
   {
    "duration": 148,
    "start_time": "2024-02-27T15:03:43.801Z"
   },
   {
    "duration": 4,
    "start_time": "2024-02-27T15:03:43.950Z"
   },
   {
    "duration": 8,
    "start_time": "2024-02-27T15:03:43.955Z"
   },
   {
    "duration": 29,
    "start_time": "2024-02-27T15:03:43.964Z"
   },
   {
    "duration": 16,
    "start_time": "2024-02-27T15:03:43.995Z"
   },
   {
    "duration": 260,
    "start_time": "2024-02-27T15:03:44.012Z"
   },
   {
    "duration": 264,
    "start_time": "2024-02-27T15:03:44.273Z"
   },
   {
    "duration": 99,
    "start_time": "2024-02-27T15:03:44.539Z"
   },
   {
    "duration": 5,
    "start_time": "2024-02-27T15:03:44.640Z"
   },
   {
    "duration": 3,
    "start_time": "2024-02-27T15:03:44.647Z"
   },
   {
    "duration": 61,
    "start_time": "2024-02-27T15:03:44.652Z"
   },
   {
    "duration": 38235,
    "start_time": "2024-02-27T15:03:44.715Z"
   },
   {
    "duration": 10840,
    "start_time": "2024-02-27T15:04:22.951Z"
   },
   {
    "duration": 9775,
    "start_time": "2024-02-27T15:04:33.792Z"
   },
   {
    "duration": 1245,
    "start_time": "2024-02-27T15:04:43.569Z"
   },
   {
    "duration": 126,
    "start_time": "2024-02-27T15:04:44.816Z"
   },
   {
    "duration": 4,
    "start_time": "2024-02-27T15:04:44.944Z"
   },
   {
    "duration": 440,
    "start_time": "2024-02-27T15:04:44.949Z"
   },
   {
    "duration": 204,
    "start_time": "2024-02-27T15:04:45.391Z"
   },
   {
    "duration": 4,
    "start_time": "2024-02-27T15:04:45.597Z"
   },
   {
    "duration": 13986,
    "start_time": "2024-02-27T15:04:45.603Z"
   },
   {
    "duration": 202,
    "start_time": "2024-02-27T15:04:59.591Z"
   },
   {
    "duration": 96,
    "start_time": "2024-02-27T15:04:59.795Z"
   },
   {
    "duration": 111,
    "start_time": "2024-02-27T15:04:59.893Z"
   },
   {
    "duration": 615225,
    "start_time": "2024-02-27T15:05:00.006Z"
   },
   {
    "duration": 3,
    "start_time": "2024-02-27T15:15:15.232Z"
   },
   {
    "duration": 40,
    "start_time": "2024-02-27T15:15:15.236Z"
   },
   {
    "duration": 26,
    "start_time": "2024-02-27T15:15:15.278Z"
   },
   {
    "duration": 106222,
    "start_time": "2024-02-27T15:15:15.306Z"
   },
   {
    "duration": 3107,
    "start_time": "2024-02-27T15:17:01.531Z"
   },
   {
    "duration": 5,
    "start_time": "2024-02-27T15:17:04.639Z"
   },
   {
    "duration": 13,
    "start_time": "2024-02-27T15:17:04.645Z"
   },
   {
    "duration": 14,
    "start_time": "2024-02-27T15:17:04.663Z"
   },
   {
    "duration": 14,
    "start_time": "2024-02-27T15:17:04.679Z"
   },
   {
    "duration": 12,
    "start_time": "2024-02-27T15:17:04.695Z"
   },
   {
    "duration": 4,
    "start_time": "2024-02-27T15:17:04.708Z"
   },
   {
    "duration": 3,
    "start_time": "2024-02-27T15:17:04.714Z"
   },
   {
    "duration": 7,
    "start_time": "2024-02-27T15:17:04.719Z"
   },
   {
    "duration": 11,
    "start_time": "2024-02-27T15:17:04.727Z"
   },
   {
    "duration": 14,
    "start_time": "2024-02-27T15:17:04.739Z"
   },
   {
    "duration": 37843,
    "start_time": "2024-02-27T15:17:04.754Z"
   },
   {
    "duration": 1300,
    "start_time": "2024-02-27T15:17:42.599Z"
   },
   {
    "duration": 4,
    "start_time": "2024-02-27T15:17:43.901Z"
   },
   {
    "duration": 5,
    "start_time": "2024-02-27T15:17:43.906Z"
   },
   {
    "duration": 5,
    "start_time": "2024-02-27T15:17:43.913Z"
   },
   {
    "duration": 2,
    "start_time": "2024-02-27T15:17:43.988Z"
   },
   {
    "duration": 7,
    "start_time": "2024-02-27T15:17:43.992Z"
   },
   {
    "duration": 344424,
    "start_time": "2024-02-27T15:17:44.000Z"
   },
   {
    "duration": 5,
    "start_time": "2024-02-27T15:23:28.426Z"
   },
   {
    "duration": 40523,
    "start_time": "2024-02-27T15:23:28.432Z"
   },
   {
    "duration": 169,
    "start_time": "2024-02-27T15:24:08.956Z"
   },
   {
    "duration": 4,
    "start_time": "2024-02-27T15:24:09.127Z"
   },
   {
    "duration": 9,
    "start_time": "2024-02-27T15:24:09.132Z"
   },
   {
    "duration": 7,
    "start_time": "2024-02-27T15:24:09.143Z"
   },
   {
    "duration": 3,
    "start_time": "2024-02-27T15:45:33.722Z"
   },
   {
    "duration": 259,
    "start_time": "2024-02-27T15:45:45.721Z"
   },
   {
    "duration": 74968,
    "start_time": "2024-02-27T15:46:11.497Z"
   },
   {
    "duration": 344,
    "start_time": "2024-02-27T15:52:11.674Z"
   },
   {
    "duration": 4,
    "start_time": "2024-02-27T15:59:23.112Z"
   },
   {
    "duration": 11,
    "start_time": "2024-02-27T15:59:26.061Z"
   },
   {
    "duration": 181,
    "start_time": "2024-02-27T15:59:27.112Z"
   }
  ],
  "kernelspec": {
   "display_name": "Python 3 (ipykernel)",
   "language": "python",
   "name": "python3"
  },
  "language_info": {
   "codemirror_mode": {
    "name": "ipython",
    "version": 3
   },
   "file_extension": ".py",
   "mimetype": "text/x-python",
   "name": "python",
   "nbconvert_exporter": "python",
   "pygments_lexer": "ipython3",
   "version": "3.11.7"
  },
  "toc": {
   "base_numbering": 1,
   "nav_menu": {},
   "number_sections": true,
   "sideBar": true,
   "skip_h1_title": true,
   "title_cell": "Table of Contents",
   "title_sidebar": "Contents",
   "toc_cell": false,
   "toc_position": {
    "height": "calc(100% - 180px)",
    "left": "10px",
    "top": "150px",
    "width": "165px"
   },
   "toc_section_display": true,
   "toc_window_display": true
  }
 },
 "nbformat": 4,
 "nbformat_minor": 4
}
