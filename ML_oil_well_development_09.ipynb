{
 "cells": [
  {
   "cell_type": "markdown",
   "metadata": {},
   "source": [
    "# Выбор локации для скважины"
   ]
  },
  {
   "cell_type": "markdown",
   "metadata": {},
   "source": [
    "Допустим, вы работаете в добывающей компании «ГлавРосГосНефть». Нужно решить, где бурить новую скважину.\n",
    "\n",
    "Вам предоставлены пробы нефти в трёх регионах: в каждом 10 000 месторождений, где измерили качество нефти и объём её запасов. Постройте модель машинного обучения, которая поможет определить регион, где добыча принесёт наибольшую прибыль. Проанализируйте возможную прибыль и риски техникой *Bootstrap.*\n",
    "\n",
    "Шаги для выбора локации:\n",
    "\n",
    "- В избранном регионе ищут месторождения, для каждого определяют значения признаков;\n",
    "- Строят модель и оценивают объём запасов;\n",
    "- Выбирают месторождения с самым высокими оценками значений. Количество месторождений зависит от бюджета компании и стоимости разработки одной скважины;\n",
    "- Прибыль равна суммарной прибыли отобранных месторождений."
   ]
  },
  {
   "cell_type": "markdown",
   "metadata": {},
   "source": [
    "# Описание данных"
   ]
  },
  {
   "cell_type": "markdown",
   "metadata": {},
   "source": [
    "\n",
    "Данные геологоразведки трёх регионов находятся в файлах: \n",
    "- /datasets/geo_data_0.csv \n",
    "- /datasets/geo_data_1.csv \n",
    "- /datasets/geo_data_2.csv\n",
    "\n",
    "\n",
    "- `id` — уникальный идентификатор скважины;\n",
    "\n",
    "\n",
    "- `f0, f1, f2` — три признака точек (неважно, что они означают, но сами признаки значимы);\n",
    "\n",
    "\n",
    "- `product` — объём запасов в скважине (тыс. баррелей).\n",
    "\n",
    "**Условия задачи:**\n",
    "- Для обучения модели подходит только линейная регрессия (остальные — недостаточно предсказуемые).\n",
    "- При разведке региона исследуют 500 точек, из которых с помощью машинного обучения выбирают 200 лучших для разработки.\n",
    "- Бюджет на разработку скважин в регионе — 10 млрд рублей.\n",
    "- При нынешних ценах один баррель сырья приносит 450 рублей дохода. Доход с каждой единицы продукта составляет 450 тыс. рублей, поскольку объём указан в тысячах баррелей.\n",
    "\n",
    "После оценки рисков нужно оставить лишь те регионы, в которых вероятность убытков меньше 2.5%. Среди них выбирают регион с наибольшей средней прибылью.\n",
    "\n",
    "\n",
    "Данные синтетические: детали контрактов и характеристики месторождений не разглашаются."
   ]
  },
  {
   "cell_type": "markdown",
   "metadata": {},
   "source": [
    "## Загрузка и подготовка данных"
   ]
  },
  {
   "cell_type": "markdown",
   "metadata": {},
   "source": [
    "Первым шагом - добавим всек необходимые импорты"
   ]
  },
  {
   "cell_type": "code",
   "execution_count": 1,
   "metadata": {},
   "outputs": [],
   "source": [
    "import pandas as pd\n",
    "\n",
    "import seaborn as sns\n",
    "import matplotlib.pyplot as plt\n",
    "import math\n",
    "from sklearn.preprocessing import StandardScaler\n",
    "from sklearn.model_selection import train_test_split\n",
    "from sklearn.linear_model import LinearRegression\n",
    "from sklearn.metrics import mean_squared_error\n",
    "from sklearn.utils import shuffle\n",
    "\n",
    "from numpy.random import RandomState\n",
    "import numpy as np"
   ]
  },
  {
   "cell_type": "markdown",
   "metadata": {},
   "source": [
    "Загрузим все датасеты"
   ]
  },
  {
   "cell_type": "code",
   "execution_count": 2,
   "metadata": {},
   "outputs": [],
   "source": [
    "data_1 = pd.read_csv('/datasets/geo_data_0.csv')\n",
    "data_2 = pd.read_csv('/datasets/geo_data_1.csv')\n",
    "data_3 = pd.read_csv('/datasets/geo_data_2.csv')"
   ]
  },
  {
   "cell_type": "markdown",
   "metadata": {},
   "source": [
    "**data_1**"
   ]
  },
  {
   "cell_type": "code",
   "execution_count": 3,
   "metadata": {},
   "outputs": [
    {
     "data": {
      "text/html": [
       "<div>\n",
       "<style scoped>\n",
       "    .dataframe tbody tr th:only-of-type {\n",
       "        vertical-align: middle;\n",
       "    }\n",
       "\n",
       "    .dataframe tbody tr th {\n",
       "        vertical-align: top;\n",
       "    }\n",
       "\n",
       "    .dataframe thead th {\n",
       "        text-align: right;\n",
       "    }\n",
       "</style>\n",
       "<table border=\"1\" class=\"dataframe\">\n",
       "  <thead>\n",
       "    <tr style=\"text-align: right;\">\n",
       "      <th></th>\n",
       "      <th>id</th>\n",
       "      <th>f0</th>\n",
       "      <th>f1</th>\n",
       "      <th>f2</th>\n",
       "      <th>product</th>\n",
       "    </tr>\n",
       "  </thead>\n",
       "  <tbody>\n",
       "    <tr>\n",
       "      <th>0</th>\n",
       "      <td>txEyH</td>\n",
       "      <td>0.705745</td>\n",
       "      <td>-0.497823</td>\n",
       "      <td>1.221170</td>\n",
       "      <td>105.280062</td>\n",
       "    </tr>\n",
       "    <tr>\n",
       "      <th>1</th>\n",
       "      <td>2acmU</td>\n",
       "      <td>1.334711</td>\n",
       "      <td>-0.340164</td>\n",
       "      <td>4.365080</td>\n",
       "      <td>73.037750</td>\n",
       "    </tr>\n",
       "    <tr>\n",
       "      <th>2</th>\n",
       "      <td>409Wp</td>\n",
       "      <td>1.022732</td>\n",
       "      <td>0.151990</td>\n",
       "      <td>1.419926</td>\n",
       "      <td>85.265647</td>\n",
       "    </tr>\n",
       "    <tr>\n",
       "      <th>3</th>\n",
       "      <td>iJLyR</td>\n",
       "      <td>-0.032172</td>\n",
       "      <td>0.139033</td>\n",
       "      <td>2.978566</td>\n",
       "      <td>168.620776</td>\n",
       "    </tr>\n",
       "    <tr>\n",
       "      <th>4</th>\n",
       "      <td>Xdl7t</td>\n",
       "      <td>1.988431</td>\n",
       "      <td>0.155413</td>\n",
       "      <td>4.751769</td>\n",
       "      <td>154.036647</td>\n",
       "    </tr>\n",
       "  </tbody>\n",
       "</table>\n",
       "</div>"
      ],
      "text/plain": [
       "      id        f0        f1        f2     product\n",
       "0  txEyH  0.705745 -0.497823  1.221170  105.280062\n",
       "1  2acmU  1.334711 -0.340164  4.365080   73.037750\n",
       "2  409Wp  1.022732  0.151990  1.419926   85.265647\n",
       "3  iJLyR -0.032172  0.139033  2.978566  168.620776\n",
       "4  Xdl7t  1.988431  0.155413  4.751769  154.036647"
      ]
     },
     "execution_count": 3,
     "metadata": {},
     "output_type": "execute_result"
    }
   ],
   "source": [
    "data_1.head()"
   ]
  },
  {
   "cell_type": "code",
   "execution_count": 4,
   "metadata": {},
   "outputs": [
    {
     "data": {
      "text/plain": [
       "(100000, 5)"
      ]
     },
     "execution_count": 4,
     "metadata": {},
     "output_type": "execute_result"
    }
   ],
   "source": [
    "data_1.shape"
   ]
  },
  {
   "cell_type": "markdown",
   "metadata": {},
   "source": [
    "**data_2**"
   ]
  },
  {
   "cell_type": "code",
   "execution_count": 5,
   "metadata": {},
   "outputs": [
    {
     "data": {
      "text/html": [
       "<div>\n",
       "<style scoped>\n",
       "    .dataframe tbody tr th:only-of-type {\n",
       "        vertical-align: middle;\n",
       "    }\n",
       "\n",
       "    .dataframe tbody tr th {\n",
       "        vertical-align: top;\n",
       "    }\n",
       "\n",
       "    .dataframe thead th {\n",
       "        text-align: right;\n",
       "    }\n",
       "</style>\n",
       "<table border=\"1\" class=\"dataframe\">\n",
       "  <thead>\n",
       "    <tr style=\"text-align: right;\">\n",
       "      <th></th>\n",
       "      <th>id</th>\n",
       "      <th>f0</th>\n",
       "      <th>f1</th>\n",
       "      <th>f2</th>\n",
       "      <th>product</th>\n",
       "    </tr>\n",
       "  </thead>\n",
       "  <tbody>\n",
       "    <tr>\n",
       "      <th>0</th>\n",
       "      <td>kBEdx</td>\n",
       "      <td>-15.001348</td>\n",
       "      <td>-8.276000</td>\n",
       "      <td>-0.005876</td>\n",
       "      <td>3.179103</td>\n",
       "    </tr>\n",
       "    <tr>\n",
       "      <th>1</th>\n",
       "      <td>62mP7</td>\n",
       "      <td>14.272088</td>\n",
       "      <td>-3.475083</td>\n",
       "      <td>0.999183</td>\n",
       "      <td>26.953261</td>\n",
       "    </tr>\n",
       "    <tr>\n",
       "      <th>2</th>\n",
       "      <td>vyE1P</td>\n",
       "      <td>6.263187</td>\n",
       "      <td>-5.948386</td>\n",
       "      <td>5.001160</td>\n",
       "      <td>134.766305</td>\n",
       "    </tr>\n",
       "    <tr>\n",
       "      <th>3</th>\n",
       "      <td>KcrkZ</td>\n",
       "      <td>-13.081196</td>\n",
       "      <td>-11.506057</td>\n",
       "      <td>4.999415</td>\n",
       "      <td>137.945408</td>\n",
       "    </tr>\n",
       "    <tr>\n",
       "      <th>4</th>\n",
       "      <td>AHL4O</td>\n",
       "      <td>12.702195</td>\n",
       "      <td>-8.147433</td>\n",
       "      <td>5.004363</td>\n",
       "      <td>134.766305</td>\n",
       "    </tr>\n",
       "  </tbody>\n",
       "</table>\n",
       "</div>"
      ],
      "text/plain": [
       "      id         f0         f1        f2     product\n",
       "0  kBEdx -15.001348  -8.276000 -0.005876    3.179103\n",
       "1  62mP7  14.272088  -3.475083  0.999183   26.953261\n",
       "2  vyE1P   6.263187  -5.948386  5.001160  134.766305\n",
       "3  KcrkZ -13.081196 -11.506057  4.999415  137.945408\n",
       "4  AHL4O  12.702195  -8.147433  5.004363  134.766305"
      ]
     },
     "execution_count": 5,
     "metadata": {},
     "output_type": "execute_result"
    }
   ],
   "source": [
    "data_2.head()"
   ]
  },
  {
   "cell_type": "code",
   "execution_count": 6,
   "metadata": {},
   "outputs": [
    {
     "data": {
      "text/plain": [
       "(100000, 5)"
      ]
     },
     "execution_count": 6,
     "metadata": {},
     "output_type": "execute_result"
    }
   ],
   "source": [
    "data_2.shape"
   ]
  },
  {
   "cell_type": "markdown",
   "metadata": {},
   "source": [
    "**data_3**"
   ]
  },
  {
   "cell_type": "code",
   "execution_count": 7,
   "metadata": {},
   "outputs": [
    {
     "data": {
      "text/html": [
       "<div>\n",
       "<style scoped>\n",
       "    .dataframe tbody tr th:only-of-type {\n",
       "        vertical-align: middle;\n",
       "    }\n",
       "\n",
       "    .dataframe tbody tr th {\n",
       "        vertical-align: top;\n",
       "    }\n",
       "\n",
       "    .dataframe thead th {\n",
       "        text-align: right;\n",
       "    }\n",
       "</style>\n",
       "<table border=\"1\" class=\"dataframe\">\n",
       "  <thead>\n",
       "    <tr style=\"text-align: right;\">\n",
       "      <th></th>\n",
       "      <th>id</th>\n",
       "      <th>f0</th>\n",
       "      <th>f1</th>\n",
       "      <th>f2</th>\n",
       "      <th>product</th>\n",
       "    </tr>\n",
       "  </thead>\n",
       "  <tbody>\n",
       "    <tr>\n",
       "      <th>0</th>\n",
       "      <td>fwXo0</td>\n",
       "      <td>-1.146987</td>\n",
       "      <td>0.963328</td>\n",
       "      <td>-0.828965</td>\n",
       "      <td>27.758673</td>\n",
       "    </tr>\n",
       "    <tr>\n",
       "      <th>1</th>\n",
       "      <td>WJtFt</td>\n",
       "      <td>0.262778</td>\n",
       "      <td>0.269839</td>\n",
       "      <td>-2.530187</td>\n",
       "      <td>56.069697</td>\n",
       "    </tr>\n",
       "    <tr>\n",
       "      <th>2</th>\n",
       "      <td>ovLUW</td>\n",
       "      <td>0.194587</td>\n",
       "      <td>0.289035</td>\n",
       "      <td>-5.586433</td>\n",
       "      <td>62.871910</td>\n",
       "    </tr>\n",
       "    <tr>\n",
       "      <th>3</th>\n",
       "      <td>q6cA6</td>\n",
       "      <td>2.236060</td>\n",
       "      <td>-0.553760</td>\n",
       "      <td>0.930038</td>\n",
       "      <td>114.572842</td>\n",
       "    </tr>\n",
       "    <tr>\n",
       "      <th>4</th>\n",
       "      <td>WPMUX</td>\n",
       "      <td>-0.515993</td>\n",
       "      <td>1.716266</td>\n",
       "      <td>5.899011</td>\n",
       "      <td>149.600746</td>\n",
       "    </tr>\n",
       "  </tbody>\n",
       "</table>\n",
       "</div>"
      ],
      "text/plain": [
       "      id        f0        f1        f2     product\n",
       "0  fwXo0 -1.146987  0.963328 -0.828965   27.758673\n",
       "1  WJtFt  0.262778  0.269839 -2.530187   56.069697\n",
       "2  ovLUW  0.194587  0.289035 -5.586433   62.871910\n",
       "3  q6cA6  2.236060 -0.553760  0.930038  114.572842\n",
       "4  WPMUX -0.515993  1.716266  5.899011  149.600746"
      ]
     },
     "execution_count": 7,
     "metadata": {},
     "output_type": "execute_result"
    }
   ],
   "source": [
    "data_3.head()"
   ]
  },
  {
   "cell_type": "code",
   "execution_count": 8,
   "metadata": {},
   "outputs": [
    {
     "data": {
      "text/plain": [
       "(100000, 5)"
      ]
     },
     "execution_count": 8,
     "metadata": {},
     "output_type": "execute_result"
    }
   ],
   "source": [
    "data_3.shape"
   ]
  },
  {
   "cell_type": "markdown",
   "metadata": {},
   "source": [
    "## Предобработка данных"
   ]
  },
  {
   "cell_type": "markdown",
   "metadata": {},
   "source": [
    "Выведем общую информацию о датасетах"
   ]
  },
  {
   "cell_type": "code",
   "execution_count": 9,
   "metadata": {},
   "outputs": [
    {
     "name": "stdout",
     "output_type": "stream",
     "text": [
      "<class 'pandas.core.frame.DataFrame'>\n",
      "RangeIndex: 100000 entries, 0 to 99999\n",
      "Data columns (total 5 columns):\n",
      " #   Column   Non-Null Count   Dtype  \n",
      "---  ------   --------------   -----  \n",
      " 0   id       100000 non-null  object \n",
      " 1   f0       100000 non-null  float64\n",
      " 2   f1       100000 non-null  float64\n",
      " 3   f2       100000 non-null  float64\n",
      " 4   product  100000 non-null  float64\n",
      "dtypes: float64(4), object(1)\n",
      "memory usage: 3.8+ MB\n",
      "None\n",
      "<class 'pandas.core.frame.DataFrame'>\n",
      "RangeIndex: 100000 entries, 0 to 99999\n",
      "Data columns (total 5 columns):\n",
      " #   Column   Non-Null Count   Dtype  \n",
      "---  ------   --------------   -----  \n",
      " 0   id       100000 non-null  object \n",
      " 1   f0       100000 non-null  float64\n",
      " 2   f1       100000 non-null  float64\n",
      " 3   f2       100000 non-null  float64\n",
      " 4   product  100000 non-null  float64\n",
      "dtypes: float64(4), object(1)\n",
      "memory usage: 3.8+ MB\n",
      "None\n",
      "<class 'pandas.core.frame.DataFrame'>\n",
      "RangeIndex: 100000 entries, 0 to 99999\n",
      "Data columns (total 5 columns):\n",
      " #   Column   Non-Null Count   Dtype  \n",
      "---  ------   --------------   -----  \n",
      " 0   id       100000 non-null  object \n",
      " 1   f0       100000 non-null  float64\n",
      " 2   f1       100000 non-null  float64\n",
      " 3   f2       100000 non-null  float64\n",
      " 4   product  100000 non-null  float64\n",
      "dtypes: float64(4), object(1)\n",
      "memory usage: 3.8+ MB\n",
      "None\n"
     ]
    }
   ],
   "source": [
    "print(data_1.info())\n",
    "print(data_2.info())\n",
    "print(data_3.info())"
   ]
  },
  {
   "cell_type": "markdown",
   "metadata": {},
   "source": [
    "Супер, в датасетах нет пропусков. Теперь проверим типы данных и дубликаты, и если их нет - будем работать дальше"
   ]
  },
  {
   "cell_type": "code",
   "execution_count": 10,
   "metadata": {},
   "outputs": [
    {
     "name": "stdout",
     "output_type": "stream",
     "text": [
      "0\n",
      "0\n",
      "0\n"
     ]
    }
   ],
   "source": [
    "print(data_1.duplicated().sum())\n",
    "print(data_2.duplicated().sum())\n",
    "print(data_3.duplicated().sum())"
   ]
  },
  {
   "cell_type": "markdown",
   "metadata": {},
   "source": [
    "Дубликатов нет"
   ]
  },
  {
   "cell_type": "code",
   "execution_count": 11,
   "metadata": {},
   "outputs": [
    {
     "name": "stdout",
     "output_type": "stream",
     "text": [
      "id          object\n",
      "f0         float64\n",
      "f1         float64\n",
      "f2         float64\n",
      "product    float64\n",
      "dtype: object\n",
      "id          object\n",
      "f0         float64\n",
      "f1         float64\n",
      "f2         float64\n",
      "product    float64\n",
      "dtype: object\n",
      "id          object\n",
      "f0         float64\n",
      "f1         float64\n",
      "f2         float64\n",
      "product    float64\n",
      "dtype: object\n"
     ]
    }
   ],
   "source": [
    "print(data_1.dtypes)\n",
    "print(data_2.dtypes)\n",
    "print(data_3.dtypes)"
   ]
  },
  {
   "cell_type": "markdown",
   "metadata": {},
   "source": [
    "Отлично, с данными все хорошо, можно идти дальше"
   ]
  },
  {
   "cell_type": "markdown",
   "metadata": {},
   "source": [
    "Также, при обучении нам не пригодится колонка id, поэтому удалим эти признаки из всех `df`"
   ]
  },
  {
   "cell_type": "code",
   "execution_count": 12,
   "metadata": {},
   "outputs": [],
   "source": [
    "data_1 = data_1.drop('id', axis = 1)\n",
    "data_2 = data_2.drop('id', axis = 1)\n",
    "data_3 = data_3.drop('id', axis = 1)"
   ]
  },
  {
   "cell_type": "markdown",
   "metadata": {},
   "source": [
    "**Вывод по предобработке данных**\n",
    "\n",
    "- В данных нет дубликатов\n",
    "\n",
    "- Пропуски отсутствуют\n",
    "\n",
    "- С типами данных все в порядке"
   ]
  },
  {
   "cell_type": "markdown",
   "metadata": {},
   "source": [
    "## Обучение и проверка модели"
   ]
  },
  {
   "cell_type": "markdown",
   "metadata": {},
   "source": [
    "Теперь для каждого датасета выведем матрицу корреляции с помощью библиотеки `seaborn`"
   ]
  },
  {
   "cell_type": "code",
   "execution_count": 13,
   "metadata": {},
   "outputs": [],
   "source": [
    "# Функция для построение heatmap по data\n",
    "\n",
    "def matrix_corr(data):\n",
    "    cor = data.corr()\n",
    "    plt.figure(figsize = (8,8))\n",
    "    sns.heatmap(cor, cmap = 'Blues', annot = True )\n",
    "    plt.show()"
   ]
  },
  {
   "cell_type": "markdown",
   "metadata": {},
   "source": [
    "**data_1 `heatmap`**"
   ]
  },
  {
   "cell_type": "code",
   "execution_count": 14,
   "metadata": {},
   "outputs": [
    {
     "data": {
      "image/png": "[encoded data removed]",
      "text/plain": [
       "<Figure size 576x576 with 2 Axes>"
      ]
     },
     "metadata": {
      "needs_background": "light"
     },
     "output_type": "display_data"
    }
   ],
   "source": [
    "matrix_corr(data_1)"
   ]
  },
  {
   "cell_type": "markdown",
   "metadata": {},
   "source": [
    "По матрице видно, что самая большая зависимость между признаками `product` и `f2`"
   ]
  },
  {
   "cell_type": "markdown",
   "metadata": {},
   "source": [
    "**data_2 `heatmap`**"
   ]
  },
  {
   "cell_type": "code",
   "execution_count": 15,
   "metadata": {},
   "outputs": [
    {
     "data": {
      "image/png": "[encoded data removed]",
      "text/plain": [
       "<Figure size 576x576 with 2 Axes>"
      ]
     },
     "metadata": {
      "needs_background": "light"
     },
     "output_type": "display_data"
    }
   ],
   "source": [
    "matrix_corr(data_2)"
   ]
  },
  {
   "cell_type": "markdown",
   "metadata": {},
   "source": [
    "Для второго датасета у `f2` и `product` вообще зависимость максимальная"
   ]
  },
  {
   "cell_type": "markdown",
   "metadata": {},
   "source": [
    "**data_3 `heatmap`**"
   ]
  },
  {
   "cell_type": "code",
   "execution_count": 16,
   "metadata": {},
   "outputs": [
    {
     "data": {
      "image/png": "[encoded data removed]",
      "text/plain": [
       "<Figure size 576x576 with 2 Axes>"
      ]
     },
     "metadata": {
      "needs_background": "light"
     },
     "output_type": "display_data"
    }
   ],
   "source": [
    "matrix_corr(data_3)"
   ]
  },
  {
   "cell_type": "markdown",
   "metadata": {},
   "source": [
    "Для 3 региона тоже сильная зависимость между `f2` и `product`"
   ]
  },
  {
   "cell_type": "markdown",
   "metadata": {},
   "source": [
    "Построим `scater_matrix` для каждого признака, чтобы точнее посмотреть на распределение"
   ]
  },
  {
   "cell_type": "markdown",
   "metadata": {},
   "source": [
    "**data_1 `scatter_matrix`**"
   ]
  },
  {
   "cell_type": "code",
   "execution_count": 17,
   "metadata": {},
   "outputs": [
    {
     "data": {
      "image/png": "[encoded data removed]",
      "text/plain": [
       "<Figure size 720x720 with 16 Axes>"
      ]
     },
     "metadata": {
      "needs_background": "light"
     },
     "output_type": "display_data"
    }
   ],
   "source": [
    "pd.plotting.scatter_matrix(data_1, alpha = 0.3, grid = True, figsize = (10, 10))\n",
    "\n",
    "plt.show()"
   ]
  },
  {
   "cell_type": "markdown",
   "metadata": {},
   "source": [
    "**data_2 `scatter_matrix`**"
   ]
  },
  {
   "cell_type": "code",
   "execution_count": 18,
   "metadata": {},
   "outputs": [
    {
     "data": {
      "image/png": "[encoded data removed]",
      "text/plain": [
       "<Figure size 720x720 with 16 Axes>"
      ]
     },
     "metadata": {
      "needs_background": "light"
     },
     "output_type": "display_data"
    }
   ],
   "source": [
    "pd.plotting.scatter_matrix(data_2, alpha = 0.3, grid = True, figsize = (10, 10))\n",
    "\n",
    "plt.show()"
   ]
  },
  {
   "cell_type": "markdown",
   "metadata": {},
   "source": [
    "**data_3 `scatter_matrix`**"
   ]
  },
  {
   "cell_type": "code",
   "execution_count": 19,
   "metadata": {},
   "outputs": [
    {
     "data": {
      "image/png": "[encoded data removed]",
      "text/plain": [
       "<Figure size 720x720 with 16 Axes>"
      ]
     },
     "metadata": {
      "needs_background": "light"
     },
     "output_type": "display_data"
    }
   ],
   "source": [
    "pd.plotting.scatter_matrix(data_3, alpha = 0.3, grid = True, figsize = (10, 10))\n",
    "\n",
    "plt.show()"
   ]
  },
  {
   "cell_type": "markdown",
   "metadata": {},
   "source": [
    "- В основном у нас есть линейная зависимость между `f2` и `product`, поэтому этот признак лучше всего поможет при обучении модели линейной регрессии "
   ]
  },
  {
   "cell_type": "markdown",
   "metadata": {},
   "source": [
    "**Обучение модели линейной регрессии**"
   ]
  },
  {
   "cell_type": "markdown",
   "metadata": {},
   "source": [
    "- Прежде всего, нужно разбить данные на обучающую и валидационную выборки в соотношении 75:25."
   ]
  },
  {
   "cell_type": "markdown",
   "metadata": {},
   "source": [
    "**Деление выборки для первого региона `data_1`**"
   ]
  },
  {
   "cell_type": "code",
   "execution_count": 20,
   "metadata": {},
   "outputs": [],
   "source": [
    "random_state = RandomState(1427)"
   ]
  },
  {
   "cell_type": "code",
   "execution_count": 21,
   "metadata": {},
   "outputs": [],
   "source": [
    "features_1 = data_1.drop('product', axis = 1)\n",
    "target_1 = data_1['product']"
   ]
  },
  {
   "cell_type": "code",
   "execution_count": 22,
   "metadata": {},
   "outputs": [],
   "source": [
    "features_train_1, features_valid_1, target_train_1, target_valid_1 = train_test_split(features_1, \n",
    "                                                                                      target_1, \n",
    "                                                                                      test_size = 0.25,\n",
    "                                                                                      random_state = random_state)\n"
   ]
  },
  {
   "cell_type": "markdown",
   "metadata": {},
   "source": [
    "- Т.к. нам необходимо воспользовать линейной регрессией, то нужно масштабировать количественные признаки из выборок"
   ]
  },
  {
   "cell_type": "code",
   "execution_count": 23,
   "metadata": {},
   "outputs": [
    {
     "data": {
      "text/plain": [
       "StandardScaler()"
      ]
     },
     "execution_count": 23,
     "metadata": {},
     "output_type": "execute_result"
    }
   ],
   "source": [
    "num_cols = ['f0', 'f1', 'f2']\n",
    "\n",
    "scaler = StandardScaler()\n",
    "scaler.fit(features_train_1[num_cols])"
   ]
  },
  {
   "cell_type": "code",
   "execution_count": 24,
   "metadata": {},
   "outputs": [],
   "source": [
    "features_train_1_scaled = scaler.transform(features_train_1[num_cols])\n",
    "features_valid_1_scaled = scaler.transform(features_valid_1[num_cols])"
   ]
  },
  {
   "cell_type": "code",
   "execution_count": 25,
   "metadata": {},
   "outputs": [
    {
     "data": {
      "text/plain": [
       "array([[-0.47759586,  1.20144135, -0.82681744],\n",
       "       [ 0.52373127, -0.51534929,  0.46339293],\n",
       "       [-0.8582829 ,  1.51098308,  0.66651639],\n",
       "       ...,\n",
       "       [-0.51447108, -0.58258791, -0.7609333 ],\n",
       "       [-0.29305937,  1.61320978, -0.58049963],\n",
       "       [-1.13784982,  1.57760464,  1.94101576]])"
      ]
     },
     "execution_count": 25,
     "metadata": {},
     "output_type": "execute_result"
    }
   ],
   "source": [
    "features_valid_1_scaled"
   ]
  },
  {
   "cell_type": "markdown",
   "metadata": {},
   "source": [
    "- Отлично, теперь сделаем тоже самое для других регионов"
   ]
  },
  {
   "cell_type": "markdown",
   "metadata": {},
   "source": [
    "**Деление выборки для первого региона `data_2`**"
   ]
  },
  {
   "cell_type": "code",
   "execution_count": 26,
   "metadata": {},
   "outputs": [],
   "source": [
    "features_2 = data_2.drop('product', axis = 1)\n",
    "target_2 = data_2['product']\n",
    "\n",
    "features_train_2, features_valid_2, target_train_2, target_valid_2 = train_test_split(features_2, \n",
    "                                                                                      target_2, \n",
    "                                                                                      test_size = 0.25,\n",
    "                                                                                      random_state = random_state)\n",
    "\n",
    "scaler = StandardScaler()\n",
    "scaler.fit(features_train_2[num_cols])\n",
    "\n",
    "features_train_2_scaled = scaler.transform(features_train_2[num_cols])\n",
    "features_valid_2_scaled = scaler.transform(features_valid_2[num_cols])"
   ]
  },
  {
   "cell_type": "markdown",
   "metadata": {},
   "source": [
    "**Деление выборки для первого региона `data_3`**"
   ]
  },
  {
   "cell_type": "code",
   "execution_count": 27,
   "metadata": {},
   "outputs": [],
   "source": [
    "features_3 = data_3.drop('product', axis = 1)\n",
    "target_3 = data_3['product']\n",
    "\n",
    "features_train_3, features_valid_3, target_train_3, target_valid_3 = train_test_split(features_3, \n",
    "                                                                                      target_3, \n",
    "                                                                                      test_size = 0.25,\n",
    "                                                                                      random_state = random_state)\n",
    "\n",
    "scaler = StandardScaler()\n",
    "scaler.fit(features_train_3[num_cols])\n",
    "\n",
    "features_train_3_scaled = scaler.transform(features_train_3[num_cols])\n",
    "features_valid_3_scaled = scaler.transform(features_valid_3[num_cols])"
   ]
  },
  {
   "cell_type": "markdown",
   "metadata": {},
   "source": [
    "Отлично, данные разделены и масштабированы"
   ]
  },
  {
   "cell_type": "markdown",
   "metadata": {},
   "source": [
    "- **Обучение и проверка данных метрикой `RMSE` на валидационной выборке для региона 1**"
   ]
  },
  {
   "cell_type": "markdown",
   "metadata": {},
   "source": [
    "Используем модель `LinearRegression`"
   ]
  },
  {
   "cell_type": "code",
   "execution_count": 28,
   "metadata": {},
   "outputs": [
    {
     "data": {
      "text/plain": [
       "0.2727249040390751"
      ]
     },
     "execution_count": 28,
     "metadata": {},
     "output_type": "execute_result"
    }
   ],
   "source": [
    "model_1 = LinearRegression()\n",
    "model_1.fit(features_train_1_scaled, target_train_1)\n",
    "\n",
    "\n",
    "model_1.score(features_valid_1_scaled, target_valid_1)"
   ]
  },
  {
   "cell_type": "markdown",
   "metadata": {},
   "source": [
    "Какой-то слишком маленький получился коэффициент детерминации, посмотрим что покажет метрика `RMSE`"
   ]
  },
  {
   "cell_type": "code",
   "execution_count": 29,
   "metadata": {},
   "outputs": [
    {
     "name": "stdout",
     "output_type": "stream",
     "text": [
      "RMSE для первой модели = 37 %\n"
     ]
    }
   ],
   "source": [
    "predictions_1 = model_1.predict(features_valid_1_scaled)\n",
    "\n",
    "rmse_1 = mean_squared_error(predictions_1, target_valid_1) ** 0.5\n",
    "print(f'RMSE для первой модели = {int(rmse_1)} %')"
   ]
  },
  {
   "cell_type": "markdown",
   "metadata": {},
   "source": [
    "**Теперь посмотрим, что покажут другие модели на остальных регионах**"
   ]
  },
  {
   "cell_type": "markdown",
   "metadata": {},
   "source": [
    "- **Обучение и проверка данных метрикой `RMSE` на валидационной выборке для региона 2**"
   ]
  },
  {
   "cell_type": "code",
   "execution_count": 30,
   "metadata": {},
   "outputs": [
    {
     "data": {
      "text/plain": [
       "0.9996183743469459"
      ]
     },
     "execution_count": 30,
     "metadata": {},
     "output_type": "execute_result"
    }
   ],
   "source": [
    "model_2 = LinearRegression()\n",
    "model_2.fit(features_train_2_scaled, target_train_2)\n",
    "\n",
    "model_2.score(features_valid_2_scaled, target_valid_2)"
   ]
  },
  {
   "cell_type": "markdown",
   "metadata": {},
   "source": [
    "Ого, а здесь хорошее значение, посмотрим, что покажет `RMSE`"
   ]
  },
  {
   "cell_type": "code",
   "execution_count": 31,
   "metadata": {},
   "outputs": [
    {
     "name": "stdout",
     "output_type": "stream",
     "text": [
      "RMSE для второй модели = 0 %\n",
      "RMSE для второй модели = 0.8951574563108833 %\n"
     ]
    }
   ],
   "source": [
    "predictions_2 = model_2.predict(features_valid_2_scaled)\n",
    "\n",
    "rmse_2 = mean_squared_error(predictions_2, target_valid_2) ** 0.5\n",
    "print(f'RMSE для второй модели = {int(rmse_2)} %')\n",
    "print(f'RMSE для второй модели = {rmse_2} %')"
   ]
  },
  {
   "cell_type": "markdown",
   "metadata": {},
   "source": [
    "С этим регионом совсем маленькое значение метрики. Если посмотреть на `heatmap`, который был построен выше, то видно, что именно у второго региона корреляция между `f2` и `product` = 1, поэтому модель и не может найти зависимость между другими признаки и нормально предсказать новые значения. "
   ]
  },
  {
   "cell_type": "markdown",
   "metadata": {},
   "source": [
    "- **Обучение и проверка данных метрикой `RMSE` на валидационной выборке для региона 3**"
   ]
  },
  {
   "cell_type": "code",
   "execution_count": 32,
   "metadata": {},
   "outputs": [
    {
     "data": {
      "text/plain": [
       "0.1970659218720533"
      ]
     },
     "execution_count": 32,
     "metadata": {},
     "output_type": "execute_result"
    }
   ],
   "source": [
    "model_3 = LinearRegression()\n",
    "model_3.fit(features_train_3_scaled, target_train_3)\n",
    "\n",
    "model_3.score(features_valid_3_scaled, target_valid_3)"
   ]
  },
  {
   "cell_type": "markdown",
   "metadata": {},
   "source": [
    "Средненький коэффициент детерминации"
   ]
  },
  {
   "cell_type": "code",
   "execution_count": 33,
   "metadata": {},
   "outputs": [
    {
     "name": "stdout",
     "output_type": "stream",
     "text": [
      "RMSE для третьей модели = 40 %\n"
     ]
    }
   ],
   "source": [
    "predictions_3 = model_3.predict(features_valid_3_scaled)\n",
    "\n",
    "rmse_3 = mean_squared_error(predictions_3, target_valid_3) ** 0.5\n",
    "\n",
    "print(f'RMSE для третьей модели = {int(rmse_3)} %')"
   ]
  },
  {
   "cell_type": "markdown",
   "metadata": {},
   "source": [
    "Тут тоже получили маленькое значение метрики `RMSE`"
   ]
  },
  {
   "cell_type": "markdown",
   "metadata": {},
   "source": [
    "- По итогу можно сказать, что самая точная модель получилась для первого региона"
   ]
  },
  {
   "cell_type": "markdown",
   "metadata": {},
   "source": [
    "**Средний запас сырья**"
   ]
  },
  {
   "cell_type": "code",
   "execution_count": 34,
   "metadata": {},
   "outputs": [
    {
     "name": "stdout",
     "output_type": "stream",
     "text": [
      "Средний запас сырья для 1-го региона = 92 бар.\n",
      "Средний запас сырья для 2-го региона = 68 бар.\n",
      "Средний запас сырья для 3-го региона = 95 бар.\n"
     ]
    }
   ],
   "source": [
    "print(f'Средний запас сырья для 1-го региона = {int(predictions_1.mean())} бар.')\n",
    "print(f'Средний запас сырья для 2-го региона = {int(predictions_2.mean())} бар.')\n",
    "print(f'Средний запас сырья для 3-го региона = {int(predictions_3.mean())} бар.')"
   ]
  },
  {
   "cell_type": "markdown",
   "metadata": {},
   "source": [
    "**Промежуточные итоги:**\n",
    "\n",
    "Итак, были обучены 3 модели `LinearRegression` для каждого из регионов и вот, какие данные были получены:\n",
    "\n",
    "Метрика `RMSE`:\n",
    "- Для 1-го региона = 37 % \n",
    "- Для 2-го региона = 0  %\n",
    "- Для 3-го региона = 39 %\n",
    "\n",
    "Среднее кол-во баррелей нефти:\n",
    "- Для 1-го региона = 92\n",
    "- Для 2-го региона = 68\n",
    "- Для 3-го региона = 94"
   ]
  },
  {
   "cell_type": "markdown",
   "metadata": {},
   "source": [
    "## Подготовка к расчёту прибыли"
   ]
  },
  {
   "cell_type": "markdown",
   "metadata": {},
   "source": [
    "**Подготовьтесь к расчёту прибыли:**\n",
    " - Все ключевые значения для расчётов сохраните в отдельных переменных.\n",
    " - Рассчитайте достаточный объём сырья для безубыточной разработки новой скважины. Сравните полученный объём сырья со средним запасом в каждом регионе. \n",
    " - Напишите выводы по этапу подготовки расчёта прибыли."
   ]
  },
  {
   "cell_type": "markdown",
   "metadata": {},
   "source": [
    "Первым делом заведем отдельные переменные, в которых будем хранить константы, необходимые для расчетов."
   ]
  },
  {
   "cell_type": "code",
   "execution_count": 35,
   "metadata": {},
   "outputs": [],
   "source": [
    "# Бюджет = 10 млрд. руб.\n",
    "BUDGET = 10000000000 \n",
    "\n",
    "# Доход с одной единицы = 450 тыс. руб.\n",
    "INCOME = 450000\n",
    "\n",
    "# Разведуют 500 точек\n",
    "ALL_SPOTS = 500\n",
    "\n",
    "# Выбирают 200 лучших точек\n",
    "BEST_SPOTS = 200\n",
    "\n",
    "# После оценки рисков нужно оставить лишь те регионы, в которых вероятность убытков меньше 2.5%\n",
    "LESION = 0.025"
   ]
  },
  {
   "cell_type": "markdown",
   "metadata": {},
   "source": [
    "- Рассчитаем объем сырья, чтобы окупилась разработка новой скважины."
   ]
  },
  {
   "cell_type": "markdown",
   "metadata": {},
   "source": [
    "Чтобы получить значение длля выхода в ноль, необходимо посчитать отношение `budget` к `income`"
   ]
  },
  {
   "cell_type": "code",
   "execution_count": 36,
   "metadata": {},
   "outputs": [
    {
     "name": "stdout",
     "output_type": "stream",
     "text": [
      "Минимальное кол-во тыс. бар. в каждом регионе для выхода в ноль =  22222\n"
     ]
    }
   ],
   "source": [
    "BAR_MIN = BUDGET / INCOME\n",
    "print('Минимальное кол-во тыс. бар. в каждом регионе для выхода в ноль = ', int(BAR_MIN))"
   ]
  },
  {
   "cell_type": "markdown",
   "metadata": {},
   "source": [
    "То есть, необходимо, чтобы в каждом регионе было минимум 22 тыс. 222 бар. суммарно"
   ]
  },
  {
   "cell_type": "markdown",
   "metadata": {},
   "source": [
    "Но т.к. по условию отбирают 200 лучших точек, то итоговое значение тоже поделим на 200, чтобы получить значение среднего, которое должно быть в скважинах, чтобы выйти в ноль по прибыли."
   ]
  },
  {
   "cell_type": "code",
   "execution_count": 37,
   "metadata": {},
   "outputs": [
    {
     "data": {
      "text/plain": [
       "111"
      ]
     },
     "execution_count": 37,
     "metadata": {},
     "output_type": "execute_result"
    }
   ],
   "source": [
    "TOTAL_MIN = int(BAR_MIN / BEST_SPOTS)\n",
    "TOTAL_MIN"
   ]
  },
  {
   "cell_type": "markdown",
   "metadata": {},
   "source": [
    "Итого получили значение 111 тыс. бар."
   ]
  },
  {
   "cell_type": "markdown",
   "metadata": {},
   "source": [
    "Получается, что в каждой скважине должно быть в среднем 111 тыс. бар. нефти, чтобы выйти в ноль"
   ]
  },
  {
   "cell_type": "markdown",
   "metadata": {},
   "source": [
    "По итогу, можно сказать, что минимальный объем = 111, но в среднем в каждом регионе у нас намного меньше сырья, чем требуется, поэтому будем смотреть дальше."
   ]
  },
  {
   "cell_type": "markdown",
   "metadata": {},
   "source": [
    "**Графики для запасов в регионах**"
   ]
  },
  {
   "cell_type": "code",
   "execution_count": 38,
   "metadata": {},
   "outputs": [
    {
     "data": {
      "image/png": "[encoded data removed]",
      "text/plain": [
       "<Figure size 432x288 with 1 Axes>"
      ]
     },
     "metadata": {
      "needs_background": "light"
     },
     "output_type": "display_data"
    },
    {
     "data": {
      "text/plain": [
       "<Figure size 720x720 with 0 Axes>"
      ]
     },
     "metadata": {},
     "output_type": "display_data"
    },
    {
     "data": {
      "image/png": "[encoded data removed]",
      "text/plain": [
       "<Figure size 432x288 with 1 Axes>"
      ]
     },
     "metadata": {
      "needs_background": "light"
     },
     "output_type": "display_data"
    },
    {
     "data": {
      "text/plain": [
       "<Figure size 720x720 with 0 Axes>"
      ]
     },
     "metadata": {},
     "output_type": "display_data"
    },
    {
     "data": {
      "image/png": "[encoded data removed]",
      "text/plain": [
       "<Figure size 432x288 with 1 Axes>"
      ]
     },
     "metadata": {
      "needs_background": "light"
     },
     "output_type": "display_data"
    },
    {
     "data": {
      "text/plain": [
       "<Figure size 720x720 with 0 Axes>"
      ]
     },
     "metadata": {},
     "output_type": "display_data"
    }
   ],
   "source": [
    "cols = [predictions_1, predictions_2, predictions_3]\n",
    "k = 1\n",
    "for i in cols:\n",
    "    pd.Series(i).plot(kind = 'hist', bins = 50, grid = True)\n",
    "    plt.title(f'Распределение запасов по {k}-ой сважине')\n",
    "    plt.figure(figsize = (10,10))\n",
    "    k += 1\n",
    "    plt.show()"
   ]
  },
  {
   "cell_type": "markdown",
   "metadata": {},
   "source": [
    "По этим графикам видно, что лучшие запасы нефти в 3 регионе"
   ]
  },
  {
   "cell_type": "markdown",
   "metadata": {},
   "source": [
    "**Промежуточные итоги**\n",
    "\n",
    "Итак, были посчитаны средние значения в тыс. бар. для скважин, чтобы всё это дело было безубыточным (ушло в 0, хотя бы). Поэтому скорее всего подойдет третий регион, хотя у первого региона на графике более \"толстый\" пик, что говорит о том, что там больше точек с большим количеством нефти в них. "
   ]
  },
  {
   "cell_type": "markdown",
   "metadata": {},
   "source": [
    "## Расчёт прибыли и рисков "
   ]
  },
  {
   "cell_type": "markdown",
   "metadata": {},
   "source": [
    "Напишите функцию для расчёта прибыли по выбранным скважинам и предсказаниям модели:\n",
    "- Выберите скважины с максимальными значениями предсказаний. \n",
    "- Просуммируйте целевое значение объёма сырья, соответствующее этим предсказаниям.\n",
    "- Рассчитайте прибыль для полученного объёма сырья."
   ]
  },
  {
   "cell_type": "markdown",
   "metadata": {},
   "source": [
    "Посчитайте риски и прибыль для каждого региона:\n",
    "- Примените технику Bootstrap с 1000 выборок, чтобы найти распределение прибыли.\n",
    "- Найдите среднюю прибыль, 95%-й доверительный интервал и риск убытков. Убыток — это отрицательная прибыль.\n",
    "- Напишите выводы: предложите регион для разработки скважин и обоснуйте выбор."
   ]
  },
  {
   "cell_type": "code",
   "execution_count": 39,
   "metadata": {},
   "outputs": [],
   "source": [
    "'''\n",
    "def money_revenue(preds, target, amount):\n",
    "    # Список со значениями прибыли\n",
    "    money = []\n",
    "    \n",
    "    # Создаем локальные переменные, в которых будем хранить preds и target\n",
    "    preds = pd.Series(preds).to_frame()\n",
    "    target = pd.Series(target).to_frame()\n",
    "\n",
    "    # Т.к. изначально в target значения были в разброс, то создадим новый столбец с индексами, чтобы их отсортировать\n",
    "    target['index'] = range(1, len(target) + 1)\n",
    "    \n",
    "    # Установка нового столбца как индекс\n",
    "    target = target.set_index('index')\n",
    "    preds = preds.rename(columns={0: \"product\"})\n",
    "    \n",
    "    for i in range(amount):\n",
    "    # Получаем amount лучших значений\n",
    "        preds_best = preds.sort_values(by = 'product',ascending = False)[:i].index\n",
    "    \n",
    "    # Добавляем прибыль в список\n",
    "        money.append(int(target.loc[preds_best].sum() * income - budget))\n",
    "    money = pd.Series(money).to_frame()\n",
    "    money = money / 1000000000\n",
    "    money.plot()\n",
    "    plt.ylabel('Доход в млрд.руб.')\n",
    "    plt.xlabel('Кол-во точек для разработки')\n",
    "    plt.show()\n",
    "    #print(money)\n",
    "    \n",
    "''' \n",
    "    \n",
    "def money_revenue(preds, target, amount):\n",
    "    preds = preds.sort_values(ascending=False)\n",
    "    preds_best = preds[:amount]\n",
    "\n",
    "    return  (target.loc[preds_best.index]).sum() * INCOME - BUDGET\n",
    "\n"
   ]
  },
  {
   "cell_type": "markdown",
   "metadata": {},
   "source": [
    "**Подсчет рисков и прибыли для каждого региона**"
   ]
  },
  {
   "cell_type": "markdown",
   "metadata": {},
   "source": [
    "Сперва сделаем правильную индексацию в признаках"
   ]
  },
  {
   "cell_type": "code",
   "execution_count": 40,
   "metadata": {},
   "outputs": [],
   "source": [
    "predictions_1 = pd.Series(predictions_1)\n",
    "predictions_2 = pd.Series(predictions_2)\n",
    "predictions_3 = pd.Series(predictions_3)\n",
    "    \n",
    "target_valid_1 = pd.Series(np.array(target_valid_1))\n",
    "target_valid_2 = pd.Series(np.array(target_valid_2))\n",
    "target_valid_3 = pd.Series(np.array(target_valid_3))"
   ]
  },
  {
   "cell_type": "markdown",
   "metadata": {},
   "source": [
    "**Регион 1**"
   ]
  },
  {
   "cell_type": "code",
   "execution_count": 41,
   "metadata": {},
   "outputs": [
    {
     "name": "stdout",
     "output_type": "stream",
     "text": [
      "2.5% квантиль =  -158667698\n",
      "97.5% кввантиль =  827632679\n",
      "Среднее равно =  344205642\n"
     ]
    }
   ],
   "source": [
    "arr_1 = []\n",
    "\n",
    "for i in range(1000):\n",
    "    preds_sub = predictions_1.sample(n = ALL_SPOTS, \n",
    "                                     replace = False, \n",
    "                                     random_state = random_state) # Отбираем 500 случайных мсторождений\n",
    "    \n",
    "    # Здесь получаем 200 лучших месторождений по мнению модели\n",
    "    arr_1.append(money_revenue(preds_sub, target_valid_1, BEST_SPOTS)) \n",
    "\n",
    "\n",
    "     \n",
    "    \n",
    "arr_1 = pd.Series(arr_1)\n",
    "\n",
    "lower = int(arr_1.quantile(LESION))\n",
    "higher = int(arr_1.quantile(1-LESION))\n",
    "print('2.5% квантиль = ',lower)\n",
    "print('97.5% кввантиль = ', higher)\n",
    "\n",
    "\n",
    "mean_arr_1 = int(arr_1.mean())\n",
    "print('Среднее равно = ', mean_arr_1)\n"
   ]
  },
  {
   "cell_type": "markdown",
   "metadata": {},
   "source": [
    "**Регион 2**"
   ]
  },
  {
   "cell_type": "code",
   "execution_count": 42,
   "metadata": {},
   "outputs": [
    {
     "name": "stdout",
     "output_type": "stream",
     "text": [
      "2.5% квантиль =  46694319\n",
      "97.5% кввантиль =  800281063\n",
      "Среднее равно =  439658932\n"
     ]
    }
   ],
   "source": [
    "arr_2 = []\n",
    "\n",
    "for i in range(1000):\n",
    "    preds_sub = predictions_2.sample(n = ALL_SPOTS, \n",
    "                                     replace = False, \n",
    "                                     random_state = random_state) # Отбираем 500 случайных мсторождений\n",
    "    \n",
    "    # Здесь получаем 200 лучших месторождений по мнению модели\n",
    "    arr_2.append(money_revenue(preds_sub, target_valid_2, BEST_SPOTS)) \n",
    "\n",
    "\n",
    "     \n",
    "    \n",
    "arr_2 = pd.Series(arr_2)\n",
    "\n",
    "lower = int(arr_2.quantile(LESION))\n",
    "higher = int(arr_2.quantile(1-LESION))\n",
    "print('2.5% квантиль = ',lower)\n",
    "print('97.5% кввантиль = ', higher)\n",
    "\n",
    "\n",
    "mean_arr_2 = int(arr_2.mean())\n",
    "print('Среднее равно = ', mean_arr_2)\n"
   ]
  },
  {
   "cell_type": "markdown",
   "metadata": {},
   "source": [
    "**Регион 3**"
   ]
  },
  {
   "cell_type": "code",
   "execution_count": 43,
   "metadata": {},
   "outputs": [
    {
     "name": "stdout",
     "output_type": "stream",
     "text": [
      "2.5% квантиль =  -168222367\n",
      "97.5% кввантиль =  882886442\n",
      "Среднее равно =  326779505\n"
     ]
    }
   ],
   "source": [
    "arr_3 = []\n",
    "\n",
    "for i in range(1000):\n",
    "    preds_sub = predictions_3.sample(n = ALL_SPOTS, \n",
    "                                     replace = False, \n",
    "                                     random_state = random_state) # Отбираем 500 случайных мсторождений\n",
    "    \n",
    "    # Здесь получаем 200 лучших месторождений по мнению модели\n",
    "    arr_3.append(money_revenue(preds_sub, target_valid_3, BEST_SPOTS)) \n",
    "\n",
    "\n",
    "     \n",
    "    \n",
    "arr_3 = pd.Series(arr_3)\n",
    "\n",
    "lower = int(arr_3.quantile(LESION))\n",
    "higher = int(arr_3.quantile(1-LESION))\n",
    "print('2.5% квантиль = ',lower)\n",
    "print('97.5% кввантиль = ', higher)\n",
    "\n",
    "\n",
    "mean_arr_3 = int(arr_3.mean())\n",
    "print('Среднее равно = ', mean_arr_3)\n"
   ]
  },
  {
   "cell_type": "markdown",
   "metadata": {},
   "source": [
    "**Выведем все средние значения**"
   ]
  },
  {
   "cell_type": "code",
   "execution_count": 44,
   "metadata": {},
   "outputs": [
    {
     "name": "stdout",
     "output_type": "stream",
     "text": [
      "Среднее значение прибыли для 1-го региона = 0.34 млрд. руб.\n",
      "Среднее значение прибыли для 2-го региона = 0.44 млрд. руб.\n",
      "Среднее значение прибыли для 3-го региона = 0.33 млрд. руб.\n"
     ]
    }
   ],
   "source": [
    "print(f'Среднее значение прибыли для 1-го региона = {round(mean_arr_1 / 1000000000, 2)} млрд. руб.')\n",
    "print(f'Среднее значение прибыли для 2-го региона = {round(mean_arr_2 / 1000000000, 2)} млрд. руб.')\n",
    "print(f'Среднее значение прибыли для 3-го региона = {round(mean_arr_3 / 1000000000, 2)} млрд. руб.')"
   ]
  },
  {
   "cell_type": "markdown",
   "metadata": {},
   "source": [
    "**Для каждого региона подсчитаем шанс выйти в +**"
   ]
  },
  {
   "cell_type": "code",
   "execution_count": 45,
   "metadata": {},
   "outputs": [
    {
     "name": "stdout",
     "output_type": "stream",
     "text": [
      "Шанс для 1-го региона выйти в плюс = 92 %\n",
      "Шанс для 2-го региона выйти в плюс = 98 %\n",
      "Шанс для 3-го региона выйти в плюс = 87 %\n"
     ]
    }
   ],
   "source": [
    "print(f'Шанс для 1-го региона выйти в плюс = {int( (arr_1 > 0).mean() * 100 )} %')\n",
    "print(f'Шанс для 2-го региона выйти в плюс = {int( (arr_2 > 0).mean() * 100 )} %')\n",
    "print(f'Шанс для 3-го региона выйти в плюс = {int( (arr_3 > 0).mean() * 100 )} %')"
   ]
  },
  {
   "cell_type": "markdown",
   "metadata": {},
   "source": [
    "**Итог:**\n",
    "\n",
    "- Итак, исходя из полученных значений, видно, что регион 2 является самым перспективным и в приоритете самым прибыльным (98 % окупить затраты и выйти в плюс) и среднее предполагаемое значение прибыли для 2 региона = 0.45 млрд. руб."
   ]
  },
  {
   "cell_type": "markdown",
   "metadata": {},
   "source": [
    "## Выводы:"
   ]
  },
  {
   "cell_type": "markdown",
   "metadata": {},
   "source": [
    "   В ходе работы предстояло помочь нефтедобывающей компании проанализировать месторождения нефти в трех регионах, и с помощью модели Линейной Регрессии предсказать значения для нефти в тыс. барр.\n",
    "\n",
    "**Работа была поделена на несколько этапов:**\n",
    "- Загрузка и первичная предобработка данных \n",
    "- Обучение модели для каждого из регионов\n",
    "- Расчет прибыли \n",
    "- Оценка рисков\n",
    "\n",
    "Для каждого региона мы получили предсказанные моделью значения, а на их основе подсчитали прибыль и риски. По итогу, регион 1 оказался самым перспективным с прибылью 0.45 млрд. руб. и шансом окупиться в 98 %.\n",
    "\n"
   ]
  },
  {
   "cell_type": "markdown",
   "metadata": {},
   "source": [
    "## Чек-лист готовности проекта"
   ]
  },
  {
   "cell_type": "markdown",
   "metadata": {},
   "source": [
    "Поставьте 'x' в выполненных пунктах. Далее нажмите Shift+Enter."
   ]
  },
  {
   "cell_type": "markdown",
   "metadata": {},
   "source": [
    "- [x]  Jupyter Notebook открыт\n",
    "- [x]  Весь код выполняется без ошибок\n",
    "- [x]  Ячейки с кодом расположены в порядке исполнения\n",
    "- [x]  Выполнен шаг 1: данные подготовлены\n",
    "- [x]  Выполнен шаг 2: модели обучены и проверены\n",
    "    - [x]  Данные корректно разбиты на обучающую и валидационную выборки\n",
    "    - [x]  Модели обучены, предсказания сделаны\n",
    "    - [x]  Предсказания и правильные ответы на валидационной выборке сохранены\n",
    "    - [x]  На экране напечатаны результаты\n",
    "    - [x]  Сделаны выводы\n",
    "- [x]  Выполнен шаг 3: проведена подготовка к расчёту прибыли\n",
    "    - [x]  Для всех ключевых значений созданы константы Python\n",
    "    - [x]  Посчитано минимальное среднее количество продукта в месторождениях региона, достаточное для разработки\n",
    "    - [x]  По предыдущему пункту сделаны выводы\n",
    "    - [x]  Написана функция расчёта прибыли\n",
    "- [x]  Выполнен шаг 4: посчитаны риски и прибыль\n",
    "    - [x]  Проведена процедура *Bootstrap*\n",
    "    - [x]  Все параметры бутстрепа соответствуют условию\n",
    "    - [x]  Найдены все нужные величины\n",
    "    - [x]  Предложен регион для разработки месторождения\n",
    "    - [x]  Выбор региона обоснован"
   ]
  },
  {
   "cell_type": "code",
   "execution_count": null,
   "metadata": {},
   "outputs": [],
   "source": []
  }
 ],
 "metadata": {
  "ExecuteTimeLog": [
   {
    "duration": 1072,
    "start_time": "2024-01-28T19:28:48.470Z"
   },
   {
    "duration": 750,
    "start_time": "2024-01-28T19:30:41.295Z"
   },
   {
    "duration": 73,
    "start_time": "2024-01-28T19:30:53.258Z"
   },
   {
    "duration": 17,
    "start_time": "2024-01-28T19:31:00.586Z"
   },
   {
    "duration": 9,
    "start_time": "2024-01-28T19:31:10.149Z"
   },
   {
    "duration": 8,
    "start_time": "2024-01-28T19:31:26.395Z"
   },
   {
    "duration": 4,
    "start_time": "2024-01-28T19:33:23.958Z"
   },
   {
    "duration": 93,
    "start_time": "2024-01-28T19:33:31.687Z"
   },
   {
    "duration": 3,
    "start_time": "2024-01-28T19:33:34.617Z"
   },
   {
    "duration": 4,
    "start_time": "2024-01-28T19:33:42.643Z"
   },
   {
    "duration": 37,
    "start_time": "2024-01-28T19:34:52.858Z"
   },
   {
    "duration": 113,
    "start_time": "2024-01-28T19:35:39.628Z"
   },
   {
    "duration": 8,
    "start_time": "2024-01-28T19:35:56.105Z"
   },
   {
    "duration": 6,
    "start_time": "2024-01-28T19:36:03.764Z"
   },
   {
    "duration": 482,
    "start_time": "2024-01-28T19:37:23.634Z"
   },
   {
    "duration": 14,
    "start_time": "2024-01-28T19:39:56.381Z"
   },
   {
    "duration": 3,
    "start_time": "2024-01-28T19:41:18.529Z"
   },
   {
    "duration": 3,
    "start_time": "2024-01-28T19:41:23.403Z"
   },
   {
    "duration": 3,
    "start_time": "2024-01-28T19:41:38.285Z"
   },
   {
    "duration": 3,
    "start_time": "2024-01-28T19:41:40.474Z"
   },
   {
    "duration": 35,
    "start_time": "2024-01-28T19:41:48.665Z"
   },
   {
    "duration": 3,
    "start_time": "2024-01-28T19:41:52.362Z"
   },
   {
    "duration": 1370,
    "start_time": "2024-01-28T19:43:15.796Z"
   },
   {
    "duration": 393,
    "start_time": "2024-01-28T19:43:17.168Z"
   },
   {
    "duration": 13,
    "start_time": "2024-01-28T19:43:17.562Z"
   },
   {
    "duration": 16,
    "start_time": "2024-01-28T19:43:17.577Z"
   },
   {
    "duration": 31,
    "start_time": "2024-01-28T19:43:17.595Z"
   },
   {
    "duration": 27,
    "start_time": "2024-01-28T19:43:17.627Z"
   },
   {
    "duration": 22,
    "start_time": "2024-01-28T19:43:17.656Z"
   },
   {
    "duration": 28,
    "start_time": "2024-01-28T19:43:17.680Z"
   },
   {
    "duration": 62,
    "start_time": "2024-01-28T19:43:17.710Z"
   },
   {
    "duration": 115,
    "start_time": "2024-01-28T19:43:17.774Z"
   },
   {
    "duration": 6,
    "start_time": "2024-01-28T19:43:17.890Z"
   },
   {
    "duration": 38,
    "start_time": "2024-01-28T19:43:17.897Z"
   },
   {
    "duration": 25,
    "start_time": "2024-01-28T19:43:17.937Z"
   },
   {
    "duration": 1481,
    "start_time": "2024-01-28T19:43:51.255Z"
   },
   {
    "duration": 409,
    "start_time": "2024-01-28T19:43:52.738Z"
   },
   {
    "duration": 18,
    "start_time": "2024-01-28T19:43:53.148Z"
   },
   {
    "duration": 4,
    "start_time": "2024-01-28T19:43:53.167Z"
   },
   {
    "duration": 10,
    "start_time": "2024-01-28T19:43:53.173Z"
   },
   {
    "duration": 13,
    "start_time": "2024-01-28T19:43:53.184Z"
   },
   {
    "duration": 12,
    "start_time": "2024-01-28T19:43:53.199Z"
   },
   {
    "duration": 5,
    "start_time": "2024-01-28T19:43:53.212Z"
   },
   {
    "duration": 53,
    "start_time": "2024-01-28T19:43:53.218Z"
   },
   {
    "duration": 125,
    "start_time": "2024-01-28T19:43:53.272Z"
   },
   {
    "duration": 6,
    "start_time": "2024-01-28T19:43:53.398Z"
   },
   {
    "duration": 16,
    "start_time": "2024-01-28T19:43:53.406Z"
   },
   {
    "duration": 4,
    "start_time": "2024-01-28T19:43:53.424Z"
   },
   {
    "duration": 368,
    "start_time": "2024-01-28T19:43:53.430Z"
   },
   {
    "duration": 3,
    "start_time": "2024-01-28T19:44:01.175Z"
   },
   {
    "duration": 290,
    "start_time": "2024-01-28T19:44:01.304Z"
   },
   {
    "duration": 282,
    "start_time": "2024-01-28T19:45:43.485Z"
   },
   {
    "duration": 350,
    "start_time": "2024-01-28T19:45:54.735Z"
   },
   {
    "duration": 4309,
    "start_time": "2024-01-28T19:50:14.985Z"
   },
   {
    "duration": 4396,
    "start_time": "2024-01-28T19:50:32.555Z"
   },
   {
    "duration": 4587,
    "start_time": "2024-01-28T19:50:53.060Z"
   },
   {
    "duration": 4703,
    "start_time": "2024-01-28T19:51:03.396Z"
   },
   {
    "duration": 4423,
    "start_time": "2024-01-28T19:51:11.166Z"
   },
   {
    "duration": 4588,
    "start_time": "2024-01-28T19:51:38.735Z"
   },
   {
    "duration": 4317,
    "start_time": "2024-01-28T19:52:01.485Z"
   },
   {
    "duration": 4544,
    "start_time": "2024-01-28T19:52:05.804Z"
   },
   {
    "duration": 76,
    "start_time": "2024-01-28T19:52:28.252Z"
   },
   {
    "duration": 1112,
    "start_time": "2024-01-28T19:52:33.738Z"
   },
   {
    "duration": 4479,
    "start_time": "2024-01-28T19:52:39.052Z"
   },
   {
    "duration": 4538,
    "start_time": "2024-01-28T19:52:43.532Z"
   },
   {
    "duration": 4422,
    "start_time": "2024-01-28T19:52:48.072Z"
   },
   {
    "duration": 3,
    "start_time": "2024-01-28T20:01:12.789Z"
   },
   {
    "duration": 11,
    "start_time": "2024-01-28T20:02:10.133Z"
   },
   {
    "duration": 6,
    "start_time": "2024-01-28T20:02:17.422Z"
   },
   {
    "duration": 11,
    "start_time": "2024-01-28T20:03:44.109Z"
   },
   {
    "duration": 12,
    "start_time": "2024-01-28T20:03:55.644Z"
   },
   {
    "duration": 11,
    "start_time": "2024-01-28T20:05:39.106Z"
   },
   {
    "duration": 32,
    "start_time": "2024-01-28T20:06:38.276Z"
   },
   {
    "duration": 12,
    "start_time": "2024-01-28T20:07:20.090Z"
   },
   {
    "duration": 28,
    "start_time": "2024-01-28T20:07:20.304Z"
   },
   {
    "duration": 1311,
    "start_time": "2024-01-28T20:07:26.316Z"
   },
   {
    "duration": 390,
    "start_time": "2024-01-28T20:07:27.629Z"
   },
   {
    "duration": 13,
    "start_time": "2024-01-28T20:07:28.020Z"
   },
   {
    "duration": 21,
    "start_time": "2024-01-28T20:07:28.034Z"
   },
   {
    "duration": 15,
    "start_time": "2024-01-28T20:07:28.057Z"
   },
   {
    "duration": 7,
    "start_time": "2024-01-28T20:07:28.073Z"
   },
   {
    "duration": 26,
    "start_time": "2024-01-28T20:07:28.081Z"
   },
   {
    "duration": 17,
    "start_time": "2024-01-28T20:07:28.109Z"
   },
   {
    "duration": 45,
    "start_time": "2024-01-28T20:07:28.127Z"
   },
   {
    "duration": 119,
    "start_time": "2024-01-28T20:07:28.174Z"
   },
   {
    "duration": 6,
    "start_time": "2024-01-28T20:07:28.294Z"
   },
   {
    "duration": 32,
    "start_time": "2024-01-28T20:07:28.301Z"
   },
   {
    "duration": 27,
    "start_time": "2024-01-28T20:07:28.335Z"
   },
   {
    "duration": 333,
    "start_time": "2024-01-28T20:07:28.365Z"
   },
   {
    "duration": 305,
    "start_time": "2024-01-28T20:07:28.700Z"
   },
   {
    "duration": 308,
    "start_time": "2024-01-28T20:07:29.007Z"
   },
   {
    "duration": 4519,
    "start_time": "2024-01-28T20:07:29.316Z"
   },
   {
    "duration": 4379,
    "start_time": "2024-01-28T20:07:33.837Z"
   },
   {
    "duration": 4586,
    "start_time": "2024-01-28T20:07:38.217Z"
   },
   {
    "duration": 3,
    "start_time": "2024-01-28T20:07:42.805Z"
   },
   {
    "duration": 8,
    "start_time": "2024-01-28T20:07:42.809Z"
   },
   {
    "duration": 23,
    "start_time": "2024-01-28T20:07:42.818Z"
   },
   {
    "duration": 12,
    "start_time": "2024-01-28T20:07:42.843Z"
   },
   {
    "duration": 122,
    "start_time": "2024-01-28T20:07:42.866Z"
   },
   {
    "duration": 9,
    "start_time": "2024-01-28T20:08:15.497Z"
   },
   {
    "duration": 11,
    "start_time": "2024-01-28T20:08:39.472Z"
   },
   {
    "duration": 27,
    "start_time": "2024-01-28T20:08:42.457Z"
   },
   {
    "duration": 5,
    "start_time": "2024-01-28T20:09:08.303Z"
   },
   {
    "duration": 11,
    "start_time": "2024-01-28T20:10:23.235Z"
   },
   {
    "duration": 10,
    "start_time": "2024-01-28T20:10:23.633Z"
   },
   {
    "duration": 11,
    "start_time": "2024-01-28T20:10:25.151Z"
   },
   {
    "duration": 8,
    "start_time": "2024-01-28T20:10:26.176Z"
   },
   {
    "duration": 8,
    "start_time": "2024-01-28T20:11:19.872Z"
   },
   {
    "duration": 5,
    "start_time": "2024-01-28T20:11:34.697Z"
   },
   {
    "duration": 25,
    "start_time": "2024-01-28T20:13:43.925Z"
   },
   {
    "duration": 29,
    "start_time": "2024-01-28T20:14:18.701Z"
   },
   {
    "duration": 3,
    "start_time": "2024-01-28T20:16:09.186Z"
   },
   {
    "duration": 12,
    "start_time": "2024-01-28T20:16:41.174Z"
   },
   {
    "duration": 15,
    "start_time": "2024-01-28T20:17:16.409Z"
   },
   {
    "duration": 12,
    "start_time": "2024-01-28T20:20:02.672Z"
   },
   {
    "duration": 5,
    "start_time": "2024-01-28T20:20:06.089Z"
   },
   {
    "duration": 13,
    "start_time": "2024-01-28T20:20:35.935Z"
   },
   {
    "duration": 8,
    "start_time": "2024-01-28T20:20:40.449Z"
   },
   {
    "duration": 6,
    "start_time": "2024-01-28T20:21:37.893Z"
   },
   {
    "duration": 65,
    "start_time": "2024-01-28T20:22:01.504Z"
   },
   {
    "duration": 5,
    "start_time": "2024-01-28T20:22:05.411Z"
   },
   {
    "duration": 9,
    "start_time": "2024-01-28T20:22:08.800Z"
   },
   {
    "duration": 96,
    "start_time": "2024-01-28T20:22:22.820Z"
   },
   {
    "duration": 6,
    "start_time": "2024-01-28T20:22:25.459Z"
   },
   {
    "duration": 90,
    "start_time": "2024-01-28T20:22:55.924Z"
   },
   {
    "duration": 5,
    "start_time": "2024-01-28T20:23:07.986Z"
   },
   {
    "duration": 12,
    "start_time": "2024-01-28T21:54:16.682Z"
   },
   {
    "duration": 94,
    "start_time": "2024-01-28T21:54:32.775Z"
   },
   {
    "duration": 10,
    "start_time": "2024-01-28T21:55:48.131Z"
   },
   {
    "duration": 6,
    "start_time": "2024-01-28T21:56:00.684Z"
   },
   {
    "duration": 12,
    "start_time": "2024-01-28T22:03:53.966Z"
   },
   {
    "duration": 6,
    "start_time": "2024-01-28T22:05:06.769Z"
   },
   {
    "duration": 9,
    "start_time": "2024-01-28T22:05:15.963Z"
   },
   {
    "duration": 8,
    "start_time": "2024-01-28T22:05:27.005Z"
   },
   {
    "duration": 5,
    "start_time": "2024-01-28T22:05:34.167Z"
   },
   {
    "duration": 3,
    "start_time": "2024-01-28T22:07:41.399Z"
   },
   {
    "duration": 4,
    "start_time": "2024-01-28T22:07:59.196Z"
   },
   {
    "duration": 4,
    "start_time": "2024-01-28T22:08:23.632Z"
   },
   {
    "duration": 3,
    "start_time": "2024-01-28T22:20:25.386Z"
   },
   {
    "duration": 3,
    "start_time": "2024-01-28T22:22:59.534Z"
   },
   {
    "duration": 4,
    "start_time": "2024-01-28T22:23:19.956Z"
   },
   {
    "duration": 9,
    "start_time": "2024-01-28T22:29:18.371Z"
   },
   {
    "duration": 3,
    "start_time": "2024-01-28T22:29:22.806Z"
   },
   {
    "duration": 4,
    "start_time": "2024-01-28T22:29:23.532Z"
   },
   {
    "duration": 5,
    "start_time": "2024-01-28T22:29:34.346Z"
   },
   {
    "duration": 848,
    "start_time": "2024-01-28T22:36:21.790Z"
   },
   {
    "duration": 1007,
    "start_time": "2024-01-28T22:36:55.094Z"
   },
   {
    "duration": 870,
    "start_time": "2024-01-28T22:40:45.299Z"
   },
   {
    "duration": 954,
    "start_time": "2024-01-28T22:40:48.991Z"
   },
   {
    "duration": 672,
    "start_time": "2024-01-28T22:41:22.913Z"
   },
   {
    "duration": 695,
    "start_time": "2024-01-28T22:41:28.103Z"
   },
   {
    "duration": 545,
    "start_time": "2024-01-28T22:41:32.102Z"
   },
   {
    "duration": 13,
    "start_time": "2024-01-28T23:03:04.367Z"
   },
   {
    "duration": 18,
    "start_time": "2024-01-28T23:03:24.429Z"
   },
   {
    "duration": 8,
    "start_time": "2024-01-28T23:03:59.431Z"
   },
   {
    "duration": 9,
    "start_time": "2024-01-28T23:04:10.276Z"
   },
   {
    "duration": 8,
    "start_time": "2024-01-28T23:04:37.698Z"
   },
   {
    "duration": 8,
    "start_time": "2024-01-28T23:04:54.790Z"
   },
   {
    "duration": 11,
    "start_time": "2024-01-28T23:04:59.777Z"
   },
   {
    "duration": 7,
    "start_time": "2024-01-28T23:05:27.273Z"
   },
   {
    "duration": 88,
    "start_time": "2024-01-28T23:07:02.944Z"
   },
   {
    "duration": 4,
    "start_time": "2024-01-28T23:09:35.523Z"
   },
   {
    "duration": 26,
    "start_time": "2024-01-28T23:10:15.860Z"
   },
   {
    "duration": 17,
    "start_time": "2024-01-28T23:10:18.477Z"
   },
   {
    "duration": 16,
    "start_time": "2024-01-28T23:13:58.912Z"
   },
   {
    "duration": 10,
    "start_time": "2024-01-28T23:14:06.839Z"
   },
   {
    "duration": 8,
    "start_time": "2024-01-28T23:14:35.144Z"
   },
   {
    "duration": 8,
    "start_time": "2024-01-28T23:14:43.005Z"
   },
   {
    "duration": 6,
    "start_time": "2024-01-28T23:14:51.524Z"
   },
   {
    "duration": 5,
    "start_time": "2024-01-28T23:15:00.435Z"
   },
   {
    "duration": 5,
    "start_time": "2024-01-28T23:15:10.230Z"
   },
   {
    "duration": 4,
    "start_time": "2024-01-28T23:15:33.924Z"
   },
   {
    "duration": 4,
    "start_time": "2024-01-28T23:15:37.913Z"
   },
   {
    "duration": 4,
    "start_time": "2024-01-28T23:15:43.431Z"
   },
   {
    "duration": 5,
    "start_time": "2024-01-28T23:16:01.996Z"
   },
   {
    "duration": 6,
    "start_time": "2024-01-28T23:18:17.701Z"
   },
   {
    "duration": 4,
    "start_time": "2024-01-28T23:18:22.280Z"
   },
   {
    "duration": 5,
    "start_time": "2024-01-28T23:19:30.738Z"
   },
   {
    "duration": 66,
    "start_time": "2024-01-28T23:19:47.695Z"
   },
   {
    "duration": 1226,
    "start_time": "2024-01-28T23:19:50.454Z"
   },
   {
    "duration": 12,
    "start_time": "2024-01-28T23:20:02.449Z"
   },
   {
    "duration": 5,
    "start_time": "2024-01-28T23:20:17.898Z"
   },
   {
    "duration": 11,
    "start_time": "2024-01-28T23:20:26.043Z"
   },
   {
    "duration": 49,
    "start_time": "2024-01-29T12:19:29.862Z"
   },
   {
    "duration": 1598,
    "start_time": "2024-01-29T12:19:39.492Z"
   },
   {
    "duration": 1648,
    "start_time": "2024-01-29T12:19:41.093Z"
   },
   {
    "duration": 14,
    "start_time": "2024-01-29T12:19:42.743Z"
   },
   {
    "duration": 3,
    "start_time": "2024-01-29T12:19:42.759Z"
   },
   {
    "duration": 13,
    "start_time": "2024-01-29T12:19:42.764Z"
   },
   {
    "duration": 7,
    "start_time": "2024-01-29T12:19:42.779Z"
   },
   {
    "duration": 11,
    "start_time": "2024-01-29T12:19:42.787Z"
   },
   {
    "duration": 12,
    "start_time": "2024-01-29T12:19:42.800Z"
   },
   {
    "duration": 48,
    "start_time": "2024-01-29T12:19:42.814Z"
   },
   {
    "duration": 125,
    "start_time": "2024-01-29T12:19:42.865Z"
   },
   {
    "duration": 6,
    "start_time": "2024-01-29T12:19:42.992Z"
   },
   {
    "duration": 19,
    "start_time": "2024-01-29T12:19:42.999Z"
   },
   {
    "duration": 7,
    "start_time": "2024-01-29T12:19:43.019Z"
   },
   {
    "duration": 418,
    "start_time": "2024-01-29T12:19:43.027Z"
   },
   {
    "duration": 341,
    "start_time": "2024-01-29T12:19:43.447Z"
   },
   {
    "duration": 334,
    "start_time": "2024-01-29T12:19:43.789Z"
   },
   {
    "duration": 5176,
    "start_time": "2024-01-29T12:19:44.125Z"
   },
   {
    "duration": 4928,
    "start_time": "2024-01-29T12:19:49.303Z"
   },
   {
    "duration": 5082,
    "start_time": "2024-01-29T12:19:54.233Z"
   },
   {
    "duration": 3,
    "start_time": "2024-01-29T12:19:59.316Z"
   },
   {
    "duration": 10,
    "start_time": "2024-01-29T12:19:59.321Z"
   },
   {
    "duration": 13,
    "start_time": "2024-01-29T12:19:59.332Z"
   },
   {
    "duration": 28,
    "start_time": "2024-01-29T12:19:59.347Z"
   },
   {
    "duration": 8,
    "start_time": "2024-01-29T12:19:59.377Z"
   },
   {
    "duration": 4,
    "start_time": "2024-01-29T12:19:59.386Z"
   },
   {
    "duration": 29,
    "start_time": "2024-01-29T12:19:59.391Z"
   },
   {
    "duration": 26,
    "start_time": "2024-01-29T12:19:59.422Z"
   },
   {
    "duration": 205,
    "start_time": "2024-01-29T12:19:59.472Z"
   },
   {
    "duration": 95,
    "start_time": "2024-01-29T12:19:59.679Z"
   },
   {
    "duration": 103,
    "start_time": "2024-01-29T12:19:59.780Z"
   },
   {
    "duration": 94,
    "start_time": "2024-01-29T12:19:59.887Z"
   },
   {
    "duration": 200,
    "start_time": "2024-01-29T12:19:59.983Z"
   },
   {
    "duration": 124,
    "start_time": "2024-01-29T12:20:00.272Z"
   },
   {
    "duration": 173,
    "start_time": "2024-01-29T12:20:00.401Z"
   },
   {
    "duration": 146,
    "start_time": "2024-01-29T12:20:00.575Z"
   },
   {
    "duration": 176,
    "start_time": "2024-01-29T12:20:00.723Z"
   },
   {
    "duration": 74,
    "start_time": "2024-01-29T12:20:00.900Z"
   },
   {
    "duration": 688,
    "start_time": "2024-01-29T12:20:00.975Z"
   },
   {
    "duration": 78,
    "start_time": "2024-01-29T12:20:16.738Z"
   },
   {
    "duration": 21,
    "start_time": "2024-01-29T12:34:48.037Z"
   },
   {
    "duration": 24,
    "start_time": "2024-01-29T12:34:53.700Z"
   },
   {
    "duration": 10,
    "start_time": "2024-01-29T12:37:06.834Z"
   },
   {
    "duration": 4,
    "start_time": "2024-01-29T12:37:23.687Z"
   },
   {
    "duration": 5,
    "start_time": "2024-01-29T12:37:43.152Z"
   },
   {
    "duration": 10,
    "start_time": "2024-01-29T12:38:56.283Z"
   },
   {
    "duration": 9,
    "start_time": "2024-01-29T12:39:01.172Z"
   },
   {
    "duration": 7,
    "start_time": "2024-01-29T12:39:31.150Z"
   },
   {
    "duration": 7,
    "start_time": "2024-01-29T12:39:38.754Z"
   },
   {
    "duration": 5,
    "start_time": "2024-01-29T12:39:43.218Z"
   },
   {
    "duration": 11,
    "start_time": "2024-01-29T12:40:19.781Z"
   },
   {
    "duration": 8,
    "start_time": "2024-01-29T12:40:54.716Z"
   },
   {
    "duration": 12,
    "start_time": "2024-01-29T12:42:15.344Z"
   },
   {
    "duration": 10,
    "start_time": "2024-01-29T12:44:30.045Z"
   },
   {
    "duration": 4,
    "start_time": "2024-01-29T12:47:36.794Z"
   },
   {
    "duration": 17,
    "start_time": "2024-01-29T12:47:59.648Z"
   },
   {
    "duration": 4,
    "start_time": "2024-01-29T12:48:22.569Z"
   },
   {
    "duration": 19,
    "start_time": "2024-01-29T12:48:23.793Z"
   },
   {
    "duration": 16,
    "start_time": "2024-01-29T12:49:20.004Z"
   },
   {
    "duration": 14,
    "start_time": "2024-01-29T12:49:41.641Z"
   },
   {
    "duration": 294,
    "start_time": "2024-01-29T12:50:12.484Z"
   },
   {
    "duration": 10,
    "start_time": "2024-01-29T12:50:27.232Z"
   },
   {
    "duration": 12,
    "start_time": "2024-01-29T12:50:35.415Z"
   },
   {
    "duration": 14,
    "start_time": "2024-01-29T12:51:31.619Z"
   },
   {
    "duration": 18,
    "start_time": "2024-01-29T12:51:38.389Z"
   },
   {
    "duration": 18,
    "start_time": "2024-01-29T12:51:45.044Z"
   },
   {
    "duration": 15,
    "start_time": "2024-01-29T12:51:56.697Z"
   },
   {
    "duration": 65,
    "start_time": "2024-01-29T12:52:13.716Z"
   },
   {
    "duration": 14,
    "start_time": "2024-01-29T12:52:16.197Z"
   },
   {
    "duration": 14,
    "start_time": "2024-01-29T12:52:22.378Z"
   },
   {
    "duration": 14,
    "start_time": "2024-01-29T12:52:26.246Z"
   },
   {
    "duration": 4,
    "start_time": "2024-01-29T12:54:51.230Z"
   },
   {
    "duration": 21,
    "start_time": "2024-01-29T12:54:51.659Z"
   },
   {
    "duration": 5,
    "start_time": "2024-01-29T12:55:19.025Z"
   },
   {
    "duration": 123,
    "start_time": "2024-01-29T12:55:19.256Z"
   },
   {
    "duration": 6,
    "start_time": "2024-01-29T12:55:33.500Z"
   },
   {
    "duration": 14,
    "start_time": "2024-01-29T12:55:34.176Z"
   },
   {
    "duration": 4,
    "start_time": "2024-01-29T12:55:41.099Z"
   },
   {
    "duration": 12,
    "start_time": "2024-01-29T12:55:41.227Z"
   },
   {
    "duration": 5,
    "start_time": "2024-01-29T12:56:51.985Z"
   },
   {
    "duration": 734,
    "start_time": "2024-01-29T12:56:52.139Z"
   },
   {
    "duration": 5,
    "start_time": "2024-01-29T12:57:01.488Z"
   },
   {
    "duration": 863,
    "start_time": "2024-01-29T12:57:01.639Z"
   },
   {
    "duration": 5,
    "start_time": "2024-01-29T12:57:11.604Z"
   },
   {
    "duration": 730,
    "start_time": "2024-01-29T12:57:11.715Z"
   },
   {
    "duration": 5,
    "start_time": "2024-01-29T12:57:18.896Z"
   },
   {
    "duration": 729,
    "start_time": "2024-01-29T12:57:19.008Z"
   },
   {
    "duration": 2533,
    "start_time": "2024-01-29T12:57:41.594Z"
   },
   {
    "duration": 3,
    "start_time": "2024-01-29T12:57:44.130Z"
   },
   {
    "duration": 5,
    "start_time": "2024-01-29T12:58:02.855Z"
   },
   {
    "duration": 2518,
    "start_time": "2024-01-29T12:58:02.862Z"
   },
   {
    "duration": 5,
    "start_time": "2024-01-29T12:58:16.946Z"
   },
   {
    "duration": 1544,
    "start_time": "2024-01-29T12:58:17.079Z"
   },
   {
    "duration": 5,
    "start_time": "2024-01-29T12:58:28.403Z"
   },
   {
    "duration": 1557,
    "start_time": "2024-01-29T12:58:28.528Z"
   },
   {
    "duration": 5,
    "start_time": "2024-01-29T12:58:43.305Z"
   },
   {
    "duration": 1439,
    "start_time": "2024-01-29T12:58:43.852Z"
   },
   {
    "duration": 5,
    "start_time": "2024-01-29T12:59:06.910Z"
   },
   {
    "duration": 1569,
    "start_time": "2024-01-29T12:59:07.569Z"
   },
   {
    "duration": 6,
    "start_time": "2024-01-29T13:00:05.615Z"
   },
   {
    "duration": 1567,
    "start_time": "2024-01-29T13:00:05.971Z"
   },
   {
    "duration": 5,
    "start_time": "2024-01-29T13:00:14.068Z"
   },
   {
    "duration": 1555,
    "start_time": "2024-01-29T13:00:14.394Z"
   },
   {
    "duration": 7,
    "start_time": "2024-01-29T13:00:52.050Z"
   },
   {
    "duration": 1550,
    "start_time": "2024-01-29T13:00:52.435Z"
   },
   {
    "duration": 5,
    "start_time": "2024-01-29T13:00:58.146Z"
   },
   {
    "duration": 1541,
    "start_time": "2024-01-29T13:00:58.576Z"
   },
   {
    "duration": 3647,
    "start_time": "2024-01-29T13:09:26.662Z"
   },
   {
    "duration": 1903,
    "start_time": "2024-01-29T13:09:39.839Z"
   },
   {
    "duration": 977,
    "start_time": "2024-01-29T13:09:59.536Z"
   },
   {
    "duration": 1206,
    "start_time": "2024-01-29T13:10:05.496Z"
   },
   {
    "duration": 6,
    "start_time": "2024-01-29T13:11:37.389Z"
   },
   {
    "duration": 1220,
    "start_time": "2024-01-29T13:11:37.540Z"
   },
   {
    "duration": 5,
    "start_time": "2024-01-29T13:11:47.487Z"
   },
   {
    "duration": 1234,
    "start_time": "2024-01-29T13:11:47.493Z"
   },
   {
    "duration": 5,
    "start_time": "2024-01-29T13:14:52.794Z"
   },
   {
    "duration": 1215,
    "start_time": "2024-01-29T13:14:52.926Z"
   },
   {
    "duration": 10,
    "start_time": "2024-01-29T13:15:36.758Z"
   },
   {
    "duration": 4,
    "start_time": "2024-01-29T13:16:05.250Z"
   },
   {
    "duration": 1546,
    "start_time": "2024-01-29T13:18:40.687Z"
   },
   {
    "duration": 436,
    "start_time": "2024-01-29T13:18:42.235Z"
   },
   {
    "duration": 14,
    "start_time": "2024-01-29T13:18:42.672Z"
   },
   {
    "duration": 32,
    "start_time": "2024-01-29T13:18:42.689Z"
   },
   {
    "duration": 25,
    "start_time": "2024-01-29T13:18:42.723Z"
   },
   {
    "duration": 8,
    "start_time": "2024-01-29T13:18:42.750Z"
   },
   {
    "duration": 15,
    "start_time": "2024-01-29T13:18:42.760Z"
   },
   {
    "duration": 15,
    "start_time": "2024-01-29T13:18:42.780Z"
   },
   {
    "duration": 50,
    "start_time": "2024-01-29T13:18:42.797Z"
   },
   {
    "duration": 138,
    "start_time": "2024-01-29T13:18:42.850Z"
   },
   {
    "duration": 6,
    "start_time": "2024-01-29T13:18:42.990Z"
   },
   {
    "duration": 16,
    "start_time": "2024-01-29T13:18:42.998Z"
   },
   {
    "duration": 7,
    "start_time": "2024-01-29T13:18:43.015Z"
   },
   {
    "duration": 383,
    "start_time": "2024-01-29T13:18:43.024Z"
   },
   {
    "duration": 410,
    "start_time": "2024-01-29T13:18:43.410Z"
   },
   {
    "duration": 425,
    "start_time": "2024-01-29T13:18:43.822Z"
   },
   {
    "duration": 5549,
    "start_time": "2024-01-29T13:18:44.249Z"
   },
   {
    "duration": 4991,
    "start_time": "2024-01-29T13:18:49.800Z"
   },
   {
    "duration": 5155,
    "start_time": "2024-01-29T13:18:54.792Z"
   },
   {
    "duration": 3,
    "start_time": "2024-01-29T13:18:59.949Z"
   },
   {
    "duration": 25,
    "start_time": "2024-01-29T13:18:59.953Z"
   },
   {
    "duration": 32,
    "start_time": "2024-01-29T13:18:59.980Z"
   },
   {
    "duration": 40,
    "start_time": "2024-01-29T13:19:00.013Z"
   },
   {
    "duration": 23,
    "start_time": "2024-01-29T13:19:00.055Z"
   },
   {
    "duration": 40,
    "start_time": "2024-01-29T13:19:00.080Z"
   },
   {
    "duration": 95,
    "start_time": "2024-01-29T13:19:00.123Z"
   },
   {
    "duration": 109,
    "start_time": "2024-01-29T13:19:00.220Z"
   },
   {
    "duration": 141,
    "start_time": "2024-01-29T13:19:00.333Z"
   },
   {
    "duration": 114,
    "start_time": "2024-01-29T13:19:00.476Z"
   },
   {
    "duration": 228,
    "start_time": "2024-01-29T13:19:00.593Z"
   },
   {
    "duration": 151,
    "start_time": "2024-01-29T13:19:00.825Z"
   },
   {
    "duration": 101,
    "start_time": "2024-01-29T13:19:00.983Z"
   },
   {
    "duration": 188,
    "start_time": "2024-01-29T13:19:01.086Z"
   },
   {
    "duration": 5,
    "start_time": "2024-01-29T13:19:01.276Z"
   },
   {
    "duration": 185,
    "start_time": "2024-01-29T13:19:01.284Z"
   },
   {
    "duration": 40,
    "start_time": "2024-01-29T13:19:01.470Z"
   },
   {
    "duration": 24,
    "start_time": "2024-01-29T13:19:01.512Z"
   },
   {
    "duration": 696,
    "start_time": "2024-01-29T13:19:01.538Z"
   },
   {
    "duration": 4,
    "start_time": "2024-01-29T13:19:02.236Z"
   },
   {
    "duration": 24,
    "start_time": "2024-01-29T13:19:02.242Z"
   },
   {
    "duration": 23,
    "start_time": "2024-01-29T13:19:02.268Z"
   },
   {
    "duration": 131,
    "start_time": "2024-01-29T13:19:02.293Z"
   },
   {
    "duration": 11,
    "start_time": "2024-01-29T13:19:11.770Z"
   },
   {
    "duration": 17,
    "start_time": "2024-01-29T13:19:25.631Z"
   },
   {
    "duration": 4,
    "start_time": "2024-01-29T13:19:44.579Z"
   },
   {
    "duration": 3,
    "start_time": "2024-01-29T13:19:44.759Z"
   },
   {
    "duration": 4,
    "start_time": "2024-01-29T13:19:45.545Z"
   },
   {
    "duration": 1141,
    "start_time": "2024-01-29T13:19:45.785Z"
   },
   {
    "duration": 1146,
    "start_time": "2024-01-29T13:20:05.981Z"
   },
   {
    "duration": 11,
    "start_time": "2024-01-29T13:24:50.882Z"
   },
   {
    "duration": 4,
    "start_time": "2024-01-29T13:24:53.478Z"
   },
   {
    "duration": 5,
    "start_time": "2024-01-29T13:24:54.214Z"
   },
   {
    "duration": 12,
    "start_time": "2024-01-29T13:24:54.543Z"
   },
   {
    "duration": 1140,
    "start_time": "2024-01-29T13:25:05.128Z"
   },
   {
    "duration": 1122,
    "start_time": "2024-01-29T13:25:10.104Z"
   },
   {
    "duration": 1153,
    "start_time": "2024-01-29T13:25:13.173Z"
   },
   {
    "duration": 1113,
    "start_time": "2024-01-29T13:25:16.982Z"
   },
   {
    "duration": 1114,
    "start_time": "2024-01-29T13:25:40.834Z"
   },
   {
    "duration": 1156,
    "start_time": "2024-01-29T13:28:02.046Z"
   },
   {
    "duration": 69,
    "start_time": "2024-01-29T13:28:11.847Z"
   },
   {
    "duration": 1132,
    "start_time": "2024-01-29T13:28:17.210Z"
   },
   {
    "duration": 1144,
    "start_time": "2024-01-29T13:28:25.273Z"
   },
   {
    "duration": 1134,
    "start_time": "2024-01-29T13:28:47.625Z"
   },
   {
    "duration": 1112,
    "start_time": "2024-01-29T13:29:01.492Z"
   },
   {
    "duration": 1120,
    "start_time": "2024-01-29T13:29:08.295Z"
   },
   {
    "duration": 66,
    "start_time": "2024-01-29T13:29:14.115Z"
   },
   {
    "duration": 1126,
    "start_time": "2024-01-29T13:29:17.797Z"
   },
   {
    "duration": 1119,
    "start_time": "2024-01-29T13:30:27.907Z"
   },
   {
    "duration": 1141,
    "start_time": "2024-01-29T13:31:12.521Z"
   },
   {
    "duration": 1122,
    "start_time": "2024-01-29T13:31:34.992Z"
   },
   {
    "duration": 1128,
    "start_time": "2024-01-29T13:31:39.820Z"
   },
   {
    "duration": 1164,
    "start_time": "2024-01-29T13:32:04.245Z"
   },
   {
    "duration": 1147,
    "start_time": "2024-01-29T13:33:01.361Z"
   },
   {
    "duration": 18,
    "start_time": "2024-01-29T13:33:02.510Z"
   },
   {
    "duration": 1145,
    "start_time": "2024-01-29T13:33:02.616Z"
   },
   {
    "duration": 1128,
    "start_time": "2024-01-29T13:33:33.063Z"
   },
   {
    "duration": 1150,
    "start_time": "2024-01-29T13:33:36.433Z"
   },
   {
    "duration": 1132,
    "start_time": "2024-01-29T13:33:37.585Z"
   },
   {
    "duration": 1125,
    "start_time": "2024-01-29T13:33:38.719Z"
   },
   {
    "duration": 70,
    "start_time": "2024-01-29T13:34:44.404Z"
   },
   {
    "duration": 1144,
    "start_time": "2024-01-29T13:35:05.713Z"
   },
   {
    "duration": 5,
    "start_time": "2024-01-29T13:35:22.445Z"
   },
   {
    "duration": 4,
    "start_time": "2024-01-29T13:35:49.572Z"
   },
   {
    "duration": 4,
    "start_time": "2024-01-29T13:36:02.834Z"
   },
   {
    "duration": 4,
    "start_time": "2024-01-29T13:36:23.427Z"
   },
   {
    "duration": 4,
    "start_time": "2024-01-29T13:36:34.220Z"
   },
   {
    "duration": 1115,
    "start_time": "2024-01-29T13:38:17.660Z"
   },
   {
    "duration": 1115,
    "start_time": "2024-01-29T13:38:38.038Z"
   },
   {
    "duration": 1149,
    "start_time": "2024-01-29T13:38:55.379Z"
   },
   {
    "duration": 4,
    "start_time": "2024-01-29T13:38:56.529Z"
   },
   {
    "duration": 5,
    "start_time": "2024-01-29T13:39:50.419Z"
   },
   {
    "duration": 6,
    "start_time": "2024-01-29T13:40:15.827Z"
   },
   {
    "duration": 6,
    "start_time": "2024-01-29T13:40:20.971Z"
   },
   {
    "duration": 5,
    "start_time": "2024-01-29T13:40:46.748Z"
   },
   {
    "duration": 1385,
    "start_time": "2024-01-29T13:51:51.610Z"
   },
   {
    "duration": 427,
    "start_time": "2024-01-29T13:51:52.997Z"
   },
   {
    "duration": 14,
    "start_time": "2024-01-29T13:51:53.425Z"
   },
   {
    "duration": 5,
    "start_time": "2024-01-29T13:51:53.441Z"
   },
   {
    "duration": 10,
    "start_time": "2024-01-29T13:51:53.448Z"
   },
   {
    "duration": 15,
    "start_time": "2024-01-29T13:51:53.460Z"
   },
   {
    "duration": 14,
    "start_time": "2024-01-29T13:51:53.477Z"
   },
   {
    "duration": 12,
    "start_time": "2024-01-29T13:51:53.493Z"
   },
   {
    "duration": 40,
    "start_time": "2024-01-29T13:51:53.507Z"
   },
   {
    "duration": 145,
    "start_time": "2024-01-29T13:51:53.550Z"
   },
   {
    "duration": 5,
    "start_time": "2024-01-29T13:51:53.696Z"
   },
   {
    "duration": 15,
    "start_time": "2024-01-29T13:51:53.702Z"
   },
   {
    "duration": 5,
    "start_time": "2024-01-29T13:51:53.718Z"
   },
   {
    "duration": 381,
    "start_time": "2024-01-29T13:51:53.724Z"
   },
   {
    "duration": 316,
    "start_time": "2024-01-29T13:51:54.107Z"
   },
   {
    "duration": 350,
    "start_time": "2024-01-29T13:51:54.425Z"
   },
   {
    "duration": 5093,
    "start_time": "2024-01-29T13:51:54.777Z"
   },
   {
    "duration": 4981,
    "start_time": "2024-01-29T13:51:59.872Z"
   },
   {
    "duration": 5103,
    "start_time": "2024-01-29T13:52:04.854Z"
   },
   {
    "duration": 15,
    "start_time": "2024-01-29T13:52:09.959Z"
   },
   {
    "duration": 15,
    "start_time": "2024-01-29T13:52:09.975Z"
   },
   {
    "duration": 15,
    "start_time": "2024-01-29T13:52:09.992Z"
   },
   {
    "duration": 24,
    "start_time": "2024-01-29T13:52:10.008Z"
   },
   {
    "duration": 23,
    "start_time": "2024-01-29T13:52:10.033Z"
   },
   {
    "duration": 30,
    "start_time": "2024-01-29T13:52:10.058Z"
   },
   {
    "duration": 46,
    "start_time": "2024-01-29T13:52:10.090Z"
   },
   {
    "duration": 35,
    "start_time": "2024-01-29T13:52:10.138Z"
   },
   {
    "duration": 18,
    "start_time": "2024-01-29T13:52:10.176Z"
   },
   {
    "duration": 81,
    "start_time": "2024-01-29T13:52:10.196Z"
   },
   {
    "duration": 198,
    "start_time": "2024-01-29T13:52:10.279Z"
   },
   {
    "duration": 99,
    "start_time": "2024-01-29T13:52:10.479Z"
   },
   {
    "duration": 200,
    "start_time": "2024-01-29T13:52:10.580Z"
   },
   {
    "duration": 191,
    "start_time": "2024-01-29T13:52:10.782Z"
   },
   {
    "duration": 10,
    "start_time": "2024-01-29T13:52:10.976Z"
   },
   {
    "duration": 86,
    "start_time": "2024-01-29T13:52:10.988Z"
   },
   {
    "duration": 17,
    "start_time": "2024-01-29T13:52:11.076Z"
   },
   {
    "duration": 7,
    "start_time": "2024-01-29T13:52:11.095Z"
   },
   {
    "duration": 643,
    "start_time": "2024-01-29T13:52:11.103Z"
   },
   {
    "duration": 5,
    "start_time": "2024-01-29T13:52:11.747Z"
   },
   {
    "duration": 21,
    "start_time": "2024-01-29T13:52:11.753Z"
   },
   {
    "duration": 1132,
    "start_time": "2024-01-29T13:52:11.775Z"
   },
   {
    "duration": 1145,
    "start_time": "2024-01-29T13:52:12.909Z"
   },
   {
    "duration": 1126,
    "start_time": "2024-01-29T13:52:14.055Z"
   },
   {
    "duration": 4,
    "start_time": "2024-01-29T13:52:15.183Z"
   },
   {
    "duration": 52,
    "start_time": "2024-01-29T13:52:15.189Z"
   },
   {
    "duration": 1685,
    "start_time": "2024-01-30T11:52:49.178Z"
   },
   {
    "duration": 1990,
    "start_time": "2024-01-30T11:52:50.864Z"
   },
   {
    "duration": 14,
    "start_time": "2024-01-30T11:52:52.856Z"
   },
   {
    "duration": 6,
    "start_time": "2024-01-30T11:52:52.872Z"
   },
   {
    "duration": 10,
    "start_time": "2024-01-30T11:52:52.880Z"
   },
   {
    "duration": 6,
    "start_time": "2024-01-30T11:52:52.892Z"
   },
   {
    "duration": 10,
    "start_time": "2024-01-30T11:52:52.900Z"
   },
   {
    "duration": 7,
    "start_time": "2024-01-30T11:52:52.911Z"
   },
   {
    "duration": 41,
    "start_time": "2024-01-30T11:52:52.920Z"
   },
   {
    "duration": 143,
    "start_time": "2024-01-30T11:52:52.963Z"
   },
   {
    "duration": 6,
    "start_time": "2024-01-30T11:52:53.108Z"
   },
   {
    "duration": 33,
    "start_time": "2024-01-30T11:52:53.115Z"
   },
   {
    "duration": 15,
    "start_time": "2024-01-30T11:52:53.150Z"
   },
   {
    "duration": 387,
    "start_time": "2024-01-30T11:52:53.166Z"
   },
   {
    "duration": 336,
    "start_time": "2024-01-30T11:52:53.555Z"
   },
   {
    "duration": 313,
    "start_time": "2024-01-30T11:52:53.892Z"
   },
   {
    "duration": 5026,
    "start_time": "2024-01-30T11:52:54.207Z"
   },
   {
    "duration": 4829,
    "start_time": "2024-01-30T11:52:59.236Z"
   },
   {
    "duration": 5025,
    "start_time": "2024-01-30T11:53:04.067Z"
   },
   {
    "duration": 3,
    "start_time": "2024-01-30T11:53:09.094Z"
   },
   {
    "duration": 10,
    "start_time": "2024-01-30T11:53:09.098Z"
   },
   {
    "duration": 14,
    "start_time": "2024-01-30T11:53:09.110Z"
   },
   {
    "duration": 13,
    "start_time": "2024-01-30T11:53:09.125Z"
   },
   {
    "duration": 9,
    "start_time": "2024-01-30T11:53:09.139Z"
   },
   {
    "duration": 31,
    "start_time": "2024-01-30T11:53:09.150Z"
   },
   {
    "duration": 29,
    "start_time": "2024-01-30T11:53:09.183Z"
   },
   {
    "duration": 28,
    "start_time": "2024-01-30T11:53:09.214Z"
   },
   {
    "duration": 39,
    "start_time": "2024-01-30T11:53:09.245Z"
   },
   {
    "duration": 100,
    "start_time": "2024-01-30T11:53:09.287Z"
   },
   {
    "duration": 14,
    "start_time": "2024-01-30T11:53:09.481Z"
   },
   {
    "duration": 99,
    "start_time": "2024-01-30T11:53:09.581Z"
   },
   {
    "duration": 101,
    "start_time": "2024-01-30T11:53:09.683Z"
   },
   {
    "duration": 198,
    "start_time": "2024-01-30T11:53:09.786Z"
   },
   {
    "duration": 5,
    "start_time": "2024-01-30T11:53:09.987Z"
   },
   {
    "duration": 86,
    "start_time": "2024-01-30T11:53:09.995Z"
   },
   {
    "duration": 98,
    "start_time": "2024-01-30T11:53:10.084Z"
   },
   {
    "duration": 6,
    "start_time": "2024-01-30T11:53:10.184Z"
   },
   {
    "duration": 649,
    "start_time": "2024-01-30T11:53:10.192Z"
   },
   {
    "duration": 4,
    "start_time": "2024-01-30T11:53:10.843Z"
   },
   {
    "duration": 40,
    "start_time": "2024-01-30T11:53:10.848Z"
   },
   {
    "duration": 1146,
    "start_time": "2024-01-30T11:53:10.890Z"
   },
   {
    "duration": 1147,
    "start_time": "2024-01-30T11:53:12.038Z"
   },
   {
    "duration": 1131,
    "start_time": "2024-01-30T11:53:13.187Z"
   },
   {
    "duration": 4,
    "start_time": "2024-01-30T11:53:14.320Z"
   },
   {
    "duration": 25,
    "start_time": "2024-01-30T11:53:14.326Z"
   }
  ],
  "kernelspec": {
   "display_name": "Python 3 (ipykernel)",
   "language": "python",
   "name": "python3"
  },
  "language_info": {
   "codemirror_mode": {
    "name": "ipython",
    "version": 3
   },
   "file_extension": ".py",
   "mimetype": "text/x-python",
   "name": "python",
   "nbconvert_exporter": "python",
   "pygments_lexer": "ipython3",
   "version": "3.10.9"
  },
  "toc": {
   "base_numbering": 1,
   "nav_menu": {},
   "number_sections": true,
   "sideBar": true,
   "skip_h1_title": true,
   "title_cell": "Table of Contents",
   "title_sidebar": "Contents",
   "toc_cell": false,
   "toc_position": {},
   "toc_section_display": true,
   "toc_window_display": false
  }
 },
 "nbformat": 4,
 "nbformat_minor": 2
}
