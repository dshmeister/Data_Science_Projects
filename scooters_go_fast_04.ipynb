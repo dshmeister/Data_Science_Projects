{
 "cells": [
  {
   "cell_type": "markdown",
   "id": "72ca8d59",
   "metadata": {},
   "source": [
    "**Вступление:**\n",
    "Вы аналитик популярного сервиса аренды самокатов GoFast. Вам передали данные о некоторых пользователях из нескольких городов, а также об их поездках. Проанализируйте данные и проверьте некоторые гипотезы, которые могут помочь бизнесу вырасти.\n",
    "Чтобы совершать поездки по городу, пользователи сервиса GoFast пользуются мобильным приложением. **Сервисом можно пользоваться:**\n",
    "\n",
    "\n",
    "**без подписки**\n",
    "- абонентская плата отсутствует;\n",
    "- стоимость одной минуты поездки — 8 рублей;\n",
    "- стоимость старта (начала поездки) — 50 рублей;\n",
    "\n",
    "\n",
    "**с подпиской Ultra**\n",
    "- абонентская плата — 199 рублей в месяц;\n",
    "- стоимость одной минуты поездки — 6 рублей;\n",
    "- стоимость старта — бесплатно.\n",
    "\n",
    "\n",
    "Нам передали данные о некоторых пользователях из нескольких городов, а также об их поездках. Проанализируем данные и проверим некоторые гипотезы, которые могут помочь бизнесу вырасти.\n",
    "\n",
    "**Наша работа будет включать в себя 6 пунктов:**\n",
    "\n",
    "- предобработка данных\n",
    "- исследовательский анализ\n",
    "- объединения данных, так как данные расположены в нескольких таблицах\n",
    "- подсчет выручки\n",
    "- проверка гипотез\n",
    "- дополнительные исследования"
   ]
  },
  {
   "cell_type": "markdown",
   "id": "7c122fe7",
   "metadata": {},
   "source": [
    "#### Шаг 1. Загрузка данных"
   ]
  },
  {
   "cell_type": "code",
   "execution_count": 1,
   "id": "8092739a",
   "metadata": {},
   "outputs": [],
   "source": [
    "import pandas as pd\n",
    "import numpy as np"
   ]
  },
  {
   "cell_type": "markdown",
   "id": "c4521916",
   "metadata": {},
   "source": [
    "Подключаем все необходимые библиотеки для работы с данными."
   ]
  },
  {
   "cell_type": "markdown",
   "id": "a46e46a0",
   "metadata": {},
   "source": [
    "- 1.1 Считайте CSV-файлы с данными с помощью библиотеки pandas и сохраните их в датафреймы. Пути к файлам:"
   ]
  },
  {
   "cell_type": "code",
   "execution_count": 2,
   "id": "63a479d9",
   "metadata": {},
   "outputs": [],
   "source": [
    "users_data = pd.read_csv('/datasets/users_go.csv')\n",
    "\n",
    "rides_data = pd.read_csv('/datasets/rides_go.csv')\n",
    "\n",
    "subs_data = pd.read_csv('/datasets/subscriptions_go.csv')"
   ]
  },
  {
   "cell_type": "markdown",
   "id": "e3bd07b5",
   "metadata": {},
   "source": [
    "- 1.2 Выведите первые строки каждого набора данных. Изучите общую информацию о каждом датафрейме."
   ]
  },
  {
   "cell_type": "code",
   "execution_count": 3,
   "id": "2f75dcc7",
   "metadata": {
    "scrolled": true
   },
   "outputs": [
    {
     "data": {
      "text/html": [
       "<div>\n",
       "<style scoped>\n",
       "    .dataframe tbody tr th:only-of-type {\n",
       "        vertical-align: middle;\n",
       "    }\n",
       "\n",
       "    .dataframe tbody tr th {\n",
       "        vertical-align: top;\n",
       "    }\n",
       "\n",
       "    .dataframe thead th {\n",
       "        text-align: right;\n",
       "    }\n",
       "</style>\n",
       "<table border=\"1\" class=\"dataframe\">\n",
       "  <thead>\n",
       "    <tr style=\"text-align: right;\">\n",
       "      <th></th>\n",
       "      <th>user_id</th>\n",
       "      <th>name</th>\n",
       "      <th>age</th>\n",
       "      <th>city</th>\n",
       "      <th>subscription_type</th>\n",
       "    </tr>\n",
       "  </thead>\n",
       "  <tbody>\n",
       "    <tr>\n",
       "      <th>0</th>\n",
       "      <td>1</td>\n",
       "      <td>Кира</td>\n",
       "      <td>22</td>\n",
       "      <td>Тюмень</td>\n",
       "      <td>ultra</td>\n",
       "    </tr>\n",
       "    <tr>\n",
       "      <th>1</th>\n",
       "      <td>2</td>\n",
       "      <td>Станислав</td>\n",
       "      <td>31</td>\n",
       "      <td>Омск</td>\n",
       "      <td>ultra</td>\n",
       "    </tr>\n",
       "    <tr>\n",
       "      <th>2</th>\n",
       "      <td>3</td>\n",
       "      <td>Алексей</td>\n",
       "      <td>20</td>\n",
       "      <td>Москва</td>\n",
       "      <td>ultra</td>\n",
       "    </tr>\n",
       "    <tr>\n",
       "      <th>3</th>\n",
       "      <td>4</td>\n",
       "      <td>Константин</td>\n",
       "      <td>26</td>\n",
       "      <td>Ростов-на-Дону</td>\n",
       "      <td>ultra</td>\n",
       "    </tr>\n",
       "    <tr>\n",
       "      <th>4</th>\n",
       "      <td>5</td>\n",
       "      <td>Адель</td>\n",
       "      <td>28</td>\n",
       "      <td>Омск</td>\n",
       "      <td>ultra</td>\n",
       "    </tr>\n",
       "  </tbody>\n",
       "</table>\n",
       "</div>"
      ],
      "text/plain": [
       "   user_id        name  age            city subscription_type\n",
       "0        1        Кира   22          Тюмень             ultra\n",
       "1        2   Станислав   31            Омск             ultra\n",
       "2        3     Алексей   20          Москва             ultra\n",
       "3        4  Константин   26  Ростов-на-Дону             ultra\n",
       "4        5       Адель   28            Омск             ultra"
      ]
     },
     "execution_count": 3,
     "metadata": {},
     "output_type": "execute_result"
    }
   ],
   "source": [
    "users_data.head()"
   ]
  },
  {
   "cell_type": "markdown",
   "id": "c82fca9c",
   "metadata": {},
   "source": [
    "В датафрейме `users` есть следующие данные:\n",
    "- user_id (id пользователя)\n",
    "- name (имя)\n",
    "- age (возраст)\n",
    "- city (город проживания)\n",
    "- subscription_type (тип подписки: бесплатная/ультра)"
   ]
  },
  {
   "cell_type": "code",
   "execution_count": 4,
   "id": "e26f80fe",
   "metadata": {},
   "outputs": [
    {
     "data": {
      "text/html": [
       "<div>\n",
       "<style scoped>\n",
       "    .dataframe tbody tr th:only-of-type {\n",
       "        vertical-align: middle;\n",
       "    }\n",
       "\n",
       "    .dataframe tbody tr th {\n",
       "        vertical-align: top;\n",
       "    }\n",
       "\n",
       "    .dataframe thead th {\n",
       "        text-align: right;\n",
       "    }\n",
       "</style>\n",
       "<table border=\"1\" class=\"dataframe\">\n",
       "  <thead>\n",
       "    <tr style=\"text-align: right;\">\n",
       "      <th></th>\n",
       "      <th>user_id</th>\n",
       "      <th>distance</th>\n",
       "      <th>duration</th>\n",
       "      <th>date</th>\n",
       "    </tr>\n",
       "  </thead>\n",
       "  <tbody>\n",
       "    <tr>\n",
       "      <th>0</th>\n",
       "      <td>1</td>\n",
       "      <td>4409.919140</td>\n",
       "      <td>25.599769</td>\n",
       "      <td>2021-01-01</td>\n",
       "    </tr>\n",
       "    <tr>\n",
       "      <th>1</th>\n",
       "      <td>1</td>\n",
       "      <td>2617.592153</td>\n",
       "      <td>15.816871</td>\n",
       "      <td>2021-01-18</td>\n",
       "    </tr>\n",
       "    <tr>\n",
       "      <th>2</th>\n",
       "      <td>1</td>\n",
       "      <td>754.159807</td>\n",
       "      <td>6.232113</td>\n",
       "      <td>2021-04-20</td>\n",
       "    </tr>\n",
       "    <tr>\n",
       "      <th>3</th>\n",
       "      <td>1</td>\n",
       "      <td>2694.783254</td>\n",
       "      <td>18.511000</td>\n",
       "      <td>2021-08-11</td>\n",
       "    </tr>\n",
       "    <tr>\n",
       "      <th>4</th>\n",
       "      <td>1</td>\n",
       "      <td>4028.687306</td>\n",
       "      <td>26.265803</td>\n",
       "      <td>2021-08-28</td>\n",
       "    </tr>\n",
       "  </tbody>\n",
       "</table>\n",
       "</div>"
      ],
      "text/plain": [
       "   user_id     distance   duration        date\n",
       "0        1  4409.919140  25.599769  2021-01-01\n",
       "1        1  2617.592153  15.816871  2021-01-18\n",
       "2        1   754.159807   6.232113  2021-04-20\n",
       "3        1  2694.783254  18.511000  2021-08-11\n",
       "4        1  4028.687306  26.265803  2021-08-28"
      ]
     },
     "execution_count": 4,
     "metadata": {},
     "output_type": "execute_result"
    }
   ],
   "source": [
    "rides_data.head()"
   ]
  },
  {
   "cell_type": "markdown",
   "id": "1b491f08",
   "metadata": {},
   "source": [
    "В датафрейме `rides` есть следующие данные:\n",
    "- user_id (id пользователя)\n",
    "- distance (пройденная дистанция)\n",
    "- duration (продолжительность поездки)\n",
    "- date (дата поездки)"
   ]
  },
  {
   "cell_type": "code",
   "execution_count": 5,
   "id": "6e23c3d1",
   "metadata": {},
   "outputs": [
    {
     "data": {
      "text/html": [
       "<div>\n",
       "<style scoped>\n",
       "    .dataframe tbody tr th:only-of-type {\n",
       "        vertical-align: middle;\n",
       "    }\n",
       "\n",
       "    .dataframe tbody tr th {\n",
       "        vertical-align: top;\n",
       "    }\n",
       "\n",
       "    .dataframe thead th {\n",
       "        text-align: right;\n",
       "    }\n",
       "</style>\n",
       "<table border=\"1\" class=\"dataframe\">\n",
       "  <thead>\n",
       "    <tr style=\"text-align: right;\">\n",
       "      <th></th>\n",
       "      <th>subscription_type</th>\n",
       "      <th>minute_price</th>\n",
       "      <th>start_ride_price</th>\n",
       "      <th>subscription_fee</th>\n",
       "    </tr>\n",
       "  </thead>\n",
       "  <tbody>\n",
       "    <tr>\n",
       "      <th>0</th>\n",
       "      <td>free</td>\n",
       "      <td>8</td>\n",
       "      <td>50</td>\n",
       "      <td>0</td>\n",
       "    </tr>\n",
       "    <tr>\n",
       "      <th>1</th>\n",
       "      <td>ultra</td>\n",
       "      <td>6</td>\n",
       "      <td>0</td>\n",
       "      <td>199</td>\n",
       "    </tr>\n",
       "  </tbody>\n",
       "</table>\n",
       "</div>"
      ],
      "text/plain": [
       "  subscription_type  minute_price  start_ride_price  subscription_fee\n",
       "0              free             8                50                 0\n",
       "1             ultra             6                 0               199"
      ]
     },
     "execution_count": 5,
     "metadata": {},
     "output_type": "execute_result"
    }
   ],
   "source": [
    "subs_data.head()"
   ]
  },
  {
   "cell_type": "markdown",
   "id": "8fa25aec",
   "metadata": {},
   "source": [
    "В датафрейме `subscriptions_go` есть следующие данные:\n",
    "- subscription_type (тип подписки)\n",
    "- minute_price (стоимость за минуту)\n",
    "- start_ride_price (стоимость за старт)\n",
    "- subscription_fee (стоимость подписки)"
   ]
  },
  {
   "cell_type": "code",
   "execution_count": 61,
   "id": "8fe9c849",
   "metadata": {},
   "outputs": [
    {
     "name": "stdout",
     "output_type": "stream",
     "text": [
      "<class 'pandas.core.frame.DataFrame'>\n",
      "Int64Index: 1534 entries, 0 to 1533\n",
      "Data columns (total 5 columns):\n",
      " #   Column             Non-Null Count  Dtype \n",
      "---  ------             --------------  ----- \n",
      " 0   user_id            1534 non-null   int64 \n",
      " 1   name               1534 non-null   object\n",
      " 2   age                1534 non-null   int64 \n",
      " 3   city               1534 non-null   object\n",
      " 4   subscription_type  1534 non-null   object\n",
      "dtypes: int64(2), object(3)\n",
      "memory usage: 71.9+ KB\n",
      "None\n",
      "<class 'pandas.core.frame.DataFrame'>\n",
      "RangeIndex: 18068 entries, 0 to 18067\n",
      "Data columns (total 5 columns):\n",
      " #   Column    Non-Null Count  Dtype         \n",
      "---  ------    --------------  -----         \n",
      " 0   user_id   18068 non-null  int64         \n",
      " 1   distance  18068 non-null  float64       \n",
      " 2   duration  18068 non-null  float64       \n",
      " 3   date      18068 non-null  datetime64[ns]\n",
      " 4   month     18068 non-null  int64         \n",
      "dtypes: datetime64[ns](1), float64(2), int64(2)\n",
      "memory usage: 705.9 KB\n",
      "None\n",
      "<class 'pandas.core.frame.DataFrame'>\n",
      "RangeIndex: 2 entries, 0 to 1\n",
      "Data columns (total 4 columns):\n",
      " #   Column             Non-Null Count  Dtype \n",
      "---  ------             --------------  ----- \n",
      " 0   subscription_type  2 non-null      object\n",
      " 1   minute_price       2 non-null      int64 \n",
      " 2   start_ride_price   2 non-null      int64 \n",
      " 3   subscription_fee   2 non-null      int64 \n",
      "dtypes: int64(3), object(1)\n",
      "memory usage: 192.0+ bytes\n",
      "None\n"
     ]
    }
   ],
   "source": [
    "print(users_data.info())\n",
    "print(rides_data.info())\n",
    "print(subs_data.info())"
   ]
  },
  {
   "cell_type": "markdown",
   "id": "bed6b648",
   "metadata": {},
   "source": [
    "Вывели общую информацию о датафрейме, - с данными все на первый взгляд в порядке"
   ]
  },
  {
   "cell_type": "markdown",
   "id": "a26f2b2f",
   "metadata": {},
   "source": [
    "**Вывод:** по структуре в этих датафреймах все понятно, будем работать дальше."
   ]
  },
  {
   "cell_type": "markdown",
   "id": "fb2a9c9b",
   "metadata": {},
   "source": [
    "#### Шаг 2. Предобработка данных"
   ]
  },
  {
   "cell_type": "markdown",
   "id": "56fbaeb7",
   "metadata": {},
   "source": [
    "- 2.1 Приведите столбец date к типу даты pandas."
   ]
  },
  {
   "cell_type": "code",
   "execution_count": 6,
   "id": "c21d3f2c",
   "metadata": {
    "scrolled": true
   },
   "outputs": [
    {
     "data": {
      "text/html": [
       "<div>\n",
       "<style scoped>\n",
       "    .dataframe tbody tr th:only-of-type {\n",
       "        vertical-align: middle;\n",
       "    }\n",
       "\n",
       "    .dataframe tbody tr th {\n",
       "        vertical-align: top;\n",
       "    }\n",
       "\n",
       "    .dataframe thead th {\n",
       "        text-align: right;\n",
       "    }\n",
       "</style>\n",
       "<table border=\"1\" class=\"dataframe\">\n",
       "  <thead>\n",
       "    <tr style=\"text-align: right;\">\n",
       "      <th></th>\n",
       "      <th>user_id</th>\n",
       "      <th>distance</th>\n",
       "      <th>duration</th>\n",
       "      <th>date</th>\n",
       "    </tr>\n",
       "  </thead>\n",
       "  <tbody>\n",
       "    <tr>\n",
       "      <th>0</th>\n",
       "      <td>1</td>\n",
       "      <td>4409.919140</td>\n",
       "      <td>25.599769</td>\n",
       "      <td>2021-01-01</td>\n",
       "    </tr>\n",
       "    <tr>\n",
       "      <th>1</th>\n",
       "      <td>1</td>\n",
       "      <td>2617.592153</td>\n",
       "      <td>15.816871</td>\n",
       "      <td>2021-01-18</td>\n",
       "    </tr>\n",
       "    <tr>\n",
       "      <th>2</th>\n",
       "      <td>1</td>\n",
       "      <td>754.159807</td>\n",
       "      <td>6.232113</td>\n",
       "      <td>2021-04-20</td>\n",
       "    </tr>\n",
       "    <tr>\n",
       "      <th>3</th>\n",
       "      <td>1</td>\n",
       "      <td>2694.783254</td>\n",
       "      <td>18.511000</td>\n",
       "      <td>2021-08-11</td>\n",
       "    </tr>\n",
       "    <tr>\n",
       "      <th>4</th>\n",
       "      <td>1</td>\n",
       "      <td>4028.687306</td>\n",
       "      <td>26.265803</td>\n",
       "      <td>2021-08-28</td>\n",
       "    </tr>\n",
       "    <tr>\n",
       "      <th>5</th>\n",
       "      <td>1</td>\n",
       "      <td>2770.890808</td>\n",
       "      <td>16.650138</td>\n",
       "      <td>2021-10-09</td>\n",
       "    </tr>\n",
       "    <tr>\n",
       "      <th>6</th>\n",
       "      <td>1</td>\n",
       "      <td>3039.020292</td>\n",
       "      <td>14.927879</td>\n",
       "      <td>2021-10-19</td>\n",
       "    </tr>\n",
       "    <tr>\n",
       "      <th>7</th>\n",
       "      <td>1</td>\n",
       "      <td>2842.118050</td>\n",
       "      <td>23.117468</td>\n",
       "      <td>2021-11-06</td>\n",
       "    </tr>\n",
       "    <tr>\n",
       "      <th>8</th>\n",
       "      <td>1</td>\n",
       "      <td>3412.690668</td>\n",
       "      <td>15.238072</td>\n",
       "      <td>2021-11-14</td>\n",
       "    </tr>\n",
       "    <tr>\n",
       "      <th>9</th>\n",
       "      <td>1</td>\n",
       "      <td>748.690645</td>\n",
       "      <td>15.041884</td>\n",
       "      <td>2021-11-22</td>\n",
       "    </tr>\n",
       "    <tr>\n",
       "      <th>10</th>\n",
       "      <td>1</td>\n",
       "      <td>4031.020195</td>\n",
       "      <td>17.674448</td>\n",
       "      <td>2021-12-14</td>\n",
       "    </tr>\n",
       "    <tr>\n",
       "      <th>11</th>\n",
       "      <td>1</td>\n",
       "      <td>2720.609748</td>\n",
       "      <td>9.529463</td>\n",
       "      <td>2021-12-22</td>\n",
       "    </tr>\n",
       "    <tr>\n",
       "      <th>12</th>\n",
       "      <td>2</td>\n",
       "      <td>3105.086678</td>\n",
       "      <td>24.307514</td>\n",
       "      <td>2021-03-15</td>\n",
       "    </tr>\n",
       "    <tr>\n",
       "      <th>13</th>\n",
       "      <td>2</td>\n",
       "      <td>3053.519401</td>\n",
       "      <td>11.543256</td>\n",
       "      <td>2021-03-18</td>\n",
       "    </tr>\n",
       "    <tr>\n",
       "      <th>14</th>\n",
       "      <td>2</td>\n",
       "      <td>4029.116927</td>\n",
       "      <td>25.109188</td>\n",
       "      <td>2021-03-23</td>\n",
       "    </tr>\n",
       "  </tbody>\n",
       "</table>\n",
       "</div>"
      ],
      "text/plain": [
       "    user_id     distance   duration        date\n",
       "0         1  4409.919140  25.599769  2021-01-01\n",
       "1         1  2617.592153  15.816871  2021-01-18\n",
       "2         1   754.159807   6.232113  2021-04-20\n",
       "3         1  2694.783254  18.511000  2021-08-11\n",
       "4         1  4028.687306  26.265803  2021-08-28\n",
       "5         1  2770.890808  16.650138  2021-10-09\n",
       "6         1  3039.020292  14.927879  2021-10-19\n",
       "7         1  2842.118050  23.117468  2021-11-06\n",
       "8         1  3412.690668  15.238072  2021-11-14\n",
       "9         1   748.690645  15.041884  2021-11-22\n",
       "10        1  4031.020195  17.674448  2021-12-14\n",
       "11        1  2720.609748   9.529463  2021-12-22\n",
       "12        2  3105.086678  24.307514  2021-03-15\n",
       "13        2  3053.519401  11.543256  2021-03-18\n",
       "14        2  4029.116927  25.109188  2021-03-23"
      ]
     },
     "execution_count": 6,
     "metadata": {},
     "output_type": "execute_result"
    }
   ],
   "source": [
    "rides_data.head(15)"
   ]
  },
  {
   "cell_type": "code",
   "execution_count": 7,
   "id": "15488640",
   "metadata": {
    "scrolled": true
   },
   "outputs": [
    {
     "data": {
      "text/plain": [
       "array(['2021-12-30', '2021-12-29', '2021-12-28', '2021-12-27',\n",
       "       '2021-12-26', '2021-12-25', '2021-12-24', '2021-12-23',\n",
       "       '2021-12-22', '2021-12-21', '2021-12-20', '2021-12-19',\n",
       "       '2021-12-18', '2021-12-17', '2021-12-16', '2021-12-15',\n",
       "       '2021-12-14', '2021-12-13', '2021-12-12', '2021-12-11',\n",
       "       '2021-12-10', '2021-12-09', '2021-12-08', '2021-12-07',\n",
       "       '2021-12-06', '2021-12-05', '2021-12-04', '2021-12-03',\n",
       "       '2021-12-02', '2021-12-01', '2021-11-30', '2021-11-29',\n",
       "       '2021-11-28', '2021-11-27', '2021-11-26', '2021-11-25',\n",
       "       '2021-11-24', '2021-11-23', '2021-11-22', '2021-11-21',\n",
       "       '2021-11-20', '2021-11-19', '2021-11-18', '2021-11-17',\n",
       "       '2021-11-16', '2021-11-15', '2021-11-14', '2021-11-13',\n",
       "       '2021-11-12', '2021-11-11', '2021-11-10', '2021-11-09',\n",
       "       '2021-11-08', '2021-11-07', '2021-11-06', '2021-11-05',\n",
       "       '2021-11-04', '2021-11-03', '2021-11-02', '2021-11-01',\n",
       "       '2021-10-31', '2021-10-30', '2021-10-29', '2021-10-28',\n",
       "       '2021-10-27', '2021-10-26', '2021-10-25', '2021-10-24',\n",
       "       '2021-10-23', '2021-10-22', '2021-10-21', '2021-10-20',\n",
       "       '2021-10-19', '2021-10-18', '2021-10-17', '2021-10-16',\n",
       "       '2021-10-15', '2021-10-14', '2021-10-13', '2021-10-12',\n",
       "       '2021-10-11', '2021-10-10', '2021-10-09', '2021-10-08',\n",
       "       '2021-10-07', '2021-10-06', '2021-10-05', '2021-10-04',\n",
       "       '2021-10-03', '2021-10-02', '2021-10-01', '2021-09-30',\n",
       "       '2021-09-29', '2021-09-28', '2021-09-27', '2021-09-26',\n",
       "       '2021-09-25', '2021-09-24', '2021-09-23', '2021-09-22',\n",
       "       '2021-09-21', '2021-09-20', '2021-09-19', '2021-09-18',\n",
       "       '2021-09-17', '2021-09-16', '2021-09-15', '2021-09-14',\n",
       "       '2021-09-13', '2021-09-12', '2021-09-11', '2021-09-10',\n",
       "       '2021-09-09', '2021-09-08', '2021-09-07', '2021-09-06',\n",
       "       '2021-09-05', '2021-09-04', '2021-09-03', '2021-09-02',\n",
       "       '2021-09-01', '2021-08-31', '2021-08-30', '2021-08-29',\n",
       "       '2021-08-28', '2021-08-27', '2021-08-26', '2021-08-25',\n",
       "       '2021-08-24', '2021-08-23', '2021-08-22', '2021-08-21',\n",
       "       '2021-08-20', '2021-08-19', '2021-08-18', '2021-08-17',\n",
       "       '2021-08-16', '2021-08-15', '2021-08-14', '2021-08-13',\n",
       "       '2021-08-12', '2021-08-11', '2021-08-10', '2021-08-09',\n",
       "       '2021-08-08', '2021-08-07', '2021-08-06', '2021-08-05',\n",
       "       '2021-08-04', '2021-08-03', '2021-08-02', '2021-08-01',\n",
       "       '2021-07-31', '2021-07-30', '2021-07-29', '2021-07-28',\n",
       "       '2021-07-27', '2021-07-26', '2021-07-25', '2021-07-24',\n",
       "       '2021-07-23', '2021-07-22', '2021-07-21', '2021-07-20',\n",
       "       '2021-07-19', '2021-07-18', '2021-07-17', '2021-07-16',\n",
       "       '2021-07-15', '2021-07-14', '2021-07-13', '2021-07-12',\n",
       "       '2021-07-11', '2021-07-10', '2021-07-09', '2021-07-08',\n",
       "       '2021-07-07', '2021-07-06', '2021-07-05', '2021-07-04',\n",
       "       '2021-07-03', '2021-07-02', '2021-07-01', '2021-06-30',\n",
       "       '2021-06-29', '2021-06-28', '2021-06-27', '2021-06-26',\n",
       "       '2021-06-25', '2021-06-24', '2021-06-23', '2021-06-22',\n",
       "       '2021-06-21', '2021-06-20', '2021-06-19', '2021-06-18',\n",
       "       '2021-06-17', '2021-06-16', '2021-06-15', '2021-06-14',\n",
       "       '2021-06-13', '2021-06-12', '2021-06-11', '2021-06-10',\n",
       "       '2021-06-09', '2021-06-08', '2021-06-07', '2021-06-06',\n",
       "       '2021-06-05', '2021-06-04', '2021-06-03', '2021-06-02',\n",
       "       '2021-06-01', '2021-05-31', '2021-05-30', '2021-05-29',\n",
       "       '2021-05-28', '2021-05-27', '2021-05-26', '2021-05-25',\n",
       "       '2021-05-24', '2021-05-23', '2021-05-22', '2021-05-21',\n",
       "       '2021-05-20', '2021-05-19', '2021-05-18', '2021-05-17',\n",
       "       '2021-05-16', '2021-05-15', '2021-05-14', '2021-05-13',\n",
       "       '2021-05-12', '2021-05-11', '2021-05-10', '2021-05-09',\n",
       "       '2021-05-08', '2021-05-07', '2021-05-06', '2021-05-05',\n",
       "       '2021-05-04', '2021-05-03', '2021-05-02', '2021-05-01',\n",
       "       '2021-04-30', '2021-04-29', '2021-04-28', '2021-04-27',\n",
       "       '2021-04-26', '2021-04-25', '2021-04-24', '2021-04-23',\n",
       "       '2021-04-22', '2021-04-21', '2021-04-20', '2021-04-19',\n",
       "       '2021-04-18', '2021-04-17', '2021-04-16', '2021-04-15',\n",
       "       '2021-04-14', '2021-04-13', '2021-04-12', '2021-04-11',\n",
       "       '2021-04-10', '2021-04-09', '2021-04-08', '2021-04-07',\n",
       "       '2021-04-06', '2021-04-05', '2021-04-04', '2021-04-03',\n",
       "       '2021-04-02', '2021-04-01', '2021-03-31', '2021-03-30',\n",
       "       '2021-03-29', '2021-03-28', '2021-03-27', '2021-03-26',\n",
       "       '2021-03-25', '2021-03-24', '2021-03-23', '2021-03-22',\n",
       "       '2021-03-21', '2021-03-20', '2021-03-19', '2021-03-18',\n",
       "       '2021-03-17', '2021-03-16', '2021-03-15', '2021-03-14',\n",
       "       '2021-03-13', '2021-03-12', '2021-03-11', '2021-03-10',\n",
       "       '2021-03-09', '2021-03-08', '2021-03-07', '2021-03-06',\n",
       "       '2021-03-05', '2021-03-04', '2021-03-03', '2021-03-02',\n",
       "       '2021-03-01', '2021-02-28', '2021-02-27', '2021-02-26',\n",
       "       '2021-02-25', '2021-02-24', '2021-02-23', '2021-02-22',\n",
       "       '2021-02-21', '2021-02-20', '2021-02-19', '2021-02-18',\n",
       "       '2021-02-17', '2021-02-16', '2021-02-15', '2021-02-14',\n",
       "       '2021-02-13', '2021-02-12', '2021-02-11', '2021-02-10',\n",
       "       '2021-02-09', '2021-02-08', '2021-02-07', '2021-02-06',\n",
       "       '2021-02-05', '2021-02-04', '2021-02-03', '2021-02-02',\n",
       "       '2021-02-01', '2021-01-31', '2021-01-30', '2021-01-29',\n",
       "       '2021-01-28', '2021-01-27', '2021-01-26', '2021-01-25',\n",
       "       '2021-01-24', '2021-01-23', '2021-01-22', '2021-01-21',\n",
       "       '2021-01-20', '2021-01-19', '2021-01-18', '2021-01-17',\n",
       "       '2021-01-16', '2021-01-15', '2021-01-14', '2021-01-13',\n",
       "       '2021-01-12', '2021-01-11', '2021-01-10', '2021-01-09',\n",
       "       '2021-01-08', '2021-01-07', '2021-01-06', '2021-01-05',\n",
       "       '2021-01-04', '2021-01-03', '2021-01-02', '2021-01-01'],\n",
       "      dtype=object)"
      ]
     },
     "execution_count": 7,
     "metadata": {},
     "output_type": "execute_result"
    }
   ],
   "source": [
    "rides_data['date'].sort_values(ascending= False).unique()"
   ]
  },
  {
   "cell_type": "markdown",
   "id": "0f7ba0e8",
   "metadata": {},
   "source": [
    "С этими данными все в порядке, только их тип - object, необходимо его перевести к типу datetime pandas, где Y-m-d"
   ]
  },
  {
   "cell_type": "code",
   "execution_count": 8,
   "id": "e72d849a",
   "metadata": {},
   "outputs": [
    {
     "data": {
      "text/plain": [
       "18068"
      ]
     },
     "execution_count": 8,
     "metadata": {},
     "output_type": "execute_result"
    }
   ],
   "source": [
    "rides_data['date'].isna().count()"
   ]
  },
  {
   "cell_type": "markdown",
   "id": "a8bd3952",
   "metadata": {},
   "source": [
    "Тут есть и _пустые_ строки, но с ними мы разберемся попозже."
   ]
  },
  {
   "cell_type": "code",
   "execution_count": 9,
   "id": "4dc4225b",
   "metadata": {},
   "outputs": [],
   "source": [
    "rides_data['date'] = pd.to_datetime(rides_data['date'], format = \"%Y-%m-%d\")"
   ]
  },
  {
   "cell_type": "markdown",
   "id": "31e8e1d5",
   "metadata": {},
   "source": [
    "Переведи данные `rides_data['date']` к pandas типу Datetime. Проверим, что получилосб"
   ]
  },
  {
   "cell_type": "code",
   "execution_count": 10,
   "id": "ce71494c",
   "metadata": {
    "scrolled": true
   },
   "outputs": [
    {
     "data": {
      "text/plain": [
       "user_id              int64\n",
       "distance           float64\n",
       "duration           float64\n",
       "date        datetime64[ns]\n",
       "dtype: object"
      ]
     },
     "execution_count": 10,
     "metadata": {},
     "output_type": "execute_result"
    }
   ],
   "source": [
    "rides_data.dtypes"
   ]
  },
  {
   "cell_type": "markdown",
   "id": "7dcead9a",
   "metadata": {},
   "source": [
    "Все в порядке, тип данных поменялся."
   ]
  },
  {
   "cell_type": "markdown",
   "id": "7bf52914",
   "metadata": {},
   "source": [
    "- 2.2 Создайте новый столбец с номером месяца на основе столбца date."
   ]
  },
  {
   "cell_type": "code",
   "execution_count": 11,
   "id": "4e8c4a6a",
   "metadata": {},
   "outputs": [],
   "source": [
    "rides_data['month'] = rides_data['date'].dt.month"
   ]
  },
  {
   "cell_type": "code",
   "execution_count": 12,
   "id": "200c8815",
   "metadata": {},
   "outputs": [
    {
     "data": {
      "text/html": [
       "<div>\n",
       "<style scoped>\n",
       "    .dataframe tbody tr th:only-of-type {\n",
       "        vertical-align: middle;\n",
       "    }\n",
       "\n",
       "    .dataframe tbody tr th {\n",
       "        vertical-align: top;\n",
       "    }\n",
       "\n",
       "    .dataframe thead th {\n",
       "        text-align: right;\n",
       "    }\n",
       "</style>\n",
       "<table border=\"1\" class=\"dataframe\">\n",
       "  <thead>\n",
       "    <tr style=\"text-align: right;\">\n",
       "      <th></th>\n",
       "      <th>user_id</th>\n",
       "      <th>distance</th>\n",
       "      <th>duration</th>\n",
       "      <th>date</th>\n",
       "      <th>month</th>\n",
       "    </tr>\n",
       "  </thead>\n",
       "  <tbody>\n",
       "    <tr>\n",
       "      <th>0</th>\n",
       "      <td>1</td>\n",
       "      <td>4409.919140</td>\n",
       "      <td>25.599769</td>\n",
       "      <td>2021-01-01</td>\n",
       "      <td>1</td>\n",
       "    </tr>\n",
       "    <tr>\n",
       "      <th>1</th>\n",
       "      <td>1</td>\n",
       "      <td>2617.592153</td>\n",
       "      <td>15.816871</td>\n",
       "      <td>2021-01-18</td>\n",
       "      <td>1</td>\n",
       "    </tr>\n",
       "    <tr>\n",
       "      <th>2</th>\n",
       "      <td>1</td>\n",
       "      <td>754.159807</td>\n",
       "      <td>6.232113</td>\n",
       "      <td>2021-04-20</td>\n",
       "      <td>4</td>\n",
       "    </tr>\n",
       "    <tr>\n",
       "      <th>3</th>\n",
       "      <td>1</td>\n",
       "      <td>2694.783254</td>\n",
       "      <td>18.511000</td>\n",
       "      <td>2021-08-11</td>\n",
       "      <td>8</td>\n",
       "    </tr>\n",
       "    <tr>\n",
       "      <th>4</th>\n",
       "      <td>1</td>\n",
       "      <td>4028.687306</td>\n",
       "      <td>26.265803</td>\n",
       "      <td>2021-08-28</td>\n",
       "      <td>8</td>\n",
       "    </tr>\n",
       "    <tr>\n",
       "      <th>5</th>\n",
       "      <td>1</td>\n",
       "      <td>2770.890808</td>\n",
       "      <td>16.650138</td>\n",
       "      <td>2021-10-09</td>\n",
       "      <td>10</td>\n",
       "    </tr>\n",
       "    <tr>\n",
       "      <th>6</th>\n",
       "      <td>1</td>\n",
       "      <td>3039.020292</td>\n",
       "      <td>14.927879</td>\n",
       "      <td>2021-10-19</td>\n",
       "      <td>10</td>\n",
       "    </tr>\n",
       "    <tr>\n",
       "      <th>7</th>\n",
       "      <td>1</td>\n",
       "      <td>2842.118050</td>\n",
       "      <td>23.117468</td>\n",
       "      <td>2021-11-06</td>\n",
       "      <td>11</td>\n",
       "    </tr>\n",
       "    <tr>\n",
       "      <th>8</th>\n",
       "      <td>1</td>\n",
       "      <td>3412.690668</td>\n",
       "      <td>15.238072</td>\n",
       "      <td>2021-11-14</td>\n",
       "      <td>11</td>\n",
       "    </tr>\n",
       "    <tr>\n",
       "      <th>9</th>\n",
       "      <td>1</td>\n",
       "      <td>748.690645</td>\n",
       "      <td>15.041884</td>\n",
       "      <td>2021-11-22</td>\n",
       "      <td>11</td>\n",
       "    </tr>\n",
       "  </tbody>\n",
       "</table>\n",
       "</div>"
      ],
      "text/plain": [
       "   user_id     distance   duration       date  month\n",
       "0        1  4409.919140  25.599769 2021-01-01      1\n",
       "1        1  2617.592153  15.816871 2021-01-18      1\n",
       "2        1   754.159807   6.232113 2021-04-20      4\n",
       "3        1  2694.783254  18.511000 2021-08-11      8\n",
       "4        1  4028.687306  26.265803 2021-08-28      8\n",
       "5        1  2770.890808  16.650138 2021-10-09     10\n",
       "6        1  3039.020292  14.927879 2021-10-19     10\n",
       "7        1  2842.118050  23.117468 2021-11-06     11\n",
       "8        1  3412.690668  15.238072 2021-11-14     11\n",
       "9        1   748.690645  15.041884 2021-11-22     11"
      ]
     },
     "execution_count": 12,
     "metadata": {},
     "output_type": "execute_result"
    }
   ],
   "source": [
    "rides_data.head(10)"
   ]
  },
  {
   "cell_type": "markdown",
   "id": "ac62d830",
   "metadata": {},
   "source": [
    "Получилось добавить новый столбец с номерами месяца, когда была совершена поездка"
   ]
  },
  {
   "cell_type": "markdown",
   "id": "34efe3f1",
   "metadata": {},
   "source": [
    "- 2.3 Проверьте наличие пропущенных значений и дубликатов в датафреймах. Обработайте их, если такие значения присутствуют."
   ]
  },
  {
   "cell_type": "code",
   "execution_count": 13,
   "id": "258285c4",
   "metadata": {},
   "outputs": [
    {
     "data": {
      "text/plain": [
       "31"
      ]
     },
     "execution_count": 13,
     "metadata": {},
     "output_type": "execute_result"
    }
   ],
   "source": [
    "users_data.duplicated().sum()"
   ]
  },
  {
   "cell_type": "code",
   "execution_count": 14,
   "id": "5ac55ac2",
   "metadata": {},
   "outputs": [
    {
     "data": {
      "text/plain": [
       "0"
      ]
     },
     "execution_count": 14,
     "metadata": {},
     "output_type": "execute_result"
    }
   ],
   "source": [
    "rides_data.duplicated().sum()"
   ]
  },
  {
   "cell_type": "code",
   "execution_count": 15,
   "id": "9c52d080",
   "metadata": {},
   "outputs": [
    {
     "data": {
      "text/plain": [
       "0"
      ]
     },
     "execution_count": 15,
     "metadata": {},
     "output_type": "execute_result"
    }
   ],
   "source": [
    "subs_data.duplicated().sum()"
   ]
  },
  {
   "cell_type": "markdown",
   "id": "c86cd232",
   "metadata": {},
   "source": [
    "Итак, пропуски имеются только в датасете users_data,- обработаем их."
   ]
  },
  {
   "cell_type": "code",
   "execution_count": 16,
   "id": "db79e0f8",
   "metadata": {},
   "outputs": [
    {
     "data": {
      "text/plain": [
       "1565"
      ]
     },
     "execution_count": 16,
     "metadata": {},
     "output_type": "execute_result"
    }
   ],
   "source": [
    "users_data.duplicated().count()"
   ]
  },
  {
   "cell_type": "code",
   "execution_count": 17,
   "id": "d2e7e018",
   "metadata": {},
   "outputs": [
    {
     "data": {
      "text/html": [
       "<div>\n",
       "<style scoped>\n",
       "    .dataframe tbody tr th:only-of-type {\n",
       "        vertical-align: middle;\n",
       "    }\n",
       "\n",
       "    .dataframe tbody tr th {\n",
       "        vertical-align: top;\n",
       "    }\n",
       "\n",
       "    .dataframe thead th {\n",
       "        text-align: right;\n",
       "    }\n",
       "</style>\n",
       "<table border=\"1\" class=\"dataframe\">\n",
       "  <thead>\n",
       "    <tr style=\"text-align: right;\">\n",
       "      <th></th>\n",
       "      <th>user_id</th>\n",
       "      <th>name</th>\n",
       "      <th>age</th>\n",
       "      <th>city</th>\n",
       "      <th>subscription_type</th>\n",
       "    </tr>\n",
       "  </thead>\n",
       "  <tbody>\n",
       "    <tr>\n",
       "      <th>0</th>\n",
       "      <td>1</td>\n",
       "      <td>Кира</td>\n",
       "      <td>22</td>\n",
       "      <td>Тюмень</td>\n",
       "      <td>ultra</td>\n",
       "    </tr>\n",
       "    <tr>\n",
       "      <th>1</th>\n",
       "      <td>2</td>\n",
       "      <td>Станислав</td>\n",
       "      <td>31</td>\n",
       "      <td>Омск</td>\n",
       "      <td>ultra</td>\n",
       "    </tr>\n",
       "    <tr>\n",
       "      <th>2</th>\n",
       "      <td>3</td>\n",
       "      <td>Алексей</td>\n",
       "      <td>20</td>\n",
       "      <td>Москва</td>\n",
       "      <td>ultra</td>\n",
       "    </tr>\n",
       "    <tr>\n",
       "      <th>3</th>\n",
       "      <td>4</td>\n",
       "      <td>Константин</td>\n",
       "      <td>26</td>\n",
       "      <td>Ростов-на-Дону</td>\n",
       "      <td>ultra</td>\n",
       "    </tr>\n",
       "    <tr>\n",
       "      <th>4</th>\n",
       "      <td>5</td>\n",
       "      <td>Адель</td>\n",
       "      <td>28</td>\n",
       "      <td>Омск</td>\n",
       "      <td>ultra</td>\n",
       "    </tr>\n",
       "    <tr>\n",
       "      <th>5</th>\n",
       "      <td>6</td>\n",
       "      <td>Регина</td>\n",
       "      <td>25</td>\n",
       "      <td>Краснодар</td>\n",
       "      <td>ultra</td>\n",
       "    </tr>\n",
       "    <tr>\n",
       "      <th>6</th>\n",
       "      <td>7</td>\n",
       "      <td>Игорь</td>\n",
       "      <td>23</td>\n",
       "      <td>Омск</td>\n",
       "      <td>ultra</td>\n",
       "    </tr>\n",
       "    <tr>\n",
       "      <th>7</th>\n",
       "      <td>8</td>\n",
       "      <td>Юрий</td>\n",
       "      <td>23</td>\n",
       "      <td>Краснодар</td>\n",
       "      <td>ultra</td>\n",
       "    </tr>\n",
       "    <tr>\n",
       "      <th>8</th>\n",
       "      <td>9</td>\n",
       "      <td>Ян</td>\n",
       "      <td>21</td>\n",
       "      <td>Пятигорск</td>\n",
       "      <td>ultra</td>\n",
       "    </tr>\n",
       "    <tr>\n",
       "      <th>9</th>\n",
       "      <td>10</td>\n",
       "      <td>Валерий</td>\n",
       "      <td>18</td>\n",
       "      <td>Екатеринбург</td>\n",
       "      <td>ultra</td>\n",
       "    </tr>\n",
       "    <tr>\n",
       "      <th>10</th>\n",
       "      <td>11</td>\n",
       "      <td>Агата</td>\n",
       "      <td>31</td>\n",
       "      <td>Краснодар</td>\n",
       "      <td>ultra</td>\n",
       "    </tr>\n",
       "    <tr>\n",
       "      <th>11</th>\n",
       "      <td>12</td>\n",
       "      <td>Марк</td>\n",
       "      <td>27</td>\n",
       "      <td>Тюмень</td>\n",
       "      <td>ultra</td>\n",
       "    </tr>\n",
       "    <tr>\n",
       "      <th>12</th>\n",
       "      <td>13</td>\n",
       "      <td>Ева</td>\n",
       "      <td>24</td>\n",
       "      <td>Краснодар</td>\n",
       "      <td>ultra</td>\n",
       "    </tr>\n",
       "    <tr>\n",
       "      <th>13</th>\n",
       "      <td>14</td>\n",
       "      <td>Антонина</td>\n",
       "      <td>18</td>\n",
       "      <td>Пятигорск</td>\n",
       "      <td>ultra</td>\n",
       "    </tr>\n",
       "    <tr>\n",
       "      <th>14</th>\n",
       "      <td>15</td>\n",
       "      <td>Валерия</td>\n",
       "      <td>24</td>\n",
       "      <td>Тюмень</td>\n",
       "      <td>ultra</td>\n",
       "    </tr>\n",
       "  </tbody>\n",
       "</table>\n",
       "</div>"
      ],
      "text/plain": [
       "    user_id        name  age            city subscription_type\n",
       "0         1        Кира   22          Тюмень             ultra\n",
       "1         2   Станислав   31            Омск             ultra\n",
       "2         3     Алексей   20          Москва             ultra\n",
       "3         4  Константин   26  Ростов-на-Дону             ultra\n",
       "4         5       Адель   28            Омск             ultra\n",
       "5         6      Регина   25       Краснодар             ultra\n",
       "6         7       Игорь   23            Омск             ultra\n",
       "7         8        Юрий   23       Краснодар             ultra\n",
       "8         9          Ян   21       Пятигорск             ultra\n",
       "9        10     Валерий   18    Екатеринбург             ultra\n",
       "10       11       Агата   31       Краснодар             ultra\n",
       "11       12        Марк   27          Тюмень             ultra\n",
       "12       13         Ева   24       Краснодар             ultra\n",
       "13       14    Антонина   18       Пятигорск             ultra\n",
       "14       15     Валерия   24          Тюмень             ultra"
      ]
     },
     "execution_count": 17,
     "metadata": {},
     "output_type": "execute_result"
    }
   ],
   "source": [
    "users_data.head(15)"
   ]
  },
  {
   "cell_type": "code",
   "execution_count": 18,
   "id": "f8106a64",
   "metadata": {},
   "outputs": [
    {
     "data": {
      "text/plain": [
       "0"
      ]
     },
     "execution_count": 18,
     "metadata": {},
     "output_type": "execute_result"
    }
   ],
   "source": [
    "users_data = users_data.drop_duplicates()\n",
    "users_data.duplicated().sum()"
   ]
  },
  {
   "cell_type": "markdown",
   "id": "3698773f",
   "metadata": {},
   "source": [
    "От пропусков избавились."
   ]
  },
  {
   "cell_type": "markdown",
   "id": "212593c7",
   "metadata": {},
   "source": [
    "#### Шаг 3. Исследовательский анализ данных"
   ]
  },
  {
   "cell_type": "markdown",
   "id": "cae1eead",
   "metadata": {},
   "source": [
    "Опишите и визуализируйте общую информацию о пользователях и поездках:\n",
    "\n",
    "- 3.1 частота встречаемости городов;\n",
    "- 3.2 соотношение пользователей с подпиской и без подписки;\n",
    "- 3.3 возраст пользователей;\n",
    "- 3.4 расстояние, которое пользователь преодолел за одну поездку;\n",
    "- 3.5 продолжительность поездок."
   ]
  },
  {
   "cell_type": "markdown",
   "id": "66dad5ac",
   "metadata": {},
   "source": [
    "- 3.1 частота встречаемости городов;"
   ]
  },
  {
   "cell_type": "code",
   "execution_count": 19,
   "id": "d8cb37c6",
   "metadata": {},
   "outputs": [
    {
     "name": "stdout",
     "output_type": "stream",
     "text": [
      "Index(['user_id', 'name', 'age', 'city', 'subscription_type'], dtype='object')\n",
      "Index(['user_id', 'distance', 'duration', 'date', 'month'], dtype='object')\n",
      "Index(['subscription_type', 'minute_price', 'start_ride_price',\n",
      "       'subscription_fee'],\n",
      "      dtype='object')\n"
     ]
    }
   ],
   "source": [
    "print(users_data.columns)\n",
    "print(rides_data.columns)\n",
    "print(subs_data.columns)"
   ]
  },
  {
   "cell_type": "markdown",
   "id": "79f46e4d",
   "metadata": {},
   "source": [
    "Города есть только в users_data, их и будем рассматривать"
   ]
  },
  {
   "cell_type": "code",
   "execution_count": 63,
   "id": "c52b4650",
   "metadata": {},
   "outputs": [
    {
     "data": {
      "text/plain": [
       "<AxesSubplot:title={'center':'Частота встречаемости городов.'}, xlabel='Города', ylabel='Кол-во пользователей'>"
      ]
     },
     "execution_count": 63,
     "metadata": {},
     "output_type": "execute_result"
    },
    {
     "data": {
      "image/png": "[encoded data removed]",
      "text/plain": [
       "<Figure size 432x288 with 1 Axes>"
      ]
     },
     "metadata": {
      "needs_background": "light"
     },
     "output_type": "display_data"
    }
   ],
   "source": [
    "plt.xlabel('Города')\n",
    "plt.ylabel('Кол-во пользователей')\n",
    "\n",
    "users_data['city'].value_counts().plot(kind = 'bar', title = 'Частота встречаемости городов.')"
   ]
  },
  {
   "cell_type": "code",
   "execution_count": 62,
   "id": "7a5a974e",
   "metadata": {},
   "outputs": [
    {
     "data": {
      "text/plain": [
       "Пятигорск         219\n",
       "Екатеринбург      204\n",
       "Ростов-на-Дону    198\n",
       "Краснодар         193\n",
       "Сочи              189\n",
       "Омск              183\n",
       "Тюмень            180\n",
       "Москва            168\n",
       "Name: city, dtype: int64"
      ]
     },
     "execution_count": 62,
     "metadata": {},
     "output_type": "execute_result"
    }
   ],
   "source": [
    "users_data['city'].value_counts()"
   ]
  },
  {
   "cell_type": "markdown",
   "id": "68723ace",
   "metadata": {},
   "source": [
    "Здесь видно распределение пользователей по городам. Пятигорск - самое большое кол-во пользователей, Москва - наименьшее."
   ]
  },
  {
   "cell_type": "markdown",
   "id": "b9a7b3d5",
   "metadata": {},
   "source": [
    "Разница между всеми городами не очень большая. Наибольшее значение - Пятигорск, наименьшее - Москва.\n",
    "Посмотрим сколько эта разница будет в людях:"
   ]
  },
  {
   "cell_type": "code",
   "execution_count": 21,
   "id": "b2bdcba7",
   "metadata": {},
   "outputs": [
    {
     "data": {
      "text/plain": [
       "51"
      ]
     },
     "execution_count": 21,
     "metadata": {},
     "output_type": "execute_result"
    }
   ],
   "source": [
    "users_data['city'].value_counts().max() - users_data['city'].value_counts().min() "
   ]
  },
  {
   "cell_type": "markdown",
   "id": "074ff66e",
   "metadata": {},
   "source": [
    "Разница в 51 человека не сильно большая, хотя странно, что в Пятигорске этот сервис более популярный, нежели в Москве. Может это южная компания?"
   ]
  },
  {
   "cell_type": "markdown",
   "id": "af2d1f5b",
   "metadata": {},
   "source": [
    "- 3.2 соотношение пользователей с подпиской и без подписки;"
   ]
  },
  {
   "cell_type": "code",
   "execution_count": 22,
   "id": "8f4a86cc",
   "metadata": {},
   "outputs": [
    {
     "data": {
      "text/plain": [
       "array(['ultra', 'free'], dtype=object)"
      ]
     },
     "execution_count": 22,
     "metadata": {},
     "output_type": "execute_result"
    }
   ],
   "source": [
    "users_data['subscription_type'].unique()"
   ]
  },
  {
   "cell_type": "code",
   "execution_count": 64,
   "id": "2c0e8a39",
   "metadata": {},
   "outputs": [
    {
     "data": {
      "text/plain": [
       "<AxesSubplot:title={'center':'Пользователи с подпиской ultra и без подписки free'}, xlabel='Тип подписки', ylabel='Кол-во пользователей'>"
      ]
     },
     "execution_count": 64,
     "metadata": {},
     "output_type": "execute_result"
    },
    {
     "data": {
      "image/png": "[encoded data removed]",
      "text/plain": [
       "<Figure size 432x288 with 1 Axes>"
      ]
     },
     "metadata": {
      "needs_background": "light"
     },
     "output_type": "display_data"
    }
   ],
   "source": [
    "plt.xlabel('Тип подписки')\n",
    "plt.ylabel('Кол-во пользователей')\n",
    "\n",
    "\n",
    "users_data['subscription_type'].value_counts().plot(kind= 'bar', title = 'Пользователи с подпиской ultra и без подписки free')"
   ]
  },
  {
   "cell_type": "code",
   "execution_count": 24,
   "id": "6567b8ee",
   "metadata": {},
   "outputs": [
    {
     "name": "stdout",
     "output_type": "stream",
     "text": [
      "Соотношение пользователей без подписки к пользователям с подпиской =  1.1945636623748213\n"
     ]
    }
   ],
   "source": [
    "# ratio - соотношение польз. free / ultra в %\n",
    "ratio = users_data['subscription_type'].value_counts().max() / users_data['subscription_type'].value_counts().min()\n",
    "print(f'Соотношение пользователей без подписки к пользователям с подпиской = ', ratio)\n"
   ]
  },
  {
   "cell_type": "markdown",
   "id": "e84fa27f",
   "metadata": {},
   "source": [
    "Пользователей без подписки больше на 19,5 % (на 100 человек)"
   ]
  },
  {
   "cell_type": "markdown",
   "id": "83ca3aa5",
   "metadata": {},
   "source": [
    "- 3.3 возраст пользователей"
   ]
  },
  {
   "cell_type": "code",
   "execution_count": 65,
   "id": "22a52466",
   "metadata": {},
   "outputs": [
    {
     "data": {
      "text/plain": [
       "<AxesSubplot:title={'center':'Возраст пользователей'}, xlabel='Возраст', ylabel='Кол-во пользователей'>"
      ]
     },
     "execution_count": 65,
     "metadata": {},
     "output_type": "execute_result"
    },
    {
     "data": {
      "image/png": "[encoded data removed]",
      "text/plain": [
       "<Figure size 432x288 with 1 Axes>"
      ]
     },
     "metadata": {
      "needs_background": "light"
     },
     "output_type": "display_data"
    }
   ],
   "source": [
    "plt.xlabel('Возраст')\n",
    "plt.ylabel('Кол-во пользователей')\n",
    "\n",
    "\n",
    "users_data['age'].value_counts().plot(kind = 'bar', title = 'Возраст пользователей')"
   ]
  },
  {
   "cell_type": "code",
   "execution_count": 26,
   "id": "594bbd09",
   "metadata": {},
   "outputs": [
    {
     "data": {
      "text/plain": [
       "array([12, 13, 14, 15, 16, 17, 18, 19, 20, 21, 22, 23, 24, 25, 26, 27, 28,\n",
       "       29, 30, 31, 32, 33, 34, 35, 36, 37, 38, 39, 43])"
      ]
     },
     "execution_count": 26,
     "metadata": {},
     "output_type": "execute_result"
    }
   ],
   "source": [
    "users_data['age'].sort_values().unique()"
   ]
  },
  {
   "cell_type": "code",
   "execution_count": 66,
   "id": "182f86b7",
   "metadata": {},
   "outputs": [
    {
     "data": {
      "text/plain": [
       "<AxesSubplot:title={'center':'Распределение возрастов пользователей'}, xlabel='Возраст', ylabel='Frequency'>"
      ]
     },
     "execution_count": 66,
     "metadata": {},
     "output_type": "execute_result"
    },
    {
     "data": {
      "image/png": "[encoded data removed]",
      "text/plain": [
       "<Figure size 432x288 with 1 Axes>"
      ]
     },
     "metadata": {
      "needs_background": "light"
     },
     "output_type": "display_data"
    }
   ],
   "source": [
    "plt.xlabel('Возраст')\n",
    "plt.ylabel('Кол-во пользователей')\n",
    "\n",
    "users_data['age'].plot(kind = 'hist', bins = 15, title = 'Распределение возрастов пользователей')"
   ]
  },
  {
   "cell_type": "markdown",
   "id": "00f03c8c",
   "metadata": {},
   "source": [
    "Исходя из данных в графиках видно, что основная часть пользователей приходится на людей возрастом от 20 до 30 лет."
   ]
  },
  {
   "cell_type": "code",
   "execution_count": 28,
   "id": "c6bdf8cb",
   "metadata": {},
   "outputs": [
    {
     "data": {
      "text/plain": [
       "25.0"
      ]
     },
     "metadata": {},
     "output_type": "display_data"
    },
    {
     "data": {
      "text/plain": [
       "24.903520208604956"
      ]
     },
     "metadata": {},
     "output_type": "display_data"
    }
   ],
   "source": [
    "display(users_data['age'].median(), users_data['age'].mean())"
   ]
  },
  {
   "cell_type": "code",
   "execution_count": 29,
   "id": "e1dedc9a",
   "metadata": {},
   "outputs": [
    {
     "data": {
      "text/plain": [
       "count    1534.000000\n",
       "mean       24.903520\n",
       "std         4.572367\n",
       "min        12.000000\n",
       "25%        22.000000\n",
       "50%        25.000000\n",
       "75%        28.000000\n",
       "max        43.000000\n",
       "Name: age, dtype: float64"
      ]
     },
     "execution_count": 29,
     "metadata": {},
     "output_type": "execute_result"
    }
   ],
   "source": [
    "users_data['age'].describe()"
   ]
  },
  {
   "cell_type": "markdown",
   "id": "96c67436",
   "metadata": {},
   "source": [
    "Основная часть приходится на возраст от 22 до 28 лет. А минимальный возраст - 12 лет, это немного странно, может быть аномалия (детям нельзя брать самокаты в аренду)."
   ]
  },
  {
   "cell_type": "markdown",
   "id": "e1e3e41e",
   "metadata": {},
   "source": [
    "- 3.4 расстояние, которое пользователь преодолел за одну поездку;"
   ]
  },
  {
   "cell_type": "code",
   "execution_count": 30,
   "id": "ba474eea",
   "metadata": {},
   "outputs": [
    {
     "data": {
      "text/html": [
       "<div>\n",
       "<style scoped>\n",
       "    .dataframe tbody tr th:only-of-type {\n",
       "        vertical-align: middle;\n",
       "    }\n",
       "\n",
       "    .dataframe tbody tr th {\n",
       "        vertical-align: top;\n",
       "    }\n",
       "\n",
       "    .dataframe thead th {\n",
       "        text-align: right;\n",
       "    }\n",
       "</style>\n",
       "<table border=\"1\" class=\"dataframe\">\n",
       "  <thead>\n",
       "    <tr style=\"text-align: right;\">\n",
       "      <th></th>\n",
       "      <th>user_id</th>\n",
       "      <th>distance</th>\n",
       "      <th>duration</th>\n",
       "      <th>date</th>\n",
       "      <th>month</th>\n",
       "    </tr>\n",
       "  </thead>\n",
       "  <tbody>\n",
       "    <tr>\n",
       "      <th>0</th>\n",
       "      <td>1</td>\n",
       "      <td>4409.919140</td>\n",
       "      <td>25.599769</td>\n",
       "      <td>2021-01-01</td>\n",
       "      <td>1</td>\n",
       "    </tr>\n",
       "    <tr>\n",
       "      <th>1</th>\n",
       "      <td>1</td>\n",
       "      <td>2617.592153</td>\n",
       "      <td>15.816871</td>\n",
       "      <td>2021-01-18</td>\n",
       "      <td>1</td>\n",
       "    </tr>\n",
       "    <tr>\n",
       "      <th>2</th>\n",
       "      <td>1</td>\n",
       "      <td>754.159807</td>\n",
       "      <td>6.232113</td>\n",
       "      <td>2021-04-20</td>\n",
       "      <td>4</td>\n",
       "    </tr>\n",
       "    <tr>\n",
       "      <th>3</th>\n",
       "      <td>1</td>\n",
       "      <td>2694.783254</td>\n",
       "      <td>18.511000</td>\n",
       "      <td>2021-08-11</td>\n",
       "      <td>8</td>\n",
       "    </tr>\n",
       "    <tr>\n",
       "      <th>4</th>\n",
       "      <td>1</td>\n",
       "      <td>4028.687306</td>\n",
       "      <td>26.265803</td>\n",
       "      <td>2021-08-28</td>\n",
       "      <td>8</td>\n",
       "    </tr>\n",
       "  </tbody>\n",
       "</table>\n",
       "</div>"
      ],
      "text/plain": [
       "   user_id     distance   duration       date  month\n",
       "0        1  4409.919140  25.599769 2021-01-01      1\n",
       "1        1  2617.592153  15.816871 2021-01-18      1\n",
       "2        1   754.159807   6.232113 2021-04-20      4\n",
       "3        1  2694.783254  18.511000 2021-08-11      8\n",
       "4        1  4028.687306  26.265803 2021-08-28      8"
      ]
     },
     "execution_count": 30,
     "metadata": {},
     "output_type": "execute_result"
    }
   ],
   "source": [
    "rides_data.head()"
   ]
  },
  {
   "cell_type": "code",
   "execution_count": 67,
   "id": "c63573f0",
   "metadata": {},
   "outputs": [
    {
     "data": {
      "text/plain": [
       "<AxesSubplot:title={'center':'Расстояние в (м), пройденное пользователями'}, xlabel='Расстояние в метрах', ylabel='Frequency'>"
      ]
     },
     "execution_count": 67,
     "metadata": {},
     "output_type": "execute_result"
    },
    {
     "data": {
      "image/png": "[encoded data removed]",
      "text/plain": [
       "<Figure size 432x288 with 1 Axes>"
      ]
     },
     "metadata": {
      "needs_background": "light"
     },
     "output_type": "display_data"
    }
   ],
   "source": [
    "plt.xlabel('Расстояние в метрах')\n",
    "plt.ylabel('Кол-во пользователей')\n",
    "\n",
    "\n",
    "rides_data['distance'].plot(kind = 'hist', bins = 40, title = 'Расстояние в (м), пройденное пользователями')"
   ]
  },
  {
   "cell_type": "code",
   "execution_count": 32,
   "id": "3f2d7c32",
   "metadata": {},
   "outputs": [
    {
     "data": {
      "text/plain": [
       "count    18068.000000\n",
       "mean      3070.659976\n",
       "std       1116.831209\n",
       "min          0.855683\n",
       "25%       2543.226360\n",
       "50%       3133.609994\n",
       "75%       3776.222735\n",
       "max       7211.007745\n",
       "Name: distance, dtype: float64"
      ]
     },
     "execution_count": 32,
     "metadata": {},
     "output_type": "execute_result"
    }
   ],
   "source": [
    "rides_data['distance'].describe()"
   ]
  },
  {
   "cell_type": "markdown",
   "id": "abade45a",
   "metadata": {},
   "source": [
    "По этому графику видно, что в основном пользователи берут самокаты для преодоления больших дистанций (от 2.5 км до 3.7 км) - видимо, чтобы добраться до работы. Также есть пик на коротких дистанциях ( от 300 до 600 м) - люди берут самокаты на прогулках, чтобы просто покататься на них."
   ]
  },
  {
   "cell_type": "markdown",
   "id": "02c88d06",
   "metadata": {},
   "source": [
    "- 3.5 продолжительность поездок."
   ]
  },
  {
   "cell_type": "code",
   "execution_count": 69,
   "id": "e022766e",
   "metadata": {},
   "outputs": [
    {
     "data": {
      "text/plain": [
       "<AxesSubplot:title={'center':'Продолжительность поездок на самокатах'}, xlabel='Продолжительность поездки в минутах', ylabel='Frequency'>"
      ]
     },
     "execution_count": 69,
     "metadata": {},
     "output_type": "execute_result"
    },
    {
     "data": {
      "image/png": "[encoded data removed]",
      "text/plain": [
       "<Figure size 432x288 with 1 Axes>"
      ]
     },
     "metadata": {
      "needs_background": "light"
     },
     "output_type": "display_data"
    }
   ],
   "source": [
    "plt.xlabel('Продолжительность поездки в минутах')\n",
    "plt.ylabel('Кол-во пользователей')\n",
    "\n",
    "rides_data['duration'].plot(kind = 'hist', bins = 50, title = 'Продолжительность поездок на самокатах')"
   ]
  },
  {
   "cell_type": "code",
   "execution_count": 34,
   "id": "521f7bb0",
   "metadata": {},
   "outputs": [
    {
     "data": {
      "text/plain": [
       "count    18068.000000\n",
       "mean        17.805011\n",
       "std          6.091051\n",
       "min          0.500000\n",
       "25%         13.597563\n",
       "50%         17.678395\n",
       "75%         21.724800\n",
       "max         40.823963\n",
       "Name: duration, dtype: float64"
      ]
     },
     "execution_count": 34,
     "metadata": {},
     "output_type": "execute_result"
    }
   ],
   "source": [
    "rides_data['duration'].describe()"
   ]
  },
  {
   "cell_type": "markdown",
   "id": "7fe31e7f",
   "metadata": {},
   "source": [
    "Такое распределение, как на графике, имеет место быть. В основном средняя поездка длится от 13 до 21 минут, есть также пик и на коротких (около минуты), такое возможно, но выглядит как выброс в данных."
   ]
  },
  {
   "cell_type": "code",
   "execution_count": 71,
   "id": "c84a7328",
   "metadata": {},
   "outputs": [
    {
     "data": {
      "text/plain": [
       "<AxesSubplot:title={'center':'Продолжительность поездки на самокатах'}, ylabel='Продолжительность в минутах'>"
      ]
     },
     "execution_count": 71,
     "metadata": {},
     "output_type": "execute_result"
    },
    {
     "data": {
      "image/png": "[encoded data removed]",
      "text/plain": [
       "<Figure size 432x288 with 1 Axes>"
      ]
     },
     "metadata": {
      "needs_background": "light"
     },
     "output_type": "display_data"
    }
   ],
   "source": [
    "plt.ylabel('Продолжительность в минутах')\n",
    "\n",
    "rides_data['duration'].plot(kind = 'box', title = 'Продолжительность поездки на самокатах')"
   ]
  },
  {
   "cell_type": "markdown",
   "id": "5883d96c",
   "metadata": {},
   "source": [
    "Да, продолжительность поездки лежит в пределах от 13 до 21 минут, а также есть и выбивающиеся значения, от 35 и выше и меньше одной минуты."
   ]
  },
  {
   "cell_type": "markdown",
   "id": "4ef51331",
   "metadata": {},
   "source": [
    "# Шаг 4. Объединение данных"
   ]
  },
  {
   "cell_type": "markdown",
   "id": "bf399b18",
   "metadata": {},
   "source": [
    "- 4.1 Объедините данные о пользователях, поездках и подписках в один датафрейм. Для этого воспользуйтесь методом merge()."
   ]
  },
  {
   "cell_type": "code",
   "execution_count": 36,
   "id": "6bf288b5",
   "metadata": {},
   "outputs": [
    {
     "name": "stdout",
     "output_type": "stream",
     "text": [
      "Index(['user_id', 'name', 'age', 'city', 'subscription_type'], dtype='object')\n",
      "Index(['user_id', 'distance', 'duration', 'date', 'month'], dtype='object')\n",
      "Index(['subscription_type', 'minute_price', 'start_ride_price',\n",
      "       'subscription_fee'],\n",
      "      dtype='object')\n"
     ]
    }
   ],
   "source": [
    "print(users_data.columns)\n",
    "print(rides_data.columns)\n",
    "print(subs_data.columns)"
   ]
  },
  {
   "cell_type": "markdown",
   "id": "00aa844c",
   "metadata": {},
   "source": [
    "users_data и subs_data объединим по 'subscription_type', а rides_data с остальными по user_id"
   ]
  },
  {
   "cell_type": "code",
   "execution_count": 37,
   "id": "4525d32f",
   "metadata": {},
   "outputs": [
    {
     "data": {
      "text/html": [
       "<div>\n",
       "<style scoped>\n",
       "    .dataframe tbody tr th:only-of-type {\n",
       "        vertical-align: middle;\n",
       "    }\n",
       "\n",
       "    .dataframe tbody tr th {\n",
       "        vertical-align: top;\n",
       "    }\n",
       "\n",
       "    .dataframe thead th {\n",
       "        text-align: right;\n",
       "    }\n",
       "</style>\n",
       "<table border=\"1\" class=\"dataframe\">\n",
       "  <thead>\n",
       "    <tr style=\"text-align: right;\">\n",
       "      <th></th>\n",
       "      <th>user_id</th>\n",
       "      <th>name</th>\n",
       "      <th>age</th>\n",
       "      <th>city</th>\n",
       "      <th>subscription_type</th>\n",
       "      <th>minute_price</th>\n",
       "      <th>start_ride_price</th>\n",
       "      <th>subscription_fee</th>\n",
       "    </tr>\n",
       "  </thead>\n",
       "  <tbody>\n",
       "    <tr>\n",
       "      <th>0</th>\n",
       "      <td>1</td>\n",
       "      <td>Кира</td>\n",
       "      <td>22</td>\n",
       "      <td>Тюмень</td>\n",
       "      <td>ultra</td>\n",
       "      <td>6</td>\n",
       "      <td>0</td>\n",
       "      <td>199</td>\n",
       "    </tr>\n",
       "    <tr>\n",
       "      <th>1</th>\n",
       "      <td>2</td>\n",
       "      <td>Станислав</td>\n",
       "      <td>31</td>\n",
       "      <td>Омск</td>\n",
       "      <td>ultra</td>\n",
       "      <td>6</td>\n",
       "      <td>0</td>\n",
       "      <td>199</td>\n",
       "    </tr>\n",
       "    <tr>\n",
       "      <th>2</th>\n",
       "      <td>3</td>\n",
       "      <td>Алексей</td>\n",
       "      <td>20</td>\n",
       "      <td>Москва</td>\n",
       "      <td>ultra</td>\n",
       "      <td>6</td>\n",
       "      <td>0</td>\n",
       "      <td>199</td>\n",
       "    </tr>\n",
       "    <tr>\n",
       "      <th>3</th>\n",
       "      <td>4</td>\n",
       "      <td>Константин</td>\n",
       "      <td>26</td>\n",
       "      <td>Ростов-на-Дону</td>\n",
       "      <td>ultra</td>\n",
       "      <td>6</td>\n",
       "      <td>0</td>\n",
       "      <td>199</td>\n",
       "    </tr>\n",
       "    <tr>\n",
       "      <th>4</th>\n",
       "      <td>5</td>\n",
       "      <td>Адель</td>\n",
       "      <td>28</td>\n",
       "      <td>Омск</td>\n",
       "      <td>ultra</td>\n",
       "      <td>6</td>\n",
       "      <td>0</td>\n",
       "      <td>199</td>\n",
       "    </tr>\n",
       "  </tbody>\n",
       "</table>\n",
       "</div>"
      ],
      "text/plain": [
       "   user_id        name  age            city subscription_type  minute_price  \\\n",
       "0        1        Кира   22          Тюмень             ultra             6   \n",
       "1        2   Станислав   31            Омск             ultra             6   \n",
       "2        3     Алексей   20          Москва             ultra             6   \n",
       "3        4  Константин   26  Ростов-на-Дону             ultra             6   \n",
       "4        5       Адель   28            Омск             ultra             6   \n",
       "\n",
       "   start_ride_price  subscription_fee  \n",
       "0                 0               199  \n",
       "1                 0               199  \n",
       "2                 0               199  \n",
       "3                 0               199  \n",
       "4                 0               199  "
      ]
     },
     "execution_count": 37,
     "metadata": {},
     "output_type": "execute_result"
    }
   ],
   "source": [
    "data_extra = users_data.merge(subs_data, how = 'outer', on = 'subscription_type')\n",
    "data_extra.head()"
   ]
  },
  {
   "cell_type": "code",
   "execution_count": 74,
   "id": "1a6a1c13",
   "metadata": {
    "scrolled": true
   },
   "outputs": [
    {
     "name": "stdout",
     "output_type": "stream",
     "text": [
      "user_id              0\n",
      "name                 0\n",
      "age                  0\n",
      "city                 0\n",
      "subscription_type    0\n",
      "minute_price         0\n",
      "start_ride_price     0\n",
      "subscription_fee     0\n",
      "dtype: int64\n"
     ]
    },
    {
     "data": {
      "text/html": [
       "<div>\n",
       "<style scoped>\n",
       "    .dataframe tbody tr th:only-of-type {\n",
       "        vertical-align: middle;\n",
       "    }\n",
       "\n",
       "    .dataframe tbody tr th {\n",
       "        vertical-align: top;\n",
       "    }\n",
       "\n",
       "    .dataframe thead th {\n",
       "        text-align: right;\n",
       "    }\n",
       "</style>\n",
       "<table border=\"1\" class=\"dataframe\">\n",
       "  <thead>\n",
       "    <tr style=\"text-align: right;\">\n",
       "      <th></th>\n",
       "      <th>user_id</th>\n",
       "      <th>name</th>\n",
       "      <th>age</th>\n",
       "      <th>city</th>\n",
       "      <th>subscription_type</th>\n",
       "      <th>minute_price</th>\n",
       "      <th>start_ride_price</th>\n",
       "      <th>subscription_fee</th>\n",
       "      <th>distance</th>\n",
       "      <th>duration</th>\n",
       "      <th>date</th>\n",
       "      <th>month</th>\n",
       "    </tr>\n",
       "  </thead>\n",
       "  <tbody>\n",
       "    <tr>\n",
       "      <th>0</th>\n",
       "      <td>1</td>\n",
       "      <td>Кира</td>\n",
       "      <td>22</td>\n",
       "      <td>Тюмень</td>\n",
       "      <td>ultra</td>\n",
       "      <td>6</td>\n",
       "      <td>0</td>\n",
       "      <td>199</td>\n",
       "      <td>4409.919140</td>\n",
       "      <td>25.599769</td>\n",
       "      <td>2021-01-01</td>\n",
       "      <td>1</td>\n",
       "    </tr>\n",
       "    <tr>\n",
       "      <th>1</th>\n",
       "      <td>1</td>\n",
       "      <td>Кира</td>\n",
       "      <td>22</td>\n",
       "      <td>Тюмень</td>\n",
       "      <td>ultra</td>\n",
       "      <td>6</td>\n",
       "      <td>0</td>\n",
       "      <td>199</td>\n",
       "      <td>2617.592153</td>\n",
       "      <td>15.816871</td>\n",
       "      <td>2021-01-18</td>\n",
       "      <td>1</td>\n",
       "    </tr>\n",
       "    <tr>\n",
       "      <th>2</th>\n",
       "      <td>1</td>\n",
       "      <td>Кира</td>\n",
       "      <td>22</td>\n",
       "      <td>Тюмень</td>\n",
       "      <td>ultra</td>\n",
       "      <td>6</td>\n",
       "      <td>0</td>\n",
       "      <td>199</td>\n",
       "      <td>754.159807</td>\n",
       "      <td>6.232113</td>\n",
       "      <td>2021-04-20</td>\n",
       "      <td>4</td>\n",
       "    </tr>\n",
       "    <tr>\n",
       "      <th>3</th>\n",
       "      <td>1</td>\n",
       "      <td>Кира</td>\n",
       "      <td>22</td>\n",
       "      <td>Тюмень</td>\n",
       "      <td>ultra</td>\n",
       "      <td>6</td>\n",
       "      <td>0</td>\n",
       "      <td>199</td>\n",
       "      <td>2694.783254</td>\n",
       "      <td>18.511000</td>\n",
       "      <td>2021-08-11</td>\n",
       "      <td>8</td>\n",
       "    </tr>\n",
       "    <tr>\n",
       "      <th>4</th>\n",
       "      <td>1</td>\n",
       "      <td>Кира</td>\n",
       "      <td>22</td>\n",
       "      <td>Тюмень</td>\n",
       "      <td>ultra</td>\n",
       "      <td>6</td>\n",
       "      <td>0</td>\n",
       "      <td>199</td>\n",
       "      <td>4028.687306</td>\n",
       "      <td>26.265803</td>\n",
       "      <td>2021-08-28</td>\n",
       "      <td>8</td>\n",
       "    </tr>\n",
       "    <tr>\n",
       "      <th>5</th>\n",
       "      <td>1</td>\n",
       "      <td>Кира</td>\n",
       "      <td>22</td>\n",
       "      <td>Тюмень</td>\n",
       "      <td>ultra</td>\n",
       "      <td>6</td>\n",
       "      <td>0</td>\n",
       "      <td>199</td>\n",
       "      <td>2770.890808</td>\n",
       "      <td>16.650138</td>\n",
       "      <td>2021-10-09</td>\n",
       "      <td>10</td>\n",
       "    </tr>\n",
       "    <tr>\n",
       "      <th>6</th>\n",
       "      <td>1</td>\n",
       "      <td>Кира</td>\n",
       "      <td>22</td>\n",
       "      <td>Тюмень</td>\n",
       "      <td>ultra</td>\n",
       "      <td>6</td>\n",
       "      <td>0</td>\n",
       "      <td>199</td>\n",
       "      <td>3039.020292</td>\n",
       "      <td>14.927879</td>\n",
       "      <td>2021-10-19</td>\n",
       "      <td>10</td>\n",
       "    </tr>\n",
       "    <tr>\n",
       "      <th>7</th>\n",
       "      <td>1</td>\n",
       "      <td>Кира</td>\n",
       "      <td>22</td>\n",
       "      <td>Тюмень</td>\n",
       "      <td>ultra</td>\n",
       "      <td>6</td>\n",
       "      <td>0</td>\n",
       "      <td>199</td>\n",
       "      <td>2842.118050</td>\n",
       "      <td>23.117468</td>\n",
       "      <td>2021-11-06</td>\n",
       "      <td>11</td>\n",
       "    </tr>\n",
       "    <tr>\n",
       "      <th>8</th>\n",
       "      <td>1</td>\n",
       "      <td>Кира</td>\n",
       "      <td>22</td>\n",
       "      <td>Тюмень</td>\n",
       "      <td>ultra</td>\n",
       "      <td>6</td>\n",
       "      <td>0</td>\n",
       "      <td>199</td>\n",
       "      <td>3412.690668</td>\n",
       "      <td>15.238072</td>\n",
       "      <td>2021-11-14</td>\n",
       "      <td>11</td>\n",
       "    </tr>\n",
       "    <tr>\n",
       "      <th>9</th>\n",
       "      <td>1</td>\n",
       "      <td>Кира</td>\n",
       "      <td>22</td>\n",
       "      <td>Тюмень</td>\n",
       "      <td>ultra</td>\n",
       "      <td>6</td>\n",
       "      <td>0</td>\n",
       "      <td>199</td>\n",
       "      <td>748.690645</td>\n",
       "      <td>15.041884</td>\n",
       "      <td>2021-11-22</td>\n",
       "      <td>11</td>\n",
       "    </tr>\n",
       "    <tr>\n",
       "      <th>10</th>\n",
       "      <td>1</td>\n",
       "      <td>Кира</td>\n",
       "      <td>22</td>\n",
       "      <td>Тюмень</td>\n",
       "      <td>ultra</td>\n",
       "      <td>6</td>\n",
       "      <td>0</td>\n",
       "      <td>199</td>\n",
       "      <td>4031.020195</td>\n",
       "      <td>17.674448</td>\n",
       "      <td>2021-12-14</td>\n",
       "      <td>12</td>\n",
       "    </tr>\n",
       "    <tr>\n",
       "      <th>11</th>\n",
       "      <td>1</td>\n",
       "      <td>Кира</td>\n",
       "      <td>22</td>\n",
       "      <td>Тюмень</td>\n",
       "      <td>ultra</td>\n",
       "      <td>6</td>\n",
       "      <td>0</td>\n",
       "      <td>199</td>\n",
       "      <td>2720.609748</td>\n",
       "      <td>9.529463</td>\n",
       "      <td>2021-12-22</td>\n",
       "      <td>12</td>\n",
       "    </tr>\n",
       "    <tr>\n",
       "      <th>12</th>\n",
       "      <td>2</td>\n",
       "      <td>Станислав</td>\n",
       "      <td>31</td>\n",
       "      <td>Омск</td>\n",
       "      <td>ultra</td>\n",
       "      <td>6</td>\n",
       "      <td>0</td>\n",
       "      <td>199</td>\n",
       "      <td>3105.086678</td>\n",
       "      <td>24.307514</td>\n",
       "      <td>2021-03-15</td>\n",
       "      <td>3</td>\n",
       "    </tr>\n",
       "    <tr>\n",
       "      <th>13</th>\n",
       "      <td>2</td>\n",
       "      <td>Станислав</td>\n",
       "      <td>31</td>\n",
       "      <td>Омск</td>\n",
       "      <td>ultra</td>\n",
       "      <td>6</td>\n",
       "      <td>0</td>\n",
       "      <td>199</td>\n",
       "      <td>3053.519401</td>\n",
       "      <td>11.543256</td>\n",
       "      <td>2021-03-18</td>\n",
       "      <td>3</td>\n",
       "    </tr>\n",
       "    <tr>\n",
       "      <th>14</th>\n",
       "      <td>2</td>\n",
       "      <td>Станислав</td>\n",
       "      <td>31</td>\n",
       "      <td>Омск</td>\n",
       "      <td>ultra</td>\n",
       "      <td>6</td>\n",
       "      <td>0</td>\n",
       "      <td>199</td>\n",
       "      <td>4029.116927</td>\n",
       "      <td>25.109188</td>\n",
       "      <td>2021-03-23</td>\n",
       "      <td>3</td>\n",
       "    </tr>\n",
       "  </tbody>\n",
       "</table>\n",
       "</div>"
      ],
      "text/plain": [
       "    user_id       name  age    city subscription_type  minute_price  \\\n",
       "0         1       Кира   22  Тюмень             ultra             6   \n",
       "1         1       Кира   22  Тюмень             ultra             6   \n",
       "2         1       Кира   22  Тюмень             ultra             6   \n",
       "3         1       Кира   22  Тюмень             ultra             6   \n",
       "4         1       Кира   22  Тюмень             ultra             6   \n",
       "5         1       Кира   22  Тюмень             ultra             6   \n",
       "6         1       Кира   22  Тюмень             ultra             6   \n",
       "7         1       Кира   22  Тюмень             ultra             6   \n",
       "8         1       Кира   22  Тюмень             ultra             6   \n",
       "9         1       Кира   22  Тюмень             ultra             6   \n",
       "10        1       Кира   22  Тюмень             ultra             6   \n",
       "11        1       Кира   22  Тюмень             ultra             6   \n",
       "12        2  Станислав   31    Омск             ultra             6   \n",
       "13        2  Станислав   31    Омск             ultra             6   \n",
       "14        2  Станислав   31    Омск             ultra             6   \n",
       "\n",
       "    start_ride_price  subscription_fee     distance   duration       date  \\\n",
       "0                  0               199  4409.919140  25.599769 2021-01-01   \n",
       "1                  0               199  2617.592153  15.816871 2021-01-18   \n",
       "2                  0               199   754.159807   6.232113 2021-04-20   \n",
       "3                  0               199  2694.783254  18.511000 2021-08-11   \n",
       "4                  0               199  4028.687306  26.265803 2021-08-28   \n",
       "5                  0               199  2770.890808  16.650138 2021-10-09   \n",
       "6                  0               199  3039.020292  14.927879 2021-10-19   \n",
       "7                  0               199  2842.118050  23.117468 2021-11-06   \n",
       "8                  0               199  3412.690668  15.238072 2021-11-14   \n",
       "9                  0               199   748.690645  15.041884 2021-11-22   \n",
       "10                 0               199  4031.020195  17.674448 2021-12-14   \n",
       "11                 0               199  2720.609748   9.529463 2021-12-22   \n",
       "12                 0               199  3105.086678  24.307514 2021-03-15   \n",
       "13                 0               199  3053.519401  11.543256 2021-03-18   \n",
       "14                 0               199  4029.116927  25.109188 2021-03-23   \n",
       "\n",
       "    month  \n",
       "0       1  \n",
       "1       1  \n",
       "2       4  \n",
       "3       8  \n",
       "4       8  \n",
       "5      10  \n",
       "6      10  \n",
       "7      11  \n",
       "8      11  \n",
       "9      11  \n",
       "10     12  \n",
       "11     12  \n",
       "12      3  \n",
       "13      3  \n",
       "14      3  "
      ]
     },
     "execution_count": 74,
     "metadata": {},
     "output_type": "execute_result"
    }
   ],
   "source": [
    "data = data_extra.merge(rides_data, how = 'outer', on ='user_id')\n",
    "print(data_extra.isna().sum())\n",
    "data.head(15)"
   ]
  },
  {
   "cell_type": "code",
   "execution_count": 73,
   "id": "7a8d5c1d",
   "metadata": {},
   "outputs": [
    {
     "name": "stdout",
     "output_type": "stream",
     "text": [
      "1534 18068 2 18068\n",
      "user_id              0\n",
      "name                 0\n",
      "age                  0\n",
      "city                 0\n",
      "subscription_type    0\n",
      "dtype: int64 user_id     0\n",
      "distance    0\n",
      "duration    0\n",
      "date        0\n",
      "month       0\n",
      "dtype: int64 subscription_type    0\n",
      "minute_price         0\n",
      "start_ride_price     0\n",
      "subscription_fee     0\n",
      "dtype: int64\n"
     ]
    }
   ],
   "source": [
    "print(users_data.shape[0],rides_data.shape[0],subs_data.shape[0],data.shape[0])\n",
    "print(users_data.isna().sum(), rides_data.isna().sum(), subs_data.isna().sum())"
   ]
  },
  {
   "cell_type": "markdown",
   "id": "cad7e6ab",
   "metadata": {},
   "source": [
    "Все получилось, в users_data мы хранили данные о пользователях, а в rides_data были данные о поездках, которые прикрепили к таблицы по user_id, ( у 1-го пользователя может быть больше одной поездки), поэтому количество строк увеличилось. \n",
    "Объединение таблиц произошло успешно, пропусков не имеется."
   ]
  },
  {
   "cell_type": "markdown",
   "id": "5902b697",
   "metadata": {},
   "source": [
    "- 4.2 Создайте ещё два датафрейма из датафрейма, созданного на этапе 4.1:\n",
    "- c данными о пользователях без подписки;\n",
    "- с данными о пользователях с подпиской."
   ]
  },
  {
   "cell_type": "code",
   "execution_count": 40,
   "id": "a971f1c5",
   "metadata": {},
   "outputs": [],
   "source": [
    "data_free = data.loc[data['subscription_type'] == 'free']\n",
    "data_ultra = data.loc[data['subscription_type'] == 'ultra']"
   ]
  },
  {
   "cell_type": "code",
   "execution_count": 41,
   "id": "409814bd",
   "metadata": {
    "scrolled": true
   },
   "outputs": [
    {
     "data": {
      "text/html": [
       "<div>\n",
       "<style scoped>\n",
       "    .dataframe tbody tr th:only-of-type {\n",
       "        vertical-align: middle;\n",
       "    }\n",
       "\n",
       "    .dataframe tbody tr th {\n",
       "        vertical-align: top;\n",
       "    }\n",
       "\n",
       "    .dataframe thead th {\n",
       "        text-align: right;\n",
       "    }\n",
       "</style>\n",
       "<table border=\"1\" class=\"dataframe\">\n",
       "  <thead>\n",
       "    <tr style=\"text-align: right;\">\n",
       "      <th></th>\n",
       "      <th>user_id</th>\n",
       "      <th>name</th>\n",
       "      <th>age</th>\n",
       "      <th>city</th>\n",
       "      <th>subscription_type</th>\n",
       "      <th>minute_price</th>\n",
       "      <th>start_ride_price</th>\n",
       "      <th>subscription_fee</th>\n",
       "      <th>distance</th>\n",
       "      <th>duration</th>\n",
       "      <th>date</th>\n",
       "      <th>month</th>\n",
       "    </tr>\n",
       "  </thead>\n",
       "  <tbody>\n",
       "    <tr>\n",
       "      <th>6500</th>\n",
       "      <td>700</td>\n",
       "      <td>Айдар</td>\n",
       "      <td>22</td>\n",
       "      <td>Омск</td>\n",
       "      <td>free</td>\n",
       "      <td>8</td>\n",
       "      <td>50</td>\n",
       "      <td>0</td>\n",
       "      <td>2515.690719</td>\n",
       "      <td>14.944286</td>\n",
       "      <td>2021-01-02</td>\n",
       "      <td>1</td>\n",
       "    </tr>\n",
       "    <tr>\n",
       "      <th>6501</th>\n",
       "      <td>700</td>\n",
       "      <td>Айдар</td>\n",
       "      <td>22</td>\n",
       "      <td>Омск</td>\n",
       "      <td>free</td>\n",
       "      <td>8</td>\n",
       "      <td>50</td>\n",
       "      <td>0</td>\n",
       "      <td>846.932642</td>\n",
       "      <td>16.234663</td>\n",
       "      <td>2021-02-01</td>\n",
       "      <td>2</td>\n",
       "    </tr>\n",
       "    <tr>\n",
       "      <th>6502</th>\n",
       "      <td>700</td>\n",
       "      <td>Айдар</td>\n",
       "      <td>22</td>\n",
       "      <td>Омск</td>\n",
       "      <td>free</td>\n",
       "      <td>8</td>\n",
       "      <td>50</td>\n",
       "      <td>0</td>\n",
       "      <td>4004.434142</td>\n",
       "      <td>20.016628</td>\n",
       "      <td>2021-02-04</td>\n",
       "      <td>2</td>\n",
       "    </tr>\n",
       "    <tr>\n",
       "      <th>6503</th>\n",
       "      <td>700</td>\n",
       "      <td>Айдар</td>\n",
       "      <td>22</td>\n",
       "      <td>Омск</td>\n",
       "      <td>free</td>\n",
       "      <td>8</td>\n",
       "      <td>50</td>\n",
       "      <td>0</td>\n",
       "      <td>1205.911290</td>\n",
       "      <td>9.782872</td>\n",
       "      <td>2021-02-10</td>\n",
       "      <td>2</td>\n",
       "    </tr>\n",
       "    <tr>\n",
       "      <th>6504</th>\n",
       "      <td>700</td>\n",
       "      <td>Айдар</td>\n",
       "      <td>22</td>\n",
       "      <td>Омск</td>\n",
       "      <td>free</td>\n",
       "      <td>8</td>\n",
       "      <td>50</td>\n",
       "      <td>0</td>\n",
       "      <td>3047.379435</td>\n",
       "      <td>17.427673</td>\n",
       "      <td>2021-02-14</td>\n",
       "      <td>2</td>\n",
       "    </tr>\n",
       "    <tr>\n",
       "      <th>6505</th>\n",
       "      <td>700</td>\n",
       "      <td>Айдар</td>\n",
       "      <td>22</td>\n",
       "      <td>Омск</td>\n",
       "      <td>free</td>\n",
       "      <td>8</td>\n",
       "      <td>50</td>\n",
       "      <td>0</td>\n",
       "      <td>4342.002254</td>\n",
       "      <td>22.368009</td>\n",
       "      <td>2021-02-23</td>\n",
       "      <td>2</td>\n",
       "    </tr>\n",
       "    <tr>\n",
       "      <th>6506</th>\n",
       "      <td>700</td>\n",
       "      <td>Айдар</td>\n",
       "      <td>22</td>\n",
       "      <td>Омск</td>\n",
       "      <td>free</td>\n",
       "      <td>8</td>\n",
       "      <td>50</td>\n",
       "      <td>0</td>\n",
       "      <td>3798.334905</td>\n",
       "      <td>18.243756</td>\n",
       "      <td>2021-03-03</td>\n",
       "      <td>3</td>\n",
       "    </tr>\n",
       "    <tr>\n",
       "      <th>6507</th>\n",
       "      <td>700</td>\n",
       "      <td>Айдар</td>\n",
       "      <td>22</td>\n",
       "      <td>Омск</td>\n",
       "      <td>free</td>\n",
       "      <td>8</td>\n",
       "      <td>50</td>\n",
       "      <td>0</td>\n",
       "      <td>2984.551206</td>\n",
       "      <td>15.424899</td>\n",
       "      <td>2021-04-09</td>\n",
       "      <td>4</td>\n",
       "    </tr>\n",
       "    <tr>\n",
       "      <th>6508</th>\n",
       "      <td>700</td>\n",
       "      <td>Айдар</td>\n",
       "      <td>22</td>\n",
       "      <td>Омск</td>\n",
       "      <td>free</td>\n",
       "      <td>8</td>\n",
       "      <td>50</td>\n",
       "      <td>0</td>\n",
       "      <td>3360.107141</td>\n",
       "      <td>16.765497</td>\n",
       "      <td>2021-06-12</td>\n",
       "      <td>6</td>\n",
       "    </tr>\n",
       "    <tr>\n",
       "      <th>6509</th>\n",
       "      <td>700</td>\n",
       "      <td>Айдар</td>\n",
       "      <td>22</td>\n",
       "      <td>Омск</td>\n",
       "      <td>free</td>\n",
       "      <td>8</td>\n",
       "      <td>50</td>\n",
       "      <td>0</td>\n",
       "      <td>2567.543847</td>\n",
       "      <td>11.312160</td>\n",
       "      <td>2021-06-23</td>\n",
       "      <td>6</td>\n",
       "    </tr>\n",
       "    <tr>\n",
       "      <th>6510</th>\n",
       "      <td>700</td>\n",
       "      <td>Айдар</td>\n",
       "      <td>22</td>\n",
       "      <td>Омск</td>\n",
       "      <td>free</td>\n",
       "      <td>8</td>\n",
       "      <td>50</td>\n",
       "      <td>0</td>\n",
       "      <td>4110.232038</td>\n",
       "      <td>15.807640</td>\n",
       "      <td>2021-07-08</td>\n",
       "      <td>7</td>\n",
       "    </tr>\n",
       "    <tr>\n",
       "      <th>6511</th>\n",
       "      <td>700</td>\n",
       "      <td>Айдар</td>\n",
       "      <td>22</td>\n",
       "      <td>Омск</td>\n",
       "      <td>free</td>\n",
       "      <td>8</td>\n",
       "      <td>50</td>\n",
       "      <td>0</td>\n",
       "      <td>288.974241</td>\n",
       "      <td>4.788112</td>\n",
       "      <td>2021-07-18</td>\n",
       "      <td>7</td>\n",
       "    </tr>\n",
       "    <tr>\n",
       "      <th>6512</th>\n",
       "      <td>700</td>\n",
       "      <td>Айдар</td>\n",
       "      <td>22</td>\n",
       "      <td>Омск</td>\n",
       "      <td>free</td>\n",
       "      <td>8</td>\n",
       "      <td>50</td>\n",
       "      <td>0</td>\n",
       "      <td>4071.654669</td>\n",
       "      <td>16.370546</td>\n",
       "      <td>2021-08-17</td>\n",
       "      <td>8</td>\n",
       "    </tr>\n",
       "    <tr>\n",
       "      <th>6513</th>\n",
       "      <td>700</td>\n",
       "      <td>Айдар</td>\n",
       "      <td>22</td>\n",
       "      <td>Омск</td>\n",
       "      <td>free</td>\n",
       "      <td>8</td>\n",
       "      <td>50</td>\n",
       "      <td>0</td>\n",
       "      <td>1920.188901</td>\n",
       "      <td>9.608453</td>\n",
       "      <td>2021-10-08</td>\n",
       "      <td>10</td>\n",
       "    </tr>\n",
       "    <tr>\n",
       "      <th>6514</th>\n",
       "      <td>700</td>\n",
       "      <td>Айдар</td>\n",
       "      <td>22</td>\n",
       "      <td>Омск</td>\n",
       "      <td>free</td>\n",
       "      <td>8</td>\n",
       "      <td>50</td>\n",
       "      <td>0</td>\n",
       "      <td>4402.389717</td>\n",
       "      <td>33.013035</td>\n",
       "      <td>2021-10-15</td>\n",
       "      <td>10</td>\n",
       "    </tr>\n",
       "  </tbody>\n",
       "</table>\n",
       "</div>"
      ],
      "text/plain": [
       "      user_id   name  age  city subscription_type  minute_price  \\\n",
       "6500      700  Айдар   22  Омск              free             8   \n",
       "6501      700  Айдар   22  Омск              free             8   \n",
       "6502      700  Айдар   22  Омск              free             8   \n",
       "6503      700  Айдар   22  Омск              free             8   \n",
       "6504      700  Айдар   22  Омск              free             8   \n",
       "6505      700  Айдар   22  Омск              free             8   \n",
       "6506      700  Айдар   22  Омск              free             8   \n",
       "6507      700  Айдар   22  Омск              free             8   \n",
       "6508      700  Айдар   22  Омск              free             8   \n",
       "6509      700  Айдар   22  Омск              free             8   \n",
       "6510      700  Айдар   22  Омск              free             8   \n",
       "6511      700  Айдар   22  Омск              free             8   \n",
       "6512      700  Айдар   22  Омск              free             8   \n",
       "6513      700  Айдар   22  Омск              free             8   \n",
       "6514      700  Айдар   22  Омск              free             8   \n",
       "\n",
       "      start_ride_price  subscription_fee     distance   duration       date  \\\n",
       "6500                50                 0  2515.690719  14.944286 2021-01-02   \n",
       "6501                50                 0   846.932642  16.234663 2021-02-01   \n",
       "6502                50                 0  4004.434142  20.016628 2021-02-04   \n",
       "6503                50                 0  1205.911290   9.782872 2021-02-10   \n",
       "6504                50                 0  3047.379435  17.427673 2021-02-14   \n",
       "6505                50                 0  4342.002254  22.368009 2021-02-23   \n",
       "6506                50                 0  3798.334905  18.243756 2021-03-03   \n",
       "6507                50                 0  2984.551206  15.424899 2021-04-09   \n",
       "6508                50                 0  3360.107141  16.765497 2021-06-12   \n",
       "6509                50                 0  2567.543847  11.312160 2021-06-23   \n",
       "6510                50                 0  4110.232038  15.807640 2021-07-08   \n",
       "6511                50                 0   288.974241   4.788112 2021-07-18   \n",
       "6512                50                 0  4071.654669  16.370546 2021-08-17   \n",
       "6513                50                 0  1920.188901   9.608453 2021-10-08   \n",
       "6514                50                 0  4402.389717  33.013035 2021-10-15   \n",
       "\n",
       "      month  \n",
       "6500      1  \n",
       "6501      2  \n",
       "6502      2  \n",
       "6503      2  \n",
       "6504      2  \n",
       "6505      2  \n",
       "6506      3  \n",
       "6507      4  \n",
       "6508      6  \n",
       "6509      6  \n",
       "6510      7  \n",
       "6511      7  \n",
       "6512      8  \n",
       "6513     10  \n",
       "6514     10  "
      ]
     },
     "execution_count": 41,
     "metadata": {},
     "output_type": "execute_result"
    }
   ],
   "source": [
    "data_free.head(15)"
   ]
  },
  {
   "cell_type": "code",
   "execution_count": 42,
   "id": "123bc03b",
   "metadata": {
    "scrolled": true
   },
   "outputs": [
    {
     "data": {
      "text/html": [
       "<div>\n",
       "<style scoped>\n",
       "    .dataframe tbody tr th:only-of-type {\n",
       "        vertical-align: middle;\n",
       "    }\n",
       "\n",
       "    .dataframe tbody tr th {\n",
       "        vertical-align: top;\n",
       "    }\n",
       "\n",
       "    .dataframe thead th {\n",
       "        text-align: right;\n",
       "    }\n",
       "</style>\n",
       "<table border=\"1\" class=\"dataframe\">\n",
       "  <thead>\n",
       "    <tr style=\"text-align: right;\">\n",
       "      <th></th>\n",
       "      <th>user_id</th>\n",
       "      <th>name</th>\n",
       "      <th>age</th>\n",
       "      <th>city</th>\n",
       "      <th>subscription_type</th>\n",
       "      <th>minute_price</th>\n",
       "      <th>start_ride_price</th>\n",
       "      <th>subscription_fee</th>\n",
       "      <th>distance</th>\n",
       "      <th>duration</th>\n",
       "      <th>date</th>\n",
       "      <th>month</th>\n",
       "    </tr>\n",
       "  </thead>\n",
       "  <tbody>\n",
       "    <tr>\n",
       "      <th>0</th>\n",
       "      <td>1</td>\n",
       "      <td>Кира</td>\n",
       "      <td>22</td>\n",
       "      <td>Тюмень</td>\n",
       "      <td>ultra</td>\n",
       "      <td>6</td>\n",
       "      <td>0</td>\n",
       "      <td>199</td>\n",
       "      <td>4409.919140</td>\n",
       "      <td>25.599769</td>\n",
       "      <td>2021-01-01</td>\n",
       "      <td>1</td>\n",
       "    </tr>\n",
       "    <tr>\n",
       "      <th>1</th>\n",
       "      <td>1</td>\n",
       "      <td>Кира</td>\n",
       "      <td>22</td>\n",
       "      <td>Тюмень</td>\n",
       "      <td>ultra</td>\n",
       "      <td>6</td>\n",
       "      <td>0</td>\n",
       "      <td>199</td>\n",
       "      <td>2617.592153</td>\n",
       "      <td>15.816871</td>\n",
       "      <td>2021-01-18</td>\n",
       "      <td>1</td>\n",
       "    </tr>\n",
       "    <tr>\n",
       "      <th>2</th>\n",
       "      <td>1</td>\n",
       "      <td>Кира</td>\n",
       "      <td>22</td>\n",
       "      <td>Тюмень</td>\n",
       "      <td>ultra</td>\n",
       "      <td>6</td>\n",
       "      <td>0</td>\n",
       "      <td>199</td>\n",
       "      <td>754.159807</td>\n",
       "      <td>6.232113</td>\n",
       "      <td>2021-04-20</td>\n",
       "      <td>4</td>\n",
       "    </tr>\n",
       "    <tr>\n",
       "      <th>3</th>\n",
       "      <td>1</td>\n",
       "      <td>Кира</td>\n",
       "      <td>22</td>\n",
       "      <td>Тюмень</td>\n",
       "      <td>ultra</td>\n",
       "      <td>6</td>\n",
       "      <td>0</td>\n",
       "      <td>199</td>\n",
       "      <td>2694.783254</td>\n",
       "      <td>18.511000</td>\n",
       "      <td>2021-08-11</td>\n",
       "      <td>8</td>\n",
       "    </tr>\n",
       "    <tr>\n",
       "      <th>4</th>\n",
       "      <td>1</td>\n",
       "      <td>Кира</td>\n",
       "      <td>22</td>\n",
       "      <td>Тюмень</td>\n",
       "      <td>ultra</td>\n",
       "      <td>6</td>\n",
       "      <td>0</td>\n",
       "      <td>199</td>\n",
       "      <td>4028.687306</td>\n",
       "      <td>26.265803</td>\n",
       "      <td>2021-08-28</td>\n",
       "      <td>8</td>\n",
       "    </tr>\n",
       "    <tr>\n",
       "      <th>5</th>\n",
       "      <td>1</td>\n",
       "      <td>Кира</td>\n",
       "      <td>22</td>\n",
       "      <td>Тюмень</td>\n",
       "      <td>ultra</td>\n",
       "      <td>6</td>\n",
       "      <td>0</td>\n",
       "      <td>199</td>\n",
       "      <td>2770.890808</td>\n",
       "      <td>16.650138</td>\n",
       "      <td>2021-10-09</td>\n",
       "      <td>10</td>\n",
       "    </tr>\n",
       "    <tr>\n",
       "      <th>6</th>\n",
       "      <td>1</td>\n",
       "      <td>Кира</td>\n",
       "      <td>22</td>\n",
       "      <td>Тюмень</td>\n",
       "      <td>ultra</td>\n",
       "      <td>6</td>\n",
       "      <td>0</td>\n",
       "      <td>199</td>\n",
       "      <td>3039.020292</td>\n",
       "      <td>14.927879</td>\n",
       "      <td>2021-10-19</td>\n",
       "      <td>10</td>\n",
       "    </tr>\n",
       "    <tr>\n",
       "      <th>7</th>\n",
       "      <td>1</td>\n",
       "      <td>Кира</td>\n",
       "      <td>22</td>\n",
       "      <td>Тюмень</td>\n",
       "      <td>ultra</td>\n",
       "      <td>6</td>\n",
       "      <td>0</td>\n",
       "      <td>199</td>\n",
       "      <td>2842.118050</td>\n",
       "      <td>23.117468</td>\n",
       "      <td>2021-11-06</td>\n",
       "      <td>11</td>\n",
       "    </tr>\n",
       "    <tr>\n",
       "      <th>8</th>\n",
       "      <td>1</td>\n",
       "      <td>Кира</td>\n",
       "      <td>22</td>\n",
       "      <td>Тюмень</td>\n",
       "      <td>ultra</td>\n",
       "      <td>6</td>\n",
       "      <td>0</td>\n",
       "      <td>199</td>\n",
       "      <td>3412.690668</td>\n",
       "      <td>15.238072</td>\n",
       "      <td>2021-11-14</td>\n",
       "      <td>11</td>\n",
       "    </tr>\n",
       "    <tr>\n",
       "      <th>9</th>\n",
       "      <td>1</td>\n",
       "      <td>Кира</td>\n",
       "      <td>22</td>\n",
       "      <td>Тюмень</td>\n",
       "      <td>ultra</td>\n",
       "      <td>6</td>\n",
       "      <td>0</td>\n",
       "      <td>199</td>\n",
       "      <td>748.690645</td>\n",
       "      <td>15.041884</td>\n",
       "      <td>2021-11-22</td>\n",
       "      <td>11</td>\n",
       "    </tr>\n",
       "    <tr>\n",
       "      <th>10</th>\n",
       "      <td>1</td>\n",
       "      <td>Кира</td>\n",
       "      <td>22</td>\n",
       "      <td>Тюмень</td>\n",
       "      <td>ultra</td>\n",
       "      <td>6</td>\n",
       "      <td>0</td>\n",
       "      <td>199</td>\n",
       "      <td>4031.020195</td>\n",
       "      <td>17.674448</td>\n",
       "      <td>2021-12-14</td>\n",
       "      <td>12</td>\n",
       "    </tr>\n",
       "    <tr>\n",
       "      <th>11</th>\n",
       "      <td>1</td>\n",
       "      <td>Кира</td>\n",
       "      <td>22</td>\n",
       "      <td>Тюмень</td>\n",
       "      <td>ultra</td>\n",
       "      <td>6</td>\n",
       "      <td>0</td>\n",
       "      <td>199</td>\n",
       "      <td>2720.609748</td>\n",
       "      <td>9.529463</td>\n",
       "      <td>2021-12-22</td>\n",
       "      <td>12</td>\n",
       "    </tr>\n",
       "    <tr>\n",
       "      <th>12</th>\n",
       "      <td>2</td>\n",
       "      <td>Станислав</td>\n",
       "      <td>31</td>\n",
       "      <td>Омск</td>\n",
       "      <td>ultra</td>\n",
       "      <td>6</td>\n",
       "      <td>0</td>\n",
       "      <td>199</td>\n",
       "      <td>3105.086678</td>\n",
       "      <td>24.307514</td>\n",
       "      <td>2021-03-15</td>\n",
       "      <td>3</td>\n",
       "    </tr>\n",
       "    <tr>\n",
       "      <th>13</th>\n",
       "      <td>2</td>\n",
       "      <td>Станислав</td>\n",
       "      <td>31</td>\n",
       "      <td>Омск</td>\n",
       "      <td>ultra</td>\n",
       "      <td>6</td>\n",
       "      <td>0</td>\n",
       "      <td>199</td>\n",
       "      <td>3053.519401</td>\n",
       "      <td>11.543256</td>\n",
       "      <td>2021-03-18</td>\n",
       "      <td>3</td>\n",
       "    </tr>\n",
       "    <tr>\n",
       "      <th>14</th>\n",
       "      <td>2</td>\n",
       "      <td>Станислав</td>\n",
       "      <td>31</td>\n",
       "      <td>Омск</td>\n",
       "      <td>ultra</td>\n",
       "      <td>6</td>\n",
       "      <td>0</td>\n",
       "      <td>199</td>\n",
       "      <td>4029.116927</td>\n",
       "      <td>25.109188</td>\n",
       "      <td>2021-03-23</td>\n",
       "      <td>3</td>\n",
       "    </tr>\n",
       "  </tbody>\n",
       "</table>\n",
       "</div>"
      ],
      "text/plain": [
       "    user_id       name  age    city subscription_type  minute_price  \\\n",
       "0         1       Кира   22  Тюмень             ultra             6   \n",
       "1         1       Кира   22  Тюмень             ultra             6   \n",
       "2         1       Кира   22  Тюмень             ultra             6   \n",
       "3         1       Кира   22  Тюмень             ultra             6   \n",
       "4         1       Кира   22  Тюмень             ultra             6   \n",
       "5         1       Кира   22  Тюмень             ultra             6   \n",
       "6         1       Кира   22  Тюмень             ultra             6   \n",
       "7         1       Кира   22  Тюмень             ultra             6   \n",
       "8         1       Кира   22  Тюмень             ultra             6   \n",
       "9         1       Кира   22  Тюмень             ultra             6   \n",
       "10        1       Кира   22  Тюмень             ultra             6   \n",
       "11        1       Кира   22  Тюмень             ultra             6   \n",
       "12        2  Станислав   31    Омск             ultra             6   \n",
       "13        2  Станислав   31    Омск             ultra             6   \n",
       "14        2  Станислав   31    Омск             ultra             6   \n",
       "\n",
       "    start_ride_price  subscription_fee     distance   duration       date  \\\n",
       "0                  0               199  4409.919140  25.599769 2021-01-01   \n",
       "1                  0               199  2617.592153  15.816871 2021-01-18   \n",
       "2                  0               199   754.159807   6.232113 2021-04-20   \n",
       "3                  0               199  2694.783254  18.511000 2021-08-11   \n",
       "4                  0               199  4028.687306  26.265803 2021-08-28   \n",
       "5                  0               199  2770.890808  16.650138 2021-10-09   \n",
       "6                  0               199  3039.020292  14.927879 2021-10-19   \n",
       "7                  0               199  2842.118050  23.117468 2021-11-06   \n",
       "8                  0               199  3412.690668  15.238072 2021-11-14   \n",
       "9                  0               199   748.690645  15.041884 2021-11-22   \n",
       "10                 0               199  4031.020195  17.674448 2021-12-14   \n",
       "11                 0               199  2720.609748   9.529463 2021-12-22   \n",
       "12                 0               199  3105.086678  24.307514 2021-03-15   \n",
       "13                 0               199  3053.519401  11.543256 2021-03-18   \n",
       "14                 0               199  4029.116927  25.109188 2021-03-23   \n",
       "\n",
       "    month  \n",
       "0       1  \n",
       "1       1  \n",
       "2       4  \n",
       "3       8  \n",
       "4       8  \n",
       "5      10  \n",
       "6      10  \n",
       "7      11  \n",
       "8      11  \n",
       "9      11  \n",
       "10     12  \n",
       "11     12  \n",
       "12      3  \n",
       "13      3  \n",
       "14      3  "
      ]
     },
     "execution_count": 42,
     "metadata": {},
     "output_type": "execute_result"
    }
   ],
   "source": [
    "data_ultra.head(15)"
   ]
  },
  {
   "cell_type": "code",
   "execution_count": 43,
   "id": "3f02358f",
   "metadata": {},
   "outputs": [
    {
     "name": "stdout",
     "output_type": "stream",
     "text": [
      "['free']\n",
      "['ultra']\n"
     ]
    }
   ],
   "source": [
    "print(data_free['subscription_type'].unique())\n",
    "print(data_ultra['subscription_type'].unique())"
   ]
  },
  {
   "cell_type": "markdown",
   "id": "4c21ca54",
   "metadata": {},
   "source": [
    "Получилось создать два новых датафрейма, один с людьми без подписки (data_free), а другой с подписками (data_ultra)"
   ]
  },
  {
   "cell_type": "markdown",
   "id": "eb488eea",
   "metadata": {},
   "source": [
    "- 4.3 Визуализируйте информацию о расстоянии и времени поездок для пользователей обеих категорий."
   ]
  },
  {
   "cell_type": "markdown",
   "id": "c86c31e1",
   "metadata": {},
   "source": [
    "- **Пользователи без подписки**"
   ]
  },
  {
   "cell_type": "code",
   "execution_count": 75,
   "id": "59889a04",
   "metadata": {},
   "outputs": [
    {
     "data": {
      "text/plain": [
       "<AxesSubplot:title={'center':'Длительность поездки'}, xlabel='Длительность поездки без подписки', ylabel='Frequency'>"
      ]
     },
     "execution_count": 75,
     "metadata": {},
     "output_type": "execute_result"
    },
    {
     "data": {
      "image/png": "[encoded data removed]",
      "text/plain": [
       "<Figure size 432x288 with 1 Axes>"
      ]
     },
     "metadata": {
      "needs_background": "light"
     },
     "output_type": "display_data"
    }
   ],
   "source": [
    "import matplotlib.pyplot as plt\n",
    "\n",
    "plt.xlabel('Длительность поездки без подписки')\n",
    "plt.ylabel('Кол-во пользователей')\n",
    "data_free['duration'].plot(kind = 'hist' , bins = 50, title = 'Длительность поездки')"
   ]
  },
  {
   "cell_type": "code",
   "execution_count": 77,
   "id": "048c10cf",
   "metadata": {},
   "outputs": [
    {
     "data": {
      "text/plain": [
       "<AxesSubplot:title={'center':'Дистанция за поездку в м.'}, xlabel='Дистанция, пройденная пользователями в поездке', ylabel='Frequency'>"
      ]
     },
     "execution_count": 77,
     "metadata": {},
     "output_type": "execute_result"
    },
    {
     "data": {
      "image/png": "[encoded data removed]",
      "text/plain": [
       "<Figure size 432x288 with 1 Axes>"
      ]
     },
     "metadata": {
      "needs_background": "light"
     },
     "output_type": "display_data"
    }
   ],
   "source": [
    "plt.xlabel('Дистанция, пройденная пользователями в поездке')\n",
    "data_free['distance'].plot(kind = 'hist', bins = 50, title = 'Дистанция за поездку в м.')"
   ]
  },
  {
   "cell_type": "markdown",
   "id": "e7c4e9b4",
   "metadata": {},
   "source": [
    "- **Пользователи с подпиской**"
   ]
  },
  {
   "cell_type": "code",
   "execution_count": 46,
   "id": "0ea1a4d3",
   "metadata": {},
   "outputs": [
    {
     "data": {
      "text/plain": [
       "<AxesSubplot:title={'center':'Длительность поездки в м.'}, xlabel='Длительность поездки в м.', ylabel='Frequency'>"
      ]
     },
     "execution_count": 46,
     "metadata": {},
     "output_type": "execute_result"
    },
    {
     "data": {
      "image/png": "[encoded data removed]",
      "text/plain": [
       "<Figure size 432x288 with 1 Axes>"
      ]
     },
     "metadata": {
      "needs_background": "light"
     },
     "output_type": "display_data"
    }
   ],
   "source": [
    "plt.xlabel('Длительность поездки в м.')\n",
    "data_ultra['duration'].plot(kind = 'hist', bins = 50, title = 'Длительность поездки в м.' )"
   ]
  },
  {
   "cell_type": "code",
   "execution_count": 47,
   "id": "4aa8033e",
   "metadata": {},
   "outputs": [
    {
     "data": {
      "text/plain": [
       "<AxesSubplot:title={'center':'Дистанция поездки в м.'}, xlabel='Дистанция поездки в м.', ylabel='Frequency'>"
      ]
     },
     "execution_count": 47,
     "metadata": {},
     "output_type": "execute_result"
    },
    {
     "data": {
      "image/png": "[encoded data removed]",
      "text/plain": [
       "<Figure size 432x288 with 1 Axes>"
      ]
     },
     "metadata": {
      "needs_background": "light"
     },
     "output_type": "display_data"
    }
   ],
   "source": [
    "plt.xlabel('Дистанция поездки в м.')\n",
    "data_ultra['distance'].plot(kind = 'hist', bins = 50, title = 'Дистанция поездки в м.' )"
   ]
  },
  {
   "cell_type": "markdown",
   "id": "bcd929d6",
   "metadata": {},
   "source": [
    "-Можно сказать, что для **free** - средняя длительность составляет от 10 до 25 мин, а дистанция - (первый пик) до 1 км, и от 2 до 4,5 км (второй пик). -Для людей с **ultra** подпиской - средняя длительность составляет от 10 до 23 мин, а средняя дистанция - (первый пик) от 300 м. до 1.5 км и от 2.5 км до 4 км (второй пик)"
   ]
  },
  {
   "cell_type": "markdown",
   "id": "46210cd8",
   "metadata": {},
   "source": [
    "Также по графику видно, что пик для людей с подпиской уже, чем у людей без подписки. Это скорее всего связано с тем, что те люди, которые покупают подписку, добираются на самокатах до учебы/работы, и им выгоднее пользоваться подпиской, нежели **free** "
   ]
  },
  {
   "cell_type": "markdown",
   "id": "402d620f",
   "metadata": {},
   "source": [
    "#### Шаг 5. Подсчёт выручки"
   ]
  },
  {
   "cell_type": "markdown",
   "id": "f18ee118",
   "metadata": {},
   "source": [
    "- 5.1 Создайте датафрейм с агрегированными данными о поездках на основе датафрейма с объединёнными данными из шага 4: найдите суммарное расстояние, количество поездок и суммарное время для каждого пользователя за каждый месяц."
   ]
  },
  {
   "cell_type": "markdown",
   "id": "40521b63",
   "metadata": {},
   "source": [
    "Заменим значения для ячеек ultra и free на 1 и 0 соответственно"
   ]
  },
  {
   "cell_type": "code",
   "execution_count": 48,
   "id": "3ae39643",
   "metadata": {
    "scrolled": true
   },
   "outputs": [
    {
     "data": {
      "text/html": [
       "<div>\n",
       "<style scoped>\n",
       "    .dataframe tbody tr th:only-of-type {\n",
       "        vertical-align: middle;\n",
       "    }\n",
       "\n",
       "    .dataframe tbody tr th {\n",
       "        vertical-align: top;\n",
       "    }\n",
       "\n",
       "    .dataframe thead th {\n",
       "        text-align: right;\n",
       "    }\n",
       "</style>\n",
       "<table border=\"1\" class=\"dataframe\">\n",
       "  <thead>\n",
       "    <tr style=\"text-align: right;\">\n",
       "      <th></th>\n",
       "      <th>user_id</th>\n",
       "      <th>name</th>\n",
       "      <th>age</th>\n",
       "      <th>city</th>\n",
       "      <th>subscription_type</th>\n",
       "      <th>minute_price</th>\n",
       "      <th>start_ride_price</th>\n",
       "      <th>subscription_fee</th>\n",
       "      <th>distance</th>\n",
       "      <th>duration</th>\n",
       "      <th>date</th>\n",
       "      <th>month</th>\n",
       "    </tr>\n",
       "  </thead>\n",
       "  <tbody>\n",
       "    <tr>\n",
       "      <th>0</th>\n",
       "      <td>1</td>\n",
       "      <td>Кира</td>\n",
       "      <td>22</td>\n",
       "      <td>Тюмень</td>\n",
       "      <td>1</td>\n",
       "      <td>6</td>\n",
       "      <td>0</td>\n",
       "      <td>199</td>\n",
       "      <td>4409.919140</td>\n",
       "      <td>25.599769</td>\n",
       "      <td>2021-01-01</td>\n",
       "      <td>1</td>\n",
       "    </tr>\n",
       "    <tr>\n",
       "      <th>1</th>\n",
       "      <td>1</td>\n",
       "      <td>Кира</td>\n",
       "      <td>22</td>\n",
       "      <td>Тюмень</td>\n",
       "      <td>1</td>\n",
       "      <td>6</td>\n",
       "      <td>0</td>\n",
       "      <td>199</td>\n",
       "      <td>2617.592153</td>\n",
       "      <td>15.816871</td>\n",
       "      <td>2021-01-18</td>\n",
       "      <td>1</td>\n",
       "    </tr>\n",
       "    <tr>\n",
       "      <th>2</th>\n",
       "      <td>1</td>\n",
       "      <td>Кира</td>\n",
       "      <td>22</td>\n",
       "      <td>Тюмень</td>\n",
       "      <td>1</td>\n",
       "      <td>6</td>\n",
       "      <td>0</td>\n",
       "      <td>199</td>\n",
       "      <td>754.159807</td>\n",
       "      <td>6.232113</td>\n",
       "      <td>2021-04-20</td>\n",
       "      <td>4</td>\n",
       "    </tr>\n",
       "    <tr>\n",
       "      <th>3</th>\n",
       "      <td>1</td>\n",
       "      <td>Кира</td>\n",
       "      <td>22</td>\n",
       "      <td>Тюмень</td>\n",
       "      <td>1</td>\n",
       "      <td>6</td>\n",
       "      <td>0</td>\n",
       "      <td>199</td>\n",
       "      <td>2694.783254</td>\n",
       "      <td>18.511000</td>\n",
       "      <td>2021-08-11</td>\n",
       "      <td>8</td>\n",
       "    </tr>\n",
       "    <tr>\n",
       "      <th>4</th>\n",
       "      <td>1</td>\n",
       "      <td>Кира</td>\n",
       "      <td>22</td>\n",
       "      <td>Тюмень</td>\n",
       "      <td>1</td>\n",
       "      <td>6</td>\n",
       "      <td>0</td>\n",
       "      <td>199</td>\n",
       "      <td>4028.687306</td>\n",
       "      <td>26.265803</td>\n",
       "      <td>2021-08-28</td>\n",
       "      <td>8</td>\n",
       "    </tr>\n",
       "    <tr>\n",
       "      <th>5</th>\n",
       "      <td>1</td>\n",
       "      <td>Кира</td>\n",
       "      <td>22</td>\n",
       "      <td>Тюмень</td>\n",
       "      <td>1</td>\n",
       "      <td>6</td>\n",
       "      <td>0</td>\n",
       "      <td>199</td>\n",
       "      <td>2770.890808</td>\n",
       "      <td>16.650138</td>\n",
       "      <td>2021-10-09</td>\n",
       "      <td>10</td>\n",
       "    </tr>\n",
       "    <tr>\n",
       "      <th>6</th>\n",
       "      <td>1</td>\n",
       "      <td>Кира</td>\n",
       "      <td>22</td>\n",
       "      <td>Тюмень</td>\n",
       "      <td>1</td>\n",
       "      <td>6</td>\n",
       "      <td>0</td>\n",
       "      <td>199</td>\n",
       "      <td>3039.020292</td>\n",
       "      <td>14.927879</td>\n",
       "      <td>2021-10-19</td>\n",
       "      <td>10</td>\n",
       "    </tr>\n",
       "    <tr>\n",
       "      <th>7</th>\n",
       "      <td>1</td>\n",
       "      <td>Кира</td>\n",
       "      <td>22</td>\n",
       "      <td>Тюмень</td>\n",
       "      <td>1</td>\n",
       "      <td>6</td>\n",
       "      <td>0</td>\n",
       "      <td>199</td>\n",
       "      <td>2842.118050</td>\n",
       "      <td>23.117468</td>\n",
       "      <td>2021-11-06</td>\n",
       "      <td>11</td>\n",
       "    </tr>\n",
       "    <tr>\n",
       "      <th>8</th>\n",
       "      <td>1</td>\n",
       "      <td>Кира</td>\n",
       "      <td>22</td>\n",
       "      <td>Тюмень</td>\n",
       "      <td>1</td>\n",
       "      <td>6</td>\n",
       "      <td>0</td>\n",
       "      <td>199</td>\n",
       "      <td>3412.690668</td>\n",
       "      <td>15.238072</td>\n",
       "      <td>2021-11-14</td>\n",
       "      <td>11</td>\n",
       "    </tr>\n",
       "    <tr>\n",
       "      <th>9</th>\n",
       "      <td>1</td>\n",
       "      <td>Кира</td>\n",
       "      <td>22</td>\n",
       "      <td>Тюмень</td>\n",
       "      <td>1</td>\n",
       "      <td>6</td>\n",
       "      <td>0</td>\n",
       "      <td>199</td>\n",
       "      <td>748.690645</td>\n",
       "      <td>15.041884</td>\n",
       "      <td>2021-11-22</td>\n",
       "      <td>11</td>\n",
       "    </tr>\n",
       "    <tr>\n",
       "      <th>10</th>\n",
       "      <td>1</td>\n",
       "      <td>Кира</td>\n",
       "      <td>22</td>\n",
       "      <td>Тюмень</td>\n",
       "      <td>1</td>\n",
       "      <td>6</td>\n",
       "      <td>0</td>\n",
       "      <td>199</td>\n",
       "      <td>4031.020195</td>\n",
       "      <td>17.674448</td>\n",
       "      <td>2021-12-14</td>\n",
       "      <td>12</td>\n",
       "    </tr>\n",
       "    <tr>\n",
       "      <th>11</th>\n",
       "      <td>1</td>\n",
       "      <td>Кира</td>\n",
       "      <td>22</td>\n",
       "      <td>Тюмень</td>\n",
       "      <td>1</td>\n",
       "      <td>6</td>\n",
       "      <td>0</td>\n",
       "      <td>199</td>\n",
       "      <td>2720.609748</td>\n",
       "      <td>9.529463</td>\n",
       "      <td>2021-12-22</td>\n",
       "      <td>12</td>\n",
       "    </tr>\n",
       "    <tr>\n",
       "      <th>12</th>\n",
       "      <td>2</td>\n",
       "      <td>Станислав</td>\n",
       "      <td>31</td>\n",
       "      <td>Омск</td>\n",
       "      <td>1</td>\n",
       "      <td>6</td>\n",
       "      <td>0</td>\n",
       "      <td>199</td>\n",
       "      <td>3105.086678</td>\n",
       "      <td>24.307514</td>\n",
       "      <td>2021-03-15</td>\n",
       "      <td>3</td>\n",
       "    </tr>\n",
       "    <tr>\n",
       "      <th>13</th>\n",
       "      <td>2</td>\n",
       "      <td>Станислав</td>\n",
       "      <td>31</td>\n",
       "      <td>Омск</td>\n",
       "      <td>1</td>\n",
       "      <td>6</td>\n",
       "      <td>0</td>\n",
       "      <td>199</td>\n",
       "      <td>3053.519401</td>\n",
       "      <td>11.543256</td>\n",
       "      <td>2021-03-18</td>\n",
       "      <td>3</td>\n",
       "    </tr>\n",
       "    <tr>\n",
       "      <th>14</th>\n",
       "      <td>2</td>\n",
       "      <td>Станислав</td>\n",
       "      <td>31</td>\n",
       "      <td>Омск</td>\n",
       "      <td>1</td>\n",
       "      <td>6</td>\n",
       "      <td>0</td>\n",
       "      <td>199</td>\n",
       "      <td>4029.116927</td>\n",
       "      <td>25.109188</td>\n",
       "      <td>2021-03-23</td>\n",
       "      <td>3</td>\n",
       "    </tr>\n",
       "  </tbody>\n",
       "</table>\n",
       "</div>"
      ],
      "text/plain": [
       "    user_id       name  age    city  subscription_type  minute_price  \\\n",
       "0         1       Кира   22  Тюмень                  1             6   \n",
       "1         1       Кира   22  Тюмень                  1             6   \n",
       "2         1       Кира   22  Тюмень                  1             6   \n",
       "3         1       Кира   22  Тюмень                  1             6   \n",
       "4         1       Кира   22  Тюмень                  1             6   \n",
       "5         1       Кира   22  Тюмень                  1             6   \n",
       "6         1       Кира   22  Тюмень                  1             6   \n",
       "7         1       Кира   22  Тюмень                  1             6   \n",
       "8         1       Кира   22  Тюмень                  1             6   \n",
       "9         1       Кира   22  Тюмень                  1             6   \n",
       "10        1       Кира   22  Тюмень                  1             6   \n",
       "11        1       Кира   22  Тюмень                  1             6   \n",
       "12        2  Станислав   31    Омск                  1             6   \n",
       "13        2  Станислав   31    Омск                  1             6   \n",
       "14        2  Станислав   31    Омск                  1             6   \n",
       "\n",
       "    start_ride_price  subscription_fee     distance   duration       date  \\\n",
       "0                  0               199  4409.919140  25.599769 2021-01-01   \n",
       "1                  0               199  2617.592153  15.816871 2021-01-18   \n",
       "2                  0               199   754.159807   6.232113 2021-04-20   \n",
       "3                  0               199  2694.783254  18.511000 2021-08-11   \n",
       "4                  0               199  4028.687306  26.265803 2021-08-28   \n",
       "5                  0               199  2770.890808  16.650138 2021-10-09   \n",
       "6                  0               199  3039.020292  14.927879 2021-10-19   \n",
       "7                  0               199  2842.118050  23.117468 2021-11-06   \n",
       "8                  0               199  3412.690668  15.238072 2021-11-14   \n",
       "9                  0               199   748.690645  15.041884 2021-11-22   \n",
       "10                 0               199  4031.020195  17.674448 2021-12-14   \n",
       "11                 0               199  2720.609748   9.529463 2021-12-22   \n",
       "12                 0               199  3105.086678  24.307514 2021-03-15   \n",
       "13                 0               199  3053.519401  11.543256 2021-03-18   \n",
       "14                 0               199  4029.116927  25.109188 2021-03-23   \n",
       "\n",
       "    month  \n",
       "0       1  \n",
       "1       1  \n",
       "2       4  \n",
       "3       8  \n",
       "4       8  \n",
       "5      10  \n",
       "6      10  \n",
       "7      11  \n",
       "8      11  \n",
       "9      11  \n",
       "10     12  \n",
       "11     12  \n",
       "12      3  \n",
       "13      3  \n",
       "14      3  "
      ]
     },
     "execution_count": 48,
     "metadata": {},
     "output_type": "execute_result"
    }
   ],
   "source": [
    "data['subscription_type'] = data['subscription_type'].apply(lambda x: 1 if x == 'ultra' else 0)\n",
    "data.head(15)"
   ]
  },
  {
   "cell_type": "markdown",
   "id": "63d08ed3",
   "metadata": {},
   "source": [
    "Заменили"
   ]
  },
  {
   "cell_type": "code",
   "execution_count": 49,
   "id": "6dd3c901",
   "metadata": {},
   "outputs": [
    {
     "data": {
      "text/html": [
       "<div>\n",
       "<style scoped>\n",
       "    .dataframe tbody tr th:only-of-type {\n",
       "        vertical-align: middle;\n",
       "    }\n",
       "\n",
       "    .dataframe tbody tr th {\n",
       "        vertical-align: top;\n",
       "    }\n",
       "\n",
       "    .dataframe thead th {\n",
       "        text-align: right;\n",
       "    }\n",
       "</style>\n",
       "<table border=\"1\" class=\"dataframe\">\n",
       "  <thead>\n",
       "    <tr style=\"text-align: right;\">\n",
       "      <th></th>\n",
       "      <th></th>\n",
       "      <th>distance</th>\n",
       "      <th>duration</th>\n",
       "      <th>name</th>\n",
       "      <th>subscription_type</th>\n",
       "    </tr>\n",
       "    <tr>\n",
       "      <th>user_id</th>\n",
       "      <th>month</th>\n",
       "      <th></th>\n",
       "      <th></th>\n",
       "      <th></th>\n",
       "      <th></th>\n",
       "    </tr>\n",
       "  </thead>\n",
       "  <tbody>\n",
       "    <tr>\n",
       "      <th rowspan=\"6\" valign=\"top\">1</th>\n",
       "      <th>1</th>\n",
       "      <td>7027.511294</td>\n",
       "      <td>41.416640</td>\n",
       "      <td>2</td>\n",
       "      <td>1</td>\n",
       "    </tr>\n",
       "    <tr>\n",
       "      <th>4</th>\n",
       "      <td>754.159807</td>\n",
       "      <td>6.232113</td>\n",
       "      <td>1</td>\n",
       "      <td>1</td>\n",
       "    </tr>\n",
       "    <tr>\n",
       "      <th>8</th>\n",
       "      <td>6723.470560</td>\n",
       "      <td>44.776802</td>\n",
       "      <td>2</td>\n",
       "      <td>1</td>\n",
       "    </tr>\n",
       "    <tr>\n",
       "      <th>10</th>\n",
       "      <td>5809.911100</td>\n",
       "      <td>31.578017</td>\n",
       "      <td>2</td>\n",
       "      <td>1</td>\n",
       "    </tr>\n",
       "    <tr>\n",
       "      <th>11</th>\n",
       "      <td>7003.499363</td>\n",
       "      <td>53.397424</td>\n",
       "      <td>3</td>\n",
       "      <td>1</td>\n",
       "    </tr>\n",
       "    <tr>\n",
       "      <th>12</th>\n",
       "      <td>6751.629942</td>\n",
       "      <td>27.203912</td>\n",
       "      <td>2</td>\n",
       "      <td>1</td>\n",
       "    </tr>\n",
       "    <tr>\n",
       "      <th rowspan=\"7\" valign=\"top\">2</th>\n",
       "      <th>3</th>\n",
       "      <td>10187.723006</td>\n",
       "      <td>60.959959</td>\n",
       "      <td>3</td>\n",
       "      <td>1</td>\n",
       "    </tr>\n",
       "    <tr>\n",
       "      <th>4</th>\n",
       "      <td>6164.381824</td>\n",
       "      <td>39.048633</td>\n",
       "      <td>2</td>\n",
       "      <td>1</td>\n",
       "    </tr>\n",
       "    <tr>\n",
       "      <th>6</th>\n",
       "      <td>3255.338202</td>\n",
       "      <td>13.851127</td>\n",
       "      <td>1</td>\n",
       "      <td>1</td>\n",
       "    </tr>\n",
       "    <tr>\n",
       "      <th>7</th>\n",
       "      <td>6780.722964</td>\n",
       "      <td>46.170157</td>\n",
       "      <td>2</td>\n",
       "      <td>1</td>\n",
       "    </tr>\n",
       "    <tr>\n",
       "      <th>8</th>\n",
       "      <td>923.007439</td>\n",
       "      <td>6.914760</td>\n",
       "      <td>1</td>\n",
       "      <td>1</td>\n",
       "    </tr>\n",
       "    <tr>\n",
       "      <th>10</th>\n",
       "      <td>2824.636598</td>\n",
       "      <td>18.779128</td>\n",
       "      <td>1</td>\n",
       "      <td>1</td>\n",
       "    </tr>\n",
       "    <tr>\n",
       "      <th>12</th>\n",
       "      <td>3828.248580</td>\n",
       "      <td>11.920514</td>\n",
       "      <td>1</td>\n",
       "      <td>1</td>\n",
       "    </tr>\n",
       "    <tr>\n",
       "      <th rowspan=\"2\" valign=\"top\">3</th>\n",
       "      <th>1</th>\n",
       "      <td>3061.777147</td>\n",
       "      <td>12.654443</td>\n",
       "      <td>1</td>\n",
       "      <td>1</td>\n",
       "    </tr>\n",
       "    <tr>\n",
       "      <th>2</th>\n",
       "      <td>5421.152016</td>\n",
       "      <td>37.568637</td>\n",
       "      <td>2</td>\n",
       "      <td>1</td>\n",
       "    </tr>\n",
       "  </tbody>\n",
       "</table>\n",
       "</div>"
      ],
      "text/plain": [
       "                   distance   duration  name  subscription_type\n",
       "user_id month                                                  \n",
       "1       1       7027.511294  41.416640     2                  1\n",
       "        4        754.159807   6.232113     1                  1\n",
       "        8       6723.470560  44.776802     2                  1\n",
       "        10      5809.911100  31.578017     2                  1\n",
       "        11      7003.499363  53.397424     3                  1\n",
       "        12      6751.629942  27.203912     2                  1\n",
       "2       3      10187.723006  60.959959     3                  1\n",
       "        4       6164.381824  39.048633     2                  1\n",
       "        6       3255.338202  13.851127     1                  1\n",
       "        7       6780.722964  46.170157     2                  1\n",
       "        8        923.007439   6.914760     1                  1\n",
       "        10      2824.636598  18.779128     1                  1\n",
       "        12      3828.248580  11.920514     1                  1\n",
       "3       1       3061.777147  12.654443     1                  1\n",
       "        2       5421.152016  37.568637     2                  1"
      ]
     },
     "execution_count": 49,
     "metadata": {},
     "output_type": "execute_result"
    }
   ],
   "source": [
    "data_total = data.pivot_table(\n",
    "            index = ['user_id', 'month'],\n",
    "            values = ['distance', 'duration', 'name', 'subscription_type'],\n",
    "            aggfunc = {\n",
    "                'distance' : 'sum',\n",
    "                'duration' : 'sum',\n",
    "                'name' : 'count',\n",
    "                'subscription_type' : 'mean'\n",
    "            })\n",
    "data_total.head(15)\n",
    "#print(data_total['subscription_type'].unique())"
   ]
  },
  {
   "cell_type": "markdown",
   "id": "4b8453d3",
   "metadata": {},
   "source": [
    "Округляем поездки"
   ]
  },
  {
   "cell_type": "code",
   "execution_count": 50,
   "id": "fd7c4bef",
   "metadata": {},
   "outputs": [
    {
     "data": {
      "text/html": [
       "<div>\n",
       "<style scoped>\n",
       "    .dataframe tbody tr th:only-of-type {\n",
       "        vertical-align: middle;\n",
       "    }\n",
       "\n",
       "    .dataframe tbody tr th {\n",
       "        vertical-align: top;\n",
       "    }\n",
       "\n",
       "    .dataframe thead th {\n",
       "        text-align: right;\n",
       "    }\n",
       "</style>\n",
       "<table border=\"1\" class=\"dataframe\">\n",
       "  <thead>\n",
       "    <tr style=\"text-align: right;\">\n",
       "      <th></th>\n",
       "      <th></th>\n",
       "      <th>distance</th>\n",
       "      <th>duration</th>\n",
       "      <th>name</th>\n",
       "      <th>subscription_type</th>\n",
       "    </tr>\n",
       "    <tr>\n",
       "      <th>user_id</th>\n",
       "      <th>month</th>\n",
       "      <th></th>\n",
       "      <th></th>\n",
       "      <th></th>\n",
       "      <th></th>\n",
       "    </tr>\n",
       "  </thead>\n",
       "  <tbody>\n",
       "    <tr>\n",
       "      <th rowspan=\"6\" valign=\"top\">1</th>\n",
       "      <th>1</th>\n",
       "      <td>7027.511294</td>\n",
       "      <td>42.0</td>\n",
       "      <td>2</td>\n",
       "      <td>1</td>\n",
       "    </tr>\n",
       "    <tr>\n",
       "      <th>4</th>\n",
       "      <td>754.159807</td>\n",
       "      <td>7.0</td>\n",
       "      <td>1</td>\n",
       "      <td>1</td>\n",
       "    </tr>\n",
       "    <tr>\n",
       "      <th>8</th>\n",
       "      <td>6723.470560</td>\n",
       "      <td>45.0</td>\n",
       "      <td>2</td>\n",
       "      <td>1</td>\n",
       "    </tr>\n",
       "    <tr>\n",
       "      <th>10</th>\n",
       "      <td>5809.911100</td>\n",
       "      <td>32.0</td>\n",
       "      <td>2</td>\n",
       "      <td>1</td>\n",
       "    </tr>\n",
       "    <tr>\n",
       "      <th>11</th>\n",
       "      <td>7003.499363</td>\n",
       "      <td>54.0</td>\n",
       "      <td>3</td>\n",
       "      <td>1</td>\n",
       "    </tr>\n",
       "    <tr>\n",
       "      <th>12</th>\n",
       "      <td>6751.629942</td>\n",
       "      <td>28.0</td>\n",
       "      <td>2</td>\n",
       "      <td>1</td>\n",
       "    </tr>\n",
       "    <tr>\n",
       "      <th rowspan=\"7\" valign=\"top\">2</th>\n",
       "      <th>3</th>\n",
       "      <td>10187.723006</td>\n",
       "      <td>61.0</td>\n",
       "      <td>3</td>\n",
       "      <td>1</td>\n",
       "    </tr>\n",
       "    <tr>\n",
       "      <th>4</th>\n",
       "      <td>6164.381824</td>\n",
       "      <td>40.0</td>\n",
       "      <td>2</td>\n",
       "      <td>1</td>\n",
       "    </tr>\n",
       "    <tr>\n",
       "      <th>6</th>\n",
       "      <td>3255.338202</td>\n",
       "      <td>14.0</td>\n",
       "      <td>1</td>\n",
       "      <td>1</td>\n",
       "    </tr>\n",
       "    <tr>\n",
       "      <th>7</th>\n",
       "      <td>6780.722964</td>\n",
       "      <td>47.0</td>\n",
       "      <td>2</td>\n",
       "      <td>1</td>\n",
       "    </tr>\n",
       "    <tr>\n",
       "      <th>8</th>\n",
       "      <td>923.007439</td>\n",
       "      <td>7.0</td>\n",
       "      <td>1</td>\n",
       "      <td>1</td>\n",
       "    </tr>\n",
       "    <tr>\n",
       "      <th>10</th>\n",
       "      <td>2824.636598</td>\n",
       "      <td>19.0</td>\n",
       "      <td>1</td>\n",
       "      <td>1</td>\n",
       "    </tr>\n",
       "    <tr>\n",
       "      <th>12</th>\n",
       "      <td>3828.248580</td>\n",
       "      <td>12.0</td>\n",
       "      <td>1</td>\n",
       "      <td>1</td>\n",
       "    </tr>\n",
       "    <tr>\n",
       "      <th rowspan=\"2\" valign=\"top\">3</th>\n",
       "      <th>1</th>\n",
       "      <td>3061.777147</td>\n",
       "      <td>13.0</td>\n",
       "      <td>1</td>\n",
       "      <td>1</td>\n",
       "    </tr>\n",
       "    <tr>\n",
       "      <th>2</th>\n",
       "      <td>5421.152016</td>\n",
       "      <td>38.0</td>\n",
       "      <td>2</td>\n",
       "      <td>1</td>\n",
       "    </tr>\n",
       "  </tbody>\n",
       "</table>\n",
       "</div>"
      ],
      "text/plain": [
       "                   distance  duration  name  subscription_type\n",
       "user_id month                                                 \n",
       "1       1       7027.511294      42.0     2                  1\n",
       "        4        754.159807       7.0     1                  1\n",
       "        8       6723.470560      45.0     2                  1\n",
       "        10      5809.911100      32.0     2                  1\n",
       "        11      7003.499363      54.0     3                  1\n",
       "        12      6751.629942      28.0     2                  1\n",
       "2       3      10187.723006      61.0     3                  1\n",
       "        4       6164.381824      40.0     2                  1\n",
       "        6       3255.338202      14.0     1                  1\n",
       "        7       6780.722964      47.0     2                  1\n",
       "        8        923.007439       7.0     1                  1\n",
       "        10      2824.636598      19.0     1                  1\n",
       "        12      3828.248580      12.0     1                  1\n",
       "3       1       3061.777147      13.0     1                  1\n",
       "        2       5421.152016      38.0     2                  1"
      ]
     },
     "execution_count": 50,
     "metadata": {},
     "output_type": "execute_result"
    }
   ],
   "source": [
    "import numpy as np\n",
    "\n",
    "data_total['duration'] = np.ceil(data_total['duration'])\n",
    "data_total.head(15)\n"
   ]
  },
  {
   "cell_type": "markdown",
   "id": "eda2213a",
   "metadata": {},
   "source": [
    "- 5.2 В этот же датафрейм добавьте столбец с помесячной выручкой, которую принёс каждый пользователь. Для этого обратитесь к информации об условиях оплаты для подписчиков и тех, у кого нет подписки. Продолжительность каждой поездки в каждой строке исходного датафрейма для подсчёта стоимости округляется до следующего целого числа: например, значения 25.3, 25.5 и 26.0 должны быть преобразованы к 26."
   ]
  },
  {
   "cell_type": "markdown",
   "id": "5757fb52",
   "metadata": {},
   "source": [
    "Помесячная выручка считается по формуле: стоимость старта поездки × количество поездок + стоимость одной минуты поездки × общая продолжительность всех поездок в минутах + стоимость подписки."
   ]
  },
  {
   "cell_type": "code",
   "execution_count": 51,
   "id": "b023035e",
   "metadata": {},
   "outputs": [
    {
     "data": {
      "text/html": [
       "<div>\n",
       "<style scoped>\n",
       "    .dataframe tbody tr th:only-of-type {\n",
       "        vertical-align: middle;\n",
       "    }\n",
       "\n",
       "    .dataframe tbody tr th {\n",
       "        vertical-align: top;\n",
       "    }\n",
       "\n",
       "    .dataframe thead th {\n",
       "        text-align: right;\n",
       "    }\n",
       "</style>\n",
       "<table border=\"1\" class=\"dataframe\">\n",
       "  <thead>\n",
       "    <tr style=\"text-align: right;\">\n",
       "      <th></th>\n",
       "      <th></th>\n",
       "      <th>distance</th>\n",
       "      <th>duration</th>\n",
       "      <th>name</th>\n",
       "      <th>subscription_type</th>\n",
       "      <th>income</th>\n",
       "    </tr>\n",
       "    <tr>\n",
       "      <th>user_id</th>\n",
       "      <th>month</th>\n",
       "      <th></th>\n",
       "      <th></th>\n",
       "      <th></th>\n",
       "      <th></th>\n",
       "      <th></th>\n",
       "    </tr>\n",
       "  </thead>\n",
       "  <tbody>\n",
       "    <tr>\n",
       "      <th rowspan=\"6\" valign=\"top\">1</th>\n",
       "      <th>1</th>\n",
       "      <td>7027.511294</td>\n",
       "      <td>42.0</td>\n",
       "      <td>2</td>\n",
       "      <td>1</td>\n",
       "      <td>451.0</td>\n",
       "    </tr>\n",
       "    <tr>\n",
       "      <th>4</th>\n",
       "      <td>754.159807</td>\n",
       "      <td>7.0</td>\n",
       "      <td>1</td>\n",
       "      <td>1</td>\n",
       "      <td>241.0</td>\n",
       "    </tr>\n",
       "    <tr>\n",
       "      <th>8</th>\n",
       "      <td>6723.470560</td>\n",
       "      <td>45.0</td>\n",
       "      <td>2</td>\n",
       "      <td>1</td>\n",
       "      <td>469.0</td>\n",
       "    </tr>\n",
       "    <tr>\n",
       "      <th>10</th>\n",
       "      <td>5809.911100</td>\n",
       "      <td>32.0</td>\n",
       "      <td>2</td>\n",
       "      <td>1</td>\n",
       "      <td>391.0</td>\n",
       "    </tr>\n",
       "    <tr>\n",
       "      <th>11</th>\n",
       "      <td>7003.499363</td>\n",
       "      <td>54.0</td>\n",
       "      <td>3</td>\n",
       "      <td>1</td>\n",
       "      <td>523.0</td>\n",
       "    </tr>\n",
       "    <tr>\n",
       "      <th>12</th>\n",
       "      <td>6751.629942</td>\n",
       "      <td>28.0</td>\n",
       "      <td>2</td>\n",
       "      <td>1</td>\n",
       "      <td>367.0</td>\n",
       "    </tr>\n",
       "    <tr>\n",
       "      <th rowspan=\"7\" valign=\"top\">2</th>\n",
       "      <th>3</th>\n",
       "      <td>10187.723006</td>\n",
       "      <td>61.0</td>\n",
       "      <td>3</td>\n",
       "      <td>1</td>\n",
       "      <td>565.0</td>\n",
       "    </tr>\n",
       "    <tr>\n",
       "      <th>4</th>\n",
       "      <td>6164.381824</td>\n",
       "      <td>40.0</td>\n",
       "      <td>2</td>\n",
       "      <td>1</td>\n",
       "      <td>439.0</td>\n",
       "    </tr>\n",
       "    <tr>\n",
       "      <th>6</th>\n",
       "      <td>3255.338202</td>\n",
       "      <td>14.0</td>\n",
       "      <td>1</td>\n",
       "      <td>1</td>\n",
       "      <td>283.0</td>\n",
       "    </tr>\n",
       "    <tr>\n",
       "      <th>7</th>\n",
       "      <td>6780.722964</td>\n",
       "      <td>47.0</td>\n",
       "      <td>2</td>\n",
       "      <td>1</td>\n",
       "      <td>481.0</td>\n",
       "    </tr>\n",
       "    <tr>\n",
       "      <th>8</th>\n",
       "      <td>923.007439</td>\n",
       "      <td>7.0</td>\n",
       "      <td>1</td>\n",
       "      <td>1</td>\n",
       "      <td>241.0</td>\n",
       "    </tr>\n",
       "    <tr>\n",
       "      <th>10</th>\n",
       "      <td>2824.636598</td>\n",
       "      <td>19.0</td>\n",
       "      <td>1</td>\n",
       "      <td>1</td>\n",
       "      <td>313.0</td>\n",
       "    </tr>\n",
       "    <tr>\n",
       "      <th>12</th>\n",
       "      <td>3828.248580</td>\n",
       "      <td>12.0</td>\n",
       "      <td>1</td>\n",
       "      <td>1</td>\n",
       "      <td>271.0</td>\n",
       "    </tr>\n",
       "    <tr>\n",
       "      <th rowspan=\"2\" valign=\"top\">3</th>\n",
       "      <th>1</th>\n",
       "      <td>3061.777147</td>\n",
       "      <td>13.0</td>\n",
       "      <td>1</td>\n",
       "      <td>1</td>\n",
       "      <td>277.0</td>\n",
       "    </tr>\n",
       "    <tr>\n",
       "      <th>2</th>\n",
       "      <td>5421.152016</td>\n",
       "      <td>38.0</td>\n",
       "      <td>2</td>\n",
       "      <td>1</td>\n",
       "      <td>427.0</td>\n",
       "    </tr>\n",
       "  </tbody>\n",
       "</table>\n",
       "</div>"
      ],
      "text/plain": [
       "                   distance  duration  name  subscription_type  income\n",
       "user_id month                                                         \n",
       "1       1       7027.511294      42.0     2                  1   451.0\n",
       "        4        754.159807       7.0     1                  1   241.0\n",
       "        8       6723.470560      45.0     2                  1   469.0\n",
       "        10      5809.911100      32.0     2                  1   391.0\n",
       "        11      7003.499363      54.0     3                  1   523.0\n",
       "        12      6751.629942      28.0     2                  1   367.0\n",
       "2       3      10187.723006      61.0     3                  1   565.0\n",
       "        4       6164.381824      40.0     2                  1   439.0\n",
       "        6       3255.338202      14.0     1                  1   283.0\n",
       "        7       6780.722964      47.0     2                  1   481.0\n",
       "        8        923.007439       7.0     1                  1   241.0\n",
       "        10      2824.636598      19.0     1                  1   313.0\n",
       "        12      3828.248580      12.0     1                  1   271.0\n",
       "3       1       3061.777147      13.0     1                  1   277.0\n",
       "        2       5421.152016      38.0     2                  1   427.0"
      ]
     },
     "execution_count": 51,
     "metadata": {},
     "output_type": "execute_result"
    }
   ],
   "source": [
    "data_total['income'] = 50 * data_total['name'] + 8 * data_total['duration'] + data_total['subscription_type'] * (-2*data_total['duration']-50*data_total['name']+199)\n",
    "data_total.head(15)"
   ]
  },
  {
   "cell_type": "code",
   "execution_count": 52,
   "id": "7351c87e",
   "metadata": {},
   "outputs": [
    {
     "data": {
      "text/plain": [
       "count    11331.000000\n",
       "mean       340.100344\n",
       "std        151.127485\n",
       "min         58.000000\n",
       "25%        234.000000\n",
       "50%        319.000000\n",
       "75%        412.000000\n",
       "max       1428.000000\n",
       "Name: income, dtype: float64"
      ]
     },
     "execution_count": 52,
     "metadata": {},
     "output_type": "execute_result"
    }
   ],
   "source": [
    "data_total['income'].describe()"
   ]
  },
  {
   "cell_type": "markdown",
   "id": "590c7899",
   "metadata": {},
   "source": [
    "В среднем прибыль с одного человека примерно от 230 до 480 рублей в месяц."
   ]
  },
  {
   "cell_type": "markdown",
   "id": "41545ac0",
   "metadata": {},
   "source": [
    "#### Шаг 6. Проверка гипотез"
   ]
  },
  {
   "cell_type": "markdown",
   "id": "fd27dc78",
   "metadata": {},
   "source": [
    "Продакт-менеджеры сервиса хотят увеличить количество пользователей с подпиской. Для этого они будут проводить различные акции, но сначала нужно выяснить несколько важных моментов.\n",
    "\n",
    "- 6.1 Важно понять, тратят ли пользователи с подпиской больше времени на поездки? Если да, то пользователи с подпиской могут быть «выгоднее» для компании. Проверьте гипотезу. Используйте исходные данные о продолжительности каждой сессии — отдельно для подписчиков и тех, у кого нет подписки.\n",
    "- 6.2 Расстояние одной поездки в 3130 метров — оптимальное с точки зрения износа самоката. Можно ли сказать, что среднее расстояние, которое проезжают пользователи с подпиской за одну поездку, не превышает 3130 метров? Проверьте гипотезу и сделайте выводы.\n",
    "- 6.3 Проверьте гипотезу о том, будет ли помесячная выручка от пользователей с подпиской по месяцам выше, чем выручка от пользователей без подписки. Сделайте вывод.\n",
    "- 6.4 Представьте такую ситуацию: техническая команда сервиса обновила сервера, с которыми взаимодействует мобильное приложение. Она надеется, что из-за этого количество обращений в техподдержку значимо снизилось. Некоторый файл содержит для каждого пользователя данные о количестве обращений до обновления и после него. Какой тест вам понадобился бы для проверки этой гипотезы?"
   ]
  },
  {
   "cell_type": "markdown",
   "id": "e5f9e6d3",
   "metadata": {},
   "source": [
    "- 6.1 Важно понять, тратят ли пользователи с подпиской больше времени на поездки? Если да, то пользователи с подпиской могут быть «выгоднее» для компании. Проверьте гипотезу. Используйте исходные данные о продолжительности каждой сессии — отдельно для подписчиков и тех, у кого нет подписки."
   ]
  },
  {
   "cell_type": "code",
   "execution_count": 53,
   "id": "ffd663be",
   "metadata": {},
   "outputs": [],
   "source": [
    "import scipy.stats as st"
   ]
  },
  {
   "cell_type": "markdown",
   "id": "016c5225",
   "metadata": {},
   "source": [
    "Подключаем билиотеку для изучения гипотез"
   ]
  },
  {
   "cell_type": "markdown",
   "id": "7e3bfd9a",
   "metadata": {},
   "source": [
    "H0 - пользователи с подпиской тратят времени столько же, сколько и без подписки\n",
    "H1 - пользователи с подпиской тратят времени больше, чем пользователи без подписки\n",
    "\n",
    "Проверим эти гипотезы."
   ]
  },
  {
   "cell_type": "code",
   "execution_count": 54,
   "id": "5e09ad92",
   "metadata": {},
   "outputs": [
    {
     "data": {
      "text/plain": [
       "Ttest_indResult(statistic=12.241203729044017, pvalue=1.2804098316645618e-34)"
      ]
     },
     "execution_count": 54,
     "metadata": {},
     "output_type": "execute_result"
    }
   ],
   "source": [
    "st.ttest_ind(data_ultra['duration'], data_free['duration'], alternative='greater',equal_var=True)"
   ]
  },
  {
   "cell_type": "markdown",
   "id": "1ed34066",
   "metadata": {},
   "source": [
    "Значение p-value очень маленькое, поэтому мы смело можем отвергнуть нулевую гипотезу и сказать, что ultra подписчики тратят времени на поездки больше и \"выгоднее\" для компании"
   ]
  },
  {
   "cell_type": "markdown",
   "id": "10f946a0",
   "metadata": {},
   "source": [
    "- 6.2 Расстояние одной поездки в 3130 метров — оптимальное с точки зрения износа самоката. Можно ли сказать, что среднее расстояние, которое проезжают пользователи с подпиской за одну поездку, не превышает 3130 метров? Проверьте гипотезу и сделайте выводы."
   ]
  },
  {
   "cell_type": "markdown",
   "id": "d030ff37",
   "metadata": {},
   "source": [
    "H0 - пользователи с подпиской проезжают больше или 3130 метров\n",
    "H1 - пользователи с подпиской проезжают менее 3130 метров"
   ]
  },
  {
   "cell_type": "code",
   "execution_count": 55,
   "id": "da4ae951",
   "metadata": {},
   "outputs": [
    {
     "data": {
      "text/plain": [
       "Ttest_1sampResult(statistic=-1.402123166869486, pvalue=0.08046311521502146)"
      ]
     },
     "execution_count": 55,
     "metadata": {},
     "output_type": "execute_result"
    }
   ],
   "source": [
    "st.ttest_1samp(data_ultra['distance'], popmean = 3130, alternative = 'less')"
   ]
  },
  {
   "cell_type": "markdown",
   "id": "ded61834",
   "metadata": {},
   "source": [
    "В данном случае p-value принимает значение около 8%, что означает, что мы не можем на 100% отвергать нулевую гипотезу, если у нас уровень значимости 5% или 1%."
   ]
  },
  {
   "cell_type": "markdown",
   "id": "e8fcc720",
   "metadata": {},
   "source": [
    "- 6.3 Проверьте гипотезу о том, будет ли помесячная выручка от пользователей с подпиской по месяцам выше, чем выручка от пользователей без подписки. Сделайте вывод."
   ]
  },
  {
   "cell_type": "markdown",
   "id": "ee92be6d",
   "metadata": {},
   "source": [
    "H0 - месячная выручка от ultra меньше, как и free\n",
    "H1 - месячная выручка от ultra такая же или выше, чем free"
   ]
  },
  {
   "cell_type": "code",
   "execution_count": 56,
   "id": "43110d47",
   "metadata": {},
   "outputs": [
    {
     "data": {
      "text/plain": [
       "array([1, 0])"
      ]
     },
     "execution_count": 56,
     "metadata": {},
     "output_type": "execute_result"
    }
   ],
   "source": [
    "data_total['subscription_type'].unique()"
   ]
  },
  {
   "cell_type": "code",
   "execution_count": 57,
   "id": "ac8a9ae7",
   "metadata": {},
   "outputs": [
    {
     "data": {
      "text/plain": [
       "Ttest_indResult(statistic=14.04341703675686, pvalue=1.0718729651261336e-44)"
      ]
     },
     "execution_count": 57,
     "metadata": {},
     "output_type": "execute_result"
    }
   ],
   "source": [
    "st.ttest_ind(data_total.loc[data_total['subscription_type']==1,'income'],\n",
    "              data_total.loc[data_total['subscription_type']==0,'income'],\n",
    "              alternative='greater',\n",
    "             equal_var=False\n",
    "              )"
   ]
  },
  {
   "cell_type": "markdown",
   "id": "5c248a5c",
   "metadata": {},
   "source": [
    "Значение p-value очень маленькое, поэтому можно отвергнуть нулевую гипотезу и считать, что месячная выручка от людей с подпиской ultra выше, чем с free"
   ]
  },
  {
   "cell_type": "markdown",
   "id": "c84da637",
   "metadata": {},
   "source": [
    "- 6.4 Представьте такую ситуацию: техническая команда сервиса обновила сервера, с которыми взаимодействует мобильное приложение. Она надеется, что из-за этого количество обращений в техподдержку значимо снизилось. Некоторый файл содержит для каждого пользователя данные о количестве обращений до обновления и после него. Какой тест вам понадобился бы для проверки этой гипотезы?"
   ]
  },
  {
   "cell_type": "markdown",
   "id": "97fa076f",
   "metadata": {},
   "source": [
    "Тут у нас есть два датасета с изменениями \"до\" и \"после\" обновления. Поэтому нам понадобится тест st.ttest_rel, который нужен для получения равенства среднего значения генеральной совокупности до и после изменения."
   ]
  },
  {
   "cell_type": "markdown",
   "id": "61213c5e",
   "metadata": {},
   "source": [
    "#### Шаг 7. Распределения"
   ]
  },
  {
   "cell_type": "markdown",
   "id": "fec5fcbe",
   "metadata": {},
   "source": [
    "- 7.1 Отделу маркетинга GoFast поставили задачу: нужно провести акцию с раздачей промокодов на один бесплатный месяц подписки, в рамках которой как минимум 100 существующих клиентов должны продлить эту подписку. То есть по завершении периода действия подписки пользователь может либо отказаться от неё, либо продлить, совершив соответствующий платёж. \n",
    "\n",
    "Эта акция уже проводилась ранее и по итогу выяснилось, что после бесплатного пробного периода подписку продлевают 10 % пользователей. Выясните, какое минимальное количество промокодов нужно разослать, чтобы вероятность не выполнить план была примерно 5 %. Подберите параметры распределения, описывающего эту ситуацию, постройте график распределения и сформулируйте ответ на вопрос о количестве промокодов."
   ]
  },
  {
   "cell_type": "code",
   "execution_count": 58,
   "id": "59638a2b",
   "metadata": {},
   "outputs": [
    {
     "name": "stdout",
     "output_type": "stream",
     "text": [
      "0.04971489312694162\n",
      "1169\n"
     ]
    }
   ],
   "source": [
    "from math import sqrt\n",
    "\n",
    "n = 1100  #1000 подписчиков + 100 взяли подписку\n",
    "res = 1 # шанс 100\n",
    "p = 0.1 # шанс 10\n",
    "while res > 0.05: # будем считать, пока res не станет примерно 5%, как в условии\n",
    "    n += 1 # будем \"подбирать\" значение\n",
    "    \n",
    "    mu = n * p  # параметры нормального распределения\n",
    "    sigma = sqrt(n*p*(1-p)) # считаем дисперсию ручками\n",
    "    \n",
    "    distr = st.norm(mu, sigma) # строим распределение\n",
    "    \n",
    "    res = distr.cdf(100) # как минимум 100 клиентов (левый хвост)\n",
    "print(res)\n",
    "print(n)"
   ]
  },
  {
   "cell_type": "markdown",
   "id": "52fbd94d",
   "metadata": {},
   "source": [
    "Получили значение 1169, - столько нужно раздать промокодов, чтобы как минимум 100 человек активировали подписку."
   ]
  },
  {
   "cell_type": "markdown",
   "id": "44f458c9",
   "metadata": {},
   "source": [
    "- 7.2 Отдел маркетинга рассылает клиентам push-уведомления в мобильном приложении. Клиенты могут открыть его или не открывать. Известно, что уведомления открывают около 40 % получивших клиентов. Отдел планирует разослать 1 млн уведомлений. С помощью аппроксимации постройте примерный график распределения и оцените вероятность того, что уведомление откроют не более 399,5 тыс. пользователей."
   ]
  },
  {
   "cell_type": "code",
   "execution_count": 59,
   "id": "fe8b2922",
   "metadata": {},
   "outputs": [
    {
     "data": {
      "text/plain": [
       "0.15371708296369768"
      ]
     },
     "execution_count": 59,
     "metadata": {},
     "output_type": "execute_result"
    }
   ],
   "source": [
    "from math import sqrt\n",
    "from scipy import stats as st\n",
    "n = 1000000\n",
    "p = 0.4\n",
    "\n",
    "mu = n * p\n",
    "sigma = sqrt(n * p * (1-p))\n",
    "\n",
    "distr = st.norm(mu,sigma)\n",
    "\n",
    "result = distr.cdf(399500)\n",
    "result\n"
   ]
  },
  {
   "cell_type": "code",
   "execution_count": 60,
   "id": "c1351641",
   "metadata": {},
   "outputs": [
    {
     "data": {
      "image/png": "[encoded data removed]",
      "text/plain": [
       "<Figure size 432x288 with 1 Axes>"
      ]
     },
     "metadata": {
      "needs_background": "light"
     },
     "output_type": "display_data"
    }
   ],
   "source": [
    "gr = np.random.normal(mu,sigma,1000)\n",
    "\n",
    "plt.hist(gr, 50, density = True)\n",
    "plt.show()"
   ]
  },
  {
   "cell_type": "markdown",
   "id": "717d792c",
   "metadata": {},
   "source": [
    "Странно, что на графике получаются такие значения. result показал, что вероятность получить менее 399 тысяч открывших клиентов - 15 %"
   ]
  },
  {
   "cell_type": "markdown",
   "id": "746f23d0",
   "metadata": {},
   "source": [
    "Заключение"
   ]
  },
  {
   "cell_type": "markdown",
   "id": "44704817",
   "metadata": {},
   "source": [
    "Были проанализированы данные о пользователях из многих городов, а также о данных каждой из поездок. В ходе работы был проведен анализ данных, проверены или опровергнуты гипотезы, - всё это сможет помочь компании получить большую выгоду.\n",
    "\n",
    "**Краткие выводы:**\n",
    "- Пользователи у которых есть подписка, приносят больше прибыли компании\n",
    "- В среднем люди проезжают около 3 км\n",
    "- Пользователи с активной подпиской тратят больше времени во время поездки на самокате.\n",
    "- Компании выгодно создавать новые акции и привлекать больше клиентов, а также стараться делать так, чтобы как можно больше пользователей переходили на платные подписки.\n",
    "\n",
    "**Рекомендации к компании:**\n",
    "- Создавать больше новых акций\n",
    "- Можно добавить реферальные программы (км в подарок, пригласи друга, и т.д.)"
   ]
  }
 ],
 "metadata": {
  "ExecuteTimeLog": [
   {
    "duration": 474,
    "start_time": "2023-10-19T09:19:47.533Z"
   },
   {
    "duration": 3,
    "start_time": "2023-10-19T09:20:30.600Z"
   },
   {
    "duration": 3,
    "start_time": "2023-10-19T09:20:55.808Z"
   },
   {
    "duration": 3,
    "start_time": "2023-10-19T09:23:32.963Z"
   },
   {
    "duration": 2,
    "start_time": "2023-10-19T09:23:35.197Z"
   },
   {
    "duration": 298,
    "start_time": "2023-10-19T09:27:19.221Z"
   },
   {
    "duration": 67,
    "start_time": "2023-10-19T09:30:06.488Z"
   },
   {
    "duration": 72,
    "start_time": "2023-10-19T09:30:11.497Z"
   },
   {
    "duration": 16,
    "start_time": "2023-10-19T09:30:18.569Z"
   },
   {
    "duration": 10,
    "start_time": "2023-10-19T09:34:03.483Z"
   },
   {
    "duration": 10,
    "start_time": "2023-10-19T09:36:31.493Z"
   },
   {
    "duration": 395,
    "start_time": "2023-10-19T09:39:53.506Z"
   },
   {
    "duration": 76,
    "start_time": "2023-10-19T09:39:53.903Z"
   },
   {
    "duration": 18,
    "start_time": "2023-10-19T09:39:53.981Z"
   },
   {
    "duration": 20,
    "start_time": "2023-10-19T09:39:54.001Z"
   },
   {
    "duration": 26,
    "start_time": "2023-10-19T09:39:54.022Z"
   },
   {
    "duration": 11,
    "start_time": "2023-10-19T09:45:38.197Z"
   },
   {
    "duration": 20,
    "start_time": "2023-10-19T09:46:10.218Z"
   },
   {
    "duration": 8,
    "start_time": "2023-10-19T09:47:57.014Z"
   },
   {
    "duration": 6,
    "start_time": "2023-10-19T09:48:07.816Z"
   },
   {
    "duration": 7,
    "start_time": "2023-10-19T09:48:18.673Z"
   },
   {
    "duration": 76,
    "start_time": "2023-10-19T09:50:41.545Z"
   },
   {
    "duration": 9,
    "start_time": "2023-10-19T09:51:09.753Z"
   },
   {
    "duration": 65,
    "start_time": "2023-10-19T09:51:12.613Z"
   },
   {
    "duration": 6,
    "start_time": "2023-10-19T09:52:00.986Z"
   },
   {
    "duration": 6,
    "start_time": "2023-10-19T09:52:05.177Z"
   },
   {
    "duration": 112,
    "start_time": "2023-10-19T09:52:43.807Z"
   },
   {
    "duration": 8,
    "start_time": "2023-10-19T09:53:28.575Z"
   },
   {
    "duration": 5,
    "start_time": "2023-10-19T09:53:34.687Z"
   },
   {
    "duration": 5,
    "start_time": "2023-10-19T09:53:39.000Z"
   },
   {
    "duration": 12,
    "start_time": "2023-10-19T09:53:48.277Z"
   },
   {
    "duration": 62,
    "start_time": "2023-10-20T16:31:13.824Z"
   },
   {
    "duration": 7,
    "start_time": "2023-10-20T16:31:24.390Z"
   },
   {
    "duration": 8,
    "start_time": "2023-10-20T16:31:30.742Z"
   },
   {
    "duration": 416,
    "start_time": "2023-10-20T16:31:36.249Z"
   },
   {
    "duration": 221,
    "start_time": "2023-10-20T16:31:37.673Z"
   },
   {
    "duration": 24,
    "start_time": "2023-10-20T16:31:38.507Z"
   },
   {
    "duration": 9,
    "start_time": "2023-10-20T16:31:39.677Z"
   },
   {
    "duration": 7,
    "start_time": "2023-10-20T16:31:40.561Z"
   },
   {
    "duration": 108,
    "start_time": "2023-10-20T16:31:42.454Z"
   },
   {
    "duration": 21,
    "start_time": "2023-10-20T16:31:42.879Z"
   },
   {
    "duration": 6,
    "start_time": "2023-10-20T16:31:43.755Z"
   },
   {
    "duration": 7,
    "start_time": "2023-10-20T16:31:44.588Z"
   },
   {
    "duration": 5,
    "start_time": "2023-10-20T16:31:45.369Z"
   },
   {
    "duration": 8,
    "start_time": "2023-10-20T16:31:46.622Z"
   },
   {
    "duration": 19,
    "start_time": "2023-10-20T16:31:47.221Z"
   },
   {
    "duration": 9,
    "start_time": "2023-10-20T16:31:48.521Z"
   },
   {
    "duration": 9,
    "start_time": "2023-10-20T16:32:18.361Z"
   },
   {
    "duration": 101,
    "start_time": "2023-10-20T16:32:29.645Z"
   },
   {
    "duration": 6,
    "start_time": "2023-10-20T16:32:33.557Z"
   },
   {
    "duration": 5,
    "start_time": "2023-10-20T16:33:18.790Z"
   },
   {
    "duration": 10,
    "start_time": "2023-10-20T16:35:16.610Z"
   },
   {
    "duration": 15,
    "start_time": "2023-10-20T16:36:45.442Z"
   },
   {
    "duration": 119,
    "start_time": "2023-10-20T16:37:38.717Z"
   },
   {
    "duration": 4,
    "start_time": "2023-10-20T16:38:14.609Z"
   },
   {
    "duration": 4,
    "start_time": "2023-10-20T16:38:29.089Z"
   },
   {
    "duration": 36,
    "start_time": "2023-10-20T16:39:48.713Z"
   },
   {
    "duration": 592,
    "start_time": "2023-10-20T16:40:24.774Z"
   },
   {
    "duration": 7,
    "start_time": "2023-10-20T16:42:58.793Z"
   },
   {
    "duration": 496,
    "start_time": "2023-10-21T19:27:30.159Z"
   },
   {
    "duration": 213,
    "start_time": "2023-10-21T19:27:30.660Z"
   },
   {
    "duration": 24,
    "start_time": "2023-10-21T19:27:30.876Z"
   },
   {
    "duration": 36,
    "start_time": "2023-10-21T19:27:30.908Z"
   },
   {
    "duration": 41,
    "start_time": "2023-10-21T19:27:30.947Z"
   },
   {
    "duration": 97,
    "start_time": "2023-10-21T19:27:30.991Z"
   },
   {
    "duration": 0,
    "start_time": "2023-10-21T19:27:31.091Z"
   },
   {
    "duration": 0,
    "start_time": "2023-10-21T19:27:31.093Z"
   },
   {
    "duration": 0,
    "start_time": "2023-10-21T19:27:31.095Z"
   },
   {
    "duration": 0,
    "start_time": "2023-10-21T19:27:31.096Z"
   },
   {
    "duration": 0,
    "start_time": "2023-10-21T19:27:31.099Z"
   },
   {
    "duration": 0,
    "start_time": "2023-10-21T19:27:31.100Z"
   },
   {
    "duration": 0,
    "start_time": "2023-10-21T19:27:31.101Z"
   },
   {
    "duration": 0,
    "start_time": "2023-10-21T19:27:31.103Z"
   },
   {
    "duration": 0,
    "start_time": "2023-10-21T19:27:31.105Z"
   },
   {
    "duration": 0,
    "start_time": "2023-10-21T19:27:31.106Z"
   },
   {
    "duration": 0,
    "start_time": "2023-10-21T19:27:31.107Z"
   },
   {
    "duration": 0,
    "start_time": "2023-10-21T19:27:31.108Z"
   },
   {
    "duration": 0,
    "start_time": "2023-10-21T19:27:31.110Z"
   },
   {
    "duration": 0,
    "start_time": "2023-10-21T19:27:31.111Z"
   },
   {
    "duration": 0,
    "start_time": "2023-10-21T19:27:31.112Z"
   },
   {
    "duration": 0,
    "start_time": "2023-10-21T19:27:31.113Z"
   },
   {
    "duration": 447,
    "start_time": "2023-10-21T19:31:12.194Z"
   },
   {
    "duration": 71,
    "start_time": "2023-10-21T19:31:12.643Z"
   },
   {
    "duration": 21,
    "start_time": "2023-10-21T19:31:12.716Z"
   },
   {
    "duration": 24,
    "start_time": "2023-10-21T19:31:12.740Z"
   },
   {
    "duration": 33,
    "start_time": "2023-10-21T19:31:12.766Z"
   },
   {
    "duration": 83,
    "start_time": "2023-10-21T19:31:12.801Z"
   },
   {
    "duration": 0,
    "start_time": "2023-10-21T19:31:12.886Z"
   },
   {
    "duration": 0,
    "start_time": "2023-10-21T19:31:12.888Z"
   },
   {
    "duration": 0,
    "start_time": "2023-10-21T19:31:12.889Z"
   },
   {
    "duration": 0,
    "start_time": "2023-10-21T19:31:12.891Z"
   },
   {
    "duration": 0,
    "start_time": "2023-10-21T19:31:12.894Z"
   },
   {
    "duration": 0,
    "start_time": "2023-10-21T19:31:12.895Z"
   },
   {
    "duration": 1,
    "start_time": "2023-10-21T19:31:12.896Z"
   },
   {
    "duration": 0,
    "start_time": "2023-10-21T19:31:12.898Z"
   },
   {
    "duration": 0,
    "start_time": "2023-10-21T19:31:12.900Z"
   },
   {
    "duration": 0,
    "start_time": "2023-10-21T19:31:12.901Z"
   },
   {
    "duration": 0,
    "start_time": "2023-10-21T19:31:12.902Z"
   },
   {
    "duration": 0,
    "start_time": "2023-10-21T19:31:12.904Z"
   },
   {
    "duration": 0,
    "start_time": "2023-10-21T19:31:12.905Z"
   },
   {
    "duration": 0,
    "start_time": "2023-10-21T19:31:12.908Z"
   },
   {
    "duration": 0,
    "start_time": "2023-10-21T19:31:12.909Z"
   },
   {
    "duration": 0,
    "start_time": "2023-10-21T19:31:12.911Z"
   },
   {
    "duration": 14,
    "start_time": "2023-10-21T19:31:22.275Z"
   },
   {
    "duration": 27,
    "start_time": "2023-10-21T19:31:22.620Z"
   },
   {
    "duration": 9,
    "start_time": "2023-10-21T19:31:23.701Z"
   },
   {
    "duration": 11,
    "start_time": "2023-10-21T19:31:24.157Z"
   },
   {
    "duration": 7,
    "start_time": "2023-10-21T19:31:24.532Z"
   },
   {
    "duration": 7,
    "start_time": "2023-10-21T19:31:25.176Z"
   },
   {
    "duration": 14,
    "start_time": "2023-10-21T19:31:25.634Z"
   },
   {
    "duration": 9,
    "start_time": "2023-10-21T19:31:26.316Z"
   },
   {
    "duration": 9,
    "start_time": "2023-10-21T19:31:26.609Z"
   },
   {
    "duration": 9,
    "start_time": "2023-10-21T19:31:26.879Z"
   },
   {
    "duration": 8,
    "start_time": "2023-10-21T19:31:27.270Z"
   },
   {
    "duration": 13,
    "start_time": "2023-10-21T19:31:27.501Z"
   },
   {
    "duration": 13,
    "start_time": "2023-10-21T19:31:27.884Z"
   },
   {
    "duration": 6,
    "start_time": "2023-10-21T19:31:29.489Z"
   },
   {
    "duration": 674,
    "start_time": "2023-10-21T19:31:30.307Z"
   },
   {
    "duration": 8,
    "start_time": "2023-10-21T19:31:30.984Z"
   },
   {
    "duration": 6,
    "start_time": "2023-10-21T19:31:32.249Z"
   },
   {
    "duration": 143,
    "start_time": "2023-10-21T19:32:21.352Z"
   },
   {
    "duration": 81,
    "start_time": "2023-10-21T19:35:45.462Z"
   },
   {
    "duration": 92,
    "start_time": "2023-10-21T19:36:03.965Z"
   },
   {
    "duration": 122,
    "start_time": "2023-10-21T19:36:25.721Z"
   },
   {
    "duration": 121,
    "start_time": "2023-10-21T19:36:27.206Z"
   },
   {
    "duration": 18,
    "start_time": "2023-10-21T19:36:52.385Z"
   },
   {
    "duration": 18,
    "start_time": "2023-10-21T19:37:24.076Z"
   },
   {
    "duration": 18,
    "start_time": "2023-10-21T19:37:40.775Z"
   },
   {
    "duration": 19,
    "start_time": "2023-10-21T19:37:50.534Z"
   },
   {
    "duration": 18,
    "start_time": "2023-10-21T19:38:03.518Z"
   },
   {
    "duration": 122,
    "start_time": "2023-10-21T19:39:31.981Z"
   },
   {
    "duration": 6,
    "start_time": "2023-10-21T19:39:35.805Z"
   },
   {
    "duration": 7,
    "start_time": "2023-10-21T19:39:41.715Z"
   },
   {
    "duration": 8,
    "start_time": "2023-10-21T19:39:51.916Z"
   },
   {
    "duration": 7,
    "start_time": "2023-10-21T19:39:56.783Z"
   },
   {
    "duration": 7,
    "start_time": "2023-10-21T19:40:07.506Z"
   },
   {
    "duration": 338,
    "start_time": "2023-10-21T19:42:03.181Z"
   },
   {
    "duration": 7,
    "start_time": "2023-10-21T19:42:32.988Z"
   },
   {
    "duration": 336,
    "start_time": "2023-10-21T19:42:51.474Z"
   },
   {
    "duration": 6,
    "start_time": "2023-10-21T19:43:24.858Z"
   },
   {
    "duration": 173,
    "start_time": "2023-10-21T19:43:57.717Z"
   },
   {
    "duration": 156,
    "start_time": "2023-10-21T19:49:10.135Z"
   },
   {
    "duration": 9,
    "start_time": "2023-10-21T19:50:56.186Z"
   },
   {
    "duration": 5,
    "start_time": "2023-10-21T19:51:16.265Z"
   },
   {
    "duration": 14,
    "start_time": "2023-10-21T19:51:28.926Z"
   },
   {
    "duration": 67,
    "start_time": "2023-10-22T13:31:02.283Z"
   },
   {
    "duration": 476,
    "start_time": "2023-10-22T13:31:09.026Z"
   },
   {
    "duration": 307,
    "start_time": "2023-10-22T13:31:09.504Z"
   },
   {
    "duration": 16,
    "start_time": "2023-10-22T13:31:09.813Z"
   },
   {
    "duration": 10,
    "start_time": "2023-10-22T13:31:09.832Z"
   },
   {
    "duration": 15,
    "start_time": "2023-10-22T13:31:09.843Z"
   },
   {
    "duration": 19,
    "start_time": "2023-10-22T13:31:09.859Z"
   },
   {
    "duration": 26,
    "start_time": "2023-10-22T13:31:09.880Z"
   },
   {
    "duration": 7,
    "start_time": "2023-10-22T13:31:09.908Z"
   },
   {
    "duration": 15,
    "start_time": "2023-10-22T13:31:09.917Z"
   },
   {
    "duration": 35,
    "start_time": "2023-10-22T13:31:09.936Z"
   },
   {
    "duration": 18,
    "start_time": "2023-10-22T13:31:09.974Z"
   },
   {
    "duration": 34,
    "start_time": "2023-10-22T13:31:09.994Z"
   },
   {
    "duration": 32,
    "start_time": "2023-10-22T13:31:10.029Z"
   },
   {
    "duration": 61,
    "start_time": "2023-10-22T13:31:10.064Z"
   },
   {
    "duration": 8,
    "start_time": "2023-10-22T13:31:10.127Z"
   },
   {
    "duration": 40,
    "start_time": "2023-10-22T13:31:10.137Z"
   },
   {
    "duration": 38,
    "start_time": "2023-10-22T13:31:10.179Z"
   },
   {
    "duration": 24,
    "start_time": "2023-10-22T13:31:10.218Z"
   },
   {
    "duration": 16,
    "start_time": "2023-10-22T13:31:10.244Z"
   },
   {
    "duration": 649,
    "start_time": "2023-10-22T13:31:10.262Z"
   },
   {
    "duration": 8,
    "start_time": "2023-10-22T13:31:10.913Z"
   },
   {
    "duration": 35,
    "start_time": "2023-10-22T13:31:10.922Z"
   },
   {
    "duration": 205,
    "start_time": "2023-10-22T13:31:10.959Z"
   },
   {
    "duration": 8,
    "start_time": "2023-10-22T13:31:11.166Z"
   },
   {
    "duration": 316,
    "start_time": "2023-10-22T13:31:11.175Z"
   },
   {
    "duration": 7,
    "start_time": "2023-10-22T13:31:11.493Z"
   },
   {
    "duration": 264,
    "start_time": "2023-10-22T13:31:11.502Z"
   },
   {
    "duration": 7,
    "start_time": "2023-10-22T13:31:11.770Z"
   },
   {
    "duration": 11,
    "start_time": "2023-10-22T13:31:40.487Z"
   },
   {
    "duration": 10,
    "start_time": "2023-10-22T13:33:32.766Z"
   },
   {
    "duration": 11,
    "start_time": "2023-10-22T13:33:40.765Z"
   },
   {
    "duration": 88,
    "start_time": "2023-10-22T13:34:38.406Z"
   },
   {
    "duration": 230,
    "start_time": "2023-10-22T13:35:19.950Z"
   },
   {
    "duration": 13,
    "start_time": "2023-10-22T13:36:19.041Z"
   },
   {
    "duration": 243,
    "start_time": "2023-10-22T13:38:54.078Z"
   },
   {
    "duration": 11,
    "start_time": "2023-10-22T13:39:06.873Z"
   },
   {
    "duration": 128,
    "start_time": "2023-10-22T13:41:34.428Z"
   },
   {
    "duration": 5,
    "start_time": "2023-10-22T13:44:43.210Z"
   },
   {
    "duration": 16,
    "start_time": "2023-10-22T13:46:35.408Z"
   },
   {
    "duration": 138,
    "start_time": "2023-10-22T13:47:56.080Z"
   },
   {
    "duration": 24,
    "start_time": "2023-10-22T13:47:59.776Z"
   },
   {
    "duration": 3,
    "start_time": "2023-10-22T13:48:39.663Z"
   },
   {
    "duration": 147,
    "start_time": "2023-10-22T13:49:04.022Z"
   },
   {
    "duration": 7,
    "start_time": "2023-10-22T13:49:10.173Z"
   },
   {
    "duration": 5,
    "start_time": "2023-10-22T13:49:43.863Z"
   },
   {
    "duration": 8,
    "start_time": "2023-10-22T14:06:43.009Z"
   },
   {
    "duration": 12,
    "start_time": "2023-10-22T14:06:45.851Z"
   },
   {
    "duration": 22,
    "start_time": "2023-10-22T14:06:46.721Z"
   },
   {
    "duration": 16,
    "start_time": "2023-10-22T14:07:22.617Z"
   },
   {
    "duration": 23,
    "start_time": "2023-10-22T14:07:34.433Z"
   },
   {
    "duration": 5,
    "start_time": "2023-10-22T14:08:35.498Z"
   },
   {
    "duration": 11,
    "start_time": "2023-10-22T14:24:27.247Z"
   },
   {
    "duration": 1259,
    "start_time": "2023-10-22T14:24:52.033Z"
   },
   {
    "duration": 223,
    "start_time": "2023-10-22T14:25:15.625Z"
   },
   {
    "duration": 218,
    "start_time": "2023-10-22T14:26:54.307Z"
   },
   {
    "duration": 224,
    "start_time": "2023-10-22T14:30:51.341Z"
   },
   {
    "duration": 237,
    "start_time": "2023-10-22T14:32:48.054Z"
   },
   {
    "duration": 220,
    "start_time": "2023-10-22T14:33:15.178Z"
   },
   {
    "duration": 235,
    "start_time": "2023-10-22T14:33:24.393Z"
   },
   {
    "duration": 228,
    "start_time": "2023-10-22T14:33:41.786Z"
   },
   {
    "duration": 231,
    "start_time": "2023-10-22T14:33:42.491Z"
   },
   {
    "duration": 24,
    "start_time": "2023-10-22T17:14:13.400Z"
   },
   {
    "duration": 208,
    "start_time": "2023-10-22T17:18:52.871Z"
   },
   {
    "duration": 22,
    "start_time": "2023-10-22T17:18:58.515Z"
   },
   {
    "duration": 23,
    "start_time": "2023-10-22T17:19:08.096Z"
   },
   {
    "duration": 23,
    "start_time": "2023-10-22T17:19:14.020Z"
   },
   {
    "duration": 22,
    "start_time": "2023-10-22T17:19:16.417Z"
   },
   {
    "duration": 34,
    "start_time": "2023-10-22T17:19:22.327Z"
   },
   {
    "duration": 27,
    "start_time": "2023-10-22T17:19:35.387Z"
   },
   {
    "duration": 31,
    "start_time": "2023-10-22T17:19:51.763Z"
   },
   {
    "duration": 42,
    "start_time": "2023-10-22T17:19:58.807Z"
   },
   {
    "duration": 27,
    "start_time": "2023-10-22T17:21:34.820Z"
   },
   {
    "duration": 12,
    "start_time": "2023-10-22T17:22:26.783Z"
   },
   {
    "duration": 16,
    "start_time": "2023-10-22T17:22:33.792Z"
   },
   {
    "duration": 14,
    "start_time": "2023-10-22T17:22:43.168Z"
   },
   {
    "duration": 23,
    "start_time": "2023-10-22T17:22:53.114Z"
   },
   {
    "duration": 22,
    "start_time": "2023-10-22T17:23:34.976Z"
   },
   {
    "duration": 23,
    "start_time": "2023-10-22T17:23:44.025Z"
   },
   {
    "duration": 26,
    "start_time": "2023-10-22T17:23:57.633Z"
   },
   {
    "duration": 13,
    "start_time": "2023-10-22T18:03:40.113Z"
   },
   {
    "duration": 12,
    "start_time": "2023-10-22T18:04:28.155Z"
   },
   {
    "duration": 12,
    "start_time": "2023-10-22T18:04:52.835Z"
   },
   {
    "duration": 13,
    "start_time": "2023-10-22T18:05:17.305Z"
   },
   {
    "duration": 132,
    "start_time": "2023-10-22T18:15:00.382Z"
   },
   {
    "duration": 12,
    "start_time": "2023-10-22T18:15:11.379Z"
   },
   {
    "duration": 1859,
    "start_time": "2023-10-22T18:22:23.680Z"
   },
   {
    "duration": 14,
    "start_time": "2023-10-22T18:22:27.387Z"
   },
   {
    "duration": 27,
    "start_time": "2023-10-22T18:22:41.728Z"
   },
   {
    "duration": 13,
    "start_time": "2023-10-22T18:22:43.063Z"
   },
   {
    "duration": 16,
    "start_time": "2023-10-22T18:22:45.127Z"
   },
   {
    "duration": 19,
    "start_time": "2023-10-22T18:24:06.173Z"
   },
   {
    "duration": 9,
    "start_time": "2023-10-22T18:25:04.782Z"
   },
   {
    "duration": 597,
    "start_time": "2023-10-22T18:28:41.797Z"
   },
   {
    "duration": 3,
    "start_time": "2023-10-22T18:28:58.679Z"
   },
   {
    "duration": 5,
    "start_time": "2023-10-22T22:31:06.715Z"
   },
   {
    "duration": 5,
    "start_time": "2023-10-22T22:32:10.178Z"
   },
   {
    "duration": 6,
    "start_time": "2023-10-22T22:32:26.057Z"
   },
   {
    "duration": 7,
    "start_time": "2023-10-22T22:32:36.104Z"
   },
   {
    "duration": 7,
    "start_time": "2023-10-22T22:40:25.631Z"
   },
   {
    "duration": 6,
    "start_time": "2023-10-22T22:40:47.616Z"
   },
   {
    "duration": 6,
    "start_time": "2023-10-22T22:41:09.067Z"
   },
   {
    "duration": 108,
    "start_time": "2023-10-22T22:55:14.122Z"
   },
   {
    "duration": 8,
    "start_time": "2023-10-22T22:55:22.177Z"
   },
   {
    "duration": 8,
    "start_time": "2023-10-22T22:55:29.522Z"
   },
   {
    "duration": 11,
    "start_time": "2023-10-22T22:56:17.643Z"
   },
   {
    "duration": 12,
    "start_time": "2023-10-22T22:57:16.244Z"
   },
   {
    "duration": 6,
    "start_time": "2023-10-22T22:57:30.188Z"
   },
   {
    "duration": 7,
    "start_time": "2023-10-22T22:57:38.979Z"
   },
   {
    "duration": 9,
    "start_time": "2023-10-22T22:58:47.585Z"
   },
   {
    "duration": 414,
    "start_time": "2023-10-22T22:59:03.121Z"
   },
   {
    "duration": 74,
    "start_time": "2023-10-22T22:59:03.537Z"
   },
   {
    "duration": 18,
    "start_time": "2023-10-22T22:59:03.613Z"
   },
   {
    "duration": 9,
    "start_time": "2023-10-22T22:59:03.634Z"
   },
   {
    "duration": 14,
    "start_time": "2023-10-22T22:59:03.644Z"
   },
   {
    "duration": 26,
    "start_time": "2023-10-22T22:59:03.659Z"
   },
   {
    "duration": 23,
    "start_time": "2023-10-22T22:59:03.687Z"
   },
   {
    "duration": 6,
    "start_time": "2023-10-22T22:59:03.712Z"
   },
   {
    "duration": 11,
    "start_time": "2023-10-22T22:59:03.719Z"
   },
   {
    "duration": 8,
    "start_time": "2023-10-22T22:59:03.733Z"
   },
   {
    "duration": 20,
    "start_time": "2023-10-22T22:59:03.742Z"
   },
   {
    "duration": 10,
    "start_time": "2023-10-22T22:59:03.764Z"
   },
   {
    "duration": 10,
    "start_time": "2023-10-22T22:59:03.776Z"
   },
   {
    "duration": 15,
    "start_time": "2023-10-22T22:59:03.788Z"
   },
   {
    "duration": 9,
    "start_time": "2023-10-22T22:59:03.805Z"
   },
   {
    "duration": 21,
    "start_time": "2023-10-22T22:59:03.816Z"
   },
   {
    "duration": 26,
    "start_time": "2023-10-22T22:59:03.839Z"
   },
   {
    "duration": 23,
    "start_time": "2023-10-22T22:59:03.867Z"
   },
   {
    "duration": 9,
    "start_time": "2023-10-22T22:59:03.892Z"
   },
   {
    "duration": 457,
    "start_time": "2023-10-22T22:59:03.902Z"
   },
   {
    "duration": 7,
    "start_time": "2023-10-22T22:59:04.361Z"
   },
   {
    "duration": 23,
    "start_time": "2023-10-22T22:59:04.369Z"
   },
   {
    "duration": 155,
    "start_time": "2023-10-22T22:59:04.394Z"
   },
   {
    "duration": 11,
    "start_time": "2023-10-22T22:59:04.551Z"
   },
   {
    "duration": 252,
    "start_time": "2023-10-22T22:59:04.565Z"
   },
   {
    "duration": 6,
    "start_time": "2023-10-22T22:59:04.820Z"
   },
   {
    "duration": 171,
    "start_time": "2023-10-22T22:59:04.827Z"
   },
   {
    "duration": 7,
    "start_time": "2023-10-22T22:59:05.002Z"
   },
   {
    "duration": 56,
    "start_time": "2023-10-22T22:59:05.011Z"
   },
   {
    "duration": 52,
    "start_time": "2023-10-22T22:59:05.069Z"
   },
   {
    "duration": 273,
    "start_time": "2023-10-22T22:59:05.123Z"
   },
   {
    "duration": 9,
    "start_time": "2023-10-22T22:59:05.397Z"
   },
   {
    "duration": 206,
    "start_time": "2023-10-22T22:59:05.408Z"
   },
   {
    "duration": 9,
    "start_time": "2023-10-22T22:59:05.616Z"
   },
   {
    "duration": 138,
    "start_time": "2023-10-22T22:59:05.626Z"
   },
   {
    "duration": 5,
    "start_time": "2023-10-22T22:59:05.766Z"
   },
   {
    "duration": 20,
    "start_time": "2023-10-22T22:59:05.772Z"
   },
   {
    "duration": 35,
    "start_time": "2023-10-22T22:59:05.794Z"
   },
   {
    "duration": 5,
    "start_time": "2023-10-22T22:59:05.831Z"
   },
   {
    "duration": 28,
    "start_time": "2023-10-22T22:59:05.838Z"
   },
   {
    "duration": 16,
    "start_time": "2023-10-22T22:59:05.868Z"
   },
   {
    "duration": 29,
    "start_time": "2023-10-22T22:59:05.886Z"
   },
   {
    "duration": 27,
    "start_time": "2023-10-22T22:59:05.917Z"
   },
   {
    "duration": 204,
    "start_time": "2023-10-22T22:59:05.946Z"
   },
   {
    "duration": 213,
    "start_time": "2023-10-22T22:59:06.156Z"
   },
   {
    "duration": 222,
    "start_time": "2023-10-22T22:59:06.372Z"
   },
   {
    "duration": 211,
    "start_time": "2023-10-22T22:59:06.596Z"
   },
   {
    "duration": 26,
    "start_time": "2023-10-22T22:59:06.809Z"
   },
   {
    "duration": 44,
    "start_time": "2023-10-22T22:59:06.837Z"
   },
   {
    "duration": 11,
    "start_time": "2023-10-22T22:59:06.883Z"
   },
   {
    "duration": 24,
    "start_time": "2023-10-22T22:59:06.895Z"
   },
   {
    "duration": 8,
    "start_time": "2023-10-22T22:59:06.920Z"
   },
   {
    "duration": 529,
    "start_time": "2023-10-22T22:59:06.930Z"
   },
   {
    "duration": 5,
    "start_time": "2023-10-22T22:59:07.461Z"
   },
   {
    "duration": 8,
    "start_time": "2023-10-22T22:59:07.468Z"
   },
   {
    "duration": 10,
    "start_time": "2023-10-22T22:59:07.477Z"
   },
   {
    "duration": 7,
    "start_time": "2023-10-22T22:59:07.489Z"
   },
   {
    "duration": 103,
    "start_time": "2023-10-22T23:01:37.355Z"
   },
   {
    "duration": 2475,
    "start_time": "2023-10-22T23:01:48.464Z"
   },
   {
    "duration": 0,
    "start_time": "2023-10-22T23:01:50.941Z"
   },
   {
    "duration": 0,
    "start_time": "2023-10-22T23:01:50.943Z"
   },
   {
    "duration": 7,
    "start_time": "2023-10-22T23:01:51.226Z"
   },
   {
    "duration": 6,
    "start_time": "2023-10-22T23:01:51.944Z"
   },
   {
    "duration": 11,
    "start_time": "2023-10-22T23:01:53.350Z"
   },
   {
    "duration": 10,
    "start_time": "2023-10-22T23:01:54.575Z"
   },
   {
    "duration": 17,
    "start_time": "2023-10-22T23:02:56.326Z"
   },
   {
    "duration": 10,
    "start_time": "2023-10-22T23:02:57.020Z"
   },
   {
    "duration": 3,
    "start_time": "2023-10-22T23:02:59.112Z"
   },
   {
    "duration": 7,
    "start_time": "2023-10-22T23:03:00.507Z"
   },
   {
    "duration": 7,
    "start_time": "2023-10-22T23:03:03.402Z"
   },
   {
    "duration": 9,
    "start_time": "2023-10-22T23:03:06.048Z"
   },
   {
    "duration": 10,
    "start_time": "2023-10-22T23:03:07.146Z"
   },
   {
    "duration": 6,
    "start_time": "2023-10-22T23:03:16.469Z"
   },
   {
    "duration": 8,
    "start_time": "2023-10-22T23:03:42.050Z"
   },
   {
    "duration": 67,
    "start_time": "2023-10-23T01:39:29.400Z"
   },
   {
    "duration": 66,
    "start_time": "2023-10-23T01:40:42.308Z"
   },
   {
    "duration": 67,
    "start_time": "2023-10-23T01:41:29.908Z"
   },
   {
    "duration": 66,
    "start_time": "2023-10-23T01:41:46.885Z"
   },
   {
    "duration": 12,
    "start_time": "2023-10-23T01:49:34.426Z"
   },
   {
    "duration": 10,
    "start_time": "2023-10-23T01:49:49.928Z"
   },
   {
    "duration": 6,
    "start_time": "2023-10-23T01:50:20.814Z"
   },
   {
    "duration": 10,
    "start_time": "2023-10-23T01:50:50.761Z"
   },
   {
    "duration": 11,
    "start_time": "2023-10-23T01:50:59.287Z"
   },
   {
    "duration": 7,
    "start_time": "2023-10-23T01:51:22.674Z"
   },
   {
    "duration": 170,
    "start_time": "2023-10-23T01:58:52.679Z"
   },
   {
    "duration": 173,
    "start_time": "2023-10-23T01:59:30.586Z"
   },
   {
    "duration": 182,
    "start_time": "2023-10-23T01:59:40.290Z"
   },
   {
    "duration": 171,
    "start_time": "2023-10-23T01:59:50.790Z"
   },
   {
    "duration": 202,
    "start_time": "2023-10-23T02:00:03.309Z"
   },
   {
    "duration": 164,
    "start_time": "2023-10-23T02:00:21.237Z"
   },
   {
    "duration": 197,
    "start_time": "2023-10-23T02:00:52.851Z"
   },
   {
    "duration": 306,
    "start_time": "2023-10-23T02:01:01.702Z"
   },
   {
    "duration": 175,
    "start_time": "2023-10-23T02:01:12.494Z"
   },
   {
    "duration": 175,
    "start_time": "2023-10-23T02:01:35.443Z"
   },
   {
    "duration": 167,
    "start_time": "2023-10-23T02:02:14.667Z"
   },
   {
    "duration": 171,
    "start_time": "2023-10-23T02:02:24.874Z"
   },
   {
    "duration": 420,
    "start_time": "2023-10-23T11:52:21.462Z"
   },
   {
    "duration": 81,
    "start_time": "2023-10-23T11:52:21.884Z"
   },
   {
    "duration": 17,
    "start_time": "2023-10-23T11:52:21.967Z"
   },
   {
    "duration": 52,
    "start_time": "2023-10-23T11:52:21.987Z"
   },
   {
    "duration": 33,
    "start_time": "2023-10-23T11:52:22.042Z"
   },
   {
    "duration": 107,
    "start_time": "2023-10-23T11:52:22.077Z"
   },
   {
    "duration": 103,
    "start_time": "2023-10-23T11:52:22.186Z"
   },
   {
    "duration": 54,
    "start_time": "2023-10-23T11:52:22.290Z"
   },
   {
    "duration": 97,
    "start_time": "2023-10-23T11:52:22.347Z"
   },
   {
    "duration": 47,
    "start_time": "2023-10-23T11:52:22.449Z"
   },
   {
    "duration": 18,
    "start_time": "2023-10-23T11:52:22.497Z"
   },
   {
    "duration": 31,
    "start_time": "2023-10-23T11:52:22.516Z"
   },
   {
    "duration": 27,
    "start_time": "2023-10-23T11:52:22.550Z"
   },
   {
    "duration": 21,
    "start_time": "2023-10-23T11:52:22.579Z"
   },
   {
    "duration": 17,
    "start_time": "2023-10-23T11:52:22.601Z"
   },
   {
    "duration": 42,
    "start_time": "2023-10-23T11:52:22.619Z"
   },
   {
    "duration": 26,
    "start_time": "2023-10-23T11:52:22.662Z"
   },
   {
    "duration": 63,
    "start_time": "2023-10-23T11:52:22.689Z"
   },
   {
    "duration": 182,
    "start_time": "2023-10-23T11:52:22.754Z"
   },
   {
    "duration": 463,
    "start_time": "2023-10-23T11:52:22.940Z"
   },
   {
    "duration": 6,
    "start_time": "2023-10-23T11:52:23.405Z"
   },
   {
    "duration": 58,
    "start_time": "2023-10-23T11:52:23.412Z"
   },
   {
    "duration": 154,
    "start_time": "2023-10-23T11:52:23.472Z"
   },
   {
    "duration": 7,
    "start_time": "2023-10-23T11:52:23.628Z"
   },
   {
    "duration": 302,
    "start_time": "2023-10-23T11:52:23.637Z"
   },
   {
    "duration": 8,
    "start_time": "2023-10-23T11:52:23.942Z"
   },
   {
    "duration": 235,
    "start_time": "2023-10-23T11:52:23.952Z"
   },
   {
    "duration": 6,
    "start_time": "2023-10-23T11:52:24.191Z"
   },
   {
    "duration": 42,
    "start_time": "2023-10-23T11:52:24.199Z"
   },
   {
    "duration": 14,
    "start_time": "2023-10-23T11:52:24.242Z"
   },
   {
    "duration": 261,
    "start_time": "2023-10-23T11:52:24.258Z"
   },
   {
    "duration": 11,
    "start_time": "2023-10-23T11:52:24.521Z"
   },
   {
    "duration": 357,
    "start_time": "2023-10-23T11:52:24.533Z"
   },
   {
    "duration": 10,
    "start_time": "2023-10-23T11:52:24.892Z"
   },
   {
    "duration": 167,
    "start_time": "2023-10-23T11:52:24.903Z"
   },
   {
    "duration": 4,
    "start_time": "2023-10-23T11:52:25.071Z"
   },
   {
    "duration": 43,
    "start_time": "2023-10-23T11:52:25.077Z"
   },
   {
    "duration": 55,
    "start_time": "2023-10-23T11:52:25.122Z"
   },
   {
    "duration": 4,
    "start_time": "2023-10-23T11:52:25.178Z"
   },
   {
    "duration": 50,
    "start_time": "2023-10-23T11:52:25.183Z"
   },
   {
    "duration": 96,
    "start_time": "2023-10-23T11:52:25.235Z"
   },
   {
    "duration": 129,
    "start_time": "2023-10-23T11:52:25.333Z"
   },
   {
    "duration": 81,
    "start_time": "2023-10-23T11:52:25.463Z"
   },
   {
    "duration": 231,
    "start_time": "2023-10-23T11:52:25.545Z"
   },
   {
    "duration": 262,
    "start_time": "2023-10-23T11:52:25.778Z"
   },
   {
    "duration": 279,
    "start_time": "2023-10-23T11:52:26.043Z"
   },
   {
    "duration": 220,
    "start_time": "2023-10-23T11:52:26.323Z"
   },
   {
    "duration": 27,
    "start_time": "2023-10-23T11:52:26.544Z"
   },
   {
    "duration": 87,
    "start_time": "2023-10-23T11:52:26.573Z"
   },
   {
    "duration": 189,
    "start_time": "2023-10-23T11:52:26.662Z"
   },
   {
    "duration": 74,
    "start_time": "2023-10-23T11:52:26.853Z"
   },
   {
    "duration": 85,
    "start_time": "2023-10-23T11:52:26.930Z"
   },
   {
    "duration": 629,
    "start_time": "2023-10-23T11:52:27.017Z"
   },
   {
    "duration": 5,
    "start_time": "2023-10-23T11:52:27.649Z"
   },
   {
    "duration": 59,
    "start_time": "2023-10-23T11:52:27.655Z"
   },
   {
    "duration": 25,
    "start_time": "2023-10-23T11:52:27.715Z"
   },
   {
    "duration": 10,
    "start_time": "2023-10-23T11:52:27.743Z"
   },
   {
    "duration": 78,
    "start_time": "2023-10-23T11:52:27.755Z"
   },
   {
    "duration": 87,
    "start_time": "2023-10-23T11:52:27.837Z"
   },
   {
    "duration": 501,
    "start_time": "2023-10-23T11:52:27.927Z"
   },
   {
    "duration": 221,
    "start_time": "2023-10-23T11:52:48.655Z"
   },
   {
    "duration": 236,
    "start_time": "2023-10-23T11:52:50.651Z"
   },
   {
    "duration": 419,
    "start_time": "2023-10-23T15:29:32.818Z"
   },
   {
    "duration": 310,
    "start_time": "2023-10-23T15:29:33.240Z"
   },
   {
    "duration": 16,
    "start_time": "2023-10-23T15:29:33.552Z"
   },
   {
    "duration": 9,
    "start_time": "2023-10-23T15:29:33.570Z"
   },
   {
    "duration": 31,
    "start_time": "2023-10-23T15:29:33.580Z"
   },
   {
    "duration": 12,
    "start_time": "2023-10-23T15:29:33.612Z"
   },
   {
    "duration": 20,
    "start_time": "2023-10-23T15:29:33.626Z"
   },
   {
    "duration": 5,
    "start_time": "2023-10-23T15:29:33.647Z"
   },
   {
    "duration": 14,
    "start_time": "2023-10-23T15:29:33.653Z"
   },
   {
    "duration": 5,
    "start_time": "2023-10-23T15:29:33.669Z"
   },
   {
    "duration": 15,
    "start_time": "2023-10-23T15:29:33.676Z"
   },
   {
    "duration": 12,
    "start_time": "2023-10-23T15:29:33.693Z"
   },
   {
    "duration": 8,
    "start_time": "2023-10-23T15:29:33.707Z"
   },
   {
    "duration": 17,
    "start_time": "2023-10-23T15:29:33.717Z"
   },
   {
    "duration": 6,
    "start_time": "2023-10-23T15:29:33.736Z"
   },
   {
    "duration": 26,
    "start_time": "2023-10-23T15:29:33.744Z"
   },
   {
    "duration": 12,
    "start_time": "2023-10-23T15:29:33.772Z"
   },
   {
    "duration": 13,
    "start_time": "2023-10-23T15:29:33.786Z"
   },
   {
    "duration": 4,
    "start_time": "2023-10-23T15:29:33.801Z"
   },
   {
    "duration": 634,
    "start_time": "2023-10-23T15:29:33.807Z"
   },
   {
    "duration": 7,
    "start_time": "2023-10-23T15:29:34.443Z"
   },
   {
    "duration": 32,
    "start_time": "2023-10-23T15:29:34.451Z"
   },
   {
    "duration": 148,
    "start_time": "2023-10-23T15:29:34.484Z"
   },
   {
    "duration": 7,
    "start_time": "2023-10-23T15:29:34.634Z"
   },
   {
    "duration": 263,
    "start_time": "2023-10-23T15:29:34.642Z"
   },
   {
    "duration": 4,
    "start_time": "2023-10-23T15:29:34.908Z"
   },
   {
    "duration": 219,
    "start_time": "2023-10-23T15:29:34.914Z"
   },
   {
    "duration": 6,
    "start_time": "2023-10-23T15:29:35.137Z"
   },
   {
    "duration": 23,
    "start_time": "2023-10-23T15:29:35.145Z"
   },
   {
    "duration": 16,
    "start_time": "2023-10-23T15:29:35.170Z"
   },
   {
    "duration": 213,
    "start_time": "2023-10-23T15:29:35.188Z"
   },
   {
    "duration": 8,
    "start_time": "2023-10-23T15:29:35.403Z"
   },
   {
    "duration": 230,
    "start_time": "2023-10-23T15:29:35.413Z"
   },
   {
    "duration": 9,
    "start_time": "2023-10-23T15:29:35.645Z"
   },
   {
    "duration": 133,
    "start_time": "2023-10-23T15:29:35.655Z"
   },
   {
    "duration": 4,
    "start_time": "2023-10-23T15:29:35.790Z"
   },
   {
    "duration": 63,
    "start_time": "2023-10-23T15:29:35.796Z"
   },
   {
    "duration": 39,
    "start_time": "2023-10-23T15:29:35.861Z"
   },
   {
    "duration": 32,
    "start_time": "2023-10-23T15:29:35.901Z"
   },
   {
    "duration": 28,
    "start_time": "2023-10-23T15:29:35.934Z"
   },
   {
    "duration": 20,
    "start_time": "2023-10-23T15:29:35.963Z"
   },
   {
    "duration": 17,
    "start_time": "2023-10-23T15:29:35.985Z"
   },
   {
    "duration": 21,
    "start_time": "2023-10-23T15:29:36.004Z"
   },
   {
    "duration": 228,
    "start_time": "2023-10-23T15:29:36.027Z"
   },
   {
    "duration": 220,
    "start_time": "2023-10-23T15:29:36.257Z"
   },
   {
    "duration": 230,
    "start_time": "2023-10-23T15:29:36.479Z"
   },
   {
    "duration": 213,
    "start_time": "2023-10-23T15:29:36.710Z"
   },
   {
    "duration": 21,
    "start_time": "2023-10-23T15:29:36.925Z"
   },
   {
    "duration": 44,
    "start_time": "2023-10-23T15:29:36.948Z"
   },
   {
    "duration": 11,
    "start_time": "2023-10-23T15:29:36.994Z"
   },
   {
    "duration": 37,
    "start_time": "2023-10-23T15:29:37.006Z"
   },
   {
    "duration": 7,
    "start_time": "2023-10-23T15:29:37.045Z"
   },
   {
    "duration": 539,
    "start_time": "2023-10-23T15:29:37.054Z"
   },
   {
    "duration": 5,
    "start_time": "2023-10-23T15:29:37.595Z"
   },
   {
    "duration": 26,
    "start_time": "2023-10-23T15:29:37.601Z"
   },
   {
    "duration": 47,
    "start_time": "2023-10-23T15:29:37.629Z"
   },
   {
    "duration": 11,
    "start_time": "2023-10-23T15:29:37.678Z"
   },
   {
    "duration": 80,
    "start_time": "2023-10-23T15:29:37.691Z"
   },
   {
    "duration": 6,
    "start_time": "2023-10-23T15:29:37.773Z"
   },
   {
    "duration": 296,
    "start_time": "2023-10-23T15:29:37.780Z"
   },
   {
    "duration": 25,
    "start_time": "2023-10-23T15:32:19.170Z"
   },
   {
    "duration": 6,
    "start_time": "2023-10-23T15:34:28.950Z"
   },
   {
    "duration": 158,
    "start_time": "2023-10-23T15:36:09.729Z"
   },
   {
    "duration": 132,
    "start_time": "2023-10-23T15:37:25.292Z"
   },
   {
    "duration": 272,
    "start_time": "2023-10-23T15:37:55.175Z"
   },
   {
    "duration": 192,
    "start_time": "2023-10-23T15:38:23.872Z"
   },
   {
    "duration": 205,
    "start_time": "2023-10-23T15:39:04.366Z"
   },
   {
    "duration": 216,
    "start_time": "2023-10-23T15:39:35.988Z"
   },
   {
    "duration": 365,
    "start_time": "2023-10-23T15:39:42.961Z"
   },
   {
    "duration": 122,
    "start_time": "2023-10-23T15:40:49.003Z"
   },
   {
    "duration": 132,
    "start_time": "2023-10-23T15:40:56.541Z"
   },
   {
    "duration": 14,
    "start_time": "2023-10-23T15:47:49.495Z"
   },
   {
    "duration": 9,
    "start_time": "2023-10-23T15:48:24.560Z"
   },
   {
    "duration": 27,
    "start_time": "2023-10-23T15:49:52.162Z"
   },
   {
    "duration": 211,
    "start_time": "2023-10-23T15:50:22.515Z"
   },
   {
    "duration": 312,
    "start_time": "2023-10-23T15:51:56.779Z"
   },
   {
    "duration": 224,
    "start_time": "2023-10-23T15:52:04.804Z"
   }
  ],
  "kernelspec": {
   "display_name": "Python 3 (ipykernel)",
   "language": "python",
   "name": "python3"
  },
  "language_info": {
   "codemirror_mode": {
    "name": "ipython",
    "version": 3
   },
   "file_extension": ".py",
   "mimetype": "text/x-python",
   "name": "python",
   "nbconvert_exporter": "python",
   "pygments_lexer": "ipython3",
   "version": "3.9.5"
  },
  "toc": {
   "base_numbering": 1,
   "nav_menu": {},
   "number_sections": true,
   "sideBar": true,
   "skip_h1_title": true,
   "title_cell": "Table of Contents",
   "title_sidebar": "Contents",
   "toc_cell": false,
   "toc_position": {},
   "toc_section_display": true,
   "toc_window_display": false
  }
 },
 "nbformat": 4,
 "nbformat_minor": 5
}
